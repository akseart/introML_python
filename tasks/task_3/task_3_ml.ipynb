{
 "cells": [
  {
   "attachments": {},
   "cell_type": "markdown",
   "metadata": {
    "collapsed": false
   },
   "source": [
    "# Введение в методы анализа данных. Язык Python."
   ]
  },
  {
   "attachments": {},
   "cell_type": "markdown",
   "metadata": {
    "collapsed": false
   },
   "source": [
    "## Домашняя работа 3: Машинное обучение\n",
    "\n"
   ]
  },
  {
   "attachments": {},
   "cell_type": "markdown",
   "metadata": {
    "collapsed": false
   },
   "source": [
    "__Выдана__: 23.03.2024\n",
    "\n",
    "__Deadline__: 23:59 30.03.2024\n",
    "\n",
    "Готовые решения отправлять на почты преподавателей (на обе почты)."
   ]
  },
  {
   "attachments": {},
   "cell_type": "markdown",
   "metadata": {
    "collapsed": false
   },
   "source": [
    "__ФИО:__ ..."
   ]
  },
  {
   "attachments": {},
   "cell_type": "markdown",
   "metadata": {
    "collapsed": false
   },
   "source": [
    "## Критерии оценивания:\n",
    "- Правильность исполнения кода\n",
    "- Корректное исполнение на граничных случаях\n",
    "- Соблюдение PEP-8 и именования переменных\n",
    "\n",
    "Всего за работу можно получить 30 баллов.\n",
    "\n",
    "Изменение формулировок заданий, удаление фрагментов заданий запрещено.\n",
    "\n",
    "Удаление строк (сэмплов данных) из тестового набора данных запрещено.\n",
    "\n",
    "Обучение модели с использованием данных из тестового набора данных запрещено.\n",
    "\n",
    "Все ячейки должны быть \"выполненными\".\n",
    "\n",
    "При заимствовании кода из интернета, необходимо указать ссылку на ресурс.\n",
    "\n",
    "\n"
   ]
  },
  {
   "cell_type": "markdown",
   "metadata": {},
   "source": [
    "Ссылка на соревнование Kaggle: https://www.kaggle.com/competitions/home-data-for-ml-course"
   ]
  },
  {
   "attachments": {},
   "cell_type": "markdown",
   "metadata": {},
   "source": [
    "**Задание.** (20 баллов)\n",
    "Загрузить и предобработать данные для обучения и теста. Затем обучить модель предсказывать цену для недвижимости и оценить её качество с помощью метрики RMSE. Условием выполнения задания будет метрика RMSE (для получения хотя бы какого-то количества баллов в случае отличного значения метрики все равно требуется обучение модели и вывод получившейся метрики) со значением не больше 45 000 для тестового набора данных. Для подтверждения достижения заданного значения необходимо сохранить вывод кода с вычислением данной метрики в этой тетради. \n",
    "\n",
    "**Дополнительно (10 баллов):** получить лучшую модель с RMSE ниже, чем в предыдущем задании. Баллы начисляются в зависимости от степени улучшения (например, если получится понизить показатель до ~5 000, то 10 баллов, если получиться улучшить вдвое, то 5, баллы зачисляются, начиная с 35 000 для теста). Таким образом, за каждые 3 000 дается 1 балл.\n",
    "\n",
    "__Подсказки по предобработке данных__:\n",
    "- попробовать найти пропущенные значения и обработать их;\n",
    "- попробовать удалить выбросы (например, с помощью [Local Outlier Factor (LOF)](https://scikit-learn.org/stable/auto_examples/neighbors/plot_lof_outlier_detection.html) или вручную);\n",
    "- попробовать обнаружить неважные признаки и обработать их (удалить);\n",
    "- попробовать создать новый признак, использую информацию из других признаков;\n",
    "- описание каждого признака можно найти по ссылке на Kaggle сверху (предсказываемая колонка в таблице - SalePrice).\n",
    "\n",
    "__Подсказки по обучению моделей__:\n",
    "- определить, какого рода задача (задача регрессии или классификации);\n",
    "- пробовать обучить разные модели ([DecisionTreeRegressor](https://scikit-learn.org/stable/modules/generated/sklearn.tree.DecisionTreeRegressor.html), [LinearRegression](https://scikit-learn.org/stable/modules/generated/sklearn.linear_model.LinearRegression.html) и т.д.);\n",
    "- использовать `GridSearchCV` для перебора гиперпараметров модели;\n",
    "- обучать необходимо только на обучающей части (на тестовой происходит только оценка RMSE).\n",
    "\n",
    "\n",
    "__Пример вычисления RMSE__:\n",
    "\n",
    "`mean_squared_error(model.predict(X_test), y_test, squared=False)`\n",
    "\n",
    "__Примечание__: весь код с экспериментами сохранять не нужно, в полностью оформленной тетрадке необходимо написать код предобработки данных, обучения модели (наилучшей) и выводы результатов."
   ]
  },
  {
   "cell_type": "code",
   "execution_count": 19,
   "metadata": {},
   "outputs": [],
   "source": [
    "import pandas as pd\n",
    "\n",
    "# Данные выкладываются в формате csv вместе с этой тетрадью\n",
    "path_to_train = \"...\"\n",
    "path_to_test = \"...\"\n",
    "\n",
    "train_df = pd.read_csv(path_to_train)\n",
    "test_df = pd.read_csv(path_to_test)"
   ]
  },
  {
   "cell_type": "code",
   "execution_count": null,
   "metadata": {},
   "outputs": [],
   "source": [
    "# Здесь какая-либо предобработка\n"
   ]
  },
  {
   "cell_type": "code",
   "execution_count": null,
   "metadata": {},
   "outputs": [],
   "source": [
    "from sklearn.tree import DecisionTreeRegressor\n",
    "from sklearn.linear_model import LinearRegression\n",
    "from sklearn.metrics import mean_squared_error\n",
    "\n",
    "\n",
    "model = ...\n",
    "model.fit(X_train, y_train)"
   ]
  },
  {
   "cell_type": "code",
   "execution_count": null,
   "metadata": {},
   "outputs": [],
   "source": [
    "print(\"Train RMSE:\", mean_squared_error(model.predict(X_train), y_train, squared=False))\n",
    "print(\"Test RMSE:\", mean_squared_error(model.predict(X_test), y_test, squared=False))"
   ]
  }
 ],
 "metadata": {
  "interpreter": {
   "hash": "e7cb1b9ae4d417fedf7f40a8eec98f7cfbd359e096bd857395a915f4609834ce"
  },
  "kernelspec": {
   "display_name": "Python 3.8.11 ('base')",
   "language": "python",
   "name": "python3"
  },
  "language_info": {
   "codemirror_mode": {
    "name": "ipython",
    "version": 3
   },
   "file_extension": ".py",
   "mimetype": "text/x-python",
   "name": "python",
   "nbconvert_exporter": "python",
   "pygments_lexer": "ipython3",
   "version": "3.8.13"
  },
  "orig_nbformat": 4
 },
 "nbformat": 4,
 "nbformat_minor": 2
}

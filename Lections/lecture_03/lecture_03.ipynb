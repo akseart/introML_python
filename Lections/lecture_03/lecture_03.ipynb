{
 "cells": [
  {
   "cell_type": "markdown",
   "metadata": {
    "collapsed": false
   },
   "source": [
    "# Введение в методы анализа данных. Язык Python."
   ]
  },
  {
   "cell_type": "markdown",
   "metadata": {
    "collapsed": false
   },
   "source": [
    "## Лекция 3. Объектно-ориентированное программирование"
   ]
  },
  {
   "cell_type": "markdown",
   "id": "6bb1445b",
   "metadata": {},
   "source": [
    "__Аксентьев Артем (akseart@ya.ru)__\n",
    "\n",
    "__Ксемидов Борис (bworkboris@yandex.ru)__"
   ]
  },
  {
   "cell_type": "markdown",
   "id": "concerned-zoning",
   "metadata": {},
   "source": [
    "ООП - методология программирования, основанная на представлении программы в виде совокупности взаимодействующих объектов, каждый из которых является экземпляром определённого класса. "
   ]
  },
  {
   "cell_type": "markdown",
   "id": "adapted-burst",
   "metadata": {},
   "source": [
    "## Пример класса"
   ]
  },
  {
   "cell_type": "code",
   "execution_count": 2,
   "id": "compact-generator",
   "metadata": {},
   "outputs": [
    {
     "name": "stdout",
     "output_type": "stream",
     "text": [
      "0\n",
      "1\n",
      "0\n"
     ]
    }
   ],
   "source": [
    "class Basket:\n",
    "    def __init__(self):\n",
    "        self.num_apple = 0\n",
    "\n",
    "    def method_1(self):\n",
    "        self.num_apple += 1\n",
    "\n",
    "    def method_2(self):\n",
    "        if self.num_apple > 0:\n",
    "            self.num_apple -= 1\n",
    "\n",
    "\n",
    "b = Basket()\n",
    "print(b.num_apple)\n",
    "b.method_1()\n",
    "print(b.num_apple)\n",
    "b.method_2()\n",
    "print(b.num_apple)"
   ]
  },
  {
   "cell_type": "markdown",
   "id": "wrapped-poker",
   "metadata": {},
   "source": [
    "## Принципы ООП"
   ]
  },
  {
   "cell_type": "markdown",
   "id": "arbitrary-script",
   "metadata": {},
   "source": [
    "- абстракция (выделение существенных характеристик объекта и игнорирование остальных);\n",
    "- инкапсуляция (хранение данных и методов, которые работают с ними);\n",
    "- наследование (возможность наследовать данные и методы, то есть создание наследников, наследующих данные и методы, для переопределения или для расширения функционала);\n",
    "- полиморфизм (позволяет использовать один и тот же участок программы с различными типами)."
   ]
  },
  {
   "cell_type": "code",
   "execution_count": 6,
   "id": "dad0c2e8",
   "metadata": {},
   "outputs": [],
   "source": [
    "class Person:\n",
    "    def __init__(self, name):\n",
    "        self.set_name(name)\n",
    "\n",
    "    def set_name(self, name):\n",
    "        if len(name) != 0:\n",
    "            self.name = name\n",
    "        else:\n",
    "            raise ValueError(\"Некорректное имя\")\n",
    "\n",
    "    def name(self):\n",
    "        return self.name"
   ]
  },
  {
   "cell_type": "code",
   "execution_count": 8,
   "id": "2a09cb16",
   "metadata": {},
   "outputs": [
    {
     "name": "stdout",
     "output_type": "stream",
     "text": [
      "Jack\n"
     ]
    }
   ],
   "source": [
    "p = Person(\"Jack\")\n",
    "print(p.name)"
   ]
  },
  {
   "cell_type": "code",
   "execution_count": 9,
   "id": "a7d06283",
   "metadata": {},
   "outputs": [],
   "source": [
    "p.name = \"\""
   ]
  },
  {
   "cell_type": "code",
   "execution_count": 7,
   "id": "ec8ed507",
   "metadata": {},
   "outputs": [],
   "source": [
    "class Person:\n",
    "    def __init__(self, name):\n",
    "        self.set_name(name)\n",
    "\n",
    "    def set_name(self, name):\n",
    "        if len(name) != 0:\n",
    "            self.__name = name\n",
    "        else:\n",
    "            raise ValueError(\"Некорректное имя\")\n",
    "\n",
    "    def name(self):\n",
    "        return self.__name"
   ]
  },
  {
   "cell_type": "code",
   "execution_count": 8,
   "id": "ff566cb3",
   "metadata": {},
   "outputs": [
    {
     "ename": "AttributeError",
     "evalue": "'Person' object has no attribute '__name'",
     "output_type": "error",
     "traceback": [
      "\u001b[0;31m---------------------------------------------------------------------------\u001b[0m",
      "\u001b[0;31mAttributeError\u001b[0m                            Traceback (most recent call last)",
      "\u001b[1;32m/Users/donsangre/intro_ML_Python/lectures/Lection_2_OOP/Lection2.ipynb Ячейка 11\u001b[0m in \u001b[0;36m<cell line: 2>\u001b[0;34m()\u001b[0m\n\u001b[1;32m      <a href='vscode-notebook-cell:/Users/donsangre/intro_ML_Python/lectures/Lection_2_OOP/Lection2.ipynb#X13sZmlsZQ%3D%3D?line=0'>1</a>\u001b[0m p \u001b[39m=\u001b[39m Person(\u001b[39m\"\u001b[39m\u001b[39mJack\u001b[39m\u001b[39m\"\u001b[39m)\n\u001b[0;32m----> <a href='vscode-notebook-cell:/Users/donsangre/intro_ML_Python/lectures/Lection_2_OOP/Lection2.ipynb#X13sZmlsZQ%3D%3D?line=1'>2</a>\u001b[0m p\u001b[39m.\u001b[39;49m__name\n",
      "\u001b[0;31mAttributeError\u001b[0m: 'Person' object has no attribute '__name'"
     ]
    }
   ],
   "source": [
    "p = Person(\"Jack\")\n",
    "p.__name"
   ]
  },
  {
   "cell_type": "code",
   "execution_count": null,
   "id": "d96f8ae5",
   "metadata": {},
   "outputs": [
    {
     "name": "stdout",
     "output_type": "stream",
     "text": [
      "Old name: Jack\n",
      "New name: \n"
     ]
    }
   ],
   "source": [
    "print(\"Old name:\", p._Person__name)\n",
    "p._Person__name = \"\"\n",
    "print(\"New name:\", p._Person__name)\n"
   ]
  },
  {
   "cell_type": "code",
   "execution_count": null,
   "id": "d852d1b7",
   "metadata": {},
   "outputs": [],
   "source": [
    "p._Person__name = \"Jack\""
   ]
  },
  {
   "cell_type": "code",
   "execution_count": null,
   "id": "6fbfb61a",
   "metadata": {},
   "outputs": [
    {
     "name": "stdout",
     "output_type": "stream",
     "text": [
      "__name\n",
      "Jack\n"
     ]
    }
   ],
   "source": [
    "p.__name = \"__name\"\n",
    "print(p.__name)\n",
    "print(p._Person__name)"
   ]
  },
  {
   "cell_type": "markdown",
   "id": "driving-bunny",
   "metadata": {},
   "source": [
    "## Отношения между классами"
   ]
  },
  {
   "cell_type": "markdown",
   "id": "vietnamese-encounter",
   "metadata": {},
   "source": [
    "### Наследование"
   ]
  },
  {
   "cell_type": "code",
   "execution_count": null,
   "id": "modular-involvement",
   "metadata": {},
   "outputs": [],
   "source": [
    "class Student(Person):\n",
    "    def __init__(self, name, num_class, type_class):\n",
    "        super(Student, self).__init__(name)\n",
    "        self.set_class(num_class, type_class)\n",
    "        \n",
    "    def set_class(self, num_class, type_class):\n",
    "        type_class = type_class.upper()\n",
    "        if (num_class > 0 and num_class < 12):\n",
    "            if (type_class >= \"А\" and type_class <= \"Я\" and len(type_class) == 1):\n",
    "                self._num_class = num_class\n",
    "                self._type_class = type_class\n",
    "            else:\n",
    "                raise ValueError(\"Некорректная буква класса - {}\".format(type_class))\n",
    "        else:\n",
    "            raise ValueError(\"Некорректный номер класса - {}\".format(num_class))\n",
    "            \n",
    "    def get_class(self):\n",
    "        return \"{}-{}\".format(self._num_class, self._type_class)\n",
    "\n",
    "\n",
    "class Teacher(Person):\n",
    "    def __init__(self, name, subject):\n",
    "        super(Teacher, self).__init__(name)\n",
    "        self.set_subject(subject)\n",
    "\n",
    "    def set_subject(self, subject):\n",
    "        if len(subject) != 0:\n",
    "            self._subject = subject\n",
    "        else:\n",
    "            raise TypeError(\"Некорректное название предмета\")\n",
    "            \n",
    "    def subject(self):\n",
    "        return self._subject"
   ]
  },
  {
   "cell_type": "code",
   "execution_count": null,
   "id": "aquatic-flower",
   "metadata": {},
   "outputs": [
    {
     "name": "stdout",
     "output_type": "stream",
     "text": [
      "Петя 5-А\n",
      "Мария Николаевна Литература\n"
     ]
    }
   ],
   "source": [
    "student = Student(\"Петя\", 5, \"А\")\n",
    "print(student.name(),\n",
    "      student.get_class())\n",
    "teacher = Teacher(\"Мария Николаевна\", \"Литература\")\n",
    "print(teacher.name(),\n",
    "      teacher.subject())"
   ]
  },
  {
   "cell_type": "markdown",
   "id": "yellow-mapping",
   "metadata": {},
   "source": [
    "### Интерфейсы"
   ]
  },
  {
   "cell_type": "markdown",
   "id": "victorian-audit",
   "metadata": {},
   "source": [
    "Интерфейс - класс, описывающий поведение (множество методов, которые каждый класс, использующий интерфейс, должен реализовывать)."
   ]
  },
  {
   "cell_type": "code",
   "execution_count": null,
   "id": "formed-somalia",
   "metadata": {},
   "outputs": [],
   "source": [
    "def run(vehicle):\n",
    "    print(\"Садимся в транспорт.\")\n",
    "    print(\"Заводим его.\")\n",
    "    vehicle.start_engine()\n",
    "    print(\"Поехали.\")"
   ]
  },
  {
   "cell_type": "code",
   "execution_count": null,
   "id": "modified-vinyl",
   "metadata": {},
   "outputs": [],
   "source": [
    "from abc import ABC, abstractmethod\n",
    "\n",
    "class IVehicle(ABC):\n",
    "    @abstractmethod\n",
    "    def start_engine():\n",
    "        pass"
   ]
  },
  {
   "cell_type": "code",
   "execution_count": null,
   "id": "streaming-lindsay",
   "metadata": {},
   "outputs": [
    {
     "ename": "TypeError",
     "evalue": "Can't instantiate abstract class IVehicle with abstract methods start_engine",
     "output_type": "error",
     "traceback": [
      "\u001b[0;31m---------------------------------------------------------------------------\u001b[0m",
      "\u001b[0;31mTypeError\u001b[0m                                 Traceback (most recent call last)",
      "\u001b[0;32m<ipython-input-173-f833a3fb7030>\u001b[0m in \u001b[0;36m<module>\u001b[0;34m\u001b[0m\n\u001b[0;32m----> 1\u001b[0;31m \u001b[0mvehicle\u001b[0m \u001b[0;34m=\u001b[0m \u001b[0mIVehicle\u001b[0m\u001b[0;34m(\u001b[0m\u001b[0;34m)\u001b[0m\u001b[0;34m\u001b[0m\u001b[0;34m\u001b[0m\u001b[0m\n\u001b[0m",
      "\u001b[0;31mTypeError\u001b[0m: Can't instantiate abstract class IVehicle with abstract methods start_engine"
     ]
    }
   ],
   "source": [
    "vehicle = IVehicle()"
   ]
  },
  {
   "cell_type": "code",
   "execution_count": null,
   "id": "sixth-nirvana",
   "metadata": {},
   "outputs": [
    {
     "name": "stdout",
     "output_type": "stream",
     "text": [
      "Садимся в транспорт.\n",
      "Заводим его.\n",
      "Машина завелась.\n",
      "Поехали.\n"
     ]
    }
   ],
   "source": [
    "class Bus(IVehicle):\n",
    "    def start_engine(self):\n",
    "        print(\"Автобус завелся.\")\n",
    "\n",
    "class Auto(IVehicle):\n",
    "    def start_engine(self):\n",
    "        print(\"Машина завелась.\")\n",
    "    \n",
    "vehicle = Auto()\n",
    "run(vehicle)"
   ]
  },
  {
   "cell_type": "markdown",
   "id": "statistical-sellers",
   "metadata": {},
   "source": [
    "### Абстрактный класс"
   ]
  },
  {
   "cell_type": "markdown",
   "id": "included-gibraltar",
   "metadata": {},
   "source": [
    "Абстрактный класс - класс, содержащий методы, которые не имеют реализации."
   ]
  },
  {
   "cell_type": "code",
   "execution_count": null,
   "id": "injured-receptor",
   "metadata": {},
   "outputs": [],
   "source": [
    "from abc import ABC, abstractmethod\n",
    "\n",
    "class Object(ABC):\n",
    "    def __init__(self, x, y):\n",
    "        self._x = x\n",
    "        self._y = y\n",
    "        \n",
    "    def x(self):\n",
    "        return self._x\n",
    "    \n",
    "    def y(self):\n",
    "        return self._y\n",
    "    \n",
    "    def move_to(self, x, y):\n",
    "        self._x = x\n",
    "        self._y = y\n",
    "        \n",
    "    @abstractmethod\n",
    "    def draw(self):\n",
    "        pass"
   ]
  },
  {
   "cell_type": "code",
   "execution_count": null,
   "id": "adequate-behalf",
   "metadata": {},
   "outputs": [
    {
     "ename": "TypeError",
     "evalue": "Can't instantiate abstract class Object with abstract methods draw",
     "output_type": "error",
     "traceback": [
      "\u001b[0;31m---------------------------------------------------------------------------\u001b[0m",
      "\u001b[0;31mTypeError\u001b[0m                                 Traceback (most recent call last)",
      "\u001b[0;32m<ipython-input-311-37e5194963f1>\u001b[0m in \u001b[0;36m<module>\u001b[0;34m\u001b[0m\n\u001b[0;32m----> 1\u001b[0;31m \u001b[0mobj\u001b[0m \u001b[0;34m=\u001b[0m \u001b[0mObject\u001b[0m\u001b[0;34m(\u001b[0m\u001b[0;34m)\u001b[0m\u001b[0;34m\u001b[0m\u001b[0;34m\u001b[0m\u001b[0m\n\u001b[0m",
      "\u001b[0;31mTypeError\u001b[0m: Can't instantiate abstract class Object with abstract methods draw"
     ]
    }
   ],
   "source": [
    "obj = Object()"
   ]
  },
  {
   "cell_type": "markdown",
   "id": "chinese-queen",
   "metadata": {},
   "source": [
    "### Реализация"
   ]
  },
  {
   "cell_type": "code",
   "execution_count": null,
   "id": "trying-freight",
   "metadata": {},
   "outputs": [],
   "source": [
    "from abc import ABC, abstractmethod\n",
    "\n",
    "class Movable(ABC):\n",
    "    @abstractmethod\n",
    "    def move(self):\n",
    "        pass"
   ]
  },
  {
   "cell_type": "code",
   "execution_count": null,
   "id": "variable-humidity",
   "metadata": {},
   "outputs": [],
   "source": [
    "class Car(Movable):\n",
    "    def __init__(self):\n",
    "        self._speed = 10\n",
    "        self._x = 0\n",
    "\n",
    "    def move(self):\n",
    "        self._x += self._speed\n",
    "        \n",
    "    def pos(self):\n",
    "        return self._x\n",
    "    \n",
    "    def speed(self):\n",
    "        return self._speed"
   ]
  },
  {
   "cell_type": "code",
   "execution_count": null,
   "id": "worst-merit",
   "metadata": {},
   "outputs": [
    {
     "name": "stdout",
     "output_type": "stream",
     "text": [
      "0\n",
      "10\n"
     ]
    }
   ],
   "source": [
    "car = Car()\n",
    "print(car.pos())\n",
    "car.move()\n",
    "print(car.pos())"
   ]
  },
  {
   "cell_type": "markdown",
   "id": "japanese-collaboration",
   "metadata": {},
   "source": [
    "### Композиция"
   ]
  },
  {
   "cell_type": "code",
   "execution_count": null,
   "id": "bridal-basic",
   "metadata": {},
   "outputs": [],
   "source": [
    "class Faculty:\n",
    "    def __init__(self, name):\n",
    "        self._name = name\n",
    "        \n",
    "    def name(self):\n",
    "        return self._name\n",
    "    "
   ]
  },
  {
   "cell_type": "code",
   "execution_count": null,
   "id": "cheap-winter",
   "metadata": {},
   "outputs": [],
   "source": [
    "class University:\n",
    "    def __init__(self, name):\n",
    "        self._name = name\n",
    "        self._faculties = [Faculty(\"Math\"), Faculty(\"Philosophy\")]\n",
    "    \n",
    "    def faculties(self):\n",
    "        return self._faculties\n",
    "    \n",
    "    def name(self):\n",
    "        return self._name"
   ]
  },
  {
   "cell_type": "code",
   "execution_count": null,
   "id": "excess-mustang",
   "metadata": {},
   "outputs": [
    {
     "name": "stdout",
     "output_type": "stream",
     "text": [
      "Math\n",
      "Philosophy\n"
     ]
    }
   ],
   "source": [
    "university = University(\"University\")\n",
    "\n",
    "for fac in university.faculties():\n",
    "    print(fac.name())"
   ]
  },
  {
   "cell_type": "markdown",
   "id": "dress-milan",
   "metadata": {},
   "source": [
    "### Агрегация"
   ]
  },
  {
   "cell_type": "code",
   "execution_count": null,
   "id": "spread-receiver",
   "metadata": {},
   "outputs": [],
   "source": [
    "class Faculty:\n",
    "    def __init__(self, name, teachers):\n",
    "        self._name = name\n",
    "        self._teachers = teachers"
   ]
  },
  {
   "cell_type": "code",
   "execution_count": null,
   "id": "hungarian-professor",
   "metadata": {},
   "outputs": [],
   "source": [
    "class Teacher:\n",
    "    def __init__(self, name):\n",
    "        self._name = name"
   ]
  },
  {
   "cell_type": "code",
   "execution_count": null,
   "id": "effective-beach",
   "metadata": {},
   "outputs": [],
   "source": [
    "teacher1 = Teacher(\"John\")\n",
    "teacher2 = Teacher(\"Jack\")\n",
    "\n",
    "faculty_math = Faculty(\"Math\", [teacher1, teacher2])\n",
    "faculty_philosophy = Faculty(\"Philosophy\", [teacher1])"
   ]
  },
  {
   "cell_type": "markdown",
   "id": "immune-position",
   "metadata": {},
   "source": [
    "## Проектирование"
   ]
  },
  {
   "cell_type": "markdown",
   "id": "assisted-speaking",
   "metadata": {},
   "source": [
    "- Проектирование - определение наборов интерфейсов, классов, функций, их свойств и взаимных отношений<br><br>\n",
    "\n",
    "- Система для решения одной и той же задачи может спроектирована многими способами<br><br>\n",
    "\n",
    "- Задача в том, чтобы спроектировать систему, которая будет<br><br>\n",
    "    - понятной\n",
    "    - неизбыточной\n",
    "    - несложно модифицируемой и расширяемой\n",
    "    - эффективной<br><br>\n",
    "\n",
    "- Для этого нужны собственный опыт, знания, основанные на опыте предшественников и владение возможностями языка"
   ]
  },
  {
   "cell_type": "markdown",
   "id": "particular-tenant",
   "metadata": {},
   "source": [
    "#### SOLID"
   ]
  },
  {
   "cell_type": "markdown",
   "id": "analyzed-machinery",
   "metadata": {},
   "source": [
    "#### Принцип единственной ответственности"
   ]
  },
  {
   "cell_type": "markdown",
   "id": "sharp-tomato",
   "metadata": {},
   "source": [
    "Каждый класс должен решать лишь одну задачу."
   ]
  },
  {
   "cell_type": "code",
   "execution_count": null,
   "id": "immune-arbitration",
   "metadata": {},
   "outputs": [],
   "source": [
    "class WidgetTable:\n",
    "    def __init__(self, columns):\n",
    "        self._table = dict()\n",
    "        self._headers = columns\n",
    "\n",
    "        for col in columns:\n",
    "            self._table[col] = list()\n",
    "\n",
    "    def add_item(self, item):\n",
    "        for i, el in enumerate(item):\n",
    "            header = self._headers[i]\n",
    "            self._table[header] = el\n",
    "    \n",
    "    def show(self):\n",
    "        pass"
   ]
  },
  {
   "cell_type": "code",
   "execution_count": null,
   "id": "respiratory-acoustic",
   "metadata": {},
   "outputs": [],
   "source": [
    "class Data:\n",
    "    def __init__(self, columns):\n",
    "        self._table = dict()\n",
    "        self._headers = columns\n",
    "        \n",
    "        for col in columns:\n",
    "            self._table[col] = list()\n",
    "        \n",
    "    def add_item(self, item):\n",
    "        for i, el in enumerate(item):\n",
    "            header = self._headers[i]\n",
    "            self._table[header] = el\n",
    "\n",
    "\n",
    "class WidgetTable:\n",
    "    def __init__(self, data):\n",
    "        self._data = data\n",
    "\n",
    "    def show(self):\n",
    "        pass"
   ]
  },
  {
   "cell_type": "markdown",
   "id": "clean-cookie",
   "metadata": {},
   "source": [
    "#### Принцип открытости/закрытости"
   ]
  },
  {
   "cell_type": "markdown",
   "id": "exciting-penetration",
   "metadata": {},
   "source": [
    "Класс должен быть открыт для расширения функциональности и закрыт для изменения."
   ]
  },
  {
   "cell_type": "markdown",
   "id": "dirty-fantasy",
   "metadata": {},
   "source": [
    "##### Пример"
   ]
  },
  {
   "cell_type": "code",
   "execution_count": null,
   "id": "threaded-ukraine",
   "metadata": {},
   "outputs": [],
   "source": [
    "import sys\n",
    "\n",
    "\n",
    "class Widget:\n",
    "    def show(self):\n",
    "        if sys.platform == \"darwin\":\n",
    "            print(\"MacOS widget\")\n",
    "        elif sys.platform == \"linux\":\n",
    "            print(\"Linux widget\")"
   ]
  },
  {
   "cell_type": "code",
   "execution_count": null,
   "id": "baking-happening",
   "metadata": {},
   "outputs": [
    {
     "name": "stdout",
     "output_type": "stream",
     "text": [
      "MacOS widget\n"
     ]
    }
   ],
   "source": [
    "widget = Widget()\n",
    "widget.show()"
   ]
  },
  {
   "cell_type": "code",
   "execution_count": null,
   "id": "spanish-scratch",
   "metadata": {},
   "outputs": [],
   "source": [
    "from abc import ABC, abstractmethod\n",
    "\n",
    "class Widget(ABC):\n",
    "    @abstractmethod\n",
    "    def show(self):\n",
    "        pass"
   ]
  },
  {
   "cell_type": "code",
   "execution_count": null,
   "id": "transparent-occupation",
   "metadata": {},
   "outputs": [],
   "source": [
    "class LinuxWidget(Widget):\n",
    "    def show(self):\n",
    "        print(\"Linux widget\")\n",
    "        \n",
    "class MacOSWidget(Widget):\n",
    "    def show(self):\n",
    "        print(\"MacOS widget\")"
   ]
  },
  {
   "cell_type": "markdown",
   "id": "false-netherlands",
   "metadata": {},
   "source": [
    "#### Принцип подстановки Барбары Лисков"
   ]
  },
  {
   "cell_type": "markdown",
   "id": "parliamentary-browse",
   "metadata": {},
   "source": [
    "Наследник класса должен только дополнять родительский класс, а не менять в нём что-либо, таким образом подклассы могут служить заменой для своих родителей."
   ]
  },
  {
   "cell_type": "markdown",
   "id": "fundamental-rogers",
   "metadata": {},
   "source": [
    "##### Пример"
   ]
  },
  {
   "cell_type": "code",
   "execution_count": null,
   "id": "infectious-unemployment",
   "metadata": {},
   "outputs": [],
   "source": [
    "from abc import ABC, abstractmethod\n",
    "\n",
    "\n",
    "class Rectangle:\n",
    "    def set_w(self, w):\n",
    "        self._w = w\n",
    "        \n",
    "    def set_h(self, h):\n",
    "        self._h = h\n",
    "        \n",
    "    def area(self):\n",
    "        return self._w * self._h\n",
    "\n",
    "\n",
    "class Square(Rectangle):\n",
    "    def set_w(self, w):\n",
    "        self._w = w\n",
    "        self._h = w\n",
    "        \n",
    "    def set_h(self, h):\n",
    "        self._h = h\n",
    "        self._w = h\n",
    "        \n",
    "        \n",
    "def test_area(r):\n",
    "    r.set_w(5)\n",
    "    r.set_h(4)\n",
    "    if (r.area() != 20):\n",
    "        print(\"Неверно\")\n",
    "    else:\n",
    "        print(\"Верно\")"
   ]
  },
  {
   "cell_type": "code",
   "execution_count": null,
   "id": "pressed-dublin",
   "metadata": {},
   "outputs": [
    {
     "name": "stdout",
     "output_type": "stream",
     "text": [
      "Верно\n"
     ]
    }
   ],
   "source": [
    "r = Rectangle()\n",
    "test_area(r)"
   ]
  },
  {
   "cell_type": "code",
   "execution_count": null,
   "id": "multiple-bookmark",
   "metadata": {},
   "outputs": [
    {
     "name": "stdout",
     "output_type": "stream",
     "text": [
      "Неверно\n"
     ]
    }
   ],
   "source": [
    "s = Square()\n",
    "test_area(s)"
   ]
  },
  {
   "cell_type": "markdown",
   "id": "agricultural-relevance",
   "metadata": {},
   "source": [
    "#### Принцип разделения интерфейса"
   ]
  },
  {
   "cell_type": "markdown",
   "id": "secondary-maryland",
   "metadata": {},
   "source": [
    "Интерфейсы не должны покрывать много задач (класс не должен реализовывать методы, которые ему не нужны из-за слишком большого базового интерфейса)."
   ]
  },
  {
   "cell_type": "markdown",
   "id": "three-fleet",
   "metadata": {},
   "source": [
    "##### Пример"
   ]
  },
  {
   "cell_type": "code",
   "execution_count": null,
   "id": "integral-township",
   "metadata": {},
   "outputs": [],
   "source": [
    "from abc import ABC, abstractmethod\n",
    "\n",
    "class Data(ABC):\n",
    "    @abstractmethod\n",
    "    def col_count(self):\n",
    "        pass\n",
    "    \n",
    "    @abstractmethod\n",
    "    def row_count(self):\n",
    "        pass\n",
    "    \n",
    "    @abstractmethod\n",
    "    def add_item(self):\n",
    "        pass\n",
    "\n",
    "    \n",
    "class DataTable(Data):\n",
    "    def add_item(self):\n",
    "        pass\n",
    "            \n",
    "    def col_count(self):\n",
    "        pass\n",
    "\n",
    "    def row_count(self):\n",
    "        pass\n",
    "    \n",
    "\n",
    "class DataList(Data):\n",
    "    def add_item(self):\n",
    "        pass\n",
    "            \n",
    "    def col_count(self):\n",
    "        pass\n",
    "\n",
    "    def row_count(self):\n",
    "        pass"
   ]
  },
  {
   "cell_type": "code",
   "execution_count": null,
   "id": "opponent-subdivision",
   "metadata": {},
   "outputs": [],
   "source": [
    "class Data(ABC):\n",
    "    @abstractmethod\n",
    "    def shape(self):\n",
    "        pass\n",
    "    \n",
    "    @abstractmethod\n",
    "    def add_item(self):\n",
    "        pass"
   ]
  },
  {
   "cell_type": "markdown",
   "id": "consistent-committee",
   "metadata": {},
   "source": [
    "#### Принцип инверсии зависимостей"
   ]
  },
  {
   "cell_type": "markdown",
   "id": "portable-church",
   "metadata": {},
   "source": [
    "Нижестоящее в иерархии зависит от вышестоящего, а не наоборот.  Объектом зависимости должна быть абстракция, а не что-то конкретное. Под вышестоящим понимается компонент, который требует каких-то внешних зависимостей/сервисов."
   ]
  },
  {
   "cell_type": "markdown",
   "id": "historic-slovak",
   "metadata": {},
   "source": [
    "##### Пример"
   ]
  },
  {
   "cell_type": "code",
   "execution_count": 10,
   "id": "unnecessary-awareness",
   "metadata": {},
   "outputs": [
    {
     "data": {
      "text/plain": [
       "<__main__.Protocol at 0x1098b9220>"
      ]
     },
     "execution_count": 10,
     "metadata": {},
     "output_type": "execute_result"
    }
   ],
   "source": [
    "class JsonService:\n",
    "    def request(self, url, method):\n",
    "        pass\n",
    "\n",
    "\n",
    "class Protocol:\n",
    "    def __init__(self, json_service):\n",
    "        self._service = json_service\n",
    "\n",
    "    def get(self, url):\n",
    "        self._service.request(url, \"GET\")\n",
    "\n",
    "    def post(self, url):\n",
    "        self._service.request(url, \"POST\")\n",
    "\n",
    "\n",
    "json_service = JsonService()\n",
    "protocol = Protocol(json_service)\n",
    "protocol.get('http://site.ru')"
   ]
  },
  {
   "cell_type": "code",
   "execution_count": null,
   "id": "ambient-india",
   "metadata": {},
   "outputs": [],
   "source": [
    "from abc import ABC, abstractmethod\n",
    "\n",
    "\n",
    "class Connection(ABC):\n",
    "    @abstractmethod\n",
    "    def request(self, url, method):\n",
    "        pass\n",
    "\n",
    "class JsonService(Connection):\n",
    "    def request(self, url, method):\n",
    "        pass\n",
    "    \n",
    "class XmlService(Connection):\n",
    "    def request(self, url, method):\n",
    "        pass\n",
    "\n",
    "class Protocol:\n",
    "    def __init__(self, connection):\n",
    "        self._service = connection\n",
    "        \n",
    "    def get(self, url):\n",
    "        self._service.request(url, \"GET\")\n",
    "        \n",
    "    def post(self, url):\n",
    "        self._service.request(url, \"POST\")"
   ]
  },
  {
   "cell_type": "markdown",
   "id": "ahead-reform",
   "metadata": {},
   "source": [
    "## Встроенные функции для работы с классами"
   ]
  },
  {
   "cell_type": "code",
   "execution_count": null,
   "id": "874be8a3",
   "metadata": {},
   "outputs": [],
   "source": [
    "class P:\n",
    "    pass"
   ]
  },
  {
   "cell_type": "code",
   "execution_count": null,
   "id": "dense-lodge",
   "metadata": {},
   "outputs": [
    {
     "data": {
      "text/plain": [
       "__main__.P"
      ]
     },
     "execution_count": 72,
     "metadata": {},
     "output_type": "execute_result"
    }
   ],
   "source": [
    "p = P()\n",
    "\n",
    "# type возвращает тип переданного аргумента.\n",
    "type(p)"
   ]
  },
  {
   "cell_type": "code",
   "execution_count": null,
   "id": "optional-salmon",
   "metadata": {},
   "outputs": [
    {
     "data": {
      "text/plain": [
       "True"
      ]
     },
     "execution_count": 73,
     "metadata": {},
     "output_type": "execute_result"
    }
   ],
   "source": [
    "type(p) == P"
   ]
  },
  {
   "cell_type": "code",
   "execution_count": null,
   "id": "otherwise-bandwidth",
   "metadata": {},
   "outputs": [
    {
     "data": {
      "text/plain": [
       "True"
      ]
     },
     "execution_count": 74,
     "metadata": {},
     "output_type": "execute_result"
    }
   ],
   "source": [
    "type([]) == list"
   ]
  },
  {
   "cell_type": "code",
   "execution_count": null,
   "id": "auburn-developer",
   "metadata": {},
   "outputs": [
    {
     "data": {
      "text/plain": [
       "True"
      ]
     },
     "execution_count": 75,
     "metadata": {},
     "output_type": "execute_result"
    }
   ],
   "source": [
    "# isinstance специально создана для проверки принадлежности данных определенному классу (типу данных)\n",
    "isinstance(p, P)"
   ]
  },
  {
   "cell_type": "code",
   "execution_count": null,
   "id": "contained-facility",
   "metadata": {},
   "outputs": [
    {
     "data": {
      "text/plain": [
       "True"
      ]
     },
     "execution_count": 76,
     "metadata": {},
     "output_type": "execute_result"
    }
   ],
   "source": [
    "isinstance(p, (P, int, list))"
   ]
  },
  {
   "cell_type": "code",
   "execution_count": null,
   "id": "latter-howard",
   "metadata": {},
   "outputs": [
    {
     "data": {
      "text/plain": [
       "True"
      ]
     },
     "execution_count": 77,
     "metadata": {},
     "output_type": "execute_result"
    }
   ],
   "source": [
    "isinstance(2, (P, int, list))"
   ]
  },
  {
   "cell_type": "code",
   "execution_count": null,
   "id": "comparable-destination",
   "metadata": {},
   "outputs": [
    {
     "data": {
      "text/plain": [
       "True"
      ]
     },
     "metadata": {},
     "output_type": "display_data"
    }
   ],
   "source": [
    "# isinstance также поддерживает наследование\n",
    "# для isinstance() экземпляр производного класса также является экземпляром базового класса\n",
    "isinstance(2, object)"
   ]
  },
  {
   "cell_type": "code",
   "execution_count": null,
   "id": "chief-poverty",
   "metadata": {},
   "outputs": [
    {
     "data": {
      "text/plain": [
       "True"
      ]
     },
     "metadata": {},
     "output_type": "display_data"
    }
   ],
   "source": [
    "# issubclass для проверки является ли данный класс подкласс другого класса (прямого или косвенного типа)\n",
    "issubclass(int, object)"
   ]
  },
  {
   "cell_type": "code",
   "execution_count": null,
   "id": "compressed-tuning",
   "metadata": {},
   "outputs": [
    {
     "data": {
      "text/plain": [
       "False"
      ]
     },
     "execution_count": 78,
     "metadata": {},
     "output_type": "execute_result"
    }
   ],
   "source": [
    "issubclass(P, int)"
   ]
  },
  {
   "cell_type": "code",
   "execution_count": null,
   "id": "respected-showcase",
   "metadata": {},
   "outputs": [
    {
     "data": {
      "text/plain": [
       "True"
      ]
     },
     "execution_count": 79,
     "metadata": {},
     "output_type": "execute_result"
    }
   ],
   "source": [
    "class L(P):\n",
    "    pass\n",
    "\n",
    "issubclass(L, object)"
   ]
  },
  {
   "cell_type": "code",
   "execution_count": null,
   "id": "apparent-cowboy",
   "metadata": {},
   "outputs": [
    {
     "data": {
      "text/plain": [
       "True"
      ]
     },
     "execution_count": 80,
     "metadata": {},
     "output_type": "execute_result"
    }
   ],
   "source": [
    "issubclass(P, (int, object))"
   ]
  },
  {
   "cell_type": "markdown",
   "id": "desperate-reader",
   "metadata": {},
   "source": [
    "## Области видимости и пространства имен"
   ]
  },
  {
   "cell_type": "markdown",
   "id": "front-veteran",
   "metadata": {},
   "source": [
    "Пространство имён представляет собой соответствия имён и их объектов. Большинство пространств имен в настоящее время реализованы как словари Python."
   ]
  },
  {
   "cell_type": "code",
   "execution_count": 13,
   "id": "869a16bc",
   "metadata": {},
   "outputs": [
    {
     "name": "stdout",
     "output_type": "stream",
     "text": [
      "2\n"
     ]
    }
   ],
   "source": [
    "a = 2\n",
    "\n",
    "print(a)"
   ]
  },
  {
   "cell_type": "code",
   "execution_count": null,
   "id": "8e2d8107",
   "metadata": {},
   "outputs": [],
   "source": [
    "{\n",
    "    'a': 2\n",
    "}"
   ]
  },
  {
   "cell_type": "code",
   "execution_count": 14,
   "id": "double-bangladesh",
   "metadata": {},
   "outputs": [
    {
     "data": {
      "text/plain": [
       "2"
      ]
     },
     "execution_count": 14,
     "metadata": {},
     "output_type": "execute_result"
    }
   ],
   "source": [
    "# Глобальное пространство имен\n",
    "globals()['a']"
   ]
  },
  {
   "cell_type": "code",
   "execution_count": 18,
   "id": "lasting-monitoring",
   "metadata": {},
   "outputs": [
    {
     "name": "stdout",
     "output_type": "stream",
     "text": [
      "3\n",
      "4\n",
      "3\n"
     ]
    }
   ],
   "source": [
    "# Глобальное пространство имен и пространство имен функции \n",
    "# \"а\" после функции не меняется\n",
    "\n",
    "a = 3\n",
    "\n",
    "def func():\n",
    "    a = 4\n",
    "    print(a)\n",
    "\n",
    "print(a)\n",
    "func()\n",
    "print(a)"
   ]
  },
  {
   "cell_type": "markdown",
   "id": "southeast-skill",
   "metadata": {},
   "source": [
    "Область видимости представляет собой область в коде программы Python, где к пространству имен имеется прямой доступ. ”Прямой доступ” означает попытку найти имя в пространстве имен, используя ”чистую” ссылку без точек."
   ]
  },
  {
   "cell_type": "code",
   "execution_count": null,
   "id": "hairy-princess",
   "metadata": {},
   "outputs": [
    {
     "name": "stdout",
     "output_type": "stream",
     "text": [
      "3\n"
     ]
    }
   ],
   "source": [
    "a = 3\n",
    "\n",
    "def func():\n",
    "    print(a)\n",
    "    \n",
    "\n",
    "func()"
   ]
  },
  {
   "cell_type": "code",
   "execution_count": null,
   "id": "2a00bb32",
   "metadata": {},
   "outputs": [],
   "source": [
    "def func():\n",
    "    return 1 \n",
    "    \n",
    "def func_2(f2):\n",
    "    print(f2)\n",
    "\n",
    "f1 = func()\n",
    "f2 = func_2(f1)"
   ]
  },
  {
   "cell_type": "code",
   "execution_count": null,
   "id": "reverse-details",
   "metadata": {},
   "outputs": [
    {
     "name": "stdout",
     "output_type": "stream",
     "text": [
      "5\n"
     ]
    }
   ],
   "source": [
    "a = 4\n",
    "\n",
    "def func():\n",
    "    global a\n",
    "    a = 5\n",
    "    \n",
    "func()\n",
    "print(a)"
   ]
  },
  {
   "cell_type": "code",
   "execution_count": null,
   "id": "unsigned-harassment",
   "metadata": {},
   "outputs": [
    {
     "name": "stdout",
     "output_type": "stream",
     "text": [
      "2\n"
     ]
    }
   ],
   "source": [
    "a = 1\n",
    "\n",
    "def func():\n",
    "    a = 2\n",
    "    def another_func():\n",
    "        print(a)\n",
    "    another_func()\n",
    "    \n",
    "func()"
   ]
  },
  {
   "cell_type": "code",
   "execution_count": null,
   "id": "5c3e1ccb",
   "metadata": {},
   "outputs": [
    {
     "name": "stdout",
     "output_type": "stream",
     "text": [
      "10\n"
     ]
    }
   ],
   "source": [
    "a = 1\n",
    "\n",
    "def func():\n",
    "    a = 2\n",
    "    def another_func():\n",
    "        nonlocal a\n",
    "        a = 10\n",
    "    another_func()\n",
    "    print(a)\n",
    "    \n",
    "func()"
   ]
  },
  {
   "cell_type": "code",
   "execution_count": null,
   "id": "internal-awareness",
   "metadata": {},
   "outputs": [
    {
     "name": "stdout",
     "output_type": "stream",
     "text": [
      "1\n"
     ]
    }
   ],
   "source": [
    "a = 1\n",
    "\n",
    "class N:\n",
    "    a = None\n",
    "    \n",
    "    def func(self):\n",
    "        print(a)\n",
    "        \n",
    "n = N()\n",
    "n.func()"
   ]
  },
  {
   "cell_type": "code",
   "execution_count": null,
   "id": "separate-advantage",
   "metadata": {},
   "outputs": [
    {
     "name": "stdout",
     "output_type": "stream",
     "text": [
      "None\n"
     ]
    }
   ],
   "source": [
    "a = 1\n",
    "\n",
    "class N:\n",
    "    a = None\n",
    "    \n",
    "    def func(self):\n",
    "        print(self.a)\n",
    "        \n",
    "n = N()\n",
    "n.func()"
   ]
  },
  {
   "cell_type": "code",
   "execution_count": null,
   "id": "photographic-merit",
   "metadata": {},
   "outputs": [
    {
     "name": "stdout",
     "output_type": "stream",
     "text": [
      "3\n"
     ]
    }
   ],
   "source": [
    "a = 1\n",
    "\n",
    "class N:\n",
    "    a = None\n",
    "    \n",
    "    def __init__(self):\n",
    "        self.a = 3\n",
    "    \n",
    "    def func(self):\n",
    "        print(self.a)\n",
    "        \n",
    "n = N()\n",
    "n.func()"
   ]
  },
  {
   "cell_type": "markdown",
   "id": "51edd6e5",
   "metadata": {},
   "source": [
    "# Вопросы для самостоятельного изучения\n",
    "\n",
    "1. Статические методы - \"Изучаем Python\" Лутца\n",
    "2. MRO (Method Resolution Order) - https://www.python.org/download/releases/2.3/mro/ и/или \"Python. Лучшие практики и инструменты\"\n",
    "3. Паттерны - https://refactoring.guru/ru/design-patterns/catalog и/или \"Приемы объектно-ориентированного проектирования. Паттерны проектирования\"\n",
    "4. Классовые методы - \"Изучаем Python\" Лутца\n",
    "5. Метаклассы (*) - https://docs.python.org/3/reference/datamodel.html#metaclasses и/или \"Изучаем Python\" Лутца"
   ]
  },
  {
   "cell_type": "markdown",
   "id": "3349ce78",
   "metadata": {},
   "source": [
    "# Вопросы для закрепления\n",
    "1. Что такое ООП? Пример.\n",
    "2. Принципы ООП. \n",
    "3. Отношения между классами.\n",
    "4. SOLID.\n",
    "5. Встроенные функции для работы с классами.\n"
   ]
  }
 ],
 "metadata": {
  "_draft": {
   "nbviewer_url": "https://gist.github.com/8f534c888df48f2788266763ba67e85a"
  },
  "gist": {
   "data": {
    "description": "OOP.ipynb",
    "public": false
   },
   "id": "8f534c888df48f2788266763ba67e85a"
  },
  "kernelspec": {
   "display_name": "Python 3.8.13 ('base')",
   "language": "python",
   "name": "python3"
  },
  "language_info": {
   "codemirror_mode": {
    "name": "ipython",
    "version": 3
   },
   "file_extension": ".py",
   "mimetype": "text/x-python",
   "name": "python",
   "nbconvert_exporter": "python",
   "pygments_lexer": "ipython3",
   "version": "3.8.13"
  },
  "vscode": {
   "interpreter": {
    "hash": "e7cb1b9ae4d417fedf7f40a8eec98f7cfbd359e096bd857395a915f4609834ce"
   }
  }
 },
 "nbformat": 4,
 "nbformat_minor": 5
}

{
 "cells": [
  {
   "cell_type": "markdown",
   "metadata": {},
   "source": [
    "# Введение в методы анализа данных. Язык Python."
   ]
  },
  {
   "cell_type": "markdown",
   "metadata": {},
   "source": [
    "## Лекция 1:  Обзор синтаксиса языка Python\n",
    "<br><br><br><br>\n",
    "__Аксентьев Артем (akseart@ya.ru)__\n",
    "\n",
    "__Ксемидов Борис (bworkboris@yandex.ru)__\n",
    "<br>"
   ]
  },
  {
   "cell_type": "markdown",
   "metadata": {
    "collapsed": false
   },
   "source": [
    "# Организационная часть"
   ]
  },
  {
   "cell_type": "markdown",
   "id": "8c4da4fb",
   "metadata": {},
   "source": [
    "## Для общего комфорта:\n",
    "- Во время лекций микрофоны лучше отключить\n",
    "- Вопросы предпочтительнее в чат(если короткие), если вопрос долго печатать, то голосом\n",
    "- Создана беседа в Telegram"
   ]
  },
  {
   "cell_type": "markdown",
   "metadata": {},
   "source": [
    "## Как исполнять код на Python?"
   ]
  },
  {
   "cell_type": "markdown",
   "metadata": {},
   "source": [
    "Python - скриптовый язык, который исполняется интерпретатором\n",
    "- Установить интерпретатор + стандартные библиотеки (python.org)\n",
    "- Установить Anaconda\n",
    "- Использовать Google Colab   [https://colab.research.google.com](https://colab.research.google.com) или подобные сервисы"
   ]
  },
  {
   "cell_type": "markdown",
   "metadata": {
    "collapsed": false
   },
   "source": [
    "## Установка Python\n",
    "\n",
    "Для установки Python предлагаю использовать miniconda(рассмотрим подробнее в дальнейшем):\n",
    "[https://docs.conda.io/en/latest/miniconda.html](https://docs.conda.io/en/latest/miniconda.html)\n",
    "\n",
    "После установки:\n",
    "- На Windows открыть программу \"Anaconda Prompt\"\n",
    "- На Mac/Linux открыть терминал\n",
    "\n",
    "Необходимо убедиться в том, что conda установилась, сделать это можно с помощью команды ```conda --version```.\n",
    "\n",
    "Если всё прошло корректно, необходимо создать виртуальное окружение(некий контейнер) для наших учебных работ:\n",
    "```sh\n",
    "conda create --name python_MSU python=3.8\n",
    "```\n",
    "Необходимо согласиться с тем, что необходимо установить пакеты и после этого выполнить:\n",
    "```sh\n",
    "conda activate python_MSU\n",
    "```\n",
    "Установить пакет jupyter notebook:\n",
    "```sh\n",
    "conda install jupyter\n",
    "```\n",
    "\n",
    "### Для запуска jupyter notebook:\n",
    "Необходимо убедиться, что используется виртуальное окружение \"python_MSU\" (в командной строке в круглых скобках должно быть указано имя окружения).\n",
    "В противном случае необходимо активировать окружение:\n",
    "```sh\n",
    "conda activate python_MSU\n",
    "```\n",
    "\n",
    "А затем ввести команду:\n",
    "```sh\n",
    "jupyter-notebook\n",
    "```\n",
    "В результате откроется браузер с jupyter. Если же браузер не откроется, то в командной строке будет отображен адрес следующего вида:\n",
    "```http://localhost:8890/?token=32b08886b4bdf9e66a6b4bfdea842571ae331dfa3eca5180```\n",
    "Необходимо по нему перейти в окне браузера\n",
    "\n",
    "\n",
    "\n",
    "\n"
   ]
  },
  {
   "cell_type": "markdown",
   "metadata": {},
   "source": [
    "## Где писать код на Python"
   ]
  },
  {
   "cell_type": "markdown",
   "id": "77435ca6",
   "metadata": {},
   "source": [
    "- Режим REPL (read-eval-print loop — «цикл „чтение — вычисление — вывод“»)\n",
    "- Любой текстовый редактор (Notepad++, Atom, Sublime Text3, vim, nano) и запуск файла\n",
    "- Специализированные оболочки для режима REPL\n",
    "    - Jupyter Notebook\n",
    "    - JupyterLab\n",
    "    - __VSCode__\n",
    "    - DataSpell (Платный продукт)\n",
    "- Специализированные IDE\n",
    "    - Pycharm (Есть бесплатная версия)\n",
    "    - Spyder\n",
    "    - Eclipse + PyDev"
   ]
  },
  {
   "cell_type": "markdown",
   "id": "d5dd47c3",
   "metadata": {},
   "source": [
    "__В данном курсе мы используем специальные оболочки для режиме REPL (Jupyter Notebook), для более удобной работы преподаватели показывают примеры в Visual Studio Code__"
   ]
  },
  {
   "cell_type": "markdown",
   "id": "0ac98220",
   "metadata": {},
   "source": [
    "## Почему?\n",
    "1. Получаются наглядный код с возможностью вывода результатов. "
   ]
  },
  {
   "cell_type": "code",
   "execution_count": null,
   "id": "462d17c4",
   "metadata": {
    "collapsed": false
   },
   "outputs": [],
   "source": [
    "print(\"Hello\")\n",
    "print(\"world\")\n"
   ]
  },
  {
   "cell_type": "markdown",
   "id": "0c76fbe4",
   "metadata": {},
   "source": [
    "2. Есть возможность использовать утилиты терминала/командной строки для вывода какой-либо информации(например структуры текущей директории)"
   ]
  },
  {
   "cell_type": "code",
   "execution_count": null,
   "metadata": {},
   "outputs": [],
   "source": [
    "!ls"
   ]
  },
  {
   "cell_type": "code",
   "execution_count": null,
   "metadata": {},
   "outputs": [],
   "source": [
    "!echo 123"
   ]
  },
  {
   "cell_type": "markdown",
   "id": "977b4076",
   "metadata": {},
   "source": [
    "3. Можно выводить результаты без использования функции print"
   ]
  },
  {
   "cell_type": "code",
   "execution_count": null,
   "id": "b3bb249b",
   "metadata": {},
   "outputs": [],
   "source": [
    "2+2"
   ]
  },
  {
   "cell_type": "markdown",
   "id": "66dcfb16",
   "metadata": {},
   "source": [
    "4. Возможность понятно оформлять код и его результаты с комментариями([Markdown](https://guides.hexlet.io/ru/markdown/))"
   ]
  },
  {
   "cell_type": "markdown",
   "metadata": {},
   "source": [
    "## Версии Python"
   ]
  },
  {
   "cell_type": "markdown",
   "metadata": {},
   "source": [
    "### Python 2 vs Python 3\n",
    "- Поддержка версии Python 2 закончилась в 2020 году\n",
    "- В Python 3 устранены многие недостатки архитектуры с максимально возможным (но не полным) сохранением совместимости со старыми версиями Python\n",
    "- В большинстве случаев выбор следует делать в пользу Python 3\n",
    "\n",
    "### Реализации Python\n",
    "- CPython\n",
    "- Jython\n",
    "- IronPython (.Net)\n",
    "- PyPy\n",
    "- MicroPython"
   ]
  },
  {
   "cell_type": "markdown",
   "id": "846541f4",
   "metadata": {
    "collapsed": false
   },
   "source": [
    "В данном курсе мы рассматриваем __Python 3.8__ в реализации CPython(де-факто являющейся стандартом)"
   ]
  },
  {
   "cell_type": "markdown",
   "id": "e5cd6044",
   "metadata": {},
   "source": [
    "## Отличие Python 2 и Python 3"
   ]
  },
  {
   "cell_type": "markdown",
   "id": "2783a6eb",
   "metadata": {},
   "source": [
    "1. В Python 2 print -- ключевое слово. В Python 3 -- функция. То есть раньше можно было писать без скобок, а в новой версии со скобками:\n",
    "    ```python\n",
    "    print \"Hello world\"\n",
    "    ```\n",
    "\n",
    "    ```python\n",
    "    print(\"Hello world\")\n",
    "    ```\n",
    "2. raw_input vs input:\n",
    "    ```python\n",
    "    raw_input('Number: ')\n",
    "    ```\n",
    "\n",
    "    ```python\n",
    "    input('Number: ')\n",
    "    ```"
   ]
  },
  {
   "cell_type": "markdown",
   "metadata": {},
   "source": [
    "# Практика\n",
    "## План\n",
    "- Типы данных\n",
    "- Условные операторы\n",
    "- Циклы\n",
    "\n"
   ]
  },
  {
   "cell_type": "markdown",
   "metadata": {},
   "source": [
    "## Первая программа"
   ]
  },
  {
   "cell_type": "code",
   "execution_count": null,
   "metadata": {},
   "outputs": [],
   "source": [
    "print(\"Hello world\")"
   ]
  },
  {
   "cell_type": "markdown",
   "metadata": {},
   "source": [
    "- ``print`` - функция вывода, как и во многих ЯП\n",
    "- Нет необходимости в каком-либо дополнительном коде(ф-я main)"
   ]
  },
  {
   "cell_type": "markdown",
   "metadata": {},
   "source": [
    "С++\n",
    "```cpp\n",
    "#include <iostream>\n",
    "using namespace std;\n",
    "\n",
    "int main() \n",
    "{ \n",
    "    cout << \"Hello, world!\" << endl;\n",
    "    return 0; \n",
    "}\n",
    "```"
   ]
  },
  {
   "cell_type": "code",
   "execution_count": null,
   "id": "dbd476a0",
   "metadata": {},
   "outputs": [],
   "source": [
    "if __name__ == '__main__':\n",
    "    print(\"Hello world\")"
   ]
  },
  {
   "cell_type": "markdown",
   "metadata": {},
   "source": [
    "## Переменные и объекты в языке Python"
   ]
  },
  {
   "cell_type": "markdown",
   "metadata": {},
   "source": [
    "Python -- язык с сильной динамической типизацией. "
   ]
  },
  {
   "cell_type": "markdown",
   "metadata": {},
   "source": [
    " __Статическая типизация__ -- тип переменной известен во время компиляции, а не выполнения\n",
    "  <br> <br>\n",
    "  \n",
    " C++:\n",
    "```cpp\n",
    "#include <iostream>\n",
    "using namespace std;\n",
    "\n",
    "int main() \n",
    "{ \n",
    "    int a = 5;\n",
    "    float b = 2.0;\n",
    "    \n",
    "    a = \"Hello world\"; //error: invalid conversion from ‘const char*’ to ‘int’ \n",
    "\n",
    "    return 0; \n",
    "}\n",
    "```"
   ]
  },
  {
   "cell_type": "markdown",
   "metadata": {},
   "source": [
    "__Динамическая типизация__ - тип переменной неизвестен на этапе компиляции/интерпретации:\n",
    " <br> <br>\n",
    " \n",
    "Python 3:\n",
    "```python\n",
    "a = 5\n",
    "b = 2.\n",
    "\n",
    "a = 5.\n",
    "```"
   ]
  },
  {
   "cell_type": "markdown",
   "metadata": {},
   "source": [
    "__Сильная типизация__ -- переменные строго привязаны к типу данных\n",
    " <br> <br> Python 3\n",
    "```python\n",
    "a = 5\n",
    "b = \"Hello world\"\n",
    "\n",
    "print(a+b) # err\n",
    "```"
   ]
  },
  {
   "cell_type": "markdown",
   "metadata": {},
   "source": [
    "__Слабая типизация__ -- переменные непривязаны к типу данных\n",
    " <br> <br>\n",
    "JS:\n",
    "```js\n",
    "console.log(2001 + ': A Space Odyssey');\n",
    "// result: \"2001: A Space Odyssey\"\n",
    "```"
   ]
  },
  {
   "cell_type": "markdown",
   "id": "17e70bfc",
   "metadata": {},
   "source": [
    "Иногда говорят, что Python язык с утиной типизацией:\n",
    "> Если это выглядит как утка, плавает как утка и крякает как утка, то это, вероятно, и есть утка\n",
    "\n",
    "![Duck](image/duck.jpeg)"
   ]
  },
  {
   "cell_type": "markdown",
   "id": "efb2a1ad",
   "metadata": {},
   "source": [
    "### Немного примеров"
   ]
  },
  {
   "cell_type": "code",
   "execution_count": null,
   "metadata": {},
   "outputs": [],
   "source": [
    "1000"
   ]
  },
  {
   "cell_type": "markdown",
   "metadata": {},
   "source": [
    "- Объект типа __int__ (целое число)"
   ]
  },
  {
   "cell_type": "code",
   "execution_count": null,
   "metadata": {},
   "outputs": [],
   "source": [
    "num_of_cars = 1000"
   ]
  },
  {
   "cell_type": "markdown",
   "metadata": {},
   "source": [
    "- Объект типа int\n",
    "- Создана переменная с именем a, которая ссылается на этот объект\n",
    "\n",
    "![](image/Mem_1.png)"
   ]
  },
  {
   "cell_type": "code",
   "execution_count": null,
   "metadata": {},
   "outputs": [],
   "source": [
    "a = 1000\n",
    "b = a\n",
    "c = \"Hello world\""
   ]
  },
  {
   "cell_type": "code",
   "execution_count": null,
   "id": "5741bb8a",
   "metadata": {},
   "outputs": [],
   "source": [
    "a + c"
   ]
  },
  {
   "cell_type": "markdown",
   "metadata": {},
   "source": [
    "- Объект типа int\n",
    "- Переменная a на этот объект\n",
    "- Переменная b на тот же объект\n",
    "- Переменная c на объект типа str\n",
    "\n",
    "![](image/Mem_2.png)"
   ]
  },
  {
   "cell_type": "code",
   "execution_count": null,
   "metadata": {},
   "outputs": [],
   "source": [
    "print(a)"
   ]
  },
  {
   "cell_type": "code",
   "execution_count": null,
   "metadata": {},
   "outputs": [],
   "source": [
    "a = 'Hello '\n",
    "b = 'World'\n",
    "\n",
    "a + b"
   ]
  },
  {
   "cell_type": "markdown",
   "metadata": {},
   "source": [
    "## Типы данных"
   ]
  },
  {
   "cell_type": "markdown",
   "metadata": {},
   "source": [
    "1. __None__ (неопределенное значение переменной)\n",
    "2. __Логические переменные__ (Boolean Type)\n",
    "3. Числа (Numeric Type)\n",
    "    - __int__ – целое число\n",
    "    - __float__ – число с плавающей точкой\n",
    "    - complex – комплексное число\n",
    "4. Последовательности (Sequence Type)\n",
    "    - __list__ – список\n",
    "    - __tuple__ – кортеж\n",
    "    - __range__ – диапазон\n",
    "5. Строки (Text Sequence Type)\n",
    "    - __str__\n",
    "6. Бинарные последовательности (Binary Sequence Types)\n",
    "    - bytes – байты\n",
    "    - bytearray – массивы байт\n",
    "    - memoryview – специальные объекты для доступа к внутренним данным объекта через protocol buffer\n",
    "7. Множества (Set Types)\n",
    "    - __set__ – множество\n",
    "    - frozenset – неизменяемое множество\n",
    "8. Словари (Mapping Types)\n",
    "    - __dict__ – словарь\n",
    "<br><br><br><br>\n",
    "https://docs.python.org/3/library/stdtypes.html?highlight=sequence"
   ]
  },
  {
   "cell_type": "markdown",
   "metadata": {},
   "source": [
    "### Тип None"
   ]
  },
  {
   "cell_type": "code",
   "execution_count": null,
   "metadata": {},
   "outputs": [],
   "source": [
    "n = 0\n",
    "n = ''\n",
    "n = None\n",
    "\n",
    "n == None, n is None"
   ]
  },
  {
   "cell_type": "markdown",
   "metadata": {},
   "source": [
    "### Логический тип"
   ]
  },
  {
   "cell_type": "code",
   "execution_count": null,
   "metadata": {},
   "outputs": [],
   "source": [
    "True == False"
   ]
  },
  {
   "cell_type": "code",
   "execution_count": null,
   "metadata": {},
   "outputs": [],
   "source": [
    "1 == True, [] == True, 0 == True, '' == False"
   ]
  },
  {
   "cell_type": "code",
   "execution_count": null,
   "metadata": {
    "collapsed": false
   },
   "outputs": [],
   "source": [
    "False == 255, 255 == True, bool(0)"
   ]
  },
  {
   "cell_type": "code",
   "execution_count": null,
   "id": "8750a39d",
   "metadata": {},
   "outputs": [],
   "source": [
    "bool([1, 2])"
   ]
  },
  {
   "cell_type": "code",
   "execution_count": null,
   "metadata": {},
   "outputs": [],
   "source": [
    "0 == True, 0 == False"
   ]
  },
  {
   "cell_type": "code",
   "execution_count": null,
   "metadata": {},
   "outputs": [],
   "source": [
    "None is True"
   ]
  },
  {
   "cell_type": "code",
   "execution_count": null,
   "metadata": {},
   "outputs": [],
   "source": [
    "None is False"
   ]
  },
  {
   "cell_type": "code",
   "execution_count": null,
   "metadata": {
    "collapsed": false
   },
   "outputs": [],
   "source": [
    "bool(None)"
   ]
  },
  {
   "cell_type": "code",
   "execution_count": null,
   "metadata": {},
   "outputs": [],
   "source": [
    "True and True, True and False"
   ]
  },
  {
   "cell_type": "code",
   "execution_count": null,
   "metadata": {},
   "outputs": [],
   "source": [
    "False or True, True or False"
   ]
  },
  {
   "cell_type": "code",
   "execution_count": null,
   "metadata": {},
   "outputs": [],
   "source": [
    "not True"
   ]
  },
  {
   "cell_type": "code",
   "execution_count": null,
   "metadata": {
    "collapsed": false,
    "pycharm": {
     "name": "#%%\n"
    }
   },
   "outputs": [],
   "source": [
    "None or 0 or 5 or 10"
   ]
  },
  {
   "cell_type": "code",
   "execution_count": null,
   "metadata": {
    "collapsed": false
   },
   "outputs": [],
   "source": [
    "bool(None or 0 or [] or '')"
   ]
  },
  {
   "cell_type": "code",
   "execution_count": null,
   "metadata": {},
   "outputs": [],
   "source": [
    "print(10 and 1 and 0 and 30)"
   ]
  },
  {
   "cell_type": "markdown",
   "metadata": {},
   "source": [
    "### Числа\n",
    "#### Целые"
   ]
  },
  {
   "cell_type": "code",
   "execution_count": null,
   "metadata": {},
   "outputs": [],
   "source": [
    "5 + 5"
   ]
  },
  {
   "cell_type": "code",
   "execution_count": null,
   "metadata": {},
   "outputs": [],
   "source": [
    "5 - 5"
   ]
  },
  {
   "cell_type": "code",
   "execution_count": null,
   "metadata": {},
   "outputs": [],
   "source": [
    "5 * 2"
   ]
  },
  {
   "cell_type": "code",
   "execution_count": null,
   "metadata": {},
   "outputs": [],
   "source": [
    "5 % 2"
   ]
  },
  {
   "cell_type": "code",
   "execution_count": null,
   "metadata": {},
   "outputs": [],
   "source": [
    "5 // 2"
   ]
  },
  {
   "cell_type": "code",
   "execution_count": null,
   "metadata": {},
   "outputs": [],
   "source": [
    "5 / 2"
   ]
  },
  {
   "cell_type": "code",
   "execution_count": null,
   "metadata": {
    "collapsed": false
   },
   "outputs": [],
   "source": [
    "1_000 ** 10_000"
   ]
  },
  {
   "cell_type": "code",
   "execution_count": null,
   "metadata": {
    "collapsed": false
   },
   "outputs": [],
   "source": [
    "10_000_000"
   ]
  },
  {
   "cell_type": "code",
   "execution_count": null,
   "metadata": {
    "collapsed": false
   },
   "outputs": [],
   "source": [
    "2 ** -8"
   ]
  },
  {
   "cell_type": "code",
   "execution_count": null,
   "metadata": {},
   "outputs": [],
   "source": [
    "int('10')"
   ]
  },
  {
   "cell_type": "code",
   "execution_count": null,
   "id": "a3e9e27c",
   "metadata": {},
   "outputs": [],
   "source": [
    "int(10.5)"
   ]
  },
  {
   "cell_type": "markdown",
   "metadata": {},
   "source": [
    "#### Числа с плавающей точкой"
   ]
  },
  {
   "cell_type": "code",
   "execution_count": null,
   "metadata": {},
   "outputs": [],
   "source": [
    "5 / 2"
   ]
  },
  {
   "cell_type": "code",
   "execution_count": null,
   "metadata": {},
   "outputs": [],
   "source": [
    "2.0 + 2.5"
   ]
  },
  {
   "cell_type": "code",
   "execution_count": null,
   "metadata": {},
   "outputs": [],
   "source": [
    "2. - 0.5"
   ]
  },
  {
   "cell_type": "code",
   "execution_count": null,
   "metadata": {},
   "outputs": [],
   "source": [
    "2 - .5"
   ]
  },
  {
   "cell_type": "code",
   "execution_count": null,
   "metadata": {},
   "outputs": [],
   "source": [
    "2 * 1.5"
   ]
  },
  {
   "cell_type": "code",
   "execution_count": null,
   "metadata": {},
   "outputs": [],
   "source": [
    "2 / 4.6"
   ]
  },
  {
   "cell_type": "code",
   "execution_count": null,
   "metadata": {},
   "outputs": [],
   "source": [
    "10 // 4.6, 10 / 4.6"
   ]
  },
  {
   "cell_type": "code",
   "execution_count": null,
   "metadata": {},
   "outputs": [],
   "source": [
    "10. % 2.4"
   ]
  },
  {
   "cell_type": "code",
   "execution_count": null,
   "metadata": {},
   "outputs": [],
   "source": [
    "float(1), float(\"2\")"
   ]
  },
  {
   "cell_type": "code",
   "execution_count": null,
   "metadata": {
    "collapsed": false
   },
   "outputs": [],
   "source": [
    "0.1 + 0.1 + 0.1 == 0.3"
   ]
  },
  {
   "cell_type": "code",
   "execution_count": null,
   "metadata": {
    "collapsed": false
   },
   "outputs": [],
   "source": [
    "0.1 + 0.1 + 0.1"
   ]
  },
  {
   "cell_type": "code",
   "execution_count": null,
   "metadata": {
    "collapsed": false
   },
   "outputs": [],
   "source": [
    "abs((0.1 + 0.1 + 0.1) - 0.3) < 0.00000001"
   ]
  },
  {
   "cell_type": "markdown",
   "metadata": {},
   "source": [
    "### Коллекции"
   ]
  },
  {
   "cell_type": "markdown",
   "metadata": {},
   "source": [
    "#### Str"
   ]
  },
  {
   "cell_type": "code",
   "execution_count": null,
   "metadata": {},
   "outputs": [],
   "source": [
    "print(\"Hello 'world'\")"
   ]
  },
  {
   "cell_type": "code",
   "execution_count": null,
   "metadata": {},
   "outputs": [],
   "source": [
    "'Hello \"world\"'"
   ]
  },
  {
   "cell_type": "code",
   "execution_count": null,
   "metadata": {},
   "outputs": [],
   "source": [
    "\"\"\" Hello\n",
    "    World\n",
    "\"\"\""
   ]
  },
  {
   "cell_type": "code",
   "execution_count": null,
   "metadata": {},
   "outputs": [],
   "source": [
    "print(\n",
    "\"\"\"Hello\n",
    "World\n",
    "\"\"\")"
   ]
  },
  {
   "cell_type": "markdown",
   "metadata": {
    "collapsed": false
   },
   "source": [
    "##### Управляющие символы кодировки ASCII"
   ]
  },
  {
   "cell_type": "markdown",
   "metadata": {
    "collapsed": false
   },
   "source": [
    "Рассмотрим только набор управляющих символов из стандарта POSIX (portable character set)\n",
    "\n",
    "| Название         | Строка |\n",
    "|------------------|--------|\n",
    "| NUL              |\\0\t    |\n",
    "| alert\t \t       |\\a      |\n",
    "| backspace\t       |\\b      |\n",
    "| tab\t \t       |\\t      |\n",
    "| newline\t       |\\n      |\n",
    "| vertical-tab     |\\v      |\n",
    "| form-feed        |\\f      |\n",
    "| carriage-return  |\\r      |"
   ]
  },
  {
   "cell_type": "code",
   "execution_count": null,
   "metadata": {
    "collapsed": false
   },
   "outputs": [],
   "source": [
    "print(\"\\0\")"
   ]
  },
  {
   "cell_type": "code",
   "execution_count": null,
   "metadata": {
    "collapsed": false
   },
   "outputs": [],
   "source": [
    "print(\"\\a\")"
   ]
  },
  {
   "cell_type": "code",
   "execution_count": null,
   "metadata": {
    "collapsed": false
   },
   "outputs": [],
   "source": [
    "print(\"Hello, world!\\b\")"
   ]
  },
  {
   "cell_type": "code",
   "execution_count": null,
   "metadata": {
    "collapsed": false
   },
   "outputs": [],
   "source": [
    "print(\"Hello,\\tworld!\")"
   ]
  },
  {
   "cell_type": "code",
   "execution_count": null,
   "metadata": {
    "collapsed": false
   },
   "outputs": [],
   "source": [
    "print(\"Hello,\\vworld!\")"
   ]
  },
  {
   "cell_type": "code",
   "execution_count": null,
   "metadata": {
    "collapsed": false
   },
   "outputs": [],
   "source": [
    "print(\"Hello,\\fworld!\")"
   ]
  },
  {
   "cell_type": "code",
   "execution_count": null,
   "metadata": {
    "collapsed": false
   },
   "outputs": [],
   "source": [
    "print(\"Hello,\\nworld!\")\n",
    "print()\n",
    "print(\"Hello,\\rworld!\")\n",
    "print()\n",
    "print(\"Hello,\\r\\nworld!\")"
   ]
  },
  {
   "cell_type": "markdown",
   "metadata": {
    "collapsed": false
   },
   "source": [
    "##### CRLF vs LF \n",
    "\n",
    "CR = \\r \n",
    "\n",
    "LF = \\n\n",
    "\n",
    "Возврат каретки (англ. carriage return, CR) — управляющий символ ASCII ('\\r'), при выводе которого курсор перемещается к левому краю поля. Отдельно рассматривается, как перевод строки, только в старых системах Macintosh\n",
    "\n",
    "Подача на строку или Перевод на строку (от англ. line feed, LF — «подача бумаги на строку») — управляющий символ ASCII ('\\n'), при выводе которого курсор перемещается на следующую строку. В случае принтера это означает сдвиг бумаги вверх, в случае дисплея — сдвиг курсора вниз, если ещё осталось место, и прокрутку текста вверх, если курсор находился на нижней строке. Как перенос строки(в привычном понимании со сдвигом курсора влево) используется в UNIX системах(в том числе и macOS/Os X).\n",
    "\n",
    "Большинство не Unix систем (Windows, Symbian OS)  используют последовательность этих двух символов('\\r\\n')\n"
   ]
  },
  {
   "cell_type": "markdown",
   "metadata": {},
   "source": [
    "##### Форматирование строк"
   ]
  },
  {
   "cell_type": "code",
   "execution_count": null,
   "id": "2bd36180",
   "metadata": {},
   "outputs": [],
   "source": [
    "name = \"Petr\"\n",
    "age = 45\n",
    "weight = 65.5\n",
    "\n",
    "res = \"Name: \" + name + '\\n' + \"Age: \" + str(age) + '\\n' + \"Weight: \" + str(weight)\n",
    "print(\"Name: \" + name, \"Age: \" + str(age))"
   ]
  },
  {
   "cell_type": "code",
   "execution_count": null,
   "id": "7932b059",
   "metadata": {},
   "outputs": [],
   "source": [
    "name = \"Petr\"\n",
    "age = 45\n",
    "weight = 65.5\n",
    "\n",
    "res = \"\"\"Name: {}\n",
    "Age: {}\n",
    "Weight: {}\n",
    "\"\"\".format(name, age, weight)\n",
    "\n",
    "print(res)"
   ]
  },
  {
   "cell_type": "code",
   "execution_count": null,
   "id": "85f92f97",
   "metadata": {},
   "outputs": [],
   "source": [
    "name = \"Petr\"\n",
    "age = 45\n",
    "weight = 65.5\n",
    "\n",
    "res = f\"\"\"Name: {name}\n",
    "Age: {age}\n",
    "Weight: {weight}\n",
    "\"\"\"\n",
    "\n",
    "print(res)"
   ]
  },
  {
   "cell_type": "code",
   "execution_count": null,
   "id": "b78c1bff",
   "metadata": {},
   "outputs": [],
   "source": [
    "res"
   ]
  },
  {
   "cell_type": "markdown",
   "id": "986187c6",
   "metadata": {},
   "source": [
    "##### Сырые строки (raw string)"
   ]
  },
  {
   "cell_type": "code",
   "execution_count": null,
   "id": "056e237e",
   "metadata": {},
   "outputs": [],
   "source": [
    "print(\"1231231231 \\\\n \\\\\")"
   ]
  },
  {
   "cell_type": "code",
   "execution_count": null,
   "id": "7b3097e1",
   "metadata": {},
   "outputs": [],
   "source": [
    "path = 'C:\\ProgrammFiles\\new_Python'\n",
    "\n",
    "print(path)"
   ]
  },
  {
   "cell_type": "code",
   "execution_count": null,
   "id": "1fcceea9",
   "metadata": {},
   "outputs": [],
   "source": [
    "path = 'C:\\\\ProgrammFiles\\\\new_Python'\n",
    "\n",
    "print(path)"
   ]
  },
  {
   "cell_type": "code",
   "execution_count": null,
   "id": "fdbc0445",
   "metadata": {},
   "outputs": [],
   "source": [
    "path = r'C:\\ProgrammFiles\\new_Python'\n",
    "\n",
    "print(path)"
   ]
  },
  {
   "cell_type": "code",
   "execution_count": null,
   "id": "89c4f96f",
   "metadata": {},
   "outputs": [],
   "source": [
    "r\"\"\" ' \" \"\"\""
   ]
  },
  {
   "cell_type": "markdown",
   "metadata": {},
   "source": [
    "#### range"
   ]
  },
  {
   "cell_type": "code",
   "execution_count": null,
   "metadata": {},
   "outputs": [],
   "source": [
    "range(10)"
   ]
  },
  {
   "cell_type": "code",
   "execution_count": null,
   "metadata": {},
   "outputs": [],
   "source": [
    "print(range(5, 10))"
   ]
  },
  {
   "cell_type": "code",
   "execution_count": null,
   "metadata": {},
   "outputs": [],
   "source": [
    "list(range(5, 10))"
   ]
  },
  {
   "cell_type": "code",
   "execution_count": null,
   "metadata": {},
   "outputs": [],
   "source": [
    "list(range(5, 12, 2))"
   ]
  },
  {
   "cell_type": "markdown",
   "metadata": {},
   "source": [
    "#### Обзор коллекций"
   ]
  },
  {
   "cell_type": "markdown",
   "metadata": {},
   "source": [
    "##### list"
   ]
  },
  {
   "cell_type": "markdown",
   "metadata": {},
   "source": [
    "list - аналог массива в других ЯП. \n",
    "\n",
    "<br><br>\n",
    "<font size=\"5\" color=\"red\" face=\"Arial\"> __Важно:__ list/список не структура данных под названием список </font>"
   ]
  },
  {
   "cell_type": "code",
   "execution_count": null,
   "metadata": {},
   "outputs": [],
   "source": [
    "b = [1, 2, 3, 4]\n",
    "b"
   ]
  },
  {
   "cell_type": "code",
   "execution_count": null,
   "metadata": {},
   "outputs": [],
   "source": [
    "a = list(\"Hello world\")\n",
    "a"
   ]
  },
  {
   "cell_type": "code",
   "execution_count": null,
   "metadata": {},
   "outputs": [],
   "source": [
    "[], list()"
   ]
  },
  {
   "cell_type": "code",
   "execution_count": null,
   "metadata": {
    "collapsed": false
   },
   "outputs": [],
   "source": [
    "a"
   ]
  },
  {
   "cell_type": "code",
   "execution_count": null,
   "metadata": {},
   "outputs": [],
   "source": [
    "a[3] = 'p'\n",
    "a"
   ]
  },
  {
   "cell_type": "code",
   "execution_count": null,
   "metadata": {
    "collapsed": false
   },
   "outputs": [],
   "source": [
    "a[2]"
   ]
  },
  {
   "cell_type": "code",
   "execution_count": null,
   "metadata": {},
   "outputs": [],
   "source": [
    "b[2] = 'Hello world'\n",
    "b"
   ]
  },
  {
   "cell_type": "code",
   "execution_count": null,
   "metadata": {
    "collapsed": false
   },
   "outputs": [],
   "source": [
    "[1, 2., \"qwert\", [10, 10]]"
   ]
  },
  {
   "cell_type": "code",
   "execution_count": null,
   "metadata": {},
   "outputs": [],
   "source": [
    "b[2], a[3]"
   ]
  },
  {
   "cell_type": "markdown",
   "metadata": {},
   "source": [
    "##### tuple"
   ]
  },
  {
   "cell_type": "markdown",
   "metadata": {},
   "source": [
    "\"Константный\" массив"
   ]
  },
  {
   "cell_type": "code",
   "execution_count": null,
   "metadata": {},
   "outputs": [],
   "source": [
    "a = (1, 2, 3, 4)\n",
    "a"
   ]
  },
  {
   "cell_type": "code",
   "execution_count": null,
   "metadata": {},
   "outputs": [],
   "source": [
    "a[1]"
   ]
  },
  {
   "cell_type": "code",
   "execution_count": null,
   "metadata": {},
   "outputs": [],
   "source": [
    "a[1] = 1"
   ]
  },
  {
   "cell_type": "code",
   "execution_count": null,
   "metadata": {},
   "outputs": [],
   "source": [
    "b = tuple([1, 2, [1, 2, 3]])\n",
    "b"
   ]
  },
  {
   "cell_type": "code",
   "execution_count": null,
   "metadata": {},
   "outputs": [],
   "source": [
    "b[2][0] = 0\n",
    "b"
   ]
  },
  {
   "cell_type": "markdown",
   "metadata": {},
   "source": [
    "##### Множества"
   ]
  },
  {
   "cell_type": "markdown",
   "metadata": {},
   "source": [
    "Множество(set) - это неупорядоченная коллекция без повторяющихся элементов"
   ]
  },
  {
   "cell_type": "code",
   "execution_count": null,
   "metadata": {},
   "outputs": [],
   "source": [
    "a = {1, 2, '1', 3, 4, 4, 3, 2, 1}\n",
    "a"
   ]
  },
  {
   "cell_type": "code",
   "execution_count": null,
   "outputs": [],
   "source": [
    "a[1]"
   ],
   "metadata": {
    "collapsed": false,
    "pycharm": {
     "name": "#%%\n"
    }
   }
  },
  {
   "cell_type": "code",
   "execution_count": null,
   "outputs": [],
   "source": [
    "(1, 2, 3, [1, 2])"
   ],
   "metadata": {
    "collapsed": false,
    "pycharm": {
     "name": "#%%\n"
    }
   }
  },
  {
   "cell_type": "code",
   "execution_count": null,
   "metadata": {},
   "outputs": [],
   "source": [
    "b = {1, 2, 3, 4, 5, 'Hello', (1, 2, 3, [1, 2])}\n",
    "b"
   ]
  },
  {
   "cell_type": "code",
   "execution_count": null,
   "outputs": [],
   "source": [
    "a = 'Hello'\n",
    "a[2] = 'p'"
   ],
   "metadata": {
    "collapsed": false,
    "pycharm": {
     "name": "#%%\n"
    }
   }
  },
  {
   "cell_type": "code",
   "execution_count": null,
   "metadata": {},
   "outputs": [],
   "source": [
    "hash('Hello world 2')"
   ]
  },
  {
   "cell_type": "code",
   "execution_count": null,
   "metadata": {
    "collapsed": false
   },
   "outputs": [],
   "source": [
    "hash([1, ])"
   ]
  },
  {
   "cell_type": "code",
   "execution_count": null,
   "metadata": {
    "collapsed": false
   },
   "outputs": [],
   "source": [
    "a"
   ]
  },
  {
   "cell_type": "code",
   "execution_count": null,
   "metadata": {
    "collapsed": false
   },
   "outputs": [],
   "source": [
    "'2' in a"
   ]
  },
  {
   "cell_type": "code",
   "execution_count": null,
   "outputs": [],
   "source": [
    "type(set())"
   ],
   "metadata": {
    "collapsed": false,
    "pycharm": {
     "name": "#%%\n"
    }
   }
  },
  {
   "cell_type": "code",
   "execution_count": null,
   "outputs": [],
   "source": [
    "type({1, })"
   ],
   "metadata": {
    "collapsed": false,
    "pycharm": {
     "name": "#%%\n"
    }
   }
  },
  {
   "cell_type": "code",
   "execution_count": null,
   "metadata": {},
   "outputs": [],
   "source": [
    "type(set())"
   ]
  },
  {
   "cell_type": "markdown",
   "metadata": {},
   "source": [
    "##### Словари"
   ]
  },
  {
   "cell_type": "code",
   "execution_count": null,
   "metadata": {},
   "outputs": [],
   "source": [
    "a = {'One': 1, 'Two': 2, 'Three': 3}\n",
    "a"
   ]
  },
  {
   "cell_type": "code",
   "execution_count": null,
   "metadata": {},
   "outputs": [],
   "source": [
    "a['One']"
   ]
  },
  {
   "cell_type": "code",
   "execution_count": null,
   "metadata": {},
   "outputs": [],
   "source": [
    "a['Four'] = [4, 'IV']\n",
    "a"
   ]
  },
  {
   "cell_type": "code",
   "execution_count": null,
   "metadata": {},
   "outputs": [],
   "source": [
    "a[{1, 2, 3}] = 123"
   ]
  },
  {
   "cell_type": "code",
   "execution_count": null,
   "metadata": {},
   "outputs": [],
   "source": [
    "a[(1, 2, 3)] = 123\n",
    "a"
   ]
  },
  {
   "cell_type": "code",
   "execution_count": null,
   "metadata": {},
   "outputs": [],
   "source": [
    "a[{1, 2, 3}] = 123"
   ]
  },
  {
   "cell_type": "code",
   "execution_count": null,
   "metadata": {},
   "outputs": [],
   "source": [
    "a[frozenset([1, 2])] = 12\n",
    "a"
   ]
  },
  {
   "cell_type": "markdown",
   "metadata": {},
   "source": [
    "#### Общие подходы "
   ]
  },
  {
   "cell_type": "code",
   "execution_count": null,
   "metadata": {},
   "outputs": [],
   "source": [
    "my_list = [1, 2, 3, 4]\n",
    "my_tuple = (1, 2, 3, 4)\n",
    "my_set = {1, 2, 3, 3}\n",
    "my_dict = {'One': 1, 'Two': 2, 'Three': 3}"
   ]
  },
  {
   "cell_type": "markdown",
   "metadata": {},
   "source": [
    "##### Вывод коллекции"
   ]
  },
  {
   "cell_type": "code",
   "execution_count": null,
   "metadata": {},
   "outputs": [],
   "source": [
    "print(my_list)\n",
    "print(my_tuple)\n",
    "print(my_set)\n",
    "print(my_dict)"
   ]
  },
  {
   "cell_type": "code",
   "execution_count": null,
   "metadata": {
    "collapsed": false
   },
   "outputs": [],
   "source": [
    "my_dict['Two'] = [2, 'II']"
   ]
  },
  {
   "cell_type": "markdown",
   "metadata": {},
   "source": [
    "##### Количество элементов"
   ]
  },
  {
   "cell_type": "code",
   "execution_count": null,
   "metadata": {},
   "outputs": [],
   "source": [
    "len(my_list), len(my_tuple), len(my_set), len(my_dict)"
   ]
  },
  {
   "cell_type": "markdown",
   "metadata": {},
   "source": [
    "##### Наличие элемента в коллекции"
   ]
  },
  {
   "cell_type": "code",
   "execution_count": null,
   "metadata": {},
   "outputs": [],
   "source": [
    "print(1 in my_list, 5 in my_list)\n",
    "print(1 in my_tuple, 5 in my_tuple)\n",
    "print(1 in my_set, 5 in my_set)\n",
    "print('One' in my_dict, 5 in my_dict)"
   ]
  },
  {
   "cell_type": "code",
   "execution_count": null,
   "metadata": {},
   "outputs": [],
   "source": [
    "'Hel0' in 'Hello'"
   ]
  },
  {
   "cell_type": "markdown",
   "metadata": {},
   "source": [
    "##### Обход элементов"
   ]
  },
  {
   "cell_type": "code",
   "execution_count": null,
   "metadata": {},
   "outputs": [],
   "source": [
    "for i in my_list:\n",
    "    print(i)"
   ]
  },
  {
   "cell_type": "code",
   "execution_count": null,
   "metadata": {},
   "outputs": [],
   "source": [
    "for i in my_set:\n",
    "    print(i)"
   ]
  },
  {
   "cell_type": "code",
   "execution_count": null,
   "metadata": {},
   "outputs": [],
   "source": [
    "my_dict"
   ]
  },
  {
   "cell_type": "code",
   "execution_count": null,
   "metadata": {
    "collapsed": false
   },
   "outputs": [],
   "source": [
    "my_dict['Four'] = 4"
   ]
  },
  {
   "cell_type": "code",
   "execution_count": null,
   "metadata": {},
   "outputs": [],
   "source": [
    "for i in my_dict:\n",
    "    print(i)\n",
    "    \n",
    "for i in my_dict.values():\n",
    "    print(i)\n",
    "\n",
    "for i in my_dict.items():\n",
    "    print(i)"
   ]
  },
  {
   "cell_type": "markdown",
   "metadata": {},
   "source": [
    "##### Агрегирующие функции"
   ]
  },
  {
   "cell_type": "code",
   "execution_count": null,
   "metadata": {},
   "outputs": [],
   "source": [
    "max(my_list)"
   ]
  },
  {
   "cell_type": "code",
   "execution_count": null,
   "metadata": {},
   "outputs": [],
   "source": [
    "min(my_list)"
   ]
  },
  {
   "cell_type": "code",
   "execution_count": null,
   "metadata": {
    "collapsed": false
   },
   "outputs": [],
   "source": [
    "my_list[3] = 'qwe'"
   ]
  },
  {
   "cell_type": "code",
   "execution_count": null,
   "outputs": [],
   "source": [
    "my_list"
   ],
   "metadata": {
    "collapsed": false,
    "pycharm": {
     "name": "#%%\n"
    }
   }
  },
  {
   "cell_type": "code",
   "execution_count": null,
   "metadata": {},
   "outputs": [],
   "source": [
    "sum(my_list)"
   ]
  },
  {
   "cell_type": "markdown",
   "metadata": {},
   "source": [
    "#### Методы общие для части коллекций"
   ]
  },
  {
   "cell_type": "markdown",
   "metadata": {},
   "source": [
    "\n",
    "| Коллекция | .count() | .index() | .copy() | .clear() |\n",
    "|-----------|----------|----------|---------|----------|\n",
    "| list      |    +     |    +     |    +    |    +     |\n",
    "| tuple     |    +     |    +     |    -    |    -     |\n",
    "| string    |    +     |    +     |    -    |    -     |\n",
    "| set       |    -     |    -     |    +    |    +     |\n",
    "|  dict     |    -     |    -     |    +    |    +     |\n"
   ]
  },
  {
   "cell_type": "code",
   "execution_count": null,
   "metadata": {},
   "outputs": [],
   "source": [
    "my_list = [1, 2, 3, 4, 1, 2, 3, 5]\n",
    "my_tuple = (1, 2, 3, 4)\n",
    "my_set = {1, 2, 3}\n",
    "my_dict = {'One': 1, 'Two': 2, 'Three': 3}"
   ]
  },
  {
   "cell_type": "code",
   "execution_count": null,
   "metadata": {
    "collapsed": false
   },
   "outputs": [],
   "source": [
    "my_list"
   ]
  },
  {
   "cell_type": "code",
   "execution_count": null,
   "metadata": {},
   "outputs": [],
   "source": [
    "my_list.count(3)"
   ]
  },
  {
   "cell_type": "code",
   "execution_count": null,
   "metadata": {},
   "outputs": [],
   "source": [
    "my_list.index(5)"
   ]
  },
  {
   "cell_type": "code",
   "execution_count": null,
   "metadata": {},
   "outputs": [],
   "source": [
    "my_new_list = my_list.copy()\n",
    "my_new_old_list = my_list\n",
    "my_new_list, my_new_old_list"
   ]
  },
  {
   "cell_type": "code",
   "execution_count": null,
   "metadata": {
    "collapsed": false
   },
   "outputs": [],
   "source": [
    "my_list[0] = 0\n",
    "my_new_list, my_new_old_list"
   ]
  },
  {
   "cell_type": "code",
   "execution_count": null,
   "metadata": {
    "collapsed": false
   },
   "outputs": [],
   "source": [
    "my_list[0] = 1"
   ]
  },
  {
   "cell_type": "code",
   "execution_count": null,
   "metadata": {
    "collapsed": false
   },
   "outputs": [],
   "source": [
    "my_list"
   ]
  },
  {
   "cell_type": "code",
   "execution_count": null,
   "metadata": {
    "collapsed": false
   },
   "outputs": [],
   "source": [
    "my_new_list"
   ]
  },
  {
   "cell_type": "code",
   "execution_count": null,
   "metadata": {},
   "outputs": [],
   "source": [
    "my_new_list == my_list, my_new_list is my_list"
   ]
  },
  {
   "cell_type": "code",
   "execution_count": null,
   "id": "12389281",
   "metadata": {},
   "outputs": [],
   "source": [
    "my_new_old_list is my_list"
   ]
  },
  {
   "cell_type": "code",
   "execution_count": null,
   "metadata": {
    "collapsed": false
   },
   "outputs": [],
   "source": [
    "my_new_list, my_new_old_list"
   ]
  },
  {
   "cell_type": "code",
   "execution_count": null,
   "metadata": {},
   "outputs": [],
   "source": [
    "my_list = [1, 2, 3, [4, 5, 6]]\n",
    "my_new_list = my_list.copy()\n",
    "\n",
    "my_list"
   ]
  },
  {
   "cell_type": "code",
   "execution_count": null,
   "metadata": {},
   "outputs": [],
   "source": [
    "my_new_list"
   ]
  },
  {
   "cell_type": "code",
   "execution_count": null,
   "metadata": {},
   "outputs": [],
   "source": [
    "my_list[3][0] = 10\n",
    "my_list[0] = 11\n",
    "my_list"
   ]
  },
  {
   "cell_type": "code",
   "execution_count": null,
   "metadata": {},
   "outputs": [],
   "source": [
    "my_new_list"
   ]
  },
  {
   "cell_type": "markdown",
   "metadata": {},
   "source": [
    "#### Методы работы со множествами"
   ]
  },
  {
   "cell_type": "code",
   "execution_count": null,
   "metadata": {},
   "outputs": [],
   "source": [
    "A = {1, 2, 3}\n",
    "B = {3, 4, 3}\n",
    "\n",
    "A, B"
   ]
  },
  {
   "cell_type": "markdown",
   "metadata": {
    "collapsed": false
   },
   "source": [
    "![title](image/AorB.png)"
   ]
  },
  {
   "cell_type": "code",
   "execution_count": null,
   "metadata": {},
   "outputs": [],
   "source": [
    "A | B, A.union(B)"
   ]
  },
  {
   "cell_type": "markdown",
   "metadata": {
    "collapsed": false
   },
   "source": [
    "![title](image/AandB.png)"
   ]
  },
  {
   "cell_type": "code",
   "execution_count": null,
   "metadata": {},
   "outputs": [],
   "source": [
    "A & B, A.intersection(B)"
   ]
  },
  {
   "cell_type": "markdown",
   "metadata": {
    "collapsed": false
   },
   "source": [
    "![title](image/A-B.png)"
   ]
  },
  {
   "cell_type": "code",
   "execution_count": null,
   "metadata": {},
   "outputs": [],
   "source": [
    "A - B, A.difference(B)"
   ]
  },
  {
   "cell_type": "markdown",
   "metadata": {
    "collapsed": false
   },
   "source": [
    "![title](image/Asymmetric_differenceB.png)"
   ]
  },
  {
   "cell_type": "code",
   "execution_count": null,
   "metadata": {},
   "outputs": [],
   "source": [
    "A ^ B, A.symmetric_difference(B)"
   ]
  },
  {
   "cell_type": "code",
   "execution_count": null,
   "outputs": [],
   "source": [
    "A = {1, 2, 3, 4}"
   ],
   "metadata": {
    "collapsed": false,
    "pycharm": {
     "name": "#%%\n"
    }
   }
  },
  {
   "cell_type": "code",
   "execution_count": null,
   "outputs": [],
   "source": [
    "A, B"
   ],
   "metadata": {
    "collapsed": false,
    "pycharm": {
     "name": "#%%\n"
    }
   }
  },
  {
   "cell_type": "code",
   "execution_count": null,
   "metadata": {},
   "outputs": [],
   "source": [
    "A <= B, A.issubset(B)"
   ]
  },
  {
   "cell_type": "code",
   "execution_count": null,
   "metadata": {},
   "outputs": [],
   "source": [
    "A >= B, A.issuperset(B)"
   ]
  },
  {
   "cell_type": "code",
   "execution_count": null,
   "id": "27bd0daf",
   "metadata": {},
   "outputs": [],
   "source": [
    "A = {3, 4}\n",
    "B = {1, 2, 3, 4}"
   ]
  },
  {
   "cell_type": "code",
   "execution_count": null,
   "metadata": {
    "collapsed": false
   },
   "outputs": [],
   "source": [
    "A = {1, 2}\n",
    "B = {3, 4, 5, 6}"
   ]
  },
  {
   "cell_type": "code",
   "execution_count": null,
   "metadata": {},
   "outputs": [],
   "source": [
    "A.isdisjoint(B)"
   ]
  },
  {
   "cell_type": "markdown",
   "metadata": {},
   "source": [
    "#### Индексирование"
   ]
  },
  {
   "cell_type": "code",
   "execution_count": null,
   "metadata": {},
   "outputs": [],
   "source": [
    "my_list = [0, 1, 2, 3, 4, 5, 6]\n",
    "my_list[0]"
   ]
  },
  {
   "cell_type": "code",
   "execution_count": null,
   "metadata": {},
   "outputs": [],
   "source": [
    "my_list[6]"
   ]
  },
  {
   "cell_type": "code",
   "execution_count": null,
   "metadata": {},
   "outputs": [],
   "source": [
    "my_list[-1], my_list[len(my_list) - 1]"
   ]
  },
  {
   "cell_type": "code",
   "execution_count": null,
   "metadata": {},
   "outputs": [],
   "source": [
    "my_list[-7], my_list[len(my_list) - 7]"
   ]
  },
  {
   "cell_type": "code",
   "execution_count": null,
   "outputs": [],
   "source": [
    "len(my_list) - 8"
   ],
   "metadata": {
    "collapsed": false,
    "pycharm": {
     "name": "#%%\n"
    }
   }
  },
  {
   "cell_type": "code",
   "execution_count": null,
   "metadata": {
    "collapsed": false
   },
   "outputs": [],
   "source": [
    "my_list[len(my_list) - 8]"
   ]
  },
  {
   "cell_type": "code",
   "execution_count": null,
   "id": "e323e70d",
   "metadata": {},
   "outputs": [],
   "source": [
    "my_list[-8]"
   ]
  },
  {
   "cell_type": "code",
   "execution_count": null,
   "metadata": {},
   "outputs": [],
   "source": [
    "my_list[-5] = 11\n",
    "my_list"
   ]
  },
  {
   "cell_type": "code",
   "execution_count": null,
   "metadata": {},
   "outputs": [],
   "source": [
    "my_list[10] = 11\n",
    "my_list"
   ]
  },
  {
   "cell_type": "code",
   "execution_count": null,
   "metadata": {
    "collapsed": false
   },
   "outputs": [],
   "source": [
    "my_list[-10]"
   ]
  },
  {
   "cell_type": "markdown",
   "metadata": {},
   "source": [
    "##### Срезы (Slice)"
   ]
  },
  {
   "cell_type": "code",
   "execution_count": null,
   "metadata": {},
   "outputs": [],
   "source": [
    "my_list"
   ]
  },
  {
   "cell_type": "code",
   "execution_count": null,
   "metadata": {},
   "outputs": [],
   "source": [
    "my_list[1:5]"
   ]
  },
  {
   "cell_type": "code",
   "execution_count": null,
   "metadata": {},
   "outputs": [],
   "source": [
    "my_list[1:5:2]"
   ]
  },
  {
   "cell_type": "code",
   "execution_count": null,
   "metadata": {
    "collapsed": false
   },
   "outputs": [],
   "source": [
    "my_list[:5]"
   ]
  },
  {
   "cell_type": "code",
   "execution_count": null,
   "metadata": {
    "collapsed": false
   },
   "outputs": [],
   "source": [
    "my_list[5:]"
   ]
  },
  {
   "cell_type": "code",
   "execution_count": null,
   "metadata": {},
   "outputs": [],
   "source": [
    "EVEN = slice(1, None, 2)\n",
    "print(my_list[EVEN])"
   ]
  },
  {
   "cell_type": "code",
   "execution_count": null,
   "metadata": {
    "collapsed": false
   },
   "outputs": [],
   "source": [
    "my_list[1::2]"
   ]
  },
  {
   "cell_type": "markdown",
   "metadata": {},
   "source": [
    "##### Изменение списка"
   ]
  },
  {
   "cell_type": "code",
   "execution_count": null,
   "metadata": {
    "collapsed": false
   },
   "outputs": [],
   "source": [
    "my_list[1:2]"
   ]
  },
  {
   "cell_type": "code",
   "execution_count": null,
   "metadata": {},
   "outputs": [],
   "source": [
    "my_list = [1, 2, 3, 4, 5]\n",
    "my_list[1:2] = [1]\n",
    "print(my_list)     "
   ]
  },
  {
   "cell_type": "markdown",
   "metadata": {},
   "source": [
    "##### Выход за границы "
   ]
  },
  {
   "cell_type": "code",
   "execution_count": null,
   "metadata": {},
   "outputs": [],
   "source": [
    "my_list = [1, 2, 3, 4, 5]\n",
    "my_list[10]"
   ]
  },
  {
   "cell_type": "code",
   "execution_count": null,
   "metadata": {},
   "outputs": [],
   "source": [
    "my_list[0:100], my_list[50:100]"
   ]
  },
  {
   "cell_type": "code",
   "execution_count": null,
   "metadata": {
    "collapsed": false
   },
   "outputs": [],
   "source": [
    "my_list[50:51]"
   ]
  },
  {
   "cell_type": "code",
   "execution_count": null,
   "metadata": {
    "collapsed": false
   },
   "outputs": [],
   "source": [
    "my_list[0:2] = [10]"
   ]
  },
  {
   "cell_type": "code",
   "execution_count": null,
   "metadata": {
    "collapsed": false
   },
   "outputs": [],
   "source": [
    "my_list"
   ]
  },
  {
   "cell_type": "markdown",
   "metadata": {
    "collapsed": false
   },
   "source": [
    "#### Сортировка коллекций\n"
   ]
  },
  {
   "cell_type": "code",
   "execution_count": null,
   "metadata": {
    "collapsed": false
   },
   "outputs": [],
   "source": [
    "my_list = [55, 22, 33, 79, 60]\n",
    "\n",
    "sorted(my_list), my_list"
   ]
  },
  {
   "cell_type": "code",
   "execution_count": null,
   "metadata": {
    "collapsed": false
   },
   "outputs": [],
   "source": [
    "my_list = sorted(my_list)"
   ]
  },
  {
   "cell_type": "code",
   "execution_count": null,
   "metadata": {
    "collapsed": false
   },
   "outputs": [],
   "source": [
    "my_list"
   ]
  },
  {
   "cell_type": "code",
   "execution_count": null,
   "id": "18c46a17",
   "metadata": {},
   "outputs": [],
   "source": [
    "sorted({3, 1, 5})"
   ]
  },
  {
   "cell_type": "code",
   "execution_count": null,
   "metadata": {
    "collapsed": false
   },
   "outputs": [],
   "source": [
    "sorted([\"Hello\", \"Hell\", \"M\"])"
   ]
  },
  {
   "cell_type": "code",
   "execution_count": null,
   "metadata": {
    "collapsed": false
   },
   "outputs": [],
   "source": [
    "def cmp(a):\n",
    "    return len(a) % 3\n",
    "\n",
    "sorted([\"Hell\", \"Hello\", \"M\"], key=cmp)\n"
   ]
  },
  {
   "cell_type": "code",
   "execution_count": null,
   "metadata": {
    "collapsed": false
   },
   "outputs": [],
   "source": [
    "len(\"M\") % 3"
   ]
  },
  {
   "cell_type": "code",
   "execution_count": null,
   "outputs": [],
   "source": [
    "sorted(['QWER', 1, 2])"
   ],
   "metadata": {
    "collapsed": false,
    "pycharm": {
     "name": "#%%\n"
    }
   }
  },
  {
   "cell_type": "markdown",
   "metadata": {
    "collapsed": false
   },
   "source": [
    "#### Некоторые методы для строк"
   ]
  },
  {
   "cell_type": "code",
   "execution_count": null,
   "metadata": {
    "collapsed": false
   },
   "outputs": [],
   "source": [
    "\"hello, \" + \"world\""
   ]
  },
  {
   "cell_type": "code",
   "execution_count": null,
   "metadata": {
    "collapsed": false
   },
   "outputs": [],
   "source": [
    "\"Hello \" * 3 + \" world\""
   ]
  },
  {
   "cell_type": "code",
   "execution_count": null,
   "metadata": {
    "collapsed": false
   },
   "outputs": [],
   "source": [
    "len(\"hello\")"
   ]
  },
  {
   "cell_type": "code",
   "execution_count": null,
   "metadata": {
    "collapsed": false
   },
   "outputs": [],
   "source": [
    "\"Hello, Hell\".find(\"H\"), \"Hello, Hell\".rfind(\"H\")"
   ]
  },
  {
   "cell_type": "code",
   "execution_count": null,
   "metadata": {
    "collapsed": false
   },
   "outputs": [],
   "source": [
    "\"Hello, Hell\".replace(\"H\", 'h')"
   ]
  },
  {
   "cell_type": "code",
   "execution_count": null,
   "metadata": {
    "collapsed": false
   },
   "outputs": [],
   "source": [
    "\"Hello, Hell\".replace(\"H\", 'h', 1)"
   ]
  },
  {
   "cell_type": "code",
   "execution_count": null,
   "metadata": {
    "collapsed": false
   },
   "outputs": [],
   "source": [
    "\"Lorem ipsum dolor sit amet, consectetur adipiscing.\".split()"
   ]
  },
  {
   "cell_type": "code",
   "execution_count": null,
   "metadata": {
    "collapsed": false
   },
   "outputs": [],
   "source": [
    "\"Lorem ipsum dolor sit amet, consectetur adipiscing.\".split(', ')"
   ]
  },
  {
   "cell_type": "code",
   "execution_count": null,
   "metadata": {
    "collapsed": false
   },
   "outputs": [],
   "source": [
    "\"5\".zfill(3)"
   ]
  },
  {
   "cell_type": "code",
   "execution_count": null,
   "metadata": {
    "collapsed": false
   },
   "outputs": [],
   "source": [
    "\"Hello\".lower(), \"Hello\".upper()"
   ]
  },
  {
   "cell_type": "code",
   "execution_count": null,
   "metadata": {
    "collapsed": false
   },
   "outputs": [],
   "source": [
    "\"   Hello       \".rstrip(), \"Hello   \".lstrip(), \"   Hello         q  \".strip()"
   ]
  },
  {
   "cell_type": "code",
   "execution_count": null,
   "outputs": [],
   "source": [
    "\"aello\".capitalize()"
   ],
   "metadata": {
    "collapsed": false,
    "pycharm": {
     "name": "#%%\n"
    }
   }
  },
  {
   "cell_type": "markdown",
   "metadata": {},
   "source": [
    "# Условные операторы"
   ]
  },
  {
   "cell_type": "code",
   "execution_count": null,
   "metadata": {},
   "outputs": [],
   "source": [
    "a = 10\n",
    "if a < 5:\n",
    "    print(a)"
   ]
  },
  {
   "cell_type": "code",
   "execution_count": null,
   "metadata": {},
   "outputs": [],
   "source": [
    "a = 10\n",
    "if a < 5:\n",
    "    print(a)\n",
    "    ...\n",
    "else:\n",
    "    print('Else')"
   ]
  },
  {
   "cell_type": "code",
   "execution_count": null,
   "metadata": {},
   "outputs": [],
   "source": [
    "a = 7\n",
    "if a < 5:\n",
    "    print('a < 5')\n",
    "elif a < 10:\n",
    "    print('5 <= a < 10')\n",
    "elif a < 15:\n",
    "    print('10 <= a <= 15')\n",
    "else:\n",
    "    print('Else')\n",
    "\n",
    "print('END')"
   ]
  },
  {
   "cell_type": "markdown",
   "metadata": {},
   "source": [
    "# Циклы"
   ]
  },
  {
   "cell_type": "code",
   "execution_count": null,
   "metadata": {},
   "outputs": [],
   "source": [
    "i = 5\n",
    "while i < 10:\n",
    "    print(i)\n",
    "    i += 1\n",
    "    # i = i + 1\n",
    "print('END')"
   ]
  },
  {
   "cell_type": "code",
   "execution_count": null,
   "metadata": {},
   "outputs": [],
   "source": [
    "m = [1, 2, 3]\n",
    "for i in m:\n",
    "    print(i)\n",
    "    print(i + 1)"
   ]
  },
  {
   "cell_type": "code",
   "execution_count": null,
   "metadata": {},
   "outputs": [],
   "source": [
    "for i in range(len(m)):\n",
    "    print(i, '-', m[i])"
   ]
  },
  {
   "cell_type": "code",
   "execution_count": null,
   "metadata": {},
   "outputs": [],
   "source": [
    "for i, item in enumerate(m):\n",
    "    print(i, '-', item)"
   ]
  },
  {
   "cell_type": "code",
   "execution_count": null,
   "metadata": {
    "collapsed": false
   },
   "outputs": [],
   "source": [
    "my_dict"
   ]
  },
  {
   "cell_type": "code",
   "execution_count": null,
   "metadata": {
    "collapsed": false
   },
   "outputs": [],
   "source": [
    "for i, item in [(1, 4), (2, 5)]:\n",
    "    print(i, item)"
   ]
  },
  {
   "cell_type": "code",
   "execution_count": null,
   "metadata": {},
   "outputs": [],
   "source": [
    "m = [88, 16, 13, 41, 52, 66, 3, 21, 77, 63, 97, 5, 54, 54]\n",
    "\n",
    "for i in m:\n",
    "    if i == 66:\n",
    "        print(\"Элемент 66 существует в коллекции\")\n",
    "        break\n",
    "    print(i)"
   ]
  },
  {
   "cell_type": "code",
   "execution_count": null,
   "metadata": {
    "collapsed": false
   },
   "outputs": [],
   "source": [
    "66 in m"
   ]
  },
  {
   "cell_type": "code",
   "execution_count": null,
   "metadata": {},
   "outputs": [],
   "source": [
    "m = [16, 13, 41, 52, 62, 3, 21, 20, 71, 63, 97, 5, 54, 54, 22]\n",
    "for i in m:\n",
    "    if i % 11 == 0:\n",
    "        print(i)\n",
    "        print(\"Элемент который делится на 11 существует в коллекции\")\n",
    "        break\n",
    "else:\n",
    "    print(\"Такого числа не существует\")\n",
    "\n"
   ]
  },
  {
   "cell_type": "markdown",
   "id": "50399da3",
   "metadata": {},
   "source": [
    "# Некоторые задачи на Python"
   ]
  },
  {
   "cell_type": "markdown",
   "id": "0250e409",
   "metadata": {},
   "source": [
    "Нарисуйте треугольник: \n",
    "```\n",
    "*_____\n",
    "**____\n",
    "***___\n",
    "****__\n",
    "*****_\n",
    "******\n",
    "```"
   ]
  },
  {
   "cell_type": "code",
   "execution_count": null,
   "id": "b68c3c48",
   "metadata": {},
   "outputs": [],
   "source": [
    "count_of_string = 6\n",
    "for i in range(count_of_string):\n",
    "    print('*' * (i + 1) + '_' * (count_of_string - (i + 1)))\n"
   ]
  },
  {
   "cell_type": "markdown",
   "id": "973e59e3",
   "metadata": {},
   "source": [
    "Проверить делится ли число на 5:"
   ]
  },
  {
   "cell_type": "code",
   "execution_count": null,
   "id": "ea8864bd",
   "metadata": {},
   "outputs": [],
   "source": [
    "num = 25\n",
    "if num % 5 == 0:\n",
    "    print('Число делится на 5')"
   ]
  },
  {
   "cell_type": "code",
   "execution_count": null,
   "id": "f7a45b70",
   "metadata": {},
   "outputs": [],
   "source": [
    "num % 5"
   ]
  },
  {
   "cell_type": "code",
   "execution_count": null,
   "id": "712d85a2",
   "metadata": {},
   "outputs": [],
   "source": [
    "num = 25\n",
    "if num % 10 == 0 or num % 10 == 5:\n",
    "    print('Число делится на 5')"
   ]
  },
  {
   "cell_type": "code",
   "execution_count": null,
   "outputs": [],
   "source": [
    "a = set()\n",
    "\n",
    "a.add('1234567')\n",
    "\n",
    "a = '12345'"
   ],
   "metadata": {
    "collapsed": false,
    "pycharm": {
     "name": "#%%\n"
    }
   }
  },
  {
   "cell_type": "markdown",
   "metadata": {
    "collapsed": false
   },
   "source": [
    "# Рекомендуемая литература:\n",
    "\n",
    "- Марк Лутц: Изучаем Python\n",
    "- https://younglinux.info/python/course\n",
    "- https://telegra.ph/Oshibki-v-botah-i-kak-ih-chitat-01-11\n",
    "- Грокаем алгоритмы(примеры на Python 2)\n",
    "- Н.Вирт: Алгоритмы и структуры данных\n",
    "- Томас Кормен: Алгоритмы. Построение и анализ"
   ]
  },
  {
   "cell_type": "markdown",
   "metadata": {
    "collapsed": false
   },
   "source": [
    "# Вопросы для самостоятельного изучения:\n",
    "- Рекурсия. Что такое, зачем используется?\n",
    "- Бинарный поиск\n",
    "- Почитать про сложность алгоритмов\n",
    "- Хеширование. Хеш таблицы *\n",
    "- Системы счисления \n",
    "    - [Статья на thecode](https://thecode.media/binary-notation/)\n",
    "    - Петцольд Ч. Код: тайный язык информатики. – \" Манн, Иванов и Фербер\", 2001.\n",
    "- Отличия Python 2 и Python 3:\n",
    "    - [Отличия Python 2.7 и Python 3.6](https://pyneng.readthedocs.io/ru/latest/book/additional_info/py2_vs_py3.html)\n",
    "- [Числа с плавающей точкой](https://habr.com/ru/post/337260/)"
   ]
  },
  {
   "cell_type": "markdown",
   "metadata": {},
   "source": [
    "# Вопросы к зачету"
   ]
  },
  {
   "cell_type": "markdown",
   "metadata": {},
   "source": [
    "- Модель памяти Python\n",
    "- Синтаксис языка\n",
    "- Чем отличаются циклы While и For\n",
    "- Как работают логические операторы and, or, not"
   ]
  },
  {
   "cell_type": "markdown",
   "metadata": {
    "collapsed": false,
    "pycharm": {
     "name": "#%% md\n"
    }
   },
   "source": [
    "# Задания для самостоятельного решения\n",
    "\n",
    "Задание не оценивается и не проверяется\n"
   ]
  },
  {
   "cell_type": "markdown",
   "id": "a86dbb78",
   "metadata": {},
   "source": [
    "1. Нарисовать Пирамиду из символов *:\n",
    "```\n",
    "    *\n",
    "   ***\n",
    "  *****\n",
    " *******\n",
    "*********\n",
    "```\n",
    "2. Вычислить сумму цифр трехзначного числа\n",
    "```\n",
    "123 = 1 + 2 + 3 = 6\n",
    "```\n",
    "3. Дано несколько значений, требуется получить только уникальные:\n",
    "```\n",
    "\"H\", \"e\", \"l\", \"l\", \"o\" -> \"H\", \"e\", \"l\", \"o\"\n",
    "```"
   ]
  },
  {
   "cell_type": "code",
   "execution_count": null,
   "outputs": [],
   "source": [],
   "metadata": {
    "collapsed": false
   }
  }
 ],
 "metadata": {
  "kernelspec": {
   "display_name": "Python 3.9.12 64-bit",
   "language": "python",
   "name": "python3"
  },
  "language_info": {
   "codemirror_mode": {
    "name": "ipython",
    "version": 3
   },
   "file_extension": ".py",
   "mimetype": "text/x-python",
   "name": "python",
   "nbconvert_exporter": "python",
   "pygments_lexer": "ipython3",
   "version": "3.9.13"
  },
  "notify_time": "5",
  "toc": {
   "base_numbering": 1,
   "nav_menu": {},
   "number_sections": true,
   "sideBar": true,
   "skip_h1_title": false,
   "title_cell": "Table of Contents",
   "title_sidebar": "Contents",
   "toc_cell": false,
   "toc_position": {},
   "toc_section_display": true,
   "toc_window_display": false
  },
  "vscode": {
   "interpreter": {
    "hash": "b0fa6594d8f4cbf19f97940f81e996739fb7646882a419484c72d19e05852a7e"
   }
  }
 },
 "nbformat": 4,
 "nbformat_minor": 5
}

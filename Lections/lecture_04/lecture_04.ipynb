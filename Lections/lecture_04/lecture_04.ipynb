{
 "cells": [
  {
   "cell_type": "markdown",
   "id": "e1c02ece",
   "metadata": {},
   "source": [
    "# Введение в методы анализа данных. Язык Python."
   ]
  },
  {
   "cell_type": "markdown",
   "id": "fe4f0986",
   "metadata": {},
   "source": [
    "## Лекция 4:  Элементы функционального программирования в Python. Работа с пакетами\n",
    "\n",
    "Аксентьев Артем (akseart@ya.ru)\n",
    "\n",
    "Ксемидов Борис (bworkboris@yandex.ru) "
   ]
  },
  {
   "cell_type": "markdown",
   "id": "2003c3a8",
   "metadata": {},
   "source": [
    "# Элементы функционального программирования"
   ]
  },
  {
   "cell_type": "markdown",
   "id": "5af50746",
   "metadata": {},
   "source": [
    "## Lambda функции"
   ]
  },
  {
   "cell_type": "markdown",
   "id": "c4669dd1",
   "metadata": {},
   "source": [
    "- Из-за сходства с аналогичной возможностью в языке LISP она получила название lambda. \n",
    "- lambda-выражения иногда называют анонимными (то есть безымянными) функциями."
   ]
  },
  {
   "cell_type": "code",
   "execution_count": 1,
   "id": "1884c0e2",
   "metadata": {},
   "outputs": [
    {
     "data": {
      "text/plain": [
       "[184, 205, 226, 170]"
      ]
     },
     "execution_count": 1,
     "metadata": {},
     "output_type": "execute_result"
    }
   ],
   "source": [
    "def func(x):\n",
    "    return x^2 + 8 * x + 10\n",
    "\n",
    "x_list = [20, 25, 30, 22]\n",
    "\n",
    "out_list = []\n",
    "\n",
    "for i in x_list:\n",
    "    out_list.append(func(i))\n",
    "    \n",
    "out_list"
   ]
  },
  {
   "cell_type": "code",
   "execution_count": 2,
   "id": "6d86a5cb",
   "metadata": {},
   "outputs": [
    {
     "data": {
      "text/plain": [
       "[184, 205, 226, 170]"
      ]
     },
     "execution_count": 2,
     "metadata": {},
     "output_type": "execute_result"
    }
   ],
   "source": [
    "x_list = [20, 25, 30, 22]\n",
    "\n",
    "out_list = []\n",
    "\n",
    "for i in x_list:\n",
    "    out_list.append((lambda x: x^2 + 8 * x + 10)(i))\n",
    "    \n",
    "out_list"
   ]
  },
  {
   "cell_type": "code",
   "execution_count": 3,
   "id": "32336009",
   "metadata": {
    "pycharm": {
     "name": "#%%\n"
    }
   },
   "outputs": [
    {
     "data": {
      "text/plain": [
       "[1, 5, 2, -1, 50, 100]"
      ]
     },
     "execution_count": 3,
     "metadata": {},
     "output_type": "execute_result"
    }
   ],
   "source": [
    "sorted([1, -1, 100, 5, 50, 2], key=lambda x: len(str(x)))"
   ]
  },
  {
   "cell_type": "code",
   "execution_count": 6,
   "id": "144c7821",
   "metadata": {},
   "outputs": [],
   "source": [
    "f = lambda x, y: x if x > y else y\n",
    "\n",
    "# f = lambda x, y: (x if x > y else y) if x > 10 else 10\n",
    "#\n",
    "f = lambda a, b, c: (a and b) or c"
   ]
  },
  {
   "cell_type": "code",
   "execution_count": 8,
   "id": "753a3976",
   "metadata": {},
   "outputs": [
    {
     "data": {
      "text/plain": [
       "3"
      ]
     },
     "execution_count": 8,
     "metadata": {},
     "output_type": "execute_result"
    }
   ],
   "source": [
    "f(3, 2)"
   ]
  },
  {
   "cell_type": "code",
   "execution_count": null,
   "metadata": {
    "collapsed": false,
    "pycharm": {
     "name": "#%%\n"
    }
   },
   "outputs": [],
   "source": [
    "def f(x, y):\n",
    "    if x > y:\n",
    "        return x\n",
    "    return y\n",
    "    return x if x > y else y"
   ]
  },
  {
   "cell_type": "markdown",
   "id": "85955ae3",
   "metadata": {},
   "source": [
    "## Map функции\n",
    "\n",
    "Применяют функцию к последовательности"
   ]
  },
  {
   "cell_type": "code",
   "execution_count": 9,
   "id": "1bc0772a",
   "metadata": {
    "pycharm": {
     "name": "#%%\n"
    }
   },
   "outputs": [
    {
     "data": {
      "text/plain": [
       "[1, 2, 3]"
      ]
     },
     "execution_count": 9,
     "metadata": {},
     "output_type": "execute_result"
    }
   ],
   "source": [
    "list(map(int, input().split()))"
   ]
  },
  {
   "cell_type": "code",
   "execution_count": 10,
   "metadata": {
    "collapsed": false,
    "pycharm": {
     "name": "#%%\n"
    }
   },
   "outputs": [
    {
     "data": {
      "text/plain": [
       "['1', '2', '3']"
      ]
     },
     "execution_count": 10,
     "metadata": {},
     "output_type": "execute_result"
    }
   ],
   "source": [
    "input().split()"
   ]
  },
  {
   "cell_type": "code",
   "execution_count": 11,
   "id": "1d8facd1",
   "metadata": {
    "pycharm": {
     "name": "#%%\n"
    }
   },
   "outputs": [
    {
     "data": {
      "text/plain": [
       "[1, 2, 3]"
      ]
     },
     "execution_count": 11,
     "metadata": {},
     "output_type": "execute_result"
    }
   ],
   "source": [
    "def my_map(func, seq):\n",
    "    res = []\n",
    "    for i in seq:\n",
    "        res.append(func(i))\n",
    "    return res\n",
    "\n",
    "my_map(int, input().split())"
   ]
  },
  {
   "cell_type": "code",
   "execution_count": 13,
   "id": "b89146d4",
   "metadata": {},
   "outputs": [
    {
     "data": {
      "text/plain": [
       "<map at 0x111b0cc40>"
      ]
     },
     "execution_count": 13,
     "metadata": {},
     "output_type": "execute_result"
    }
   ],
   "source": [
    "x_list = [20, 25, 30, 22]\n",
    "\n",
    "out_list = list(map(lambda x: x^2 + 8 * x + 10, x_list))\n",
    "\n",
    "out_list"
   ]
  },
  {
   "cell_type": "code",
   "execution_count": 14,
   "id": "3ff69830",
   "metadata": {
    "pycharm": {
     "name": "#%%\n"
    }
   },
   "outputs": [
    {
     "data": {
      "text/plain": [
       "8"
      ]
     },
     "execution_count": 14,
     "metadata": {},
     "output_type": "execute_result"
    }
   ],
   "source": [
    "pow(2, 3)"
   ]
  },
  {
   "cell_type": "code",
   "execution_count": 15,
   "id": "7f5ca5d4",
   "metadata": {},
   "outputs": [
    {
     "data": {
      "text/plain": [
       "[1, 16, 243]"
      ]
     },
     "execution_count": 15,
     "metadata": {},
     "output_type": "execute_result"
    }
   ],
   "source": [
    "list(map(pow, [1, 2, 3], [3, 4, 5]))"
   ]
  },
  {
   "cell_type": "code",
   "execution_count": 16,
   "id": "ac8ef668",
   "metadata": {},
   "outputs": [
    {
     "data": {
      "text/plain": [
       "243"
      ]
     },
     "execution_count": 16,
     "metadata": {},
     "output_type": "execute_result"
    }
   ],
   "source": [
    "3 ** 5"
   ]
  },
  {
   "cell_type": "code",
   "execution_count": 18,
   "id": "ffe98f41",
   "metadata": {},
   "outputs": [
    {
     "name": "stdout",
     "output_type": "stream",
     "text": [
      "[11, 13, 33, 42, 7, 70, 53, 71, 63, 36, 90, 47, 29, 76, 67, 58, 87, 78, 79, 99]\n",
      "[7, 11, 13, 29, 33, 36, 42, 47, 53, 58, 63, 67, 70, 71, 76, 78, 79, 87, 90, 99]\n"
     ]
    }
   ],
   "source": [
    "a = [53, 33, 76, 42, 87, 47, 11, 67, 58, 79, 78, 13, 63, 29, 71, 36, 90, 7, 99, 70]\n",
    "# Сортируем по сумме цифр числа\n",
    "print(sorted(a, key = lambda x: sum(list(map(int, list(str(x)))))))\n",
    "print(sorted(a))"
   ]
  },
  {
   "cell_type": "code",
   "execution_count": 17,
   "metadata": {
    "collapsed": false,
    "pycharm": {
     "name": "#%%\n"
    }
   },
   "outputs": [
    {
     "data": {
      "text/plain": [
       "['1', '2', '3', '4']"
      ]
     },
     "execution_count": 17,
     "metadata": {},
     "output_type": "execute_result"
    }
   ],
   "source": [
    "list('1234')"
   ]
  },
  {
   "cell_type": "markdown",
   "id": "562dbd25",
   "metadata": {},
   "source": [
    "## Filter"
   ]
  },
  {
   "cell_type": "code",
   "execution_count": 21,
   "id": "3f114c26",
   "metadata": {},
   "outputs": [
    {
     "data": {
      "text/plain": [
       "[53,\n",
       " 33,\n",
       " 76,\n",
       " 42,\n",
       " 87,\n",
       " 47,\n",
       " 11,\n",
       " 67,\n",
       " 58,\n",
       " 79,\n",
       " 78,\n",
       " 13,\n",
       " 63,\n",
       " 29,\n",
       " 71,\n",
       " 36,\n",
       " 90,\n",
       " 99,\n",
       " 70,\n",
       " 19]"
      ]
     },
     "execution_count": 21,
     "metadata": {},
     "output_type": "execute_result"
    }
   ],
   "source": [
    "a = [53, 33, 76, 42, 87, 47, 11, 67, 58, 79, 78, 13, 63, 29, 71, 36, 90, 7, 99, 70, 1, 2, 10, 19]\n",
    "\n",
    "list(filter(lambda x: x > 10, a))"
   ]
  },
  {
   "cell_type": "markdown",
   "id": "744d2990",
   "metadata": {},
   "source": [
    "## Reduce"
   ]
  },
  {
   "cell_type": "markdown",
   "id": "1e3ea81b",
   "metadata": {},
   "source": [
    "\"Накапливаемый\" map"
   ]
  },
  {
   "cell_type": "code",
   "execution_count": 22,
   "id": "782ead8a",
   "metadata": {},
   "outputs": [
    {
     "data": {
      "text/plain": [
       "(1109, 1109)"
      ]
     },
     "execution_count": 22,
     "metadata": {},
     "output_type": "execute_result"
    }
   ],
   "source": [
    "from functools import reduce\n",
    "a = [53, 33, 76, 42, 87, 47, 11, 67, 58, 79, 78, 13, 63, 29, 71, 36, 90, 7, 99, 70]\n",
    "\n",
    "reduce(lambda x, y: x+y, a), sum(a)"
   ]
  },
  {
   "cell_type": "code",
   "execution_count": 37,
   "metadata": {
    "collapsed": false,
    "pycharm": {
     "name": "#%%\n"
    }
   },
   "outputs": [],
   "source": [
    "def my_reduce(foo, sequence):\n",
    "    res = 0\n",
    "    for i in sequence:\n",
    "        res += foo(res, i)\n",
    "    return res\n"
   ]
  },
  {
   "cell_type": "code",
   "execution_count": 34,
   "metadata": {
    "collapsed": false,
    "pycharm": {
     "name": "#%%\n"
    }
   },
   "outputs": [],
   "source": [
    "def foo(sum_seq, elem):\n",
    "    print('x: ', sum_seq)\n",
    "    print('y: ', elem)\n",
    "    return sum_seq + elem"
   ]
  },
  {
   "cell_type": "code",
   "execution_count": 38,
   "metadata": {
    "collapsed": false,
    "pycharm": {
     "name": "#%%\n"
    }
   },
   "outputs": [
    {
     "name": "stdout",
     "output_type": "stream",
     "text": [
      "x:  0\n",
      "y:  53\n",
      "x:  53\n",
      "y:  33\n",
      "x:  139\n",
      "y:  76\n",
      "x:  354\n",
      "y:  42\n",
      "x:  750\n",
      "y:  87\n"
     ]
    },
    {
     "data": {
      "text/plain": [
       "1587"
      ]
     },
     "execution_count": 38,
     "metadata": {},
     "output_type": "execute_result"
    }
   ],
   "source": [
    "# 53, 33, 76, 42, 87, 47\n",
    "my_reduce(foo, a[:5])"
   ]
  },
  {
   "cell_type": "markdown",
   "id": "c77441d8",
   "metadata": {},
   "source": [
    "## Агрегирующие функции"
   ]
  },
  {
   "cell_type": "code",
   "execution_count": 39,
   "id": "4bf0e506",
   "metadata": {},
   "outputs": [
    {
     "data": {
      "text/plain": [
       "10"
      ]
     },
     "execution_count": 39,
     "metadata": {},
     "output_type": "execute_result"
    }
   ],
   "source": [
    "sum([1, 2, 3, 4])"
   ]
  },
  {
   "cell_type": "code",
   "execution_count": 42,
   "id": "64499537",
   "metadata": {},
   "outputs": [
    {
     "data": {
      "text/plain": [
       "True"
      ]
     },
     "execution_count": 42,
     "metadata": {},
     "output_type": "execute_result"
    }
   ],
   "source": [
    "all([1, 2, 3])"
   ]
  },
  {
   "cell_type": "code",
   "execution_count": 43,
   "metadata": {
    "collapsed": false,
    "pycharm": {
     "name": "#%%\n"
    }
   },
   "outputs": [
    {
     "data": {
      "text/plain": [
       "3"
      ]
     },
     "execution_count": 43,
     "metadata": {},
     "output_type": "execute_result"
    }
   ],
   "source": [
    "1 and 2 and 3"
   ]
  },
  {
   "cell_type": "code",
   "execution_count": 44,
   "id": "99e4d4f9",
   "metadata": {},
   "outputs": [
    {
     "data": {
      "text/plain": [
       "True"
      ]
     },
     "execution_count": 44,
     "metadata": {},
     "output_type": "execute_result"
    }
   ],
   "source": [
    "any([True, False, False])"
   ]
  },
  {
   "cell_type": "code",
   "execution_count": 45,
   "metadata": {
    "collapsed": false,
    "pycharm": {
     "name": "#%%\n"
    }
   },
   "outputs": [
    {
     "data": {
      "text/plain": [
       "True"
      ]
     },
     "execution_count": 45,
     "metadata": {},
     "output_type": "execute_result"
    }
   ],
   "source": [
    "True or False or False"
   ]
  },
  {
   "cell_type": "markdown",
   "id": "4a29fddb",
   "metadata": {},
   "source": [
    "# Итераторы"
   ]
  },
  {
   "cell_type": "code",
   "execution_count": 46,
   "id": "8ece1eeb",
   "metadata": {},
   "outputs": [
    {
     "name": "stdout",
     "output_type": "stream",
     "text": [
      "0\n",
      "1\n",
      "2\n",
      "3\n",
      "4\n"
     ]
    }
   ],
   "source": [
    "r = range(5)\n",
    "\n",
    "for i in r:\n",
    "    print(i)"
   ]
  },
  {
   "cell_type": "code",
   "execution_count": 50,
   "id": "a142ecd9",
   "metadata": {},
   "outputs": [
    {
     "name": "stdout",
     "output_type": "stream",
     "text": [
      "0\n",
      "1\n",
      "2\n",
      "3\n",
      "4\n"
     ]
    },
    {
     "ename": "StopIteration",
     "evalue": "",
     "output_type": "error",
     "traceback": [
      "\u001b[0;31m---------------------------------------------------------------------------\u001b[0m",
      "\u001b[0;31mStopIteration\u001b[0m                             Traceback (most recent call last)",
      "\u001b[0;32m/var/folders/g0/yt0m6mx534b6cl53216hwy940000gn/T/ipykernel_81929/1585042371.py\u001b[0m in \u001b[0;36m<module>\u001b[0;34m\u001b[0m\n\u001b[1;32m      6\u001b[0m \u001b[0mprint\u001b[0m\u001b[0;34m(\u001b[0m\u001b[0mnext\u001b[0m\u001b[0;34m(\u001b[0m\u001b[0mit\u001b[0m\u001b[0;34m)\u001b[0m\u001b[0;34m)\u001b[0m\u001b[0;34m\u001b[0m\u001b[0;34m\u001b[0m\u001b[0m\n\u001b[1;32m      7\u001b[0m \u001b[0mprint\u001b[0m\u001b[0;34m(\u001b[0m\u001b[0mnext\u001b[0m\u001b[0;34m(\u001b[0m\u001b[0mit\u001b[0m\u001b[0;34m)\u001b[0m\u001b[0;34m)\u001b[0m\u001b[0;34m\u001b[0m\u001b[0;34m\u001b[0m\u001b[0m\n\u001b[0;32m----> 8\u001b[0;31m \u001b[0mprint\u001b[0m\u001b[0;34m(\u001b[0m\u001b[0mnext\u001b[0m\u001b[0;34m(\u001b[0m\u001b[0mit\u001b[0m\u001b[0;34m)\u001b[0m\u001b[0;34m)\u001b[0m\u001b[0;34m\u001b[0m\u001b[0;34m\u001b[0m\u001b[0m\n\u001b[0m",
      "\u001b[0;31mStopIteration\u001b[0m: "
     ]
    }
   ],
   "source": [
    "it = iter(r)\n",
    "it = r.__iter__()\n",
    "\n",
    "print(next(it))\n",
    "print(it.__next__())\n",
    "print(next(it))\n",
    "print(next(it))\n",
    "print(next(it))\n",
    "print(next(it))"
   ]
  },
  {
   "cell_type": "code",
   "execution_count": 49,
   "id": "69154b34",
   "metadata": {},
   "outputs": [
    {
     "name": "stdout",
     "output_type": "stream",
     "text": [
      "H\n",
      "e\n",
      "l\n",
      "l\n",
      "o\n",
      " \n",
      "w\n",
      "o\n",
      "r\n",
      "l\n",
      "d\n"
     ]
    }
   ],
   "source": [
    "for i in \"Hello world\":\n",
    "    print(i)\n",
    "    ..."
   ]
  },
  {
   "cell_type": "code",
   "execution_count": 54,
   "id": "f0c56c29",
   "metadata": {},
   "outputs": [
    {
     "name": "stdout",
     "output_type": "stream",
     "text": [
      "2\n",
      "Hello world\n"
     ]
    }
   ],
   "source": [
    "it = iter({'Hello world', '2'})\n",
    "while True:\n",
    "    try:\n",
    "        i = next(it)\n",
    "        print(i)\n",
    "        ...\n",
    "    except StopIteration:\n",
    "        break"
   ]
  },
  {
   "cell_type": "code",
   "execution_count": 55,
   "metadata": {
    "collapsed": false,
    "pycharm": {
     "name": "#%%\n"
    }
   },
   "outputs": [
    {
     "ename": "TypeError",
     "evalue": "'str' object is not an iterator",
     "output_type": "error",
     "traceback": [
      "\u001b[0;31m---------------------------------------------------------------------------\u001b[0m",
      "\u001b[0;31mTypeError\u001b[0m                                 Traceback (most recent call last)",
      "\u001b[0;32m/var/folders/g0/yt0m6mx534b6cl53216hwy940000gn/T/ipykernel_81929/1358770951.py\u001b[0m in \u001b[0;36m<module>\u001b[0;34m\u001b[0m\n\u001b[0;32m----> 1\u001b[0;31m \u001b[0mnext\u001b[0m\u001b[0;34m(\u001b[0m\u001b[0;34m'123'\u001b[0m\u001b[0;34m)\u001b[0m\u001b[0;34m\u001b[0m\u001b[0;34m\u001b[0m\u001b[0m\n\u001b[0m",
      "\u001b[0;31mTypeError\u001b[0m: 'str' object is not an iterator"
     ]
    }
   ],
   "source": [
    "next('123')"
   ]
  },
  {
   "cell_type": "code",
   "execution_count": 56,
   "id": "bc4e2184",
   "metadata": {
    "pycharm": {
     "name": "#%%\n"
    }
   },
   "outputs": [],
   "source": [
    "class Data:\n",
    "    def __init__(self):\n",
    "        self._data = [1, 2, 3, 4]\n",
    "        self._data_len = len(self._data)\n",
    "\n",
    "    def __iter__(self):\n",
    "        self._index = 0\n",
    "        return self\n",
    "\n",
    "    def __next__(self):\n",
    "        if self._index > self._data_len - 1:\n",
    "            raise StopIteration\n",
    "        result = self._data[self._index]\n",
    "        result *= 3\n",
    "        self._index += 1\n",
    "        return result\n",
    "\n",
    "my_iter = Data()"
   ]
  },
  {
   "cell_type": "code",
   "execution_count": 57,
   "id": "f4d9da28",
   "metadata": {
    "pycharm": {
     "name": "#%%\n"
    }
   },
   "outputs": [
    {
     "name": "stdout",
     "output_type": "stream",
     "text": [
      "3\n",
      "6\n",
      "9\n",
      "12\n"
     ]
    }
   ],
   "source": [
    "for i in my_iter:\n",
    "    print(i)"
   ]
  },
  {
   "cell_type": "markdown",
   "id": "65a1308b",
   "metadata": {
    "heading_collapsed": true
   },
   "source": [
    "# Генераторы"
   ]
  },
  {
   "cell_type": "markdown",
   "id": "5c2f6ca0",
   "metadata": {
    "hidden": true
   },
   "source": [
    "- В генераторе вместо return используется ключевое слово yield\n",
    "- yield используется для возвращения очередного значения коллекции\n",
    "- Генератор автоматически хранит своё внутреннее состояние"
   ]
  },
  {
   "cell_type": "code",
   "execution_count": 60,
   "id": "49cf9fae",
   "metadata": {
    "hidden": true
   },
   "outputs": [
    {
     "name": "stdout",
     "output_type": "stream",
     "text": [
      "Start \"Hello world!\"\n",
      "Hello world!\n",
      "Hello world!\n",
      "Hello world!\n",
      "Hello world!\n",
      "Hello world!\n",
      "Hello world!\n",
      "Hello world!\n",
      "Hello world!\n",
      "Hello world!\n",
      "Hello world!\n",
      "Stop \"Hello world!\"\n"
     ]
    }
   ],
   "source": [
    "def my_hello(n):\n",
    "    yield 'Start \"Hello world!\"'\n",
    "    i = 1\n",
    "    for i in range(n):\n",
    "        yield 'Hello world!'\n",
    "        ...\n",
    "    yield 'Stop \"Hello world!\"'\n",
    "        \n",
    "gen = my_hello(10)\n",
    "\n",
    "for s in gen:\n",
    "    print(s)"
   ]
  },
  {
   "cell_type": "code",
   "execution_count": 61,
   "id": "6679fd98",
   "metadata": {},
   "outputs": [
    {
     "data": {
      "text/plain": [
       "'Start \"Hello world!\"'"
      ]
     },
     "execution_count": 61,
     "metadata": {},
     "output_type": "execute_result"
    }
   ],
   "source": [
    "gen = my_hello(10)\n",
    "next(gen)"
   ]
  },
  {
   "cell_type": "code",
   "execution_count": 65,
   "id": "7c5bf6fc",
   "metadata": {},
   "outputs": [
    {
     "ename": "TypeError",
     "evalue": "object of type 'generator' has no len()",
     "output_type": "error",
     "traceback": [
      "\u001b[0;31m---------------------------------------------------------------------------\u001b[0m",
      "\u001b[0;31mTypeError\u001b[0m                                 Traceback (most recent call last)",
      "\u001b[0;32m/var/folders/g0/yt0m6mx534b6cl53216hwy940000gn/T/ipykernel_81929/3478254472.py\u001b[0m in \u001b[0;36m<module>\u001b[0;34m\u001b[0m\n\u001b[0;32m----> 1\u001b[0;31m \u001b[0mlen\u001b[0m\u001b[0;34m(\u001b[0m\u001b[0mgen\u001b[0m\u001b[0;34m)\u001b[0m\u001b[0;34m\u001b[0m\u001b[0;34m\u001b[0m\u001b[0m\n\u001b[0m",
      "\u001b[0;31mTypeError\u001b[0m: object of type 'generator' has no len()"
     ]
    }
   ],
   "source": [
    "len(gen)"
   ]
  },
  {
   "cell_type": "code",
   "execution_count": 64,
   "id": "54682d59",
   "metadata": {},
   "outputs": [
    {
     "data": {
      "text/plain": [
       "'Hello world!'"
      ]
     },
     "execution_count": 64,
     "metadata": {},
     "output_type": "execute_result"
    }
   ],
   "source": [
    "next(gen)"
   ]
  },
  {
   "cell_type": "markdown",
   "id": "f4ffa020",
   "metadata": {},
   "source": [
    "## Зачем?\n",
    "Для экономии памяти, ведь мы не загружаем в память весь набор данных, а лишь одну формулу для вычисления элементов этого набора данных"
   ]
  },
  {
   "cell_type": "markdown",
   "id": "030accf3",
   "metadata": {},
   "source": [
    "# Механизм comprehensions (Генератор коллекций)\n"
   ]
  },
  {
   "cell_type": "markdown",
   "id": "ea8bc091",
   "metadata": {},
   "source": [
    "## list comprehension"
   ]
  },
  {
   "cell_type": "code",
   "execution_count": 66,
   "id": "40374f4a",
   "metadata": {},
   "outputs": [
    {
     "data": {
      "text/plain": [
       "[1, 2, 3, 4, 5, 6, 7, 8, 9]"
      ]
     },
     "execution_count": 66,
     "metadata": {},
     "output_type": "execute_result"
    }
   ],
   "source": [
    "[i for i in range(1, 10)]"
   ]
  },
  {
   "cell_type": "code",
   "execution_count": 67,
   "id": "2b866026",
   "metadata": {},
   "outputs": [
    {
     "data": {
      "text/plain": [
       "[2, 4, 6, 8]"
      ]
     },
     "execution_count": 67,
     "metadata": {},
     "output_type": "execute_result"
    }
   ],
   "source": [
    "[i for i in range(1, 10) if i % 2 == 0]"
   ]
  },
  {
   "cell_type": "code",
   "execution_count": 68,
   "id": "4d06670c",
   "metadata": {},
   "outputs": [
    {
     "data": {
      "text/plain": [
       "[2, 4, 6]"
      ]
     },
     "execution_count": 68,
     "metadata": {},
     "output_type": "execute_result"
    }
   ],
   "source": [
    "[i for i in range(1, 10) if i % 2 == 0 and i < 7]"
   ]
  },
  {
   "cell_type": "code",
   "execution_count": 69,
   "id": "cd5c5694",
   "metadata": {},
   "outputs": [
    {
     "data": {
      "text/plain": [
       "[4, 16, 36]"
      ]
     },
     "execution_count": 69,
     "metadata": {},
     "output_type": "execute_result"
    }
   ],
   "source": [
    "[i ** 2 for i in range(1, 10) if i % 2 == 0 and i < 7]"
   ]
  },
  {
   "cell_type": "code",
   "execution_count": 70,
   "id": "f6188d1b",
   "metadata": {},
   "outputs": [
    {
     "data": {
      "text/plain": [
       "[4, 4, 6]"
      ]
     },
     "execution_count": 70,
     "metadata": {},
     "output_type": "execute_result"
    }
   ],
   "source": [
    "[i ** 2 if i < 4 else i for i in range(1, 10) if i % 2 == 0 and i < 7]"
   ]
  },
  {
   "cell_type": "markdown",
   "id": "f8c2671b",
   "metadata": {},
   "source": [
    "## set comprehension "
   ]
  },
  {
   "cell_type": "code",
   "execution_count": 71,
   "id": "b2ac1de0",
   "metadata": {},
   "outputs": [
    {
     "data": {
      "text/plain": [
       "{2, 4, 6, 8, 10, 12, 14, 16, 18, 20, 22, 24}"
      ]
     },
     "execution_count": 71,
     "metadata": {},
     "output_type": "execute_result"
    }
   ],
   "source": [
    "{i for i in range(1, 25) if i % 2 == 0}"
   ]
  },
  {
   "cell_type": "markdown",
   "id": "182cc733",
   "metadata": {},
   "source": [
    "## dictionary comprehension"
   ]
  },
  {
   "cell_type": "code",
   "execution_count": 72,
   "id": "7e28b12e",
   "metadata": {},
   "outputs": [
    {
     "data": {
      "text/plain": [
       "{2: 4,\n",
       " 4: 16,\n",
       " 6: 36,\n",
       " 8: 64,\n",
       " 10: 100,\n",
       " 12: 144,\n",
       " 14: 196,\n",
       " 16: 256,\n",
       " 18: 324,\n",
       " 20: 400,\n",
       " 22: 484,\n",
       " 24: 576}"
      ]
     },
     "execution_count": 72,
     "metadata": {},
     "output_type": "execute_result"
    }
   ],
   "source": [
    "{i : i**2 for i in range(1, 25) if i % 2 == 0}"
   ]
  },
  {
   "cell_type": "markdown",
   "id": "5336b320",
   "metadata": {},
   "source": [
    "# Декораторы"
   ]
  },
  {
   "cell_type": "code",
   "execution_count": 73,
   "id": "2fba641f",
   "metadata": {},
   "outputs": [
    {
     "name": "stdout",
     "output_type": "stream",
     "text": [
      "Hello world\n"
     ]
    }
   ],
   "source": [
    "def my_decorator(func_to_decorate):\n",
    "    def wrapper_func():\n",
    "        print(\"Можно выполнить что-то до функции\")\n",
    "        func_to_decorate()\n",
    "        print(\"Можно что-то после\")\n",
    "    return wrapper_func\n",
    "\n",
    "def hello():\n",
    "    print(\"Hello world\")\n",
    "\n",
    "hello()"
   ]
  },
  {
   "cell_type": "code",
   "execution_count": 74,
   "id": "dfdd282d",
   "metadata": {},
   "outputs": [
    {
     "name": "stdout",
     "output_type": "stream",
     "text": [
      "Можно выполнить что-то до функции\n",
      "Hello world\n",
      "Можно что-то после\n"
     ]
    }
   ],
   "source": [
    "def hello():\n",
    "    print(\"Hello world\")\n",
    "    \n",
    "hello_with_decorate = my_decorator(hello)\n",
    "hello_with_decorate()"
   ]
  },
  {
   "cell_type": "code",
   "execution_count": 75,
   "id": "9ba00a03",
   "metadata": {},
   "outputs": [],
   "source": [
    "@my_decorator\n",
    "def hello():\n",
    "    print(\"Hello world\")"
   ]
  },
  {
   "cell_type": "code",
   "execution_count": 76,
   "id": "7090be4d",
   "metadata": {},
   "outputs": [
    {
     "name": "stdout",
     "output_type": "stream",
     "text": [
      "Можно выполнить что-то до функции\n",
      "Hello world\n",
      "Можно что-то после\n"
     ]
    }
   ],
   "source": [
    "hello()"
   ]
  },
  {
   "cell_type": "code",
   "execution_count": 77,
   "id": "a9630fc8",
   "metadata": {},
   "outputs": [],
   "source": [
    "import time\n",
    "def times_for_func(func_to_decorate):\n",
    "    def wrapper():\n",
    "        before = time.time()\n",
    "        func_to_decorate()\n",
    "        print(time.time() - before)\n",
    "    return wrapper"
   ]
  },
  {
   "cell_type": "code",
   "execution_count": 86,
   "id": "a14f00df",
   "metadata": {},
   "outputs": [],
   "source": [
    "@times_for_func\n",
    "def hello():\n",
    "    # time.sleep(1)\n",
    "    print(\"Hello world\")"
   ]
  },
  {
   "cell_type": "code",
   "execution_count": 87,
   "id": "39ab5af8",
   "metadata": {},
   "outputs": [
    {
     "name": "stdout",
     "output_type": "stream",
     "text": [
      "Hello world\n",
      "1.7881393432617188e-05\n"
     ]
    }
   ],
   "source": [
    "hello()"
   ]
  },
  {
   "cell_type": "code",
   "execution_count": 88,
   "id": "6b90db75",
   "metadata": {},
   "outputs": [],
   "source": [
    "import time\n",
    "def times_for_func(func_to_decorate):\n",
    "    def wrapper(*args, **kwargs):\n",
    "        before = time.time()\n",
    "        func_to_decorate(*args, **kwargs)\n",
    "        print(time.time() - before)\n",
    "    return wrapper\n",
    "\n",
    "\n",
    "@times_for_func\n",
    "def hello(a, b):\n",
    "    print(\"Hello world\", a + b)\n"
   ]
  },
  {
   "cell_type": "code",
   "execution_count": 89,
   "id": "13b5f622",
   "metadata": {},
   "outputs": [
    {
     "name": "stdout",
     "output_type": "stream",
     "text": [
      "Hello world 40\n",
      "0.0001819133758544922\n"
     ]
    }
   ],
   "source": [
    "hello(10, 30)"
   ]
  },
  {
   "cell_type": "markdown",
   "id": "6a197e5e",
   "metadata": {},
   "source": [
    "# Функторы\n",
    "\n",
    "Объекты, похожие на функции"
   ]
  },
  {
   "cell_type": "code",
   "execution_count": 90,
   "id": "7885c0aa",
   "metadata": {
    "pycharm": {
     "name": "#%%\n"
    }
   },
   "outputs": [
    {
     "name": "stdout",
     "output_type": "stream",
     "text": [
      "3 3\n"
     ]
    }
   ],
   "source": [
    "def foo_functor(val1):\n",
    "    def closure(val2):\n",
    "        return val1 + val2\n",
    "    return closure\n",
    "\n",
    "class clsFunctor:\n",
    "    def __init__(self, val1):\n",
    "        self.val1 = val1\n",
    "\n",
    "    def __call__(self, val2):\n",
    "        return self.val1 + val2\n",
    "\n",
    "cl = clsFunctor(2)\n",
    "fn = foo_functor(2)\n",
    "\n",
    "print(cl(1), fn(1))"
   ]
  },
  {
   "cell_type": "markdown",
   "id": "e14284a1",
   "metadata": {},
   "source": [
    "# Функция zip"
   ]
  },
  {
   "cell_type": "code",
   "execution_count": 91,
   "id": "e44f9892",
   "metadata": {
    "pycharm": {
     "name": "#%%\n"
    }
   },
   "outputs": [
    {
     "name": "stdout",
     "output_type": "stream",
     "text": [
      "11\n",
      "22\n",
      "33\n",
      "44\n",
      "55\n"
     ]
    }
   ],
   "source": [
    "a = [1, 2, 3, 4, 5]\n",
    "b = [10, 20, 30, 40, 50]\n",
    "for (x, y) in zip(a, b):\n",
    "    print(x + y)"
   ]
  },
  {
   "cell_type": "code",
   "execution_count": 96,
   "metadata": {
    "collapsed": false,
    "pycharm": {
     "name": "#%%\n"
    }
   },
   "outputs": [
    {
     "data": {
      "text/plain": [
       "[11, 22, 33, 44, 55]"
      ]
     },
     "execution_count": 96,
     "metadata": {},
     "output_type": "execute_result"
    }
   ],
   "source": [
    "list(map(lambda x: x[0]+x[1], zip(a, b)))"
   ]
  },
  {
   "cell_type": "code",
   "execution_count": 92,
   "id": "03b38c55",
   "metadata": {
    "pycharm": {
     "name": "#%%\n"
    }
   },
   "outputs": [
    {
     "data": {
      "text/plain": [
       "[(1, 10), (2, 20), (3, 30), (4, 40), (5, 50)]"
      ]
     },
     "execution_count": 92,
     "metadata": {},
     "output_type": "execute_result"
    }
   ],
   "source": [
    "a = [1, 2, 3, 4, 5]\n",
    "b = [10, 20, 30, 40, 50]\n",
    "c = list(zip(a, b))\n",
    "c"
   ]
  },
  {
   "cell_type": "code",
   "execution_count": 97,
   "metadata": {
    "collapsed": false,
    "pycharm": {
     "name": "#%%\n"
    }
   },
   "outputs": [
    {
     "data": {
      "text/plain": [
       "[1, 2, 3, 4, 5, 10, 20, 30, 40, 50]"
      ]
     },
     "execution_count": 97,
     "metadata": {},
     "output_type": "execute_result"
    }
   ],
   "source": [
    "a + b"
   ]
  },
  {
   "cell_type": "code",
   "execution_count": 99,
   "id": "a289494f",
   "metadata": {
    "pycharm": {
     "name": "#%%\n"
    }
   },
   "outputs": [
    {
     "data": {
      "text/plain": [
       "[(1, 10, 100, 1), (2, 20, 200, 23), (3, 30, 300, 4)]"
      ]
     },
     "execution_count": 99,
     "metadata": {},
     "output_type": "execute_result"
    }
   ],
   "source": [
    "a = [1, 2, 3, 4, 5]\n",
    "b = [10, 20, 30, 40, 50]\n",
    "c = [100, 200, 300, 400]\n",
    "d = list(zip(a, b, c, [1, 23, 4]))\n",
    "d"
   ]
  },
  {
   "cell_type": "markdown",
   "id": "5f83207c",
   "metadata": {
    "pycharm": {
     "name": "#%% md\n"
    }
   },
   "source": [
    "range -- генератор или нет?"
   ]
  },
  {
   "cell_type": "markdown",
   "id": "85588bf0",
   "metadata": {
    "pycharm": {
     "name": "#%% md\n"
    }
   },
   "source": [
    "1. range имеет дополнительные атрибуты:\n",
    "    - range неизменяемы\n",
    "    - имеют полезные атрибуты (len, index, __getitem__)\n",
    "    - Можно итерироваться многократно\n",
    "2. Не хранит всю последдовательность в памяти"
   ]
  },
  {
   "cell_type": "code",
   "execution_count": 100,
   "id": "e42bca49",
   "metadata": {},
   "outputs": [
    {
     "data": {
      "text/plain": [
       "4"
      ]
     },
     "execution_count": 100,
     "metadata": {},
     "output_type": "execute_result"
    }
   ],
   "source": [
    "range(-1, 10)[5]"
   ]
  },
  {
   "cell_type": "code",
   "execution_count": 101,
   "id": "7ab47338",
   "metadata": {},
   "outputs": [
    {
     "data": {
      "text/plain": [
       "[0, 1, 2, 3, 4, 5, 6, 7, 8, 9]"
      ]
     },
     "execution_count": 101,
     "metadata": {},
     "output_type": "execute_result"
    }
   ],
   "source": [
    "list(range(10))"
   ]
  },
  {
   "cell_type": "markdown",
   "id": "b7649d12",
   "metadata": {},
   "source": [
    "# Интересные трюки"
   ]
  },
  {
   "cell_type": "markdown",
   "id": "eda8b6d6",
   "metadata": {},
   "source": [
    "Идет обработка большого массива данных, есть список стоп слов, если в строке встречается какое-либо стоп слово, то эта строка никак не обрабатывается"
   ]
  },
  {
   "cell_type": "code",
   "execution_count": 102,
   "id": "eead6eac",
   "metadata": {},
   "outputs": [
    {
     "data": {
      "text/plain": [
       "['Hello', 'World', 'Logs', 'Debug Loggers']"
      ]
     },
     "execution_count": 102,
     "metadata": {},
     "output_type": "execute_result"
    }
   ],
   "source": [
    "temp = [\"Hello\", \"World\", \"Test string\", \"Logs\", \"Debug Loggers\"]\n",
    "stop_words = [\"Test\", \"debug\"]\n",
    "res = []\n",
    "for i in temp:\n",
    "    # Do something\n",
    "    for word in stop_words:\n",
    "        if word in i:\n",
    "            break\n",
    "    else:\n",
    "        res.append(i)\n",
    "        # Do something\n",
    "\n",
    "res\n"
   ]
  },
  {
   "cell_type": "code",
   "execution_count": 104,
   "id": "3f49a6b2",
   "metadata": {},
   "outputs": [
    {
     "name": "stdout",
     "output_type": "stream",
     "text": [
      "1. Hello\n",
      "2. Hello\n",
      "1. World\n",
      "2. World\n",
      "1. Test string\n",
      "1. Logs\n",
      "2. Logs\n",
      "1. Debug Loggers\n"
     ]
    }
   ],
   "source": [
    "temp = [\"Hello\", \"World\", \"Test string\", \"Logs\", \"Debug Loggers debug\"]\n",
    "stop_words = [\"Test\", \"Debug\"]\n",
    "res = []\n",
    "for i in temp:\n",
    "    print(f\"1. {i}\")\n",
    "    if any([word.upper() in i.upper() for word in stop_words]):\n",
    "        continue\n",
    "    print(f\"2. {i}\")"
   ]
  },
  {
   "cell_type": "markdown",
   "id": "caf12c77",
   "metadata": {
    "collapsed": false,
    "pycharm": {
     "name": "#%% md\n"
    }
   },
   "source": [
    "# PyPi"
   ]
  },
  {
   "cell_type": "markdown",
   "id": "63f4e3a2",
   "metadata": {
    "collapsed": false,
    "pycharm": {
     "name": "#%% md\n"
    }
   },
   "source": [
    "PyPI (аббр. от англ. Python Package Index — «каталог пакетов Python») — каталог программного обеспечения, написанного на языке программирования"
   ]
  },
  {
   "cell_type": "markdown",
   "id": "c58934be",
   "metadata": {
    "collapsed": false,
    "pycharm": {
     "name": "#%% md\n"
    }
   },
   "source": [
    "## PIP\n",
    "pip — это система управления пакетами(библиотеками), которая на данный момент по умолчанию включена в дистрибутив языка. Она используется для установки и управления программными пакетами, написанными на Python.\n",
    "\n",
    "pip может брать пакеты из двух типов источников:\n",
    "- PyPi\n",
    "- Git-репозиторий"
   ]
  },
  {
   "cell_type": "markdown",
   "id": "0f530c53",
   "metadata": {
    "collapsed": false,
    "pycharm": {
     "name": "#%% md\n"
    }
   },
   "source": [
    "## Зачем это нужно?\n",
    "1. Избежать изобретения \"велосипедов\"\n",
    "2. В крупных коммерческих проектах избежать повторяемости одного и того же кода в различных продуктах"
   ]
  },
  {
   "cell_type": "markdown",
   "id": "37253b50",
   "metadata": {
    "collapsed": false
   },
   "source": [
    "## Как работать с pip?\n",
    "\n",
    "Установка нового пакета:"
   ]
  },
  {
   "cell_type": "code",
   "execution_count": 105,
   "id": "f4692b19",
   "metadata": {
    "collapsed": false,
    "pycharm": {
     "name": "#%%\n"
    }
   },
   "outputs": [
    {
     "name": "stdout",
     "output_type": "stream",
     "text": [
      "Requirement already satisfied: numpy in /Users/artem/miniconda3/envs/common_env_3_8/lib/python3.8/site-packages (1.23.1)\r\n",
      "Note: you may need to restart the kernel to use updated packages.\n"
     ]
    }
   ],
   "source": [
    "%pip install numpy"
   ]
  },
  {
   "cell_type": "markdown",
   "id": "66e14ca9",
   "metadata": {
    "collapsed": false
   },
   "source": [
    "Установка конкретной версии пакета:"
   ]
  },
  {
   "cell_type": "code",
   "execution_count": null,
   "id": "9c5dd5e7",
   "metadata": {
    "collapsed": false,
    "pycharm": {
     "name": "#%%\n"
    }
   },
   "outputs": [],
   "source": [
    "%pip install numpy==1.22.1"
   ]
  },
  {
   "cell_type": "markdown",
   "id": "ef5f485e",
   "metadata": {
    "collapsed": false
   },
   "source": [
    "Удаление пакета:"
   ]
  },
  {
   "cell_type": "code",
   "execution_count": 106,
   "id": "da52f6b5",
   "metadata": {
    "collapsed": false,
    "pycharm": {
     "name": "#%%\n"
    }
   },
   "outputs": [
    {
     "name": "stdout",
     "output_type": "stream",
     "text": [
      "Found existing installation: numpy 1.23.1\r\n",
      "Uninstalling numpy-1.23.1:\r\n",
      "  Would remove:\r\n",
      "    /Users/artem/miniconda3/envs/common_env_3_8/bin/f2py\r\n",
      "    /Users/artem/miniconda3/envs/common_env_3_8/bin/f2py3\r\n",
      "    /Users/artem/miniconda3/envs/common_env_3_8/bin/f2py3.8\r\n",
      "    /Users/artem/miniconda3/envs/common_env_3_8/lib/python3.8/site-packages/numpy-1.23.1.dist-info/*\r\n",
      "    /Users/artem/miniconda3/envs/common_env_3_8/lib/python3.8/site-packages/numpy/*\r\n",
      "Proceed (Y/n)? ^C\r\n",
      "\u001b[31mERROR: Operation cancelled by user\u001b[0m\r\n"
     ]
    }
   ],
   "source": [
    "!pip uninstall numpy"
   ]
  },
  {
   "cell_type": "markdown",
   "id": "40cd1815",
   "metadata": {
    "collapsed": false,
    "pycharm": {
     "name": "#%% md\n"
    }
   },
   "source": [
    "Вывод всех установленных пакетов:"
   ]
  },
  {
   "cell_type": "code",
   "execution_count": 107,
   "id": "b1aaf36d",
   "metadata": {
    "collapsed": false,
    "pycharm": {
     "name": "#%%\n"
    }
   },
   "outputs": [
    {
     "name": "stdout",
     "output_type": "stream",
     "text": [
      "Package                  Version\r\n",
      "------------------------ ---------\r\n",
      "absl-py                  1.1.0\r\n",
      "aggdraw                  1.3.15\r\n",
      "aiohttp                  3.8.1\r\n",
      "aiosignal                1.2.0\r\n",
      "appnope                  0.1.2\r\n",
      "argon2-cffi              20.1.0\r\n",
      "astunparse               1.6.3\r\n",
      "async-generator          1.10\r\n",
      "async-timeout            4.0.1\r\n",
      "atlasclient              1.0.0\r\n",
      "attrs                    21.4.0\r\n",
      "backcall                 0.2.0\r\n",
      "bleach                   4.1.0\r\n",
      "blis                     0.7.4\r\n",
      "boto3                    1.20.24\r\n",
      "botocore                 1.23.24\r\n",
      "Bottleneck               1.3.2\r\n",
      "brotlipy                 0.7.0\r\n",
      "cachetools               4.2.2\r\n",
      "catalogue                2.0.6\r\n",
      "certifi                  2022.6.15\r\n",
      "cffi                     1.15.0\r\n",
      "charset-normalizer       2.0.11\r\n",
      "click                    8.0.4\r\n",
      "colorama                 0.4.4\r\n",
      "cryptography             36.0.0\r\n",
      "cycler                   0.11.0\r\n",
      "cymem                    2.0.5\r\n",
      "debugpy                  1.5.1\r\n",
      "decorator                5.1.1\r\n",
      "defusedxml               0.7.1\r\n",
      "dnspython                2.2.1\r\n",
      "docker                   5.0.3\r\n",
      "email-validator          1.2.1\r\n",
      "entrypoints              0.3\r\n",
      "et-xmlfile               1.1.0\r\n",
      "flatbuffers              1.12\r\n",
      "fonttools                4.25.0\r\n",
      "frozenlist               1.2.0\r\n",
      "gast                     0.4.0\r\n",
      "gensim                   4.2.0\r\n",
      "google-api-core          1.25.1\r\n",
      "google-auth              1.33.0\r\n",
      "google-auth-oauthlib     0.4.6\r\n",
      "google-cloud-core        1.7.1\r\n",
      "google-cloud-storage     1.31.0\r\n",
      "google-crc32c            1.1.2\r\n",
      "google-pasta             0.2.0\r\n",
      "google-resumable-media   1.3.1\r\n",
      "googleapis-common-protos 1.53.0\r\n",
      "grpcio                   1.42.0\r\n",
      "h11                      0.13.0\r\n",
      "h5py                     3.6.0\r\n",
      "idna                     3.3\r\n",
      "importlib-metadata       4.8.2\r\n",
      "ipykernel                6.4.1\r\n",
      "ipython                  7.29.0\r\n",
      "ipython-genutils         0.2.0\r\n",
      "ipywidgets               7.6.5\r\n",
      "jedi                     0.18.1\r\n",
      "Jinja2                   3.0.2\r\n",
      "jmespath                 0.10.0\r\n",
      "joblib                   1.1.0\r\n",
      "json5                    0.9.8\r\n",
      "jsonschema               3.2.0\r\n",
      "jupyter                  1.0.0\r\n",
      "jupyter-client           7.1.2\r\n",
      "jupyter-console          6.4.0\r\n",
      "jupyter-core             4.9.1\r\n",
      "jupyterlab-pygments      0.1.2\r\n",
      "jupyterlab-widgets       1.0.0\r\n",
      "keras                    2.9.0\r\n",
      "Keras-Preprocessing      1.1.2\r\n",
      "kiwisolver               1.3.1\r\n",
      "langcodes                3.3.0\r\n",
      "libclang                 14.0.1\r\n",
      "lxml                     4.8.0\r\n",
      "Markdown                 3.4.1\r\n",
      "MarkupSafe               2.0.1\r\n",
      "matplotlib               3.5.0\r\n",
      "matplotlib-inline        0.1.2\r\n",
      "mega.py                  1.0.8\r\n",
      "mistune                  0.8.4\r\n",
      "multidict                5.2.0\r\n",
      "munkres                  1.1.4\r\n",
      "murmurhash               1.0.5\r\n",
      "nbclient                 0.5.3\r\n",
      "nbconvert                6.3.0\r\n",
      "nbformat                 5.1.3\r\n",
      "nest-asyncio             1.5.1\r\n",
      "notebook                 6.4.6\r\n",
      "numexpr                  2.8.1\r\n",
      "numpy                    1.24.4\r\n",
      "oauthlib                 3.2.0\r\n",
      "olefile                  0.46\r\n",
      "openpyxl                 3.0.10\r\n",
      "opt-einsum               3.3.0\r\n",
      "outcome                  1.2.0\r\n",
      "packaging                21.3\r\n",
      "pandas                   1.3.5\r\n",
      "pandocfilters            1.5.0\r\n",
      "parso                    0.8.3\r\n",
      "pathlib                  1.0.1\r\n",
      "pathy                    0.6.0\r\n",
      "pexpect                  4.8.0\r\n",
      "phonenumbers             8.12.51\r\n",
      "pickleshare              0.7.5\r\n",
      "Pillow                   8.3.1\r\n",
      "pip                      21.2.4\r\n",
      "preshed                  3.0.5\r\n",
      "prometheus-client        0.12.0\r\n",
      "prompt-toolkit           3.0.20\r\n",
      "protobuf                 3.19.1\r\n",
      "ptyprocess               0.7.0\r\n",
      "pyaes                    1.6.1\r\n",
      "pyasn1                   0.4.8\r\n",
      "pyasn1-modules           0.2.8\r\n",
      "pycparser                2.21\r\n",
      "pycryptodome             3.15.0\r\n",
      "pydantic                 1.8.2\r\n",
      "pydot                    1.4.2\r\n",
      "Pygments                 2.10.0\r\n",
      "pymongo                  3.12.0\r\n",
      "pyOpenSSL                22.0.0\r\n",
      "pyparsing                3.0.4\r\n",
      "PyQt5                    5.15.2\r\n",
      "PyQt5_sip                4.19.25\r\n",
      "PyQtChart                5.15.2\r\n",
      "pyrsistent               0.18.0\r\n",
      "PySocks                  1.7.1\r\n",
      "pyTelegramBotAPI         4.5.1\r\n",
      "python-dateutil          2.8.2\r\n",
      "python-docx              0.8.11\r\n",
      "pytz                     2021.3\r\n",
      "pyzmq                    22.3.0\r\n",
      "qtconsole                5.1.1\r\n",
      "QtPy                     1.11.2\r\n",
      "quantitizer              1.0.0\r\n",
      "requests                 2.27.1\r\n",
      "requests-oauthlib        1.3.1\r\n",
      "rsa                      4.7.2\r\n",
      "s3transfer               0.5.0\r\n",
      "scikit-learn             1.0.2\r\n",
      "scipy                    1.8.1\r\n",
      "seaborn                  0.11.2\r\n",
      "selenium                 4.3.0\r\n",
      "Send2Trash               1.8.0\r\n",
      "setuptools               58.0.4\r\n",
      "shellingham              1.3.1\r\n",
      "six                      1.15.0\r\n",
      "sklearn                  0.0\r\n",
      "smart-open               5.1.0\r\n",
      "sniffio                  1.2.0\r\n",
      "sortedcontainers         2.4.0\r\n",
      "spacy                    3.2.1\r\n",
      "spacy-legacy             3.0.8\r\n",
      "spacy-loggers            1.0.1\r\n",
      "srsly                    2.4.1\r\n",
      "Telethon                 1.24.0\r\n",
      "tenacity                 5.1.5\r\n",
      "tensorboard              2.9.1\r\n",
      "tensorboard-data-server  0.6.1\r\n",
      "tensorboard-plugin-wit   1.8.1\r\n",
      "tensorflow-estimator     2.9.0\r\n",
      "tensorflow-macos         2.9.2\r\n",
      "tensorflow-metal         0.5.0\r\n",
      "termcolor                1.1.0\r\n",
      "terminado                0.9.4\r\n",
      "testpath                 0.5.0\r\n",
      "thinc                    8.0.13\r\n",
      "threadpoolctl            2.2.0\r\n",
      "tornado                  6.1\r\n",
      "tqdm                     4.63.0\r\n",
      "traitlets                5.1.1\r\n",
      "trio                     0.21.0\r\n",
      "trio-websocket           0.9.2\r\n",
      "typer                    0.4.0\r\n",
      "typing-extensions        3.10.0.2\r\n",
      "urllib3                  1.26.8\r\n",
      "visualkeras              0.0.2\r\n",
      "wasabi                   0.8.2\r\n",
      "wcwidth                  0.2.5\r\n",
      "webencodings             0.5.1\r\n",
      "websocket-client         1.2.3\r\n",
      "Werkzeug                 2.1.2\r\n",
      "wheel                    0.37.1\r\n",
      "widgetsnbextension       3.5.1\r\n",
      "wrapt                    1.14.1\r\n",
      "wsproto                  1.1.0\r\n",
      "yarl                     1.6.3\r\n",
      "zipp                     3.7.0\r\n"
     ]
    }
   ],
   "source": [
    "!pip list"
   ]
  },
  {
   "cell_type": "code",
   "execution_count": 108,
   "metadata": {
    "collapsed": false,
    "pycharm": {
     "name": "#%%\n"
    }
   },
   "outputs": [],
   "source": [
    "import numpy"
   ]
  },
  {
   "cell_type": "markdown",
   "id": "8ed163d3",
   "metadata": {
    "collapsed": false
   },
   "source": [
    "Сохранение пакетов для других разработчиков:"
   ]
  },
  {
   "cell_type": "code",
   "execution_count": 109,
   "id": "547ba835",
   "metadata": {
    "collapsed": false,
    "pycharm": {
     "name": "#%%\n"
    }
   },
   "outputs": [],
   "source": [
    "!pip freeze > requirements.txt"
   ]
  },
  {
   "cell_type": "code",
   "execution_count": null,
   "id": "0dbb2381",
   "metadata": {
    "collapsed": false,
    "pycharm": {
     "name": "#%%\n"
    }
   },
   "outputs": [],
   "source": [
    "!pip list --local"
   ]
  },
  {
   "cell_type": "markdown",
   "id": "30485f86",
   "metadata": {
    "collapsed": false,
    "pycharm": {
     "name": "#%% md\n"
    }
   },
   "source": [
    "Установка пакетов из requirements.txt"
   ]
  },
  {
   "cell_type": "code",
   "execution_count": 111,
   "id": "3e3bc60e",
   "metadata": {
    "collapsed": false,
    "pycharm": {
     "name": "#%%\n"
    }
   },
   "outputs": [
    {
     "name": "stdout",
     "output_type": "stream",
     "text": [
      "Collecting flask==2.3.3\r\n",
      "  Downloading flask-2.3.3-py3-none-any.whl (96 kB)\r\n",
      "\u001b[K     |████████████████████████████████| 96 kB 341 kB/s eta 0:00:01\r\n",
      "\u001b[?25hRequirement already satisfied: importlib-metadata>=3.6.0 in /Users/artem/miniconda3/envs/common_env_3_8/lib/python3.8/site-packages (from flask==2.3.3->-r requirements_1.txt (line 1)) (4.8.2)\r\n",
      "Collecting Jinja2>=3.1.2\r\n",
      "  Using cached Jinja2-3.1.2-py3-none-any.whl (133 kB)\r\n",
      "Collecting click>=8.1.3\r\n",
      "  Using cached click-8.1.7-py3-none-any.whl (97 kB)\r\n",
      "Collecting blinker>=1.6.2\r\n",
      "  Downloading blinker-1.6.2-py3-none-any.whl (13 kB)\r\n",
      "Collecting Werkzeug>=2.3.7\r\n",
      "  Downloading werkzeug-3.0.0-py3-none-any.whl (226 kB)\r\n",
      "\u001b[K     |████████████████████████████████| 226 kB 212 kB/s eta 0:00:01\r\n",
      "\u001b[?25hCollecting itsdangerous>=2.1.2\r\n",
      "  Downloading itsdangerous-2.1.2-py3-none-any.whl (15 kB)\r\n",
      "Requirement already satisfied: zipp>=0.5 in /Users/artem/miniconda3/envs/common_env_3_8/lib/python3.8/site-packages (from importlib-metadata>=3.6.0->flask==2.3.3->-r requirements_1.txt (line 1)) (3.7.0)\r\n",
      "Requirement already satisfied: MarkupSafe>=2.0 in /Users/artem/miniconda3/envs/common_env_3_8/lib/python3.8/site-packages (from Jinja2>=3.1.2->flask==2.3.3->-r requirements_1.txt (line 1)) (2.0.1)\r\n",
      "Collecting MarkupSafe>=2.0\r\n",
      "  Using cached MarkupSafe-2.1.3-cp38-cp38-macosx_10_9_universal2.whl (17 kB)\r\n",
      "Installing collected packages: MarkupSafe, Werkzeug, Jinja2, itsdangerous, click, blinker, flask\r\n",
      "  Attempting uninstall: MarkupSafe\r\n",
      "    Found existing installation: MarkupSafe 2.0.1\r\n",
      "    Uninstalling MarkupSafe-2.0.1:\r\n",
      "      Successfully uninstalled MarkupSafe-2.0.1\r\n",
      "  Attempting uninstall: Werkzeug\r\n",
      "    Found existing installation: Werkzeug 2.1.2\r\n",
      "    Uninstalling Werkzeug-2.1.2:\r\n",
      "      Successfully uninstalled Werkzeug-2.1.2\r\n",
      "  Attempting uninstall: Jinja2\r\n",
      "    Found existing installation: Jinja2 3.0.2\r\n",
      "    Uninstalling Jinja2-3.0.2:\r\n",
      "      Successfully uninstalled Jinja2-3.0.2\r\n",
      "  Attempting uninstall: click\r\n",
      "    Found existing installation: click 8.0.4\r\n",
      "    Uninstalling click-8.0.4:\r\n",
      "      Successfully uninstalled click-8.0.4\r\n",
      "Successfully installed Jinja2-3.1.2 MarkupSafe-2.1.3 Werkzeug-3.0.0 blinker-1.6.2 click-8.1.7 flask-2.3.3 itsdangerous-2.1.2\r\n"
     ]
    }
   ],
   "source": [
    "!pip install -r requirements_1.txt"
   ]
  },
  {
   "cell_type": "markdown",
   "id": "a5b7b807",
   "metadata": {
    "collapsed": false,
    "pycharm": {
     "name": "#%% md\n"
    }
   },
   "source": [
    "## Conda"
   ]
  },
  {
   "cell_type": "markdown",
   "id": "dc5f040d",
   "metadata": {
    "collapsed": false,
    "pycharm": {
     "name": "#%% md\n"
    }
   },
   "source": [
    "Список установленных пакетов"
   ]
  },
  {
   "cell_type": "code",
   "execution_count": 112,
   "id": "31cd70bd",
   "metadata": {
    "collapsed": false,
    "pycharm": {
     "name": "#%%\n"
    }
   },
   "outputs": [
    {
     "name": "stdout",
     "output_type": "stream",
     "text": [
      "# packages in environment at /Users/artem/miniconda3/envs/common_env_3_8:\r\n",
      "#\r\n",
      "# Name                    Version                   Build  Channel\r\n",
      "absl-py                   1.1.0                    pypi_0    pypi\r\n",
      "adwaita-icon-theme        40.1.1               hca03da5_1  \r\n",
      "aggdraw                   1.3.15                   pypi_0    pypi\r\n",
      "aiohttp                   3.8.1            py38h1a28f6b_1  \r\n",
      "aiosignal                 1.2.0              pyhd3eb1b0_0  \r\n",
      "appnope                   0.1.2           py38hca03da5_1001  \r\n",
      "argon2-cffi               20.1.0           py38h1a28f6b_2  \r\n",
      "astunparse                1.6.3                    pypi_0    pypi\r\n",
      "async-timeout             4.0.1              pyhd3eb1b0_0  \r\n",
      "async_generator           1.10               pyhd3eb1b0_0  \r\n",
      "atk-1.0                   2.36.0               h7fe96df_0  \r\n",
      "atlasclient               1.0.0                    pypi_0    pypi\r\n",
      "attrs                     21.4.0             pyhd3eb1b0_0  \r\n",
      "backcall                  0.2.0              pyhd3eb1b0_0  \r\n",
      "blas                      1.0                    openblas  \r\n",
      "bleach                    4.1.0              pyhd3eb1b0_0  \r\n",
      "blinker                   1.6.2                    pypi_0    pypi\r\n",
      "boto3                     1.20.24            pyhd3eb1b0_0  \r\n",
      "botocore                  1.23.24            pyhd3eb1b0_0  \r\n",
      "bottleneck                1.3.2            py38heec5a64_1  \r\n",
      "brotli                    1.0.7                hc377ac9_0  \r\n",
      "brotlipy                  0.7.0           py38h1a28f6b_1002  \r\n",
      "c-ares                    1.18.1               h1a28f6b_0  \r\n",
      "ca-certificates           2022.4.26            hca03da5_0  \r\n",
      "cachetools                4.2.2              pyhd3eb1b0_0  \r\n",
      "cairo                     1.16.0               h0ab239c_1  \r\n",
      "catalogue                 2.0.6            py38hca03da5_0  \r\n",
      "certifi                   2022.6.15        py38hca03da5_0  \r\n",
      "cffi                      1.15.0           py38h22df2f2_1  \r\n",
      "charset-normalizer        2.0.11                   pypi_0    pypi\r\n",
      "click                     8.1.7                    pypi_0    pypi\r\n",
      "colorama                  0.4.4              pyhd3eb1b0_0  \r\n",
      "cryptography              36.0.0           py38h834c97f_0  \r\n",
      "cycler                    0.11.0             pyhd3eb1b0_0  \r\n",
      "cymem                     2.0.5            py38hc377ac9_0  \r\n",
      "cython-blis               0.7.4            py38h1a28f6b_1  \r\n",
      "dataclasses               0.8                pyh6d0b6a4_7  \r\n",
      "dbus                      1.13.18              h8280c03_0  \r\n",
      "debugpy                   1.5.1            py38hc377ac9_0  \r\n",
      "decorator                 5.1.1              pyhd3eb1b0_0  \r\n",
      "defusedxml                0.7.1              pyhd3eb1b0_0  \r\n",
      "dnspython                 2.2.1                    pypi_0    pypi\r\n",
      "docker                    5.0.3                    pypi_0    pypi\r\n",
      "email-validator           1.2.1                    pypi_0    pypi\r\n",
      "entrypoints               0.3              py38hca03da5_0  \r\n",
      "epoxy                     1.5.4                h1a28f6b_2  \r\n",
      "et-xmlfile                1.1.0                    pypi_0    pypi\r\n",
      "expat                     2.4.1                hc377ac9_2  \r\n",
      "flask                     2.3.3                    pypi_0    pypi\r\n",
      "flatbuffers               1.12                     pypi_0    pypi\r\n",
      "fontconfig                2.13.1               h1f4a5ec_0  \r\n",
      "fonttools                 4.25.0             pyhd3eb1b0_0  \r\n",
      "freetype                  2.11.0               h1192e45_0  \r\n",
      "fribidi                   1.0.10               h1a28f6b_0  \r\n",
      "frozenlist                1.2.0            py38h1a28f6b_0  \r\n",
      "gast                      0.4.0                    pypi_0    pypi\r\n",
      "gdk-pixbuf                2.42.6               h74ef11a_4  \r\n",
      "gensim                    4.2.0                    pypi_0    pypi\r\n",
      "gettext                   0.21.0               h826f4ad_0  \r\n",
      "giflib                    5.2.1                h1a28f6b_0  \r\n",
      "glib                      2.69.1               h98b2900_1  \r\n",
      "gobject-introspection     1.68.0           py38h3459c9f_3  \r\n",
      "google-api-core           1.25.1             pyhd3eb1b0_0  \r\n",
      "google-auth               1.33.0             pyhd3eb1b0_0  \r\n",
      "google-auth-oauthlib      0.4.6                    pypi_0    pypi\r\n",
      "google-cloud-core         1.7.1              pyhd3eb1b0_0  \r\n",
      "google-cloud-storage      1.31.0                     py_0  \r\n",
      "google-crc32c             1.1.2            py38h1a28f6b_0  \r\n",
      "google-pasta              0.2.0                    pypi_0    pypi\r\n",
      "google-resumable-media    1.3.1              pyhd3eb1b0_1  \r\n",
      "googleapis-common-protos  1.53.0           py38hca03da5_0  \r\n",
      "graphite2                 1.3.14               h0e5e14a_0  \r\n",
      "grpcio                    1.42.0           py38h95c9599_0  \r\n",
      "gtk3                      3.24.21              h321fa23_1  \r\n",
      "h11                       0.13.0                   pypi_0    pypi\r\n",
      "h5py                      3.6.0            py38h7fe8675_0  \r\n",
      "harfbuzz                  2.8.1                hffeda63_0  \r\n",
      "hdf5                      1.12.1               h5aa262f_1  \r\n",
      "hicolor-icon-theme        0.17                 hca03da5_2  \r\n",
      "icu                       68.1                 hc377ac9_0  \r\n",
      "idna                      3.3                pyhd3eb1b0_0  \r\n",
      "importlib-metadata        4.8.2            py38hca03da5_0  \r\n",
      "importlib_metadata        4.8.2                hd3eb1b0_0  \r\n",
      "ipykernel                 6.4.1            py38hca03da5_1  \r\n",
      "ipython                   7.29.0           py38h86d0a89_0  \r\n",
      "ipython_genutils          0.2.0              pyhd3eb1b0_1  \r\n",
      "ipywidgets                7.6.5              pyhd3eb1b0_1  \r\n",
      "itsdangerous              2.1.2                    pypi_0    pypi\r\n",
      "jedi                      0.18.1           py38hca03da5_0  \r\n",
      "jinja2                    3.1.2                    pypi_0    pypi\r\n",
      "jmespath                  0.10.0             pyhd3eb1b0_0  \r\n",
      "joblib                    1.1.0              pyhd3eb1b0_0  \r\n",
      "jpeg                      9d                   h1a28f6b_0  \r\n",
      "json5                     0.9.8                    pypi_0    pypi\r\n",
      "jsonschema                3.2.0              pyhd3eb1b0_2  \r\n",
      "jupyter                   1.0.0            py38hca03da5_7  \r\n",
      "jupyter_client            7.1.2              pyhd3eb1b0_0  \r\n",
      "jupyter_console           6.4.0              pyhd3eb1b0_0  \r\n",
      "jupyter_core              4.9.1            py38hca03da5_0  \r\n",
      "jupyterlab_pygments       0.1.2                      py_0  \r\n",
      "jupyterlab_widgets        1.0.0              pyhd3eb1b0_1  \r\n",
      "keras                     2.9.0                    pypi_0    pypi\r\n",
      "keras-preprocessing       1.1.2                    pypi_0    pypi\r\n",
      "kiwisolver                1.3.1            py38hc377ac9_0  \r\n",
      "krb5                      1.19.2               h3b8d789_0  \r\n",
      "langcodes                 3.3.0              pyhd3eb1b0_0  \r\n",
      "lcms2                     2.12                 hba8e193_0  \r\n",
      "libclang                  14.0.1                   pypi_0    pypi\r\n",
      "libcrc32c                 1.1.1                hc377ac9_2  \r\n",
      "libcurl                   7.82.0               hc6d1d07_0  \r\n",
      "libcxx                    12.0.0               hf6beb65_1  \r\n",
      "libedit                   3.1.20210910         h1a28f6b_0  \r\n",
      "libev                     4.33                 h1a28f6b_1  \r\n",
      "libevent                  2.1.12               hf27765b_0  \r\n",
      "libffi                    3.4.2                hc377ac9_2  \r\n",
      "libgfortran               5.0.0           11_1_0_h6a59814_26  \r\n",
      "libgfortran5              11.1.0              h6a59814_26  \r\n",
      "libiconv                  1.16                 h1230e6a_0  \r\n",
      "libnghttp2                1.46.0               h95c9599_0  \r\n",
      "libopenblas               0.3.17               hea475bc_1  \r\n",
      "libpng                    1.6.37               hb8d0fd4_0  \r\n",
      "libpq                     12.9                 h65cfe13_1  \r\n",
      "libprotobuf               3.19.1               h98b2900_0  \r\n",
      "librsvg                   2.50.7               h90a7944_0  \r\n",
      "libsodium                 1.0.18               h1a28f6b_0  \r\n",
      "libssh2                   1.10.0               hf27765b_0  \r\n",
      "libtiff                   4.2.0                h11e2f9f_0  \r\n",
      "libwebp                   1.2.0                h68602c7_0  \r\n",
      "libwebp-base              1.2.0                h1a28f6b_0  \r\n",
      "libxml2                   2.9.12               h8c5e841_0  \r\n",
      "libxslt                   1.1.34               h9833966_0  \r\n",
      "llvm-openmp               12.0.0               haf9daa7_1  \r\n",
      "lxml                      4.8.0                    pypi_0    pypi\r\n",
      "lz4-c                     1.9.3                hc377ac9_0  \r\n",
      "markdown                  3.4.1                    pypi_0    pypi\r\n",
      "markupsafe                2.1.3                    pypi_0    pypi\r\n",
      "matplotlib                3.5.0            py38hca03da5_0  \r\n",
      "matplotlib-base           3.5.0            py38h9197a36_0  \r\n",
      "matplotlib-inline         0.1.2              pyhd3eb1b0_2  \r\n",
      "mega-py                   1.0.8                    pypi_0    pypi\r\n",
      "mistune                   0.8.4           py38h1a28f6b_1000  \r\n",
      "multidict                 5.2.0            py38h1a28f6b_2  \r\n",
      "munkres                   1.1.4                      py_0  \r\n",
      "murmurhash                1.0.5            py38hc377ac9_0  \r\n",
      "nbclient                  0.5.3              pyhd3eb1b0_0  \r\n",
      "nbconvert                 6.3.0            py38hca03da5_0  \r\n",
      "nbformat                  5.1.3              pyhd3eb1b0_0  \r\n",
      "ncurses                   6.3                  h1a28f6b_2  \r\n",
      "nest-asyncio              1.5.1              pyhd3eb1b0_0  \r\n",
      "ninja                     1.10.2           py38h525c30c_3  \r\n",
      "notebook                  6.4.6            py38hca03da5_0  \r\n",
      "nspr                      4.33                 hc377ac9_0  \r\n",
      "nss                       3.69                 h142855e_0  \r\n",
      "numexpr                   2.8.1            py38h144ceef_0  \r\n",
      "numpy                     1.24.4                   pypi_0    pypi\r\n",
      "oauthlib                  3.2.0                    pypi_0    pypi\r\n",
      "olefile                   0.46               pyhd3eb1b0_0  \r\n",
      "openpyxl                  3.0.10                   pypi_0    pypi\r\n",
      "openssl                   1.1.1q               h1a28f6b_0  \r\n",
      "opt-einsum                3.3.0                    pypi_0    pypi\r\n",
      "outcome                   1.2.0                    pypi_0    pypi\r\n",
      "packaging                 21.3               pyhd3eb1b0_0  \r\n",
      "pandas                    1.3.5            py38h9197a36_0  \r\n",
      "pandocfilters             1.5.0              pyhd3eb1b0_0  \r\n",
      "pango                     1.48.7               h79d33a7_0  \r\n",
      "parso                     0.8.3              pyhd3eb1b0_0  \r\n",
      "pathlib                   1.0.1                    pypi_0    pypi\r\n",
      "pathy                     0.6.0              pyhd3eb1b0_0  \r\n",
      "pcre                      8.45                 hc377ac9_0  \r\n",
      "pexpect                   4.8.0              pyhd3eb1b0_3  \r\n",
      "phonenumbers              8.12.51                  pypi_0    pypi\r\n",
      "pickleshare               0.7.5           pyhd3eb1b0_1003  \r\n",
      "pillow                    8.3.1            py38hf1d1977_0  \r\n",
      "pip                       21.2.4           py38hca03da5_0  \r\n",
      "pixman                    0.40.0               h1a28f6b_0  \r\n",
      "preshed                   3.0.5            py38hc377ac9_4  \r\n",
      "prometheus_client         0.12.0             pyhd3eb1b0_0  \r\n",
      "prompt-toolkit            3.0.20             pyhd3eb1b0_0  \r\n",
      "prompt_toolkit            3.0.20               hd3eb1b0_0  \r\n",
      "protobuf                  3.19.1           py38hc377ac9_0  \r\n",
      "ptyprocess                0.7.0              pyhd3eb1b0_2  \r\n",
      "pyaes                     1.6.1                    pypi_0    pypi\r\n",
      "pyasn1                    0.4.8              pyhd3eb1b0_0  \r\n",
      "pyasn1-modules            0.2.8                      py_0  \r\n",
      "pycparser                 2.21               pyhd3eb1b0_0  \r\n",
      "pycryptodome              3.15.0                   pypi_0    pypi\r\n",
      "pydantic                  1.8.2            py38h1a28f6b_0  \r\n",
      "pydot                     1.4.2                    pypi_0    pypi\r\n",
      "pygments                  2.10.0             pyhd3eb1b0_0  \r\n",
      "pymongo                   3.12.0           py38hc377ac9_0  \r\n",
      "pyopenssl                 22.0.0             pyhd3eb1b0_0  \r\n",
      "pyparsing                 3.0.4              pyhd3eb1b0_0  \r\n",
      "pyqt                      5.15.2           py38he8f2410_0  \r\n",
      "pyqt5-sip                 4.19.25                  pypi_0    pypi\r\n",
      "pyqtchart                 5.15.2                   pypi_0    pypi\r\n",
      "pyrsistent                0.18.0           py38h1a28f6b_0  \r\n",
      "pysocks                   1.7.1            py38hca03da5_0  \r\n",
      "pytelegrambotapi          4.5.1                    pypi_0    pypi\r\n",
      "python                    3.8.11               hbdb9e5c_5  \r\n",
      "python-dateutil           2.8.2              pyhd3eb1b0_0  \r\n",
      "python-docx               0.8.11                   pypi_0    pypi\r\n",
      "pytz                      2021.3             pyhd3eb1b0_0  \r\n",
      "pyzmq                     22.3.0           py38hc377ac9_2  \r\n",
      "qt                        5.15.2               h4e944ae_2  \r\n",
      "qtconsole                 5.1.1              pyhd3eb1b0_0  \r\n",
      "qtpy                      1.11.2             pyhd3eb1b0_0  \r\n",
      "quantitizer               1.0.0                    pypi_0    pypi\r\n",
      "readline                  8.1.2                h1a28f6b_1  \r\n",
      "requests                  2.27.1             pyhd3eb1b0_0  \r\n",
      "requests-oauthlib         1.3.1                    pypi_0    pypi\r\n",
      "rsa                       4.7.2              pyhd3eb1b0_1  \r\n",
      "s3transfer                0.5.0              pyhd3eb1b0_0  \r\n",
      "scikit-learn              1.0.2            py38h9197a36_1  \r\n",
      "scipy                     1.8.1                    pypi_0    pypi\r\n",
      "seaborn                   0.11.2             pyhd3eb1b0_0  \r\n",
      "selenium                  4.3.0                    pypi_0    pypi\r\n",
      "send2trash                1.8.0              pyhd3eb1b0_1  \r\n",
      "setuptools                58.0.4           py38hca03da5_1  \r\n",
      "shellingham               1.3.1              pyhd3eb1b0_0  \r\n",
      "six                       1.15.0                   pypi_0    pypi\r\n",
      "sklearn                   0.0                      pypi_0    pypi\r\n",
      "smart_open                5.1.0              pyhd3eb1b0_0  \r\n",
      "sniffio                   1.2.0                    pypi_0    pypi\r\n",
      "sortedcontainers          2.4.0                    pypi_0    pypi\r\n",
      "spacy                     3.2.1            py38h5c6307a_0  \r\n",
      "spacy-legacy              3.0.8              pyhd3eb1b0_0  \r\n",
      "spacy-loggers             1.0.1              pyhd3eb1b0_0  \r\n",
      "sqlite                    3.37.0               h1058600_0  \r\n",
      "srsly                     2.4.1            py38hc377ac9_0  \r\n",
      "telethon                  1.24.0                   pypi_0    pypi\r\n",
      "tenacity                  5.1.5                    pypi_0    pypi\r\n",
      "tensorboard               2.9.1                    pypi_0    pypi\r\n",
      "tensorboard-data-server   0.6.1                    pypi_0    pypi\r\n",
      "tensorboard-plugin-wit    1.8.1                    pypi_0    pypi\r\n",
      "tensorflow-deps           2.8.0                         0    apple\r\n",
      "tensorflow-estimator      2.9.0                    pypi_0    pypi\r\n",
      "tensorflow-macos          2.9.2                    pypi_0    pypi\r\n",
      "tensorflow-metal          0.5.0                    pypi_0    pypi\r\n",
      "termcolor                 1.1.0                    pypi_0    pypi\r\n",
      "terminado                 0.9.4            py38hca03da5_0  \r\n",
      "testpath                  0.5.0              pyhd3eb1b0_0  \r\n",
      "thinc                     8.0.13           py38h5c6307a_0  \r\n",
      "threadpoolctl             2.2.0              pyh0d69192_0  \r\n",
      "tk                        8.6.11               hb8d0fd4_0  \r\n",
      "tornado                   6.1              py38h1a28f6b_0  \r\n",
      "tqdm                      4.63.0             pyhd3eb1b0_0  \r\n",
      "traitlets                 5.1.1              pyhd3eb1b0_0  \r\n",
      "trio                      0.21.0                   pypi_0    pypi\r\n",
      "trio-websocket            0.9.2                    pypi_0    pypi\r\n",
      "typer                     0.4.0              pyhd3eb1b0_0  \r\n",
      "typing-extensions         3.10.0.2             hd3eb1b0_0  \r\n",
      "typing_extensions         3.10.0.2           pyh06a4308_0  \r\n",
      "urllib3                   1.26.8             pyhd3eb1b0_0  \r\n",
      "visualkeras               0.0.2                    pypi_0    pypi\r\n",
      "wasabi                    0.8.2              pyhd3eb1b0_0  \r\n",
      "wcwidth                   0.2.5              pyhd3eb1b0_0  \r\n",
      "webencodings              0.5.1            py38hca03da5_1  \r\n",
      "websocket-client          1.2.3                    pypi_0    pypi\r\n",
      "werkzeug                  3.0.0                    pypi_0    pypi\r\n",
      "wheel                     0.37.1             pyhd3eb1b0_0  \r\n",
      "widgetsnbextension        3.5.1            py38hca03da5_0  \r\n",
      "wrapt                     1.14.1                   pypi_0    pypi\r\n",
      "wsproto                   1.1.0                    pypi_0    pypi\r\n",
      "xz                        5.2.5                h1a28f6b_0  \r\n",
      "yarl                      1.6.3            py38h1a28f6b_1  \r\n",
      "zeromq                    4.3.4                hc377ac9_0  \r\n",
      "zipp                      3.7.0              pyhd3eb1b0_0  \r\n",
      "zlib                      1.2.11               h5a0b063_4  \r\n",
      "zstd                      1.4.9                h8574219_1  \r\n"
     ]
    }
   ],
   "source": [
    "!conda list"
   ]
  },
  {
   "cell_type": "markdown",
   "id": "f94b9cc6",
   "metadata": {
    "collapsed": false,
    "pycharm": {
     "name": "#%% md\n"
    }
   },
   "source": [
    "Установка пакетов:"
   ]
  },
  {
   "cell_type": "code",
   "execution_count": 113,
   "id": "7dbd29d0",
   "metadata": {
    "collapsed": false,
    "pycharm": {
     "name": "#%%\n"
    }
   },
   "outputs": [
    {
     "name": "stdout",
     "output_type": "stream",
     "text": [
      "Collecting package metadata (current_repodata.json): done\r\n",
      "Solving environment: \\ \r\n",
      "The environment is inconsistent, please check the package plan carefully\r\n",
      "The following packages are causing the inconsistency:\r\n",
      "\r\n",
      "  - defaults/noarch::s3transfer==0.5.0=pyhd3eb1b0_0\r\n",
      "  - defaults/osx-arm64::cython-blis==0.7.4=py38h1a28f6b_1\r\n",
      "  - defaults/noarch::smart_open==5.1.0=pyhd3eb1b0_0\r\n",
      "  - defaults/osx-arm64::thinc==8.0.13=py38h5c6307a_0\r\n",
      "  - defaults/noarch::google-cloud-core==1.7.1=pyhd3eb1b0_0\r\n",
      "  - defaults/noarch::pathy==0.6.0=pyhd3eb1b0_0\r\n",
      "  - defaults/noarch::nbclient==0.5.3=pyhd3eb1b0_0\r\n",
      "  - defaults/noarch::jupyter_client==7.1.2=pyhd3eb1b0_0\r\n",
      "  - defaults/osx-arm64::matplotlib-base==3.5.0=py38h9197a36_0\r\n",
      "  - defaults/noarch::google-resumable-media==1.3.1=pyhd3eb1b0_1\r\n",
      "  - apple/osx-arm64::tensorflow-deps==2.8.0=0\r\n",
      "  - defaults/osx-arm64::scikit-learn==1.0.2=py38h9197a36_1\r\n",
      "  - defaults/osx-arm64::widgetsnbextension==3.5.1=py38hca03da5_0\r\n",
      "  - defaults/noarch::typer==0.4.0=pyhd3eb1b0_0\r\n",
      "  - defaults/noarch::python-dateutil==2.8.2=pyhd3eb1b0_0\r\n",
      "  - defaults/noarch::google-auth==1.33.0=pyhd3eb1b0_0\r\n",
      "  - defaults/osx-arm64::jupyter==1.0.0=py38hca03da5_7\r\n",
      "  - defaults/osx-arm64::spacy==3.2.1=py38h5c6307a_0\r\n",
      "  - defaults/noarch::botocore==1.23.24=pyhd3eb1b0_0\r\n",
      "  - defaults/osx-arm64::bottleneck==1.3.2=py38heec5a64_1\r\n",
      "  - defaults/osx-arm64::h5py==3.6.0=py38h7fe8675_0\r\n",
      "  - defaults/noarch::jupyter_console==6.4.0=pyhd3eb1b0_0\r\n",
      "  - defaults/osx-arm64::grpcio==1.42.0=py38h95c9599_0\r\n",
      "  - defaults/noarch::bleach==4.1.0=pyhd3eb1b0_0\r\n",
      "  - defaults/noarch::jsonschema==3.2.0=pyhd3eb1b0_2\r\n",
      "  - defaults/osx-arm64::numexpr==2.8.1=py38h144ceef_0\r\n",
      "  - defaults/noarch::google-api-core==1.25.1=pyhd3eb1b0_0\r\n",
      "  - defaults/osx-arm64::pandas==1.3.5=py38h9197a36_0\r\n",
      "  - defaults/noarch::nbformat==5.1.3=pyhd3eb1b0_0\r\n",
      "  - defaults/noarch::qtconsole==5.1.1=pyhd3eb1b0_0\r\n",
      "  - defaults/noarch::google-cloud-storage==1.31.0=py_0\r\n",
      "  - defaults/osx-arm64::matplotlib==3.5.0=py38hca03da5_0\r\n",
      "  - defaults/osx-arm64::notebook==6.4.6=py38hca03da5_0\r\n",
      "  - defaults/osx-arm64::numpy==1.21.2=py38hb38b75b_0\r\n",
      "  - defaults/noarch::ipywidgets==7.6.5=pyhd3eb1b0_1\r\n",
      "  - defaults/osx-arm64::nbconvert==6.3.0=py38hca03da5_0\r\n",
      "  - defaults/noarch::seaborn==0.11.2=pyhd3eb1b0_0\r\n",
      "  - defaults/noarch::boto3==1.20.24=pyhd3eb1b0_0\r\n",
      "  - defaults/osx-arm64::ipykernel==6.4.1=py38hca03da5_1\r\n",
      "  - defaults/osx-arm64::argon2-cffi==20.1.0=py38h1a28f6b_2\r\n",
      "failed with initial frozen solve. Retrying with flexible solve.\r\n",
      "Solving environment: failed with repodata from current_repodata.json, will retry with next repodata source.\r\n",
      "Collecting package metadata (repodata.json): done\r\n",
      "Solving environment: / \r\n",
      "The environment is inconsistent, please check the package plan carefully\r\n",
      "The following packages are causing the inconsistency:\r\n",
      "\r\n",
      "  - defaults/noarch::s3transfer==0.5.0=pyhd3eb1b0_0\r\n",
      "  - defaults/osx-arm64::cython-blis==0.7.4=py38h1a28f6b_1\r\n",
      "  - defaults/noarch::smart_open==5.1.0=pyhd3eb1b0_0\r\n",
      "  - defaults/osx-arm64::thinc==8.0.13=py38h5c6307a_0\r\n",
      "  - defaults/noarch::google-cloud-core==1.7.1=pyhd3eb1b0_0\r\n",
      "  - defaults/noarch::pathy==0.6.0=pyhd3eb1b0_0\r\n",
      "  - defaults/noarch::nbclient==0.5.3=pyhd3eb1b0_0\r\n",
      "  - defaults/noarch::jupyter_client==7.1.2=pyhd3eb1b0_0\r\n",
      "  - defaults/osx-arm64::matplotlib-base==3.5.0=py38h9197a36_0\r\n",
      "  - defaults/noarch::google-resumable-media==1.3.1=pyhd3eb1b0_1\r\n",
      "  - apple/osx-arm64::tensorflow-deps==2.8.0=0\r\n",
      "  - defaults/osx-arm64::scikit-learn==1.0.2=py38h9197a36_1\r\n",
      "  - defaults/osx-arm64::widgetsnbextension==3.5.1=py38hca03da5_0\r\n",
      "  - defaults/noarch::typer==0.4.0=pyhd3eb1b0_0\r\n",
      "  - defaults/noarch::python-dateutil==2.8.2=pyhd3eb1b0_0\r\n",
      "  - defaults/noarch::google-auth==1.33.0=pyhd3eb1b0_0\r\n",
      "  - defaults/osx-arm64::jupyter==1.0.0=py38hca03da5_7\r\n",
      "  - defaults/osx-arm64::spacy==3.2.1=py38h5c6307a_0\r\n",
      "  - defaults/noarch::botocore==1.23.24=pyhd3eb1b0_0\r\n",
      "  - defaults/osx-arm64::bottleneck==1.3.2=py38heec5a64_1\r\n",
      "  - defaults/osx-arm64::h5py==3.6.0=py38h7fe8675_0\r\n",
      "  - defaults/noarch::jupyter_console==6.4.0=pyhd3eb1b0_0\r\n",
      "  - defaults/osx-arm64::grpcio==1.42.0=py38h95c9599_0\r\n",
      "  - defaults/noarch::bleach==4.1.0=pyhd3eb1b0_0\r\n",
      "  - defaults/noarch::jsonschema==3.2.0=pyhd3eb1b0_2\r\n",
      "  - defaults/osx-arm64::numexpr==2.8.1=py38h144ceef_0\r\n",
      "  - defaults/noarch::google-api-core==1.25.1=pyhd3eb1b0_0\r\n",
      "  - defaults/osx-arm64::pandas==1.3.5=py38h9197a36_0\r\n",
      "  - defaults/noarch::nbformat==5.1.3=pyhd3eb1b0_0\r\n",
      "  - defaults/noarch::qtconsole==5.1.1=pyhd3eb1b0_0\r\n",
      "  - defaults/noarch::google-cloud-storage==1.31.0=py_0\r\n",
      "  - defaults/osx-arm64::matplotlib==3.5.0=py38hca03da5_0\r\n",
      "  - defaults/osx-arm64::notebook==6.4.6=py38hca03da5_0\r\n",
      "  - defaults/osx-arm64::numpy==1.21.2=py38hb38b75b_0\r\n",
      "  - defaults/noarch::ipywidgets==7.6.5=pyhd3eb1b0_1\r\n",
      "  - defaults/osx-arm64::nbconvert==6.3.0=py38hca03da5_0\r\n",
      "  - defaults/noarch::seaborn==0.11.2=pyhd3eb1b0_0\r\n",
      "  - defaults/noarch::boto3==1.20.24=pyhd3eb1b0_0\r\n",
      "  - defaults/osx-arm64::ipykernel==6.4.1=py38hca03da5_1\r\n",
      "  - defaults/osx-arm64::argon2-cffi==20.1.0=py38h1a28f6b_2\r\n",
      "done\r\n",
      "\r\n",
      "\r\n",
      "==> WARNING: A newer version of conda exists. <==\r\n",
      "  current version: 4.10.1\r\n",
      "  latest version: 23.7.4\r\n",
      "\r\n",
      "Please update conda by running\r\n",
      "\r\n",
      "    $ conda update -n base -c defaults conda\r\n",
      "\r\n",
      "\r\n",
      "\r\n",
      "## Package Plan ##\r\n",
      "\r\n",
      "  environment location: /Users/artem/miniconda3/envs/common_env_3_8\r\n",
      "\r\n",
      "  added / updated specs:\r\n",
      "    - numpy\r\n",
      "\r\n",
      "\r\n",
      "The following packages will be downloaded:\r\n",
      "\r\n",
      "    package                    |            build\r\n",
      "    ---------------------------|-----------------\r\n",
      "    ca-certificates-2023.08.22 |       hca03da5_0         124 KB\r\n",
      "    certifi-2023.7.22          |   py38hca03da5_0         154 KB\r\n",
      "    openssl-1.1.1w             |       h1a28f6b_0         3.1 MB\r\n",
      "    ------------------------------------------------------------\r\n",
      "                                           Total:         3.4 MB\r\n",
      "\r\n",
      "The following NEW packages will be INSTALLED:\r\n",
      "\r\n",
      "  click              pkgs/main/osx-arm64::click-8.0.4-py38hca03da5_0\r\n",
      "  jinja2             pkgs/main/osx-arm64::jinja2-3.1.2-py38hca03da5_0\r\n",
      "  markupsafe         pkgs/main/osx-arm64::markupsafe-2.1.1-py38h1a28f6b_0\r\n",
      "  numpy-base         pkgs/main/osx-arm64::numpy-base-1.21.2-py38h6269429_0\r\n",
      "  scipy              pkgs/main/osx-arm64::scipy-1.7.3-py38h2f0f56f_0\r\n",
      "  six                pkgs/main/noarch::six-1.16.0-pyhd3eb1b0_1\r\n",
      "\r\n",
      "The following packages will be UPDATED:\r\n",
      "\r\n",
      "  ca-certificates                      2022.4.26-hca03da5_0 --> 2023.08.22-hca03da5_0\r\n",
      "  certifi                          2022.6.15-py38hca03da5_0 --> 2023.7.22-py38hca03da5_0\r\n",
      "  openssl                                 1.1.1q-h1a28f6b_0 --> 1.1.1w-h1a28f6b_0\r\n",
      "\r\n",
      "\r\n",
      "Proceed ([y]/n)? ^C\r\n",
      "\r\n",
      "CondaSystemExit: \r\n",
      "Operation aborted.  Exiting.\r\n",
      "\r\n"
     ]
    }
   ],
   "source": [
    "!conda install numpy"
   ]
  },
  {
   "cell_type": "code",
   "execution_count": null,
   "id": "5da94f17",
   "metadata": {
    "collapsed": false,
    "pycharm": {
     "name": "#%%\n"
    }
   },
   "outputs": [],
   "source": [
    "!conda uninstall numpy"
   ]
  },
  {
   "cell_type": "markdown",
   "id": "81871e56",
   "metadata": {
    "collapsed": false
   },
   "source": [
    "Установка из дополнительного репозитория"
   ]
  },
  {
   "cell_type": "code",
   "execution_count": null,
   "id": "ae82c61f",
   "metadata": {
    "collapsed": false,
    "pycharm": {
     "name": "#%%\n"
    }
   },
   "outputs": [],
   "source": [
    "!conda install -c conda-forge opencv"
   ]
  },
  {
   "cell_type": "markdown",
   "id": "c66658d4",
   "metadata": {
    "collapsed": false,
    "pycharm": {
     "name": "#%% md\n"
    }
   },
   "source": [
    "Просмотр всех доступных виртуальных сред"
   ]
  },
  {
   "cell_type": "code",
   "execution_count": 114,
   "id": "3b633bf9",
   "metadata": {
    "collapsed": false,
    "pycharm": {
     "name": "#%%\n"
    }
   },
   "outputs": [
    {
     "name": "stdout",
     "output_type": "stream",
     "text": [
      "# conda environments:\r\n",
      "#\r\n",
      "base                     /Users/artem/miniconda3\r\n",
      "ODS                      /Users/artem/miniconda3/envs/ODS\r\n",
      "ParseWiki                /Users/artem/miniconda3/envs/ParseWiki\r\n",
      "Python_Lections_MSU      /Users/artem/miniconda3/envs/Python_Lections_MSU\r\n",
      "async-python-sprint-4-main     /Users/artem/miniconda3/envs/async-python-sprint-4-main\r\n",
      "async-python-sprint-5     /Users/artem/miniconda3/envs/async-python-sprint-5\r\n",
      "common_env_3_8        *  /Users/artem/miniconda3/envs/common_env_3_8\r\n",
      "django_test              /Users/artem/miniconda3/envs/django_test\r\n",
      "pyMSU                    /Users/artem/miniconda3/envs/pyMSU\r\n",
      "study                    /Users/artem/miniconda3/envs/study\r\n",
      "workspace                /Users/artem/miniconda3/envs/workspace\r\n",
      "\r\n"
     ]
    }
   ],
   "source": [
    "!conda env list\n"
   ]
  },
  {
   "cell_type": "markdown",
   "id": "c18505b9",
   "metadata": {
    "collapsed": false,
    "pycharm": {
     "name": "#%% md\n"
    }
   },
   "source": [
    "Воспроизводимость среды:"
   ]
  },
  {
   "cell_type": "code",
   "execution_count": 115,
   "id": "783b74e0",
   "metadata": {
    "collapsed": false,
    "pycharm": {
     "name": "#%%\n"
    }
   },
   "outputs": [],
   "source": [
    "!conda env export > environment.yml"
   ]
  },
  {
   "cell_type": "code",
   "execution_count": null,
   "id": "6c4ad1aa",
   "metadata": {
    "collapsed": false,
    "pycharm": {
     "name": "#%%\n"
    }
   },
   "outputs": [],
   "source": [
    "!conda env create -f environment.yml"
   ]
  },
  {
   "cell_type": "markdown",
   "id": "eb257727",
   "metadata": {
    "collapsed": false,
    "pycharm": {
     "name": "#%% md\n"
    }
   },
   "source": [
    "# Работа с пакетами"
   ]
  },
  {
   "cell_type": "code",
   "execution_count": 116,
   "id": "3d77760b",
   "metadata": {
    "collapsed": false,
    "pycharm": {
     "name": "#%%\n"
    }
   },
   "outputs": [],
   "source": [
    "import math"
   ]
  },
  {
   "cell_type": "code",
   "execution_count": 117,
   "id": "26024477",
   "metadata": {
    "collapsed": false,
    "pycharm": {
     "name": "#%%\n"
    }
   },
   "outputs": [
    {
     "data": {
      "text/plain": [
       "3.141592653589793"
      ]
     },
     "execution_count": 117,
     "metadata": {},
     "output_type": "execute_result"
    }
   ],
   "source": [
    "math.pi"
   ]
  },
  {
   "cell_type": "code",
   "execution_count": 118,
   "id": "7daa9368",
   "metadata": {
    "collapsed": false,
    "pycharm": {
     "name": "#%%\n"
    }
   },
   "outputs": [
    {
     "data": {
      "text/plain": [
       "3.141592653589793"
      ]
     },
     "execution_count": 118,
     "metadata": {},
     "output_type": "execute_result"
    }
   ],
   "source": [
    "from math import pi\n",
    "pi"
   ]
  },
  {
   "cell_type": "markdown",
   "id": "bbcaeb8c",
   "metadata": {
    "collapsed": false
   },
   "source": [
    "Так делать не надо. Ни в коем случае"
   ]
  },
  {
   "cell_type": "code",
   "execution_count": 119,
   "id": "ee050078",
   "metadata": {
    "collapsed": false,
    "pycharm": {
     "name": "#%%\n"
    }
   },
   "outputs": [],
   "source": [
    "from math import *"
   ]
  },
  {
   "cell_type": "code",
   "execution_count": 120,
   "id": "ba13defe",
   "metadata": {
    "collapsed": false,
    "pycharm": {
     "name": "#%%\n"
    }
   },
   "outputs": [
    {
     "data": {
      "text/plain": [
       "-0.9899924966004454"
      ]
     },
     "execution_count": 120,
     "metadata": {},
     "output_type": "execute_result"
    }
   ],
   "source": [
    "cos(3)"
   ]
  },
  {
   "cell_type": "code",
   "execution_count": 121,
   "id": "8b566ed2",
   "metadata": {},
   "outputs": [],
   "source": [
    "from math import *\n",
    "from numpy import *\n",
    "import sys"
   ]
  },
  {
   "cell_type": "code",
   "execution_count": 124,
   "id": "aa71609a",
   "metadata": {},
   "outputs": [
    {
     "data": {
      "text/plain": [
       "-0.9899924966004454"
      ]
     },
     "execution_count": 124,
     "metadata": {},
     "output_type": "execute_result"
    }
   ],
   "source": [
    "cos(3)"
   ]
  },
  {
   "cell_type": "markdown",
   "id": "7e4524c3",
   "metadata": {
    "collapsed": false,
    "pycharm": {
     "name": "#%% md\n"
    }
   },
   "source": [
    "## Как это работает изнутри?"
   ]
  },
  {
   "cell_type": "markdown",
   "id": "3b830f36",
   "metadata": {
    "collapsed": false,
    "pycharm": {
     "name": "#%% md\n"
    }
   },
   "source": [
    "Импорт модуля:\n",
    "- поиск модуля;\n",
    "- компиляция;\n",
    "- запуск.\n",
    "\n",
    "Поиска модуля, указанного в импорте, интерпретатор Python, выполняет последовательно в ряде директорий(Module Search Path):\n",
    "\n",
    "- домашняя директория(там где лежит скрипт);\n",
    "- директории, указанные в переменной окружения PYTHONPATH(можно задать самому);\n",
    "- директории Standard library(интерпретатор);\n",
    "- пути прописанные в .pth файлах(обычный текстовый файл с путями);\n",
    "- пакеты сторонних разработчиков(устанавливаются через pip).\n",
    "\n",
    "В Python 3 на этапе компиляции создается каталог с именем \\_\\_pycache\\_\\_, в нем располагаются файлы с расширением .pyc, в них содержится байт-код.\n",
    "\n",
    "Запуск модуля -- выполнение строк кода в соответствующем модуле.\n",
    "\n",
    "__ВАЖНО:__ модуль импортируется только один раз.  Перезагрузить модуль можно с помощью команды imp.reload."
   ]
  },
  {
   "cell_type": "code",
   "execution_count": 125,
   "metadata": {
    "collapsed": false,
    "pycharm": {
     "name": "#%%\n"
    }
   },
   "outputs": [
    {
     "name": "stdout",
     "output_type": "stream",
     "text": [
      "world\n"
     ]
    }
   ],
   "source": [
    "import my_module"
   ]
  },
  {
   "cell_type": "code",
   "execution_count": 126,
   "metadata": {
    "collapsed": false,
    "pycharm": {
     "name": "#%%\n"
    }
   },
   "outputs": [
    {
     "name": "stdout",
     "output_type": "stream",
     "text": [
      "hello\n"
     ]
    }
   ],
   "source": [
    "my_module.foo()"
   ]
  },
  {
   "cell_type": "markdown",
   "id": "af401f3b",
   "metadata": {
    "collapsed": false,
    "pycharm": {
     "name": "#%% md\n"
    }
   },
   "source": [
    "## Ещё интересные вещи про модули:"
   ]
  },
  {
   "cell_type": "markdown",
   "id": "00384454",
   "metadata": {
    "collapsed": false
   },
   "source": [
    "### Импорт модуля в зависимости от условий"
   ]
  },
  {
   "cell_type": "code",
   "execution_count": null,
   "id": "b4f88c16",
   "metadata": {
    "collapsed": false,
    "pycharm": {
     "name": "#%%\n"
    }
   },
   "outputs": [],
   "source": [
    "val = int(input(\"simple math lib [1], adv math lib [2]: \"))\n",
    "if val==1:\n",
    "    import simplemath as user_math\n",
    "elif val==2:\n",
    "    import advmath as user_math\n",
    "\n",
    "user_math.add(3, 4)"
   ]
  },
  {
   "cell_type": "markdown",
   "id": "9a31f62a",
   "metadata": {
    "collapsed": false,
    "pycharm": {
     "name": "#%% md\n"
    }
   },
   "source": [
    "Изменение атрибутов пакетов:"
   ]
  },
  {
   "cell_type": "code",
   "execution_count": 127,
   "id": "c88740ba",
   "metadata": {
    "collapsed": false,
    "pycharm": {
     "name": "#%%\n"
    }
   },
   "outputs": [
    {
     "data": {
      "text/plain": [
       "5"
      ]
     },
     "execution_count": 127,
     "metadata": {},
     "output_type": "execute_result"
    }
   ],
   "source": [
    "import math\n",
    "from math import pi\n",
    "\n",
    "math.pi = 5\n",
    "math.pi"
   ]
  },
  {
   "cell_type": "code",
   "execution_count": 130,
   "id": "5fd8dabe",
   "metadata": {
    "collapsed": false,
    "pycharm": {
     "name": "#%%\n"
    }
   },
   "outputs": [
    {
     "data": {
      "text/plain": [
       "5"
      ]
     },
     "execution_count": 130,
     "metadata": {},
     "output_type": "execute_result"
    }
   ],
   "source": [
    "pi"
   ]
  },
  {
   "cell_type": "code",
   "execution_count": 129,
   "metadata": {
    "collapsed": false,
    "pycharm": {
     "name": "#%%\n"
    }
   },
   "outputs": [],
   "source": [
    "pi = 5"
   ]
  },
  {
   "cell_type": "markdown",
   "id": "75b2eaad",
   "metadata": {
    "collapsed": false,
    "pycharm": {
     "name": "#%% md\n"
    }
   },
   "source": [
    "### Как перезагрузить модуль?"
   ]
  },
  {
   "cell_type": "code",
   "execution_count": 138,
   "id": "64abb162",
   "metadata": {
    "collapsed": false,
    "pycharm": {
     "name": "#%%\n"
    }
   },
   "outputs": [
    {
     "name": "stdout",
     "output_type": "stream",
     "text": [
      "world\n"
     ]
    }
   ],
   "source": [
    "import my_module\n",
    "my_module.foo1()"
   ]
  },
  {
   "cell_type": "code",
   "execution_count": 136,
   "id": "b75bbc3d",
   "metadata": {
    "collapsed": false,
    "pycharm": {
     "name": "#%%\n"
    }
   },
   "outputs": [
    {
     "data": {
      "text/plain": [
       "<module 'my_module' from '/Users/artem/Documents/Work/ВМК_МГУ/course_2023_09/Lecture_04/my_module.py'>"
      ]
     },
     "execution_count": 136,
     "metadata": {},
     "output_type": "execute_result"
    }
   ],
   "source": [
    "from imp import reload\n",
    "reload(my_module)"
   ]
  },
  {
   "cell_type": "code",
   "execution_count": 139,
   "id": "acbc28b7",
   "metadata": {
    "collapsed": false,
    "pycharm": {
     "name": "#%%\n"
    }
   },
   "outputs": [
    {
     "data": {
      "text/plain": [
       "5"
      ]
     },
     "execution_count": 139,
     "metadata": {},
     "output_type": "execute_result"
    }
   ],
   "source": [
    "math.pi"
   ]
  },
  {
   "cell_type": "markdown",
   "id": "e9c4cd04",
   "metadata": {
    "collapsed": false,
    "pycharm": {
     "name": "#%% md\n"
    }
   },
   "source": [
    "Что загружено из модуля:"
   ]
  },
  {
   "cell_type": "code",
   "execution_count": 141,
   "id": "a2156a02",
   "metadata": {
    "collapsed": false,
    "pycharm": {
     "name": "#%%\n"
    }
   },
   "outputs": [
    {
     "data": {
      "text/plain": [
       "['__doc__',\n",
       " '__file__',\n",
       " '__loader__',\n",
       " '__name__',\n",
       " '__package__',\n",
       " '__spec__',\n",
       " 'acos',\n",
       " 'acosh',\n",
       " 'asin',\n",
       " 'asinh',\n",
       " 'atan',\n",
       " 'atan2',\n",
       " 'atanh',\n",
       " 'ceil',\n",
       " 'comb',\n",
       " 'copysign',\n",
       " 'cos',\n",
       " 'cosh',\n",
       " 'degrees',\n",
       " 'dist',\n",
       " 'e',\n",
       " 'erf',\n",
       " 'erfc',\n",
       " 'exp',\n",
       " 'expm1',\n",
       " 'fabs',\n",
       " 'factorial',\n",
       " 'floor',\n",
       " 'fmod',\n",
       " 'frexp',\n",
       " 'fsum',\n",
       " 'gamma',\n",
       " 'gcd',\n",
       " 'hypot',\n",
       " 'inf',\n",
       " 'isclose',\n",
       " 'isfinite',\n",
       " 'isinf',\n",
       " 'isnan',\n",
       " 'isqrt',\n",
       " 'ldexp',\n",
       " 'lgamma',\n",
       " 'log',\n",
       " 'log10',\n",
       " 'log1p',\n",
       " 'log2',\n",
       " 'modf',\n",
       " 'nan',\n",
       " 'perm',\n",
       " 'pi',\n",
       " 'pow',\n",
       " 'prod',\n",
       " 'radians',\n",
       " 'remainder',\n",
       " 'sin',\n",
       " 'sinh',\n",
       " 'sqrt',\n",
       " 'tan',\n",
       " 'tanh',\n",
       " 'tau',\n",
       " 'trunc']"
      ]
     },
     "execution_count": 141,
     "metadata": {},
     "output_type": "execute_result"
    }
   ],
   "source": [
    "dir(math)"
   ]
  },
  {
   "cell_type": "markdown",
   "id": "b602991b",
   "metadata": {
    "collapsed": false,
    "pycharm": {
     "name": "#%% md\n"
    }
   },
   "source": [
    "## Пакеты"
   ]
  },
  {
   "cell_type": "markdown",
   "id": "79ee9bc1",
   "metadata": {
    "collapsed": false,
    "pycharm": {
     "name": "#%% md\n"
    }
   },
   "source": [
    "Пакеты -- модули сгруппированные в одной директории"
   ]
  },
  {
   "cell_type": "code",
   "execution_count": null,
   "id": "404d9c12",
   "metadata": {
    "collapsed": false,
    "pycharm": {
     "name": "#%%\n"
    }
   },
   "outputs": [],
   "source": [
    "import mymath.constants as constants"
   ]
  },
  {
   "cell_type": "code",
   "execution_count": null,
   "id": "48f90028",
   "metadata": {
    "collapsed": false,
    "pycharm": {
     "name": "#%%\n"
    }
   },
   "outputs": [],
   "source": [
    "constants.pi"
   ]
  },
  {
   "cell_type": "markdown",
   "id": "fff98e5f",
   "metadata": {
    "collapsed": false,
    "pycharm": {
     "name": "#%% md\n"
    }
   },
   "source": [
    "# PEP-8 и модули"
   ]
  },
  {
   "cell_type": "markdown",
   "id": "1dec1806",
   "metadata": {
    "collapsed": false,
    "pycharm": {
     "name": "#%% md\n"
    }
   },
   "source": [
    "Импортировать модули желательно по одному в строке:"
   ]
  },
  {
   "cell_type": "code",
   "execution_count": null,
   "id": "6820e987",
   "metadata": {
    "collapsed": false,
    "pycharm": {
     "name": "#%%\n"
    }
   },
   "outputs": [],
   "source": [
    "import os\n",
    "import math"
   ]
  },
  {
   "cell_type": "code",
   "execution_count": null,
   "id": "55aff3af",
   "metadata": {
    "collapsed": false,
    "pycharm": {
     "name": "#%%\n"
    }
   },
   "outputs": [],
   "source": [
    "# wrong\n",
    "import os, math"
   ]
  },
  {
   "cell_type": "markdown",
   "id": "c2d48c4c",
   "metadata": {
    "collapsed": false,
    "pycharm": {
     "name": "#%% md\n"
    }
   },
   "source": [
    "Однако допустимо:"
   ]
  },
  {
   "cell_type": "code",
   "execution_count": null,
   "id": "b93dd2d9",
   "metadata": {
    "collapsed": false,
    "pycharm": {
     "name": "#%%\n"
    }
   },
   "outputs": [],
   "source": [
    "from subprocess import Popen, PIPE"
   ]
  },
  {
   "cell_type": "markdown",
   "id": "ec287bfc",
   "metadata": {
    "collapsed": false,
    "pycharm": {
     "name": "#%% md\n"
    }
   },
   "source": [
    "Импорт модулей всегда помещается в начало файла, сразу после любых комментариев модуля и строк документации, а также перед глобальными параметрами и константами модуля.\n",
    "\n",
    "Импорт модулей должен быть сгруппирован в следующем порядке:\n",
    "\n",
    "- импорт стандартной библиотеки\n",
    "- импорт библиотек сторонних разработчиков\n",
    "- локальный импорт приложения/библиотеки\n",
    "Вы должны поместить пустую строку между каждой группой импорта."
   ]
  },
  {
   "cell_type": "code",
   "execution_count": null,
   "id": "8d836b1f",
   "metadata": {
    "collapsed": false,
    "pycharm": {
     "name": "#%%\n"
    }
   },
   "outputs": [],
   "source": [
    "import math\n",
    "\n",
    "import numpy\n",
    "\n",
    "import mymath.constants"
   ]
  },
  {
   "cell_type": "markdown",
   "id": "5860e66e",
   "metadata": {
    "collapsed": false,
    "pycharm": {
     "name": "#%% md\n"
    }
   },
   "source": [
    "Рекомендуется использовать абсолютный импорт, так как он обычно более удобочитаем и, как правило, ведет себя лучше (или, по крайней мере, дает более качественные сообщения об ошибках), если система импорта настроена неправильно:"
   ]
  },
  {
   "cell_type": "code",
   "execution_count": null,
   "id": "26955d58",
   "metadata": {
    "collapsed": false,
    "pycharm": {
     "name": "#%%\n"
    }
   },
   "outputs": [],
   "source": [
    "import mypkg.sibling\n",
    "from mypkg import sibling\n",
    "from mypkg.sibling import example"
   ]
  },
  {
   "cell_type": "markdown",
   "id": "5333a4c5",
   "metadata": {
    "collapsed": false,
    "pycharm": {
     "name": "#%% md\n"
    }
   },
   "source": [
    "Импорта с подстановочными знаками (from <module> import *) следует избегать, так как он делает неясным, какие имена присутствуют в пространстве имен, что сбивает с толку как читателей, так и многие автоматизированные инструменты."
   ]
  },
  {
   "cell_type": "code",
   "execution_count": null,
   "metadata": {
    "collapsed": false,
    "pycharm": {
     "name": "#%%\n"
    }
   },
   "outputs": [],
   "source": [
    "from mymodule import *"
   ]
  },
  {
   "cell_type": "markdown",
   "id": "d69e71ea",
   "metadata": {
    "collapsed": false,
    "pycharm": {
     "name": "#%% md\n"
    }
   },
   "source": [
    "## Dunder names"
   ]
  },
  {
   "cell_type": "markdown",
   "id": "de29a471",
   "metadata": {
    "collapsed": false,
    "pycharm": {
     "name": "#%% md\n"
    }
   },
   "source": [
    "\"Dunders\" уровня модуля (т. е. имена с двумя начальными и двумя конечными символами подчеркивания), такие как ```__all__, __author__, __version__``` и т.д., следует размещать после строки документации модуля, но перед любыми операторами импорта, за исключением ```from __future__ imports ... ```\n",
    "\n",
    "Python требует, чтобы будущие импорты появлялись в модуле перед любым другим кодом, кроме строк документации."
   ]
  },
  {
   "cell_type": "code",
   "execution_count": null,
   "id": "31e593cb",
   "metadata": {
    "collapsed": false,
    "pycharm": {
     "name": "#%%\n"
    }
   },
   "outputs": [],
   "source": [
    "\"\"\"This is the example module.\n",
    "\n",
    "This module does stuff.\n",
    "\"\"\"\n",
    "\n",
    "from __future__ import barry_as_FLUFL\n",
    "\n",
    "__all__ = ['a', 'b', 'c']\n",
    "__version__ = '0.1'\n",
    "__author__ = 'Cardinal Biggles'\n",
    "\n",
    "import os\n",
    "import sys"
   ]
  },
  {
   "cell_type": "markdown",
   "id": "fe6df511",
   "metadata": {
    "collapsed": false,
    "pycharm": {
     "name": "#%% md\n"
    }
   },
   "source": [
    "# Как разбивать на модули:"
   ]
  },
  {
   "cell_type": "markdown",
   "id": "989af380",
   "metadata": {
    "collapsed": false,
    "pycharm": {
     "name": "#%% md\n"
    }
   },
   "source": [
    "1. Разделить код на осмысленные части, например:\n",
    "    - Работа с БД\n",
    "    - Работа с GUI\n",
    "    - Вычисления\n",
    "    - Работа с пользователем\n",
    "    - Работа с файлами\n",
    "2. Вынести конфигурационные файлы в отдельный файл:\n",
    "    - Токены, авторизация и т.д.(Лучше использовать механизм переменных окружения)\n",
    "    - Параметры(например, прокси)"
   ]
  },
  {
   "cell_type": "markdown",
   "id": "1147f2bc",
   "metadata": {},
   "source": [
    "# Вопросы для самостоятельного изучения:\n",
    " - Рефакторинг: https://refactoring.guru/ru/refactoring\n",
    "# Вопросы к зачету\n",
    "- Понятие итератора и генератора и их отличия?\n",
    "- Зачем нужны генераторы\n",
    "- Что такое декоратор? Зачем он нужен?\n",
    "- Механизм генерации коллекций. Какие особенности? В чем отличие от генераторов?\n",
    "- Пакеты и модули отличия\n",
    "- Как импортировать модуль\n",
    "<!-- - Зачем нужен ```__name__``` и ```__all__``` -->\n",
    "- Общая схема импорта"
   ]
  }
 ],
 "metadata": {
  "kernelspec": {
   "display_name": "Python 3.8.11 ('Python_Lections_MSU')",
   "language": "python",
   "name": "python3"
  },
  "language_info": {
   "codemirror_mode": {
    "name": "ipython",
    "version": 3
   },
   "file_extension": ".py",
   "mimetype": "text/x-python",
   "name": "python",
   "nbconvert_exporter": "python",
   "pygments_lexer": "ipython3",
   "version": "3.8.11"
  },
  "vscode": {
   "interpreter": {
    "hash": "67e5709e29e1e6bc7fdd9135779fe701b01d700d2c5fd90e54a32c9e879e5123"
   }
  }
 },
 "nbformat": 4,
 "nbformat_minor": 5
}

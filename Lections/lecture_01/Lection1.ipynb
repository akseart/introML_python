{
 "cells": [
  {
   "cell_type": "markdown",
   "metadata": {},
   "source": [
    "# Введение в методы анализа данных. Язык Python."
   ]
  },
  {
   "cell_type": "markdown",
   "metadata": {},
   "source": [
    "## Лекция 1:  Обзор синтаксиса языка Python\n",
    "<br><br><br><br>\n",
    "__Аксентьев Артем (akseart@ya.ru)__\n",
    "\n",
    "__Ксемидов Борис (bworkboris@yandex.ru)__\n",
    "<br>"
   ]
  },
  {
   "cell_type": "markdown",
   "metadata": {
    "collapsed": false
   },
   "source": [
    "# Организационная часть"
   ]
  },
  {
   "cell_type": "markdown",
   "id": "8c4da4fb",
   "metadata": {},
   "source": [
    "## Для общего комфорта:\n",
    "- Во время лекций микрофоны лучше отключить\n",
    "- Вопросы предпочтительнее в чат(если короткие), если вопрос долго печатать, то голосом\n",
    "- Создана беседа в Telegram"
   ]
  },
  {
   "cell_type": "markdown",
   "metadata": {},
   "source": [
    "## Как исполнять код на Python?"
   ]
  },
  {
   "cell_type": "markdown",
   "metadata": {},
   "source": [
    "Python - скриптовый язык, который исполняется интерпретатором\n",
    "- Установить интерпретатор + стандартные библиотеки (python.org)\n",
    "- Установить Anaconda\n",
    "- Использовать Google Colab   [https://colab.research.google.com](https://colab.research.google.com) или подобные сервисы"
   ]
  },
  {
   "cell_type": "markdown",
   "metadata": {
    "collapsed": false
   },
   "source": [
    "## Установка Python\n",
    "\n",
    "Для установки Python предлагаю использовать miniconda(рассмотрим подробнее в дальнейшем):\n",
    "[https://docs.conda.io/en/latest/miniconda.html](https://docs.conda.io/en/latest/miniconda.html)\n",
    "\n",
    "После установки:\n",
    "- На Windows открыть программу \"Anaconda Prompt\"\n",
    "- На Mac/Linux открыть терминал\n",
    "\n",
    "Необходимо убедиться в том, что conda установилась, сделать это можно с помощью команды ```conda --version```.\n",
    "\n",
    "Если всё прошло корректно, необходимо создать виртуальное окружение(некий контейнер) для наших учебных работ:\n",
    "```sh\n",
    "conda create --name python_MSU python=3.8\n",
    "```\n",
    "Необходимо согласиться с тем, что необходимо установить пакеты и после этого выполнить:\n",
    "```sh\n",
    "conda activate python_MSU\n",
    "```\n",
    "Установить пакет jupyter notebook:\n",
    "```sh\n",
    "conda install jupyter\n",
    "```\n",
    "\n",
    "### Для запуска jupyter notebook:\n",
    "Необходимо убедиться, что используется виртуальное окружение \"python_MSU\" (в командной строке в круглых скобках должно быть указано имя окружения).\n",
    "В противном случае необходимо активировать окружение:\n",
    "```sh\n",
    "conda activate python_MSU\n",
    "```\n",
    "\n",
    "А затем ввести команду:\n",
    "```sh\n",
    "jupyter-notebook\n",
    "```\n",
    "В результате откроется браузер с jupyter. Если же браузер не откроется, то в командной строке будет отображен адрес следующего вида:\n",
    "```http://localhost:8890/?token=32b08886b4bdf9e66a6b4bfdea842571ae331dfa3eca5180```\n",
    "Необходимо по нему перейти в окне браузера\n",
    "\n",
    "\n",
    "\n",
    "\n"
   ]
  },
  {
   "cell_type": "markdown",
   "metadata": {},
   "source": [
    "## Где писать код на Python"
   ]
  },
  {
   "cell_type": "markdown",
   "id": "77435ca6",
   "metadata": {},
   "source": [
    "- Режим REPL (read-eval-print loop — «цикл „чтение — вычисление — вывод“»)\n",
    "- Любой текстовый редактор (Notepad++, Atom, Sublime Text3, vim, nano) и запуск файла\n",
    "- Специализированные оболочки для режима REPL\n",
    "    - Jupyter Notebook\n",
    "    - JupyterLab\n",
    "    - __VSCode__\n",
    "    - DataSpell (Платный продукт)\n",
    "- Специализированные IDE\n",
    "    - Pycharm (Есть бесплатная версия)\n",
    "    - Spyder\n",
    "    - Eclipse + PyDev"
   ]
  },
  {
   "cell_type": "markdown",
   "id": "d5dd47c3",
   "metadata": {},
   "source": [
    "__В данном курсе мы используем специальные оболочки для режиме REPL (Jupyter Notebook), для более удобной работы преподаватели показывают примеры в Visual Studio Code__"
   ]
  },
  {
   "cell_type": "markdown",
   "id": "0ac98220",
   "metadata": {},
   "source": [
    "## Почему?\n",
    "1. Получаются наглядный код с возможностью вывода результатов. "
   ]
  },
  {
   "cell_type": "code",
   "execution_count": 1,
   "id": "462d17c4",
   "metadata": {
    "collapsed": false,
    "ExecuteTime": {
     "end_time": "2024-03-06T16:25:34.505656Z",
     "start_time": "2024-03-06T16:25:34.498914Z"
    }
   },
   "outputs": [
    {
     "name": "stdout",
     "output_type": "stream",
     "text": [
      "Hello\n",
      "world\n"
     ]
    }
   ],
   "source": [
    "print(\"Hello\")\n",
    "print(\"world\")\n"
   ]
  },
  {
   "cell_type": "markdown",
   "id": "0c76fbe4",
   "metadata": {},
   "source": [
    "2. Есть возможность использовать утилиты терминала/командной строки для вывода какой-либо информации(например структуры текущей директории)"
   ]
  },
  {
   "cell_type": "code",
   "execution_count": 2,
   "metadata": {
    "ExecuteTime": {
     "end_time": "2024-03-06T16:26:28.853686Z",
     "start_time": "2024-03-06T16:26:28.700337Z"
    }
   },
   "outputs": [
    {
     "name": "stdout",
     "output_type": "stream",
     "text": [
      "Lection1.ipynb \u001B[1m\u001B[36mimage\u001B[m\u001B[m          test.py\r\n"
     ]
    }
   ],
   "source": [
    "!ls"
   ]
  },
  {
   "cell_type": "code",
   "execution_count": 3,
   "metadata": {
    "ExecuteTime": {
     "end_time": "2024-03-06T16:26:49.339393Z",
     "start_time": "2024-03-06T16:26:49.223425Z"
    }
   },
   "outputs": [
    {
     "name": "stdout",
     "output_type": "stream",
     "text": [
      "123\r\n"
     ]
    }
   ],
   "source": [
    "!echo 123"
   ]
  },
  {
   "cell_type": "markdown",
   "id": "977b4076",
   "metadata": {},
   "source": [
    "3. Можно выводить результаты без использования функции print"
   ]
  },
  {
   "cell_type": "code",
   "execution_count": 4,
   "id": "b3bb249b",
   "metadata": {
    "ExecuteTime": {
     "end_time": "2024-03-06T16:27:01.193937Z",
     "start_time": "2024-03-06T16:27:01.179032Z"
    }
   },
   "outputs": [
    {
     "data": {
      "text/plain": "4"
     },
     "execution_count": 4,
     "metadata": {},
     "output_type": "execute_result"
    }
   ],
   "source": [
    "2+2"
   ]
  },
  {
   "cell_type": "markdown",
   "id": "66dcfb16",
   "metadata": {},
   "source": [
    "4. Возможность понятно оформлять код и его результаты с комментариями([Markdown](https://guides.hexlet.io/ru/markdown/))"
   ]
  },
  {
   "cell_type": "markdown",
   "metadata": {},
   "source": [
    "## Версии Python"
   ]
  },
  {
   "cell_type": "markdown",
   "metadata": {},
   "source": [
    "### Python 2 vs Python 3\n",
    "- Поддержка версии Python 2 закончилась в 2020 году\n",
    "- В Python 3 устранены многие недостатки архитектуры с максимально возможным (но не полным) сохранением совместимости со старыми версиями Python\n",
    "- В большинстве случаев выбор следует делать в пользу Python 3\n",
    "\n",
    "### Реализации Python\n",
    "- CPython\n",
    "- Jython\n",
    "- IronPython (.Net)\n",
    "- PyPy\n",
    "- MicroPython"
   ]
  },
  {
   "cell_type": "markdown",
   "id": "846541f4",
   "metadata": {
    "collapsed": false
   },
   "source": [
    "В данном курсе мы рассматриваем __Python 3.8__ в реализации CPython(де-факто являющейся стандартом)"
   ]
  },
  {
   "cell_type": "markdown",
   "id": "e5cd6044",
   "metadata": {},
   "source": [
    "## Отличие Python 2 и Python 3"
   ]
  },
  {
   "cell_type": "markdown",
   "id": "2783a6eb",
   "metadata": {},
   "source": [
    "1. В Python 2 print -- ключевое слово. В Python 3 -- функция. То есть раньше можно было писать без скобок, а в новой версии со скобками:\n",
    "    ```python\n",
    "    print \"Hello world\"\n",
    "    ```\n",
    "\n",
    "    ```python\n",
    "    print(\"Hello world\")\n",
    "    ```\n",
    "2. raw_input vs input:\n",
    "    ```python\n",
    "    raw_input('Number: ')\n",
    "    ```\n",
    "\n",
    "    ```python\n",
    "    input('Number: ')\n",
    "    ```"
   ]
  },
  {
   "cell_type": "markdown",
   "metadata": {},
   "source": [
    "# Практика\n",
    "## План\n",
    "- Типы данных\n",
    "- Условные операторы\n",
    "- Циклы\n",
    "\n"
   ]
  },
  {
   "cell_type": "markdown",
   "metadata": {},
   "source": [
    "## Первая программа"
   ]
  },
  {
   "cell_type": "code",
   "execution_count": 5,
   "metadata": {
    "ExecuteTime": {
     "end_time": "2024-03-06T16:33:46.842026Z",
     "start_time": "2024-03-06T16:33:46.809757Z"
    }
   },
   "outputs": [
    {
     "name": "stdout",
     "output_type": "stream",
     "text": [
      "Hello world\n"
     ]
    }
   ],
   "source": [
    "print(\"Hello world\")"
   ]
  },
  {
   "cell_type": "markdown",
   "metadata": {},
   "source": [
    "- ``print`` - функция вывода, как и во многих ЯП\n",
    "- Нет необходимости в каком-либо дополнительном коде(ф-я main)"
   ]
  },
  {
   "cell_type": "markdown",
   "metadata": {},
   "source": [
    "С++\n",
    "```cpp\n",
    "#include <iostream>\n",
    "using namespace std;\n",
    "\n",
    "int main() \n",
    "{ \n",
    "    cout << \"Hello, world!\" << endl;\n",
    "    return 0; \n",
    "}\n",
    "```"
   ]
  },
  {
   "cell_type": "code",
   "execution_count": 6,
   "id": "dbd476a0",
   "metadata": {
    "ExecuteTime": {
     "end_time": "2024-03-06T16:34:58.540717Z",
     "start_time": "2024-03-06T16:34:58.524205Z"
    }
   },
   "outputs": [
    {
     "name": "stdout",
     "output_type": "stream",
     "text": [
      "Hello world\n"
     ]
    }
   ],
   "source": [
    "if __name__ == '__main__':\n",
    "    print(\"Hello world\")"
   ]
  },
  {
   "cell_type": "markdown",
   "metadata": {},
   "source": [
    "## Переменные и объекты в языке Python"
   ]
  },
  {
   "cell_type": "markdown",
   "metadata": {},
   "source": [
    "Python -- язык с сильной динамической типизацией. "
   ]
  },
  {
   "cell_type": "markdown",
   "metadata": {},
   "source": [
    " __Статическая типизация__ -- тип переменной известен во время компиляции, а не выполнения\n",
    "  <br> <br>\n",
    "  \n",
    " C++:\n",
    "```cpp\n",
    "#include <iostream>\n",
    "using namespace std;\n",
    "\n",
    "int main() \n",
    "{ \n",
    "    int a = 5;\n",
    "    float b = 2.0;\n",
    "    \n",
    "    a = \"Hello world\"; //error: invalid conversion from ‘const char*’ to ‘int’ \n",
    "\n",
    "    return 0; \n",
    "}\n",
    "```"
   ]
  },
  {
   "cell_type": "markdown",
   "metadata": {},
   "source": [
    "__Динамическая типизация__ - тип переменной неизвестен на этапе компиляции/интерпретации:\n",
    " <br> <br>\n",
    " \n",
    "Python 3:\n",
    "```python\n",
    "a : int = 5\n",
    "b = 2.\n",
    "\n",
    "a = 5.\n",
    "```"
   ]
  },
  {
   "cell_type": "markdown",
   "metadata": {},
   "source": [
    "__Сильная типизация__ -- переменные строго привязаны к типу данных\n",
    " <br> <br> Python 3\n",
    "```python\n",
    "a = 5\n",
    "b = \"Hello world\"\n",
    "\n",
    "print(a+b) # err\n",
    "```"
   ]
  },
  {
   "cell_type": "markdown",
   "metadata": {},
   "source": [
    "__Слабая типизация__ -- переменные непривязаны к типу данных\n",
    " <br> <br>\n",
    "JS:\n",
    "```js\n",
    "console.log(2001 + ': A Space Odyssey');\n",
    "// result: \"2001: A Space Odyssey\"\n",
    "```"
   ]
  },
  {
   "cell_type": "markdown",
   "id": "17e70bfc",
   "metadata": {},
   "source": [
    "Иногда говорят, что Python язык с утиной типизацией:\n",
    "> Если это выглядит как утка, плавает как утка и крякает как утка, то это, вероятно, и есть утка\n",
    "\n",
    "![Duck](image/duck.jpeg)"
   ]
  },
  {
   "cell_type": "markdown",
   "id": "efb2a1ad",
   "metadata": {},
   "source": [
    "### Немного примеров"
   ]
  },
  {
   "cell_type": "code",
   "execution_count": 7,
   "metadata": {
    "ExecuteTime": {
     "end_time": "2024-03-06T16:39:15.069512Z",
     "start_time": "2024-03-06T16:39:15.048425Z"
    }
   },
   "outputs": [
    {
     "data": {
      "text/plain": "1000"
     },
     "execution_count": 7,
     "metadata": {},
     "output_type": "execute_result"
    }
   ],
   "source": [
    "1000"
   ]
  },
  {
   "cell_type": "markdown",
   "metadata": {},
   "source": [
    "- Объект типа __int__ (целое число)"
   ]
  },
  {
   "cell_type": "code",
   "execution_count": null,
   "metadata": {},
   "outputs": [],
   "source": [
    "num_of_cars = 1000"
   ]
  },
  {
   "cell_type": "markdown",
   "metadata": {},
   "source": [
    "- Объект типа int\n",
    "- Создана переменная с именем a, которая ссылается на этот объект\n",
    "\n",
    "![](image/Mem_1.png)"
   ]
  },
  {
   "cell_type": "code",
   "execution_count": 9,
   "metadata": {
    "ExecuteTime": {
     "end_time": "2024-03-06T16:41:20.547155Z",
     "start_time": "2024-03-06T16:41:20.501586Z"
    }
   },
   "outputs": [],
   "source": [
    "a = 1000\n",
    "b = a\n",
    "c = \"Hello world\""
   ]
  },
  {
   "cell_type": "code",
   "execution_count": 11,
   "id": "5741bb8a",
   "metadata": {
    "ExecuteTime": {
     "end_time": "2024-03-06T16:41:49.613146Z",
     "start_time": "2024-03-06T16:41:49.599283Z"
    }
   },
   "outputs": [
    {
     "data": {
      "text/plain": "2000"
     },
     "execution_count": 11,
     "metadata": {},
     "output_type": "execute_result"
    }
   ],
   "source": [
    "a + b"
   ]
  },
  {
   "cell_type": "markdown",
   "metadata": {},
   "source": [
    "- Объект типа int\n",
    "- Переменная a на этот объект\n",
    "- Переменная b на тот же объект\n",
    "- Переменная c на объект типа str\n",
    "\n",
    "![](image/Mem_2.png)"
   ]
  },
  {
   "cell_type": "code",
   "execution_count": 12,
   "metadata": {
    "ExecuteTime": {
     "end_time": "2024-03-06T16:41:56.027192Z",
     "start_time": "2024-03-06T16:41:56.007066Z"
    }
   },
   "outputs": [
    {
     "name": "stdout",
     "output_type": "stream",
     "text": [
      "1000\n"
     ]
    }
   ],
   "source": [
    "print(a)"
   ]
  },
  {
   "cell_type": "code",
   "execution_count": 13,
   "metadata": {
    "ExecuteTime": {
     "end_time": "2024-03-06T16:41:58.066391Z",
     "start_time": "2024-03-06T16:41:58.048677Z"
    }
   },
   "outputs": [
    {
     "data": {
      "text/plain": "'Hello World'"
     },
     "execution_count": 13,
     "metadata": {},
     "output_type": "execute_result"
    }
   ],
   "source": [
    "a = 'Hello '\n",
    "b = 'World'\n",
    "\n",
    "a + b"
   ]
  },
  {
   "cell_type": "markdown",
   "metadata": {},
   "source": [
    "## Типы данных"
   ]
  },
  {
   "cell_type": "markdown",
   "metadata": {},
   "source": [
    "1. __None__ (неопределенное значение переменной)\n",
    "2. __Логические переменные__ (Boolean Type)\n",
    "3. Числа (Numeric Type)\n",
    "    - __int__ – целое число\n",
    "    - __float__ – число с плавающей точкой\n",
    "    - complex – комплексное число\n",
    "4. Последовательности (Sequence Type)\n",
    "    - __list__ – список\n",
    "    - __tuple__ – кортеж\n",
    "    - __range__ – диапазон\n",
    "5. Строки (Text Sequence Type)\n",
    "    - __str__\n",
    "6. Бинарные последовательности (Binary Sequence Types)\n",
    "    - bytes – байты\n",
    "    - bytearray – массивы байт\n",
    "    - memoryview – специальные объекты для доступа к внутренним данным объекта через protocol buffer\n",
    "7. Множества (Set Types)\n",
    "    - __set__ – множество\n",
    "    - frozenset – неизменяемое множество\n",
    "8. Словари (Mapping Types)\n",
    "    - __dict__ – словарь\n",
    "<br><br><br><br>\n",
    "https://docs.python.org/3/library/stdtypes.html?highlight=sequence"
   ]
  },
  {
   "cell_type": "markdown",
   "metadata": {},
   "source": [
    "### Тип None"
   ]
  },
  {
   "cell_type": "code",
   "execution_count": 14,
   "metadata": {
    "ExecuteTime": {
     "end_time": "2024-03-06T16:45:53.931367Z",
     "start_time": "2024-03-06T16:45:53.912526Z"
    }
   },
   "outputs": [
    {
     "data": {
      "text/plain": "(True, True)"
     },
     "execution_count": 14,
     "metadata": {},
     "output_type": "execute_result"
    }
   ],
   "source": [
    "n = 0\n",
    "n = ''\n",
    "n = None\n",
    "\n",
    "n == None, n is None"
   ]
  },
  {
   "cell_type": "markdown",
   "metadata": {},
   "source": [
    "### Логический тип"
   ]
  },
  {
   "cell_type": "code",
   "execution_count": 15,
   "metadata": {
    "ExecuteTime": {
     "end_time": "2024-03-06T16:47:05.276974Z",
     "start_time": "2024-03-06T16:47:05.256013Z"
    }
   },
   "outputs": [
    {
     "data": {
      "text/plain": "False"
     },
     "execution_count": 15,
     "metadata": {},
     "output_type": "execute_result"
    }
   ],
   "source": [
    "True == False"
   ]
  },
  {
   "cell_type": "code",
   "execution_count": 16,
   "metadata": {
    "ExecuteTime": {
     "end_time": "2024-03-06T16:47:12.963617Z",
     "start_time": "2024-03-06T16:47:12.938232Z"
    }
   },
   "outputs": [
    {
     "data": {
      "text/plain": "(True, False, False, False)"
     },
     "execution_count": 16,
     "metadata": {},
     "output_type": "execute_result"
    }
   ],
   "source": [
    "1 == True, [] == True, 0 == True, '' == False"
   ]
  },
  {
   "cell_type": "code",
   "execution_count": 19,
   "metadata": {
    "collapsed": false,
    "ExecuteTime": {
     "end_time": "2024-03-06T16:48:31.213413Z",
     "start_time": "2024-03-06T16:48:31.198694Z"
    }
   },
   "outputs": [
    {
     "data": {
      "text/plain": "(False, False, False)"
     },
     "execution_count": 19,
     "metadata": {},
     "output_type": "execute_result"
    }
   ],
   "source": [
    "False == 255, 255 == True, bool(0)"
   ]
  },
  {
   "cell_type": "code",
   "execution_count": 20,
   "id": "8750a39d",
   "metadata": {
    "ExecuteTime": {
     "end_time": "2024-03-06T16:48:35.243170Z",
     "start_time": "2024-03-06T16:48:35.221401Z"
    }
   },
   "outputs": [
    {
     "data": {
      "text/plain": "True"
     },
     "execution_count": 20,
     "metadata": {},
     "output_type": "execute_result"
    }
   ],
   "source": [
    "bool([1, 2])"
   ]
  },
  {
   "cell_type": "code",
   "execution_count": 22,
   "metadata": {
    "ExecuteTime": {
     "end_time": "2024-03-06T16:48:59.046557Z",
     "start_time": "2024-03-06T16:48:59.043879Z"
    }
   },
   "outputs": [
    {
     "data": {
      "text/plain": "(True, True)"
     },
     "execution_count": 22,
     "metadata": {},
     "output_type": "execute_result"
    }
   ],
   "source": [
    "1 == True, 0 == False"
   ]
  },
  {
   "cell_type": "code",
   "execution_count": 23,
   "metadata": {
    "ExecuteTime": {
     "end_time": "2024-03-06T16:49:07.445340Z",
     "start_time": "2024-03-06T16:49:07.424839Z"
    }
   },
   "outputs": [
    {
     "data": {
      "text/plain": "False"
     },
     "execution_count": 23,
     "metadata": {},
     "output_type": "execute_result"
    }
   ],
   "source": [
    "None is True"
   ]
  },
  {
   "cell_type": "code",
   "execution_count": 24,
   "metadata": {
    "ExecuteTime": {
     "end_time": "2024-03-06T16:49:10.289402Z",
     "start_time": "2024-03-06T16:49:10.267923Z"
    }
   },
   "outputs": [
    {
     "data": {
      "text/plain": "False"
     },
     "execution_count": 24,
     "metadata": {},
     "output_type": "execute_result"
    }
   ],
   "source": [
    "None is False"
   ]
  },
  {
   "cell_type": "code",
   "execution_count": 25,
   "metadata": {
    "collapsed": false,
    "ExecuteTime": {
     "end_time": "2024-03-06T16:49:17.933484Z",
     "start_time": "2024-03-06T16:49:17.915340Z"
    }
   },
   "outputs": [
    {
     "data": {
      "text/plain": "False"
     },
     "execution_count": 25,
     "metadata": {},
     "output_type": "execute_result"
    }
   ],
   "source": [
    "bool(None)"
   ]
  },
  {
   "cell_type": "code",
   "execution_count": 26,
   "metadata": {
    "ExecuteTime": {
     "end_time": "2024-03-06T16:50:01.519488Z",
     "start_time": "2024-03-06T16:50:01.499517Z"
    }
   },
   "outputs": [
    {
     "data": {
      "text/plain": "(True, False)"
     },
     "execution_count": 26,
     "metadata": {},
     "output_type": "execute_result"
    }
   ],
   "source": [
    "True and True, True and False"
   ]
  },
  {
   "cell_type": "code",
   "execution_count": 28,
   "metadata": {
    "ExecuteTime": {
     "end_time": "2024-03-06T16:50:55.251846Z",
     "start_time": "2024-03-06T16:50:55.227076Z"
    }
   },
   "outputs": [
    {
     "data": {
      "text/plain": "(True, True, False)"
     },
     "execution_count": 28,
     "metadata": {},
     "output_type": "execute_result"
    }
   ],
   "source": [
    "False or True, True or False, False or False"
   ]
  },
  {
   "cell_type": "code",
   "execution_count": 30,
   "metadata": {
    "ExecuteTime": {
     "end_time": "2024-03-06T16:51:24.621848Z",
     "start_time": "2024-03-06T16:51:24.594253Z"
    }
   },
   "outputs": [
    {
     "data": {
      "text/plain": "True"
     },
     "execution_count": 30,
     "metadata": {},
     "output_type": "execute_result"
    }
   ],
   "source": [
    "not False"
   ]
  },
  {
   "cell_type": "code",
   "execution_count": 31,
   "metadata": {
    "collapsed": false,
    "pycharm": {
     "name": "#%%\n"
    },
    "ExecuteTime": {
     "end_time": "2024-03-06T16:51:34.291828Z",
     "start_time": "2024-03-06T16:51:34.273830Z"
    }
   },
   "outputs": [
    {
     "data": {
      "text/plain": "5"
     },
     "execution_count": 31,
     "metadata": {},
     "output_type": "execute_result"
    }
   ],
   "source": [
    "None or 0 or 5 or 10 or 0 or None"
   ]
  },
  {
   "cell_type": "code",
   "execution_count": 32,
   "outputs": [
    {
     "data": {
      "text/plain": "'123'"
     },
     "execution_count": 32,
     "metadata": {},
     "output_type": "execute_result"
    }
   ],
   "source": [
    "a = ''\n",
    "b = '123'\n",
    "c = ''\n",
    "\n",
    "a or b or c"
   ],
   "metadata": {
    "collapsed": false,
    "ExecuteTime": {
     "end_time": "2024-03-06T16:52:57.725088Z",
     "start_time": "2024-03-06T16:52:57.705508Z"
    }
   }
  },
  {
   "cell_type": "code",
   "execution_count": 33,
   "metadata": {
    "collapsed": false,
    "ExecuteTime": {
     "end_time": "2024-03-06T16:53:16.332912Z",
     "start_time": "2024-03-06T16:53:16.304986Z"
    }
   },
   "outputs": [
    {
     "data": {
      "text/plain": "False"
     },
     "execution_count": 33,
     "metadata": {},
     "output_type": "execute_result"
    }
   ],
   "source": [
    "bool(None or 0 or [] or '')"
   ]
  },
  {
   "cell_type": "code",
   "execution_count": 36,
   "metadata": {
    "ExecuteTime": {
     "end_time": "2024-03-06T16:53:51.277025Z",
     "start_time": "2024-03-06T16:53:51.245169Z"
    }
   },
   "outputs": [
    {
     "name": "stdout",
     "output_type": "stream",
     "text": [
      "0\n"
     ]
    }
   ],
   "source": [
    "print(10 and 1 and 0 and 30)"
   ]
  },
  {
   "cell_type": "markdown",
   "metadata": {},
   "source": [
    "### Числа\n",
    "#### Целые"
   ]
  },
  {
   "cell_type": "code",
   "execution_count": 37,
   "metadata": {
    "ExecuteTime": {
     "end_time": "2024-03-06T16:54:19.436047Z",
     "start_time": "2024-03-06T16:54:19.415328Z"
    }
   },
   "outputs": [
    {
     "data": {
      "text/plain": "10"
     },
     "execution_count": 37,
     "metadata": {},
     "output_type": "execute_result"
    }
   ],
   "source": [
    "5 + 5"
   ]
  },
  {
   "cell_type": "code",
   "execution_count": 38,
   "metadata": {
    "ExecuteTime": {
     "end_time": "2024-03-06T16:54:33.637922Z",
     "start_time": "2024-03-06T16:54:33.613253Z"
    }
   },
   "outputs": [
    {
     "data": {
      "text/plain": "0"
     },
     "execution_count": 38,
     "metadata": {},
     "output_type": "execute_result"
    }
   ],
   "source": [
    "5 - 5"
   ]
  },
  {
   "cell_type": "code",
   "execution_count": 39,
   "metadata": {
    "ExecuteTime": {
     "end_time": "2024-03-06T16:54:35.183066Z",
     "start_time": "2024-03-06T16:54:35.155972Z"
    }
   },
   "outputs": [
    {
     "data": {
      "text/plain": "10"
     },
     "execution_count": 39,
     "metadata": {},
     "output_type": "execute_result"
    }
   ],
   "source": [
    "5 * 2"
   ]
  },
  {
   "cell_type": "code",
   "execution_count": 40,
   "metadata": {
    "ExecuteTime": {
     "end_time": "2024-03-06T16:54:37.435590Z",
     "start_time": "2024-03-06T16:54:37.416670Z"
    }
   },
   "outputs": [
    {
     "data": {
      "text/plain": "1"
     },
     "execution_count": 40,
     "metadata": {},
     "output_type": "execute_result"
    }
   ],
   "source": [
    "5 % 2"
   ]
  },
  {
   "cell_type": "code",
   "execution_count": 41,
   "metadata": {
    "ExecuteTime": {
     "end_time": "2024-03-06T16:54:46.686857Z",
     "start_time": "2024-03-06T16:54:46.663471Z"
    }
   },
   "outputs": [
    {
     "data": {
      "text/plain": "2"
     },
     "execution_count": 41,
     "metadata": {},
     "output_type": "execute_result"
    }
   ],
   "source": [
    "5 // 2"
   ]
  },
  {
   "cell_type": "code",
   "execution_count": 42,
   "metadata": {
    "ExecuteTime": {
     "end_time": "2024-03-06T16:55:01.789336Z",
     "start_time": "2024-03-06T16:55:01.771805Z"
    }
   },
   "outputs": [
    {
     "data": {
      "text/plain": "2.5"
     },
     "execution_count": 42,
     "metadata": {},
     "output_type": "execute_result"
    }
   ],
   "source": [
    "5 / 2"
   ]
  },
  {
   "cell_type": "code",
   "execution_count": 46,
   "metadata": {
    "collapsed": false,
    "ExecuteTime": {
     "end_time": "2024-03-06T16:55:59.525161Z",
     "start_time": "2024-03-06T16:55:59.505100Z"
    }
   },
   "outputs": [
    {
     "name": "stdout",
     "output_type": "stream",
     "text": [
      "1000000000000000000000000000000000000000000000000000000000000000000000000000000000000000000000000000000000000000000000000000000000000000000000000000000000000000000000000000000000000000000000000000000000000000000000000000000000000000000000000000000000000000000000000000000000000000000000000000000000000000000000000000000000000000000000000000000000000000000000000000000000000000000000000000000000000000000000000000000000000000000000000000000000000000000000000000000000000000000000000000000000000000000000000000000000000000000000000000000000000000000000000000000000000000000000000000000000000000000000000000000000000000000000000000000000000000000000000000000000000000000000000000000000000000000000000000000000000000000000000000000000000000000000000000000000000000000000000000000000000000000000000000000000000000000000000000000000000000000000000000000000000000000000000000000000000000000000000000000000000000000000000000000000000000000000000000000000000000000000000000000000000000000000000000000000000000000000000000000000000000000000000000000000000000000000000000000000000000000000000000000000000000000000000000000000000000000000000000000000000000000000000000000000000000000000000000000000000000000000000000000000000000000000000000000000000000000000000000000000000000000000000000000000000000000000000000000000000000000000000000000000000000000000000000000000000000000000000000000000000000000000000000000000000000000000000000000000000000000000000000000000000000000000000000000000000000000000000000000000000000000000000000000000000000000000000000000000000000000000000000000000000000000000000000000000000000000000000000000000000000000000000000000000000000000000000000000000000000000000000000000000000000000000000000000000000000000000000000000000000000000000000000000000000000000000000000000000000000000000000000000000000000000000000000000000000000000000000000000000000000000000000000000000000000000000000000000000000000000000000000000000000000000000000000000000000000000000000000000000000000000000000000000000000000000000000000000000000000000000000000000000000000000000000000000000000000000000000000000000000000000000000000000000000000000000000000000000000000000000000000000000000000000000000000000000000000000000000000000000000000000000000000000000000000000000000000000000000000000000000000000000000000000000000000000000000000000000000000000000000000000000000000000000000000000000000000000000000000000000000000000000000000000000000000000000000000000000000000000000000000000000000000000000000000000000000000000000000000000000000000000000000000000000000000000000000000000000000000000000000000000000000000000000000000000000000000000000000000000000000000000000000000000000000000000000000000000000000000000000000000000000000000000000000000000000000000000000000000000000000000000000000000000000000000000000000000000000000000000000000000000000000000000000000000000000000000000000000000000000000000000000000000000000000000000000000000000000000000000000000000000000000000000000000000000000000000000000000000000000000\n"
     ]
    }
   ],
   "source": [
    "print(1_0_0_0 ** 1_000)"
   ]
  },
  {
   "cell_type": "code",
   "execution_count": 47,
   "metadata": {
    "collapsed": false,
    "ExecuteTime": {
     "end_time": "2024-03-06T16:56:06.986553Z",
     "start_time": "2024-03-06T16:56:06.963432Z"
    }
   },
   "outputs": [
    {
     "data": {
      "text/plain": "10000000"
     },
     "execution_count": 47,
     "metadata": {},
     "output_type": "execute_result"
    }
   ],
   "source": [
    "10_000_000"
   ]
  },
  {
   "cell_type": "code",
   "execution_count": 48,
   "metadata": {
    "collapsed": false,
    "ExecuteTime": {
     "end_time": "2024-03-06T16:56:36.855400Z",
     "start_time": "2024-03-06T16:56:36.834173Z"
    }
   },
   "outputs": [
    {
     "data": {
      "text/plain": "0.00390625"
     },
     "execution_count": 48,
     "metadata": {},
     "output_type": "execute_result"
    }
   ],
   "source": [
    "2 ** -8"
   ]
  },
  {
   "cell_type": "code",
   "execution_count": 49,
   "metadata": {
    "ExecuteTime": {
     "end_time": "2024-03-06T16:56:49.797608Z",
     "start_time": "2024-03-06T16:56:49.776508Z"
    }
   },
   "outputs": [
    {
     "data": {
      "text/plain": "10"
     },
     "execution_count": 49,
     "metadata": {},
     "output_type": "execute_result"
    }
   ],
   "source": [
    "int('10')"
   ]
  },
  {
   "cell_type": "code",
   "execution_count": 52,
   "id": "a3e9e27c",
   "metadata": {
    "ExecuteTime": {
     "end_time": "2024-03-06T16:57:05.988903Z",
     "start_time": "2024-03-06T16:57:05.969226Z"
    }
   },
   "outputs": [
    {
     "data": {
      "text/plain": "10"
     },
     "execution_count": 52,
     "metadata": {},
     "output_type": "execute_result"
    }
   ],
   "source": [
    "int(10.9)"
   ]
  },
  {
   "cell_type": "markdown",
   "metadata": {},
   "source": [
    "#### Числа с плавающей точкой"
   ]
  },
  {
   "cell_type": "code",
   "execution_count": 54,
   "metadata": {
    "ExecuteTime": {
     "end_time": "2024-03-06T16:57:31.257738Z",
     "start_time": "2024-03-06T16:57:31.229890Z"
    }
   },
   "outputs": [
    {
     "data": {
      "text/plain": "2.0"
     },
     "execution_count": 54,
     "metadata": {},
     "output_type": "execute_result"
    }
   ],
   "source": [
    "4 / 2"
   ]
  },
  {
   "cell_type": "code",
   "execution_count": 56,
   "metadata": {
    "ExecuteTime": {
     "end_time": "2024-03-06T16:57:38.116813Z",
     "start_time": "2024-03-06T16:57:38.070364Z"
    }
   },
   "outputs": [
    {
     "data": {
      "text/plain": "4.5"
     },
     "execution_count": 56,
     "metadata": {},
     "output_type": "execute_result"
    }
   ],
   "source": [
    "2.0 + 2.5"
   ]
  },
  {
   "cell_type": "code",
   "execution_count": 57,
   "metadata": {
    "ExecuteTime": {
     "end_time": "2024-03-06T16:57:39.086030Z",
     "start_time": "2024-03-06T16:57:39.038984Z"
    }
   },
   "outputs": [
    {
     "data": {
      "text/plain": "1.5"
     },
     "execution_count": 57,
     "metadata": {},
     "output_type": "execute_result"
    }
   ],
   "source": [
    "2. - 0.5"
   ]
  },
  {
   "cell_type": "code",
   "execution_count": 59,
   "metadata": {
    "ExecuteTime": {
     "end_time": "2024-03-06T16:57:52.439259Z",
     "start_time": "2024-03-06T16:57:52.420055Z"
    }
   },
   "outputs": [
    {
     "data": {
      "text/plain": "1.0"
     },
     "execution_count": 59,
     "metadata": {},
     "output_type": "execute_result"
    }
   ],
   "source": [
    "2 - 1."
   ]
  },
  {
   "cell_type": "code",
   "execution_count": 61,
   "metadata": {
    "ExecuteTime": {
     "end_time": "2024-03-06T16:58:15.868513Z",
     "start_time": "2024-03-06T16:58:15.823615Z"
    }
   },
   "outputs": [
    {
     "data": {
      "text/plain": "3.0"
     },
     "execution_count": 61,
     "metadata": {},
     "output_type": "execute_result"
    }
   ],
   "source": [
    "2 * 1.5"
   ]
  },
  {
   "cell_type": "code",
   "execution_count": 62,
   "metadata": {
    "ExecuteTime": {
     "end_time": "2024-03-06T16:58:16.322035Z",
     "start_time": "2024-03-06T16:58:16.241025Z"
    }
   },
   "outputs": [
    {
     "data": {
      "text/plain": "0.4347826086956522"
     },
     "execution_count": 62,
     "metadata": {},
     "output_type": "execute_result"
    }
   ],
   "source": [
    "2 / 4.6"
   ]
  },
  {
   "cell_type": "code",
   "execution_count": 63,
   "metadata": {
    "ExecuteTime": {
     "end_time": "2024-03-06T16:58:20.022650Z",
     "start_time": "2024-03-06T16:58:19.976619Z"
    }
   },
   "outputs": [
    {
     "data": {
      "text/plain": "(2.0, 2.173913043478261)"
     },
     "execution_count": 63,
     "metadata": {},
     "output_type": "execute_result"
    }
   ],
   "source": [
    "10 // 4.6, 10 / 4.6"
   ]
  },
  {
   "cell_type": "code",
   "execution_count": 64,
   "metadata": {
    "ExecuteTime": {
     "end_time": "2024-03-06T16:58:30.518968Z",
     "start_time": "2024-03-06T16:58:30.456062Z"
    }
   },
   "outputs": [
    {
     "data": {
      "text/plain": "0.40000000000000036"
     },
     "execution_count": 64,
     "metadata": {},
     "output_type": "execute_result"
    }
   ],
   "source": [
    "10. % 2.4"
   ]
  },
  {
   "cell_type": "code",
   "execution_count": 68,
   "metadata": {
    "ExecuteTime": {
     "end_time": "2024-03-06T16:59:15.694498Z",
     "start_time": "2024-03-06T16:59:15.664831Z"
    }
   },
   "outputs": [
    {
     "data": {
      "text/plain": "(1.0, 2.0)"
     },
     "execution_count": 68,
     "metadata": {},
     "output_type": "execute_result"
    }
   ],
   "source": [
    "float(1), float(\"2.0\")"
   ]
  },
  {
   "cell_type": "code",
   "execution_count": 69,
   "metadata": {
    "collapsed": false,
    "ExecuteTime": {
     "end_time": "2024-03-06T16:59:21.977310Z",
     "start_time": "2024-03-06T16:59:21.957054Z"
    }
   },
   "outputs": [
    {
     "data": {
      "text/plain": "False"
     },
     "execution_count": 69,
     "metadata": {},
     "output_type": "execute_result"
    }
   ],
   "source": [
    "0.1 + 0.1 + 0.1 == 0.3"
   ]
  },
  {
   "cell_type": "code",
   "execution_count": 70,
   "metadata": {
    "collapsed": false,
    "ExecuteTime": {
     "end_time": "2024-03-06T16:59:36.698974Z",
     "start_time": "2024-03-06T16:59:36.674835Z"
    }
   },
   "outputs": [
    {
     "data": {
      "text/plain": "0.30000000000000004"
     },
     "execution_count": 70,
     "metadata": {},
     "output_type": "execute_result"
    }
   ],
   "source": [
    "0.1 + 0.1 + 0.1"
   ]
  },
  {
   "cell_type": "code",
   "execution_count": 71,
   "metadata": {
    "collapsed": false,
    "ExecuteTime": {
     "end_time": "2024-03-06T17:00:23.764740Z",
     "start_time": "2024-03-06T17:00:23.741107Z"
    }
   },
   "outputs": [
    {
     "data": {
      "text/plain": "True"
     },
     "execution_count": 71,
     "metadata": {},
     "output_type": "execute_result"
    }
   ],
   "source": [
    "abs((0.1 + 0.1 + 0.1) - 0.3) < 0.00000001"
   ]
  },
  {
   "cell_type": "markdown",
   "metadata": {},
   "source": [
    "### Коллекции"
   ]
  },
  {
   "cell_type": "markdown",
   "metadata": {},
   "source": [
    "#### Str"
   ]
  },
  {
   "cell_type": "code",
   "execution_count": 72,
   "metadata": {
    "ExecuteTime": {
     "end_time": "2024-03-06T17:01:37.888885Z",
     "start_time": "2024-03-06T17:01:37.858070Z"
    }
   },
   "outputs": [
    {
     "name": "stdout",
     "output_type": "stream",
     "text": [
      "Hello 'world'\n"
     ]
    }
   ],
   "source": [
    "print(\"Hello 'world'\")"
   ]
  },
  {
   "cell_type": "code",
   "execution_count": 75,
   "metadata": {
    "ExecuteTime": {
     "end_time": "2024-03-06T17:02:23.419209Z",
     "start_time": "2024-03-06T17:02:23.400285Z"
    }
   },
   "outputs": [
    {
     "data": {
      "text/plain": "'Hello \"world\"'"
     },
     "execution_count": 75,
     "metadata": {},
     "output_type": "execute_result"
    }
   ],
   "source": [
    "'Hello \"world\"'"
   ]
  },
  {
   "cell_type": "code",
   "execution_count": 76,
   "metadata": {
    "ExecuteTime": {
     "end_time": "2024-03-06T17:02:49.491803Z",
     "start_time": "2024-03-06T17:02:49.474305Z"
    }
   },
   "outputs": [
    {
     "data": {
      "text/plain": "' Hello\\n    World\\n'"
     },
     "execution_count": 76,
     "metadata": {},
     "output_type": "execute_result"
    }
   ],
   "source": [
    "\"\"\" Hello\n",
    "    World\n",
    "\"\"\""
   ]
  },
  {
   "cell_type": "code",
   "execution_count": 78,
   "metadata": {
    "ExecuteTime": {
     "end_time": "2024-03-06T17:03:14.793094Z",
     "start_time": "2024-03-06T17:03:14.780239Z"
    }
   },
   "outputs": [
    {
     "name": "stdout",
     "output_type": "stream",
     "text": [
      "Hello\n",
      "   World\n",
      "\n"
     ]
    }
   ],
   "source": [
    "print(\n",
    "\"\"\"Hello\n",
    "   World\n",
    "\"\"\")"
   ]
  },
  {
   "cell_type": "markdown",
   "metadata": {
    "collapsed": false
   },
   "source": [
    "##### Управляющие символы кодировки ASCII"
   ]
  },
  {
   "cell_type": "markdown",
   "metadata": {
    "collapsed": false
   },
   "source": [
    "Рассмотрим только набор управляющих символов из стандарта POSIX (portable character set)\n",
    "\n",
    "| Название         | Строка |\n",
    "|------------------|--------|\n",
    "| NUL              |\\0\t    |\n",
    "| alert\t \t       |\\a      |\n",
    "| backspace\t       |\\b      |\n",
    "| tab\t \t       |\\t      |\n",
    "| newline\t       |\\n      |\n",
    "| vertical-tab     |\\v      |\n",
    "| form-feed        |\\f      |\n",
    "| carriage-return  |\\r      |"
   ]
  },
  {
   "cell_type": "code",
   "execution_count": 79,
   "metadata": {
    "collapsed": false,
    "ExecuteTime": {
     "end_time": "2024-03-06T17:04:58.206499Z",
     "start_time": "2024-03-06T17:04:58.162417Z"
    }
   },
   "outputs": [
    {
     "name": "stdout",
     "output_type": "stream",
     "text": [
      "\u0000\n"
     ]
    }
   ],
   "source": [
    "print(\"\\0\")"
   ]
  },
  {
   "cell_type": "code",
   "execution_count": 80,
   "metadata": {
    "collapsed": false,
    "ExecuteTime": {
     "end_time": "2024-03-06T17:05:16.192638Z",
     "start_time": "2024-03-06T17:05:16.148867Z"
    }
   },
   "outputs": [
    {
     "name": "stdout",
     "output_type": "stream",
     "text": [
      "\u0007\n"
     ]
    }
   ],
   "source": [
    "print(\"\\a\")"
   ]
  },
  {
   "cell_type": "code",
   "execution_count": 82,
   "metadata": {
    "collapsed": false,
    "ExecuteTime": {
     "end_time": "2024-03-06T17:06:00.565493Z",
     "start_time": "2024-03-06T17:06:00.516910Z"
    }
   },
   "outputs": [
    {
     "name": "stdout",
     "output_type": "stream",
     "text": [
      "Hello, worl\n"
     ]
    }
   ],
   "source": [
    "print(\"Hello, world!\\b\\b\")"
   ]
  },
  {
   "cell_type": "code",
   "execution_count": 83,
   "metadata": {
    "collapsed": false,
    "ExecuteTime": {
     "end_time": "2024-03-06T17:06:05.263258Z",
     "start_time": "2024-03-06T17:06:05.222159Z"
    }
   },
   "outputs": [
    {
     "name": "stdout",
     "output_type": "stream",
     "text": [
      "Hello,\tworld!\n"
     ]
    }
   ],
   "source": [
    "print(\"Hello,\\tworld!\")"
   ]
  },
  {
   "cell_type": "code",
   "execution_count": 84,
   "metadata": {
    "collapsed": false,
    "ExecuteTime": {
     "end_time": "2024-03-06T17:06:08.202490Z",
     "start_time": "2024-03-06T17:06:08.173907Z"
    }
   },
   "outputs": [
    {
     "name": "stdout",
     "output_type": "stream",
     "text": [
      "Hello,\u000Bworld!\n"
     ]
    }
   ],
   "source": [
    "print(\"Hello,\\vworld!\")"
   ]
  },
  {
   "cell_type": "code",
   "execution_count": 85,
   "metadata": {
    "collapsed": false,
    "ExecuteTime": {
     "end_time": "2024-03-06T17:06:27.945373Z",
     "start_time": "2024-03-06T17:06:27.925411Z"
    }
   },
   "outputs": [
    {
     "name": "stdout",
     "output_type": "stream",
     "text": [
      "Hello,\fworld!\n"
     ]
    }
   ],
   "source": [
    "print(\"Hello,\\fworld!\")"
   ]
  },
  {
   "cell_type": "code",
   "execution_count": 88,
   "metadata": {
    "collapsed": false,
    "ExecuteTime": {
     "end_time": "2024-03-06T17:07:22.782844Z",
     "start_time": "2024-03-06T17:07:22.744176Z"
    }
   },
   "outputs": [
    {
     "name": "stdout",
     "output_type": "stream",
     "text": [
      "Hello,\n",
      "world!\n",
      "\n",
      "wollo,\n",
      "\n",
      "Hello,\r\n",
      "world!\n"
     ]
    }
   ],
   "source": [
    "print(\"Hello,\\nworld!\")\n",
    "print()\n",
    "print(\"Hello,\\rwo\")\n",
    "print()\n",
    "print(\"Hello,\\r\\nworld!\")"
   ]
  },
  {
   "cell_type": "markdown",
   "metadata": {
    "collapsed": false
   },
   "source": [
    "##### CRLF vs LF \n",
    "\n",
    "CR = \\r \n",
    "\n",
    "LF = \\n\n",
    "\n",
    "Возврат каретки (англ. carriage return, CR) — управляющий символ ASCII ('\\r'), при выводе которого курсор перемещается к левому краю поля. Отдельно рассматривается, как перевод строки, только в старых системах Macintosh\n",
    "\n",
    "Подача на строку или Перевод на строку (от англ. line feed, LF — «подача бумаги на строку») — управляющий символ ASCII ('\\n'), при выводе которого курсор перемещается на следующую строку. В случае принтера это означает сдвиг бумаги вверх, в случае дисплея — сдвиг курсора вниз, если ещё осталось место, и прокрутку текста вверх, если курсор находился на нижней строке. Как перенос строки(в привычном понимании со сдвигом курсора влево) используется в UNIX системах(в том числе и macOS/Os X).\n",
    "\n",
    "Большинство не Unix систем (Windows, Symbian OS)  используют последовательность этих двух символов('\\r\\n')\n"
   ]
  },
  {
   "cell_type": "markdown",
   "metadata": {},
   "source": [
    "##### Форматирование строк"
   ]
  },
  {
   "cell_type": "code",
   "execution_count": 90,
   "id": "2bd36180",
   "metadata": {
    "ExecuteTime": {
     "end_time": "2024-03-06T17:10:55.558082Z",
     "start_time": "2024-03-06T17:10:55.523660Z"
    }
   },
   "outputs": [
    {
     "name": "stdout",
     "output_type": "stream",
     "text": [
      "Name: Petr\n",
      "Age: 45\n",
      "Weight: 65.5\n"
     ]
    }
   ],
   "source": [
    "name = \"Petr\"\n",
    "age = 45\n",
    "weight = 65.5\n",
    "\n",
    "res = \"Name: \" + name + '\\n' + \"Age: \" + str(age) + '\\n' + \"Weight: \" + str(weight)\n",
    "print(res)"
   ]
  },
  {
   "cell_type": "code",
   "execution_count": 91,
   "id": "7932b059",
   "metadata": {
    "ExecuteTime": {
     "end_time": "2024-03-06T17:11:38.209275Z",
     "start_time": "2024-03-06T17:11:38.176711Z"
    }
   },
   "outputs": [
    {
     "name": "stdout",
     "output_type": "stream",
     "text": [
      "Name: Petr\n",
      "Age: 45\n",
      "Weight: 65.5\n",
      "\n"
     ]
    }
   ],
   "source": [
    "name = \"Petr\"\n",
    "age = 45\n",
    "weight = 65.5\n",
    "\n",
    "res = \"\"\"Name: {}\n",
    "Age: {}\n",
    "Weight: {}\n",
    "\"\"\".format(name, age, weight)\n",
    "\n",
    "print(res)"
   ]
  },
  {
   "cell_type": "code",
   "execution_count": 93,
   "id": "85f92f97",
   "metadata": {
    "ExecuteTime": {
     "end_time": "2024-03-06T17:13:01.138514Z",
     "start_time": "2024-03-06T17:13:01.102568Z"
    }
   },
   "outputs": [
    {
     "name": "stdout",
     "output_type": "stream",
     "text": [
      "Name: 20\n",
      "Age: 45\n",
      "Weight: 65.5\n",
      "\n"
     ]
    }
   ],
   "source": [
    "name = \"Petr\"\n",
    "age = 45\n",
    "weight = 65.5\n",
    "\n",
    "res = f\"\"\"Name: {10 + 10}\n",
    "Age: {age}\n",
    "Weight: {weight}\n",
    "\"\"\"\n",
    "\n",
    "print(res)"
   ]
  },
  {
   "cell_type": "code",
   "execution_count": 94,
   "id": "b78c1bff",
   "metadata": {
    "ExecuteTime": {
     "end_time": "2024-03-06T17:13:04.308561Z",
     "start_time": "2024-03-06T17:13:04.289874Z"
    }
   },
   "outputs": [
    {
     "data": {
      "text/plain": "'Name: 20\\nAge: 45\\nWeight: 65.5\\n'"
     },
     "execution_count": 94,
     "metadata": {},
     "output_type": "execute_result"
    }
   ],
   "source": [
    "res"
   ]
  },
  {
   "cell_type": "markdown",
   "id": "986187c6",
   "metadata": {},
   "source": [
    "##### Сырые строки (raw string)"
   ]
  },
  {
   "cell_type": "code",
   "execution_count": 97,
   "id": "056e237e",
   "metadata": {
    "ExecuteTime": {
     "end_time": "2024-03-06T17:14:04.721951Z",
     "start_time": "2024-03-06T17:14:04.699983Z"
    }
   },
   "outputs": [
    {
     "name": "stdout",
     "output_type": "stream",
     "text": [
      "1231231231 \\n \\\n"
     ]
    }
   ],
   "source": [
    "print(\"1231231231 \\\\n \\\\\")"
   ]
  },
  {
   "cell_type": "code",
   "execution_count": 98,
   "id": "7b3097e1",
   "metadata": {
    "ExecuteTime": {
     "end_time": "2024-03-06T17:14:17.820847Z",
     "start_time": "2024-03-06T17:14:17.802958Z"
    }
   },
   "outputs": [
    {
     "name": "stdout",
     "output_type": "stream",
     "text": [
      "C:\\ProgrammFiles\n",
      "ew_Python\n"
     ]
    }
   ],
   "source": [
    "path = 'C:\\ProgrammFiles\\new_Python'\n",
    "\n",
    "print(path)"
   ]
  },
  {
   "cell_type": "code",
   "execution_count": 99,
   "id": "1fcceea9",
   "metadata": {
    "ExecuteTime": {
     "end_time": "2024-03-06T17:14:51.303812Z",
     "start_time": "2024-03-06T17:14:51.284199Z"
    }
   },
   "outputs": [
    {
     "name": "stdout",
     "output_type": "stream",
     "text": [
      "C:\\ProgrammFiles\\new_Python\n"
     ]
    }
   ],
   "source": [
    "path = 'C:\\\\ProgrammFiles\\\\new_Python\\\\'\n",
    "\n",
    "print(path)"
   ]
  },
  {
   "cell_type": "code",
   "execution_count": 100,
   "id": "fdbc0445",
   "metadata": {
    "ExecuteTime": {
     "end_time": "2024-03-06T17:15:09.013774Z",
     "start_time": "2024-03-06T17:15:08.990703Z"
    }
   },
   "outputs": [
    {
     "name": "stdout",
     "output_type": "stream",
     "text": [
      "C:\\ProgrammFiles\\new_Python\n"
     ]
    }
   ],
   "source": [
    "path = r'C:\\ProgrammFiles\\new_Python'\n",
    "\n",
    "print(path)"
   ]
  },
  {
   "cell_type": "code",
   "execution_count": 102,
   "id": "89c4f96f",
   "metadata": {
    "ExecuteTime": {
     "end_time": "2024-03-06T17:15:37.641331Z",
     "start_time": "2024-03-06T17:15:37.567496Z"
    }
   },
   "outputs": [
    {
     "name": "stdout",
     "output_type": "stream",
     "text": [
      " ' \" \n"
     ]
    }
   ],
   "source": [
    "print(r\"\"\" ' \" \"\"\")"
   ]
  },
  {
   "cell_type": "markdown",
   "metadata": {},
   "source": [
    "#### range"
   ]
  },
  {
   "cell_type": "code",
   "execution_count": 103,
   "metadata": {
    "ExecuteTime": {
     "end_time": "2024-03-06T17:15:53.004676Z",
     "start_time": "2024-03-06T17:15:52.980088Z"
    }
   },
   "outputs": [
    {
     "data": {
      "text/plain": "range(0, 10)"
     },
     "execution_count": 103,
     "metadata": {},
     "output_type": "execute_result"
    }
   ],
   "source": [
    "range(10)"
   ]
  },
  {
   "cell_type": "code",
   "execution_count": 104,
   "metadata": {
    "ExecuteTime": {
     "end_time": "2024-03-06T17:16:19.252572Z",
     "start_time": "2024-03-06T17:16:19.235379Z"
    }
   },
   "outputs": [
    {
     "name": "stdout",
     "output_type": "stream",
     "text": [
      "range(5, 10)\n"
     ]
    }
   ],
   "source": [
    "print(range(5, 10))"
   ]
  },
  {
   "cell_type": "code",
   "execution_count": 107,
   "metadata": {
    "ExecuteTime": {
     "end_time": "2024-03-06T17:16:51.690665Z",
     "start_time": "2024-03-06T17:16:51.673182Z"
    }
   },
   "outputs": [
    {
     "data": {
      "text/plain": "[1, 2, 3, 4, 5, 6, 7, 8, 9]"
     },
     "execution_count": 107,
     "metadata": {},
     "output_type": "execute_result"
    }
   ],
   "source": [
    "list(range(1, 10))"
   ]
  },
  {
   "cell_type": "code",
   "execution_count": 109,
   "metadata": {
    "ExecuteTime": {
     "end_time": "2024-03-06T17:17:08.753390Z",
     "start_time": "2024-03-06T17:17:08.735786Z"
    }
   },
   "outputs": [
    {
     "data": {
      "text/plain": "[5, 7, 9, 11, 13]"
     },
     "execution_count": 109,
     "metadata": {},
     "output_type": "execute_result"
    }
   ],
   "source": [
    "list(range(5, 14, 2))"
   ]
  },
  {
   "cell_type": "markdown",
   "metadata": {},
   "source": [
    "#### Обзор коллекций"
   ]
  },
  {
   "cell_type": "markdown",
   "metadata": {},
   "source": [
    "##### list"
   ]
  },
  {
   "cell_type": "markdown",
   "metadata": {},
   "source": [
    "list - аналог массива в других ЯП. \n",
    "\n",
    "<br><br>\n",
    "<font size=\"5\" color=\"red\" face=\"Arial\"> __Важно:__ list/список не структура данных под названием список </font>"
   ]
  },
  {
   "cell_type": "code",
   "execution_count": 110,
   "metadata": {
    "ExecuteTime": {
     "end_time": "2024-03-06T17:36:23.570133Z",
     "start_time": "2024-03-06T17:36:23.552491Z"
    }
   },
   "outputs": [
    {
     "data": {
      "text/plain": "[1, 2, 3, 4]"
     },
     "execution_count": 110,
     "metadata": {},
     "output_type": "execute_result"
    }
   ],
   "source": [
    "b = [1, 2, 3, 4]\n",
    "b"
   ]
  },
  {
   "cell_type": "code",
   "execution_count": 111,
   "metadata": {
    "ExecuteTime": {
     "end_time": "2024-03-06T17:36:31.359053Z",
     "start_time": "2024-03-06T17:36:31.335346Z"
    }
   },
   "outputs": [
    {
     "data": {
      "text/plain": "['H', 'e', 'l', 'l', 'o', ' ', 'w', 'o', 'r', 'l', 'd']"
     },
     "execution_count": 111,
     "metadata": {},
     "output_type": "execute_result"
    }
   ],
   "source": [
    "a = list(\"Hello world\")\n",
    "a"
   ]
  },
  {
   "cell_type": "code",
   "execution_count": 112,
   "metadata": {
    "ExecuteTime": {
     "end_time": "2024-03-06T17:36:44.611925Z",
     "start_time": "2024-03-06T17:36:44.588824Z"
    }
   },
   "outputs": [
    {
     "data": {
      "text/plain": "([], [])"
     },
     "execution_count": 112,
     "metadata": {},
     "output_type": "execute_result"
    }
   ],
   "source": [
    "[], list()"
   ]
  },
  {
   "cell_type": "code",
   "execution_count": 113,
   "metadata": {
    "collapsed": false,
    "ExecuteTime": {
     "end_time": "2024-03-06T17:36:52.727503Z",
     "start_time": "2024-03-06T17:36:52.705164Z"
    }
   },
   "outputs": [
    {
     "data": {
      "text/plain": "['H', 'e', 'l', 'l', 'o', ' ', 'w', 'o', 'r', 'l', 'd']"
     },
     "execution_count": 113,
     "metadata": {},
     "output_type": "execute_result"
    }
   ],
   "source": [
    "a"
   ]
  },
  {
   "cell_type": "code",
   "execution_count": 116,
   "metadata": {
    "ExecuteTime": {
     "end_time": "2024-03-06T17:37:34.739993Z",
     "start_time": "2024-03-06T17:37:34.724512Z"
    }
   },
   "outputs": [
    {
     "data": {
      "text/plain": "['H', 'e', 'l', 1, 'o', ' ', 'w', 'o', 'r', 'l', 'd']"
     },
     "execution_count": 116,
     "metadata": {},
     "output_type": "execute_result"
    }
   ],
   "source": [
    "a[3] = 1\n",
    "a"
   ]
  },
  {
   "cell_type": "code",
   "execution_count": 114,
   "metadata": {
    "collapsed": false,
    "ExecuteTime": {
     "end_time": "2024-03-06T17:37:03.212188Z",
     "start_time": "2024-03-06T17:37:03.193956Z"
    }
   },
   "outputs": [
    {
     "data": {
      "text/plain": "'l'"
     },
     "execution_count": 114,
     "metadata": {},
     "output_type": "execute_result"
    }
   ],
   "source": [
    "a[2]"
   ]
  },
  {
   "cell_type": "code",
   "execution_count": 117,
   "metadata": {
    "ExecuteTime": {
     "end_time": "2024-03-06T17:37:38.048102Z",
     "start_time": "2024-03-06T17:37:38.021957Z"
    }
   },
   "outputs": [
    {
     "data": {
      "text/plain": "[1, 2, 'Hello world', 4]"
     },
     "execution_count": 117,
     "metadata": {},
     "output_type": "execute_result"
    }
   ],
   "source": [
    "b[2] = 'Hello world'\n",
    "b"
   ]
  },
  {
   "cell_type": "code",
   "execution_count": 118,
   "metadata": {
    "collapsed": false,
    "ExecuteTime": {
     "end_time": "2024-03-06T17:37:48.592241Z",
     "start_time": "2024-03-06T17:37:48.574420Z"
    }
   },
   "outputs": [
    {
     "data": {
      "text/plain": "[1, 2.0, 'qwert', [10, 10]]"
     },
     "execution_count": 118,
     "metadata": {},
     "output_type": "execute_result"
    }
   ],
   "source": [
    "[1, 2., \"qwert\", [10, 10]]"
   ]
  },
  {
   "cell_type": "code",
   "execution_count": 119,
   "metadata": {
    "ExecuteTime": {
     "end_time": "2024-03-06T17:37:58.968317Z",
     "start_time": "2024-03-06T17:37:58.947518Z"
    }
   },
   "outputs": [
    {
     "data": {
      "text/plain": "('Hello world', 1)"
     },
     "execution_count": 119,
     "metadata": {},
     "output_type": "execute_result"
    }
   ],
   "source": [
    "b[2], a[3]"
   ]
  },
  {
   "cell_type": "markdown",
   "metadata": {},
   "source": [
    "##### tuple"
   ]
  },
  {
   "cell_type": "markdown",
   "metadata": {},
   "source": [
    "\"Константный\" массив"
   ]
  },
  {
   "cell_type": "code",
   "execution_count": 120,
   "metadata": {
    "ExecuteTime": {
     "end_time": "2024-03-06T17:38:23.111663Z",
     "start_time": "2024-03-06T17:38:23.090032Z"
    }
   },
   "outputs": [
    {
     "data": {
      "text/plain": "(1, 2, 3, 4)"
     },
     "execution_count": 120,
     "metadata": {},
     "output_type": "execute_result"
    }
   ],
   "source": [
    "a = (1, 2, 3, 4)\n",
    "a"
   ]
  },
  {
   "cell_type": "code",
   "execution_count": 121,
   "metadata": {
    "ExecuteTime": {
     "end_time": "2024-03-06T17:38:31.570066Z",
     "start_time": "2024-03-06T17:38:31.543678Z"
    }
   },
   "outputs": [
    {
     "data": {
      "text/plain": "2"
     },
     "execution_count": 121,
     "metadata": {},
     "output_type": "execute_result"
    }
   ],
   "source": [
    "a[1]"
   ]
  },
  {
   "cell_type": "code",
   "execution_count": 122,
   "metadata": {
    "ExecuteTime": {
     "end_time": "2024-03-06T17:38:38.852208Z",
     "start_time": "2024-03-06T17:38:38.830761Z"
    }
   },
   "outputs": [
    {
     "ename": "TypeError",
     "evalue": "'tuple' object does not support item assignment",
     "output_type": "error",
     "traceback": [
      "\u001B[0;31m---------------------------------------------------------------------------\u001B[0m",
      "\u001B[0;31mTypeError\u001B[0m                                 Traceback (most recent call last)",
      "Cell \u001B[0;32mIn[122], line 1\u001B[0m\n\u001B[0;32m----> 1\u001B[0m \u001B[43ma\u001B[49m\u001B[43m[\u001B[49m\u001B[38;5;241;43m1\u001B[39;49m\u001B[43m]\u001B[49m \u001B[38;5;241m=\u001B[39m \u001B[38;5;241m1\u001B[39m\n",
      "\u001B[0;31mTypeError\u001B[0m: 'tuple' object does not support item assignment"
     ]
    }
   ],
   "source": [
    "a[1] = 1"
   ]
  },
  {
   "cell_type": "code",
   "execution_count": 123,
   "metadata": {
    "ExecuteTime": {
     "end_time": "2024-03-06T17:38:54.722235Z",
     "start_time": "2024-03-06T17:38:54.695811Z"
    }
   },
   "outputs": [
    {
     "data": {
      "text/plain": "(1, 2, [1, 2, 3])"
     },
     "execution_count": 123,
     "metadata": {},
     "output_type": "execute_result"
    }
   ],
   "source": [
    "b = tuple([1, 2, [1, 2, 3]])\n",
    "b"
   ]
  },
  {
   "cell_type": "code",
   "execution_count": 124,
   "metadata": {
    "ExecuteTime": {
     "end_time": "2024-03-06T17:39:16.425105Z",
     "start_time": "2024-03-06T17:39:16.407420Z"
    }
   },
   "outputs": [
    {
     "data": {
      "text/plain": "(1, 2, [0, 2, 3])"
     },
     "execution_count": 124,
     "metadata": {},
     "output_type": "execute_result"
    }
   ],
   "source": [
    "b[2][0] = 0\n",
    "b"
   ]
  },
  {
   "cell_type": "markdown",
   "metadata": {},
   "source": [
    "##### Множества"
   ]
  },
  {
   "cell_type": "markdown",
   "metadata": {},
   "source": [
    "Множество(set) - это неупорядоченная коллекция без повторяющихся элементов"
   ]
  },
  {
   "cell_type": "code",
   "execution_count": 134,
   "metadata": {
    "ExecuteTime": {
     "end_time": "2024-03-06T17:42:32.118860Z",
     "start_time": "2024-03-06T17:42:32.097659Z"
    }
   },
   "outputs": [
    {
     "data": {
      "text/plain": "{1, '1', 2, 3, 4}"
     },
     "execution_count": 134,
     "metadata": {},
     "output_type": "execute_result"
    }
   ],
   "source": [
    "a = {1, 2, '1', 3, 4, 4, 3, 2, 1}\n",
    "a"
   ]
  },
  {
   "cell_type": "code",
   "execution_count": 126,
   "outputs": [
    {
     "ename": "TypeError",
     "evalue": "'set' object is not subscriptable",
     "output_type": "error",
     "traceback": [
      "\u001B[0;31m---------------------------------------------------------------------------\u001B[0m",
      "\u001B[0;31mTypeError\u001B[0m                                 Traceback (most recent call last)",
      "Cell \u001B[0;32mIn[126], line 1\u001B[0m\n\u001B[0;32m----> 1\u001B[0m \u001B[43ma\u001B[49m\u001B[43m[\u001B[49m\u001B[38;5;241;43m1\u001B[39;49m\u001B[43m]\u001B[49m\n",
      "\u001B[0;31mTypeError\u001B[0m: 'set' object is not subscriptable"
     ]
    }
   ],
   "source": [
    "a[1]"
   ],
   "metadata": {
    "collapsed": false,
    "pycharm": {
     "name": "#%%\n"
    },
    "ExecuteTime": {
     "end_time": "2024-03-06T17:40:30.275425Z",
     "start_time": "2024-03-06T17:40:30.246721Z"
    }
   }
  },
  {
   "cell_type": "code",
   "execution_count": 127,
   "outputs": [
    {
     "data": {
      "text/plain": "(1, 2, 3, [1, 2])"
     },
     "execution_count": 127,
     "metadata": {},
     "output_type": "execute_result"
    }
   ],
   "source": [
    "(1, 2, 3, [1, 2])"
   ],
   "metadata": {
    "collapsed": false,
    "pycharm": {
     "name": "#%%\n"
    },
    "ExecuteTime": {
     "end_time": "2024-03-06T17:40:45.355948Z",
     "start_time": "2024-03-06T17:40:45.330516Z"
    }
   }
  },
  {
   "cell_type": "code",
   "execution_count": 129,
   "metadata": {
    "ExecuteTime": {
     "end_time": "2024-03-06T17:41:37.581611Z",
     "start_time": "2024-03-06T17:41:37.563198Z"
    }
   },
   "outputs": [
    {
     "data": {
      "text/plain": "{(1, 2, 3, (1, 2)), 1, 2, 3, 4, 5, 'Hello'}"
     },
     "execution_count": 129,
     "metadata": {},
     "output_type": "execute_result"
    }
   ],
   "source": [
    "b = {1, 2, 3, 4, 5, 'Hello', (1, 2, 3, (1, 2))}\n",
    "b"
   ]
  },
  {
   "cell_type": "code",
   "execution_count": 130,
   "outputs": [
    {
     "ename": "TypeError",
     "evalue": "'str' object does not support item assignment",
     "output_type": "error",
     "traceback": [
      "\u001B[0;31m---------------------------------------------------------------------------\u001B[0m",
      "\u001B[0;31mTypeError\u001B[0m                                 Traceback (most recent call last)",
      "Cell \u001B[0;32mIn[130], line 2\u001B[0m\n\u001B[1;32m      1\u001B[0m a \u001B[38;5;241m=\u001B[39m \u001B[38;5;124m'\u001B[39m\u001B[38;5;124mHello\u001B[39m\u001B[38;5;124m'\u001B[39m\n\u001B[0;32m----> 2\u001B[0m \u001B[43ma\u001B[49m\u001B[43m[\u001B[49m\u001B[38;5;241;43m2\u001B[39;49m\u001B[43m]\u001B[49m \u001B[38;5;241m=\u001B[39m \u001B[38;5;124m'\u001B[39m\u001B[38;5;124mp\u001B[39m\u001B[38;5;124m'\u001B[39m\n",
      "\u001B[0;31mTypeError\u001B[0m: 'str' object does not support item assignment"
     ]
    }
   ],
   "source": [
    "a = 'Hello'\n",
    "a[2] = 'p'"
   ],
   "metadata": {
    "collapsed": false,
    "pycharm": {
     "name": "#%%\n"
    },
    "ExecuteTime": {
     "end_time": "2024-03-06T17:41:41.605549Z",
     "start_time": "2024-03-06T17:41:41.550580Z"
    }
   }
  },
  {
   "cell_type": "code",
   "execution_count": 131,
   "metadata": {
    "ExecuteTime": {
     "end_time": "2024-03-06T17:41:59.254301Z",
     "start_time": "2024-03-06T17:41:59.226360Z"
    }
   },
   "outputs": [
    {
     "data": {
      "text/plain": "1823044170450498407"
     },
     "execution_count": 131,
     "metadata": {},
     "output_type": "execute_result"
    }
   ],
   "source": [
    "hash('Hello world 2')"
   ]
  },
  {
   "cell_type": "code",
   "execution_count": 132,
   "metadata": {
    "collapsed": false,
    "ExecuteTime": {
     "end_time": "2024-03-06T17:42:09.510672Z",
     "start_time": "2024-03-06T17:42:09.496418Z"
    }
   },
   "outputs": [
    {
     "ename": "TypeError",
     "evalue": "unhashable type: 'list'",
     "output_type": "error",
     "traceback": [
      "\u001B[0;31m---------------------------------------------------------------------------\u001B[0m",
      "\u001B[0;31mTypeError\u001B[0m                                 Traceback (most recent call last)",
      "Cell \u001B[0;32mIn[132], line 1\u001B[0m\n\u001B[0;32m----> 1\u001B[0m \u001B[38;5;28;43mhash\u001B[39;49m\u001B[43m(\u001B[49m\u001B[43m[\u001B[49m\u001B[38;5;241;43m1\u001B[39;49m\u001B[43m,\u001B[49m\u001B[43m \u001B[49m\u001B[43m]\u001B[49m\u001B[43m)\u001B[49m\n",
      "\u001B[0;31mTypeError\u001B[0m: unhashable type: 'list'"
     ]
    }
   ],
   "source": [
    "hash([1, ])"
   ]
  },
  {
   "cell_type": "code",
   "execution_count": 135,
   "metadata": {
    "collapsed": false,
    "ExecuteTime": {
     "end_time": "2024-03-06T17:42:34.290019Z",
     "start_time": "2024-03-06T17:42:34.270668Z"
    }
   },
   "outputs": [
    {
     "data": {
      "text/plain": "{1, '1', 2, 3, 4}"
     },
     "execution_count": 135,
     "metadata": {},
     "output_type": "execute_result"
    }
   ],
   "source": [
    "a"
   ]
  },
  {
   "cell_type": "code",
   "execution_count": 137,
   "metadata": {
    "collapsed": false,
    "ExecuteTime": {
     "end_time": "2024-03-06T17:42:53.786333Z",
     "start_time": "2024-03-06T17:42:53.768737Z"
    }
   },
   "outputs": [
    {
     "data": {
      "text/plain": "True"
     },
     "execution_count": 137,
     "metadata": {},
     "output_type": "execute_result"
    }
   ],
   "source": [
    "2 in a"
   ]
  },
  {
   "cell_type": "code",
   "execution_count": 138,
   "outputs": [
    {
     "data": {
      "text/plain": "set"
     },
     "execution_count": 138,
     "metadata": {},
     "output_type": "execute_result"
    }
   ],
   "source": [
    "type(set())"
   ],
   "metadata": {
    "collapsed": false,
    "pycharm": {
     "name": "#%%\n"
    },
    "ExecuteTime": {
     "end_time": "2024-03-06T17:43:01.780723Z",
     "start_time": "2024-03-06T17:43:01.760188Z"
    }
   }
  },
  {
   "cell_type": "code",
   "execution_count": 144,
   "outputs": [
    {
     "data": {
      "text/plain": "set"
     },
     "execution_count": 144,
     "metadata": {},
     "output_type": "execute_result"
    }
   ],
   "source": [
    "type({1, })"
   ],
   "metadata": {
    "collapsed": false,
    "pycharm": {
     "name": "#%%\n"
    },
    "ExecuteTime": {
     "end_time": "2024-03-06T17:43:47.050484Z",
     "start_time": "2024-03-06T17:43:47.001543Z"
    }
   }
  },
  {
   "cell_type": "code",
   "execution_count": null,
   "metadata": {},
   "outputs": [],
   "source": [
    "type(set())"
   ]
  },
  {
   "cell_type": "code",
   "execution_count": 316,
   "outputs": [
    {
     "data": {
      "text/plain": "{1, 2, 3}"
     },
     "execution_count": 316,
     "metadata": {},
     "output_type": "execute_result"
    }
   ],
   "source": [
    "set([1, 2, 3, 3, 3])"
   ],
   "metadata": {
    "collapsed": false,
    "ExecuteTime": {
     "end_time": "2024-03-06T18:41:16.227453Z",
     "start_time": "2024-03-06T18:41:16.212753Z"
    }
   }
  },
  {
   "cell_type": "markdown",
   "metadata": {},
   "source": [
    "##### Словари"
   ]
  },
  {
   "cell_type": "code",
   "execution_count": 145,
   "metadata": {
    "ExecuteTime": {
     "end_time": "2024-03-06T17:44:12.776159Z",
     "start_time": "2024-03-06T17:44:12.751353Z"
    }
   },
   "outputs": [
    {
     "data": {
      "text/plain": "{'One': 1, 'Two': 2, 'Three': 3}"
     },
     "execution_count": 145,
     "metadata": {},
     "output_type": "execute_result"
    }
   ],
   "source": [
    "a = {'One': 1, 'Two': 2, 'Three': 3}\n",
    "a"
   ]
  },
  {
   "cell_type": "code",
   "execution_count": 146,
   "metadata": {
    "ExecuteTime": {
     "end_time": "2024-03-06T17:44:31.893021Z",
     "start_time": "2024-03-06T17:44:31.870387Z"
    }
   },
   "outputs": [
    {
     "data": {
      "text/plain": "1"
     },
     "execution_count": 146,
     "metadata": {},
     "output_type": "execute_result"
    }
   ],
   "source": [
    "a['One']"
   ]
  },
  {
   "cell_type": "code",
   "execution_count": 147,
   "metadata": {
    "ExecuteTime": {
     "end_time": "2024-03-06T17:44:42.689682Z",
     "start_time": "2024-03-06T17:44:42.668577Z"
    }
   },
   "outputs": [
    {
     "data": {
      "text/plain": "{'One': 1, 'Two': 2, 'Three': 3, 'Four': [4, 'IV']}"
     },
     "execution_count": 147,
     "metadata": {},
     "output_type": "execute_result"
    }
   ],
   "source": [
    "a['Four'] = [4, 'IV']\n",
    "a"
   ]
  },
  {
   "cell_type": "code",
   "execution_count": 148,
   "metadata": {
    "ExecuteTime": {
     "end_time": "2024-03-06T17:44:56.232508Z",
     "start_time": "2024-03-06T17:44:56.214881Z"
    }
   },
   "outputs": [
    {
     "ename": "TypeError",
     "evalue": "unhashable type: 'set'",
     "output_type": "error",
     "traceback": [
      "\u001B[0;31m---------------------------------------------------------------------------\u001B[0m",
      "\u001B[0;31mTypeError\u001B[0m                                 Traceback (most recent call last)",
      "Cell \u001B[0;32mIn[148], line 1\u001B[0m\n\u001B[0;32m----> 1\u001B[0m \u001B[43ma\u001B[49m\u001B[43m[\u001B[49m\u001B[43m{\u001B[49m\u001B[38;5;241;43m1\u001B[39;49m\u001B[43m,\u001B[49m\u001B[43m \u001B[49m\u001B[38;5;241;43m2\u001B[39;49m\u001B[43m,\u001B[49m\u001B[43m \u001B[49m\u001B[38;5;241;43m3\u001B[39;49m\u001B[43m}\u001B[49m\u001B[43m]\u001B[49m \u001B[38;5;241m=\u001B[39m \u001B[38;5;241m123\u001B[39m\n",
      "\u001B[0;31mTypeError\u001B[0m: unhashable type: 'set'"
     ]
    }
   ],
   "source": [
    "a[{1, 2, 3}] = 123"
   ]
  },
  {
   "cell_type": "code",
   "execution_count": 149,
   "metadata": {
    "ExecuteTime": {
     "end_time": "2024-03-06T17:45:02.217621Z",
     "start_time": "2024-03-06T17:45:02.194559Z"
    }
   },
   "outputs": [
    {
     "data": {
      "text/plain": "{'One': 1, 'Two': 2, 'Three': 3, 'Four': [4, 'IV'], (1, 2, 3): 123}"
     },
     "execution_count": 149,
     "metadata": {},
     "output_type": "execute_result"
    }
   ],
   "source": [
    "a[(1, 2, 3)] = 123\n",
    "a"
   ]
  },
  {
   "cell_type": "code",
   "execution_count": 150,
   "metadata": {
    "ExecuteTime": {
     "end_time": "2024-03-06T17:45:05.231838Z",
     "start_time": "2024-03-06T17:45:05.212645Z"
    }
   },
   "outputs": [
    {
     "ename": "TypeError",
     "evalue": "unhashable type: 'set'",
     "output_type": "error",
     "traceback": [
      "\u001B[0;31m---------------------------------------------------------------------------\u001B[0m",
      "\u001B[0;31mTypeError\u001B[0m                                 Traceback (most recent call last)",
      "Cell \u001B[0;32mIn[150], line 1\u001B[0m\n\u001B[0;32m----> 1\u001B[0m \u001B[43ma\u001B[49m\u001B[43m[\u001B[49m\u001B[43m{\u001B[49m\u001B[38;5;241;43m1\u001B[39;49m\u001B[43m,\u001B[49m\u001B[43m \u001B[49m\u001B[38;5;241;43m2\u001B[39;49m\u001B[43m,\u001B[49m\u001B[43m \u001B[49m\u001B[38;5;241;43m3\u001B[39;49m\u001B[43m}\u001B[49m\u001B[43m]\u001B[49m \u001B[38;5;241m=\u001B[39m \u001B[38;5;241m123\u001B[39m\n",
      "\u001B[0;31mTypeError\u001B[0m: unhashable type: 'set'"
     ]
    }
   ],
   "source": [
    "a[{1, 2, 3}] = 123"
   ]
  },
  {
   "cell_type": "code",
   "execution_count": 151,
   "metadata": {
    "ExecuteTime": {
     "end_time": "2024-03-06T17:45:13.074340Z",
     "start_time": "2024-03-06T17:45:13.055936Z"
    }
   },
   "outputs": [
    {
     "data": {
      "text/plain": "{'One': 1,\n 'Two': 2,\n 'Three': 3,\n 'Four': [4, 'IV'],\n (1, 2, 3): 123,\n frozenset({1, 2}): 12}"
     },
     "execution_count": 151,
     "metadata": {},
     "output_type": "execute_result"
    }
   ],
   "source": [
    "a[frozenset([1, 2])] = 12\n",
    "a"
   ]
  },
  {
   "cell_type": "markdown",
   "metadata": {},
   "source": [
    "#### Общие подходы "
   ]
  },
  {
   "cell_type": "code",
   "execution_count": 317,
   "metadata": {
    "ExecuteTime": {
     "end_time": "2024-03-09T05:56:59.666457Z",
     "start_time": "2024-03-09T05:56:59.584522Z"
    }
   },
   "outputs": [],
   "source": [
    "my_list = [1, 2, 3, 4]\n",
    "my_tuple = (1, 2, 3, 4)\n",
    "my_set = {1, 2, 3, 3}\n",
    "\n",
    "my_dict = {'One': 1, 'Two': 2, 'Three': 3}"
   ]
  },
  {
   "cell_type": "markdown",
   "metadata": {},
   "source": [
    "##### Вывод коллекции"
   ]
  },
  {
   "cell_type": "code",
   "execution_count": 318,
   "metadata": {
    "ExecuteTime": {
     "end_time": "2024-03-09T05:57:00.887518Z",
     "start_time": "2024-03-09T05:57:00.798166Z"
    }
   },
   "outputs": [
    {
     "name": "stdout",
     "output_type": "stream",
     "text": [
      "[1, 2, 3, 4]\n",
      "(1, 2, 3, 4)\n",
      "{1, 2, 3}\n",
      "{'One': 1, 'Two': 2, 'Three': 3}\n"
     ]
    }
   ],
   "source": [
    "print(my_list)\n",
    "print(my_tuple)\n",
    "print(my_set)\n",
    "print(my_dict)"
   ]
  },
  {
   "cell_type": "code",
   "execution_count": 319,
   "metadata": {
    "collapsed": false,
    "ExecuteTime": {
     "end_time": "2024-03-09T05:57:01.645506Z",
     "start_time": "2024-03-09T05:57:01.564477Z"
    }
   },
   "outputs": [],
   "source": [
    "my_dict['Two'] = [2, 'II']"
   ]
  },
  {
   "cell_type": "markdown",
   "metadata": {},
   "source": [
    "##### Количество элементов"
   ]
  },
  {
   "cell_type": "code",
   "execution_count": 320,
   "metadata": {
    "ExecuteTime": {
     "end_time": "2024-03-09T05:57:02.643649Z",
     "start_time": "2024-03-09T05:57:02.547111Z"
    }
   },
   "outputs": [
    {
     "data": {
      "text/plain": "(4, 4, 3, 3)"
     },
     "execution_count": 320,
     "metadata": {},
     "output_type": "execute_result"
    }
   ],
   "source": [
    "len(my_list), len(my_tuple), len(my_set), len(my_dict)"
   ]
  },
  {
   "cell_type": "markdown",
   "metadata": {},
   "source": [
    "##### Наличие элемента в коллекции"
   ]
  },
  {
   "cell_type": "code",
   "execution_count": 321,
   "metadata": {
    "ExecuteTime": {
     "end_time": "2024-03-09T05:57:03.367033Z",
     "start_time": "2024-03-09T05:57:03.273437Z"
    }
   },
   "outputs": [
    {
     "name": "stdout",
     "output_type": "stream",
     "text": [
      "True False\n",
      "True False\n",
      "True False\n",
      "True False\n"
     ]
    }
   ],
   "source": [
    "print(1 in my_list, 5 in my_list)\n",
    "print(1 in my_tuple, 5 in my_tuple)\n",
    "print(1 in my_set, 5 in my_set)\n",
    "print('One' in my_dict, 3 in my_dict)"
   ]
  },
  {
   "cell_type": "code",
   "execution_count": 322,
   "metadata": {
    "ExecuteTime": {
     "end_time": "2024-03-09T05:57:03.687400Z",
     "start_time": "2024-03-09T05:57:03.604139Z"
    }
   },
   "outputs": [
    {
     "data": {
      "text/plain": "True"
     },
     "execution_count": 322,
     "metadata": {},
     "output_type": "execute_result"
    }
   ],
   "source": [
    "'el' in 'Hello'"
   ]
  },
  {
   "cell_type": "markdown",
   "metadata": {},
   "source": [
    "##### Обход элементов"
   ]
  },
  {
   "cell_type": "code",
   "execution_count": 323,
   "metadata": {
    "ExecuteTime": {
     "end_time": "2024-03-09T05:57:04.228755Z",
     "start_time": "2024-03-09T05:57:04.181530Z"
    }
   },
   "outputs": [
    {
     "name": "stdout",
     "output_type": "stream",
     "text": [
      "1\n",
      "2\n",
      "3\n",
      "4\n"
     ]
    }
   ],
   "source": [
    "for i in my_list:\n",
    "    print(i)"
   ]
  },
  {
   "cell_type": "code",
   "execution_count": 324,
   "metadata": {
    "ExecuteTime": {
     "end_time": "2024-03-09T05:57:04.535030Z",
     "start_time": "2024-03-09T05:57:04.485055Z"
    }
   },
   "outputs": [
    {
     "name": "stdout",
     "output_type": "stream",
     "text": [
      "1\n",
      "2\n",
      "3\n"
     ]
    }
   ],
   "source": [
    "for i in my_set:\n",
    "    print(i)"
   ]
  },
  {
   "cell_type": "code",
   "execution_count": 325,
   "metadata": {
    "ExecuteTime": {
     "end_time": "2024-03-09T05:57:05.211862Z",
     "start_time": "2024-03-09T05:57:05.167461Z"
    }
   },
   "outputs": [
    {
     "data": {
      "text/plain": "{'One': 1, 'Two': [2, 'II'], 'Three': 3}"
     },
     "execution_count": 325,
     "metadata": {},
     "output_type": "execute_result"
    }
   ],
   "source": [
    "my_dict"
   ]
  },
  {
   "cell_type": "code",
   "execution_count": 326,
   "metadata": {
    "collapsed": false,
    "ExecuteTime": {
     "end_time": "2024-03-09T05:57:05.452409Z",
     "start_time": "2024-03-09T05:57:05.402663Z"
    }
   },
   "outputs": [],
   "source": [
    "my_dict['Four'] = 4"
   ]
  },
  {
   "cell_type": "code",
   "execution_count": 327,
   "metadata": {
    "ExecuteTime": {
     "end_time": "2024-03-09T05:57:05.671922Z",
     "start_time": "2024-03-09T05:57:05.595984Z"
    }
   },
   "outputs": [
    {
     "name": "stdout",
     "output_type": "stream",
     "text": [
      "One\n",
      "Two\n",
      "Three\n",
      "Four\n",
      "1\n",
      "[2, 'II']\n",
      "3\n",
      "4\n",
      "('One', 1)\n",
      "('Two', [2, 'II'])\n",
      "('Three', 3)\n",
      "('Four', 4)\n"
     ]
    }
   ],
   "source": [
    "for i in my_dict:\n",
    "    print(i)\n",
    "    \n",
    "for i in my_dict.values():\n",
    "    print(i)\n",
    "\n",
    "for i in my_dict.items():\n",
    "    print(i)"
   ]
  },
  {
   "cell_type": "markdown",
   "metadata": {},
   "source": [
    "##### Агрегирующие функции"
   ]
  },
  {
   "cell_type": "code",
   "execution_count": 328,
   "outputs": [
    {
     "data": {
      "text/plain": "[1, 2, 3, 4]"
     },
     "execution_count": 328,
     "metadata": {},
     "output_type": "execute_result"
    }
   ],
   "source": [
    "my_list"
   ],
   "metadata": {
    "collapsed": false,
    "ExecuteTime": {
     "end_time": "2024-03-09T05:57:06.225769Z",
     "start_time": "2024-03-09T05:57:06.183622Z"
    }
   }
  },
  {
   "cell_type": "code",
   "execution_count": 329,
   "metadata": {
    "ExecuteTime": {
     "end_time": "2024-03-09T05:57:06.496233Z",
     "start_time": "2024-03-09T05:57:06.452900Z"
    }
   },
   "outputs": [
    {
     "data": {
      "text/plain": "4"
     },
     "execution_count": 329,
     "metadata": {},
     "output_type": "execute_result"
    }
   ],
   "source": [
    "max(my_list)"
   ]
  },
  {
   "cell_type": "code",
   "execution_count": 330,
   "metadata": {
    "ExecuteTime": {
     "end_time": "2024-03-09T05:57:06.676679Z",
     "start_time": "2024-03-09T05:57:06.631676Z"
    }
   },
   "outputs": [
    {
     "data": {
      "text/plain": "1"
     },
     "execution_count": 330,
     "metadata": {},
     "output_type": "execute_result"
    }
   ],
   "source": [
    "min(my_list)"
   ]
  },
  {
   "cell_type": "code",
   "execution_count": 331,
   "metadata": {
    "collapsed": false,
    "ExecuteTime": {
     "end_time": "2024-03-09T05:57:06.934336Z",
     "start_time": "2024-03-09T05:57:06.884829Z"
    }
   },
   "outputs": [],
   "source": [
    "my_list[3] = 3"
   ]
  },
  {
   "cell_type": "code",
   "execution_count": 332,
   "outputs": [
    {
     "data": {
      "text/plain": "[1, 2, 3, 3]"
     },
     "execution_count": 332,
     "metadata": {},
     "output_type": "execute_result"
    }
   ],
   "source": [
    "my_list"
   ],
   "metadata": {
    "collapsed": false,
    "pycharm": {
     "name": "#%%\n"
    },
    "ExecuteTime": {
     "end_time": "2024-03-09T05:57:07.122865Z",
     "start_time": "2024-03-09T05:57:07.082141Z"
    }
   }
  },
  {
   "cell_type": "code",
   "execution_count": 333,
   "outputs": [
    {
     "data": {
      "text/plain": "{'One': 1, 'Two': [2, 'II'], 'Three': 3, 'Four': 4}"
     },
     "execution_count": 333,
     "metadata": {},
     "output_type": "execute_result"
    }
   ],
   "source": [
    "my_dict"
   ],
   "metadata": {
    "collapsed": false,
    "ExecuteTime": {
     "end_time": "2024-03-09T05:57:07.802782Z",
     "start_time": "2024-03-09T05:57:07.720285Z"
    }
   }
  },
  {
   "cell_type": "code",
   "execution_count": 334,
   "metadata": {
    "ExecuteTime": {
     "end_time": "2024-03-09T05:57:08.275744Z",
     "start_time": "2024-03-09T05:57:08.010150Z"
    }
   },
   "outputs": [
    {
     "ename": "TypeError",
     "evalue": "unsupported operand type(s) for +: 'int' and 'str'",
     "output_type": "error",
     "traceback": [
      "\u001B[0;31m---------------------------------------------------------------------------\u001B[0m",
      "\u001B[0;31mTypeError\u001B[0m                                 Traceback (most recent call last)",
      "Cell \u001B[0;32mIn[334], line 1\u001B[0m\n\u001B[0;32m----> 1\u001B[0m \u001B[38;5;28;43msum\u001B[39;49m\u001B[43m(\u001B[49m\u001B[43mmy_dict\u001B[49m\u001B[43m)\u001B[49m\n",
      "\u001B[0;31mTypeError\u001B[0m: unsupported operand type(s) for +: 'int' and 'str'"
     ]
    }
   ],
   "source": [
    "sum(my_dict)"
   ]
  },
  {
   "cell_type": "markdown",
   "metadata": {},
   "source": [
    "#### Методы общие для части коллекций"
   ]
  },
  {
   "cell_type": "markdown",
   "metadata": {},
   "source": [
    "\n",
    "| Коллекция | .count() | .index() | .copy() | .clear() |\n",
    "|-----------|----------|----------|---------|----------|\n",
    "| list      |    +     |    +     |    +    |    +     |\n",
    "| tuple     |    +     |    +     |    -    |    -     |\n",
    "| string    |    +     |    +     |    -    |    -     |\n",
    "| set       |    -     |    -     |    +    |    +     |\n",
    "|  dict     |    -     |    -     |    +    |    +     |\n"
   ]
  },
  {
   "cell_type": "code",
   "execution_count": 335,
   "metadata": {
    "ExecuteTime": {
     "end_time": "2024-03-09T05:57:09.248011Z",
     "start_time": "2024-03-09T05:57:09.149468Z"
    }
   },
   "outputs": [],
   "source": [
    "my_list = [1, 2, 3, 4, 1, 2, 3, 5, 3]\n",
    "my_tuple = (1, 2, 3, 4)\n",
    "my_set = {1, 2, 3}\n",
    "my_dict = {'One': 1, 'Two': 2, 'Three': 3}"
   ]
  },
  {
   "cell_type": "code",
   "execution_count": 336,
   "metadata": {
    "collapsed": false,
    "ExecuteTime": {
     "end_time": "2024-03-09T05:57:09.680178Z",
     "start_time": "2024-03-09T05:57:09.595184Z"
    }
   },
   "outputs": [
    {
     "data": {
      "text/plain": "[1, 2, 3, 4, 1, 2, 3, 5, 3]"
     },
     "execution_count": 336,
     "metadata": {},
     "output_type": "execute_result"
    }
   ],
   "source": [
    "my_list"
   ]
  },
  {
   "cell_type": "code",
   "execution_count": 337,
   "metadata": {
    "ExecuteTime": {
     "end_time": "2024-03-09T05:57:10.119796Z",
     "start_time": "2024-03-09T05:57:10.038609Z"
    }
   },
   "outputs": [
    {
     "data": {
      "text/plain": "3"
     },
     "execution_count": 337,
     "metadata": {},
     "output_type": "execute_result"
    }
   ],
   "source": [
    "my_list.count(3)"
   ]
  },
  {
   "cell_type": "code",
   "execution_count": 338,
   "metadata": {
    "ExecuteTime": {
     "end_time": "2024-03-09T05:57:10.597169Z",
     "start_time": "2024-03-09T05:57:10.493058Z"
    }
   },
   "outputs": [
    {
     "data": {
      "text/plain": "3"
     },
     "execution_count": 338,
     "metadata": {},
     "output_type": "execute_result"
    }
   ],
   "source": [
    "my_list.index(4)"
   ]
  },
  {
   "cell_type": "code",
   "execution_count": 196,
   "metadata": {
    "ExecuteTime": {
     "end_time": "2024-03-06T17:54:19.191577Z",
     "start_time": "2024-03-06T17:54:19.171737Z"
    }
   },
   "outputs": [
    {
     "data": {
      "text/plain": "([1, 2, 3, 4, 1, 2, 3, 5, 3], [1, 2, 3, 4, 1, 2, 3, 5, 3])"
     },
     "execution_count": 196,
     "metadata": {},
     "output_type": "execute_result"
    }
   ],
   "source": [
    "my_new_list = my_list.copy()\n",
    "my_new_old_list = my_list\n",
    "my_new_list, my_new_old_list"
   ]
  },
  {
   "cell_type": "code",
   "execution_count": 197,
   "metadata": {
    "collapsed": false,
    "ExecuteTime": {
     "end_time": "2024-03-06T17:54:58.031270Z",
     "start_time": "2024-03-06T17:54:57.994459Z"
    }
   },
   "outputs": [
    {
     "data": {
      "text/plain": "([1, 2, 3, 4, 1, 2, 3, 5, 3], [0, 2, 3, 4, 1, 2, 3, 5, 3])"
     },
     "execution_count": 197,
     "metadata": {},
     "output_type": "execute_result"
    }
   ],
   "source": [
    "my_list[0] = 0\n",
    "my_new_list, my_new_old_list"
   ]
  },
  {
   "cell_type": "code",
   "execution_count": 199,
   "metadata": {
    "collapsed": false,
    "ExecuteTime": {
     "end_time": "2024-03-06T17:55:33.274851Z",
     "start_time": "2024-03-06T17:55:33.232247Z"
    }
   },
   "outputs": [],
   "source": [
    "my_list[0] = 1"
   ]
  },
  {
   "cell_type": "code",
   "execution_count": 200,
   "metadata": {
    "collapsed": false,
    "ExecuteTime": {
     "end_time": "2024-03-06T17:55:33.618519Z",
     "start_time": "2024-03-06T17:55:33.567656Z"
    }
   },
   "outputs": [
    {
     "data": {
      "text/plain": "[1, 2, 3, 4, 1, 2, 3, 5, 3]"
     },
     "execution_count": 200,
     "metadata": {},
     "output_type": "execute_result"
    }
   ],
   "source": [
    "my_list"
   ]
  },
  {
   "cell_type": "code",
   "execution_count": 201,
   "metadata": {
    "collapsed": false,
    "ExecuteTime": {
     "end_time": "2024-03-06T17:55:35.261936Z",
     "start_time": "2024-03-06T17:55:35.215426Z"
    }
   },
   "outputs": [
    {
     "data": {
      "text/plain": "[1, 2, 3, 4, 1, 2, 3, 5, 3]"
     },
     "execution_count": 201,
     "metadata": {},
     "output_type": "execute_result"
    }
   ],
   "source": [
    "my_new_list"
   ]
  },
  {
   "cell_type": "code",
   "execution_count": 202,
   "metadata": {
    "ExecuteTime": {
     "end_time": "2024-03-06T17:55:45.099894Z",
     "start_time": "2024-03-06T17:55:45.048826Z"
    }
   },
   "outputs": [
    {
     "data": {
      "text/plain": "(True, False)"
     },
     "execution_count": 202,
     "metadata": {},
     "output_type": "execute_result"
    }
   ],
   "source": [
    "my_new_list == my_list, my_new_list is my_list"
   ]
  },
  {
   "cell_type": "code",
   "execution_count": 203,
   "id": "12389281",
   "metadata": {
    "ExecuteTime": {
     "end_time": "2024-03-06T17:56:24.504259Z",
     "start_time": "2024-03-06T17:56:24.480731Z"
    }
   },
   "outputs": [
    {
     "data": {
      "text/plain": "True"
     },
     "execution_count": 203,
     "metadata": {},
     "output_type": "execute_result"
    }
   ],
   "source": [
    "my_new_old_list is my_list"
   ]
  },
  {
   "cell_type": "code",
   "execution_count": 204,
   "metadata": {
    "collapsed": false,
    "ExecuteTime": {
     "end_time": "2024-03-06T17:56:39.649698Z",
     "start_time": "2024-03-06T17:56:39.628085Z"
    }
   },
   "outputs": [
    {
     "data": {
      "text/plain": "([1, 2, 3, 4, 1, 2, 3, 5, 3], [1, 2, 3, 4, 1, 2, 3, 5, 3])"
     },
     "execution_count": 204,
     "metadata": {},
     "output_type": "execute_result"
    }
   ],
   "source": [
    "my_new_list, my_new_old_list"
   ]
  },
  {
   "cell_type": "code",
   "execution_count": 205,
   "metadata": {
    "ExecuteTime": {
     "end_time": "2024-03-06T17:56:42.644258Z",
     "start_time": "2024-03-06T17:56:42.620296Z"
    }
   },
   "outputs": [
    {
     "data": {
      "text/plain": "[1, 2, 3, [4, 5, 6]]"
     },
     "execution_count": 205,
     "metadata": {},
     "output_type": "execute_result"
    }
   ],
   "source": [
    "from copy import deepcopy\n",
    "my_list = [1, 2, 3, [4, 5, 6]]\n",
    "my_new_list = my_list.copy()\n",
    "\n",
    "my_list"
   ]
  },
  {
   "cell_type": "code",
   "execution_count": 206,
   "metadata": {
    "ExecuteTime": {
     "end_time": "2024-03-06T17:57:04.899189Z",
     "start_time": "2024-03-06T17:57:04.872472Z"
    }
   },
   "outputs": [
    {
     "data": {
      "text/plain": "[1, 2, 3, [4, 5, 6]]"
     },
     "execution_count": 206,
     "metadata": {},
     "output_type": "execute_result"
    }
   ],
   "source": [
    "my_new_list"
   ]
  },
  {
   "cell_type": "code",
   "execution_count": 207,
   "metadata": {
    "ExecuteTime": {
     "end_time": "2024-03-06T17:57:19.717091Z",
     "start_time": "2024-03-06T17:57:19.699042Z"
    }
   },
   "outputs": [
    {
     "data": {
      "text/plain": "[11, 2, 3, [10, 5, 6]]"
     },
     "execution_count": 207,
     "metadata": {},
     "output_type": "execute_result"
    }
   ],
   "source": [
    "my_list[3][0] = 10\n",
    "my_list[0] = 11\n",
    "my_list"
   ]
  },
  {
   "cell_type": "code",
   "execution_count": 208,
   "metadata": {
    "ExecuteTime": {
     "end_time": "2024-03-06T17:57:23.679758Z",
     "start_time": "2024-03-06T17:57:23.659448Z"
    }
   },
   "outputs": [
    {
     "data": {
      "text/plain": "[1, 2, 3, [10, 5, 6]]"
     },
     "execution_count": 208,
     "metadata": {},
     "output_type": "execute_result"
    }
   ],
   "source": [
    "my_new_list"
   ]
  },
  {
   "cell_type": "markdown",
   "metadata": {},
   "source": [
    "#### Методы работы со множествами"
   ]
  },
  {
   "cell_type": "code",
   "execution_count": 209,
   "metadata": {
    "ExecuteTime": {
     "end_time": "2024-03-06T17:59:03.841556Z",
     "start_time": "2024-03-06T17:59:03.826656Z"
    }
   },
   "outputs": [
    {
     "data": {
      "text/plain": "({1, 2, 3}, {3, 4})"
     },
     "execution_count": 209,
     "metadata": {},
     "output_type": "execute_result"
    }
   ],
   "source": [
    "A = {1, 2, 3}\n",
    "B = {3, 4, 3}\n",
    "\n",
    "A, B"
   ]
  },
  {
   "cell_type": "markdown",
   "metadata": {
    "collapsed": false
   },
   "source": [
    "![title](image/AorB.png)"
   ]
  },
  {
   "cell_type": "code",
   "execution_count": 210,
   "metadata": {
    "ExecuteTime": {
     "end_time": "2024-03-06T17:59:14.813268Z",
     "start_time": "2024-03-06T17:59:14.790686Z"
    }
   },
   "outputs": [
    {
     "data": {
      "text/plain": "({1, 2, 3, 4}, {1, 2, 3, 4})"
     },
     "execution_count": 210,
     "metadata": {},
     "output_type": "execute_result"
    }
   ],
   "source": [
    "A | B, A.union(B)"
   ]
  },
  {
   "cell_type": "markdown",
   "metadata": {
    "collapsed": false
   },
   "source": [
    "![title](image/AandB.png)"
   ]
  },
  {
   "cell_type": "code",
   "execution_count": 211,
   "metadata": {
    "ExecuteTime": {
     "end_time": "2024-03-06T17:59:54.907576Z",
     "start_time": "2024-03-06T17:59:54.894010Z"
    }
   },
   "outputs": [
    {
     "data": {
      "text/plain": "({3}, {3})"
     },
     "execution_count": 211,
     "metadata": {},
     "output_type": "execute_result"
    }
   ],
   "source": [
    "A & B, A.intersection(B)"
   ]
  },
  {
   "cell_type": "markdown",
   "metadata": {
    "collapsed": false
   },
   "source": [
    "![title](image/A-B.png)"
   ]
  },
  {
   "cell_type": "code",
   "execution_count": 212,
   "metadata": {
    "ExecuteTime": {
     "end_time": "2024-03-06T18:00:03.476591Z",
     "start_time": "2024-03-06T18:00:03.458664Z"
    }
   },
   "outputs": [
    {
     "data": {
      "text/plain": "({1, 2}, {1, 2})"
     },
     "execution_count": 212,
     "metadata": {},
     "output_type": "execute_result"
    }
   ],
   "source": [
    "A - B, A.difference(B)"
   ]
  },
  {
   "cell_type": "markdown",
   "metadata": {
    "collapsed": false
   },
   "source": [
    "![title](image/Asymmetric_differenceB.png)"
   ]
  },
  {
   "cell_type": "code",
   "execution_count": 213,
   "metadata": {
    "ExecuteTime": {
     "end_time": "2024-03-06T18:00:22.024643Z",
     "start_time": "2024-03-06T18:00:21.994443Z"
    }
   },
   "outputs": [
    {
     "data": {
      "text/plain": "({1, 2, 4}, {1, 2, 4})"
     },
     "execution_count": 213,
     "metadata": {},
     "output_type": "execute_result"
    }
   ],
   "source": [
    "A ^ B, A.symmetric_difference(B)"
   ]
  },
  {
   "cell_type": "code",
   "execution_count": 214,
   "outputs": [],
   "source": [
    "A = {1, 2, 3, 4}"
   ],
   "metadata": {
    "collapsed": false,
    "pycharm": {
     "name": "#%%\n"
    },
    "ExecuteTime": {
     "end_time": "2024-03-06T18:00:48.989538Z",
     "start_time": "2024-03-06T18:00:48.968540Z"
    }
   }
  },
  {
   "cell_type": "code",
   "execution_count": 215,
   "outputs": [
    {
     "data": {
      "text/plain": "({1, 2, 3, 4}, {3, 4})"
     },
     "execution_count": 215,
     "metadata": {},
     "output_type": "execute_result"
    }
   ],
   "source": [
    "A, B"
   ],
   "metadata": {
    "collapsed": false,
    "pycharm": {
     "name": "#%%\n"
    },
    "ExecuteTime": {
     "end_time": "2024-03-06T18:00:50.488739Z",
     "start_time": "2024-03-06T18:00:50.464858Z"
    }
   }
  },
  {
   "cell_type": "code",
   "execution_count": 216,
   "metadata": {
    "ExecuteTime": {
     "end_time": "2024-03-06T18:01:04.108548Z",
     "start_time": "2024-03-06T18:01:04.088027Z"
    }
   },
   "outputs": [
    {
     "data": {
      "text/plain": "(False, False)"
     },
     "execution_count": 216,
     "metadata": {},
     "output_type": "execute_result"
    }
   ],
   "source": [
    "A <= B, A.issubset(B)"
   ]
  },
  {
   "cell_type": "code",
   "execution_count": 217,
   "metadata": {
    "ExecuteTime": {
     "end_time": "2024-03-06T18:01:08.102095Z",
     "start_time": "2024-03-06T18:01:08.081965Z"
    }
   },
   "outputs": [
    {
     "data": {
      "text/plain": "(True, True)"
     },
     "execution_count": 217,
     "metadata": {},
     "output_type": "execute_result"
    }
   ],
   "source": [
    "A >= B, A.issuperset(B)"
   ]
  },
  {
   "cell_type": "code",
   "execution_count": 220,
   "id": "27bd0daf",
   "metadata": {
    "ExecuteTime": {
     "end_time": "2024-03-06T18:02:06.303452Z",
     "start_time": "2024-03-06T18:02:06.283852Z"
    }
   },
   "outputs": [],
   "source": [
    "A = {3, 4}\n",
    "B = {1, 2, 3, 4}"
   ]
  },
  {
   "cell_type": "code",
   "execution_count": 218,
   "metadata": {
    "collapsed": false,
    "ExecuteTime": {
     "end_time": "2024-03-06T18:01:39.137472Z",
     "start_time": "2024-03-06T18:01:39.112179Z"
    }
   },
   "outputs": [],
   "source": [
    "A = {1, 2}\n",
    "B = {3, 4, 5, 6}"
   ]
  },
  {
   "cell_type": "code",
   "execution_count": 221,
   "metadata": {
    "ExecuteTime": {
     "end_time": "2024-03-06T18:02:07.783479Z",
     "start_time": "2024-03-06T18:02:07.762144Z"
    }
   },
   "outputs": [
    {
     "data": {
      "text/plain": "False"
     },
     "execution_count": 221,
     "metadata": {},
     "output_type": "execute_result"
    }
   ],
   "source": [
    "A.isdisjoint(B)"
   ]
  },
  {
   "cell_type": "markdown",
   "metadata": {},
   "source": [
    "#### Индексирование"
   ]
  },
  {
   "cell_type": "code",
   "execution_count": 222,
   "metadata": {
    "ExecuteTime": {
     "end_time": "2024-03-06T18:02:22.569185Z",
     "start_time": "2024-03-06T18:02:22.550977Z"
    }
   },
   "outputs": [
    {
     "data": {
      "text/plain": "0"
     },
     "execution_count": 222,
     "metadata": {},
     "output_type": "execute_result"
    }
   ],
   "source": [
    "my_list = [0, 1, 2, 3, 4, 5, 6]\n",
    "my_list[0]"
   ]
  },
  {
   "cell_type": "code",
   "execution_count": 223,
   "metadata": {
    "ExecuteTime": {
     "end_time": "2024-03-06T18:02:33.644553Z",
     "start_time": "2024-03-06T18:02:33.621098Z"
    }
   },
   "outputs": [
    {
     "data": {
      "text/plain": "6"
     },
     "execution_count": 223,
     "metadata": {},
     "output_type": "execute_result"
    }
   ],
   "source": [
    "my_list[6]"
   ]
  },
  {
   "cell_type": "code",
   "execution_count": 224,
   "metadata": {
    "ExecuteTime": {
     "end_time": "2024-03-06T18:02:47.202547Z",
     "start_time": "2024-03-06T18:02:47.180260Z"
    }
   },
   "outputs": [
    {
     "data": {
      "text/plain": "(6, 6)"
     },
     "execution_count": 224,
     "metadata": {},
     "output_type": "execute_result"
    }
   ],
   "source": [
    "my_list[-1], my_list[len(my_list) - 1]"
   ]
  },
  {
   "cell_type": "code",
   "execution_count": 227,
   "metadata": {
    "ExecuteTime": {
     "end_time": "2024-03-06T18:03:11.050383Z",
     "start_time": "2024-03-06T18:03:11.022620Z"
    }
   },
   "outputs": [
    {
     "data": {
      "text/plain": "(0, 0)"
     },
     "execution_count": 227,
     "metadata": {},
     "output_type": "execute_result"
    }
   ],
   "source": [
    "my_list[-7], my_list[len(my_list) - 7]"
   ]
  },
  {
   "cell_type": "code",
   "execution_count": 228,
   "outputs": [
    {
     "data": {
      "text/plain": "-1"
     },
     "execution_count": 228,
     "metadata": {},
     "output_type": "execute_result"
    }
   ],
   "source": [
    "len(my_list) - 8"
   ],
   "metadata": {
    "collapsed": false,
    "pycharm": {
     "name": "#%%\n"
    },
    "ExecuteTime": {
     "end_time": "2024-03-06T18:03:20.224550Z",
     "start_time": "2024-03-06T18:03:20.204833Z"
    }
   }
  },
  {
   "cell_type": "code",
   "execution_count": 229,
   "metadata": {
    "collapsed": false,
    "ExecuteTime": {
     "end_time": "2024-03-06T18:03:22.101673Z",
     "start_time": "2024-03-06T18:03:22.078637Z"
    }
   },
   "outputs": [
    {
     "data": {
      "text/plain": "6"
     },
     "execution_count": 229,
     "metadata": {},
     "output_type": "execute_result"
    }
   ],
   "source": [
    "my_list[len(my_list) - 8]"
   ]
  },
  {
   "cell_type": "code",
   "execution_count": 230,
   "id": "e323e70d",
   "metadata": {
    "ExecuteTime": {
     "end_time": "2024-03-06T18:03:37.277682Z",
     "start_time": "2024-03-06T18:03:37.261441Z"
    }
   },
   "outputs": [
    {
     "ename": "IndexError",
     "evalue": "list index out of range",
     "output_type": "error",
     "traceback": [
      "\u001B[0;31m---------------------------------------------------------------------------\u001B[0m",
      "\u001B[0;31mIndexError\u001B[0m                                Traceback (most recent call last)",
      "Cell \u001B[0;32mIn[230], line 1\u001B[0m\n\u001B[0;32m----> 1\u001B[0m \u001B[43mmy_list\u001B[49m\u001B[43m[\u001B[49m\u001B[38;5;241;43m-\u001B[39;49m\u001B[38;5;241;43m8\u001B[39;49m\u001B[43m]\u001B[49m\n",
      "\u001B[0;31mIndexError\u001B[0m: list index out of range"
     ]
    }
   ],
   "source": [
    "my_list[-8]"
   ]
  },
  {
   "cell_type": "code",
   "execution_count": 231,
   "metadata": {
    "ExecuteTime": {
     "end_time": "2024-03-06T18:03:46.720413Z",
     "start_time": "2024-03-06T18:03:46.701672Z"
    }
   },
   "outputs": [
    {
     "data": {
      "text/plain": "[0, 1, 11, 3, 4, 5, 6]"
     },
     "execution_count": 231,
     "metadata": {},
     "output_type": "execute_result"
    }
   ],
   "source": [
    "my_list[-5] = 11\n",
    "my_list"
   ]
  },
  {
   "cell_type": "code",
   "execution_count": 232,
   "metadata": {
    "ExecuteTime": {
     "end_time": "2024-03-06T18:03:54.667026Z",
     "start_time": "2024-03-06T18:03:54.649827Z"
    }
   },
   "outputs": [
    {
     "ename": "IndexError",
     "evalue": "list assignment index out of range",
     "output_type": "error",
     "traceback": [
      "\u001B[0;31m---------------------------------------------------------------------------\u001B[0m",
      "\u001B[0;31mIndexError\u001B[0m                                Traceback (most recent call last)",
      "Cell \u001B[0;32mIn[232], line 1\u001B[0m\n\u001B[0;32m----> 1\u001B[0m \u001B[43mmy_list\u001B[49m\u001B[43m[\u001B[49m\u001B[38;5;241;43m10\u001B[39;49m\u001B[43m]\u001B[49m \u001B[38;5;241m=\u001B[39m \u001B[38;5;241m11\u001B[39m\n\u001B[1;32m      2\u001B[0m my_list\n",
      "\u001B[0;31mIndexError\u001B[0m: list assignment index out of range"
     ]
    }
   ],
   "source": [
    "my_list[10] = 11\n",
    "my_list"
   ]
  },
  {
   "cell_type": "code",
   "execution_count": 233,
   "metadata": {
    "collapsed": false,
    "ExecuteTime": {
     "end_time": "2024-03-06T18:04:06.897569Z",
     "start_time": "2024-03-06T18:04:06.875010Z"
    }
   },
   "outputs": [
    {
     "ename": "IndexError",
     "evalue": "list index out of range",
     "output_type": "error",
     "traceback": [
      "\u001B[0;31m---------------------------------------------------------------------------\u001B[0m",
      "\u001B[0;31mIndexError\u001B[0m                                Traceback (most recent call last)",
      "Cell \u001B[0;32mIn[233], line 1\u001B[0m\n\u001B[0;32m----> 1\u001B[0m \u001B[43mmy_list\u001B[49m\u001B[43m[\u001B[49m\u001B[38;5;241;43m-\u001B[39;49m\u001B[38;5;241;43m10\u001B[39;49m\u001B[43m]\u001B[49m\n",
      "\u001B[0;31mIndexError\u001B[0m: list index out of range"
     ]
    }
   ],
   "source": [
    "my_list[-10]"
   ]
  },
  {
   "cell_type": "markdown",
   "metadata": {},
   "source": [
    "##### Срезы (Slice)"
   ]
  },
  {
   "cell_type": "code",
   "execution_count": 234,
   "metadata": {
    "ExecuteTime": {
     "end_time": "2024-03-06T18:04:22.915044Z",
     "start_time": "2024-03-06T18:04:22.893447Z"
    }
   },
   "outputs": [
    {
     "data": {
      "text/plain": "[0, 1, 11, 3, 4, 5, 6]"
     },
     "execution_count": 234,
     "metadata": {},
     "output_type": "execute_result"
    }
   ],
   "source": [
    "my_list"
   ]
  },
  {
   "cell_type": "code",
   "execution_count": 236,
   "metadata": {
    "ExecuteTime": {
     "end_time": "2024-03-06T18:04:41.715682Z",
     "start_time": "2024-03-06T18:04:41.696258Z"
    }
   },
   "outputs": [
    {
     "data": {
      "text/plain": "[1, 11, 3, 4]"
     },
     "execution_count": 236,
     "metadata": {},
     "output_type": "execute_result"
    }
   ],
   "source": [
    "my_list[1:5]"
   ]
  },
  {
   "cell_type": "code",
   "execution_count": 237,
   "metadata": {
    "ExecuteTime": {
     "end_time": "2024-03-06T18:04:49.838439Z",
     "start_time": "2024-03-06T18:04:49.811079Z"
    }
   },
   "outputs": [
    {
     "data": {
      "text/plain": "[1, 3]"
     },
     "execution_count": 237,
     "metadata": {},
     "output_type": "execute_result"
    }
   ],
   "source": [
    "my_list[1:5:2]"
   ]
  },
  {
   "cell_type": "code",
   "execution_count": 238,
   "metadata": {
    "collapsed": false,
    "ExecuteTime": {
     "end_time": "2024-03-06T18:05:03.575471Z",
     "start_time": "2024-03-06T18:05:03.555287Z"
    }
   },
   "outputs": [
    {
     "data": {
      "text/plain": "[0, 1, 11, 3, 4]"
     },
     "execution_count": 238,
     "metadata": {},
     "output_type": "execute_result"
    }
   ],
   "source": [
    "my_list[:5]"
   ]
  },
  {
   "cell_type": "code",
   "execution_count": 239,
   "metadata": {
    "collapsed": false,
    "ExecuteTime": {
     "end_time": "2024-03-06T18:05:07.530781Z",
     "start_time": "2024-03-06T18:05:07.509167Z"
    }
   },
   "outputs": [
    {
     "data": {
      "text/plain": "[5, 6]"
     },
     "execution_count": 239,
     "metadata": {},
     "output_type": "execute_result"
    }
   ],
   "source": [
    "my_list[5:]"
   ]
  },
  {
   "cell_type": "code",
   "execution_count": 240,
   "metadata": {
    "ExecuteTime": {
     "end_time": "2024-03-06T18:05:33.769292Z",
     "start_time": "2024-03-06T18:05:33.747408Z"
    }
   },
   "outputs": [
    {
     "name": "stdout",
     "output_type": "stream",
     "text": [
      "[1, 3, 5]\n"
     ]
    }
   ],
   "source": [
    "EVEN = slice(1, None, 2)\n",
    "print(my_list[EVEN])"
   ]
  },
  {
   "cell_type": "code",
   "execution_count": 241,
   "metadata": {
    "collapsed": false,
    "ExecuteTime": {
     "end_time": "2024-03-06T18:05:38.821680Z",
     "start_time": "2024-03-06T18:05:38.802930Z"
    }
   },
   "outputs": [
    {
     "data": {
      "text/plain": "[1, 3, 5]"
     },
     "execution_count": 241,
     "metadata": {},
     "output_type": "execute_result"
    }
   ],
   "source": [
    "my_list[1::2]"
   ]
  },
  {
   "cell_type": "markdown",
   "metadata": {},
   "source": [
    "##### Изменение списка"
   ]
  },
  {
   "cell_type": "code",
   "execution_count": 242,
   "metadata": {
    "collapsed": false,
    "ExecuteTime": {
     "end_time": "2024-03-06T18:05:49.663822Z",
     "start_time": "2024-03-06T18:05:49.645299Z"
    }
   },
   "outputs": [
    {
     "data": {
      "text/plain": "[1]"
     },
     "execution_count": 242,
     "metadata": {},
     "output_type": "execute_result"
    }
   ],
   "source": [
    "my_list[1:2]"
   ]
  },
  {
   "cell_type": "code",
   "execution_count": 244,
   "metadata": {
    "ExecuteTime": {
     "end_time": "2024-03-06T18:06:13.318376Z",
     "start_time": "2024-03-06T18:06:13.293553Z"
    }
   },
   "outputs": [
    {
     "name": "stdout",
     "output_type": "stream",
     "text": [
      "[1, 1, 2, 3, 4, 5]\n"
     ]
    }
   ],
   "source": [
    "my_list = [1, 2, 3, 4, 5]\n",
    "my_list[1:2] = [1, 2]\n",
    "print(my_list)     "
   ]
  },
  {
   "cell_type": "markdown",
   "metadata": {},
   "source": [
    "##### Выход за границы "
   ]
  },
  {
   "cell_type": "code",
   "execution_count": 254,
   "metadata": {
    "ExecuteTime": {
     "end_time": "2024-03-06T18:07:41.125763Z",
     "start_time": "2024-03-06T18:07:41.110703Z"
    }
   },
   "outputs": [],
   "source": [
    "my_list = [1, 2, 3, 4, 5]\n"
   ]
  },
  {
   "cell_type": "code",
   "execution_count": 247,
   "metadata": {
    "ExecuteTime": {
     "end_time": "2024-03-06T18:07:01.595165Z",
     "start_time": "2024-03-06T18:07:01.574101Z"
    }
   },
   "outputs": [
    {
     "data": {
      "text/plain": "([1, 2, 3], [])"
     },
     "execution_count": 247,
     "metadata": {},
     "output_type": "execute_result"
    }
   ],
   "source": [
    "my_list[0:3], my_list[50:100]"
   ]
  },
  {
   "cell_type": "code",
   "execution_count": 248,
   "metadata": {
    "collapsed": false,
    "ExecuteTime": {
     "end_time": "2024-03-06T18:07:22.526287Z",
     "start_time": "2024-03-06T18:07:22.505524Z"
    }
   },
   "outputs": [
    {
     "data": {
      "text/plain": "[]"
     },
     "execution_count": 248,
     "metadata": {},
     "output_type": "execute_result"
    }
   ],
   "source": [
    "my_list[50:51]"
   ]
  },
  {
   "cell_type": "code",
   "execution_count": 256,
   "metadata": {
    "collapsed": false,
    "ExecuteTime": {
     "end_time": "2024-03-06T18:07:49.029640Z",
     "start_time": "2024-03-06T18:07:49.011503Z"
    }
   },
   "outputs": [],
   "source": [
    "my_list[0:4] = [10, 10, 120]"
   ]
  },
  {
   "cell_type": "code",
   "execution_count": 257,
   "metadata": {
    "collapsed": false,
    "ExecuteTime": {
     "end_time": "2024-03-06T18:07:50.551702Z",
     "start_time": "2024-03-06T18:07:50.531304Z"
    }
   },
   "outputs": [
    {
     "data": {
      "text/plain": "[10, 10, 120, 5]"
     },
     "execution_count": 257,
     "metadata": {},
     "output_type": "execute_result"
    }
   ],
   "source": [
    "my_list"
   ]
  },
  {
   "cell_type": "markdown",
   "metadata": {
    "collapsed": false
   },
   "source": [
    "#### Сортировка коллекций\n"
   ]
  },
  {
   "cell_type": "code",
   "execution_count": 258,
   "metadata": {
    "collapsed": false,
    "ExecuteTime": {
     "end_time": "2024-03-06T18:08:10.285785Z",
     "start_time": "2024-03-06T18:08:10.265915Z"
    }
   },
   "outputs": [
    {
     "data": {
      "text/plain": "([22, 33, 55, 60, 79], [55, 22, 33, 79, 60])"
     },
     "execution_count": 258,
     "metadata": {},
     "output_type": "execute_result"
    }
   ],
   "source": [
    "my_list = [55, 22, 33, 79, 60]\n",
    "\n",
    "sorted(my_list), my_list"
   ]
  },
  {
   "cell_type": "code",
   "execution_count": 259,
   "metadata": {
    "collapsed": false,
    "ExecuteTime": {
     "end_time": "2024-03-06T18:09:24.934849Z",
     "start_time": "2024-03-06T18:09:24.915490Z"
    }
   },
   "outputs": [],
   "source": [
    "my_list = sorted(my_list)"
   ]
  },
  {
   "cell_type": "code",
   "execution_count": 260,
   "metadata": {
    "collapsed": false,
    "ExecuteTime": {
     "end_time": "2024-03-06T18:09:26.116551Z",
     "start_time": "2024-03-06T18:09:26.099214Z"
    }
   },
   "outputs": [
    {
     "data": {
      "text/plain": "[22, 33, 55, 60, 79]"
     },
     "execution_count": 260,
     "metadata": {},
     "output_type": "execute_result"
    }
   ],
   "source": [
    "my_list"
   ]
  },
  {
   "cell_type": "code",
   "execution_count": 261,
   "id": "18c46a17",
   "metadata": {
    "ExecuteTime": {
     "end_time": "2024-03-06T18:09:31.735384Z",
     "start_time": "2024-03-06T18:09:31.711926Z"
    }
   },
   "outputs": [
    {
     "data": {
      "text/plain": "[1, 3, 5]"
     },
     "execution_count": 261,
     "metadata": {},
     "output_type": "execute_result"
    }
   ],
   "source": [
    "sorted({3, 1, 5})"
   ]
  },
  {
   "cell_type": "code",
   "execution_count": 262,
   "metadata": {
    "collapsed": false,
    "ExecuteTime": {
     "end_time": "2024-03-06T18:09:37.612450Z",
     "start_time": "2024-03-06T18:09:37.590884Z"
    }
   },
   "outputs": [
    {
     "data": {
      "text/plain": "['Hell', 'Hello', 'M']"
     },
     "execution_count": 262,
     "metadata": {},
     "output_type": "execute_result"
    }
   ],
   "source": [
    "sorted([\"Hello\", \"Hell\", \"M\"])"
   ]
  },
  {
   "cell_type": "code",
   "execution_count": 265,
   "metadata": {
    "collapsed": false,
    "ExecuteTime": {
     "end_time": "2024-03-06T18:11:00.882272Z",
     "start_time": "2024-03-06T18:11:00.865719Z"
    }
   },
   "outputs": [
    {
     "data": {
      "text/plain": "['Hell', 'Hello', 'M']"
     },
     "execution_count": 265,
     "metadata": {},
     "output_type": "execute_result"
    }
   ],
   "source": [
    "def cmp(a):\n",
    "    return len(a) % 2\n",
    "\n",
    "sorted([\"Hell\", \"Hello\", \"M\"], key=cmp)\n"
   ]
  },
  {
   "cell_type": "code",
   "execution_count": 269,
   "metadata": {
    "collapsed": false,
    "ExecuteTime": {
     "end_time": "2024-03-06T18:11:49.411099Z",
     "start_time": "2024-03-06T18:11:49.393774Z"
    }
   },
   "outputs": [
    {
     "data": {
      "text/plain": "1"
     },
     "execution_count": 269,
     "metadata": {},
     "output_type": "execute_result"
    }
   ],
   "source": [
    "len(\"M\") % 2"
   ]
  },
  {
   "cell_type": "code",
   "execution_count": 270,
   "outputs": [
    {
     "ename": "TypeError",
     "evalue": "'<' not supported between instances of 'int' and 'str'",
     "output_type": "error",
     "traceback": [
      "\u001B[0;31m---------------------------------------------------------------------------\u001B[0m",
      "\u001B[0;31mTypeError\u001B[0m                                 Traceback (most recent call last)",
      "Cell \u001B[0;32mIn[270], line 1\u001B[0m\n\u001B[0;32m----> 1\u001B[0m \u001B[38;5;28;43msorted\u001B[39;49m\u001B[43m(\u001B[49m\u001B[43m[\u001B[49m\u001B[38;5;124;43m'\u001B[39;49m\u001B[38;5;124;43mQWER\u001B[39;49m\u001B[38;5;124;43m'\u001B[39;49m\u001B[43m,\u001B[49m\u001B[43m \u001B[49m\u001B[38;5;241;43m1\u001B[39;49m\u001B[43m,\u001B[49m\u001B[43m \u001B[49m\u001B[38;5;241;43m2\u001B[39;49m\u001B[43m]\u001B[49m\u001B[43m)\u001B[49m\n",
      "\u001B[0;31mTypeError\u001B[0m: '<' not supported between instances of 'int' and 'str'"
     ]
    }
   ],
   "source": [
    "sorted(['QWER', 1, 2])"
   ],
   "metadata": {
    "collapsed": false,
    "pycharm": {
     "name": "#%%\n"
    },
    "ExecuteTime": {
     "end_time": "2024-03-06T18:11:51.614583Z",
     "start_time": "2024-03-06T18:11:51.603914Z"
    }
   }
  },
  {
   "cell_type": "markdown",
   "metadata": {
    "collapsed": false
   },
   "source": [
    "#### Некоторые методы для строк"
   ]
  },
  {
   "cell_type": "code",
   "execution_count": 271,
   "metadata": {
    "collapsed": false,
    "ExecuteTime": {
     "end_time": "2024-03-06T18:12:37.749655Z",
     "start_time": "2024-03-06T18:12:37.728973Z"
    }
   },
   "outputs": [
    {
     "data": {
      "text/plain": "'hello, world'"
     },
     "execution_count": 271,
     "metadata": {},
     "output_type": "execute_result"
    }
   ],
   "source": [
    "\"hello, \" + \"world\""
   ]
  },
  {
   "cell_type": "code",
   "execution_count": 272,
   "metadata": {
    "collapsed": false,
    "ExecuteTime": {
     "end_time": "2024-03-06T18:12:41.765806Z",
     "start_time": "2024-03-06T18:12:41.746355Z"
    }
   },
   "outputs": [
    {
     "data": {
      "text/plain": "'Hello Hello Hello  world'"
     },
     "execution_count": 272,
     "metadata": {},
     "output_type": "execute_result"
    }
   ],
   "source": [
    "\"Hello \" * 3 + \" world\""
   ]
  },
  {
   "cell_type": "code",
   "execution_count": 273,
   "metadata": {
    "collapsed": false,
    "ExecuteTime": {
     "end_time": "2024-03-06T18:12:49.791653Z",
     "start_time": "2024-03-06T18:12:49.771343Z"
    }
   },
   "outputs": [
    {
     "data": {
      "text/plain": "5"
     },
     "execution_count": 273,
     "metadata": {},
     "output_type": "execute_result"
    }
   ],
   "source": [
    "len(\"hello\")"
   ]
  },
  {
   "cell_type": "code",
   "execution_count": 274,
   "metadata": {
    "collapsed": false,
    "ExecuteTime": {
     "end_time": "2024-03-06T18:12:53.057172Z",
     "start_time": "2024-03-06T18:12:53.035912Z"
    }
   },
   "outputs": [
    {
     "data": {
      "text/plain": "(0, 7)"
     },
     "execution_count": 274,
     "metadata": {},
     "output_type": "execute_result"
    }
   ],
   "source": [
    "\"Hello, Hell\".find(\"H\"), \"Hello, Hell\".rfind(\"H\")"
   ]
  },
  {
   "cell_type": "code",
   "execution_count": 275,
   "metadata": {
    "collapsed": false,
    "ExecuteTime": {
     "end_time": "2024-03-06T18:13:09.687460Z",
     "start_time": "2024-03-06T18:13:09.669158Z"
    }
   },
   "outputs": [
    {
     "data": {
      "text/plain": "'hello, hell'"
     },
     "execution_count": 275,
     "metadata": {},
     "output_type": "execute_result"
    }
   ],
   "source": [
    "\"Hello, Hell\".replace(\"H\", 'h')"
   ]
  },
  {
   "cell_type": "code",
   "execution_count": 276,
   "metadata": {
    "collapsed": false,
    "ExecuteTime": {
     "end_time": "2024-03-06T18:13:19.886391Z",
     "start_time": "2024-03-06T18:13:19.866463Z"
    }
   },
   "outputs": [
    {
     "data": {
      "text/plain": "'hello, Hell'"
     },
     "execution_count": 276,
     "metadata": {},
     "output_type": "execute_result"
    }
   ],
   "source": [
    "\"Hello, Hell\".replace(\"H\", 'h', 1)"
   ]
  },
  {
   "cell_type": "code",
   "execution_count": 277,
   "metadata": {
    "collapsed": false,
    "ExecuteTime": {
     "end_time": "2024-03-06T18:13:26.608313Z",
     "start_time": "2024-03-06T18:13:26.586869Z"
    }
   },
   "outputs": [
    {
     "data": {
      "text/plain": "['Lorem', 'ipsum', 'dolor', 'sit', 'amet,', 'consectetur', 'adipiscing.']"
     },
     "execution_count": 277,
     "metadata": {},
     "output_type": "execute_result"
    }
   ],
   "source": [
    "\"Lorem ipsum dolor sit amet, consectetur adipiscing.\".split()"
   ]
  },
  {
   "cell_type": "code",
   "execution_count": 278,
   "metadata": {
    "collapsed": false,
    "ExecuteTime": {
     "end_time": "2024-03-06T18:14:02.259561Z",
     "start_time": "2024-03-06T18:14:02.201350Z"
    }
   },
   "outputs": [
    {
     "data": {
      "text/plain": "['Lorem ipsum dolor sit amet', 'consectetur adipiscing.']"
     },
     "execution_count": 278,
     "metadata": {},
     "output_type": "execute_result"
    }
   ],
   "source": [
    "\"Lorem ipsum dolor sit amet, consectetur adipiscing.\".split(', ')"
   ]
  },
  {
   "cell_type": "code",
   "execution_count": 281,
   "metadata": {
    "collapsed": false,
    "ExecuteTime": {
     "end_time": "2024-03-06T18:14:32.336596Z",
     "start_time": "2024-03-06T18:14:32.318790Z"
    }
   },
   "outputs": [
    {
     "data": {
      "text/plain": "'000000000q'"
     },
     "execution_count": 281,
     "metadata": {},
     "output_type": "execute_result"
    }
   ],
   "source": [
    "\"q\".zfill(10)"
   ]
  },
  {
   "cell_type": "code",
   "execution_count": 282,
   "metadata": {
    "collapsed": false,
    "ExecuteTime": {
     "end_time": "2024-03-06T18:14:39.585794Z",
     "start_time": "2024-03-06T18:14:39.561235Z"
    }
   },
   "outputs": [
    {
     "data": {
      "text/plain": "('hello', 'HELLO')"
     },
     "execution_count": 282,
     "metadata": {},
     "output_type": "execute_result"
    }
   ],
   "source": [
    "\"Hello\".lower(), \"Hello\".upper()"
   ]
  },
  {
   "cell_type": "code",
   "execution_count": 284,
   "metadata": {
    "collapsed": false,
    "ExecuteTime": {
     "end_time": "2024-03-06T18:15:22.276012Z",
     "start_time": "2024-03-06T18:15:22.256954Z"
    }
   },
   "outputs": [
    {
     "data": {
      "text/plain": "('   Hello', 'Hello   ', 'Hello         q')"
     },
     "execution_count": 284,
     "metadata": {},
     "output_type": "execute_result"
    }
   ],
   "source": [
    "\"   Hello       \".rstrip(), \" Hello   \".lstrip(), \"   Hello         q  \".strip()"
   ]
  },
  {
   "cell_type": "code",
   "execution_count": 286,
   "outputs": [
    {
     "data": {
      "text/plain": "'Aello elwkj'"
     },
     "execution_count": 286,
     "metadata": {},
     "output_type": "execute_result"
    }
   ],
   "source": [
    "\"aello elwkj\".capitalize()"
   ],
   "metadata": {
    "collapsed": false,
    "pycharm": {
     "name": "#%%\n"
    },
    "ExecuteTime": {
     "end_time": "2024-03-06T18:15:47.937031Z",
     "start_time": "2024-03-06T18:15:47.911615Z"
    }
   }
  },
  {
   "cell_type": "code",
   "execution_count": 287,
   "outputs": [
    {
     "data": {
      "text/plain": "'Aello Elwkj'"
     },
     "execution_count": 287,
     "metadata": {},
     "output_type": "execute_result"
    }
   ],
   "source": [
    "\"aello elwkj\".title()\n"
   ],
   "metadata": {
    "collapsed": false,
    "ExecuteTime": {
     "end_time": "2024-03-06T18:16:12.996675Z",
     "start_time": "2024-03-06T18:16:12.963300Z"
    }
   }
  },
  {
   "cell_type": "markdown",
   "metadata": {},
   "source": [
    "# Условные операторы"
   ]
  },
  {
   "cell_type": "code",
   "execution_count": 291,
   "metadata": {
    "ExecuteTime": {
     "end_time": "2024-03-06T18:17:42.532149Z",
     "start_time": "2024-03-06T18:17:42.514871Z"
    }
   },
   "outputs": [],
   "source": [
    "a = 10\n",
    "if a < 5:\n",
    "    print(a)"
   ]
  },
  {
   "cell_type": "code",
   "execution_count": 292,
   "metadata": {
    "ExecuteTime": {
     "end_time": "2024-03-06T18:18:16.396697Z",
     "start_time": "2024-03-06T18:18:16.374015Z"
    }
   },
   "outputs": [
    {
     "name": "stdout",
     "output_type": "stream",
     "text": [
      "Else\n"
     ]
    }
   ],
   "source": [
    "a = 10\n",
    "if a < 5:\n",
    "    print(a)\n",
    "    ...\n",
    "else:\n",
    "    print('Else')"
   ]
  },
  {
   "cell_type": "code",
   "execution_count": 293,
   "metadata": {
    "ExecuteTime": {
     "end_time": "2024-03-06T18:18:52.789884Z",
     "start_time": "2024-03-06T18:18:52.768711Z"
    }
   },
   "outputs": [
    {
     "name": "stdout",
     "output_type": "stream",
     "text": [
      "5 <= a < 10\n",
      "END\n"
     ]
    }
   ],
   "source": [
    "a = 7\n",
    "if a < 5:\n",
    "    print('a < 5')\n",
    "elif a < 10:\n",
    "    print('5 <= a < 10')\n",
    "elif a < 15:\n",
    "    print('10 <= a <= 15')\n",
    "else:\n",
    "    print('Else')\n",
    "\n",
    "print('END')"
   ]
  },
  {
   "cell_type": "markdown",
   "metadata": {},
   "source": [
    "# Циклы"
   ]
  },
  {
   "cell_type": "code",
   "execution_count": 294,
   "metadata": {
    "ExecuteTime": {
     "end_time": "2024-03-06T18:20:26.685895Z",
     "start_time": "2024-03-06T18:20:26.647122Z"
    }
   },
   "outputs": [
    {
     "name": "stdout",
     "output_type": "stream",
     "text": [
      "5\n",
      "6\n",
      "7\n",
      "8\n",
      "9\n",
      "END\n"
     ]
    }
   ],
   "source": [
    "i = 5\n",
    "while i < 10:\n",
    "    print(i)\n",
    "    i += 1\n",
    "    # i = i + 1\n",
    "print('END')"
   ]
  },
  {
   "cell_type": "code",
   "execution_count": 296,
   "metadata": {
    "ExecuteTime": {
     "end_time": "2024-03-06T18:21:18.872894Z",
     "start_time": "2024-03-06T18:21:18.855734Z"
    }
   },
   "outputs": [
    {
     "name": "stdout",
     "output_type": "stream",
     "text": [
      "1\n",
      "2\n",
      "\n",
      "2\n",
      "3\n",
      "\n",
      "3\n",
      "4\n",
      "\n"
     ]
    }
   ],
   "source": [
    "m = [1, 2, 3]\n",
    "for i in m:\n",
    "    print(i)\n",
    "    print(i + 1)\n",
    "    print()"
   ]
  },
  {
   "cell_type": "code",
   "execution_count": 297,
   "metadata": {
    "ExecuteTime": {
     "end_time": "2024-03-06T18:21:41.975020Z",
     "start_time": "2024-03-06T18:21:41.953487Z"
    }
   },
   "outputs": [
    {
     "name": "stdout",
     "output_type": "stream",
     "text": [
      "0 - 1\n",
      "1 - 2\n",
      "2 - 3\n"
     ]
    }
   ],
   "source": [
    "for i in range(len(m)):\n",
    "    print(i, '-', m[i])"
   ]
  },
  {
   "cell_type": "code",
   "execution_count": 298,
   "metadata": {
    "ExecuteTime": {
     "end_time": "2024-03-06T18:22:52.455814Z",
     "start_time": "2024-03-06T18:22:52.434751Z"
    }
   },
   "outputs": [
    {
     "name": "stdout",
     "output_type": "stream",
     "text": [
      "0 - 1\n",
      "1 - 2\n",
      "2 - 3\n"
     ]
    }
   ],
   "source": [
    "for i, item in enumerate(m):\n",
    "    print(i, '-', item)"
   ]
  },
  {
   "cell_type": "code",
   "execution_count": 299,
   "metadata": {
    "collapsed": false,
    "ExecuteTime": {
     "end_time": "2024-03-06T18:22:59.188017Z",
     "start_time": "2024-03-06T18:22:59.161540Z"
    }
   },
   "outputs": [
    {
     "data": {
      "text/plain": "{'One': 1, 'Two': 2, 'Three': 3}"
     },
     "execution_count": 299,
     "metadata": {},
     "output_type": "execute_result"
    }
   ],
   "source": [
    "my_dict"
   ]
  },
  {
   "cell_type": "code",
   "execution_count": 302,
   "metadata": {
    "collapsed": false,
    "ExecuteTime": {
     "end_time": "2024-03-06T18:23:52.683268Z",
     "start_time": "2024-03-06T18:23:52.665042Z"
    }
   },
   "outputs": [
    {
     "name": "stdout",
     "output_type": "stream",
     "text": [
      "One 1\n",
      "Two 2\n",
      "Three 3\n"
     ]
    }
   ],
   "source": [
    "for i, item in my_dict.items():\n",
    "    print(i, item)"
   ]
  },
  {
   "cell_type": "code",
   "execution_count": 303,
   "metadata": {
    "ExecuteTime": {
     "end_time": "2024-03-06T18:24:24.682419Z",
     "start_time": "2024-03-06T18:24:24.661078Z"
    }
   },
   "outputs": [
    {
     "name": "stdout",
     "output_type": "stream",
     "text": [
      "88\n",
      "16\n",
      "13\n",
      "41\n",
      "52\n",
      "Элемент 66 существует в коллекции\n"
     ]
    }
   ],
   "source": [
    "m = [88, 16, 13, 41, 52, 66, 3, 21, 77, 63, 97, 5, 54, 54]\n",
    "\n",
    "for i in m:\n",
    "    if i == 66:\n",
    "        print(\"Элемент 66 существует в коллекции\")\n",
    "        break\n",
    "    print(i)"
   ]
  },
  {
   "cell_type": "code",
   "execution_count": 304,
   "metadata": {
    "collapsed": false,
    "ExecuteTime": {
     "end_time": "2024-03-06T18:25:22.404918Z",
     "start_time": "2024-03-06T18:25:22.377455Z"
    }
   },
   "outputs": [
    {
     "data": {
      "text/plain": "True"
     },
     "execution_count": 304,
     "metadata": {},
     "output_type": "execute_result"
    }
   ],
   "source": [
    "66 in m"
   ]
  },
  {
   "cell_type": "code",
   "execution_count": 307,
   "metadata": {
    "ExecuteTime": {
     "end_time": "2024-03-06T18:26:00.926421Z",
     "start_time": "2024-03-06T18:26:00.836701Z"
    }
   },
   "outputs": [
    {
     "name": "stdout",
     "output_type": "stream",
     "text": [
      "Такого числа не существует\n"
     ]
    }
   ],
   "source": [
    "m = [16, 13, 41, 52, 62, 3, 21, 20, 71, 63, 97, 5, 54, 54]\n",
    "for i in m:\n",
    "    if i % 11 == 0:\n",
    "        print(i)\n",
    "        print(\"Элемент который делится на 11 существует в коллекции\")\n",
    "        break\n",
    "else:\n",
    "    print(\"Такого числа не существует\")\n",
    "\n"
   ]
  },
  {
   "cell_type": "markdown",
   "id": "50399da3",
   "metadata": {},
   "source": [
    "# Некоторые задачи на Python"
   ]
  },
  {
   "cell_type": "markdown",
   "id": "0250e409",
   "metadata": {},
   "source": [
    "Нарисуйте треугольник: \n",
    "```\n",
    "*_____\n",
    "**____\n",
    "***___\n",
    "****__\n",
    "*****_\n",
    "******\n",
    "```"
   ]
  },
  {
   "cell_type": "code",
   "execution_count": 308,
   "id": "b68c3c48",
   "metadata": {
    "ExecuteTime": {
     "end_time": "2024-03-06T18:27:00.086661Z",
     "start_time": "2024-03-06T18:27:00.018619Z"
    }
   },
   "outputs": [
    {
     "name": "stdout",
     "output_type": "stream",
     "text": [
      "*_____\n",
      "**____\n",
      "***___\n",
      "****__\n",
      "*****_\n",
      "******\n"
     ]
    }
   ],
   "source": [
    "count_of_string = 6\n",
    "for i in range(count_of_string):\n",
    "    print('*' * (i + 1) + '_' * (count_of_string - (i + 1)))\n"
   ]
  },
  {
   "cell_type": "markdown",
   "id": "973e59e3",
   "metadata": {},
   "source": [
    "Проверить делится ли число на 5:"
   ]
  },
  {
   "cell_type": "code",
   "execution_count": 309,
   "id": "ea8864bd",
   "metadata": {
    "ExecuteTime": {
     "end_time": "2024-03-06T18:28:44.394272Z",
     "start_time": "2024-03-06T18:28:44.373529Z"
    }
   },
   "outputs": [
    {
     "name": "stdout",
     "output_type": "stream",
     "text": [
      "Число делится на 5\n"
     ]
    }
   ],
   "source": [
    "num = 25\n",
    "if num % 5 == 0:\n",
    "    print('Число делится на 5')"
   ]
  },
  {
   "cell_type": "code",
   "execution_count": 314,
   "id": "f7a45b70",
   "metadata": {
    "ExecuteTime": {
     "end_time": "2024-03-06T18:29:46.210244Z",
     "start_time": "2024-03-06T18:29:46.196710Z"
    }
   },
   "outputs": [
    {
     "data": {
      "text/plain": "8"
     },
     "execution_count": 314,
     "metadata": {},
     "output_type": "execute_result"
    }
   ],
   "source": [
    "28 % 10"
   ]
  },
  {
   "cell_type": "code",
   "execution_count": 315,
   "id": "712d85a2",
   "metadata": {},
   "outputs": [
    {
     "name": "stdout",
     "output_type": "stream",
     "text": [
      "Число делится на 5\n"
     ]
    }
   ],
   "source": [
    "num = 25\n",
    "if num % 10 == 0 or num % 10 == 5:\n",
    "    print('Число делится на 5')"
   ]
  },
  {
   "cell_type": "markdown",
   "metadata": {
    "collapsed": false
   },
   "source": [
    "# Рекомендуемая литература:\n",
    "\n",
    "- Марк Лутц: Изучаем Python\n",
    "- https://younglinux.info/python/course\n",
    "- https://telegra.ph/Oshibki-v-botah-i-kak-ih-chitat-01-11\n",
    "- Грокаем алгоритмы(примеры на Python 2)\n",
    "- Н.Вирт: Алгоритмы и структуры данных\n",
    "- Томас Кормен: Алгоритмы. Построение и анализ"
   ]
  },
  {
   "cell_type": "markdown",
   "metadata": {
    "collapsed": false
   },
   "source": [
    "# Вопросы для самостоятельного изучения:\n",
    "- Рекурсия. Что такое, зачем используется?\n",
    "- Бинарный поиск\n",
    "- Почитать про сложность алгоритмов\n",
    "- Хеширование. Хеш таблицы *\n",
    "- Системы счисления \n",
    "    - [Статья на thecode](https://thecode.media/binary-notation/)\n",
    "    - Петцольд Ч. Код: тайный язык информатики. – \" Манн, Иванов и Фербер\", 2001.\n",
    "- Отличия Python 2 и Python 3:\n",
    "    - [Отличия Python 2.7 и Python 3.6](https://pyneng.readthedocs.io/ru/latest/book/additional_info/py2_vs_py3.html)\n",
    "- [Числа с плавающей точкой](https://habr.com/ru/post/337260/)"
   ]
  },
  {
   "cell_type": "markdown",
   "metadata": {},
   "source": [
    "# Вопросы к зачету"
   ]
  },
  {
   "cell_type": "markdown",
   "metadata": {},
   "source": [
    "- Модель памяти Python\n",
    "- Синтаксис языка\n",
    "- Чем отличаются циклы While и For\n",
    "- Как работают логические операторы and, or, not"
   ]
  },
  {
   "cell_type": "markdown",
   "metadata": {
    "collapsed": false,
    "pycharm": {
     "name": "#%% md\n"
    }
   },
   "source": [
    "# Задания для самостоятельного решения\n",
    "\n",
    "Задание не оценивается и не проверяется\n"
   ]
  },
  {
   "cell_type": "markdown",
   "id": "a86dbb78",
   "metadata": {},
   "source": [
    "1. Нарисовать Пирамиду из символов *:\n",
    "```\n",
    "    *\n",
    "   ***\n",
    "  *****\n",
    " *******\n",
    "*********\n",
    "```\n",
    "2. Вычислить сумму цифр трехзначного числа\n",
    "```\n",
    "123 = 1 + 2 + 3 = 6\n",
    "```\n",
    "3. Дано несколько значений, требуется получить только уникальные:\n",
    "```\n",
    "\"H\", \"e\", \"l\", \"l\", \"o\" -> \"H\", \"e\", \"l\", \"o\"\n",
    "```"
   ]
  }
 ],
 "metadata": {
  "kernelspec": {
   "display_name": "Python 3.9.12 64-bit",
   "language": "python",
   "name": "python3"
  },
  "language_info": {
   "codemirror_mode": {
    "name": "ipython",
    "version": 3
   },
   "file_extension": ".py",
   "mimetype": "text/x-python",
   "name": "python",
   "nbconvert_exporter": "python",
   "pygments_lexer": "ipython3",
   "version": "3.9.13"
  },
  "notify_time": "5",
  "toc": {
   "base_numbering": 1,
   "nav_menu": {},
   "number_sections": true,
   "sideBar": true,
   "skip_h1_title": false,
   "title_cell": "Table of Contents",
   "title_sidebar": "Contents",
   "toc_cell": false,
   "toc_position": {},
   "toc_section_display": true,
   "toc_window_display": false
  },
  "vscode": {
   "interpreter": {
    "hash": "b0fa6594d8f4cbf19f97940f81e996739fb7646882a419484c72d19e05852a7e"
   }
  }
 },
 "nbformat": 4,
 "nbformat_minor": 5
}

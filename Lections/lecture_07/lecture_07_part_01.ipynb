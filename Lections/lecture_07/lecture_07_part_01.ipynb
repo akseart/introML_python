{
 "cells": [
  {
   "cell_type": "markdown",
   "metadata": {},
   "source": [
    "# Введение в методы анализа данных. Язык Python."
   ]
  },
  {
   "cell_type": "markdown",
   "metadata": {},
   "source": [
    "## Лекция 7. Введение в машинное обучение. Нейросети.\n",
    "<br><br><br><br>\n",
    "__Аксентьев Артем (akseart@ya.ru)__\n",
    "\n",
    "__Ксемидов Борис (bworkboris@yandex.ru)__\n",
    "<br>"
   ]
  },
  {
   "cell_type": "markdown",
   "metadata": {},
   "source": [
    "## Нейрон"
   ]
  },
  {
   "cell_type": "markdown",
   "metadata": {},
   "source": [
    "<center>\n",
    "<img src=\"data/neuron.png\" width=\"600\" height=\"400\">\n",
    "</center>"
   ]
  },
  {
   "cell_type": "markdown",
   "metadata": {},
   "source": [
    "<center>\n",
    "<img src=\"data/neuron.jpg\" width=\"600\" height=\"400\">\n",
    "</center>"
   ]
  },
  {
   "cell_type": "markdown",
   "metadata": {},
   "source": [
    "Примеры активационных функций:\n",
    "- ReLU;\n",
    "- Sigmoid;\n",
    "- TanH."
   ]
  },
  {
   "cell_type": "markdown",
   "metadata": {},
   "source": [
    "**RELU**"
   ]
  },
  {
   "cell_type": "markdown",
   "metadata": {},
   "source": [
    "<center>\n",
    "<img src=\"data/relu.png\" width=\"600\" height=\"400\">\n",
    "</center>"
   ]
  },
  {
   "cell_type": "code",
   "execution_count": 6,
   "metadata": {},
   "outputs": [
    {
     "name": "stdout",
     "output_type": "stream",
     "text": [
      "[[0.16680922 0.83821756]]\n"
     ]
    },
    {
     "data": {
      "text/plain": [
       "array([1.00502678])"
      ]
     },
     "execution_count": 6,
     "metadata": {},
     "output_type": "execute_result"
    }
   ],
   "source": [
    "import numpy as np\n",
    "\n",
    "def relu(x):\n",
    "    x = x.copy()\n",
    "    x[x <= 0] = 0\n",
    "    return x\n",
    "\n",
    "\n",
    "class ReLUNeuron:\n",
    "    def __init__(self, inputs) -> None:\n",
    "        self.weights = np.random.random((1, inputs))\n",
    "\n",
    "    def forward(self, x):\n",
    "        return relu(self.weights @ x)\n",
    "\n",
    "\n",
    "n = ReLUNeuron(2)\n",
    "print(n.weights)\n",
    "n.forward(np.array([1, 1]))"
   ]
  },
  {
   "cell_type": "markdown",
   "metadata": {},
   "source": [
    "**Sigmoid**"
   ]
  },
  {
   "cell_type": "markdown",
   "metadata": {},
   "source": [
    "<center>\n",
    "<img src=\"data/sigmoid.png\" width=\"600\" height=\"400\">\n",
    "</center>"
   ]
  },
  {
   "cell_type": "code",
   "execution_count": 8,
   "metadata": {},
   "outputs": [
    {
     "name": "stdout",
     "output_type": "stream",
     "text": [
      "[[0.3170711  0.86598411]]\n"
     ]
    },
    {
     "data": {
      "text/plain": [
       "array([0.76549669])"
      ]
     },
     "execution_count": 8,
     "metadata": {},
     "output_type": "execute_result"
    }
   ],
   "source": [
    "import numpy as np\n",
    "\n",
    "def sigmoid(x):\n",
    "    return 1 / (1 + np.exp(-x))\n",
    "\n",
    "\n",
    "class SigmoidNeuron:\n",
    "    def __init__(self, inputs) -> None:\n",
    "        self.weights = np.random.random((1, inputs))\n",
    "\n",
    "    def forward(self, x):\n",
    "        return sigmoid(self.weights @ x)\n",
    "\n",
    "\n",
    "n = SigmoidNeuron(2)\n",
    "print(n.weights)\n",
    "n.forward(np.array([1, 1]))"
   ]
  },
  {
   "cell_type": "code",
   "execution_count": 9,
   "metadata": {},
   "outputs": [
    {
     "name": "stdout",
     "output_type": "stream",
     "text": [
      "[[0.72576796 0.63560252]]\n"
     ]
    },
    {
     "data": {
      "text/plain": [
       "array([1.36137048])"
      ]
     },
     "execution_count": 9,
     "metadata": {},
     "output_type": "execute_result"
    }
   ],
   "source": [
    "import numpy as np\n",
    "\n",
    "def linear(x):\n",
    "    return x\n",
    "\n",
    "\n",
    "class LinNeuron:\n",
    "    def __init__(self, inputs) -> None:\n",
    "        self.weights = np.random.random((1, inputs))\n",
    "\n",
    "    def forward(self, x):\n",
    "        return linear(self.weights @ x)\n",
    "\n",
    "\n",
    "n = LinNeuron(2)\n",
    "print(n.weights)\n",
    "n.forward(np.array([1, 1]))"
   ]
  },
  {
   "cell_type": "markdown",
   "metadata": {},
   "source": [
    "## Нейросеть"
   ]
  },
  {
   "cell_type": "markdown",
   "metadata": {},
   "source": [
    "<center>\n",
    "<img src=\"data/image001.png\" width=\"600\" height=\"400\">\n",
    "</center>"
   ]
  },
  {
   "cell_type": "markdown",
   "metadata": {},
   "source": [
    "<center>\n",
    "<img src=\"data/net.png\" width=\"600\" height=\"400\">\n",
    "</center>"
   ]
  },
  {
   "cell_type": "code",
   "execution_count": 12,
   "metadata": {},
   "outputs": [],
   "source": [
    "import torch\n",
    "import torch.nn as nn\n",
    " \n",
    "class Net(nn.Module):\n",
    "    def __init__(self):\n",
    "        super().__init__()\n",
    "        self.hidden = nn.Linear(60, 180)\n",
    "        self.relu = nn.ReLU()\n",
    "        self.output = nn.Linear(180, 1)\n",
    "        self.sigmoid = nn.Sigmoid()\n",
    " \n",
    "    def forward(self, x):\n",
    "        x = self.relu(self.hidden(x))\n",
    "        x = self.sigmoid(self.output(x))\n",
    "        return x"
   ]
  },
  {
   "cell_type": "code",
   "execution_count": 13,
   "metadata": {},
   "outputs": [
    {
     "data": {
      "text/plain": [
       "tensor([0.4654], grad_fn=<SigmoidBackward0>)"
      ]
     },
     "execution_count": 13,
     "metadata": {},
     "output_type": "execute_result"
    }
   ],
   "source": [
    "net = Net()\n",
    "net(torch.randn(60))"
   ]
  },
  {
   "cell_type": "markdown",
   "metadata": {},
   "source": [
    "## Полезные ссылки\n",
    "- [Softmax](https://machinelearningmastery.com/softmax-activation-function-with-python/)\n",
    "- [Сверточные нейронные сети](https://neurohive.io/ru/osnovy-data-science/glubokaya-svertochnaja-nejronnaja-set/)\n",
    "- Рекуррентные нейронные сети"
   ]
  }
 ],
 "metadata": {
  "kernelspec": {
   "display_name": "base",
   "language": "python",
   "name": "python3"
  },
  "language_info": {
   "codemirror_mode": {
    "name": "ipython",
    "version": 3
   },
   "file_extension": ".py",
   "mimetype": "text/x-python",
   "name": "python",
   "nbconvert_exporter": "python",
   "pygments_lexer": "ipython3",
   "version": "3.8.13"
  }
 },
 "nbformat": 4,
 "nbformat_minor": 2
}

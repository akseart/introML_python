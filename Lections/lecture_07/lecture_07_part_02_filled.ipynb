{
 "cells": [
  {
   "cell_type": "markdown",
   "metadata": {},
   "source": [
    "# Введение в методы анализа данных. Язык Python."
   ]
  },
  {
   "cell_type": "markdown",
   "metadata": {},
   "source": [
    "## Лекция 7. Примеры ООП.\n",
    "<br><br><br><br>\n",
    "__Аксентьев Артем (akseart@ya.ru)__\n",
    "\n",
    "__Ксемидов Борис (bworkboris@yandex.ru)__\n",
    "<br>"
   ]
  },
  {
   "cell_type": "markdown",
   "metadata": {},
   "source": [
    "**Задание. Реализовать функцию для шифрования файла.**"
   ]
  },
  {
   "cell_type": "code",
   "execution_count": 29,
   "metadata": {},
   "outputs": [
    {
     "data": {
      "text/plain": [
       "1"
      ]
     },
     "execution_count": 29,
     "metadata": {},
     "output_type": "execute_result"
    }
   ],
   "source": [
    "import string\n",
    "\n",
    "alphabet = string.ascii_letters\n",
    "(alphabet.index('Z') + 2) % len(alphabet)"
   ]
  },
  {
   "cell_type": "code",
   "execution_count": 28,
   "metadata": {},
   "outputs": [
    {
     "data": {
      "text/plain": [
       "'abcdefghijklmnopqrstuvwxyzABCDEFGHIJKLMNOPQRSTUVWXYZ'"
      ]
     },
     "execution_count": 28,
     "metadata": {},
     "output_type": "execute_result"
    }
   ],
   "source": [
    "alphabet"
   ]
  },
  {
   "cell_type": "code",
   "execution_count": 27,
   "metadata": {},
   "outputs": [
    {
     "ename": "IndexError",
     "evalue": "string index out of range",
     "output_type": "error",
     "traceback": [
      "\u001b[0;31m---------------------------------------------------------------------------\u001b[0m",
      "\u001b[0;31mIndexError\u001b[0m                                Traceback (most recent call last)",
      "\u001b[1;32m/Users/donsangre/PycharmProjects/intro_ML_Python_2022/additional_lectures/Lecture_05/Lecture_05.ipynb Ячейка 15\u001b[0m in \u001b[0;36m<cell line: 1>\u001b[0;34m()\u001b[0m\n\u001b[0;32m----> <a href='vscode-notebook-cell:/Users/donsangre/PycharmProjects/intro_ML_Python_2022/additional_lectures/Lecture_05/Lecture_05.ipynb#X25sZmlsZQ%3D%3D?line=0'>1</a>\u001b[0m string\u001b[39m.\u001b[39;49mascii_letters[\u001b[39m53\u001b[39;49m]\n",
      "\u001b[0;31mIndexError\u001b[0m: string index out of range"
     ]
    }
   ],
   "source": [
    "string.ascii_letters[53]"
   ]
  },
  {
   "cell_type": "code",
   "execution_count": 40,
   "metadata": {},
   "outputs": [],
   "source": [
    "import string\n",
    "\n",
    "\n",
    "# Входные данные - str, str, int.\n",
    "def cesar(text, alphabet, offset):\n",
    "    alphabet_len = len(alphabet)\n",
    "    encoded_text = \"\"\n",
    "\n",
    "    for c in text:\n",
    "        idx_c = alphabet.index(c)\n",
    "        offset_idx = (idx_c + offset) % alphabet_len\n",
    "        encoded_text += alphabet[offset_idx]\n",
    "\n",
    "    return encoded_text\n",
    "\n",
    "# Выходные данные - str.\n",
    "\n",
    "\n",
    "# Входные данные - str, str, str.\n",
    "\n",
    "def vigener(text, alphabet, passkey):\n",
    "    alphabet_len = len(alphabet)\n",
    "    encoded_text = \"\"\n",
    "    passkey = passkey * (len(text) // len(passkey) + 1)\n",
    "\n",
    "    for c_text, c_passkey in zip(text, passkey):\n",
    "        idx_c = alphabet.index(c_text)\n",
    "        idx_c_passkey = alphabet.index(c_passkey)\n",
    "        offset_idx = (idx_c + idx_c_passkey) % alphabet_len\n",
    "        encoded_text += alphabet[offset_idx]\n",
    "\n",
    "    return encoded_text\n",
    "\n",
    "# Выходные данные - str.\n",
    "\n",
    "\n",
    "# Входные данные - str, str, str, str, int, str.\n",
    "\n",
    "def encode(path, out_path, alphabet, chipher, offset=None, passkey=None):\n",
    "    with open(path) as file:\n",
    "        text = file.read()\n",
    "\n",
    "    if chipher == \"cesar\":\n",
    "        encoded_text = cesar(text, alphabet, offset)\n",
    "    elif chipher == \"vigener\":\n",
    "        encoded_text = vigener(text, alphabet, passkey)\n",
    "\n",
    "    with open(out_path, \"w\") as file:\n",
    "        file.write(encoded_text)\n",
    "\n",
    "# Выходные данные - None."
   ]
  },
  {
   "cell_type": "code",
   "execution_count": 41,
   "metadata": {},
   "outputs": [],
   "source": [
    "encode(\"example.txt\", \"encoded.txt\", string.ascii_letters, \"cesar\", offset=2)"
   ]
  },
  {
   "cell_type": "code",
   "execution_count": 44,
   "metadata": {},
   "outputs": [],
   "source": [
    "from abc import ABC, abstractmethod\n",
    "\n",
    "class Coder(ABC):\n",
    "    @abstractmethod\n",
    "    def encode(self, text):\n",
    "        pass\n",
    "\n",
    "class Cesar(Coder):\n",
    "    def __init__(self, alphabet, offset):\n",
    "        self.__alphabet = alphabet\n",
    "        self.__offset = offset\n",
    "\n",
    "    def encode(self, text):\n",
    "        alphabet_len = len(self.__alphabet)\n",
    "        encoded_text = \"\"\n",
    "\n",
    "        for c in text:\n",
    "            idx_c = self.__alphabet.index(c)\n",
    "            offset_idx = (idx_c + self.__offset) % alphabet_len\n",
    "            encoded_text += self.__alphabet[offset_idx]\n",
    "\n",
    "        return encoded_text\n",
    "\n",
    "\n",
    "class Vigener(Coder):\n",
    "    def __init__(self, alphabet, passkey):\n",
    "        self.__alphabet = alphabet\n",
    "        self.__passkey = passkey\n",
    "\n",
    "    def encode(self, text):\n",
    "        alphabet_len = len(self.__alphabet)\n",
    "        encoded_text = \"\"\n",
    "        passkey = self.__passkey * (len(text) // len(self.__passkey) + 1)\n",
    "\n",
    "        for c_text, c_passkey in zip(text, passkey):\n",
    "            idx_c = self.__alphabet.index(c_text)\n",
    "            idx_c_passkey = self.__alphabet.index(c_passkey)\n",
    "            offset_idx = (idx_c + idx_c_passkey) % alphabet_len\n",
    "            encoded_text += self.__alphabet[offset_idx]\n",
    "\n",
    "        return encoded_text\n",
    "\n",
    "def encode(path, out_path, encoder):\n",
    "    with open(path) as file:\n",
    "        text = file.read()\n",
    "\n",
    "    encoded_text = encoder.encode(text)\n",
    "\n",
    "    with open(out_path, \"w\") as file:\n",
    "        file.write(encoded_text)"
   ]
  },
  {
   "cell_type": "code",
   "execution_count": 45,
   "metadata": {},
   "outputs": [],
   "source": [
    "encoder = Cesar(string.ascii_letters, 2)\n",
    "\n",
    "encode(\"example.txt\", \"encoded.txt\", encoder)"
   ]
  },
  {
   "cell_type": "markdown",
   "metadata": {},
   "source": [
    "**Задание.** Реализовать вектор (из ДЗ)"
   ]
  },
  {
   "cell_type": "code",
   "execution_count": null,
   "metadata": {},
   "outputs": [],
   "source": [
    "class Vector:\n",
    "    def __init__(self, vec):\n",
    "        if not all(map(lambda x: isinstance(x, int), vec)):\n",
    "            raise TypeError(\"Список должен состоять из целых чисел.\")\n",
    "            \n",
    "        self.__vec = vec.copy()\n",
    "        self.__shape = len(vec)\n",
    "\n",
    "    def shape(self):\n",
    "        \"\"\"Размер (длина вектора)\n",
    "        \"\"\"\n",
    "        return self.__shape\n",
    "\n",
    "    def __add__(self, other):\n",
    "        \"\"\"Сложение двух векторов(поэлементное) \n",
    "\n",
    "        Пример:\n",
    "        [1, 2, 3] + [4, 5, 6] = [5, 7, 9]\n",
    "\n",
    "        Args:\n",
    "            other (Vector): второй вектор для сложения\n",
    "        \"\"\"\n",
    "        if not isinstance(other, Vector):\n",
    "            raise TypeError(\"Аргумент должен быть типа Vector.\")\n",
    "\n",
    "        if len(self.__vec) != len(other.__vec):\n",
    "            raise ArithmeticError(\"Размерность векторов должна совпадать.\")\n",
    "\n",
    "        result = []\n",
    "        for a, b in zip(self.__vec, other.__vec):\n",
    "            result.append(a + b)\n",
    "\n",
    "        return Vector(result)\n",
    "        \n",
    "\n",
    "    def mul(self, other):\n",
    "        \"\"\" Умножение двух векторов(поэлементное)\n",
    "\n",
    "\n",
    "        Args:\n",
    "            other (Vector): второй вектор для сложения\n",
    "        \"\"\"\n",
    "        if not isinstance(other, Vector):\n",
    "            raise TypeError(\"Аргумент должен быть типа Vector.\")\n",
    "\n",
    "        if len(self.__vec) != len(other.__vec):\n",
    "            raise ArithmeticError(\"Размерность векторов должна совпадать.\")\n",
    "\n",
    "        result = []\n",
    "        for a, b in zip(self.__vec, other.__vec):\n",
    "            result.append(a * b)\n",
    "\n",
    "        return Vector(result)\n",
    "\n",
    "    def __str__(self):\n",
    "        \"\"\"Строковое представление вектора.\n",
    "\n",
    "        Returns:\n",
    "            str: вектор в виде строки(выведенный красиво)\n",
    "        \"\"\"\n",
    "        return f\"Vector({str(self.__vec)})\"\n",
    "\n",
    "    def __repr__(self):\n",
    "        \"\"\"Представление вектора.\n",
    "\n",
    "        Returns:\n",
    "            str: вектор в виде строки\n",
    "        \"\"\"\n",
    "        return str(self)\n",
    "\n",
    "    def setitem(self, key, value):\n",
    "        \"\"\"Установить  значение value по индексу key\n",
    "\n",
    "        Args:\n",
    "            key (int): индекс для установки значения\n",
    "            value (int): Значение\n",
    "        \"\"\"\n",
    "        if key > len(self.__vec) - 1:\n",
    "            raise IndexError(\"Такого элемента нет.\")\n",
    "\n",
    "        self.__vec[key] = value\n",
    "\n",
    "    def getitem(self, item):\n",
    "        \"\"\"Получить значение по индексу\n",
    "\n",
    "        Args:\n",
    "            item (int): индекс\n",
    "        \"\"\"\n",
    "        if item > len(self.__vec) - 1:\n",
    "            raise IndexError(\"Такого элемента нет.\")\n",
    "\n",
    "        return self.__vec[item]\n"
   ]
  },
  {
   "cell_type": "markdown",
   "metadata": {},
   "source": [
    "**Задание.**\n",
    "\n",
    "Реализовать чат-бота, отвечающий на заранее подготовленные фразы. \n",
    "\n",
    "Допускается создание любого кол-ва классов для решения задания. \n",
    "\n",
    "Спроектируйте решение таким образом, чтобы Ваша реализация была легко модифицируемой.\n",
    "\n",
    "Примеры.\n",
    "\n",
    "Запрос: Привет.<br>\n",
    "Ответ: Привет, друг.\n",
    "\n",
    "Запрос: Как дела?<br>\n",
    "Ответ: Всё хорошо."
   ]
  },
  {
   "cell_type": "code",
   "execution_count": null,
   "metadata": {},
   "outputs": [],
   "source": [
    "def chat_bot(text):\n",
    "    answer_question = {\n",
    "        'Привет': 'Привет, друг',\n",
    "        'Как дела?': 'Все хорошо',\n",
    "        'Что делаешь?': 'Разговариваю с тобой'\n",
    "    }\n",
    "    if text in answer_question:\n",
    "        return answer_question[text]\n",
    "    else:\n",
    "        return \"Я Вас не понимаю\"\n"
   ]
  },
  {
   "cell_type": "code",
   "execution_count": null,
   "metadata": {},
   "outputs": [
    {
     "name": "stdout",
     "output_type": "stream",
     "text": [
      "Я Вас не понимаю\n",
      "Привет, друг\n",
      "Привет, друг\n",
      "Все хорошо\n",
      "Все хорошо\n",
      "Разговариваю с тобой\n",
      "Разговариваю с тобой\n"
     ]
    }
   ],
   "source": [
    "while True:\n",
    "    text = input('Введите Ваше сообщение: ')\n",
    "    if text == 'q':\n",
    "        break\n",
    "    print(chat_bot(text))\n"
   ]
  },
  {
   "cell_type": "code",
   "execution_count": null,
   "metadata": {},
   "outputs": [],
   "source": [
    "import pandas"
   ]
  },
  {
   "cell_type": "code",
   "execution_count": null,
   "metadata": {},
   "outputs": [],
   "source": [
    "def hello(text):\n",
    "    if text.lower() == 'привет':\n",
    "        return 'Привет, друг'\n",
    "    else:\n",
    "        return None\n",
    "\n",
    "def kak_dela(text):\n",
    "    if text == 'Как дела?':\n",
    "        return 'Все хорошо'\n",
    "    else:\n",
    "        return None\n",
    "\n",
    "def other(text):\n",
    "    return \"Я Вас не понимаю\"\n",
    "\n",
    "def chto_d(text):\n",
    "    return \"Играю\"\n",
    "\n",
    "handlers = [hello, chto_d, kak_dela, other]"
   ]
  },
  {
   "cell_type": "code",
   "execution_count": null,
   "metadata": {},
   "outputs": [
    {
     "name": "stdout",
     "output_type": "stream",
     "text": [
      "Играю\n",
      "Привет, друг\n",
      "Привет, друг\n",
      "Играю\n",
      "Играю\n"
     ]
    }
   ],
   "source": [
    "while True:\n",
    "    text = input('Введите Ваше сообщение: ')\n",
    "    if text == 'q':\n",
    "        break\n",
    "    for handler in handlers:\n",
    "        result = handler(text)\n",
    "        if result is not None:\n",
    "            print(result)\n",
    "            break"
   ]
  },
  {
   "cell_type": "code",
   "execution_count": null,
   "metadata": {},
   "outputs": [
    {
     "name": "stdout",
     "output_type": "stream",
     "text": [
      "Chain: Monkey > Squirrel > Dog\n",
      "\n",
      "Client: Who wants a Nut?\n",
      "  Squirrel: I'll eat the Nut\n",
      "Client: Who wants a Banana?\n",
      "  Monkey: I'll eat the Banana\n",
      "Client: Who wants a Cup of coffee?\n",
      "  Cup of coffee was left untouched.\n",
      "\n",
      "Subchain: Squirrel > Dog\n",
      "\n",
      "Client: Who wants a Nut?\n",
      "  Squirrel: I'll eat the Nut\n",
      "Client: Who wants a Banana?\n",
      "  Banana was left untouched.\n",
      "Client: Who wants a Cup of coffee?\n",
      "  Cup of coffee was left untouched."
     ]
    }
   ],
   "source": [
    "from abc import ABC, abstractmethod\n",
    "from typing import Any, Optional\n",
    "\n",
    "\n",
    "class Handler(ABC):\n",
    "    \"\"\"\n",
    "    Интерфейс Обработчика объявляет метод построения цепочки обработчиков. Он\n",
    "    также объявляет метод для выполнения запроса.\n",
    "    \"\"\"\n",
    "\n",
    "    @abstractmethod\n",
    "    def set_next(self, handler):\n",
    "        pass\n",
    "\n",
    "    @abstractmethod\n",
    "    def handle(self, request):\n",
    "        pass\n",
    "\n",
    "\n",
    "class AbstractHandler(Handler):\n",
    "    \"\"\"\n",
    "    Поведение цепочки по умолчанию может быть реализовано внутри базового класса\n",
    "    обработчика.\n",
    "    \"\"\"\n",
    "\n",
    "    _next_handler = None\n",
    "\n",
    "    def set_next(self, handler):\n",
    "        self._next_handler = handler\n",
    "        # Возврат обработчика отсюда позволит связать обработчики простым\n",
    "        # способом, вот так:\n",
    "        # monkey.set_next(squirrel).set_next(dog)\n",
    "        return handler\n",
    "\n",
    "    @abstractmethod\n",
    "    def handle(self, request):\n",
    "        if self._next_handler:\n",
    "            return self._next_handler.handle(request)\n",
    "\n",
    "        return None\n",
    "\n",
    "\n",
    "\"\"\"\n",
    "Все Конкретные Обработчики либо обрабатывают запрос, либо передают его\n",
    "следующему обработчику в цепочке.\n",
    "\"\"\"\n",
    "\n",
    "\n",
    "class MonkeyHandler(AbstractHandler):\n",
    "    def handle(self, request: Any) -> str:\n",
    "        if request == \"Banana\":\n",
    "            return f\"Monkey: I'll eat the {request}\"\n",
    "        else:\n",
    "            return super().handle(request)\n",
    "\n",
    "\n",
    "class SquirrelHandler(AbstractHandler):\n",
    "    def handle(self, request: Any) -> str:\n",
    "        if request == \"Nut\":\n",
    "            return f\"Squirrel: I'll eat the {request}\"\n",
    "        else:\n",
    "            return super().handle(request)\n",
    "\n",
    "\n",
    "class DogHandler(AbstractHandler):\n",
    "    def handle(self, request: Any) -> str:\n",
    "        if request == \"MeatBall\":\n",
    "            return f\"Dog: I'll eat the {request}\"\n",
    "        else:\n",
    "            return super().handle(request)\n",
    "\n",
    "\n",
    "def client_code(handler: Handler) -> None:\n",
    "    \"\"\"\n",
    "    Обычно клиентский код приспособлен для работы с единственным обработчиком. В\n",
    "    большинстве случаев клиенту даже неизвестно, что этот обработчик является\n",
    "    частью цепочки.\n",
    "    \"\"\"\n",
    "\n",
    "    for food in [\"Nut\", \"Banana\", \"Cup of coffee\"]:\n",
    "        print(f\"\\nClient: Who wants a {food}?\")\n",
    "        result = handler.handle(food)\n",
    "        if result:\n",
    "            print(f\"  {result}\", end=\"\")\n",
    "        else:\n",
    "            print(f\"  {food} was left untouched.\", end=\"\")\n",
    "\n",
    "\n",
    "if __name__ == \"__main__\":\n",
    "    monkey = MonkeyHandler()\n",
    "    squirrel = SquirrelHandler()\n",
    "    dog = DogHandler()\n",
    "\n",
    "    monkey.set_next(SquirrelHandler()).set_next(dog)\n",
    "\n",
    "    # Клиент должен иметь возможность отправлять запрос любому обработчику, а не\n",
    "    # только первому в цепочке.\n",
    "    print(\"Chain: Monkey > Squirrel > Dog\")\n",
    "    client_code(monkey)\n",
    "    print(\"\\n\")\n",
    "\n",
    "    print(\"Subchain: Squirrel > Dog\")\n",
    "    client_code(squirrel)"
   ]
  },
  {
   "cell_type": "code",
   "execution_count": null,
   "metadata": {},
   "outputs": [],
   "source": [
    "from abc import ABC, abstractmethod\n",
    "class Handler(ABC):\n",
    "    @abstractmethod\n",
    "    def set_next(self, handler):\n",
    "        pass\n",
    "    \n",
    "    @abstractmethod\n",
    "    def handle(self, text):\n",
    "        pass\n",
    "\n",
    "class AbstractHandler(Handler):\n",
    "    _next_handler = None\n",
    "    def set_next(self, handler):\n",
    "        \"\"\"Устанавливаем следующий обработчик\n",
    "        \"\"\"\n",
    "        self._next_handler = handler\n",
    "        return handler\n",
    "    \n",
    "    @abstractmethod\n",
    "    def handle(self, text):\n",
    "        if self._next_handler:\n",
    "            return self._next_handler.handle(text)\n",
    "\n",
    "        return None\n",
    "\n",
    "class HelloHandler(AbstractHandler):\n",
    "    def __init__(self, num):\n",
    "        self._num = num\n",
    "\n",
    "    def handle(self, text):\n",
    "        if text.lower() == 'привет':\n",
    "            return f'Привет, друг {self._num}'\n",
    "        else:\n",
    "            return super().handle(text)\n",
    "\n",
    "class KakDelaHandler(AbstractHandler):\n",
    "    def handle(self, text):\n",
    "        if text.lower() == 'как дела?':\n",
    "            return 'Всё хорошо'\n",
    "        else:\n",
    "            return super().handle(text)"
   ]
  },
  {
   "cell_type": "code",
   "execution_count": null,
   "metadata": {},
   "outputs": [
    {
     "data": {
      "text/plain": [
       "<__main__.KakDelaHandler at 0x11846f9d0>"
      ]
     },
     "metadata": {},
     "output_type": "display_data"
    }
   ],
   "source": [
    "KakDelaHandler()"
   ]
  },
  {
   "cell_type": "code",
   "execution_count": null,
   "metadata": {},
   "outputs": [
    {
     "name": "stdout",
     "output_type": "stream",
     "text": [
      "1\n",
      "Привет, друг\n",
      "1\n",
      "Всё хорошо\n"
     ]
    }
   ],
   "source": [
    "start_handle = HelloHandler()\n",
    "start_handle.set_next(KakDelaHandler())\n",
    "\n",
    "while True:\n",
    "    text = input('Введите Ваше сообщение: ')\n",
    "    if text == 'q':\n",
    "        break\n",
    "    print(start_handle.handle(text))"
   ]
  }
 ],
 "metadata": {
  "kernelspec": {
   "display_name": "Python 3.8.13 ('base')",
   "language": "python",
   "name": "python3"
  },
  "language_info": {
   "codemirror_mode": {
    "name": "ipython",
    "version": 3
   },
   "file_extension": ".py",
   "mimetype": "text/x-python",
   "name": "python",
   "nbconvert_exporter": "python",
   "pygments_lexer": "ipython3",
   "version": "3.8.13"
  },
  "orig_nbformat": 4,
  "vscode": {
   "interpreter": {
    "hash": "e7cb1b9ae4d417fedf7f40a8eec98f7cfbd359e096bd857395a915f4609834ce"
   }
  }
 },
 "nbformat": 4,
 "nbformat_minor": 2
}

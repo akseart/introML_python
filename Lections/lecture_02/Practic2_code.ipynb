{
 "cells": [
  {
   "cell_type": "markdown",
   "id": "e1c02ece",
   "metadata": {},
   "source": [
    "# Введение в методы анализа данных. Язык Python."
   ]
  },
  {
   "cell_type": "markdown",
   "id": "fe4f0986",
   "metadata": {},
   "source": [
    "## Лекция 2: Решение распространенных задач на Python  \n"
   ]
  },
  {
   "cell_type": "markdown",
   "id": "749e4b11",
   "metadata": {},
   "source": [
    "Аксентьев Артем (akseart@ya.ru)\n",
    "\n",
    "Ксемидов Борис (bworkboris@yandex.ru)"
   ]
  },
  {
   "cell_type": "markdown",
   "metadata": {},
   "source": [
    "# Задание 1.\n",
    "Вывести на экран число, а также сумму и произведение его цифр.\n"
   ]
  },
  {
   "cell_type": "code",
   "execution_count": 3,
   "outputs": [
    {
     "name": "stdout",
     "output_type": "stream",
     "text": [
      "120 3 0\n"
     ]
    }
   ],
   "source": [
    "d = 120\n",
    "sum_num = 0\n",
    "mul_num = 1\n",
    "for i in map(int, str(d)):\n",
    "    sum_num += i\n",
    "    mul_num *= i\n",
    "\n",
    "print(d, sum_num, mul_num)"
   ],
   "metadata": {
    "collapsed": false,
    "ExecuteTime": {
     "end_time": "2024-03-09T15:39:49.595912Z",
     "start_time": "2024-03-09T15:39:49.584297Z"
    }
   }
  },
  {
   "cell_type": "code",
   "execution_count": 7,
   "outputs": [
    {
     "name": "stdout",
     "output_type": "stream",
     "text": [
      "120 3 0\n"
     ]
    }
   ],
   "source": [
    "d = 120\n",
    "d_old = d\n",
    "sum_num = 0\n",
    "mul_num = 1\n",
    "while d > 0:\n",
    "    num = d % 10\n",
    "    d = d // 10\n",
    "    sum_num += num\n",
    "    mul_num *= num\n",
    "\n",
    "print(d_old, sum_num, mul_num)"
   ],
   "metadata": {
    "collapsed": false,
    "ExecuteTime": {
     "end_time": "2024-03-09T15:41:56.539644Z",
     "start_time": "2024-03-09T15:41:56.519467Z"
    }
   }
  },
  {
   "cell_type": "markdown",
   "metadata": {},
   "source": [
    "# Задание 2.\n",
    " Угадать число, которое загадал пользователь, используя только инструкцию if-else и циклы. Число можно загадывать в диапазоне от 1 до 50"
   ]
  },
  {
   "cell_type": "code",
   "execution_count": 10,
   "outputs": [
    {
     "name": "stdout",
     "output_type": "stream",
     "text": [
      "Это не то число\n",
      "Это не то число\n",
      "Это не то число\n",
      "Это не то число\n",
      "Это не то число\n",
      "Это не то число\n",
      "Это не то число\n",
      "Это не то число\n",
      "Это не то число\n",
      "Это не то число\n",
      "Это не то число\n",
      "Это не то число\n",
      "Это не то число\n",
      "Это не то число\n",
      "Это не то число\n",
      "Это не то число\n",
      "Это не то число\n",
      "Это не то число\n",
      "Это не то число\n",
      "Это не то число\n",
      "Это не то число\n",
      "Это не то число\n",
      "Это не то число\n",
      "Это не то число\n",
      "Это не то число\n",
      "Это не то число\n",
      "Это не то число\n",
      "Это не то число\n",
      "Это не то число\n",
      "Это не то число\n",
      "Это не то число\n",
      "Это не то число\n",
      "Это не то число\n",
      "Это не то число\n",
      "Это не то число\n",
      "Это не то число\n",
      "Это не то число\n",
      "Это не то число\n",
      "Это не то число\n",
      "Это не то число\n",
      "Это не то число\n",
      "Это не то число\n",
      "Это не то число\n",
      "Это не то число\n",
      "Это не то число\n",
      "Это не то число\n",
      "Это не то число\n",
      "Это не то число\n",
      "Ура, число найдено\n"
     ]
    }
   ],
   "source": [
    "d = 49\n",
    "for i in range(1, 51):\n",
    "    if i == d:\n",
    "        print(\"Ура, число найдено\")\n",
    "        break\n",
    "    print('Это не то число')"
   ],
   "metadata": {
    "collapsed": false,
    "ExecuteTime": {
     "end_time": "2024-03-09T15:44:09.268658Z",
     "start_time": "2024-03-09T15:44:09.248189Z"
    }
   }
  },
  {
   "cell_type": "code",
   "execution_count": 12,
   "outputs": [
    {
     "name": "stdout",
     "output_type": "stream",
     "text": [
      "25 50\n",
      "37 50\n",
      "43 50\n",
      "46 50\n",
      "48 50\n",
      "Ура число найдено\n"
     ]
    }
   ],
   "source": [
    "d = 49\n",
    "start, stop = 1, 50\n",
    "while abs(start - stop) != 1:\n",
    "    if d > (stop - start) // 2 + start:\n",
    "        start = (stop - start) // 2 + start\n",
    "    elif d == (stop - start) // 2 + start:\n",
    "        print('Ура число найдено')\n",
    "        break\n",
    "    else:\n",
    "        stop = (stop - start) // 2 + start\n",
    "    print(start, stop)"
   ],
   "metadata": {
    "collapsed": false,
    "ExecuteTime": {
     "end_time": "2024-03-09T15:48:07.610073Z",
     "start_time": "2024-03-09T15:48:07.585807Z"
    }
   }
  },
  {
   "cell_type": "markdown",
   "metadata": {},
   "source": [
    "# Задание 3.\n",
    " Подсчитать процентное соотношение строчных, прописных букв и цифр (методы .isupper(), .islower(), .isdigit())"
   ]
  },
  {
   "cell_type": "code",
   "execution_count": 17,
   "outputs": [
    {
     "data": {
      "text/plain": "(4, 4, 3)"
     },
     "execution_count": 17,
     "metadata": {},
     "output_type": "execute_result"
    }
   ],
   "source": [
    "'a'.isdigit()\n",
    "\n",
    "d = 'qwer123QWEE'\n",
    "lower, upper, digit = 0, 0, 0\n",
    "for i in d:\n",
    "    if i.islower():\n",
    "        lower += 1\n",
    "    elif i.isupper():\n",
    "        upper += 1\n",
    "    elif i.isdigit():\n",
    "        digit += 1\n",
    "    if ...:\n",
    "        ...\n",
    "\n",
    "lower, upper, digit"
   ],
   "metadata": {
    "collapsed": false,
    "ExecuteTime": {
     "end_time": "2024-03-09T15:51:19.214600Z",
     "start_time": "2024-03-09T15:51:19.203741Z"
    }
   }
  },
  {
   "cell_type": "markdown",
   "metadata": {},
   "source": [
    "# Задание 4.\n",
    " Вывести на экран ряд чисел Фибоначчи, состоящий из n элементов.\n",
    "\n",
    "Числа Фибоначчи – это элементы числовой последовательности\n",
    "0, 1, 1, 2, 3, 5, 8, 13, 21, 34, 55, 89, 144, …, в которой каждое последующее число равно сумме двух предыдущих."
   ]
  },
  {
   "cell_type": "code",
   "execution_count": 21,
   "outputs": [
    {
     "data": {
      "text/plain": "[0]"
     },
     "execution_count": 21,
     "metadata": {},
     "output_type": "execute_result"
    }
   ],
   "source": [
    "fib = [0, 1]\n",
    "n = 1\n",
    "for i in range(2, n):\n",
    "    fib.append(fib[-1]+fib[-2])\n",
    "\n",
    "fib[:n]"
   ],
   "metadata": {
    "collapsed": false,
    "ExecuteTime": {
     "end_time": "2024-03-09T15:54:31.526254Z",
     "start_time": "2024-03-09T15:54:31.508189Z"
    }
   }
  },
  {
   "cell_type": "markdown",
   "metadata": {},
   "source": [
    "# Задание 5.\n",
    " Вывести на экран n-е число Фибоначчи"
   ]
  },
  {
   "cell_type": "code",
   "execution_count": 34,
   "outputs": [
    {
     "data": {
      "text/plain": "26863810024485359386146727202142923967616609318986952340123175997617981700247881689338369654483356564191827856161443356312976673642210350324634850410377680367334151172899169723197082763985615764450078474174626"
     },
     "execution_count": 34,
     "metadata": {},
     "output_type": "execute_result"
    }
   ],
   "source": [
    "fib = [0, 1]\n",
    "n = 1_000\n",
    "for i in range(2, n):\n",
    "    fib.append(fib[-1]+fib[-2])\n",
    "\n",
    "fib[n-1]"
   ],
   "metadata": {
    "collapsed": false,
    "ExecuteTime": {
     "end_time": "2024-03-09T15:57:43.632038Z",
     "start_time": "2024-03-09T15:57:43.629164Z"
    }
   }
  },
  {
   "cell_type": "code",
   "execution_count": 66,
   "outputs": [
    {
     "data": {
      "text/plain": "26863810024485359386146727202142923967616609318986952340123175997617981700247881689338369654483356564191827856161443356312976673642210350324634850410377680367334151172899169723197082763985615764450078474174626"
     },
     "execution_count": 66,
     "metadata": {},
     "output_type": "execute_result"
    }
   ],
   "source": [
    "n_1, n_2 = 0, 1\n",
    "n = 1_000\n",
    "for i in range(2, n):\n",
    "    n_1, n_2 = n_2, n_1 + n_2\n",
    "    # fib.append(fib[-1]+fib[-2])\n",
    "\n",
    "n_2"
   ],
   "metadata": {
    "collapsed": false,
    "ExecuteTime": {
     "end_time": "2024-03-09T16:10:10.595389Z",
     "start_time": "2024-03-09T16:10:10.579674Z"
    }
   }
  },
  {
   "cell_type": "markdown",
   "metadata": {},
   "source": [
    "# Задание 6.\n",
    "Подсчитать количество положительных и отрицательных чисел в последовательности"
   ]
  },
  {
   "cell_type": "code",
   "execution_count": 37,
   "outputs": [
    {
     "data": {
      "text/plain": "(6, 1, 7, 7)"
     },
     "execution_count": 37,
     "metadata": {},
     "output_type": "execute_result"
    }
   ],
   "source": [
    "d = [1, 2, 3, 4, 5, -1, 0]\n",
    "pos, neg = 0, 0\n",
    "for i in d:\n",
    "    if i < 0:\n",
    "        neg += 1\n",
    "    elif i > 0:\n",
    "        pos += 1\n",
    "\n",
    "pos, neg, pos+neg, len(d)"
   ],
   "metadata": {
    "collapsed": false,
    "ExecuteTime": {
     "end_time": "2024-03-09T16:00:09.711403Z",
     "start_time": "2024-03-09T16:00:09.694188Z"
    }
   }
  },
  {
   "cell_type": "markdown",
   "metadata": {},
   "source": [
    "# Задание 7.\n",
    " Найти в массиве минимальный элемент и поменять его местами с последним"
   ]
  },
  {
   "cell_type": "code",
   "execution_count": 42,
   "outputs": [
    {
     "data": {
      "text/plain": "[4, 2, 3, 1]"
     },
     "execution_count": 42,
     "metadata": {},
     "output_type": "execute_result"
    }
   ],
   "source": [
    "a = [1, 2, 3, 4]  # [4, 2, 3, 1]\n",
    "\n",
    "a[-1], a[a.index(min(a))] = min(a), a[-1]\n",
    "\n",
    "# a_min = min(a)\n",
    "# pos_min = a.index(a_min)\n",
    "# a[pos_min] = a[-1]\n",
    "#\n",
    "# a[-1] = a_min\n",
    "\n",
    "a\n"
   ],
   "metadata": {
    "collapsed": false,
    "ExecuteTime": {
     "end_time": "2024-03-09T16:04:12.451871Z",
     "start_time": "2024-03-09T16:04:12.434412Z"
    }
   }
  },
  {
   "cell_type": "markdown",
   "metadata": {},
   "source": [
    "# Задание 8.\n",
    "Найти подстроку в тексте"
   ]
  },
  {
   "cell_type": "code",
   "execution_count": 43,
   "outputs": [
    {
     "data": {
      "text/plain": "True"
     },
     "execution_count": 43,
     "metadata": {},
     "output_type": "execute_result"
    }
   ],
   "source": [
    "'qwe' in 'QWEqweQWE'"
   ],
   "metadata": {
    "collapsed": false,
    "ExecuteTime": {
     "end_time": "2024-03-09T16:04:43.082214Z",
     "start_time": "2024-03-09T16:04:43.064935Z"
    }
   }
  },
  {
   "cell_type": "code",
   "execution_count": 64,
   "outputs": [],
   "source": [
    "sub_str, full_str = 'qwe', 'QWEqwe'"
   ],
   "metadata": {
    "collapsed": false,
    "ExecuteTime": {
     "end_time": "2024-03-09T16:09:15.704632Z",
     "start_time": "2024-03-09T16:09:15.687583Z"
    }
   }
  },
  {
   "cell_type": "code",
   "execution_count": 46,
   "outputs": [
    {
     "data": {
      "text/plain": "3"
     },
     "execution_count": 46,
     "metadata": {},
     "output_type": "execute_result"
    }
   ],
   "source": [
    "full_str.index(sub_str)"
   ],
   "metadata": {
    "collapsed": false,
    "ExecuteTime": {
     "end_time": "2024-03-09T16:05:34.670571Z",
     "start_time": "2024-03-09T16:05:34.653324Z"
    }
   }
  },
  {
   "cell_type": "code",
   "execution_count": 65,
   "outputs": [
    {
     "name": "stdout",
     "output_type": "stream",
     "text": [
      "3\n"
     ]
    }
   ],
   "source": [
    "for i in range(len(full_str) - len(sub_str) + 1):\n",
    "    if full_str[i:i+len(sub_str)] == sub_str:\n",
    "        print(i)\n",
    "        break\n",
    "else:\n",
    "    print('Не найдено')"
   ],
   "metadata": {
    "collapsed": false,
    "ExecuteTime": {
     "end_time": "2024-03-09T16:09:16.593167Z",
     "start_time": "2024-03-09T16:09:16.579863Z"
    }
   }
  },
  {
   "cell_type": "markdown",
   "metadata": {},
   "source": [
    "# Задание 9\n",
    "\n",
    "Зашифровать файл с помощью шифра Цезаря\n",
    "\n",
    "Шифр Цезаря — шифр, в котором каждый символ в тексте заменяется символом, находящимся на некотором постоянном числе позиций левее или правее него в алфавите. Например, в шифре со сдвигом вправо на 3, А была бы заменена на Г, Б станет Д, и так далее."
   ]
  },
  {
   "cell_type": "code",
   "execution_count": 75,
   "outputs": [
    {
     "data": {
      "text/plain": "'KHOOR ZRUOGCDBC ПРИВЕТ МИР'"
     },
     "execution_count": 75,
     "metadata": {},
     "output_type": "execute_result"
    }
   ],
   "source": [
    "in_str = 'HELLO WORLDZAYZ ПРИВЕТ МИР'\n",
    "alphabet=['A', 'B', 'C', 'D', 'E', 'F', 'G', 'H', 'I', 'J', 'K', 'L', 'M', 'N', 'O', 'P', 'Q', 'R', 'S', 'T', 'U', 'V', 'W', 'X', 'Y', 'Z']\n",
    "\n",
    "out_str = ''\n",
    "key = 3\n",
    "for char in in_str:\n",
    "    if char in alphabet:\n",
    "        out_str += alphabet[(alphabet.index(char) + key) % len(alphabet)]\n",
    "    else:\n",
    "        out_str += char\n",
    "\n",
    "out_str"
   ],
   "metadata": {
    "collapsed": false,
    "ExecuteTime": {
     "end_time": "2024-03-09T16:15:52.195864Z",
     "start_time": "2024-03-09T16:15:52.181480Z"
    }
   }
  },
  {
   "cell_type": "code",
   "execution_count": 79,
   "outputs": [
    {
     "data": {
      "text/plain": "(97, '{')"
     },
     "execution_count": 79,
     "metadata": {},
     "output_type": "execute_result"
    }
   ],
   "source": [
    "ord('a'), chr(123)"
   ],
   "metadata": {
    "collapsed": false,
    "ExecuteTime": {
     "end_time": "2024-03-09T16:16:41.241291Z",
     "start_time": "2024-03-09T16:16:41.222587Z"
    }
   }
  },
  {
   "cell_type": "code",
   "execution_count": 80,
   "outputs": [
    {
     "data": {
      "text/plain": "'KHOOR#ZRUOG]D\\\\]#ТУЛЕИХ#ПЛУ'"
     },
     "execution_count": 80,
     "metadata": {},
     "output_type": "execute_result"
    }
   ],
   "source": [
    "in_str = 'HELLO WORLDZAYZ ПРИВЕТ МИР'\n",
    "\n",
    "out_str = ''\n",
    "key = 3\n",
    "for char in in_str:\n",
    "    out_str += chr((ord(char) + key))\n",
    "\n",
    "out_str"
   ],
   "metadata": {
    "collapsed": false,
    "ExecuteTime": {
     "end_time": "2024-03-09T16:17:34.214679Z",
     "start_time": "2024-03-09T16:17:34.197764Z"
    }
   }
  }
 ],
 "metadata": {
  "kernelspec": {
   "display_name": "Python 3.9.12 64-bit",
   "language": "python",
   "name": "python3"
  },
  "language_info": {
   "codemirror_mode": {
    "name": "ipython",
    "version": 3
   },
   "file_extension": ".py",
   "mimetype": "text/x-python",
   "name": "python",
   "nbconvert_exporter": "python",
   "pygments_lexer": "ipython3",
   "version": "3.8.11"
  },
  "orig_nbformat": 4,
  "vscode": {
   "interpreter": {
    "hash": "b0fa6594d8f4cbf19f97940f81e996739fb7646882a419484c72d19e05852a7e"
   }
  }
 },
 "nbformat": 4,
 "nbformat_minor": 2
}

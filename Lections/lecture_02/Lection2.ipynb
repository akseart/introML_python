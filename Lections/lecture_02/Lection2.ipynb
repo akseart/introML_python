{
 "cells": [
  {
   "cell_type": "markdown",
   "id": "e1c02ece",
   "metadata": {},
   "source": [
    "# Введение в методы анализа данных. Язык Python."
   ]
  },
  {
   "cell_type": "markdown",
   "id": "fe4f0986",
   "metadata": {},
   "source": [
    "## Лекция 2:  Процедурный подход к написанию программ."
   ]
  },
  {
   "cell_type": "markdown",
   "id": "749e4b11",
   "metadata": {},
   "source": [
    "Аксентьев Артем (akseart@ya.ru)\n",
    "\n",
    "Ксемидов Борис (bworkboris@yandex.ru)"
   ]
  },
  {
   "cell_type": "markdown",
   "metadata": {},
   "source": [
    "# План\n",
    "1. Лекция\n",
    "2. Практические задания\n",
    "3. Выдача 1 ДЗ"
   ]
  },
  {
   "cell_type": "markdown",
   "metadata": {},
   "source": [
    "# Функции"
   ]
  },
  {
   "cell_type": "markdown",
   "metadata": {
    "collapsed": false
   },
   "source": [
    "DRY - don't repeat yourself «не повторяйся») — это принцип разработки программного обеспечения, нацеленный на снижение повторения информации различного рода, особенно в системах со множеством слоёв абстрагирования. Принцип DRY формулируется как: «Каждая часть знания должна иметь единственное, непротиворечивое и авторитетное представление в рамках системы».\n",
    "\n",
    "Когда принцип DRY применяется успешно, изменение единственного элемента системы не требует внесения изменений в другие, логически не связанные элементы."
   ]
  },
  {
   "cell_type": "code",
   "execution_count": 2,
   "metadata": {
    "ExecuteTime": {
     "end_time": "2024-03-09T14:04:11.298450Z",
     "start_time": "2024-03-09T14:04:11.280970Z"
    }
   },
   "outputs": [
    {
     "name": "stdout",
     "output_type": "stream",
     "text": [
      "Hello, world\n"
     ]
    }
   ],
   "source": [
    "def foo():\n",
    "    print('Hello, world')\n",
    "\n",
    "foo()"
   ]
  },
  {
   "cell_type": "code",
   "execution_count": 5,
   "metadata": {
    "ExecuteTime": {
     "end_time": "2024-03-09T14:05:06.379577Z",
     "start_time": "2024-03-09T14:05:06.364143Z"
    }
   },
   "outputs": [
    {
     "name": "stdout",
     "output_type": "stream",
     "text": [
      "4\n"
     ]
    }
   ],
   "source": [
    "def foo(a, b):\n",
    "    return a + b\n",
    "\n",
    "result = foo(1, 3)\n",
    "print(result)"
   ]
  },
  {
   "cell_type": "code",
   "execution_count": 6,
   "metadata": {
    "ExecuteTime": {
     "end_time": "2024-03-09T14:05:11.256441Z",
     "start_time": "2024-03-09T14:05:11.242380Z"
    }
   },
   "outputs": [
    {
     "data": {
      "text/plain": "'aaabbb'"
     },
     "execution_count": 6,
     "metadata": {},
     "output_type": "execute_result"
    }
   ],
   "source": [
    "foo(\"aaa\", \"bbb\")"
   ]
  },
  {
   "cell_type": "code",
   "execution_count": 8,
   "metadata": {
    "ExecuteTime": {
     "end_time": "2024-03-09T14:05:43.411798Z",
     "start_time": "2024-03-09T14:05:43.390155Z"
    }
   },
   "outputs": [
    {
     "data": {
      "text/plain": "2.5"
     },
     "execution_count": 8,
     "metadata": {},
     "output_type": "execute_result"
    }
   ],
   "source": [
    "def foo(a, b, c=10):\n",
    "    return a + b / c\n",
    "\n",
    "foo(2, 5)"
   ]
  },
  {
   "cell_type": "code",
   "execution_count": 9,
   "metadata": {
    "ExecuteTime": {
     "end_time": "2024-03-09T14:05:57.944492Z",
     "start_time": "2024-03-09T14:05:57.925378Z"
    }
   },
   "outputs": [
    {
     "data": {
      "text/plain": "4.5"
     },
     "execution_count": 9,
     "metadata": {},
     "output_type": "execute_result"
    }
   ],
   "source": [
    "foo(2, 5, 2)"
   ]
  },
  {
   "cell_type": "code",
   "execution_count": null,
   "metadata": {},
   "outputs": [],
   "source": [
    "def spam(a, b, c=10, d):\n",
    "        return a + b / c ** d\n",
    "\n",
    "spam(1, 2, 3)"
   ]
  },
  {
   "cell_type": "code",
   "execution_count": 11,
   "metadata": {
    "ExecuteTime": {
     "end_time": "2024-03-09T14:07:26.942130Z",
     "start_time": "2024-03-09T14:07:26.924002Z"
    }
   },
   "outputs": [
    {
     "name": "stdout",
     "output_type": "stream",
     "text": [
      "(10,) {}\n"
     ]
    },
    {
     "data": {
      "text/plain": "1.0000338701756168"
     },
     "execution_count": 11,
     "metadata": {},
     "output_type": "execute_result"
    }
   ],
   "source": [
    "def spam(a, b, c=10, *args, **kwargs):\n",
    "        d = sum(args)\n",
    "        print(args, kwargs)\n",
    "        if 'q' in kwargs:\n",
    "            d -= kwargs['q']\n",
    "        return a + b / c ** d\n",
    "\n",
    "spam(1, 2, 3, 10)"
   ]
  },
  {
   "cell_type": "code",
   "execution_count": 12,
   "metadata": {
    "ExecuteTime": {
     "end_time": "2024-03-09T14:07:44.185776Z",
     "start_time": "2024-03-09T14:07:44.157828Z"
    }
   },
   "outputs": [
    {
     "name": "stdout",
     "output_type": "stream",
     "text": [
      "(10, 20) {}\n"
     ]
    },
    {
     "data": {
      "text/plain": "1.0000000000000098"
     },
     "execution_count": 12,
     "metadata": {},
     "output_type": "execute_result"
    }
   ],
   "source": [
    "spam(1, 2, 3, 10, 20)"
   ]
  },
  {
   "cell_type": "code",
   "execution_count": 13,
   "metadata": {
    "ExecuteTime": {
     "end_time": "2024-03-09T14:08:09.446925Z",
     "start_time": "2024-03-09T14:08:09.427919Z"
    }
   },
   "outputs": [
    {
     "name": "stdout",
     "output_type": "stream",
     "text": [
      "(10, 20) {'q': 5, 'another': 10}\n"
     ]
    },
    {
     "data": {
      "text/plain": "1.0000000000023606"
     },
     "execution_count": 13,
     "metadata": {},
     "output_type": "execute_result"
    }
   ],
   "source": [
    "spam(1, 2, 3, 10, 20, q=5, another=10)"
   ]
  },
  {
   "cell_type": "code",
   "execution_count": 16,
   "metadata": {
    "ExecuteTime": {
     "end_time": "2024-03-09T14:09:01.728208Z",
     "start_time": "2024-03-09T14:09:01.705713Z"
    }
   },
   "outputs": [],
   "source": [
    "def spam(a, b, *_):\n",
    "    return a + b"
   ]
  },
  {
   "cell_type": "code",
   "execution_count": 17,
   "metadata": {
    "ExecuteTime": {
     "end_time": "2024-03-09T14:09:03.523895Z",
     "start_time": "2024-03-09T14:09:03.504131Z"
    }
   },
   "outputs": [
    {
     "data": {
      "text/plain": "5"
     },
     "execution_count": 17,
     "metadata": {},
     "output_type": "execute_result"
    }
   ],
   "source": [
    "spam(2, 3, 5, 7, 8, 3, 4, 5, 5, 6)"
   ]
  },
  {
   "cell_type": "markdown",
   "metadata": {
    "collapsed": false
   },
   "source": [
    "## lambda функции\n",
    "\n",
    "Анонимные функции в пару действий"
   ]
  },
  {
   "cell_type": "code",
   "execution_count": 18,
   "metadata": {
    "ExecuteTime": {
     "end_time": "2024-03-09T14:09:53.477271Z",
     "start_time": "2024-03-09T14:09:53.455518Z"
    }
   },
   "outputs": [],
   "source": [
    "foo = lambda x: len(x) % 5"
   ]
  },
  {
   "cell_type": "code",
   "execution_count": 19,
   "metadata": {
    "ExecuteTime": {
     "end_time": "2024-03-09T14:09:54.329130Z",
     "start_time": "2024-03-09T14:09:54.307101Z"
    }
   },
   "outputs": [
    {
     "data": {
      "text/plain": "3"
     },
     "execution_count": 19,
     "metadata": {},
     "output_type": "execute_result"
    }
   ],
   "source": [
    "foo(\"HelloHello123\")"
   ]
  },
  {
   "cell_type": "code",
   "execution_count": 21,
   "metadata": {
    "collapsed": false,
    "pycharm": {
     "name": "#%%\n"
    },
    "ExecuteTime": {
     "end_time": "2024-03-09T14:10:54.235552Z",
     "start_time": "2024-03-09T14:10:54.212439Z"
    }
   },
   "outputs": [
    {
     "data": {
      "text/plain": "['Hell', 'Hello', 'M']"
     },
     "execution_count": 21,
     "metadata": {},
     "output_type": "execute_result"
    }
   ],
   "source": [
    "sorted([\"Hello\", \"Hell\", \"M\"], key=lambda x: len(x) % 2, reverse=False)"
   ]
  },
  {
   "cell_type": "markdown",
   "metadata": {
    "collapsed": false
   },
   "source": [
    "## Области видимости функций"
   ]
  },
  {
   "cell_type": "code",
   "execution_count": 25,
   "metadata": {
    "collapsed": false,
    "pycharm": {
     "name": "#%%\n"
    },
    "ExecuteTime": {
     "end_time": "2024-03-09T14:12:21.105625Z",
     "start_time": "2024-03-09T14:12:21.079703Z"
    }
   },
   "outputs": [
    {
     "name": "stdout",
     "output_type": "stream",
     "text": [
      "10\n"
     ]
    }
   ],
   "source": [
    "c = 10\n",
    "\n",
    "def foo(a, b):\n",
    "\n",
    "    return a + b + c\n",
    "\n",
    "print(c)"
   ]
  },
  {
   "cell_type": "code",
   "execution_count": 27,
   "metadata": {
    "collapsed": false,
    "pycharm": {
     "name": "#%%\n"
    },
    "ExecuteTime": {
     "end_time": "2024-03-09T14:12:25.989588Z",
     "start_time": "2024-03-09T14:12:25.976936Z"
    }
   },
   "outputs": [
    {
     "data": {
      "text/plain": "111"
     },
     "execution_count": 27,
     "metadata": {},
     "output_type": "execute_result"
    }
   ],
   "source": [
    "foo(1, 100)\n"
   ]
  },
  {
   "cell_type": "code",
   "execution_count": 28,
   "metadata": {
    "collapsed": false,
    "pycharm": {
     "name": "#%%\n"
    },
    "ExecuteTime": {
     "end_time": "2024-03-09T14:12:41.460395Z",
     "start_time": "2024-03-09T14:12:41.342517Z"
    }
   },
   "outputs": [
    {
     "name": "stdout",
     "output_type": "stream",
     "text": [
      "111\n"
     ]
    },
    {
     "ename": "NameError",
     "evalue": "name 'p' is not defined",
     "output_type": "error",
     "traceback": [
      "\u001B[0;31m---------------------------------------------------------------------------\u001B[0m",
      "\u001B[0;31mNameError\u001B[0m                                 Traceback (most recent call last)",
      "Cell \u001B[0;32mIn[28], line 12\u001B[0m\n\u001B[1;32m      8\u001B[0m     \u001B[38;5;28;01mreturn\u001B[39;00m result \u001B[38;5;241m/\u001B[39m c\n\u001B[1;32m     10\u001B[0m foo(\u001B[38;5;241m1\u001B[39m, \u001B[38;5;241m100\u001B[39m)\n\u001B[0;32m---> 12\u001B[0m \u001B[38;5;28mprint\u001B[39m(\u001B[43mp\u001B[49m)\n",
      "\u001B[0;31mNameError\u001B[0m: name 'p' is not defined"
     ]
    }
   ],
   "source": [
    "c = 10\n",
    "\n",
    "def foo(a, b):\n",
    "    p = 10\n",
    "    result = a + b + c\n",
    "    print(result)\n",
    "    # c = c + 1\n",
    "    return result / c\n",
    "\n",
    "foo(1, 100)\n",
    "\n",
    "print(p)"
   ]
  },
  {
   "cell_type": "markdown",
   "metadata": {
    "collapsed": false
   },
   "source": [
    "Области видимости в Python:\n",
    "- Локальная\n",
    "- Не локальная\n",
    "- Глобальная"
   ]
  },
  {
   "cell_type": "code",
   "execution_count": 30,
   "metadata": {
    "collapsed": false,
    "pycharm": {
     "name": "#%%\n"
    },
    "ExecuteTime": {
     "end_time": "2024-03-09T14:13:59.275409Z",
     "start_time": "2024-03-09T14:13:59.236178Z"
    }
   },
   "outputs": [
    {
     "name": "stdout",
     "output_type": "stream",
     "text": [
      "1\n",
      "2\n",
      "3\n",
      "§ 3\n",
      "20\n"
     ]
    }
   ],
   "source": [
    "def foo(seq):\n",
    "    for element in seq:\n",
    "        print(element)\n",
    "    print('§', element)\n",
    "\n",
    "element = 20\n",
    "foo([1, 2, 3])\n",
    "print(element)"
   ]
  },
  {
   "cell_type": "code",
   "execution_count": 33,
   "metadata": {
    "collapsed": false,
    "pycharm": {
     "name": "#%%\n"
    },
    "ExecuteTime": {
     "end_time": "2024-03-09T14:15:08.632036Z",
     "start_time": "2024-03-09T14:15:08.615857Z"
    }
   },
   "outputs": [
    {
     "name": "stdout",
     "output_type": "stream",
     "text": [
      "9.25\n",
      "12\n"
     ]
    }
   ],
   "source": [
    "c = 10\n",
    "def foo(a, b):\n",
    "    global c\n",
    "    result = a + b + c\n",
    "    c += 1\n",
    "    c = c + 1\n",
    "    return result / c\n",
    "\n",
    "print(foo(1, 100))\n",
    "print(c)"
   ]
  },
  {
   "cell_type": "code",
   "execution_count": 34,
   "metadata": {
    "ExecuteTime": {
     "end_time": "2024-03-09T14:15:37.350376Z",
     "start_time": "2024-03-09T14:15:37.332205Z"
    }
   },
   "outputs": [
    {
     "data": {
      "text/plain": "8.071428571428571"
     },
     "execution_count": 34,
     "metadata": {},
     "output_type": "execute_result"
    }
   ],
   "source": [
    "foo(1, 100)"
   ]
  },
  {
   "cell_type": "code",
   "execution_count": 35,
   "metadata": {
    "ExecuteTime": {
     "end_time": "2024-03-09T14:15:39.731017Z",
     "start_time": "2024-03-09T14:15:39.713799Z"
    }
   },
   "outputs": [
    {
     "name": "stdout",
     "output_type": "stream",
     "text": [
      "14\n"
     ]
    }
   ],
   "source": [
    "print(c)"
   ]
  },
  {
   "cell_type": "code",
   "execution_count": 38,
   "metadata": {
    "collapsed": false,
    "pycharm": {
     "name": "#%%\n"
    },
    "ExecuteTime": {
     "end_time": "2024-03-09T14:18:32.606557Z",
     "start_time": "2024-03-09T14:18:32.586528Z"
    }
   },
   "outputs": [
    {
     "name": "stdout",
     "output_type": "stream",
     "text": [
      "2 10\n",
      "1 11\n",
      "3 11\n",
      "10.090909090909092\n",
      "20\n"
     ]
    }
   ],
   "source": [
    "c = 20\n",
    "def foo1(a, b):\n",
    "    c = 10\n",
    "    def foo2(a, b):\n",
    "        nonlocal c\n",
    "        result = a + b + c\n",
    "        c += 1\n",
    "        print('1', c)\n",
    "        return result / c\n",
    "    print('2', c)\n",
    "    result = foo2(a, b)\n",
    "    print('3', c)\n",
    "    return result\n",
    "\n",
    "print(foo1(1, 100))\n",
    "print(c)"
   ]
  },
  {
   "cell_type": "code",
   "execution_count": 44,
   "metadata": {
    "ExecuteTime": {
     "end_time": "2024-03-09T14:19:54.330166Z",
     "start_time": "2024-03-09T14:19:54.301538Z"
    }
   },
   "outputs": [
    {
     "ename": "TypeError",
     "evalue": "'tuple' object does not support item assignment",
     "output_type": "error",
     "traceback": [
      "\u001B[0;31m---------------------------------------------------------------------------\u001B[0m",
      "\u001B[0;31mTypeError\u001B[0m                                 Traceback (most recent call last)",
      "Cell \u001B[0;32mIn[44], line 9\u001B[0m\n\u001B[1;32m      6\u001B[0m     a[\u001B[38;5;241m1\u001B[39m] \u001B[38;5;241m=\u001B[39m \u001B[38;5;241m0\u001B[39m\n\u001B[1;32m      7\u001B[0m     \u001B[38;5;28;01mreturn\u001B[39;00m \u001B[38;5;28msum\u001B[39m(a)\n\u001B[0;32m----> 9\u001B[0m \u001B[43mfoo\u001B[49m\u001B[43m(\u001B[49m\u001B[43mb\u001B[49m\u001B[43m)\u001B[49m\n",
      "Cell \u001B[0;32mIn[44], line 6\u001B[0m, in \u001B[0;36mfoo\u001B[0;34m(a)\u001B[0m\n\u001B[1;32m      4\u001B[0m \u001B[38;5;28;01mdef\u001B[39;00m \u001B[38;5;21mfoo\u001B[39m(a):\n\u001B[1;32m      5\u001B[0m     \u001B[38;5;66;03m# a = a.copy()\u001B[39;00m\n\u001B[0;32m----> 6\u001B[0m     \u001B[43ma\u001B[49m\u001B[43m[\u001B[49m\u001B[38;5;241;43m1\u001B[39;49m\u001B[43m]\u001B[49m \u001B[38;5;241m=\u001B[39m \u001B[38;5;241m0\u001B[39m\n\u001B[1;32m      7\u001B[0m     \u001B[38;5;28;01mreturn\u001B[39;00m \u001B[38;5;28msum\u001B[39m(a)\n",
      "\u001B[0;31mTypeError\u001B[0m: 'tuple' object does not support item assignment"
     ]
    }
   ],
   "source": [
    "a = [1, 2, 3]\n",
    "b = (1, 2, 3)\n",
    "\n",
    "def foo(a):\n",
    "    a = a.copy()\n",
    "    a[1] = 0\n",
    "    return sum(a)\n",
    "\n",
    "foo(b)"
   ]
  },
  {
   "cell_type": "code",
   "execution_count": 43,
   "metadata": {
    "ExecuteTime": {
     "end_time": "2024-03-09T14:19:46.594701Z",
     "start_time": "2024-03-09T14:19:46.580501Z"
    }
   },
   "outputs": [
    {
     "data": {
      "text/plain": "[1, 0, 3]"
     },
     "execution_count": 43,
     "metadata": {},
     "output_type": "execute_result"
    }
   ],
   "source": [
    "a"
   ]
  },
  {
   "cell_type": "markdown",
   "metadata": {},
   "source": [
    "# Операторы ввода вывода"
   ]
  },
  {
   "cell_type": "code",
   "execution_count": 46,
   "metadata": {
    "ExecuteTime": {
     "end_time": "2024-03-09T14:21:51.628646Z",
     "start_time": "2024-03-09T14:21:45.135454Z"
    }
   },
   "outputs": [
    {
     "data": {
      "text/plain": "'123'"
     },
     "execution_count": 46,
     "metadata": {},
     "output_type": "execute_result"
    }
   ],
   "source": [
    "input()"
   ]
  },
  {
   "cell_type": "code",
   "execution_count": 47,
   "metadata": {
    "ExecuteTime": {
     "end_time": "2024-03-09T14:22:16.244429Z",
     "start_time": "2024-03-09T14:22:06.451554Z"
    }
   },
   "outputs": [],
   "source": [
    "name = input(\"Как Вас зовут?  \")"
   ]
  },
  {
   "cell_type": "code",
   "execution_count": 48,
   "metadata": {
    "collapsed": false,
    "pycharm": {
     "name": "#%%\n"
    },
    "ExecuteTime": {
     "end_time": "2024-03-09T14:22:18.147417Z",
     "start_time": "2024-03-09T14:22:18.124544Z"
    }
   },
   "outputs": [
    {
     "data": {
      "text/plain": "'Артем'"
     },
     "execution_count": 48,
     "metadata": {},
     "output_type": "execute_result"
    }
   ],
   "source": [
    "name"
   ]
  },
  {
   "cell_type": "code",
   "execution_count": 49,
   "metadata": {
    "ExecuteTime": {
     "end_time": "2024-03-09T14:22:31.274736Z",
     "start_time": "2024-03-09T14:22:26.162081Z"
    }
   },
   "outputs": [
    {
     "data": {
      "text/plain": "'1012'"
     },
     "execution_count": 49,
     "metadata": {},
     "output_type": "execute_result"
    }
   ],
   "source": [
    "a = input(\"Введите число a:\")\n",
    "b = input(\"Введите число b:\")\n",
    "\n",
    "a + b"
   ]
  },
  {
   "cell_type": "code",
   "execution_count": 50,
   "metadata": {
    "ExecuteTime": {
     "end_time": "2024-03-09T14:22:53.288471Z",
     "start_time": "2024-03-09T14:22:49.522217Z"
    }
   },
   "outputs": [
    {
     "data": {
      "text/plain": "22"
     },
     "execution_count": 50,
     "metadata": {},
     "output_type": "execute_result"
    }
   ],
   "source": [
    "a = int(input(\"Введите число a:\"))\n",
    "b = int(input(\"Введите число b:\"))\n",
    "\n",
    "a + b"
   ]
  },
  {
   "cell_type": "code",
   "execution_count": 51,
   "metadata": {
    "ExecuteTime": {
     "end_time": "2024-03-09T14:23:39.842468Z",
     "start_time": "2024-03-09T14:23:34.877544Z"
    }
   },
   "outputs": [
    {
     "data": {
      "text/plain": "49"
     },
     "execution_count": 51,
     "metadata": {},
     "output_type": "execute_result"
    }
   ],
   "source": [
    "a = map(int, input(\"Введите числа для суммирования: \").split())\n",
    "\n",
    "sum(a)"
   ]
  },
  {
   "cell_type": "code",
   "execution_count": 52,
   "metadata": {
    "ExecuteTime": {
     "end_time": "2024-03-09T14:23:59.602993Z",
     "start_time": "2024-03-09T14:23:59.581408Z"
    }
   },
   "outputs": [
    {
     "name": "stdout",
     "output_type": "stream",
     "text": [
      "Hello world\n"
     ]
    }
   ],
   "source": [
    "print(\"Hello world\")"
   ]
  },
  {
   "cell_type": "code",
   "execution_count": 54,
   "metadata": {
    "ExecuteTime": {
     "end_time": "2024-03-09T14:24:37.413167Z",
     "start_time": "2024-03-09T14:24:37.393587Z"
    }
   },
   "outputs": [
    {
     "name": "stdout",
     "output_type": "stream",
     "text": [
      "Hello world !\n",
      "Hello world !\n",
      "\n",
      "Hello world !!Hello world !\n"
     ]
    }
   ],
   "source": [
    "print(\"Hello\", \"world\", \"!\")\n",
    "print(\"Hello\", \"world\", \"!\")\n",
    "\n",
    "print()\n",
    "\n",
    "print(\"Hello\", \"world\", \"!\", end='!print(\"Hello\", \"world\", \"!\")"
   ]
  },
  {
   "cell_type": "code",
   "execution_count": 55,
   "metadata": {
    "ExecuteTime": {
     "end_time": "2024-03-09T14:25:01.383505Z",
     "start_time": "2024-03-09T14:25:01.366184Z"
    }
   },
   "outputs": [
    {
     "name": "stdout",
     "output_type": "stream",
     "text": [
      "Hello=world=!\n"
     ]
    }
   ],
   "source": [
    "print(\"Hello\", \"world\", \"!\", sep='=')"
   ]
  },
  {
   "cell_type": "code",
   "execution_count": 56,
   "metadata": {
    "ExecuteTime": {
     "end_time": "2024-03-09T14:25:17.731032Z",
     "start_time": "2024-03-09T14:25:17.709871Z"
    }
   },
   "outputs": [
    {
     "name": "stdout",
     "output_type": "stream",
     "text": [
      "Hello+world+!\tHello+world+!12313314214312"
     ]
    }
   ],
   "source": [
    "print(\"Hello\", \"world\", \"!\", sep='+', end='\\t')\n",
    "print(\"Hello\", \"world\", \"!\", sep='+', end='12313314214312')\n"
   ]
  },
  {
   "cell_type": "code",
   "execution_count": 58,
   "metadata": {
    "collapsed": false,
    "pycharm": {
     "name": "#%%\n"
    },
    "ExecuteTime": {
     "end_time": "2024-03-09T14:26:58.533097Z",
     "start_time": "2024-03-09T14:26:58.517281Z"
    }
   },
   "outputs": [
    {
     "name": "stdout",
     "output_type": "stream",
     "text": [
      "Hello!world!!!\n",
      "\n"
     ]
    }
   ],
   "source": [
    "def my_print(*args, **kwargs):\n",
    "    sep = ' '\n",
    "    end = '\\n'\n",
    "    \n",
    "    if 'sep' in kwargs:\n",
    "        sep = kwargs['sep']\n",
    "    if 'end' in kwargs:\n",
    "        end = kwargs['end']\n",
    "\n",
    "    result = ''\n",
    "    for i in args:\n",
    "        result += i + sep\n",
    "    result += end\n",
    "    return result\n",
    "\n",
    "print(my_print(\"Hello\", \"world\", \"!\", sep='!'))"
   ]
  },
  {
   "cell_type": "markdown",
   "metadata": {},
   "source": [
    "# Устройство памяти в Python  Идентификатор объекта"
   ]
  },
  {
   "cell_type": "code",
   "execution_count": 59,
   "metadata": {
    "ExecuteTime": {
     "end_time": "2024-03-09T14:27:29.215506Z",
     "start_time": "2024-03-09T14:27:29.198431Z"
    }
   },
   "outputs": [
    {
     "data": {
      "text/plain": "(4433182192, 4433182192, 4433182160)"
     },
     "execution_count": 59,
     "metadata": {},
     "output_type": "execute_result"
    }
   ],
   "source": [
    "a = 100_000\n",
    "b = a\n",
    "c = 100_000\n",
    "\n",
    "id(a), id(b), id(c)"
   ]
  },
  {
   "cell_type": "code",
   "execution_count": 60,
   "metadata": {
    "collapsed": false,
    "pycharm": {
     "name": "#%%\n"
    },
    "ExecuteTime": {
     "end_time": "2024-03-09T14:28:04.009744Z",
     "start_time": "2024-03-09T14:28:03.994311Z"
    }
   },
   "outputs": [
    {
     "data": {
      "text/plain": "(False, True, True)"
     },
     "execution_count": 60,
     "metadata": {},
     "output_type": "execute_result"
    }
   ],
   "source": [
    "a is c, a == c, a is b"
   ]
  },
  {
   "cell_type": "code",
   "execution_count": 65,
   "metadata": {
    "ExecuteTime": {
     "end_time": "2024-03-09T14:29:21.254268Z",
     "start_time": "2024-03-09T14:29:21.241622Z"
    }
   },
   "outputs": [
    {
     "data": {
      "text/plain": "(4399841200, 4399841200, 4399841200)"
     },
     "execution_count": 65,
     "metadata": {},
     "output_type": "execute_result"
    }
   ],
   "source": [
    "a = 'Hello'\n",
    "b = a\n",
    "c = 'Hello'\n",
    "id(a), id(b), id(c)"
   ]
  },
  {
   "cell_type": "code",
   "execution_count": 66,
   "metadata": {
    "collapsed": false,
    "pycharm": {
     "name": "#%%\n"
    },
    "ExecuteTime": {
     "end_time": "2024-03-09T14:29:46.526839Z",
     "start_time": "2024-03-09T14:29:46.513493Z"
    }
   },
   "outputs": [
    {
     "data": {
      "text/plain": "True"
     },
     "execution_count": 66,
     "metadata": {},
     "output_type": "execute_result"
    }
   ],
   "source": [
    "a is c"
   ]
  },
  {
   "cell_type": "code",
   "execution_count": 67,
   "metadata": {
    "ExecuteTime": {
     "end_time": "2024-03-09T14:29:56.018004Z",
     "start_time": "2024-03-09T14:29:56.003097Z"
    }
   },
   "outputs": [
    {
     "data": {
      "text/plain": "(4396932928, 4396932928, 4434024640)"
     },
     "execution_count": 67,
     "metadata": {},
     "output_type": "execute_result"
    }
   ],
   "source": [
    "a = [1, 2, 3, 4, 5]\n",
    "b = a\n",
    "c = [1, 2, 3, 4, 5]\n",
    "id(a), id(b), id(c)"
   ]
  },
  {
   "cell_type": "code",
   "execution_count": 68,
   "metadata": {
    "ExecuteTime": {
     "end_time": "2024-03-09T14:29:59.993107Z",
     "start_time": "2024-03-09T14:29:59.974989Z"
    }
   },
   "outputs": [
    {
     "name": "stdout",
     "output_type": "stream",
     "text": [
      "[1, 100, 3, 4, 5]\n",
      "[1, 100, 3, 4, 5]\n",
      "[1, 2, 3, 4, 5]\n"
     ]
    }
   ],
   "source": [
    "a[1] = 100\n",
    "print(a)\n",
    "print(b)\n",
    "print(c)"
   ]
  },
  {
   "cell_type": "code",
   "execution_count": 69,
   "metadata": {
    "ExecuteTime": {
     "end_time": "2024-03-09T14:30:23.118936Z",
     "start_time": "2024-03-09T14:30:23.104524Z"
    }
   },
   "outputs": [
    {
     "data": {
      "text/plain": "(4433526016, 4401891584, 4433289728)"
     },
     "execution_count": 69,
     "metadata": {},
     "output_type": "execute_result"
    }
   ],
   "source": [
    "a = [1, 2, 3, 4, 5]\n",
    "b = a.copy()\n",
    "c = [1, 2, 3, 4, 5]\n",
    "id(a), id(b), id(c)"
   ]
  },
  {
   "cell_type": "code",
   "execution_count": 70,
   "metadata": {
    "ExecuteTime": {
     "end_time": "2024-03-09T14:30:37.568925Z",
     "start_time": "2024-03-09T14:30:37.556838Z"
    }
   },
   "outputs": [
    {
     "data": {
      "text/plain": "5"
     },
     "execution_count": 70,
     "metadata": {},
     "output_type": "execute_result"
    }
   ],
   "source": [
    "def foo(x, y):\n",
    "    return x + y ** 2\n",
    "    \n",
    "foo(1, 2)"
   ]
  },
  {
   "cell_type": "code",
   "execution_count": 71,
   "metadata": {
    "ExecuteTime": {
     "end_time": "2024-03-09T14:30:49.144133Z",
     "start_time": "2024-03-09T14:30:48.744815Z"
    }
   },
   "outputs": [
    {
     "data": {
      "text/plain": "(4433764432, 4433764432)"
     },
     "execution_count": 71,
     "metadata": {},
     "output_type": "execute_result"
    }
   ],
   "source": [
    "f = foo\n",
    "id(f), id(foo)"
   ]
  },
  {
   "cell_type": "code",
   "execution_count": 72,
   "metadata": {
    "collapsed": false,
    "pycharm": {
     "name": "#%%\n"
    },
    "ExecuteTime": {
     "end_time": "2024-03-09T14:30:59.358561Z",
     "start_time": "2024-03-09T14:30:59.339792Z"
    }
   },
   "outputs": [
    {
     "data": {
      "text/plain": "5"
     },
     "execution_count": 72,
     "metadata": {},
     "output_type": "execute_result"
    }
   ],
   "source": [
    "f(1, 2)"
   ]
  },
  {
   "cell_type": "markdown",
   "metadata": {},
   "source": [
    "# Исключения"
   ]
  },
  {
   "cell_type": "markdown",
   "metadata": {},
   "source": [
    "- Обработка ошибок\n",
    "- Уведомление о событиях\n",
    "- Обработка особых ситуаций\n",
    "- Заключительные операции"
   ]
  },
  {
   "cell_type": "code",
   "execution_count": 73,
   "metadata": {
    "ExecuteTime": {
     "end_time": "2024-03-09T14:32:04.889376Z",
     "start_time": "2024-03-09T14:32:04.886621Z"
    }
   },
   "outputs": [
    {
     "ename": "ZeroDivisionError",
     "evalue": "division by zero",
     "output_type": "error",
     "traceback": [
      "\u001B[0;31m---------------------------------------------------------------------------\u001B[0m",
      "\u001B[0;31mZeroDivisionError\u001B[0m                         Traceback (most recent call last)",
      "Cell \u001B[0;32mIn[73], line 1\u001B[0m\n\u001B[0;32m----> 1\u001B[0m \u001B[38;5;241;43m1\u001B[39;49m\u001B[38;5;241;43m/\u001B[39;49m\u001B[38;5;241;43m0\u001B[39;49m\n",
      "\u001B[0;31mZeroDivisionError\u001B[0m: division by zero"
     ]
    }
   ],
   "source": [
    "1/0"
   ]
  },
  {
   "cell_type": "code",
   "execution_count": 74,
   "metadata": {
    "ExecuteTime": {
     "end_time": "2024-03-09T14:33:13.402865Z",
     "start_time": "2024-03-09T14:33:13.374009Z"
    }
   },
   "outputs": [
    {
     "name": "stdout",
     "output_type": "stream",
     "text": [
      "division by zero\n"
     ]
    },
    {
     "data": {
      "text/plain": "0"
     },
     "execution_count": 74,
     "metadata": {},
     "output_type": "execute_result"
    }
   ],
   "source": [
    "try:\n",
    "    k = 1 / 0\n",
    "    ...\n",
    "except ArithmeticError as e:\n",
    "    k = 0\n",
    "    print(e)\n",
    "\n",
    "k"
   ]
  },
  {
   "cell_type": "code",
   "execution_count": 77,
   "metadata": {
    "ExecuteTime": {
     "end_time": "2024-03-09T14:34:57.641199Z",
     "start_time": "2024-03-09T14:34:57.625600Z"
    }
   },
   "outputs": [
    {
     "name": "stdout",
     "output_type": "stream",
     "text": [
      "name 'p' is not defined\n",
      "Исполнится в любом случае\n"
     ]
    },
    {
     "data": {
      "text/plain": "1"
     },
     "execution_count": 77,
     "metadata": {},
     "output_type": "execute_result"
    }
   ],
   "source": [
    "try:\n",
    "    k = 3 / p\n",
    "except ArithmeticError as e:\n",
    "    k = 0\n",
    "    print(e)\n",
    "except NameError as e:\n",
    "    k = 1\n",
    "    print(e)\n",
    "else:\n",
    "    print(\"Всё хорошо\")\n",
    "finally:\n",
    "    print(\"Исполнится в любом случае\")\n",
    "k"
   ]
  },
  {
   "cell_type": "code",
   "execution_count": 78,
   "metadata": {
    "collapsed": false,
    "pycharm": {
     "name": "#%%\n"
    },
    "ExecuteTime": {
     "end_time": "2024-03-09T14:35:39.726383Z",
     "start_time": "2024-03-09T14:35:39.715846Z"
    }
   },
   "outputs": [
    {
     "ename": "KeyError",
     "evalue": "'Key is not be str'",
     "output_type": "error",
     "traceback": [
      "\u001B[0;31m---------------------------------------------------------------------------\u001B[0m",
      "\u001B[0;31mKeyError\u001B[0m                                  Traceback (most recent call last)",
      "Cell \u001B[0;32mIn[78], line 1\u001B[0m\n\u001B[0;32m----> 1\u001B[0m \u001B[38;5;28;01mraise\u001B[39;00m \u001B[38;5;167;01mKeyError\u001B[39;00m(\u001B[38;5;124m\"\u001B[39m\u001B[38;5;124mKey is not be str\u001B[39m\u001B[38;5;124m\"\u001B[39m)\n",
      "\u001B[0;31mKeyError\u001B[0m: 'Key is not be str'"
     ]
    }
   ],
   "source": [
    "raise KeyError(\"Key is not be str\")"
   ]
  },
  {
   "cell_type": "code",
   "execution_count": 79,
   "metadata": {
    "collapsed": false,
    "pycharm": {
     "name": "#%%\n"
    },
    "ExecuteTime": {
     "end_time": "2024-03-09T14:37:13.795294Z",
     "start_time": "2024-03-09T14:37:02.035114Z"
    }
   },
   "outputs": [
    {
     "name": "stdout",
     "output_type": "stream",
     "text": [
      "Ошибка\n",
      "Этот код не должен выполняться после завершения программы\n"
     ]
    }
   ],
   "source": [
    "try:\n",
    "    i = 0\n",
    "    while i < 10000000:\n",
    "        a = str(i)\n",
    "except BaseException:\n",
    "    print(\"Ошибка\")\n",
    "\n",
    "print(\"Этот код не должен выполняться после завершения программы\")"
   ]
  },
  {
   "cell_type": "markdown",
   "metadata": {
    "collapsed": false
   },
   "source": [
    "https://docs.python.org/3/library/exceptions.html"
   ]
  },
  {
   "cell_type": "markdown",
   "metadata": {},
   "source": [
    "# Файловый ввод-вывод"
   ]
  },
  {
   "cell_type": "markdown",
   "metadata": {},
   "source": [
    "## Чтение из файла"
   ]
  },
  {
   "cell_type": "code",
   "execution_count": 81,
   "metadata": {
    "ExecuteTime": {
     "end_time": "2024-03-09T14:39:42.532449Z",
     "start_time": "2024-03-09T14:39:42.514181Z"
    }
   },
   "outputs": [
    {
     "data": {
      "text/plain": "'1'"
     },
     "execution_count": 81,
     "metadata": {},
     "output_type": "execute_result"
    }
   ],
   "source": [
    "f = open('test_file_lesson2.txt', 'r')\n",
    "f.read(1)"
   ]
  },
  {
   "cell_type": "code",
   "execution_count": 82,
   "metadata": {
    "ExecuteTime": {
     "end_time": "2024-03-09T14:40:00.492742Z",
     "start_time": "2024-03-09T14:40:00.466017Z"
    }
   },
   "outputs": [
    {
     "data": {
      "text/plain": "'23\\n321\\n123s'"
     },
     "execution_count": 82,
     "metadata": {},
     "output_type": "execute_result"
    }
   ],
   "source": [
    "f.read()"
   ]
  },
  {
   "cell_type": "code",
   "execution_count": 83,
   "metadata": {
    "ExecuteTime": {
     "end_time": "2024-03-09T14:40:09.724228Z",
     "start_time": "2024-03-09T14:40:09.708306Z"
    }
   },
   "outputs": [],
   "source": [
    "f.close()"
   ]
  },
  {
   "cell_type": "markdown",
   "metadata": {},
   "source": [
    "## Запись в файл"
   ]
  },
  {
   "cell_type": "code",
   "execution_count": 84,
   "metadata": {
    "ExecuteTime": {
     "end_time": "2024-03-09T14:40:37.930804Z",
     "start_time": "2024-03-09T14:40:37.794787Z"
    }
   },
   "outputs": [
    {
     "name": "stdout",
     "output_type": "stream",
     "text": [
      "Lection2.ipynb          test_file_lesson2.txt\r\n",
      "Practic2.ipynb          test_file_lesson2_1.txt\r\n"
     ]
    }
   ],
   "source": [
    "!ls"
   ]
  },
  {
   "cell_type": "code",
   "execution_count": 87,
   "metadata": {
    "ExecuteTime": {
     "end_time": "2024-03-09T14:41:13.228099Z",
     "start_time": "2024-03-09T14:41:13.197745Z"
    }
   },
   "outputs": [
    {
     "data": {
      "text/plain": "48"
     },
     "execution_count": 87,
     "metadata": {},
     "output_type": "execute_result"
    }
   ],
   "source": [
    "l = [2, 3, 5, 7, 11, 13, 17, 19, 23, 29, 31, 37, 41]\n",
    "f = open('test_file_lesson2_1.txt', 'w')\n",
    "\n",
    "# f.write(l)\n",
    "\n",
    "f.write(str(l))"
   ]
  },
  {
   "cell_type": "code",
   "execution_count": 88,
   "metadata": {
    "collapsed": false,
    "pycharm": {
     "name": "#%%\n"
    },
    "ExecuteTime": {
     "end_time": "2024-03-09T14:41:50.325401Z",
     "start_time": "2024-03-09T14:41:50.303972Z"
    }
   },
   "outputs": [],
   "source": [
    "f.close()"
   ]
  },
  {
   "cell_type": "code",
   "execution_count": 89,
   "metadata": {
    "ExecuteTime": {
     "end_time": "2024-03-09T14:42:18.765474Z",
     "start_time": "2024-03-09T14:42:18.748397Z"
    }
   },
   "outputs": [],
   "source": [
    "f = open('test_file_lesson2_1.txt', 'w')\n",
    "for i in l:\n",
    "    f.write(str(i) + '\\n')\n",
    "f.close()"
   ]
  },
  {
   "cell_type": "markdown",
   "metadata": {},
   "source": [
    "## (Не)правильная работа с файлом"
   ]
  },
  {
   "cell_type": "code",
   "execution_count": 93,
   "metadata": {
    "ExecuteTime": {
     "end_time": "2024-03-09T14:44:06.695254Z",
     "start_time": "2024-03-09T14:44:06.676795Z"
    }
   },
   "outputs": [
    {
     "name": "stdout",
     "output_type": "stream",
     "text": [
      "Неправильный формат файла\n"
     ]
    }
   ],
   "source": [
    "lst = []\n",
    "\n",
    "try:\n",
    "    f = open('test_file_lesson2_1.txt', 'r')\n",
    "except OSError as e:\n",
    "    print('Файл не может быть открыт', e)\n",
    "    ...\n",
    "else:\n",
    "    try:\n",
    "        for line in f:\n",
    "            lst.append(int(line))\n",
    "    except ValueError:\n",
    "        print(\"Неправильный формат файла\")\n",
    "    finally:\n",
    "        f.close()"
   ]
  },
  {
   "cell_type": "code",
   "execution_count": 94,
   "metadata": {
    "collapsed": false,
    "pycharm": {
     "name": "#%%\n"
    },
    "ExecuteTime": {
     "end_time": "2024-03-09T14:44:10.797046Z",
     "start_time": "2024-03-09T14:44:10.780781Z"
    }
   },
   "outputs": [
    {
     "data": {
      "text/plain": "[2, 3, 5]"
     },
     "execution_count": 94,
     "metadata": {},
     "output_type": "execute_result"
    }
   ],
   "source": [
    "lst"
   ]
  },
  {
   "cell_type": "markdown",
   "metadata": {},
   "source": [
    "## Менеджер контекста"
   ]
  },
  {
   "cell_type": "code",
   "execution_count": null,
   "metadata": {},
   "outputs": [],
   "source": [
    "f = open('11', 'r')\n",
    "...\n",
    "f.close()"
   ]
  },
  {
   "cell_type": "code",
   "execution_count": 96,
   "metadata": {
    "ExecuteTime": {
     "end_time": "2024-03-09T14:45:44.360192Z",
     "start_time": "2024-03-09T14:45:44.329707Z"
    }
   },
   "outputs": [
    {
     "name": "stdout",
     "output_type": "stream",
     "text": [
      "2\n",
      "3\n",
      "5\n",
      "7s\n",
      "11\n",
      "13\n",
      "17\n",
      "19\n",
      "23\n",
      "29\n",
      "31\n",
      "37\n",
      "41\n",
      "\n",
      "Ellipsis\n"
     ]
    }
   ],
   "source": [
    "with open('test_file_lesson2_1.txt', 'r') as f:\n",
    "    print(f.read())\n",
    "\n",
    "print(...)"
   ]
  },
  {
   "cell_type": "code",
   "execution_count": 97,
   "metadata": {
    "ExecuteTime": {
     "end_time": "2024-03-09T14:47:40.699286Z",
     "start_time": "2024-03-09T14:47:40.683435Z"
    }
   },
   "outputs": [],
   "source": [
    "with open('test_file_lesson2.txt', 'r') as i, open('test_file_lesson2_1.txt', 'w') as w:\n",
    "    w.write(i.read())"
   ]
  },
  {
   "cell_type": "code",
   "execution_count": 98,
   "metadata": {
    "collapsed": false,
    "pycharm": {
     "name": "#%%\n"
    },
    "ExecuteTime": {
     "end_time": "2024-03-09T14:48:05.639506Z",
     "start_time": "2024-03-09T14:48:05.620234Z"
    }
   },
   "outputs": [
    {
     "name": "stdout",
     "output_type": "stream",
     "text": [
      "123\n",
      "321\n",
      "123s"
     ]
    }
   ],
   "source": [
    "with open('test_file_lesson2_1.txt', 'r') as f:\n",
    "    for line in f:\n",
    "        print(line, end='')"
   ]
  },
  {
   "cell_type": "code",
   "execution_count": 99,
   "metadata": {
    "ExecuteTime": {
     "end_time": "2024-03-09T14:48:30.850907Z",
     "start_time": "2024-03-09T14:48:30.814409Z"
    }
   },
   "outputs": [
    {
     "data": {
      "text/plain": "6"
     },
     "execution_count": 99,
     "metadata": {},
     "output_type": "execute_result"
    }
   ],
   "source": [
    "2+2*2"
   ]
  },
  {
   "cell_type": "code",
   "execution_count": 100,
   "metadata": {
    "ExecuteTime": {
     "end_time": "2024-03-09T14:50:55.649030Z",
     "start_time": "2024-03-09T14:50:55.615202Z"
    }
   },
   "outputs": [
    {
     "data": {
      "text/plain": "-5"
     },
     "execution_count": 100,
     "metadata": {},
     "output_type": "execute_result"
    }
   ],
   "source": [
    "-5"
   ]
  },
  {
   "cell_type": "markdown",
   "metadata": {
    "collapsed": false
   },
   "source": [
    "# Приоритет операций"
   ]
  },
  {
   "cell_type": "markdown",
   "metadata": {
    "collapsed": false
   },
   "source": [
    "| Операция                                                                  | Описание                                                                                        |\n",
    "|---------------------------------------------------------------------------|-------------------------------------------------------------------------------------------------|\n",
    "| (expressions...), [expressions...], {key: value<br/>..}, {expressions...} | Связывание или выражение в скобках, отображение списка, отображение словаря, отображение набора |\n",
    "| x[index], x[index:index], x(arguments...), x.attribute                    | Индексирование, взятие среза, вызов или использование метода/атрибута                           |\n",
    "| **                                                                        | Возведение в степень(Единственный оператор приоритет которого справа налево)                    |\n",
    "| +x, -x, ~x                                                                | Унарные плюс, минус и битовое отрицание                                                         |\n",
    "| *, /, //, %                                                               | Умножение и все виды деления                                                                    |\n",
    "| +, -                                                                      | Сложение и отрицание                                                                            |\n",
    "| &                                                                         | Битовое И                                                                                       |\n",
    "| ^                                                                         | Битовый XOR                                                                                     |\n",
    "| `                                                                         | `                                                                                               |Битовое ИЛИ|\n",
    "| in, not in, is, is not, <, <=, >, >=, !=, ==                              | Сравнения, включая тесты на наличие элемента и идентичность                                     |\n",
    "| not x                                                                     | Логическое отрицание                                                                            |\n",
    "| and                                                                       | Логическое И                                                                                    |\n",
    "| or                                                                        | Логическое ИЛИ                                                                                  |\n",
    "| if – else                                                                 | Условное выражение                                                                              |\n",
    "| lambda                                                                    | Лямбда выражения                                                                                |"
   ]
  },
  {
   "cell_type": "markdown",
   "metadata": {},
   "source": [
    "# PEP-8"
   ]
  },
  {
   "cell_type": "markdown",
   "metadata": {},
   "source": [
    "## Внешний вид кода"
   ]
  },
  {
   "cell_type": "markdown",
   "metadata": {},
   "source": [
    "### Отступы"
   ]
  },
  {
   "cell_type": "markdown",
   "metadata": {},
   "source": [
    "Необходимо использовать 4 пробела для каждого уровня отступа(Современные IDE умеют менять tab на пробел). \n",
    "\n",
    "Использовать табуляцию следует, только для поддержания кода, который был написан с использованием табуляции. "
   ]
  },
  {
   "cell_type": "markdown",
   "metadata": {},
   "source": [
    "Python 3 запрещает смешивать табуляцию и пробелы в отступах!"
   ]
  },
  {
   "cell_type": "code",
   "execution_count": null,
   "metadata": {},
   "outputs": [],
   "source": [
    "def spam(a, b):\n",
    "    return 1\n",
    "\n",
    "def spam(a, b):\n",
    "    ...\n",
    "    return 1"
   ]
  },
  {
   "cell_type": "markdown",
   "metadata": {},
   "source": [
    "Длинные строки должны выравнивать обернутые элементы либо вертикально, либо с одним большим отступом:"
   ]
  },
  {
   "cell_type": "code",
   "execution_count": null,
   "metadata": {},
   "outputs": [],
   "source": [
    "# Выравниваем по скобке\n",
    "foo = long_function_name(var_one,\n",
    "                         var_two,\n",
    "                         var_three, \n",
    "                         var_four\n",
    "                        )\n",
    "\n",
    "# Выравниваем одним отступом, но большим\n",
    "def long_function_name(\n",
    "        var_one,\n",
    "        var_two, var_three,\n",
    "        var_four):\n",
    "    print(var_one)"
   ]
  },
  {
   "cell_type": "code",
   "execution_count": null,
   "metadata": {},
   "outputs": [],
   "source": [
    "# В первой строке в таком случае не должно быть аргументов\n",
    "foo = long_function_name(\n",
    "    var_one, var_two,\n",
    "    var_three, var_four)\n",
    "\n",
    "# Аргументы сливаются с кодом\n",
    "def long_function_name(\n",
    "        var_one, var_two, var_three,\n",
    "        var_four):\n",
    "    print(var_one)"
   ]
  },
  {
   "cell_type": "markdown",
   "metadata": {},
   "source": [
    "### Максимальная длина строки"
   ]
  },
  {
   "cell_type": "markdown",
   "metadata": {},
   "source": [
    "Стандартная библиотека Python консервативна и требует ограничения длины строки в 79 символов (а строк документации/комментариев в 72)\n"
   ]
  },
  {
   "cell_type": "markdown",
   "metadata": {},
   "source": [
    "### Пробелы в выражениях "
   ]
  },
  {
   "cell_type": "markdown",
   "metadata": {},
   "source": [
    "Следует избегать лишних пробелов в следующих случаях:"
   ]
  },
  {
   "cell_type": "markdown",
   "metadata": {},
   "source": [
    "- Сразу внутри скобок, скобок или фигурных скобок:"
   ]
  },
  {
   "cell_type": "code",
   "execution_count": null,
   "metadata": {},
   "outputs": [],
   "source": [
    "# Correct\n",
    "spam(ham[1], {eggs: 2})\n",
    "\n",
    "# Wrong:\n",
    "spam( ham[ 1 ], { eggs: 2 } )"
   ]
  },
  {
   "cell_type": "markdown",
   "metadata": {},
   "source": [
    "- Между запятой и следующей закрывающей скобкой:"
   ]
  },
  {
   "cell_type": "code",
   "execution_count": null,
   "metadata": {},
   "outputs": [],
   "source": [
    "# Correct:\n",
    "foo = (0,)\n",
    "\n",
    "# Wrong:\n",
    "bar = (0, )"
   ]
  },
  {
   "cell_type": "markdown",
   "metadata": {},
   "source": [
    "- Непосредственно перед запятой, точкой с запятой или двоеточием:"
   ]
  },
  {
   "cell_type": "code",
   "execution_count": null,
   "metadata": {},
   "outputs": [],
   "source": [
    "x, y = 4, 5\n",
    "# Correct:\n",
    "if x == 4: print(x, y); x, y = y, x\n",
    "\n",
    "# Wrong:\n",
    "if x == 4 : print(x , y) ; x , y = y , x"
   ]
  },
  {
   "cell_type": "markdown",
   "metadata": {},
   "source": [
    "- Однако в срезе двоеточие действует как бинарный оператор и должно иметь равные значения с обеих сторон (рассматривая его как оператор с самым низким приоритетом). В расширенном срезе оба двоеточия должны иметь одинаковый интервал. Исключение: когда параметр среза опущен, пробел опускается:"
   ]
  },
  {
   "cell_type": "code",
   "execution_count": null,
   "metadata": {},
   "outputs": [],
   "source": [
    "# Correct:\n",
    "ham[1:9], ham[1:9:3], ham[:9:3], ham[1::3], ham[1:9:]\n",
    "ham[lower:upper], ham[lower:upper:], ham[lower::step]\n",
    "ham[lower+offset : upper+offset]\n",
    "ham[: upper_fn(x) : step_fn(x)], ham[:: step_fn(x)]\n",
    "ham[lower + offset : upper + offset]\n",
    "\n",
    "# Wrong:\n",
    "ham[lower + offset:upper + offset]\n",
    "ham[1: 9], ham[1 :9], ham[1:9 :3]\n",
    "ham[lower : : upper]\n",
    "ham[ : upper]"
   ]
  },
  {
   "cell_type": "markdown",
   "metadata": {},
   "source": [
    "- Непосредственно перед открывающей круглой скобкой, с которой начинается список аргументов вызова функции:"
   ]
  },
  {
   "cell_type": "code",
   "execution_count": null,
   "metadata": {},
   "outputs": [],
   "source": [
    "# Correct:\n",
    "spam(1)\n",
    "\n",
    "# Wrong:\n",
    "spam (1)"
   ]
  },
  {
   "cell_type": "markdown",
   "metadata": {},
   "source": [
    "- Непосредственно перед открывающей квадратной скобкой, запускающей индексацию или нарезку:"
   ]
  },
  {
   "cell_type": "code",
   "execution_count": null,
   "metadata": {},
   "outputs": [],
   "source": [
    "# Correct:\n",
    "dct['key'] = lst[index]\n",
    "\n",
    "# Wrong:\n",
    "dct ['key'] = lst [index]"
   ]
  },
  {
   "cell_type": "markdown",
   "metadata": {},
   "source": [
    "- Более одного пробела вокруг оператора присваивания (или другого), чтобы выровнять его с другим:"
   ]
  },
  {
   "cell_type": "code",
   "execution_count": null,
   "metadata": {},
   "outputs": [],
   "source": [
    "# Correct:\n",
    "x = 1\n",
    "y = 2\n",
    "long_variable = 3\n",
    "\n",
    "\n",
    "# Wrong:\n",
    "x             = 1\n",
    "y             = 2\n",
    "long_variable = 3"
   ]
  },
  {
   "cell_type": "markdown",
   "metadata": {},
   "source": [
    "#### Ещё несколько советов"
   ]
  },
  {
   "cell_type": "markdown",
   "metadata": {},
   "source": [
    "- Избегайте конечных пробелов в любом месте. Поскольку обычно это невидимо, это может сбивать с толку: например, обратная косая черта, за которой следует пробел, и новая строка не считаются маркером продолжения строки. \n",
    "\n",
    "- Всегда следует окружать бинарные операторы одним пробелом с обеих сторон: присваивание (=), расширенное присваивание (=, - = и т. Д.), Сравнения (==, <,>,! =, <>, <=,> =, in, not in, is, is, не), Booleans (and, or, not).\n",
    "\n",
    "- Если используются операторы с разными приоритетами, рассмотрите возможность добавления пробелов вокруг операторов с самым низким приоритетом (-ами)."
   ]
  },
  {
   "cell_type": "code",
   "execution_count": null,
   "metadata": {},
   "outputs": [],
   "source": [
    "# Correct:\n",
    "i = i + 1\n",
    "submitted += 1                              \n",
    "x = x*2 - 1\n",
    "hypot2 = x*x + y*y\n",
    "c = (a+b) * (a-b)\n",
    "\n",
    "# Wrong:\n",
    "i=i+1\n",
    "submitted +=1\n",
    "x = x * 2 - 1\n",
    "hypot2 = x * x + y * y\n",
    "c = (a + b) * (a - b)"
   ]
  },
  {
   "cell_type": "markdown",
   "metadata": {},
   "source": [
    "- Не следует использовать пробелы вокруг знака =, когда он используется для указания аргумента ключевого слова или когда используется для указания значения по умолчанию для неаннотированного параметра функции:"
   ]
  },
  {
   "cell_type": "code",
   "execution_count": null,
   "metadata": {},
   "outputs": [],
   "source": [
    "# Correct:\n",
    "def complex(real, imag=0.0):\n",
    "    return magic(r=real, i=imag)\n",
    "\n",
    "    \n",
    "# Wrong:\n",
    "def complex(real, imag = 0.0):\n",
    "    return magic(r = real, i = imag)"
   ]
  },
  {
   "cell_type": "markdown",
   "metadata": {},
   "source": [
    "- Составные операторы (несколько операторов в одной строке) обычно не приветствуются:"
   ]
  },
  {
   "cell_type": "code",
   "execution_count": null,
   "metadata": {},
   "outputs": [],
   "source": [
    "# Correct:\n",
    "if foo == 'blah':\n",
    "    do_blah_thing()\n",
    "do_one()\n",
    "do_two()\n",
    "do_three()\n",
    "\n",
    "\n",
    "# Wrong:\n",
    "if foo == 'blah': do_blah_thing()\n",
    "do_one(); do_two(); do_three()"
   ]
  },
  {
   "cell_type": "markdown",
   "metadata": {},
   "source": [
    "## Комментарии"
   ]
  },
  {
   "cell_type": "markdown",
   "metadata": {},
   "source": [
    "- Комментарии, противоречащие коду, хуже, чем отсутствие комментариев. Всегда уделяйте первоочередное внимание обновлению комментариев при изменении кода!\n",
    "- Комментарии должны быть полными предложениями. Первое слово должно быть написано с заглавной буквы, если только это не идентификатор, начинающийся со строчной буквы (никогда не меняйте регистр идентификаторов!).\n",
    "- Блочные комментарии обычно состоят из одного или нескольких абзацев, составленных из полных предложений, причем каждое предложение заканчивается точкой.\n",
    "- Вы должны использовать два пробела после точки в конце предложения в комментариях, состоящих из нескольких предложений, за исключением последнего предложения.\n",
    "- Убедитесь, что ваши комментарии ясны и легко понятны другим носителям языка, на котором вы пишете.\n",
    "- Программисты Python из неанглоязычных стран: пишите свои комментарии на английском языке, если вы не уверены на 120%, что код никогда не будет прочитан людьми, которые не говорят на вашем языке."
   ]
  },
  {
   "cell_type": "markdown",
   "metadata": {},
   "source": [
    "### Блоки комментариев\n",
    "\n",
    "Комментарии блоков обычно применяются к некоторому (или ко всему) коду, который следует за ними, и имеют отступ на том же уровне, что и этот код. Каждая строка блочного комментария начинается с символа # и одного пробела (если это не текст с отступом внутри комментария).\n",
    "\n",
    "Абзацы внутри комментария блока разделяются строкой, содержащей один символ #."
   ]
  },
  {
   "cell_type": "code",
   "execution_count": null,
   "metadata": {},
   "outputs": [],
   "source": [
    "# Максимально длинный комментарий, которые описывает некоторое\n",
    "# непонятное место в коде.  Второе предложение.\n",
    "#\n",
    "# Этот код сделан учебным примером\n",
    "# и именно поэтому комментарий к нему пишется на русском языке.\n",
    "\n",
    "def hello():\n",
    "    return \"Hello\""
   ]
  },
  {
   "cell_type": "markdown",
   "metadata": {},
   "source": [
    "### Встроенные (inline) комментарии\n",
    "\n",
    "Экономно используйте встроенные комментарии.\n",
    "\n",
    "Встроенный комментарий - это комментарий в той же строке, что и оператор. Встроенные комментарии должны отделяться от оператора как минимум двумя пробелами. Они должны начинаться с символа # и одного пробела.\n",
    "\n",
    "Встроенные комментарии не нужны и фактически отвлекают, если в них говорится об очевидном. Не делайте этого:"
   ]
  },
  {
   "cell_type": "code",
   "execution_count": null,
   "metadata": {},
   "outputs": [],
   "source": [
    "x = x + 1  # Increment x"
   ]
  },
  {
   "cell_type": "code",
   "execution_count": null,
   "metadata": {},
   "outputs": [],
   "source": [
    "x = x + 1  # Compensate for border"
   ]
  },
  {
   "cell_type": "markdown",
   "metadata": {},
   "source": [
    "## Соглашение об именовании\n",
    "\n",
    "Обычно различают следующие стили именования:\n",
    "\n",
    "- b (single lowercase letter)\n",
    "- B (single uppercase letter)\n",
    "- lowercase\n",
    "- lower_case_with_underscores\n",
    "- UPPERCASE\n",
    "- UPPER_CASE_WITH_UNDERSCORES\n",
    "- CapitalizedWords (or CapWords, or CamelCase).\n",
    "Примечание. При использовании аббревиатур в CapWords делайте все буквы аббревиатуры заглавными. Таким образом, HTTPServerError лучше, чем HttpServerError.\n",
    "- mixedCase\n",
    "- Capitalized_Words_With_Underscores\n",
    "\n",
    "\n",
    "### Имена, которых следует избегать\n",
    "Никогда не используйте символы 'l' (строчная буква el), 'O' (прописная буква oh) или 'I' (заглавная буква eye) в качестве односимвольных имен переменных.\n",
    "\n",
    "В некоторых шрифтах эти символы неотличимы от цифр «единица» и «ноль». Когда возникает соблазн использовать «l», используйте вместо этого «L».\n",
    "\n",
    "### Константы\n",
    "\n",
    "Константы обычно определяются на уровне модуля и пишутся заглавными буквами с подчеркиванием, разделяющим слова. Пример: MAX_OVERFLOW и TOTAL.\n",
    "\n",
    "### Имена функций и переменных\n",
    "Имена функций должны быть в нижнем регистре, а слова должны быть разделены подчеркиванием по мере необходимости для повышения удобочитаемости.\n",
    "\n",
    "Имена переменных следуют тому же соглашению, что и имена функций.\n",
    "\n",
    "mixedCase разрешен только в тех контекстах, где это уже преобладающий стиль (например, threading.py), чтобы сохранить обратную совместимость."
   ]
  },
  {
   "cell_type": "code",
   "execution_count": null,
   "metadata": {
    "collapsed": false,
    "pycharm": {
     "name": "#%%\n"
    }
   },
   "outputs": [],
   "source": [
    "help(list)"
   ]
  },
  {
   "cell_type": "code",
   "execution_count": null,
   "metadata": {
    "collapsed": false,
    "pycharm": {
     "name": "#%%\n"
    }
   },
   "outputs": [],
   "source": [
    "help([1, 2].pop)"
   ]
  },
  {
   "attachments": {},
   "cell_type": "markdown",
   "id": "1147f2bc",
   "metadata": {},
   "source": [
    "<!-- # Вопросы для самостоятельного изучения: -->\n",
    "\n",
    "\n",
    "# Вопросы к зачету\n",
    "\n",
    "- Где и зачем используются исключения?\n",
    "- Что будет если не обработать исключение?\n",
    "\n",
    "- Как работать с файлами в стиле Python?\n",
    "- Что такое комментарий в Python?\n",
    "- Что такое идентификатор объекта, зачем он нужен? Почему на некоторых значениях стандартного типа идентификаторы объекта одинаковы, а на некоторых разные?"
   ]
  },
  {
   "cell_type": "markdown",
   "metadata": {},
   "source": []
  }
 ],
 "metadata": {
  "kernelspec": {
   "display_name": "Python 3.9.12 64-bit",
   "language": "python",
   "name": "python3"
  },
  "language_info": {
   "codemirror_mode": {
    "name": "ipython",
    "version": 3
   },
   "file_extension": ".py",
   "mimetype": "text/x-python",
   "name": "python",
   "nbconvert_exporter": "python",
   "pygments_lexer": "ipython3",
   "version": "3.8.11"
  },
  "orig_nbformat": 4,
  "vscode": {
   "interpreter": {
    "hash": "b0fa6594d8f4cbf19f97940f81e996739fb7646882a419484c72d19e05852a7e"
   }
  }
 },
 "nbformat": 4,
 "nbformat_minor": 2
}

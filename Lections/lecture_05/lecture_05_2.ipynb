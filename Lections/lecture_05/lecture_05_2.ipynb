{
 "cells": [
  {
   "cell_type": "markdown",
   "metadata": {
    "collapsed": false
   },
   "source": [
    "# Введение в методы анализа данных. Язык Python."
   ]
  },
  {
   "cell_type": "markdown",
   "metadata": {
    "collapsed": false
   },
   "source": [
    "## Лекция 5: Обзор инструментов для анализа данных и машинного обучения. Вывод графики для отчетов: matplotlib\n",
    "<br><br><br><br>\n",
    "__Аксентьев Артем (akseart@ya.ru)__\n",
    "\n",
    "__Ксемидов Борис (bworkboris@yandex.ru)__\n",
    "<br>"
   ]
  },
  {
   "cell_type": "markdown",
   "id": "1147f2bc",
   "metadata": {},
   "source": [
    "# План:\n",
    "- NumPy\n",
    "- Pandas\n",
    "- MatPlotLib\n",
    "- Plotly"
   ]
  },
  {
   "cell_type": "markdown",
   "metadata": {
    "collapsed": false
   },
   "source": [
    "# NumPy\n",
    "\n",
    "Библиотека работы с массивами"
   ]
  },
  {
   "cell_type": "markdown",
   "metadata": {
    "collapsed": false
   },
   "source": [
    "## Создание массива и общие подходы:"
   ]
  },
  {
   "cell_type": "code",
   "execution_count": null,
   "outputs": [],
   "source": [
    "!pip install numpy"
   ],
   "metadata": {
    "collapsed": false
   }
  },
  {
   "cell_type": "code",
   "execution_count": null,
   "metadata": {
    "collapsed": false
   },
   "outputs": [],
   "source": [
    "import numpy as np\n",
    "\n",
    "b = np.array([11, 22, 33, 1])\n",
    "\n",
    "print(b)"
   ]
  },
  {
   "cell_type": "code",
   "execution_count": null,
   "metadata": {
    "collapsed": false
   },
   "outputs": [],
   "source": [
    "type(b)"
   ]
  },
  {
   "cell_type": "markdown",
   "metadata": {
    "collapsed": false
   },
   "source": [
    "Число измерений массива:"
   ]
  },
  {
   "cell_type": "code",
   "execution_count": null,
   "metadata": {
    "collapsed": false
   },
   "outputs": [],
   "source": [
    "b.ndim"
   ]
  },
  {
   "cell_type": "markdown",
   "metadata": {
    "collapsed": false
   },
   "source": [
    "Размеры массива:"
   ]
  },
  {
   "cell_type": "code",
   "execution_count": null,
   "metadata": {
    "collapsed": false
   },
   "outputs": [],
   "source": [
    "b.shape"
   ]
  },
  {
   "cell_type": "markdown",
   "metadata": {
    "collapsed": false
   },
   "source": [
    "Количество элементов массива:"
   ]
  },
  {
   "cell_type": "code",
   "execution_count": null,
   "metadata": {
    "collapsed": false
   },
   "outputs": [],
   "source": [
    "b.size"
   ]
  },
  {
   "cell_type": "markdown",
   "metadata": {
    "collapsed": false
   },
   "source": [
    "Тип данных массива:"
   ]
  },
  {
   "cell_type": "code",
   "execution_count": null,
   "metadata": {
    "collapsed": false
   },
   "outputs": [],
   "source": [
    "b.dtype"
   ]
  },
  {
   "cell_type": "markdown",
   "metadata": {
    "collapsed": false
   },
   "source": [
    "## Многомерные массивы:"
   ]
  },
  {
   "cell_type": "code",
   "execution_count": null,
   "metadata": {
    "collapsed": false
   },
   "outputs": [],
   "source": [
    "b = np.array([[1.5, 2, 3], [4, 5, 6]])\n",
    "print(b)"
   ]
  },
  {
   "cell_type": "code",
   "execution_count": null,
   "metadata": {
    "collapsed": false
   },
   "outputs": [],
   "source": [
    "b = np.array([[1.5, 2, 3], [4, 5, 6]], dtype=np.int64)\n",
    "print(b)"
   ]
  },
  {
   "cell_type": "markdown",
   "metadata": {
    "collapsed": false
   },
   "source": [
    "## Другие методы создания массивов:"
   ]
  },
  {
   "cell_type": "code",
   "execution_count": null,
   "metadata": {
    "collapsed": false
   },
   "outputs": [],
   "source": [
    "np.zeros((5, 7))"
   ]
  },
  {
   "cell_type": "code",
   "execution_count": null,
   "metadata": {
    "collapsed": false
   },
   "outputs": [],
   "source": [
    "np.ones((5, 7))"
   ]
  },
  {
   "cell_type": "code",
   "execution_count": 1,
   "metadata": {
    "collapsed": false
   },
   "outputs": [
    {
     "data": {
      "text/plain": "array([[-2.31584178e+077,  3.10503641e+231,  2.15239976e-314,\n        -1.81440612e+174,  2.15224085e-314,  2.15240728e-314,\n         2.01414476e+153],\n       [ 2.15233559e-314,  2.15240735e-314,  4.07292700e-070,\n         2.15224107e-314,  2.15240742e-314, -9.61383445e-034,\n         2.15224117e-314],\n       [ 2.15240749e-314,  2.46973140e+294,  2.15223168e-314,\n         2.15240756e-314,  8.79802732e+102,  2.15233603e-314,\n         2.15240763e-314],\n       [ 1.01119900e+098,  2.15201780e-314,  2.15240771e-314,\n        -1.03110488e+155,  2.13097507e-314,  2.15240778e-314,\n        -2.03218811e-161],\n       [ 2.13099066e-314,  2.15240788e-314, -6.16529460e-057,\n         2.15233660e-314,  2.15240795e-314,  8.06335208e+072,\n         2.15233533e-314]])"
     },
     "execution_count": 1,
     "metadata": {},
     "output_type": "execute_result"
    }
   ],
   "source": [
    "import numpy as np\n",
    "np.empty((5, 7))"
   ]
  },
  {
   "cell_type": "code",
   "execution_count": 2,
   "metadata": {
    "collapsed": false
   },
   "outputs": [
    {
     "data": {
      "text/plain": "array([[1., 0., 0., 0., 0., 0., 0.],\n       [0., 1., 0., 0., 0., 0., 0.],\n       [0., 0., 1., 0., 0., 0., 0.],\n       [0., 0., 0., 1., 0., 0., 0.],\n       [0., 0., 0., 0., 1., 0., 0.],\n       [0., 0., 0., 0., 0., 1., 0.],\n       [0., 0., 0., 0., 0., 0., 1.]])"
     },
     "execution_count": 2,
     "metadata": {},
     "output_type": "execute_result"
    }
   ],
   "source": [
    "np.eye(7)"
   ]
  },
  {
   "cell_type": "code",
   "execution_count": 4,
   "metadata": {
    "collapsed": false
   },
   "outputs": [
    {
     "name": "stdout",
     "output_type": "stream",
     "text": [
      "[ 0  3  6  9 12 15 18 21 24 27]\n"
     ]
    }
   ],
   "source": [
    "print(np.arange(0, 30, 3))"
   ]
  },
  {
   "cell_type": "markdown",
   "metadata": {
    "collapsed": false
   },
   "source": [
    "Для вещественных чисел:"
   ]
  },
  {
   "cell_type": "code",
   "execution_count": 5,
   "metadata": {
    "collapsed": false
   },
   "outputs": [
    {
     "name": "stdout",
     "output_type": "stream",
     "text": [
      "[ 0.   5.3 10.6 15.9 21.2 26.5]\n"
     ]
    }
   ],
   "source": [
    "print(np.arange(0, 30, 5.3))"
   ]
  },
  {
   "cell_type": "markdown",
   "metadata": {
    "collapsed": false
   },
   "source": [
    "Однако, не очень корректно использовать arange из-за проблем с точностью представления типа float в памяти компьютера. Нам заранее неизвестно сколько чисел получится."
   ]
  },
  {
   "cell_type": "code",
   "execution_count": 7,
   "metadata": {
    "collapsed": false
   },
   "outputs": [
    {
     "name": "stdout",
     "output_type": "stream",
     "text": [
      "[0.  0.5 1. ]\n"
     ]
    }
   ],
   "source": [
    "print(np.linspace(0, 1, 3))"
   ]
  },
  {
   "cell_type": "code",
   "execution_count": 9,
   "metadata": {
    "collapsed": false
   },
   "outputs": [
    {
     "name": "stdout",
     "output_type": "stream",
     "text": [
      "[0.33783051 0.5599704  0.05462393 0.94018744 0.70708444 0.38621245\n",
      " 0.85689027 0.68209008 0.13446055 0.06977075]\n"
     ]
    }
   ],
   "source": [
    "print(np.random.random(10))"
   ]
  },
  {
   "cell_type": "code",
   "execution_count": 10,
   "metadata": {
    "collapsed": false
   },
   "outputs": [
    {
     "data": {
      "text/plain": "array([16, 26, 19])"
     },
     "execution_count": 10,
     "metadata": {},
     "output_type": "execute_result"
    }
   ],
   "source": [
    "np.random.randint(0, 31, 3)"
   ]
  },
  {
   "cell_type": "code",
   "execution_count": 11,
   "metadata": {
    "collapsed": false
   },
   "outputs": [
    {
     "data": {
      "text/plain": "array([[0.02439253, 0.40974544, 0.43081087],\n       [0.52290446, 0.03848754, 0.14207983],\n       [0.7467088 , 0.61236439, 0.94096796],\n       [0.8671263 , 0.30260927, 0.57571051],\n       [0.99153516, 0.70031221, 0.0795174 ]])"
     },
     "execution_count": 11,
     "metadata": {},
     "output_type": "execute_result"
    }
   ],
   "source": [
    "np.random.random_sample((5, 3))"
   ]
  },
  {
   "cell_type": "markdown",
   "metadata": {
    "collapsed": false
   },
   "source": [
    "## Математические операции над массивами:"
   ]
  },
  {
   "cell_type": "code",
   "execution_count": 12,
   "metadata": {
    "collapsed": false
   },
   "outputs": [],
   "source": [
    "a = np.random.randint(2, 10, 7)\n",
    "b = np.random.randint(2, 10, 7)"
   ]
  },
  {
   "cell_type": "code",
   "execution_count": 13,
   "metadata": {
    "collapsed": false
   },
   "outputs": [
    {
     "data": {
      "text/plain": "(array([7, 7, 6, 4, 6, 9, 7]), array([7, 6, 3, 4, 7, 9, 6]))"
     },
     "execution_count": 13,
     "metadata": {},
     "output_type": "execute_result"
    }
   ],
   "source": [
    "a, b"
   ]
  },
  {
   "cell_type": "code",
   "execution_count": 14,
   "metadata": {
    "collapsed": false
   },
   "outputs": [
    {
     "data": {
      "text/plain": "array([14, 13,  9,  8, 13, 18, 13])"
     },
     "execution_count": 14,
     "metadata": {},
     "output_type": "execute_result"
    }
   ],
   "source": [
    "a + b"
   ]
  },
  {
   "cell_type": "code",
   "execution_count": 15,
   "metadata": {
    "collapsed": false
   },
   "outputs": [
    {
     "data": {
      "text/plain": "array([1.        , 1.16666667, 2.        , 1.        , 0.85714286,\n       1.        , 1.16666667])"
     },
     "execution_count": 15,
     "metadata": {},
     "output_type": "execute_result"
    }
   ],
   "source": [
    "a / b"
   ]
  },
  {
   "cell_type": "code",
   "execution_count": 16,
   "metadata": {
    "collapsed": false
   },
   "outputs": [
    {
     "data": {
      "text/plain": "array([ 0,  1,  3,  0, -1,  0,  1])"
     },
     "execution_count": 16,
     "metadata": {},
     "output_type": "execute_result"
    }
   ],
   "source": [
    "a - b"
   ]
  },
  {
   "cell_type": "code",
   "execution_count": 17,
   "metadata": {
    "collapsed": false
   },
   "outputs": [
    {
     "data": {
      "text/plain": "array([   823543,    117649,       216,       256,    279936, 387420489,\n          117649])"
     },
     "execution_count": 17,
     "metadata": {},
     "output_type": "execute_result"
    }
   ],
   "source": [
    "a ** b"
   ]
  },
  {
   "cell_type": "code",
   "execution_count": 18,
   "metadata": {
    "collapsed": false
   },
   "outputs": [
    {
     "data": {
      "text/plain": "array([49, 42, 18, 16, 42, 81, 42])"
     },
     "execution_count": 18,
     "metadata": {},
     "output_type": "execute_result"
    }
   ],
   "source": [
    "a * b"
   ]
  },
  {
   "cell_type": "code",
   "execution_count": 19,
   "metadata": {
    "collapsed": false
   },
   "outputs": [
    {
     "data": {
      "text/plain": "array([0, 1, 0, 0, 6, 0, 1])"
     },
     "execution_count": 19,
     "metadata": {},
     "output_type": "execute_result"
    }
   ],
   "source": [
    "a % b"
   ]
  },
  {
   "cell_type": "code",
   "execution_count": 20,
   "metadata": {
    "collapsed": false
   },
   "outputs": [
    {
     "data": {
      "text/plain": "array([ 0.75390225,  0.75390225,  0.96017029, -0.65364362,  0.96017029,\n       -0.91113026,  0.75390225])"
     },
     "execution_count": 20,
     "metadata": {},
     "output_type": "execute_result"
    }
   ],
   "source": [
    "np.cos(a)"
   ]
  },
  {
   "cell_type": "code",
   "execution_count": 21,
   "metadata": {
    "collapsed": false
   },
   "outputs": [
    {
     "data": {
      "text/plain": "array([ 0.6569866 ,  0.6569866 , -0.2794155 , -0.7568025 , -0.2794155 ,\n        0.41211849,  0.6569866 ])"
     },
     "execution_count": 21,
     "metadata": {},
     "output_type": "execute_result"
    }
   ],
   "source": [
    "np.sin(a)"
   ]
  },
  {
   "cell_type": "code",
   "execution_count": 22,
   "metadata": {
    "collapsed": false
   },
   "outputs": [
    {
     "data": {
      "text/plain": "array([ 8,  8,  7,  5,  7, 10,  8])"
     },
     "execution_count": 22,
     "metadata": {},
     "output_type": "execute_result"
    }
   ],
   "source": [
    "a + 1"
   ]
  },
  {
   "cell_type": "code",
   "execution_count": 23,
   "metadata": {
    "collapsed": false
   },
   "outputs": [
    {
     "data": {
      "text/plain": "array([ 282475249,  282475249,   60466176,    1048576,   60466176,\n       3486784401,  282475249])"
     },
     "execution_count": 23,
     "metadata": {},
     "output_type": "execute_result"
    }
   ],
   "source": [
    "a ** 10"
   ]
  },
  {
   "cell_type": "code",
   "execution_count": 25,
   "metadata": {
    "collapsed": false
   },
   "outputs": [
    {
     "data": {
      "text/plain": "array([False, False, False,  True, False, False, False])"
     },
     "execution_count": 25,
     "metadata": {},
     "output_type": "execute_result"
    }
   ],
   "source": [
    "a ** 10 < 5_000_000"
   ]
  },
  {
   "cell_type": "markdown",
   "metadata": {
    "collapsed": false
   },
   "source": [
    "## Статистические функции"
   ]
  },
  {
   "cell_type": "code",
   "execution_count": 28,
   "outputs": [
    {
     "data": {
      "text/plain": "array([7, 7, 6, 4, 6, 9, 7])"
     },
     "execution_count": 28,
     "metadata": {},
     "output_type": "execute_result"
    }
   ],
   "source": [
    "a"
   ],
   "metadata": {
    "collapsed": false,
    "pycharm": {
     "name": "#%%\n"
    }
   }
  },
  {
   "cell_type": "code",
   "execution_count": 26,
   "metadata": {
    "collapsed": false
   },
   "outputs": [
    {
     "data": {
      "text/plain": "46"
     },
     "execution_count": 26,
     "metadata": {},
     "output_type": "execute_result"
    }
   ],
   "source": [
    "a.sum()"
   ]
  },
  {
   "cell_type": "code",
   "execution_count": 27,
   "metadata": {
    "collapsed": false
   },
   "outputs": [
    {
     "data": {
      "text/plain": "array([ 7, 14, 20, 24, 30, 39, 46])"
     },
     "execution_count": 27,
     "metadata": {},
     "output_type": "execute_result"
    }
   ],
   "source": [
    "a.cumsum()"
   ]
  },
  {
   "cell_type": "code",
   "execution_count": 29,
   "metadata": {
    "collapsed": false
   },
   "outputs": [
    {
     "data": {
      "text/plain": "4"
     },
     "execution_count": 29,
     "metadata": {},
     "output_type": "execute_result"
    }
   ],
   "source": [
    "a.min()"
   ]
  },
  {
   "cell_type": "code",
   "execution_count": 30,
   "metadata": {
    "collapsed": false
   },
   "outputs": [
    {
     "data": {
      "text/plain": "9"
     },
     "execution_count": 30,
     "metadata": {},
     "output_type": "execute_result"
    }
   ],
   "source": [
    "a.max()"
   ]
  },
  {
   "cell_type": "code",
   "execution_count": 31,
   "metadata": {
    "collapsed": false
   },
   "outputs": [],
   "source": [
    "a = np.random.randint(2, 10, (7, 4))"
   ]
  },
  {
   "cell_type": "code",
   "execution_count": 32,
   "metadata": {
    "collapsed": false
   },
   "outputs": [
    {
     "data": {
      "text/plain": "array([[7, 3, 7, 9],\n       [7, 7, 9, 7],\n       [9, 2, 2, 5],\n       [7, 6, 4, 3],\n       [9, 8, 7, 7],\n       [4, 2, 9, 2],\n       [3, 5, 2, 4]])"
     },
     "execution_count": 32,
     "metadata": {},
     "output_type": "execute_result"
    }
   ],
   "source": [
    "a"
   ]
  },
  {
   "cell_type": "code",
   "execution_count": 33,
   "metadata": {
    "collapsed": false
   },
   "outputs": [
    {
     "data": {
      "text/plain": "156"
     },
     "execution_count": 33,
     "metadata": {},
     "output_type": "execute_result"
    }
   ],
   "source": [
    "a.sum()"
   ]
  },
  {
   "cell_type": "code",
   "execution_count": 34,
   "metadata": {
    "collapsed": false
   },
   "outputs": [
    {
     "data": {
      "text/plain": "array([46, 33, 40, 37])"
     },
     "execution_count": 34,
     "metadata": {},
     "output_type": "execute_result"
    }
   ],
   "source": [
    "a.sum(0)"
   ]
  },
  {
   "cell_type": "code",
   "execution_count": 35,
   "metadata": {
    "collapsed": false
   },
   "outputs": [
    {
     "data": {
      "text/plain": "array([26, 30, 18, 20, 31, 17, 14])"
     },
     "execution_count": 35,
     "metadata": {},
     "output_type": "execute_result"
    }
   ],
   "source": [
    "a.sum(1)"
   ]
  },
  {
   "cell_type": "code",
   "execution_count": 38,
   "metadata": {
    "collapsed": false
   },
   "outputs": [
    {
     "data": {
      "text/plain": "array([[ 7,  3,  7,  9],\n       [14, 10, 16, 16],\n       [23, 12, 18, 21],\n       [30, 18, 22, 24],\n       [39, 26, 29, 31],\n       [43, 28, 38, 33],\n       [46, 33, 40, 37]])"
     },
     "execution_count": 38,
     "metadata": {},
     "output_type": "execute_result"
    }
   ],
   "source": [
    "a.cumsum(0)"
   ]
  },
  {
   "cell_type": "markdown",
   "metadata": {
    "collapsed": false
   },
   "source": [
    "Полный список операций смотри в документации: https://numpy.org/doc/stable/reference/routines.math.html"
   ]
  },
  {
   "cell_type": "markdown",
   "metadata": {
    "collapsed": false
   },
   "source": [
    "## Индексация"
   ]
  },
  {
   "cell_type": "code",
   "execution_count": 39,
   "metadata": {
    "collapsed": false
   },
   "outputs": [
    {
     "data": {
      "text/plain": "array([[ 7,  3,  7,  9],\n       [14, 10, 16, 16],\n       [23, 12, 18, 21],\n       [30, 18, 22, 24],\n       [39, 26, 29, 31],\n       [43, 28, 38, 33],\n       [46, 33, 40, 37]])"
     },
     "execution_count": 39,
     "metadata": {},
     "output_type": "execute_result"
    }
   ],
   "source": [
    "a = a.cumsum(0)\n",
    "a"
   ]
  },
  {
   "cell_type": "markdown",
   "metadata": {
    "collapsed": false
   },
   "source": [
    "Строка:"
   ]
  },
  {
   "cell_type": "code",
   "execution_count": 40,
   "metadata": {
    "collapsed": false
   },
   "outputs": [
    {
     "data": {
      "text/plain": "array([14, 10, 16, 16])"
     },
     "execution_count": 40,
     "metadata": {},
     "output_type": "execute_result"
    }
   ],
   "source": [
    "a[1]"
   ]
  },
  {
   "cell_type": "markdown",
   "metadata": {
    "collapsed": false
   },
   "source": [
    "Элемент"
   ]
  },
  {
   "cell_type": "code",
   "execution_count": 42,
   "metadata": {
    "collapsed": false
   },
   "outputs": [
    {
     "ename": "SyntaxError",
     "evalue": "invalid syntax (461427778.py, line 1)",
     "output_type": "error",
     "traceback": [
      "\u001B[0;36m  File \u001B[0;32m\"/var/folders/g0/yt0m6mx534b6cl53216hwy940000gn/T/ipykernel_85658/461427778.py\"\u001B[0;36m, line \u001B[0;32m1\u001B[0m\n\u001B[0;31m    a[, 1]\u001B[0m\n\u001B[0m      ^\u001B[0m\n\u001B[0;31mSyntaxError\u001B[0m\u001B[0;31m:\u001B[0m invalid syntax\n"
     ]
    }
   ],
   "source": [
    "a[1, 1]"
   ]
  },
  {
   "cell_type": "markdown",
   "metadata": {
    "collapsed": false
   },
   "source": [
    "Срезы:"
   ]
  },
  {
   "cell_type": "code",
   "execution_count": 43,
   "metadata": {
    "collapsed": false
   },
   "outputs": [
    {
     "data": {
      "text/plain": "array([[ 7,  3,  7,  9],\n       [14, 10, 16, 16]])"
     },
     "execution_count": 43,
     "metadata": {},
     "output_type": "execute_result"
    }
   ],
   "source": [
    "a[:2]"
   ]
  },
  {
   "cell_type": "code",
   "execution_count": 46,
   "metadata": {
    "collapsed": false
   },
   "outputs": [
    {
     "data": {
      "text/plain": "array([[ 7,  3],\n       [14, 10],\n       [23, 12],\n       [30, 18],\n       [39, 26],\n       [43, 28],\n       [46, 33]])"
     },
     "execution_count": 46,
     "metadata": {},
     "output_type": "execute_result"
    }
   ],
   "source": [
    "a[:,:2]"
   ]
  },
  {
   "cell_type": "markdown",
   "metadata": {
    "collapsed": false
   },
   "source": [
    "## Итерация по массивам"
   ]
  },
  {
   "cell_type": "code",
   "execution_count": 47,
   "metadata": {
    "collapsed": false
   },
   "outputs": [
    {
     "data": {
      "text/plain": "array([7, 6, 3, 4, 7, 9, 6])"
     },
     "execution_count": 47,
     "metadata": {},
     "output_type": "execute_result"
    }
   ],
   "source": [
    "b"
   ]
  },
  {
   "cell_type": "code",
   "execution_count": 48,
   "metadata": {
    "collapsed": false
   },
   "outputs": [
    {
     "name": "stdout",
     "output_type": "stream",
     "text": [
      "7\n",
      "6\n",
      "3\n",
      "4\n",
      "7\n",
      "9\n",
      "6\n"
     ]
    }
   ],
   "source": [
    "for i in b:\n",
    "    print(i)"
   ]
  },
  {
   "cell_type": "code",
   "execution_count": 50,
   "metadata": {
    "collapsed": false
   },
   "outputs": [
    {
     "name": "stdout",
     "output_type": "stream",
     "text": [
      "[7 3 7 9] <class 'numpy.ndarray'>\n",
      "[14 10 16 16] <class 'numpy.ndarray'>\n",
      "[23 12 18 21] <class 'numpy.ndarray'>\n",
      "[30 18 22 24] <class 'numpy.ndarray'>\n",
      "[39 26 29 31] <class 'numpy.ndarray'>\n",
      "[43 28 38 33] <class 'numpy.ndarray'>\n",
      "[46 33 40 37] <class 'numpy.ndarray'>\n"
     ]
    }
   ],
   "source": [
    "for i in a:\n",
    "    print(i, type(i))"
   ]
  },
  {
   "cell_type": "code",
   "execution_count": 51,
   "metadata": {
    "collapsed": false
   },
   "outputs": [
    {
     "name": "stdout",
     "output_type": "stream",
     "text": [
      "7\n",
      "3\n",
      "7\n",
      "9\n",
      "14\n",
      "10\n",
      "16\n",
      "16\n",
      "23\n",
      "12\n",
      "18\n",
      "21\n",
      "30\n",
      "18\n",
      "22\n",
      "24\n",
      "39\n",
      "26\n",
      "29\n",
      "31\n",
      "43\n",
      "28\n",
      "38\n",
      "33\n",
      "46\n",
      "33\n",
      "40\n",
      "37\n"
     ]
    }
   ],
   "source": [
    "for i in a.flatten():\n",
    "    print(i)"
   ]
  },
  {
   "cell_type": "markdown",
   "metadata": {
    "collapsed": false
   },
   "source": [
    "Меняем размеры массивов:"
   ]
  },
  {
   "cell_type": "code",
   "execution_count": 63,
   "metadata": {
    "collapsed": false
   },
   "outputs": [
    {
     "data": {
      "text/plain": "array([[[7, 4, 3, 3, 5, 4],\n        [4, 3, 9, 4, 5, 9],\n        [5, 3, 4, 3, 5, 2]],\n\n       [[6, 8, 6, 9, 3, 9],\n        [8, 7, 5, 7, 7, 7],\n        [7, 5, 6, 6, 6, 7]]])"
     },
     "execution_count": 63,
     "metadata": {},
     "output_type": "execute_result"
    }
   ],
   "source": [
    "a = np.random.randint(2, 10, (2, 3, 6))\n",
    "a"
   ]
  },
  {
   "cell_type": "code",
   "execution_count": 53,
   "metadata": {
    "collapsed": false
   },
   "outputs": [
    {
     "data": {
      "text/plain": "(2, 3, 4)"
     },
     "execution_count": 53,
     "metadata": {},
     "output_type": "execute_result"
    }
   ],
   "source": [
    "a.shape"
   ]
  },
  {
   "cell_type": "code",
   "execution_count": 56,
   "metadata": {
    "collapsed": false
   },
   "outputs": [
    {
     "data": {
      "text/plain": "array([[[5, 2, 8, 6],\n        [2, 6, 9, 2]],\n\n       [[8, 8, 3, 5],\n        [5, 2, 8, 5]],\n\n       [[6, 2, 4, 8],\n        [7, 8, 4, 6]]])"
     },
     "execution_count": 56,
     "metadata": {},
     "output_type": "execute_result"
    }
   ],
   "source": [
    "a.shape = (3, 2, 4)\n",
    "a"
   ]
  },
  {
   "cell_type": "code",
   "execution_count": 59,
   "metadata": {
    "collapsed": false
   },
   "outputs": [
    {
     "data": {
      "text/plain": "(array([[2, 3],\n        [6, 4],\n        [8, 8]]),\n array([[2, 6, 8],\n        [3, 4, 8]]))"
     },
     "execution_count": 59,
     "metadata": {},
     "output_type": "execute_result"
    }
   ],
   "source": [
    "a.transpose(), a"
   ]
  },
  {
   "cell_type": "code",
   "execution_count": 65,
   "metadata": {
    "collapsed": false
   },
   "outputs": [
    {
     "data": {
      "text/plain": "array([[7, 4, 3, 3, 5, 4, 4, 3, 9, 4, 5, 9],\n       [5, 3, 4, 3, 5, 2, 6, 8, 6, 9, 3, 9],\n       [8, 7, 5, 7, 7, 7, 7, 5, 6, 6, 6, 7]])"
     },
     "execution_count": 65,
     "metadata": {},
     "output_type": "execute_result"
    }
   ],
   "source": [
    "a.reshape((3, 12))"
   ]
  },
  {
   "cell_type": "code",
   "execution_count": 66,
   "metadata": {
    "collapsed": false
   },
   "outputs": [
    {
     "data": {
      "text/plain": "array([[7, 4, 3, 3, 5, 4, 4, 3, 9],\n       [4, 5, 9, 5, 3, 4, 3, 5, 2],\n       [6, 8, 6, 9, 3, 9, 8, 7, 5],\n       [7, 7, 7, 7, 5, 6, 6, 6, 7]])"
     },
     "execution_count": 66,
     "metadata": {},
     "output_type": "execute_result"
    }
   ],
   "source": [
    "a.reshape((4, -1))"
   ]
  },
  {
   "cell_type": "markdown",
   "metadata": {
    "collapsed": false
   },
   "source": [
    "## Объединение массивов"
   ]
  },
  {
   "cell_type": "code",
   "execution_count": 74,
   "metadata": {
    "collapsed": false
   },
   "outputs": [],
   "source": [
    "a = np.array([[1, 2], [3, 4]])\n",
    "b = np.array([[10, 20], [30, 40]])"
   ]
  },
  {
   "cell_type": "code",
   "execution_count": 75,
   "outputs": [
    {
     "data": {
      "text/plain": "(array([[1, 2],\n        [3, 4]]),\n array([[10, 20],\n        [30, 40]]))"
     },
     "execution_count": 75,
     "metadata": {},
     "output_type": "execute_result"
    }
   ],
   "source": [
    "a, b"
   ],
   "metadata": {
    "collapsed": false,
    "pycharm": {
     "name": "#%%\n"
    }
   }
  },
  {
   "cell_type": "code",
   "execution_count": 76,
   "metadata": {
    "collapsed": false
   },
   "outputs": [
    {
     "data": {
      "text/plain": "array([[ 1,  2],\n       [ 3,  4],\n       [10, 20],\n       [30, 40]])"
     },
     "execution_count": 76,
     "metadata": {},
     "output_type": "execute_result"
    }
   ],
   "source": [
    "np.vstack((a, b))"
   ]
  },
  {
   "cell_type": "code",
   "execution_count": 77,
   "metadata": {
    "collapsed": false
   },
   "outputs": [
    {
     "data": {
      "text/plain": "array([[ 1,  2, 10, 20],\n       [ 3,  4, 30, 40]])"
     },
     "execution_count": 77,
     "metadata": {},
     "output_type": "execute_result"
    }
   ],
   "source": [
    "np.hstack((a, b))"
   ]
  },
  {
   "cell_type": "markdown",
   "metadata": {
    "collapsed": false
   },
   "source": [
    "## Особенности копирования данных:"
   ]
  },
  {
   "cell_type": "code",
   "execution_count": 78,
   "metadata": {
    "collapsed": false
   },
   "outputs": [
    {
     "data": {
      "text/plain": "array([[1, 2],\n       [3, 4]])"
     },
     "execution_count": 78,
     "metadata": {},
     "output_type": "execute_result"
    }
   ],
   "source": [
    "a = np.array([[1, 2], [3, 4]])\n",
    "a"
   ]
  },
  {
   "cell_type": "code",
   "execution_count": 79,
   "metadata": {
    "collapsed": false
   },
   "outputs": [],
   "source": [
    "b = a"
   ]
  },
  {
   "cell_type": "code",
   "execution_count": 80,
   "metadata": {
    "collapsed": false
   },
   "outputs": [
    {
     "data": {
      "text/plain": "True"
     },
     "execution_count": 80,
     "metadata": {},
     "output_type": "execute_result"
    }
   ],
   "source": [
    "a is b"
   ]
  },
  {
   "cell_type": "code",
   "execution_count": 81,
   "metadata": {
    "collapsed": false
   },
   "outputs": [],
   "source": [
    "b[0, 0] = 100"
   ]
  },
  {
   "cell_type": "code",
   "execution_count": 82,
   "metadata": {
    "collapsed": false
   },
   "outputs": [
    {
     "data": {
      "text/plain": "array([[100,   2],\n       [  3,   4]])"
     },
     "execution_count": 82,
     "metadata": {},
     "output_type": "execute_result"
    }
   ],
   "source": [
    "a"
   ]
  },
  {
   "cell_type": "code",
   "execution_count": 83,
   "metadata": {
    "collapsed": false
   },
   "outputs": [],
   "source": [
    "b = a.copy()"
   ]
  },
  {
   "cell_type": "code",
   "execution_count": 84,
   "metadata": {
    "collapsed": false
   },
   "outputs": [
    {
     "data": {
      "text/plain": "array([[100,   2],\n       [  3,   4]])"
     },
     "execution_count": 84,
     "metadata": {},
     "output_type": "execute_result"
    }
   ],
   "source": [
    "b[0, 0] = 1000\n",
    "a"
   ]
  },
  {
   "cell_type": "code",
   "execution_count": 85,
   "metadata": {
    "collapsed": false
   },
   "outputs": [
    {
     "data": {
      "text/plain": "array([[1000,    2],\n       [   3,    4]])"
     },
     "execution_count": 85,
     "metadata": {},
     "output_type": "execute_result"
    }
   ],
   "source": [
    "b"
   ]
  },
  {
   "cell_type": "markdown",
   "metadata": {
    "collapsed": false
   },
   "source": [
    "## Немного про случайные числа"
   ]
  },
  {
   "cell_type": "code",
   "execution_count": 90,
   "metadata": {
    "collapsed": false
   },
   "outputs": [
    {
     "data": {
      "text/plain": "array([3, 1])"
     },
     "execution_count": 90,
     "metadata": {},
     "output_type": "execute_result"
    }
   ],
   "source": [
    "np.random.randint(0, 10, 2)"
   ]
  },
  {
   "cell_type": "code",
   "execution_count": 92,
   "metadata": {
    "collapsed": false
   },
   "outputs": [
    {
     "data": {
      "text/plain": "array([0.13908148, 0.78633759, 0.40485645, 0.93706692, 0.17090458,\n       0.93751977, 0.81516667, 0.76781165, 0.33380082, 0.7541091 ])"
     },
     "execution_count": 92,
     "metadata": {},
     "output_type": "execute_result"
    }
   ],
   "source": [
    "np.random.random(10)"
   ]
  },
  {
   "cell_type": "markdown",
   "metadata": {
    "collapsed": false
   },
   "source": [
    "## Операции для работы с линейной алгеброй"
   ]
  },
  {
   "cell_type": "code",
   "execution_count": 93,
   "metadata": {
    "collapsed": false
   },
   "outputs": [
    {
     "data": {
      "text/plain": "array([[1, 2],\n       [3, 4]])"
     },
     "execution_count": 93,
     "metadata": {},
     "output_type": "execute_result"
    }
   ],
   "source": [
    "a = np.array([[1, 2], [3, 4]])\n",
    "a"
   ]
  },
  {
   "cell_type": "markdown",
   "metadata": {
    "collapsed": false
   },
   "source": [
    "### Собственные значения и собственные векторы.\n",
    "\n",
    "http://mathprofi.ru/sobstvennye_znachenija_i_sobstvennye_vektory.html"
   ]
  },
  {
   "cell_type": "code",
   "execution_count": 94,
   "metadata": {
    "collapsed": false
   },
   "outputs": [
    {
     "data": {
      "text/plain": "(array([-0.37228132,  5.37228132]),\n array([[-0.82456484, -0.41597356],\n        [ 0.56576746, -0.90937671]]))"
     },
     "execution_count": 94,
     "metadata": {},
     "output_type": "execute_result"
    }
   ],
   "source": [
    "np.linalg.eig(a)"
   ]
  },
  {
   "cell_type": "markdown",
   "metadata": {
    "collapsed": false
   },
   "source": [
    "### Системы линейных уравнений\n",
    "\n",
    "http://mathprofi.ru/odnorodnye_sistemy_lineinyh_uravnenij.html"
   ]
  },
  {
   "cell_type": "code",
   "execution_count": 96,
   "metadata": {
    "collapsed": false
   },
   "outputs": [],
   "source": [
    "A = np.array([[2, 2, -1], [5, 4, -6], [3, 2, -5]])\n",
    "B = np.zeros(3)"
   ]
  },
  {
   "cell_type": "code",
   "execution_count": 97,
   "metadata": {
    "collapsed": false
   },
   "outputs": [
    {
     "data": {
      "text/plain": "(array([[ 2,  2, -1],\n        [ 5,  4, -6],\n        [ 3,  2, -5]]),\n array([0., 0., 0.]))"
     },
     "execution_count": 97,
     "metadata": {},
     "output_type": "execute_result"
    }
   ],
   "source": [
    "A, B"
   ]
  },
  {
   "cell_type": "code",
   "execution_count": 98,
   "metadata": {
    "collapsed": false
   },
   "outputs": [
    {
     "data": {
      "text/plain": "array([ 0., -0.,  0.])"
     },
     "execution_count": 98,
     "metadata": {},
     "output_type": "execute_result"
    }
   ],
   "source": [
    "np.linalg.solve(A, B)"
   ]
  },
  {
   "cell_type": "markdown",
   "metadata": {
    "collapsed": false
   },
   "source": [
    "### Обратная матрица"
   ]
  },
  {
   "cell_type": "code",
   "execution_count": 99,
   "metadata": {
    "collapsed": false
   },
   "outputs": [
    {
     "data": {
      "text/plain": "array([[ 1.80143985e+15, -1.80143985e+15,  1.80143985e+15],\n       [-1.57625987e+15,  1.57625987e+15, -1.57625987e+15],\n       [ 4.50359963e+14, -4.50359963e+14,  4.50359963e+14]])"
     },
     "execution_count": 99,
     "metadata": {},
     "output_type": "execute_result"
    }
   ],
   "source": [
    "np.linalg.inv(A)"
   ]
  },
  {
   "cell_type": "markdown",
   "metadata": {
    "collapsed": false
   },
   "source": [
    "# Pandas\n",
    "\n",
    "Используем датасет: https://www.kaggle.com/alextar04/vk-social-network-dataset\n"
   ]
  },
  {
   "cell_type": "code",
   "execution_count": null,
   "metadata": {
    "collapsed": false
   },
   "outputs": [],
   "source": [
    "# !conda install pandas"
   ]
  },
  {
   "cell_type": "code",
   "execution_count": 100,
   "metadata": {
    "collapsed": false
   },
   "outputs": [],
   "source": [
    "import pandas as pd\n",
    "df = pd.read_csv('newDataBaseVk.csv', index_col=0)"
   ]
  },
  {
   "cell_type": "code",
   "execution_count": 103,
   "metadata": {
    "collapsed": false
   },
   "outputs": [
    {
     "data": {
      "text/plain": "           countFriends  countFollowers  boolComments  countOwnerPosts  \\\nID                                                                       \n3329071              75             137         False               11   \n5138784             173             117         False                6   \n5432192             324             549         False               20   \n7245154             678              97         False                1   \n8648939             398              38         False               14   \n...                 ...             ...           ...              ...   \n506751351           756             111         False                3   \n507662250           188              19         False                0   \n513593853            65               0         False               17   \n535577522          2507             507          True               20   \n550981696            64              52          True                3   \n\n           countOwnerReposts  countPhotos  countVideos  countLikesPhotoes  sex  \nID                                                                              \n3329071                    9            4           71                 14    2  \n5138784                   14            9           26                234    1  \n5432192                    0           40           64               1561    1  \n7245154                   19           24          240               1111    2  \n8648939                    6           11           12                480    1  \n...                      ...          ...          ...                ...  ...  \n506751351                 17            1          202                 48    1  \n507662250                  0            1          898                 12    1  \n513593853                  3            3          227                 15    1  \n535577522                  0            1            0                 56    2  \n550981696                  4            2          111                 59    2  \n\n[998 rows x 9 columns]",
      "text/html": "<div>\n<style scoped>\n    .dataframe tbody tr th:only-of-type {\n        vertical-align: middle;\n    }\n\n    .dataframe tbody tr th {\n        vertical-align: top;\n    }\n\n    .dataframe thead th {\n        text-align: right;\n    }\n</style>\n<table border=\"1\" class=\"dataframe\">\n  <thead>\n    <tr style=\"text-align: right;\">\n      <th></th>\n      <th>countFriends</th>\n      <th>countFollowers</th>\n      <th>boolComments</th>\n      <th>countOwnerPosts</th>\n      <th>countOwnerReposts</th>\n      <th>countPhotos</th>\n      <th>countVideos</th>\n      <th>countLikesPhotoes</th>\n      <th>sex</th>\n    </tr>\n    <tr>\n      <th>ID</th>\n      <th></th>\n      <th></th>\n      <th></th>\n      <th></th>\n      <th></th>\n      <th></th>\n      <th></th>\n      <th></th>\n      <th></th>\n    </tr>\n  </thead>\n  <tbody>\n    <tr>\n      <th>3329071</th>\n      <td>75</td>\n      <td>137</td>\n      <td>False</td>\n      <td>11</td>\n      <td>9</td>\n      <td>4</td>\n      <td>71</td>\n      <td>14</td>\n      <td>2</td>\n    </tr>\n    <tr>\n      <th>5138784</th>\n      <td>173</td>\n      <td>117</td>\n      <td>False</td>\n      <td>6</td>\n      <td>14</td>\n      <td>9</td>\n      <td>26</td>\n      <td>234</td>\n      <td>1</td>\n    </tr>\n    <tr>\n      <th>5432192</th>\n      <td>324</td>\n      <td>549</td>\n      <td>False</td>\n      <td>20</td>\n      <td>0</td>\n      <td>40</td>\n      <td>64</td>\n      <td>1561</td>\n      <td>1</td>\n    </tr>\n    <tr>\n      <th>7245154</th>\n      <td>678</td>\n      <td>97</td>\n      <td>False</td>\n      <td>1</td>\n      <td>19</td>\n      <td>24</td>\n      <td>240</td>\n      <td>1111</td>\n      <td>2</td>\n    </tr>\n    <tr>\n      <th>8648939</th>\n      <td>398</td>\n      <td>38</td>\n      <td>False</td>\n      <td>14</td>\n      <td>6</td>\n      <td>11</td>\n      <td>12</td>\n      <td>480</td>\n      <td>1</td>\n    </tr>\n    <tr>\n      <th>...</th>\n      <td>...</td>\n      <td>...</td>\n      <td>...</td>\n      <td>...</td>\n      <td>...</td>\n      <td>...</td>\n      <td>...</td>\n      <td>...</td>\n      <td>...</td>\n    </tr>\n    <tr>\n      <th>506751351</th>\n      <td>756</td>\n      <td>111</td>\n      <td>False</td>\n      <td>3</td>\n      <td>17</td>\n      <td>1</td>\n      <td>202</td>\n      <td>48</td>\n      <td>1</td>\n    </tr>\n    <tr>\n      <th>507662250</th>\n      <td>188</td>\n      <td>19</td>\n      <td>False</td>\n      <td>0</td>\n      <td>0</td>\n      <td>1</td>\n      <td>898</td>\n      <td>12</td>\n      <td>1</td>\n    </tr>\n    <tr>\n      <th>513593853</th>\n      <td>65</td>\n      <td>0</td>\n      <td>False</td>\n      <td>17</td>\n      <td>3</td>\n      <td>3</td>\n      <td>227</td>\n      <td>15</td>\n      <td>1</td>\n    </tr>\n    <tr>\n      <th>535577522</th>\n      <td>2507</td>\n      <td>507</td>\n      <td>True</td>\n      <td>20</td>\n      <td>0</td>\n      <td>1</td>\n      <td>0</td>\n      <td>56</td>\n      <td>2</td>\n    </tr>\n    <tr>\n      <th>550981696</th>\n      <td>64</td>\n      <td>52</td>\n      <td>True</td>\n      <td>3</td>\n      <td>4</td>\n      <td>2</td>\n      <td>111</td>\n      <td>59</td>\n      <td>2</td>\n    </tr>\n  </tbody>\n</table>\n<p>998 rows × 9 columns</p>\n</div>"
     },
     "execution_count": 103,
     "metadata": {},
     "output_type": "execute_result"
    }
   ],
   "source": [
    "df"
   ]
  },
  {
   "cell_type": "markdown",
   "metadata": {
    "collapsed": false
   },
   "source": [
    "## Сбор основных данных о датасете:"
   ]
  },
  {
   "cell_type": "code",
   "execution_count": 104,
   "metadata": {
    "collapsed": false
   },
   "outputs": [
    {
     "data": {
      "text/plain": "         countFriends  countFollowers  boolComments  countOwnerPosts  \\\nID                                                                     \n3329071            75             137         False               11   \n5138784           173             117         False                6   \n5432192           324             549         False               20   \n7245154           678              97         False                1   \n8648939           398              38         False               14   \n\n         countOwnerReposts  countPhotos  countVideos  countLikesPhotoes  sex  \nID                                                                            \n3329071                  9            4           71                 14    2  \n5138784                 14            9           26                234    1  \n5432192                  0           40           64               1561    1  \n7245154                 19           24          240               1111    2  \n8648939                  6           11           12                480    1  ",
      "text/html": "<div>\n<style scoped>\n    .dataframe tbody tr th:only-of-type {\n        vertical-align: middle;\n    }\n\n    .dataframe tbody tr th {\n        vertical-align: top;\n    }\n\n    .dataframe thead th {\n        text-align: right;\n    }\n</style>\n<table border=\"1\" class=\"dataframe\">\n  <thead>\n    <tr style=\"text-align: right;\">\n      <th></th>\n      <th>countFriends</th>\n      <th>countFollowers</th>\n      <th>boolComments</th>\n      <th>countOwnerPosts</th>\n      <th>countOwnerReposts</th>\n      <th>countPhotos</th>\n      <th>countVideos</th>\n      <th>countLikesPhotoes</th>\n      <th>sex</th>\n    </tr>\n    <tr>\n      <th>ID</th>\n      <th></th>\n      <th></th>\n      <th></th>\n      <th></th>\n      <th></th>\n      <th></th>\n      <th></th>\n      <th></th>\n      <th></th>\n    </tr>\n  </thead>\n  <tbody>\n    <tr>\n      <th>3329071</th>\n      <td>75</td>\n      <td>137</td>\n      <td>False</td>\n      <td>11</td>\n      <td>9</td>\n      <td>4</td>\n      <td>71</td>\n      <td>14</td>\n      <td>2</td>\n    </tr>\n    <tr>\n      <th>5138784</th>\n      <td>173</td>\n      <td>117</td>\n      <td>False</td>\n      <td>6</td>\n      <td>14</td>\n      <td>9</td>\n      <td>26</td>\n      <td>234</td>\n      <td>1</td>\n    </tr>\n    <tr>\n      <th>5432192</th>\n      <td>324</td>\n      <td>549</td>\n      <td>False</td>\n      <td>20</td>\n      <td>0</td>\n      <td>40</td>\n      <td>64</td>\n      <td>1561</td>\n      <td>1</td>\n    </tr>\n    <tr>\n      <th>7245154</th>\n      <td>678</td>\n      <td>97</td>\n      <td>False</td>\n      <td>1</td>\n      <td>19</td>\n      <td>24</td>\n      <td>240</td>\n      <td>1111</td>\n      <td>2</td>\n    </tr>\n    <tr>\n      <th>8648939</th>\n      <td>398</td>\n      <td>38</td>\n      <td>False</td>\n      <td>14</td>\n      <td>6</td>\n      <td>11</td>\n      <td>12</td>\n      <td>480</td>\n      <td>1</td>\n    </tr>\n  </tbody>\n</table>\n</div>"
     },
     "execution_count": 104,
     "metadata": {},
     "output_type": "execute_result"
    }
   ],
   "source": [
    "df.head()"
   ]
  },
  {
   "cell_type": "code",
   "execution_count": 105,
   "metadata": {
    "collapsed": false
   },
   "outputs": [
    {
     "data": {
      "text/plain": "          countFriends  countFollowers  boolComments  countOwnerPosts  \\\nID                                                                      \n3329071             75             137         False               11   \n5138784            173             117         False                6   \n5432192            324             549         False               20   \n7245154            678              97         False                1   \n8648939            398              38         False               14   \n9732431            326             338         False                2   \n12360597           112             155         False                0   \n13275302          1008             968         False                9   \n15016631           748             262          True                0   \n16286011          4690             539         False               20   \n\n          countOwnerReposts  countPhotos  countVideos  countLikesPhotoes  sex  \nID                                                                             \n3329071                   9            4           71                 14    2  \n5138784                  14            9           26                234    1  \n5432192                   0           40           64               1561    1  \n7245154                  19           24          240               1111    2  \n8648939                   6           11           12                480    1  \n9732431                   1            2            0                179    1  \n12360597                 20           41          235                719    2  \n13275302                 11           11           86               2049    1  \n15016631                  2            9          126                824    2  \n16286011                  0            4            6               5563    2  ",
      "text/html": "<div>\n<style scoped>\n    .dataframe tbody tr th:only-of-type {\n        vertical-align: middle;\n    }\n\n    .dataframe tbody tr th {\n        vertical-align: top;\n    }\n\n    .dataframe thead th {\n        text-align: right;\n    }\n</style>\n<table border=\"1\" class=\"dataframe\">\n  <thead>\n    <tr style=\"text-align: right;\">\n      <th></th>\n      <th>countFriends</th>\n      <th>countFollowers</th>\n      <th>boolComments</th>\n      <th>countOwnerPosts</th>\n      <th>countOwnerReposts</th>\n      <th>countPhotos</th>\n      <th>countVideos</th>\n      <th>countLikesPhotoes</th>\n      <th>sex</th>\n    </tr>\n    <tr>\n      <th>ID</th>\n      <th></th>\n      <th></th>\n      <th></th>\n      <th></th>\n      <th></th>\n      <th></th>\n      <th></th>\n      <th></th>\n      <th></th>\n    </tr>\n  </thead>\n  <tbody>\n    <tr>\n      <th>3329071</th>\n      <td>75</td>\n      <td>137</td>\n      <td>False</td>\n      <td>11</td>\n      <td>9</td>\n      <td>4</td>\n      <td>71</td>\n      <td>14</td>\n      <td>2</td>\n    </tr>\n    <tr>\n      <th>5138784</th>\n      <td>173</td>\n      <td>117</td>\n      <td>False</td>\n      <td>6</td>\n      <td>14</td>\n      <td>9</td>\n      <td>26</td>\n      <td>234</td>\n      <td>1</td>\n    </tr>\n    <tr>\n      <th>5432192</th>\n      <td>324</td>\n      <td>549</td>\n      <td>False</td>\n      <td>20</td>\n      <td>0</td>\n      <td>40</td>\n      <td>64</td>\n      <td>1561</td>\n      <td>1</td>\n    </tr>\n    <tr>\n      <th>7245154</th>\n      <td>678</td>\n      <td>97</td>\n      <td>False</td>\n      <td>1</td>\n      <td>19</td>\n      <td>24</td>\n      <td>240</td>\n      <td>1111</td>\n      <td>2</td>\n    </tr>\n    <tr>\n      <th>8648939</th>\n      <td>398</td>\n      <td>38</td>\n      <td>False</td>\n      <td>14</td>\n      <td>6</td>\n      <td>11</td>\n      <td>12</td>\n      <td>480</td>\n      <td>1</td>\n    </tr>\n    <tr>\n      <th>9732431</th>\n      <td>326</td>\n      <td>338</td>\n      <td>False</td>\n      <td>2</td>\n      <td>1</td>\n      <td>2</td>\n      <td>0</td>\n      <td>179</td>\n      <td>1</td>\n    </tr>\n    <tr>\n      <th>12360597</th>\n      <td>112</td>\n      <td>155</td>\n      <td>False</td>\n      <td>0</td>\n      <td>20</td>\n      <td>41</td>\n      <td>235</td>\n      <td>719</td>\n      <td>2</td>\n    </tr>\n    <tr>\n      <th>13275302</th>\n      <td>1008</td>\n      <td>968</td>\n      <td>False</td>\n      <td>9</td>\n      <td>11</td>\n      <td>11</td>\n      <td>86</td>\n      <td>2049</td>\n      <td>1</td>\n    </tr>\n    <tr>\n      <th>15016631</th>\n      <td>748</td>\n      <td>262</td>\n      <td>True</td>\n      <td>0</td>\n      <td>2</td>\n      <td>9</td>\n      <td>126</td>\n      <td>824</td>\n      <td>2</td>\n    </tr>\n    <tr>\n      <th>16286011</th>\n      <td>4690</td>\n      <td>539</td>\n      <td>False</td>\n      <td>20</td>\n      <td>0</td>\n      <td>4</td>\n      <td>6</td>\n      <td>5563</td>\n      <td>2</td>\n    </tr>\n  </tbody>\n</table>\n</div>"
     },
     "execution_count": 105,
     "metadata": {},
     "output_type": "execute_result"
    }
   ],
   "source": [
    "df.head(10)"
   ]
  },
  {
   "cell_type": "code",
   "execution_count": 106,
   "metadata": {
    "collapsed": false
   },
   "outputs": [
    {
     "name": "stdout",
     "output_type": "stream",
     "text": [
      "<class 'pandas.core.frame.DataFrame'>\n",
      "Int64Index: 998 entries, 3329071 to 550981696\n",
      "Data columns (total 9 columns):\n",
      " #   Column             Non-Null Count  Dtype\n",
      "---  ------             --------------  -----\n",
      " 0   countFriends       998 non-null    int64\n",
      " 1   countFollowers     998 non-null    int64\n",
      " 2   boolComments       998 non-null    bool \n",
      " 3   countOwnerPosts    998 non-null    int64\n",
      " 4   countOwnerReposts  998 non-null    int64\n",
      " 5   countPhotos        998 non-null    int64\n",
      " 6   countVideos        998 non-null    int64\n",
      " 7   countLikesPhotoes  998 non-null    int64\n",
      " 8   sex                998 non-null    int64\n",
      "dtypes: bool(1), int64(8)\n",
      "memory usage: 71.1 KB\n"
     ]
    }
   ],
   "source": [
    "df.info()"
   ]
  },
  {
   "cell_type": "code",
   "execution_count": 107,
   "metadata": {
    "collapsed": false
   },
   "outputs": [
    {
     "data": {
      "text/plain": "       countFriends  countFollowers  countOwnerPosts  countOwnerReposts  \\\ncount    998.000000      998.000000       998.000000         998.000000   \nmean    1459.549098      807.098196         9.320641           6.146293   \nstd     2241.602534     2926.420603         7.193374           6.549299   \nmin        2.000000        0.000000         0.000000           0.000000   \n25%      201.250000       85.250000         2.000000           0.000000   \n50%      421.500000      233.000000         8.000000           3.000000   \n75%     1602.500000      549.750000        17.000000          11.000000   \nmax     9998.000000    57037.000000        20.000000          20.000000   \n\n       countPhotos  countVideos  countLikesPhotoes         sex  \ncount   998.000000   998.000000         998.000000  998.000000  \nmean     16.692385   361.575150        1443.033066    1.588176  \nstd      28.669853   750.217754        3645.569151    0.492410  \nmin       0.000000     0.000000           0.000000    1.000000  \n25%       3.000000    17.000000         145.250000    1.000000  \n50%       7.000000    80.000000         482.500000    2.000000  \n75%      18.000000   363.000000        1509.500000    2.000000  \nmax     275.000000  7719.000000       76595.000000    2.000000  ",
      "text/html": "<div>\n<style scoped>\n    .dataframe tbody tr th:only-of-type {\n        vertical-align: middle;\n    }\n\n    .dataframe tbody tr th {\n        vertical-align: top;\n    }\n\n    .dataframe thead th {\n        text-align: right;\n    }\n</style>\n<table border=\"1\" class=\"dataframe\">\n  <thead>\n    <tr style=\"text-align: right;\">\n      <th></th>\n      <th>countFriends</th>\n      <th>countFollowers</th>\n      <th>countOwnerPosts</th>\n      <th>countOwnerReposts</th>\n      <th>countPhotos</th>\n      <th>countVideos</th>\n      <th>countLikesPhotoes</th>\n      <th>sex</th>\n    </tr>\n  </thead>\n  <tbody>\n    <tr>\n      <th>count</th>\n      <td>998.000000</td>\n      <td>998.000000</td>\n      <td>998.000000</td>\n      <td>998.000000</td>\n      <td>998.000000</td>\n      <td>998.000000</td>\n      <td>998.000000</td>\n      <td>998.000000</td>\n    </tr>\n    <tr>\n      <th>mean</th>\n      <td>1459.549098</td>\n      <td>807.098196</td>\n      <td>9.320641</td>\n      <td>6.146293</td>\n      <td>16.692385</td>\n      <td>361.575150</td>\n      <td>1443.033066</td>\n      <td>1.588176</td>\n    </tr>\n    <tr>\n      <th>std</th>\n      <td>2241.602534</td>\n      <td>2926.420603</td>\n      <td>7.193374</td>\n      <td>6.549299</td>\n      <td>28.669853</td>\n      <td>750.217754</td>\n      <td>3645.569151</td>\n      <td>0.492410</td>\n    </tr>\n    <tr>\n      <th>min</th>\n      <td>2.000000</td>\n      <td>0.000000</td>\n      <td>0.000000</td>\n      <td>0.000000</td>\n      <td>0.000000</td>\n      <td>0.000000</td>\n      <td>0.000000</td>\n      <td>1.000000</td>\n    </tr>\n    <tr>\n      <th>25%</th>\n      <td>201.250000</td>\n      <td>85.250000</td>\n      <td>2.000000</td>\n      <td>0.000000</td>\n      <td>3.000000</td>\n      <td>17.000000</td>\n      <td>145.250000</td>\n      <td>1.000000</td>\n    </tr>\n    <tr>\n      <th>50%</th>\n      <td>421.500000</td>\n      <td>233.000000</td>\n      <td>8.000000</td>\n      <td>3.000000</td>\n      <td>7.000000</td>\n      <td>80.000000</td>\n      <td>482.500000</td>\n      <td>2.000000</td>\n    </tr>\n    <tr>\n      <th>75%</th>\n      <td>1602.500000</td>\n      <td>549.750000</td>\n      <td>17.000000</td>\n      <td>11.000000</td>\n      <td>18.000000</td>\n      <td>363.000000</td>\n      <td>1509.500000</td>\n      <td>2.000000</td>\n    </tr>\n    <tr>\n      <th>max</th>\n      <td>9998.000000</td>\n      <td>57037.000000</td>\n      <td>20.000000</td>\n      <td>20.000000</td>\n      <td>275.000000</td>\n      <td>7719.000000</td>\n      <td>76595.000000</td>\n      <td>2.000000</td>\n    </tr>\n  </tbody>\n</table>\n</div>"
     },
     "execution_count": 107,
     "metadata": {},
     "output_type": "execute_result"
    }
   ],
   "source": [
    "df.describe()"
   ]
  },
  {
   "cell_type": "markdown",
   "metadata": {
    "collapsed": false
   },
   "source": [
    "## Series объекты"
   ]
  },
  {
   "cell_type": "code",
   "execution_count": 108,
   "metadata": {
    "collapsed": false
   },
   "outputs": [
    {
     "data": {
      "text/plain": "0    1\n1    2\n2    3\n3    4\n4    5\ndtype: int64"
     },
     "execution_count": 108,
     "metadata": {},
     "output_type": "execute_result"
    }
   ],
   "source": [
    "import pandas as pd\n",
    "my_series = pd.Series([1, 2, 3, 4, 5])\n",
    "my_series"
   ]
  },
  {
   "cell_type": "code",
   "execution_count": 109,
   "metadata": {
    "collapsed": false
   },
   "outputs": [
    {
     "data": {
      "text/plain": "(array([1, 2, 3, 4, 5]), RangeIndex(start=0, stop=5, step=1))"
     },
     "execution_count": 109,
     "metadata": {},
     "output_type": "execute_result"
    }
   ],
   "source": [
    "my_series.values, my_series.index"
   ]
  },
  {
   "cell_type": "code",
   "execution_count": 110,
   "metadata": {
    "collapsed": false
   },
   "outputs": [
    {
     "data": {
      "text/plain": "2"
     },
     "execution_count": 110,
     "metadata": {},
     "output_type": "execute_result"
    }
   ],
   "source": [
    "my_series[1]"
   ]
  },
  {
   "cell_type": "code",
   "execution_count": 111,
   "metadata": {
    "collapsed": false
   },
   "outputs": [
    {
     "data": {
      "text/plain": "1    2\n2    3\n3    4\ndtype: int64"
     },
     "execution_count": 111,
     "metadata": {},
     "output_type": "execute_result"
    }
   ],
   "source": [
    "my_series[[1, 2, 3]]"
   ]
  },
  {
   "cell_type": "code",
   "execution_count": 112,
   "metadata": {
    "collapsed": false
   },
   "outputs": [
    {
     "data": {
      "text/plain": "0    1\n1    0\n2    0\n3    0\n4    5\ndtype: int64"
     },
     "execution_count": 112,
     "metadata": {},
     "output_type": "execute_result"
    }
   ],
   "source": [
    "my_series[[1, 2, 3]] = 0\n",
    "my_series"
   ]
  },
  {
   "cell_type": "code",
   "execution_count": 113,
   "metadata": {
    "collapsed": false
   },
   "outputs": [
    {
     "data": {
      "text/plain": "a     0\nb    20\nc     4\nd    25\ne     6\ndtype: int64"
     },
     "execution_count": 113,
     "metadata": {},
     "output_type": "execute_result"
    }
   ],
   "source": [
    "my_series = pd.Series([0, 20, 4, 25, 6], index=['a', 'b', 'c', 'd', 'e'])\n",
    "my_series"
   ]
  },
  {
   "cell_type": "code",
   "execution_count": 114,
   "metadata": {
    "collapsed": false
   },
   "outputs": [
    {
     "data": {
      "text/plain": "a    False\nb     True\nc    False\nd     True\ne    False\ndtype: bool"
     },
     "execution_count": 114,
     "metadata": {},
     "output_type": "execute_result"
    }
   ],
   "source": [
    "my_series > 10"
   ]
  },
  {
   "cell_type": "code",
   "execution_count": 115,
   "metadata": {
    "collapsed": false
   },
   "outputs": [
    {
     "data": {
      "text/plain": "b    20\nd    25\ndtype: int64"
     },
     "execution_count": 115,
     "metadata": {},
     "output_type": "execute_result"
    }
   ],
   "source": [
    "my_series[my_series > 10]"
   ]
  },
  {
   "cell_type": "markdown",
   "metadata": {
    "collapsed": false
   },
   "source": [
    "## Обращения по индексу"
   ]
  },
  {
   "cell_type": "code",
   "execution_count": 116,
   "metadata": {
    "collapsed": false
   },
   "outputs": [
    {
     "data": {
      "text/plain": "         countFriends  countFollowers  boolComments  countOwnerPosts  \\\nID                                                                     \n3329071            75             137         False               11   \n5138784           173             117         False                6   \n5432192           324             549         False               20   \n7245154           678              97         False                1   \n8648939           398              38         False               14   \n\n         countOwnerReposts  countPhotos  countVideos  countLikesPhotoes  sex  \nID                                                                            \n3329071                  9            4           71                 14    2  \n5138784                 14            9           26                234    1  \n5432192                  0           40           64               1561    1  \n7245154                 19           24          240               1111    2  \n8648939                  6           11           12                480    1  ",
      "text/html": "<div>\n<style scoped>\n    .dataframe tbody tr th:only-of-type {\n        vertical-align: middle;\n    }\n\n    .dataframe tbody tr th {\n        vertical-align: top;\n    }\n\n    .dataframe thead th {\n        text-align: right;\n    }\n</style>\n<table border=\"1\" class=\"dataframe\">\n  <thead>\n    <tr style=\"text-align: right;\">\n      <th></th>\n      <th>countFriends</th>\n      <th>countFollowers</th>\n      <th>boolComments</th>\n      <th>countOwnerPosts</th>\n      <th>countOwnerReposts</th>\n      <th>countPhotos</th>\n      <th>countVideos</th>\n      <th>countLikesPhotoes</th>\n      <th>sex</th>\n    </tr>\n    <tr>\n      <th>ID</th>\n      <th></th>\n      <th></th>\n      <th></th>\n      <th></th>\n      <th></th>\n      <th></th>\n      <th></th>\n      <th></th>\n      <th></th>\n    </tr>\n  </thead>\n  <tbody>\n    <tr>\n      <th>3329071</th>\n      <td>75</td>\n      <td>137</td>\n      <td>False</td>\n      <td>11</td>\n      <td>9</td>\n      <td>4</td>\n      <td>71</td>\n      <td>14</td>\n      <td>2</td>\n    </tr>\n    <tr>\n      <th>5138784</th>\n      <td>173</td>\n      <td>117</td>\n      <td>False</td>\n      <td>6</td>\n      <td>14</td>\n      <td>9</td>\n      <td>26</td>\n      <td>234</td>\n      <td>1</td>\n    </tr>\n    <tr>\n      <th>5432192</th>\n      <td>324</td>\n      <td>549</td>\n      <td>False</td>\n      <td>20</td>\n      <td>0</td>\n      <td>40</td>\n      <td>64</td>\n      <td>1561</td>\n      <td>1</td>\n    </tr>\n    <tr>\n      <th>7245154</th>\n      <td>678</td>\n      <td>97</td>\n      <td>False</td>\n      <td>1</td>\n      <td>19</td>\n      <td>24</td>\n      <td>240</td>\n      <td>1111</td>\n      <td>2</td>\n    </tr>\n    <tr>\n      <th>8648939</th>\n      <td>398</td>\n      <td>38</td>\n      <td>False</td>\n      <td>14</td>\n      <td>6</td>\n      <td>11</td>\n      <td>12</td>\n      <td>480</td>\n      <td>1</td>\n    </tr>\n  </tbody>\n</table>\n</div>"
     },
     "execution_count": 116,
     "metadata": {},
     "output_type": "execute_result"
    }
   ],
   "source": [
    "df.head()"
   ]
  },
  {
   "cell_type": "code",
   "execution_count": 120,
   "metadata": {
    "collapsed": false
   },
   "outputs": [
    {
     "data": {
      "text/plain": "ID\n3329071        75\n5138784       173\n5432192       324\n7245154       678\n8648939       398\n             ... \n506751351     756\n507662250     188\n513593853      65\n535577522    2507\n550981696      64\nName: countFriends, Length: 998, dtype: int64"
     },
     "execution_count": 120,
     "metadata": {},
     "output_type": "execute_result"
    }
   ],
   "source": [
    "df[\"countFriends\"]"
   ]
  },
  {
   "cell_type": "code",
   "execution_count": 118,
   "metadata": {
    "collapsed": false
   },
   "outputs": [
    {
     "data": {
      "text/plain": "           countFriends  countFollowers\nID                                     \n3329071              75             137\n5138784             173             117\n5432192             324             549\n7245154             678              97\n8648939             398              38\n...                 ...             ...\n506751351           756             111\n507662250           188              19\n513593853            65               0\n535577522          2507             507\n550981696            64              52\n\n[998 rows x 2 columns]",
      "text/html": "<div>\n<style scoped>\n    .dataframe tbody tr th:only-of-type {\n        vertical-align: middle;\n    }\n\n    .dataframe tbody tr th {\n        vertical-align: top;\n    }\n\n    .dataframe thead th {\n        text-align: right;\n    }\n</style>\n<table border=\"1\" class=\"dataframe\">\n  <thead>\n    <tr style=\"text-align: right;\">\n      <th></th>\n      <th>countFriends</th>\n      <th>countFollowers</th>\n    </tr>\n    <tr>\n      <th>ID</th>\n      <th></th>\n      <th></th>\n    </tr>\n  </thead>\n  <tbody>\n    <tr>\n      <th>3329071</th>\n      <td>75</td>\n      <td>137</td>\n    </tr>\n    <tr>\n      <th>5138784</th>\n      <td>173</td>\n      <td>117</td>\n    </tr>\n    <tr>\n      <th>5432192</th>\n      <td>324</td>\n      <td>549</td>\n    </tr>\n    <tr>\n      <th>7245154</th>\n      <td>678</td>\n      <td>97</td>\n    </tr>\n    <tr>\n      <th>8648939</th>\n      <td>398</td>\n      <td>38</td>\n    </tr>\n    <tr>\n      <th>...</th>\n      <td>...</td>\n      <td>...</td>\n    </tr>\n    <tr>\n      <th>506751351</th>\n      <td>756</td>\n      <td>111</td>\n    </tr>\n    <tr>\n      <th>507662250</th>\n      <td>188</td>\n      <td>19</td>\n    </tr>\n    <tr>\n      <th>513593853</th>\n      <td>65</td>\n      <td>0</td>\n    </tr>\n    <tr>\n      <th>535577522</th>\n      <td>2507</td>\n      <td>507</td>\n    </tr>\n    <tr>\n      <th>550981696</th>\n      <td>64</td>\n      <td>52</td>\n    </tr>\n  </tbody>\n</table>\n<p>998 rows × 2 columns</p>\n</div>"
     },
     "execution_count": 118,
     "metadata": {},
     "output_type": "execute_result"
    }
   ],
   "source": [
    "df[[\"countFriends\", \"countFollowers\"]]"
   ]
  },
  {
   "cell_type": "code",
   "execution_count": 121,
   "metadata": {
    "collapsed": false
   },
   "outputs": [
    {
     "data": {
      "text/plain": "2    587\n1    411\nName: sex, dtype: int64"
     },
     "execution_count": 121,
     "metadata": {},
     "output_type": "execute_result"
    }
   ],
   "source": [
    "df[\"sex\"].value_counts()"
   ]
  },
  {
   "cell_type": "markdown",
   "metadata": {
    "collapsed": false
   },
   "source": [
    "### Доступ к строкам\n",
    "\n",
    "\n",
    "loc -- доступ по строке\n",
    "iloc -- доступ по числу"
   ]
  },
  {
   "cell_type": "code",
   "execution_count": 122,
   "metadata": {
    "collapsed": false
   },
   "outputs": [
    {
     "data": {
      "text/plain": "countFriends            75\ncountFollowers         137\nboolComments         False\ncountOwnerPosts         11\ncountOwnerReposts        9\ncountPhotos              4\ncountVideos             71\ncountLikesPhotoes       14\nsex                      2\nName: 3329071, dtype: object"
     },
     "execution_count": 122,
     "metadata": {},
     "output_type": "execute_result"
    }
   ],
   "source": [
    "df.loc[3329071]"
   ]
  },
  {
   "cell_type": "code",
   "execution_count": 124,
   "metadata": {
    "collapsed": false
   },
   "outputs": [
    {
     "data": {
      "text/plain": "countFriends           324\ncountFollowers         549\nboolComments         False\ncountOwnerPosts         20\ncountOwnerReposts        0\ncountPhotos             40\ncountVideos             64\ncountLikesPhotoes     1561\nsex                      1\nName: 5432192, dtype: object"
     },
     "execution_count": 124,
     "metadata": {},
     "output_type": "execute_result"
    }
   ],
   "source": [
    "df.iloc[2]"
   ]
  },
  {
   "cell_type": "code",
   "execution_count": 125,
   "metadata": {
    "collapsed": false
   },
   "outputs": [
    {
     "data": {
      "text/plain": "         countFriends  countFollowers  boolComments  countOwnerPosts  \\\nID                                                                     \n3329071            75             137         False               11   \n7245154           678              97         False                1   \n\n         countOwnerReposts  countPhotos  countVideos  countLikesPhotoes  sex  \nID                                                                            \n3329071                  9            4           71                 14    2  \n7245154                 19           24          240               1111    2  ",
      "text/html": "<div>\n<style scoped>\n    .dataframe tbody tr th:only-of-type {\n        vertical-align: middle;\n    }\n\n    .dataframe tbody tr th {\n        vertical-align: top;\n    }\n\n    .dataframe thead th {\n        text-align: right;\n    }\n</style>\n<table border=\"1\" class=\"dataframe\">\n  <thead>\n    <tr style=\"text-align: right;\">\n      <th></th>\n      <th>countFriends</th>\n      <th>countFollowers</th>\n      <th>boolComments</th>\n      <th>countOwnerPosts</th>\n      <th>countOwnerReposts</th>\n      <th>countPhotos</th>\n      <th>countVideos</th>\n      <th>countLikesPhotoes</th>\n      <th>sex</th>\n    </tr>\n    <tr>\n      <th>ID</th>\n      <th></th>\n      <th></th>\n      <th></th>\n      <th></th>\n      <th></th>\n      <th></th>\n      <th></th>\n      <th></th>\n      <th></th>\n    </tr>\n  </thead>\n  <tbody>\n    <tr>\n      <th>3329071</th>\n      <td>75</td>\n      <td>137</td>\n      <td>False</td>\n      <td>11</td>\n      <td>9</td>\n      <td>4</td>\n      <td>71</td>\n      <td>14</td>\n      <td>2</td>\n    </tr>\n    <tr>\n      <th>7245154</th>\n      <td>678</td>\n      <td>97</td>\n      <td>False</td>\n      <td>1</td>\n      <td>19</td>\n      <td>24</td>\n      <td>240</td>\n      <td>1111</td>\n      <td>2</td>\n    </tr>\n  </tbody>\n</table>\n</div>"
     },
     "execution_count": 125,
     "metadata": {},
     "output_type": "execute_result"
    }
   ],
   "source": [
    "df.loc[[3329071, 7245154]]"
   ]
  },
  {
   "cell_type": "code",
   "execution_count": 126,
   "metadata": {
    "collapsed": false
   },
   "outputs": [
    {
     "data": {
      "text/plain": "ID\n3329071    2\n7245154    2\nName: sex, dtype: int64"
     },
     "execution_count": 126,
     "metadata": {},
     "output_type": "execute_result"
    }
   ],
   "source": [
    "df.loc[[3329071, 7245154], \"sex\"]"
   ]
  },
  {
   "cell_type": "code",
   "execution_count": 127,
   "metadata": {
    "collapsed": false
   },
   "outputs": [
    {
     "data": {
      "text/plain": "         sex  boolComments\nID                        \n3329071    2         False\n7245154    2         False",
      "text/html": "<div>\n<style scoped>\n    .dataframe tbody tr th:only-of-type {\n        vertical-align: middle;\n    }\n\n    .dataframe tbody tr th {\n        vertical-align: top;\n    }\n\n    .dataframe thead th {\n        text-align: right;\n    }\n</style>\n<table border=\"1\" class=\"dataframe\">\n  <thead>\n    <tr style=\"text-align: right;\">\n      <th></th>\n      <th>sex</th>\n      <th>boolComments</th>\n    </tr>\n    <tr>\n      <th>ID</th>\n      <th></th>\n      <th></th>\n    </tr>\n  </thead>\n  <tbody>\n    <tr>\n      <th>3329071</th>\n      <td>2</td>\n      <td>False</td>\n    </tr>\n    <tr>\n      <th>7245154</th>\n      <td>2</td>\n      <td>False</td>\n    </tr>\n  </tbody>\n</table>\n</div>"
     },
     "execution_count": 127,
     "metadata": {},
     "output_type": "execute_result"
    }
   ],
   "source": [
    "df.loc[[3329071, 7245154], [\"sex\", \"boolComments\"]]"
   ]
  },
  {
   "cell_type": "code",
   "execution_count": 131,
   "outputs": [
    {
     "data": {
      "text/plain": "ID\n3329071      2\n7245154      2\n12360597     2\n15016631     2\n16286011     2\n            ..\n475114212    2\n477312216    2\n482509679    2\n535577522    2\n550981696    2\nName: sex, Length: 587, dtype: int64"
     },
     "execution_count": 131,
     "metadata": {},
     "output_type": "execute_result"
    }
   ],
   "source": [
    "df[df.sex > 1][\"sex\"]\n",
    "df[df[\"sex\"] > 1][\"sex\"]"
   ],
   "metadata": {
    "collapsed": false,
    "pycharm": {
     "name": "#%%\n"
    }
   }
  },
  {
   "cell_type": "code",
   "execution_count": 132,
   "outputs": [],
   "source": [
    "df['followers/friend'] = df['countFollowers'] / df['countFriends']"
   ],
   "metadata": {
    "collapsed": false,
    "pycharm": {
     "name": "#%%\n"
    }
   }
  },
  {
   "cell_type": "code",
   "execution_count": 133,
   "metadata": {
    "collapsed": false
   },
   "outputs": [
    {
     "data": {
      "text/plain": "ID\n3329071      1.826667\n5138784      0.676301\n5432192      1.694444\n7245154      0.143068\n8648939      0.095477\n               ...   \n506751351    0.146825\n507662250    0.101064\n513593853    0.000000\n535577522    0.202234\n550981696    0.812500\nName: followers/friend, Length: 998, dtype: float64"
     },
     "execution_count": 133,
     "metadata": {},
     "output_type": "execute_result"
    }
   ],
   "source": [
    "df['followers/friend']"
   ]
  },
  {
   "cell_type": "code",
   "execution_count": 134,
   "outputs": [
    {
     "data": {
      "text/plain": "         countFriends  countFollowers  boolComments  countOwnerPosts  \\\nID                                                                     \n3329071            75             137         False               11   \n5138784           173             117         False                6   \n5432192           324             549         False               20   \n7245154           678              97         False                1   \n8648939           398              38         False               14   \n\n         countOwnerReposts  countPhotos  countVideos  countLikesPhotoes  sex  \\\nID                                                                             \n3329071                  9            4           71                 14    2   \n5138784                 14            9           26                234    1   \n5432192                  0           40           64               1561    1   \n7245154                 19           24          240               1111    2   \n8648939                  6           11           12                480    1   \n\n         followers/friend  \nID                         \n3329071          1.826667  \n5138784          0.676301  \n5432192          1.694444  \n7245154          0.143068  \n8648939          0.095477  ",
      "text/html": "<div>\n<style scoped>\n    .dataframe tbody tr th:only-of-type {\n        vertical-align: middle;\n    }\n\n    .dataframe tbody tr th {\n        vertical-align: top;\n    }\n\n    .dataframe thead th {\n        text-align: right;\n    }\n</style>\n<table border=\"1\" class=\"dataframe\">\n  <thead>\n    <tr style=\"text-align: right;\">\n      <th></th>\n      <th>countFriends</th>\n      <th>countFollowers</th>\n      <th>boolComments</th>\n      <th>countOwnerPosts</th>\n      <th>countOwnerReposts</th>\n      <th>countPhotos</th>\n      <th>countVideos</th>\n      <th>countLikesPhotoes</th>\n      <th>sex</th>\n      <th>followers/friend</th>\n    </tr>\n    <tr>\n      <th>ID</th>\n      <th></th>\n      <th></th>\n      <th></th>\n      <th></th>\n      <th></th>\n      <th></th>\n      <th></th>\n      <th></th>\n      <th></th>\n      <th></th>\n    </tr>\n  </thead>\n  <tbody>\n    <tr>\n      <th>3329071</th>\n      <td>75</td>\n      <td>137</td>\n      <td>False</td>\n      <td>11</td>\n      <td>9</td>\n      <td>4</td>\n      <td>71</td>\n      <td>14</td>\n      <td>2</td>\n      <td>1.826667</td>\n    </tr>\n    <tr>\n      <th>5138784</th>\n      <td>173</td>\n      <td>117</td>\n      <td>False</td>\n      <td>6</td>\n      <td>14</td>\n      <td>9</td>\n      <td>26</td>\n      <td>234</td>\n      <td>1</td>\n      <td>0.676301</td>\n    </tr>\n    <tr>\n      <th>5432192</th>\n      <td>324</td>\n      <td>549</td>\n      <td>False</td>\n      <td>20</td>\n      <td>0</td>\n      <td>40</td>\n      <td>64</td>\n      <td>1561</td>\n      <td>1</td>\n      <td>1.694444</td>\n    </tr>\n    <tr>\n      <th>7245154</th>\n      <td>678</td>\n      <td>97</td>\n      <td>False</td>\n      <td>1</td>\n      <td>19</td>\n      <td>24</td>\n      <td>240</td>\n      <td>1111</td>\n      <td>2</td>\n      <td>0.143068</td>\n    </tr>\n    <tr>\n      <th>8648939</th>\n      <td>398</td>\n      <td>38</td>\n      <td>False</td>\n      <td>14</td>\n      <td>6</td>\n      <td>11</td>\n      <td>12</td>\n      <td>480</td>\n      <td>1</td>\n      <td>0.095477</td>\n    </tr>\n  </tbody>\n</table>\n</div>"
     },
     "execution_count": 134,
     "metadata": {},
     "output_type": "execute_result"
    }
   ],
   "source": [
    "df.head()"
   ],
   "metadata": {
    "collapsed": false,
    "pycharm": {
     "name": "#%%\n"
    }
   }
  },
  {
   "cell_type": "code",
   "execution_count": 137,
   "metadata": {
    "collapsed": false
   },
   "outputs": [],
   "source": [
    "df.drop(['followers/friend'], axis='columns', inplace=True)"
   ]
  },
  {
   "cell_type": "code",
   "execution_count": 138,
   "outputs": [
    {
     "data": {
      "text/plain": "         countFriends  countFollowers  boolComments  countOwnerPosts  \\\nID                                                                     \n3329071            75             137         False               11   \n5138784           173             117         False                6   \n5432192           324             549         False               20   \n7245154           678              97         False                1   \n8648939           398              38         False               14   \n\n         countOwnerReposts  countPhotos  countVideos  countLikesPhotoes  sex  \nID                                                                            \n3329071                  9            4           71                 14    2  \n5138784                 14            9           26                234    1  \n5432192                  0           40           64               1561    1  \n7245154                 19           24          240               1111    2  \n8648939                  6           11           12                480    1  ",
      "text/html": "<div>\n<style scoped>\n    .dataframe tbody tr th:only-of-type {\n        vertical-align: middle;\n    }\n\n    .dataframe tbody tr th {\n        vertical-align: top;\n    }\n\n    .dataframe thead th {\n        text-align: right;\n    }\n</style>\n<table border=\"1\" class=\"dataframe\">\n  <thead>\n    <tr style=\"text-align: right;\">\n      <th></th>\n      <th>countFriends</th>\n      <th>countFollowers</th>\n      <th>boolComments</th>\n      <th>countOwnerPosts</th>\n      <th>countOwnerReposts</th>\n      <th>countPhotos</th>\n      <th>countVideos</th>\n      <th>countLikesPhotoes</th>\n      <th>sex</th>\n    </tr>\n    <tr>\n      <th>ID</th>\n      <th></th>\n      <th></th>\n      <th></th>\n      <th></th>\n      <th></th>\n      <th></th>\n      <th></th>\n      <th></th>\n      <th></th>\n    </tr>\n  </thead>\n  <tbody>\n    <tr>\n      <th>3329071</th>\n      <td>75</td>\n      <td>137</td>\n      <td>False</td>\n      <td>11</td>\n      <td>9</td>\n      <td>4</td>\n      <td>71</td>\n      <td>14</td>\n      <td>2</td>\n    </tr>\n    <tr>\n      <th>5138784</th>\n      <td>173</td>\n      <td>117</td>\n      <td>False</td>\n      <td>6</td>\n      <td>14</td>\n      <td>9</td>\n      <td>26</td>\n      <td>234</td>\n      <td>1</td>\n    </tr>\n    <tr>\n      <th>5432192</th>\n      <td>324</td>\n      <td>549</td>\n      <td>False</td>\n      <td>20</td>\n      <td>0</td>\n      <td>40</td>\n      <td>64</td>\n      <td>1561</td>\n      <td>1</td>\n    </tr>\n    <tr>\n      <th>7245154</th>\n      <td>678</td>\n      <td>97</td>\n      <td>False</td>\n      <td>1</td>\n      <td>19</td>\n      <td>24</td>\n      <td>240</td>\n      <td>1111</td>\n      <td>2</td>\n    </tr>\n    <tr>\n      <th>8648939</th>\n      <td>398</td>\n      <td>38</td>\n      <td>False</td>\n      <td>14</td>\n      <td>6</td>\n      <td>11</td>\n      <td>12</td>\n      <td>480</td>\n      <td>1</td>\n    </tr>\n  </tbody>\n</table>\n</div>"
     },
     "execution_count": 138,
     "metadata": {},
     "output_type": "execute_result"
    }
   ],
   "source": [
    "df.head()"
   ],
   "metadata": {
    "collapsed": false,
    "pycharm": {
     "name": "#%%\n"
    }
   }
  },
  {
   "cell_type": "markdown",
   "metadata": {
    "collapsed": false
   },
   "source": [
    "## Группировка и агрегация"
   ]
  },
  {
   "cell_type": "code",
   "execution_count": 139,
   "metadata": {
    "collapsed": false
   },
   "outputs": [
    {
     "data": {
      "text/plain": "                countFriends\ncountFollowers              \n0                1553.571429\n1                1441.375000\n2                 279.000000\n3                 219.333333\n4                 142.166667\n...                      ...\n17179            9616.000000\n19745            9936.000000\n21230            5468.000000\n43223            5188.000000\n57037            7866.000000\n\n[599 rows x 1 columns]",
      "text/html": "<div>\n<style scoped>\n    .dataframe tbody tr th:only-of-type {\n        vertical-align: middle;\n    }\n\n    .dataframe tbody tr th {\n        vertical-align: top;\n    }\n\n    .dataframe thead th {\n        text-align: right;\n    }\n</style>\n<table border=\"1\" class=\"dataframe\">\n  <thead>\n    <tr style=\"text-align: right;\">\n      <th></th>\n      <th>countFriends</th>\n    </tr>\n    <tr>\n      <th>countFollowers</th>\n      <th></th>\n    </tr>\n  </thead>\n  <tbody>\n    <tr>\n      <th>0</th>\n      <td>1553.571429</td>\n    </tr>\n    <tr>\n      <th>1</th>\n      <td>1441.375000</td>\n    </tr>\n    <tr>\n      <th>2</th>\n      <td>279.000000</td>\n    </tr>\n    <tr>\n      <th>3</th>\n      <td>219.333333</td>\n    </tr>\n    <tr>\n      <th>4</th>\n      <td>142.166667</td>\n    </tr>\n    <tr>\n      <th>...</th>\n      <td>...</td>\n    </tr>\n    <tr>\n      <th>17179</th>\n      <td>9616.000000</td>\n    </tr>\n    <tr>\n      <th>19745</th>\n      <td>9936.000000</td>\n    </tr>\n    <tr>\n      <th>21230</th>\n      <td>5468.000000</td>\n    </tr>\n    <tr>\n      <th>43223</th>\n      <td>5188.000000</td>\n    </tr>\n    <tr>\n      <th>57037</th>\n      <td>7866.000000</td>\n    </tr>\n  </tbody>\n</table>\n<p>599 rows × 1 columns</p>\n</div>"
     },
     "execution_count": 139,
     "metadata": {},
     "output_type": "execute_result"
    }
   ],
   "source": [
    "df[[\"countFriends\", \"countFollowers\"]].groupby(\"countFollowers\").mean()"
   ]
  },
  {
   "cell_type": "code",
   "execution_count": 140,
   "metadata": {
    "collapsed": false
   },
   "outputs": [
    {
     "data": {
      "text/plain": "                countFriends\ncountFollowers              \n0                      21750\n1                      11531\n2                       1953\n3                        658\n4                        853\n...                      ...\n17179                   9616\n19745                   9936\n21230                   5468\n43223                   5188\n57037                   7866\n\n[599 rows x 1 columns]",
      "text/html": "<div>\n<style scoped>\n    .dataframe tbody tr th:only-of-type {\n        vertical-align: middle;\n    }\n\n    .dataframe tbody tr th {\n        vertical-align: top;\n    }\n\n    .dataframe thead th {\n        text-align: right;\n    }\n</style>\n<table border=\"1\" class=\"dataframe\">\n  <thead>\n    <tr style=\"text-align: right;\">\n      <th></th>\n      <th>countFriends</th>\n    </tr>\n    <tr>\n      <th>countFollowers</th>\n      <th></th>\n    </tr>\n  </thead>\n  <tbody>\n    <tr>\n      <th>0</th>\n      <td>21750</td>\n    </tr>\n    <tr>\n      <th>1</th>\n      <td>11531</td>\n    </tr>\n    <tr>\n      <th>2</th>\n      <td>1953</td>\n    </tr>\n    <tr>\n      <th>3</th>\n      <td>658</td>\n    </tr>\n    <tr>\n      <th>4</th>\n      <td>853</td>\n    </tr>\n    <tr>\n      <th>...</th>\n      <td>...</td>\n    </tr>\n    <tr>\n      <th>17179</th>\n      <td>9616</td>\n    </tr>\n    <tr>\n      <th>19745</th>\n      <td>9936</td>\n    </tr>\n    <tr>\n      <th>21230</th>\n      <td>5468</td>\n    </tr>\n    <tr>\n      <th>43223</th>\n      <td>5188</td>\n    </tr>\n    <tr>\n      <th>57037</th>\n      <td>7866</td>\n    </tr>\n  </tbody>\n</table>\n<p>599 rows × 1 columns</p>\n</div>"
     },
     "execution_count": 140,
     "metadata": {},
     "output_type": "execute_result"
    }
   ],
   "source": [
    "df[[\"countFriends\", \"countFollowers\"]].groupby(\"countFollowers\").sum()"
   ]
  },
  {
   "cell_type": "code",
   "execution_count": 141,
   "metadata": {
    "collapsed": false
   },
   "outputs": [
    {
     "data": {
      "text/plain": "                countFriends\ncountFollowers              \n0                         14\n1                          8\n2                          7\n3                          3\n4                          6\n...                      ...\n17179                      1\n19745                      1\n21230                      1\n43223                      1\n57037                      1\n\n[599 rows x 1 columns]",
      "text/html": "<div>\n<style scoped>\n    .dataframe tbody tr th:only-of-type {\n        vertical-align: middle;\n    }\n\n    .dataframe tbody tr th {\n        vertical-align: top;\n    }\n\n    .dataframe thead th {\n        text-align: right;\n    }\n</style>\n<table border=\"1\" class=\"dataframe\">\n  <thead>\n    <tr style=\"text-align: right;\">\n      <th></th>\n      <th>countFriends</th>\n    </tr>\n    <tr>\n      <th>countFollowers</th>\n      <th></th>\n    </tr>\n  </thead>\n  <tbody>\n    <tr>\n      <th>0</th>\n      <td>14</td>\n    </tr>\n    <tr>\n      <th>1</th>\n      <td>8</td>\n    </tr>\n    <tr>\n      <th>2</th>\n      <td>7</td>\n    </tr>\n    <tr>\n      <th>3</th>\n      <td>3</td>\n    </tr>\n    <tr>\n      <th>4</th>\n      <td>6</td>\n    </tr>\n    <tr>\n      <th>...</th>\n      <td>...</td>\n    </tr>\n    <tr>\n      <th>17179</th>\n      <td>1</td>\n    </tr>\n    <tr>\n      <th>19745</th>\n      <td>1</td>\n    </tr>\n    <tr>\n      <th>21230</th>\n      <td>1</td>\n    </tr>\n    <tr>\n      <th>43223</th>\n      <td>1</td>\n    </tr>\n    <tr>\n      <th>57037</th>\n      <td>1</td>\n    </tr>\n  </tbody>\n</table>\n<p>599 rows × 1 columns</p>\n</div>"
     },
     "execution_count": 141,
     "metadata": {},
     "output_type": "execute_result"
    }
   ],
   "source": [
    "df[[\"countFriends\", \"countFollowers\"]].groupby(\"countFollowers\").count()"
   ]
  },
  {
   "cell_type": "markdown",
   "metadata": {
    "collapsed": false
   },
   "source": [
    "## Сводная таблица в Pandas"
   ]
  },
  {
   "cell_type": "code",
   "execution_count": 142,
   "metadata": {
    "collapsed": false
   },
   "outputs": [
    {
     "data": {
      "text/plain": "boolComments  False  True\nsex                      \n1               250   161\n2               330   257",
      "text/html": "<div>\n<style scoped>\n    .dataframe tbody tr th:only-of-type {\n        vertical-align: middle;\n    }\n\n    .dataframe tbody tr th {\n        vertical-align: top;\n    }\n\n    .dataframe thead th {\n        text-align: right;\n    }\n</style>\n<table border=\"1\" class=\"dataframe\">\n  <thead>\n    <tr style=\"text-align: right;\">\n      <th>boolComments</th>\n      <th>False</th>\n      <th>True</th>\n    </tr>\n    <tr>\n      <th>sex</th>\n      <th></th>\n      <th></th>\n    </tr>\n  </thead>\n  <tbody>\n    <tr>\n      <th>1</th>\n      <td>250</td>\n      <td>161</td>\n    </tr>\n    <tr>\n      <th>2</th>\n      <td>330</td>\n      <td>257</td>\n    </tr>\n  </tbody>\n</table>\n</div>"
     },
     "execution_count": 142,
     "metadata": {},
     "output_type": "execute_result"
    }
   ],
   "source": [
    "pvt = df.pivot_table(index=['sex'], columns=['boolComments'], values='countFriends', aggfunc='count')\n",
    "pvt"
   ]
  },
  {
   "cell_type": "markdown",
   "metadata": {
    "collapsed": false
   },
   "source": [
    "## Чтение и запись данных"
   ]
  },
  {
   "cell_type": "code",
   "execution_count": 153,
   "metadata": {
    "collapsed": false
   },
   "outputs": [],
   "source": [
    "df[[\"countFriends\", \"countFollowers\"]].groupby(\"countFollowers\").count().to_csv(\"count.csv\", sep='|')"
   ]
  },
  {
   "cell_type": "code",
   "execution_count": 145,
   "metadata": {
    "collapsed": false
   },
   "outputs": [],
   "source": [
    "new_df = pd.read_csv(\"count.csv\")"
   ]
  },
  {
   "cell_type": "code",
   "execution_count": 146,
   "metadata": {
    "collapsed": false
   },
   "outputs": [],
   "source": [
    "new_df.to_json(\"count.json\")"
   ]
  },
  {
   "cell_type": "code",
   "execution_count": 147,
   "metadata": {
    "collapsed": false
   },
   "outputs": [],
   "source": [
    "new_df.to_json(\"count.json\", indent=4)"
   ]
  },
  {
   "cell_type": "code",
   "execution_count": 148,
   "metadata": {
    "collapsed": false
   },
   "outputs": [],
   "source": [
    "new_df = pd.read_json(\"count.json\")"
   ]
  },
  {
   "cell_type": "code",
   "execution_count": 149,
   "metadata": {
    "collapsed": false
   },
   "outputs": [
    {
     "data": {
      "text/plain": "     countFollowers  countFriends\n0                 0            14\n1                 1             8\n2                 2             7\n3                 3             3\n4                 4             6\n..              ...           ...\n594           17179             1\n595           19745             1\n596           21230             1\n597           43223             1\n598           57037             1\n\n[599 rows x 2 columns]",
      "text/html": "<div>\n<style scoped>\n    .dataframe tbody tr th:only-of-type {\n        vertical-align: middle;\n    }\n\n    .dataframe tbody tr th {\n        vertical-align: top;\n    }\n\n    .dataframe thead th {\n        text-align: right;\n    }\n</style>\n<table border=\"1\" class=\"dataframe\">\n  <thead>\n    <tr style=\"text-align: right;\">\n      <th></th>\n      <th>countFollowers</th>\n      <th>countFriends</th>\n    </tr>\n  </thead>\n  <tbody>\n    <tr>\n      <th>0</th>\n      <td>0</td>\n      <td>14</td>\n    </tr>\n    <tr>\n      <th>1</th>\n      <td>1</td>\n      <td>8</td>\n    </tr>\n    <tr>\n      <th>2</th>\n      <td>2</td>\n      <td>7</td>\n    </tr>\n    <tr>\n      <th>3</th>\n      <td>3</td>\n      <td>3</td>\n    </tr>\n    <tr>\n      <th>4</th>\n      <td>4</td>\n      <td>6</td>\n    </tr>\n    <tr>\n      <th>...</th>\n      <td>...</td>\n      <td>...</td>\n    </tr>\n    <tr>\n      <th>594</th>\n      <td>17179</td>\n      <td>1</td>\n    </tr>\n    <tr>\n      <th>595</th>\n      <td>19745</td>\n      <td>1</td>\n    </tr>\n    <tr>\n      <th>596</th>\n      <td>21230</td>\n      <td>1</td>\n    </tr>\n    <tr>\n      <th>597</th>\n      <td>43223</td>\n      <td>1</td>\n    </tr>\n    <tr>\n      <th>598</th>\n      <td>57037</td>\n      <td>1</td>\n    </tr>\n  </tbody>\n</table>\n<p>599 rows × 2 columns</p>\n</div>"
     },
     "execution_count": 149,
     "metadata": {},
     "output_type": "execute_result"
    }
   ],
   "source": [
    "new_df"
   ]
  },
  {
   "cell_type": "markdown",
   "metadata": {
    "collapsed": false
   },
   "source": [
    "## Применение функций к столбцам"
   ]
  },
  {
   "cell_type": "code",
   "execution_count": 156,
   "metadata": {
    "collapsed": false
   },
   "outputs": [
    {
     "data": {
      "text/plain": "0      1.4\n1      0.8\n2      0.7\n3      0.3\n4      0.6\n      ... \n594    0.1\n595    0.1\n596    0.1\n597    0.1\n598    0.1\nName: countFriends, Length: 599, dtype: float64"
     },
     "execution_count": 156,
     "metadata": {},
     "output_type": "execute_result"
    }
   ],
   "source": [
    "new_df['countFriends'].apply(lambda x: x / 10)"
   ]
  },
  {
   "cell_type": "code",
   "execution_count": 157,
   "metadata": {
    "collapsed": false
   },
   "outputs": [
    {
     "data": {
      "text/plain": "         countFriends  countFollowers  boolComments  countOwnerPosts  \\\nID                                                                     \n3329071            75             137         False               11   \n5138784           173             117         False                6   \n5432192           324             549         False               20   \n7245154           678              97         False                1   \n8648939           398              38         False               14   \n\n         countOwnerReposts  countPhotos  countVideos  countLikesPhotoes  sex  \nID                                                                            \n3329071                  9            4           71                 14    2  \n5138784                 14            9           26                234    1  \n5432192                  0           40           64               1561    1  \n7245154                 19           24          240               1111    2  \n8648939                  6           11           12                480    1  ",
      "text/html": "<div>\n<style scoped>\n    .dataframe tbody tr th:only-of-type {\n        vertical-align: middle;\n    }\n\n    .dataframe tbody tr th {\n        vertical-align: top;\n    }\n\n    .dataframe thead th {\n        text-align: right;\n    }\n</style>\n<table border=\"1\" class=\"dataframe\">\n  <thead>\n    <tr style=\"text-align: right;\">\n      <th></th>\n      <th>countFriends</th>\n      <th>countFollowers</th>\n      <th>boolComments</th>\n      <th>countOwnerPosts</th>\n      <th>countOwnerReposts</th>\n      <th>countPhotos</th>\n      <th>countVideos</th>\n      <th>countLikesPhotoes</th>\n      <th>sex</th>\n    </tr>\n    <tr>\n      <th>ID</th>\n      <th></th>\n      <th></th>\n      <th></th>\n      <th></th>\n      <th></th>\n      <th></th>\n      <th></th>\n      <th></th>\n      <th></th>\n    </tr>\n  </thead>\n  <tbody>\n    <tr>\n      <th>3329071</th>\n      <td>75</td>\n      <td>137</td>\n      <td>False</td>\n      <td>11</td>\n      <td>9</td>\n      <td>4</td>\n      <td>71</td>\n      <td>14</td>\n      <td>2</td>\n    </tr>\n    <tr>\n      <th>5138784</th>\n      <td>173</td>\n      <td>117</td>\n      <td>False</td>\n      <td>6</td>\n      <td>14</td>\n      <td>9</td>\n      <td>26</td>\n      <td>234</td>\n      <td>1</td>\n    </tr>\n    <tr>\n      <th>5432192</th>\n      <td>324</td>\n      <td>549</td>\n      <td>False</td>\n      <td>20</td>\n      <td>0</td>\n      <td>40</td>\n      <td>64</td>\n      <td>1561</td>\n      <td>1</td>\n    </tr>\n    <tr>\n      <th>7245154</th>\n      <td>678</td>\n      <td>97</td>\n      <td>False</td>\n      <td>1</td>\n      <td>19</td>\n      <td>24</td>\n      <td>240</td>\n      <td>1111</td>\n      <td>2</td>\n    </tr>\n    <tr>\n      <th>8648939</th>\n      <td>398</td>\n      <td>38</td>\n      <td>False</td>\n      <td>14</td>\n      <td>6</td>\n      <td>11</td>\n      <td>12</td>\n      <td>480</td>\n      <td>1</td>\n    </tr>\n  </tbody>\n</table>\n</div>"
     },
     "execution_count": 157,
     "metadata": {},
     "output_type": "execute_result"
    }
   ],
   "source": [
    "df.head()"
   ]
  },
  {
   "cell_type": "code",
   "execution_count": 158,
   "metadata": {
    "collapsed": false
   },
   "outputs": [],
   "source": [
    "Sex = df.sex.map({2: 'M', 1: 'F'})"
   ]
  },
  {
   "cell_type": "code",
   "execution_count": 159,
   "outputs": [
    {
     "data": {
      "text/plain": "ID\n3329071      M\n5138784      F\n5432192      F\n7245154      M\n8648939      F\n            ..\n506751351    F\n507662250    F\n513593853    F\n535577522    M\n550981696    M\nName: sex, Length: 998, dtype: object"
     },
     "execution_count": 159,
     "metadata": {},
     "output_type": "execute_result"
    }
   ],
   "source": [
    "Sex"
   ],
   "metadata": {
    "collapsed": false,
    "pycharm": {
     "name": "#%%\n"
    }
   }
  },
  {
   "cell_type": "code",
   "execution_count": 160,
   "metadata": {
    "collapsed": false
   },
   "outputs": [
    {
     "data": {
      "text/plain": "           countFriends  countFollowers  boolComments  countOwnerPosts  \\\nID                                                                       \n3329071              75             137         False               11   \n5138784             173             117         False                6   \n5432192             324             549         False               20   \n7245154             678              97         False                1   \n8648939             398              38         False               14   \n...                 ...             ...           ...              ...   \n506751351           756             111         False                3   \n507662250           188              19         False                0   \n513593853            65               0         False               17   \n535577522          2507             507          True               20   \n550981696            64              52          True                3   \n\n           countOwnerReposts  countPhotos  countVideos  countLikesPhotoes sex  \nID                                                                             \n3329071                    9            4           71                 14   M  \n5138784                   14            9           26                234   F  \n5432192                    0           40           64               1561   F  \n7245154                   19           24          240               1111   M  \n8648939                    6           11           12                480   F  \n...                      ...          ...          ...                ...  ..  \n506751351                 17            1          202                 48   F  \n507662250                  0            1          898                 12   F  \n513593853                  3            3          227                 15   F  \n535577522                  0            1            0                 56   M  \n550981696                  4            2          111                 59   M  \n\n[998 rows x 9 columns]",
      "text/html": "<div>\n<style scoped>\n    .dataframe tbody tr th:only-of-type {\n        vertical-align: middle;\n    }\n\n    .dataframe tbody tr th {\n        vertical-align: top;\n    }\n\n    .dataframe thead th {\n        text-align: right;\n    }\n</style>\n<table border=\"1\" class=\"dataframe\">\n  <thead>\n    <tr style=\"text-align: right;\">\n      <th></th>\n      <th>countFriends</th>\n      <th>countFollowers</th>\n      <th>boolComments</th>\n      <th>countOwnerPosts</th>\n      <th>countOwnerReposts</th>\n      <th>countPhotos</th>\n      <th>countVideos</th>\n      <th>countLikesPhotoes</th>\n      <th>sex</th>\n    </tr>\n    <tr>\n      <th>ID</th>\n      <th></th>\n      <th></th>\n      <th></th>\n      <th></th>\n      <th></th>\n      <th></th>\n      <th></th>\n      <th></th>\n      <th></th>\n    </tr>\n  </thead>\n  <tbody>\n    <tr>\n      <th>3329071</th>\n      <td>75</td>\n      <td>137</td>\n      <td>False</td>\n      <td>11</td>\n      <td>9</td>\n      <td>4</td>\n      <td>71</td>\n      <td>14</td>\n      <td>M</td>\n    </tr>\n    <tr>\n      <th>5138784</th>\n      <td>173</td>\n      <td>117</td>\n      <td>False</td>\n      <td>6</td>\n      <td>14</td>\n      <td>9</td>\n      <td>26</td>\n      <td>234</td>\n      <td>F</td>\n    </tr>\n    <tr>\n      <th>5432192</th>\n      <td>324</td>\n      <td>549</td>\n      <td>False</td>\n      <td>20</td>\n      <td>0</td>\n      <td>40</td>\n      <td>64</td>\n      <td>1561</td>\n      <td>F</td>\n    </tr>\n    <tr>\n      <th>7245154</th>\n      <td>678</td>\n      <td>97</td>\n      <td>False</td>\n      <td>1</td>\n      <td>19</td>\n      <td>24</td>\n      <td>240</td>\n      <td>1111</td>\n      <td>M</td>\n    </tr>\n    <tr>\n      <th>8648939</th>\n      <td>398</td>\n      <td>38</td>\n      <td>False</td>\n      <td>14</td>\n      <td>6</td>\n      <td>11</td>\n      <td>12</td>\n      <td>480</td>\n      <td>F</td>\n    </tr>\n    <tr>\n      <th>...</th>\n      <td>...</td>\n      <td>...</td>\n      <td>...</td>\n      <td>...</td>\n      <td>...</td>\n      <td>...</td>\n      <td>...</td>\n      <td>...</td>\n      <td>...</td>\n    </tr>\n    <tr>\n      <th>506751351</th>\n      <td>756</td>\n      <td>111</td>\n      <td>False</td>\n      <td>3</td>\n      <td>17</td>\n      <td>1</td>\n      <td>202</td>\n      <td>48</td>\n      <td>F</td>\n    </tr>\n    <tr>\n      <th>507662250</th>\n      <td>188</td>\n      <td>19</td>\n      <td>False</td>\n      <td>0</td>\n      <td>0</td>\n      <td>1</td>\n      <td>898</td>\n      <td>12</td>\n      <td>F</td>\n    </tr>\n    <tr>\n      <th>513593853</th>\n      <td>65</td>\n      <td>0</td>\n      <td>False</td>\n      <td>17</td>\n      <td>3</td>\n      <td>3</td>\n      <td>227</td>\n      <td>15</td>\n      <td>F</td>\n    </tr>\n    <tr>\n      <th>535577522</th>\n      <td>2507</td>\n      <td>507</td>\n      <td>True</td>\n      <td>20</td>\n      <td>0</td>\n      <td>1</td>\n      <td>0</td>\n      <td>56</td>\n      <td>M</td>\n    </tr>\n    <tr>\n      <th>550981696</th>\n      <td>64</td>\n      <td>52</td>\n      <td>True</td>\n      <td>3</td>\n      <td>4</td>\n      <td>2</td>\n      <td>111</td>\n      <td>59</td>\n      <td>M</td>\n    </tr>\n  </tbody>\n</table>\n<p>998 rows × 9 columns</p>\n</div>"
     },
     "execution_count": 160,
     "metadata": {},
     "output_type": "execute_result"
    }
   ],
   "source": [
    "df.sex = Sex\n",
    "df"
   ]
  },
  {
   "cell_type": "markdown",
   "metadata": {
    "collapsed": false
   },
   "source": [
    "## Работа с пропусками данных"
   ]
  },
  {
   "cell_type": "code",
   "execution_count": 161,
   "metadata": {
    "collapsed": false
   },
   "outputs": [
    {
     "data": {
      "text/plain": "   temp  visibility\n1  20.0        10.0\n2  19.0         8.0\n3  16.0         NaN\n4   NaN         1.0\n5  22.0         5.0\n6  35.0         8.0\n7  25.0        10.0",
      "text/html": "<div>\n<style scoped>\n    .dataframe tbody tr th:only-of-type {\n        vertical-align: middle;\n    }\n\n    .dataframe tbody tr th {\n        vertical-align: top;\n    }\n\n    .dataframe thead th {\n        text-align: right;\n    }\n</style>\n<table border=\"1\" class=\"dataframe\">\n  <thead>\n    <tr style=\"text-align: right;\">\n      <th></th>\n      <th>temp</th>\n      <th>visibility</th>\n    </tr>\n  </thead>\n  <tbody>\n    <tr>\n      <th>1</th>\n      <td>20.0</td>\n      <td>10.0</td>\n    </tr>\n    <tr>\n      <th>2</th>\n      <td>19.0</td>\n      <td>8.0</td>\n    </tr>\n    <tr>\n      <th>3</th>\n      <td>16.0</td>\n      <td>NaN</td>\n    </tr>\n    <tr>\n      <th>4</th>\n      <td>NaN</td>\n      <td>1.0</td>\n    </tr>\n    <tr>\n      <th>5</th>\n      <td>22.0</td>\n      <td>5.0</td>\n    </tr>\n    <tr>\n      <th>6</th>\n      <td>35.0</td>\n      <td>8.0</td>\n    </tr>\n    <tr>\n      <th>7</th>\n      <td>25.0</td>\n      <td>10.0</td>\n    </tr>\n  </tbody>\n</table>\n</div>"
     },
     "execution_count": 161,
     "metadata": {},
     "output_type": "execute_result"
    }
   ],
   "source": [
    "temp_with_nan = pd.DataFrame({'temp': [+20, +19, +16, np.nan, +22, +35, +25],\n",
    "                              'visibility': [10, 8, np.nan, 1, 5, 8, 10]},\n",
    "                             index=[1, 2, 3, 4, 5, 6, 7])\n",
    "temp_with_nan"
   ]
  },
  {
   "cell_type": "code",
   "execution_count": 164,
   "metadata": {
    "collapsed": false
   },
   "outputs": [
    {
     "data": {
      "text/plain": "temp          True\nvisibility    True\ndtype: bool"
     },
     "execution_count": 164,
     "metadata": {},
     "output_type": "execute_result"
    }
   ],
   "source": [
    "temp_with_nan.isnull().any()"
   ]
  },
  {
   "cell_type": "code",
   "execution_count": 165,
   "metadata": {
    "collapsed": false
   },
   "outputs": [
    {
     "data": {
      "text/plain": "    temp  visibility\n1  False       False\n2  False       False\n3  False        True\n4   True       False\n5  False       False\n6  False       False\n7  False       False",
      "text/html": "<div>\n<style scoped>\n    .dataframe tbody tr th:only-of-type {\n        vertical-align: middle;\n    }\n\n    .dataframe tbody tr th {\n        vertical-align: top;\n    }\n\n    .dataframe thead th {\n        text-align: right;\n    }\n</style>\n<table border=\"1\" class=\"dataframe\">\n  <thead>\n    <tr style=\"text-align: right;\">\n      <th></th>\n      <th>temp</th>\n      <th>visibility</th>\n    </tr>\n  </thead>\n  <tbody>\n    <tr>\n      <th>1</th>\n      <td>False</td>\n      <td>False</td>\n    </tr>\n    <tr>\n      <th>2</th>\n      <td>False</td>\n      <td>False</td>\n    </tr>\n    <tr>\n      <th>3</th>\n      <td>False</td>\n      <td>True</td>\n    </tr>\n    <tr>\n      <th>4</th>\n      <td>True</td>\n      <td>False</td>\n    </tr>\n    <tr>\n      <th>5</th>\n      <td>False</td>\n      <td>False</td>\n    </tr>\n    <tr>\n      <th>6</th>\n      <td>False</td>\n      <td>False</td>\n    </tr>\n    <tr>\n      <th>7</th>\n      <td>False</td>\n      <td>False</td>\n    </tr>\n  </tbody>\n</table>\n</div>"
     },
     "execution_count": 165,
     "metadata": {},
     "output_type": "execute_result"
    }
   ],
   "source": [
    "temp_with_nan.isnull()"
   ]
  },
  {
   "cell_type": "code",
   "execution_count": 166,
   "metadata": {
    "collapsed": false
   },
   "outputs": [
    {
     "data": {
      "text/plain": "    temp  visibility\n1  False       False\n2  False       False\n3  False        True\n4   True       False\n5  False       False\n6  False       False\n7  False       False",
      "text/html": "<div>\n<style scoped>\n    .dataframe tbody tr th:only-of-type {\n        vertical-align: middle;\n    }\n\n    .dataframe tbody tr th {\n        vertical-align: top;\n    }\n\n    .dataframe thead th {\n        text-align: right;\n    }\n</style>\n<table border=\"1\" class=\"dataframe\">\n  <thead>\n    <tr style=\"text-align: right;\">\n      <th></th>\n      <th>temp</th>\n      <th>visibility</th>\n    </tr>\n  </thead>\n  <tbody>\n    <tr>\n      <th>1</th>\n      <td>False</td>\n      <td>False</td>\n    </tr>\n    <tr>\n      <th>2</th>\n      <td>False</td>\n      <td>False</td>\n    </tr>\n    <tr>\n      <th>3</th>\n      <td>False</td>\n      <td>True</td>\n    </tr>\n    <tr>\n      <th>4</th>\n      <td>True</td>\n      <td>False</td>\n    </tr>\n    <tr>\n      <th>5</th>\n      <td>False</td>\n      <td>False</td>\n    </tr>\n    <tr>\n      <th>6</th>\n      <td>False</td>\n      <td>False</td>\n    </tr>\n    <tr>\n      <th>7</th>\n      <td>False</td>\n      <td>False</td>\n    </tr>\n  </tbody>\n</table>\n</div>"
     },
     "execution_count": 166,
     "metadata": {},
     "output_type": "execute_result"
    }
   ],
   "source": [
    "temp_with_nan.isna()"
   ]
  },
  {
   "cell_type": "markdown",
   "metadata": {
    "collapsed": false
   },
   "source": [
    "isna == isnull"
   ]
  },
  {
   "cell_type": "code",
   "execution_count": 167,
   "metadata": {
    "collapsed": false
   },
   "outputs": [
    {
     "data": {
      "text/plain": "   temp  visibility\n1  20.0        10.0\n2  19.0         8.0\n3  16.0         0.0\n4   0.0         1.0\n5  22.0         5.0\n6  35.0         8.0\n7  25.0        10.0",
      "text/html": "<div>\n<style scoped>\n    .dataframe tbody tr th:only-of-type {\n        vertical-align: middle;\n    }\n\n    .dataframe tbody tr th {\n        vertical-align: top;\n    }\n\n    .dataframe thead th {\n        text-align: right;\n    }\n</style>\n<table border=\"1\" class=\"dataframe\">\n  <thead>\n    <tr style=\"text-align: right;\">\n      <th></th>\n      <th>temp</th>\n      <th>visibility</th>\n    </tr>\n  </thead>\n  <tbody>\n    <tr>\n      <th>1</th>\n      <td>20.0</td>\n      <td>10.0</td>\n    </tr>\n    <tr>\n      <th>2</th>\n      <td>19.0</td>\n      <td>8.0</td>\n    </tr>\n    <tr>\n      <th>3</th>\n      <td>16.0</td>\n      <td>0.0</td>\n    </tr>\n    <tr>\n      <th>4</th>\n      <td>0.0</td>\n      <td>1.0</td>\n    </tr>\n    <tr>\n      <th>5</th>\n      <td>22.0</td>\n      <td>5.0</td>\n    </tr>\n    <tr>\n      <th>6</th>\n      <td>35.0</td>\n      <td>8.0</td>\n    </tr>\n    <tr>\n      <th>7</th>\n      <td>25.0</td>\n      <td>10.0</td>\n    </tr>\n  </tbody>\n</table>\n</div>"
     },
     "execution_count": 167,
     "metadata": {},
     "output_type": "execute_result"
    }
   ],
   "source": [
    "temp_with_nan.fillna(0)"
   ]
  },
  {
   "cell_type": "code",
   "execution_count": 168,
   "metadata": {
    "collapsed": false
   },
   "outputs": [
    {
     "data": {
      "text/plain": "        temp  visibility\n1  20.000000        10.0\n2  19.000000         8.0\n3  16.000000         7.0\n4  22.833333         1.0\n5  22.000000         5.0\n6  35.000000         8.0\n7  25.000000        10.0",
      "text/html": "<div>\n<style scoped>\n    .dataframe tbody tr th:only-of-type {\n        vertical-align: middle;\n    }\n\n    .dataframe tbody tr th {\n        vertical-align: top;\n    }\n\n    .dataframe thead th {\n        text-align: right;\n    }\n</style>\n<table border=\"1\" class=\"dataframe\">\n  <thead>\n    <tr style=\"text-align: right;\">\n      <th></th>\n      <th>temp</th>\n      <th>visibility</th>\n    </tr>\n  </thead>\n  <tbody>\n    <tr>\n      <th>1</th>\n      <td>20.000000</td>\n      <td>10.0</td>\n    </tr>\n    <tr>\n      <th>2</th>\n      <td>19.000000</td>\n      <td>8.0</td>\n    </tr>\n    <tr>\n      <th>3</th>\n      <td>16.000000</td>\n      <td>7.0</td>\n    </tr>\n    <tr>\n      <th>4</th>\n      <td>22.833333</td>\n      <td>1.0</td>\n    </tr>\n    <tr>\n      <th>5</th>\n      <td>22.000000</td>\n      <td>5.0</td>\n    </tr>\n    <tr>\n      <th>6</th>\n      <td>35.000000</td>\n      <td>8.0</td>\n    </tr>\n    <tr>\n      <th>7</th>\n      <td>25.000000</td>\n      <td>10.0</td>\n    </tr>\n  </tbody>\n</table>\n</div>"
     },
     "execution_count": 168,
     "metadata": {},
     "output_type": "execute_result"
    }
   ],
   "source": [
    "temp_with_nan.fillna(temp_with_nan.mean())"
   ]
  },
  {
   "cell_type": "code",
   "execution_count": 169,
   "outputs": [
    {
     "data": {
      "text/plain": "   temp  visibility\n1  20.0        10.0\n2  19.0         8.0\n5  22.0         5.0\n6  35.0         8.0\n7  25.0        10.0",
      "text/html": "<div>\n<style scoped>\n    .dataframe tbody tr th:only-of-type {\n        vertical-align: middle;\n    }\n\n    .dataframe tbody tr th {\n        vertical-align: top;\n    }\n\n    .dataframe thead th {\n        text-align: right;\n    }\n</style>\n<table border=\"1\" class=\"dataframe\">\n  <thead>\n    <tr style=\"text-align: right;\">\n      <th></th>\n      <th>temp</th>\n      <th>visibility</th>\n    </tr>\n  </thead>\n  <tbody>\n    <tr>\n      <th>1</th>\n      <td>20.0</td>\n      <td>10.0</td>\n    </tr>\n    <tr>\n      <th>2</th>\n      <td>19.0</td>\n      <td>8.0</td>\n    </tr>\n    <tr>\n      <th>5</th>\n      <td>22.0</td>\n      <td>5.0</td>\n    </tr>\n    <tr>\n      <th>6</th>\n      <td>35.0</td>\n      <td>8.0</td>\n    </tr>\n    <tr>\n      <th>7</th>\n      <td>25.0</td>\n      <td>10.0</td>\n    </tr>\n  </tbody>\n</table>\n</div>"
     },
     "execution_count": 169,
     "metadata": {},
     "output_type": "execute_result"
    }
   ],
   "source": [
    "temp_with_nan.dropna()"
   ],
   "metadata": {
    "collapsed": false,
    "pycharm": {
     "name": "#%%\n"
    }
   }
  },
  {
   "cell_type": "markdown",
   "metadata": {
    "collapsed": false
   },
   "source": [
    "# MatPlotLib"
   ]
  },
  {
   "cell_type": "markdown",
   "metadata": {
    "collapsed": false
   },
   "source": [
    "## Простейший линейный график"
   ]
  },
  {
   "cell_type": "code",
   "execution_count": null,
   "id": "a5250c8c",
   "metadata": {},
   "outputs": [],
   "source": [
    "!pip install matplotlib"
   ]
  },
  {
   "cell_type": "code",
   "execution_count": 176,
   "metadata": {
    "collapsed": false
   },
   "outputs": [
    {
     "data": {
      "text/plain": "<Figure size 432x288 with 1 Axes>",
      "image/png": "[encoded data removed]"
     },
     "metadata": {
      "needs_background": "light"
     },
     "output_type": "display_data"
    }
   ],
   "source": [
    "import matplotlib.pyplot as plt\n",
    "\n",
    "plt.plot((0, 1, 2, 3, 4, 5, 6, 7), (0, 3, 1, 2, 1, 5, 4, 10))\n",
    "plt.show()"
   ]
  },
  {
   "cell_type": "code",
   "execution_count": 171,
   "metadata": {
    "collapsed": false
   },
   "outputs": [
    {
     "data": {
      "text/plain": "<Figure size 432x288 with 1 Axes>",
      "image/png": "[encoded data removed]"
     },
     "metadata": {
      "needs_background": "light"
     },
     "output_type": "display_data"
    }
   ],
   "source": [
    "import matplotlib.pyplot as plt\n",
    "plt.plot((0, 3, 1, 2, 1, 5, 4, 0))\n",
    "plt.show()"
   ]
  },
  {
   "cell_type": "markdown",
   "metadata": {
    "collapsed": false
   },
   "source": [
    "Также можно строить замкнутые фигуры"
   ]
  },
  {
   "cell_type": "code",
   "execution_count": 174,
   "metadata": {
    "collapsed": false
   },
   "outputs": [
    {
     "data": {
      "text/plain": "<Figure size 432x288 with 1 Axes>",
      "image/png": "[encoded data removed]"
     },
     "metadata": {
      "needs_background": "light"
     },
     "output_type": "display_data"
    }
   ],
   "source": [
    "plt.plot((0, 0, 5, 4, 0), (0, 3, 2, 1, 0))\n",
    "plt.show()"
   ]
  },
  {
   "cell_type": "markdown",
   "metadata": {
    "collapsed": false
   },
   "source": [
    "## Как построить точечны график"
   ]
  },
  {
   "cell_type": "code",
   "execution_count": 177,
   "metadata": {
    "collapsed": false
   },
   "outputs": [
    {
     "data": {
      "text/plain": "<Figure size 432x288 with 1 Axes>",
      "image/png": "[encoded data removed]"
     },
     "metadata": {
      "needs_background": "light"
     },
     "output_type": "display_data"
    }
   ],
   "source": [
    "plt.scatter((0, 1, 2, 3, 4, 5, 6, 7), (0, 3, 1, 2, 1, 5, 4, 10))\n",
    "plt.show()"
   ]
  },
  {
   "cell_type": "code",
   "execution_count": 178,
   "metadata": {
    "collapsed": false
   },
   "outputs": [
    {
     "data": {
      "text/plain": "<Figure size 432x288 with 1 Axes>",
      "image/png": "[encoded data removed]"
     },
     "metadata": {
      "needs_background": "light"
     },
     "output_type": "display_data"
    }
   ],
   "source": [
    "plt.scatter([0, 1, 2, 3, 4 , 5], [0, 1, 2, 3, 4 , 5])\n",
    "plt.scatter([1, 2, 3, 1, 2 , 1], [2, 3, 4, 3, 4 , 4])\n",
    "plt.scatter([2, 3, 4, 3, 4 , 4], [1, 2, 3, 1, 2 , 1])\n",
    "plt.show()"
   ]
  },
  {
   "cell_type": "markdown",
   "metadata": {
    "collapsed": false
   },
   "source": [
    "### Гистограммы"
   ]
  },
  {
   "cell_type": "code",
   "execution_count": 179,
   "metadata": {
    "collapsed": false
   },
   "outputs": [
    {
     "data": {
      "text/plain": "<Figure size 432x288 with 1 Axes>",
      "image/png": "[encoded data removed]"
     },
     "metadata": {
      "needs_background": "light"
     },
     "output_type": "display_data"
    }
   ],
   "source": [
    "plt.bar([6, 7, 8], [10, 15, 21])\n",
    "plt.show()"
   ]
  },
  {
   "cell_type": "code",
   "execution_count": 180,
   "metadata": {
    "collapsed": false
   },
   "outputs": [
    {
     "data": {
      "text/plain": "<Figure size 432x288 with 1 Axes>",
      "image/png": "[encoded data removed]"
     },
     "metadata": {
      "needs_background": "light"
     },
     "output_type": "display_data"
    }
   ],
   "source": [
    "plt.barh([6, 7, 8], [10, 15, 21])\n",
    "plt.show()"
   ]
  },
  {
   "cell_type": "code",
   "execution_count": 181,
   "metadata": {
    "collapsed": false
   },
   "outputs": [
    {
     "data": {
      "text/plain": "<Figure size 432x288 with 1 Axes>",
      "image/png": "[encoded data removed]"
     },
     "metadata": {
      "needs_background": "light"
     },
     "output_type": "display_data"
    }
   ],
   "source": [
    "plt.barh([6, 7, 8], [10, 15, 21])\n",
    "plt.barh([6, 7, 8], [4, 3, 2])\n",
    "plt.show()"
   ]
  },
  {
   "cell_type": "markdown",
   "metadata": {
    "collapsed": false
   },
   "source": [
    "## Круговые диаграммы"
   ]
  },
  {
   "cell_type": "code",
   "execution_count": 182,
   "metadata": {
    "collapsed": false
   },
   "outputs": [
    {
     "data": {
      "text/plain": "<Figure size 432x288 with 1 Axes>",
      "image/png": "[encoded data removed]"
     },
     "metadata": {},
     "output_type": "display_data"
    }
   ],
   "source": [
    "plt.pie([40, 10, 30, 100])\n",
    "plt.show()"
   ]
  },
  {
   "cell_type": "markdown",
   "metadata": {
    "collapsed": false
   },
   "source": [
    "## BoxPlot"
   ]
  },
  {
   "cell_type": "code",
   "execution_count": 183,
   "metadata": {
    "collapsed": false
   },
   "outputs": [],
   "source": [
    "a = np.random.randint(2, 10, 10)"
   ]
  },
  {
   "cell_type": "code",
   "execution_count": 184,
   "metadata": {
    "collapsed": false
   },
   "outputs": [
    {
     "data": {
      "text/plain": "array([2, 7, 7, 4, 9, 6, 5, 4, 2, 4])"
     },
     "execution_count": 184,
     "metadata": {},
     "output_type": "execute_result"
    }
   ],
   "source": [
    "a"
   ]
  },
  {
   "cell_type": "code",
   "execution_count": 185,
   "metadata": {
    "collapsed": false
   },
   "outputs": [
    {
     "data": {
      "text/plain": "<Figure size 432x288 with 1 Axes>",
      "image/png": "[encoded data removed]"
     },
     "metadata": {
      "needs_background": "light"
     },
     "output_type": "display_data"
    }
   ],
   "source": [
    "plt.boxplot(a)\n",
    "plt.show()"
   ]
  },
  {
   "cell_type": "code",
   "execution_count": 186,
   "metadata": {
    "collapsed": false
   },
   "outputs": [
    {
     "data": {
      "text/plain": "(array([7, 9, 8, 9, 8, 3, 4, 2, 8, 7]),\n array([5, 8, 6, 2, 3, 3, 4, 7, 6, 9]),\n array([3, 4, 3, 9, 2, 8, 4, 3, 9, 3]))"
     },
     "execution_count": 186,
     "metadata": {},
     "output_type": "execute_result"
    }
   ],
   "source": [
    "a = (np.random.randint(2, 10, 10), np.random.randint(2, 10, 10), np.random.randint(2, 10, 10))\n",
    "a"
   ]
  },
  {
   "cell_type": "code",
   "execution_count": 187,
   "metadata": {
    "collapsed": false
   },
   "outputs": [
    {
     "data": {
      "text/plain": "<Figure size 432x288 with 1 Axes>",
      "image/png": "[encoded data removed]"
     },
     "metadata": {
      "needs_background": "light"
     },
     "output_type": "display_data"
    }
   ],
   "source": [
    "plt.boxplot(a)\n",
    "plt.show()"
   ]
  },
  {
   "cell_type": "markdown",
   "metadata": {
    "collapsed": false
   },
   "source": [
    "## Улучшаем работу с графиками"
   ]
  },
  {
   "cell_type": "code",
   "execution_count": 188,
   "metadata": {
    "collapsed": false
   },
   "outputs": [
    {
     "data": {
      "text/plain": "<Figure size 432x288 with 1 Axes>",
      "image/png": "[encoded data removed]"
     },
     "metadata": {
      "needs_background": "light"
     },
     "output_type": "display_data"
    }
   ],
   "source": [
    "fig = plt.figure()\n",
    "ax = fig.add_subplot(111)\n",
    "\n",
    "plt.show()"
   ]
  },
  {
   "cell_type": "markdown",
   "metadata": {
    "collapsed": false
   },
   "source": [
    "- Создали новый объект Фигура\n",
    "- Добавили новый объект графика(1 и 1 размер и 1 номер ячейки)"
   ]
  },
  {
   "cell_type": "markdown",
   "metadata": {
    "collapsed": false
   },
   "source": [
    "## Наведем красоту"
   ]
  },
  {
   "cell_type": "code",
   "execution_count": 189,
   "metadata": {
    "collapsed": false
   },
   "outputs": [
    {
     "data": {
      "text/plain": "<Figure size 432x288 with 1 Axes>",
      "image/png": "[encoded data removed]"
     },
     "metadata": {},
     "output_type": "display_data"
    }
   ],
   "source": [
    "fig = plt.figure()\n",
    "ax = fig.add_subplot(111)\n",
    "\n",
    "fig.set(facecolor = 'green')\n",
    "ax.set(facecolor = 'blue')\n",
    "plt.show()"
   ]
  },
  {
   "cell_type": "code",
   "execution_count": 190,
   "metadata": {
    "collapsed": false
   },
   "outputs": [
    {
     "data": {
      "text/plain": "<Figure size 432x288 with 1 Axes>",
      "image/png": "[encoded data removed]"
     },
     "metadata": {},
     "output_type": "display_data"
    }
   ],
   "source": [
    "fig = plt.figure()\n",
    "ax = fig.add_subplot(111)\n",
    "\n",
    "ax.barh([6, 7, 8], [10, 15, 21])\n",
    "ax.barh([6, 7, 8], [4, 3, 2])\n",
    "\n",
    "fig.set(facecolor = 'green')\n",
    "ax.set(facecolor = 'blue')\n",
    "ax.set_title(\"Заголовок графика\")\n",
    "ax.set_xlabel('Ось абцис')\n",
    "ax.set_ylabel('Ось ординат')\n",
    "plt.show()"
   ]
  },
  {
   "cell_type": "code",
   "execution_count": 191,
   "metadata": {
    "collapsed": false
   },
   "outputs": [
    {
     "data": {
      "text/plain": "<Figure size 432x288 with 1 Axes>",
      "image/png": "[encoded data removed]"
     },
     "metadata": {},
     "output_type": "display_data"
    }
   ],
   "source": [
    "fig = plt.figure()\n",
    "ax = fig.add_subplot(111)\n",
    "\n",
    "ax.scatter([6, 7, 8], [10, 15, 21], marker=\"*\")\n",
    "ax.plot([6, 7, 8], [4, 3, 2])\n",
    "\n",
    "fig.set(facecolor = 'green')\n",
    "ax.set(facecolor = 'blue')\n",
    "ax.set_title(\"Заголовок графика\")\n",
    "ax.set_xlabel('Ось абцис')\n",
    "ax.set_ylabel('Ось ординат')\n",
    "plt.show()"
   ]
  },
  {
   "cell_type": "code",
   "execution_count": 194,
   "metadata": {
    "collapsed": false
   },
   "outputs": [
    {
     "data": {
      "text/plain": "<Figure size 432x288 with 1 Axes>",
      "image/png": "[encoded data removed]"
     },
     "metadata": {},
     "output_type": "display_data"
    }
   ],
   "source": [
    "fig = plt.figure()\n",
    "ax = fig.add_subplot(111)\n",
    "\n",
    "ax.scatter([6, 7, 8], [10, 15, 21], marker=\"*\", color=\"yellow\")\n",
    "ax.plot([6, 7, 8], [4, 3, 2], color=\"red\")\n",
    "\n",
    "fig.set(facecolor = 'green')\n",
    "ax.set(facecolor = 'blue')\n",
    "ax.set_title(\"Заголовок графика\")\n",
    "ax.set_xlabel('Ось абцис')\n",
    "ax.set_ylabel('Ось ординат')\n",
    "plt.show()"
   ]
  },
  {
   "cell_type": "markdown",
   "metadata": {
    "collapsed": false
   },
   "source": [
    "## Несколько графиков"
   ]
  },
  {
   "cell_type": "code",
   "execution_count": 195,
   "metadata": {
    "collapsed": false
   },
   "outputs": [
    {
     "data": {
      "text/plain": "<Figure size 720x720 with 6 Axes>",
      "image/png": "[encoded data removed]"
     },
     "metadata": {
      "needs_background": "light"
     },
     "output_type": "display_data"
    }
   ],
   "source": [
    "fig = plt.figure(figsize=(10, 10))\n",
    "ax1 = fig.add_subplot(231)\n",
    "ax2 = fig.add_subplot(232)\n",
    "ax3 = fig.add_subplot(233)\n",
    "ax4 = fig.add_subplot(234)\n",
    "ax5 = fig.add_subplot(235)\n",
    "ax6 = fig.add_subplot(236)\n",
    "\n",
    "ax1.set_title(\"ax1\")\n",
    "ax2.set_title(\"ax2\")\n",
    "ax3.set_title(\"ax3\")\n",
    "ax4.set_title(\"ax4\")\n",
    "ax5.set_title(\"ax5\")\n",
    "ax6.set_title(\"ax6\")\n",
    "\n",
    "plt.show()"
   ]
  },
  {
   "cell_type": "code",
   "execution_count": 196,
   "metadata": {
    "collapsed": false
   },
   "outputs": [
    {
     "data": {
      "text/plain": "<Figure size 720x720 with 3 Axes>",
      "image/png": "[encoded data removed]"
     },
     "metadata": {
      "needs_background": "light"
     },
     "output_type": "display_data"
    }
   ],
   "source": [
    "fig = plt.figure(figsize=(10, 10))\n",
    "ax1 = fig.add_subplot(211)\n",
    "ax2 = fig.add_subplot(236)\n",
    "ax3 = fig.add_subplot(325)\n",
    "\n",
    "\n",
    "\n",
    "ax1.set_title(\"ax1\")\n",
    "ax2.set_title(\"ax2\")\n",
    "ax3.set_title(\"ax3\")\n",
    "ax4.set_title(\"ax4\")\n",
    "ax5.set_title(\"ax5\")\n",
    "ax6.set_title(\"ax6\")\n",
    "\n",
    "plt.show()"
   ]
  },
  {
   "cell_type": "markdown",
   "metadata": {
    "collapsed": false
   },
   "source": [
    "### Немного упростим код:"
   ]
  },
  {
   "cell_type": "code",
   "execution_count": 198,
   "metadata": {
    "collapsed": false
   },
   "outputs": [
    {
     "data": {
      "text/plain": "<Figure size 1080x1080 with 9 Axes>",
      "image/png": "[encoded data removed]"
     },
     "metadata": {
      "needs_background": "light"
     },
     "output_type": "display_data"
    }
   ],
   "source": [
    "fig, axes = plt.subplots(nrows = 3, ncols = 3, figsize=(15, 15))\n",
    "\n",
    "axes[0,0].set(title='[0,0]')\n",
    "axes[0,1].set(title='[0,1]')\n",
    "axes[0,2].set(title='[0,2]')\n",
    "axes[1,0].set(title='[1,0]')\n",
    "axes[1,1].set(title='[1,1]')\n",
    "axes[1,2].set(title='[1,2]')\n",
    "axes[2,0].set(title='[2,0]')\n",
    "axes[2,1].set(title='[2,1]')\n",
    "axes[2,2].set(title='[2,2]')\n",
    "\n",
    "axes[2,2].plot((1, 2), (1, 2))\n",
    "\n",
    "\n",
    "plt.show()"
   ]
  },
  {
   "cell_type": "markdown",
   "metadata": {
    "collapsed": false
   },
   "source": [
    "## Добавление элементов графика"
   ]
  },
  {
   "cell_type": "markdown",
   "metadata": {
    "collapsed": false
   },
   "source": [
    "### Добавим легенду"
   ]
  },
  {
   "cell_type": "code",
   "execution_count": 199,
   "metadata": {
    "collapsed": false
   },
   "outputs": [
    {
     "data": {
      "text/plain": "<Figure size 432x288 with 1 Axes>",
      "image/png": "[encoded data removed]"
     },
     "metadata": {
      "needs_background": "light"
     },
     "output_type": "display_data"
    }
   ],
   "source": [
    "import numpy as np\n",
    "import matplotlib.pyplot as plt\n",
    "\n",
    "x = np.linspace(-2*np.pi, 2*np.pi, 200)\n",
    "y1 = np.sin(x)\n",
    "y2 = np.cos(x)\n",
    "\n",
    "fig, ax = plt.subplots()\n",
    "\n",
    "ax.plot(x, y1, label = 'sin(x)')\n",
    "ax.plot(x, y2, label = 'cos(x)')\n",
    "\n",
    "ax.legend()\n",
    "\n",
    "plt.show()"
   ]
  },
  {
   "cell_type": "code",
   "execution_count": 201,
   "metadata": {
    "collapsed": false
   },
   "outputs": [
    {
     "data": {
      "text/plain": "<Figure size 432x288 with 1 Axes>",
      "image/png": "[encoded data removed]"
     },
     "metadata": {
      "needs_background": "light"
     },
     "output_type": "display_data"
    }
   ],
   "source": [
    "import numpy as np\n",
    "import matplotlib.pyplot as plt\n",
    "\n",
    "x = np.linspace(-2*np.pi, 2*np.pi, 200)\n",
    "y1 = np.sin(x)\n",
    "y2 = np.cos(x) / x\n",
    "\n",
    "fig, ax = plt.subplots()\n",
    "\n",
    "ax.plot(x, y1, label = 'sin(x)')\n",
    "ax.plot(x, y2, label = r'$\\frac{cos(x)}{x}$')\n",
    "# ax.set_ylim([-5,5])\n",
    "ax.legend()\n",
    "\n",
    "ax.legend(fontsize = 14,\n",
    "          ncol = 2,\n",
    "          facecolor = 'oldlace',\n",
    "          edgecolor = 'r',\n",
    "          title = 'Формулы',\n",
    "          title_fontsize = '16'\n",
    "          )\n",
    "plt.show()"
   ]
  },
  {
   "cell_type": "markdown",
   "metadata": {
    "collapsed": false
   },
   "source": [
    "### Добавим сетку"
   ]
  },
  {
   "cell_type": "code",
   "execution_count": 202,
   "metadata": {
    "collapsed": false
   },
   "outputs": [
    {
     "data": {
      "text/plain": "<Figure size 432x288 with 1 Axes>",
      "image/png": "[encoded data removed]"
     },
     "metadata": {
      "needs_background": "light"
     },
     "output_type": "display_data"
    }
   ],
   "source": [
    "import numpy as np\n",
    "import matplotlib.pyplot as plt\n",
    "\n",
    "x = np.linspace(-2*np.pi, 2*np.pi, 200)\n",
    "y1 = np.sin(x)\n",
    "y2 = np.cos(x) / x\n",
    "\n",
    "fig, ax = plt.subplots()\n",
    "\n",
    "ax.plot(x, y1, label = 'sin(x)')\n",
    "ax.plot(x, y2, label = r'$\\frac{cos(x)}{x}$')\n",
    "ax.set_ylim([-5,5])\n",
    "ax.legend()\n",
    "\n",
    "ax.legend(fontsize = 14,\n",
    "          ncol = 2,\n",
    "          facecolor = 'oldlace',\n",
    "          edgecolor = 'r',\n",
    "          title = 'Формулы',\n",
    "          title_fontsize = '16'\n",
    "          )\n",
    "ax.grid()\n",
    "plt.show()"
   ]
  },
  {
   "cell_type": "code",
   "execution_count": 206,
   "metadata": {
    "collapsed": false
   },
   "outputs": [
    {
     "data": {
      "text/plain": "<Figure size 432x288 with 1 Axes>",
      "image/png": "[encoded data removed]"
     },
     "metadata": {
      "needs_background": "light"
     },
     "output_type": "display_data"
    }
   ],
   "source": [
    "import numpy as np\n",
    "import matplotlib.pyplot as plt\n",
    "\n",
    "x = np.linspace(-2*np.pi, 2*np.pi, 200)\n",
    "y1 = np.sin(x)\n",
    "y2 = np.cos(x) / x\n",
    "\n",
    "fig, ax = plt.subplots()\n",
    "\n",
    "ax.plot(x, y1, label = 'sin(x)')\n",
    "ax.plot(x, y2, label = r'$\\frac{cos(x)}{x}$')\n",
    "ax.set_ylim([-5,5])\n",
    "ax.legend()\n",
    "\n",
    "ax.legend(fontsize = 14,\n",
    "          ncol = 2,\n",
    "          facecolor = 'oldlace',\n",
    "          edgecolor = 'r',\n",
    "          title = 'Формулы',\n",
    "          title_fontsize = '16'\n",
    "          )\n",
    "ax.grid(color = 'orange',    #  цвет линий\n",
    "        linewidth = 2,    #  толщина\n",
    "        linestyle = '--',\n",
    "        axis = 'x')\n",
    "ax.grid(color = 'red',    #  цвет линий\n",
    "        linewidth = 1,    #  толщина\n",
    "        linestyle = '--',\n",
    "        axis = 'y')\n",
    "plt.show()"
   ]
  },
  {
   "cell_type": "markdown",
   "metadata": {
    "collapsed": false
   },
   "source": [
    "### Добавим подписи делений на осях"
   ]
  },
  {
   "cell_type": "code",
   "execution_count": 210,
   "metadata": {
    "collapsed": false
   },
   "outputs": [
    {
     "data": {
      "text/plain": "<Figure size 720x432 with 1 Axes>",
      "image/png": "[encoded data removed]"
     },
     "metadata": {
      "needs_background": "light"
     },
     "output_type": "display_data"
    }
   ],
   "source": [
    "import numpy as np\n",
    "import matplotlib.pyplot as plt\n",
    "\n",
    "month = ('Январь', 'Февраль', 'Март', 'Апрель', 'Май', 'Июнь', 'Июль', 'Август', 'Сентябрь', 'Октябрь', 'Ноябрь', 'Декабрь')\n",
    "value = np.random.randint(0, 100, 12)\n",
    "position = np.arange(12)\n",
    "\n",
    "fig, ax = plt.subplots()\n",
    "\n",
    "ax.bar(position, value)\n",
    "\n",
    "ax.set_xticks(position)\n",
    "\n",
    "ax.set_xticklabels(month, rotation = 19)\n",
    "\n",
    "fig.set_figwidth(10)\n",
    "fig.set_figheight(6)\n",
    "\n",
    "plt.show()"
   ]
  },
  {
   "cell_type": "markdown",
   "id": "5d135c8f",
   "metadata": {},
   "source": [
    "# Plotly"
   ]
  },
  {
   "cell_type": "code",
   "execution_count": null,
   "id": "85649be7",
   "metadata": {
    "pycharm": {
     "is_executing": true
    }
   },
   "outputs": [],
   "source": [
    "!pip install plotly"
   ]
  },
  {
   "cell_type": "code",
   "execution_count": 211,
   "id": "77779950",
   "metadata": {},
   "outputs": [],
   "source": [
    "import plotly\n",
    "import plotly.graph_objs as go\n",
    "import plotly.express as px\n",
    "from plotly.subplots import make_subplots\n",
    "\n",
    "import numpy as np\n",
    "import pandas as pd"
   ]
  },
  {
   "cell_type": "markdown",
   "id": "57e72b7f",
   "metadata": {},
   "source": [
    "## Простой и быстрый график по точкам"
   ]
  },
  {
   "cell_type": "code",
   "execution_count": 214,
   "id": "3c193fb6",
   "metadata": {},
   "outputs": [
    {
     "data": {
      "application/vnd.plotly.v1+json": {
       "data": [
        {
         "hovertemplate": "x=%{x}<br>y=%{y}<extra></extra>",
         "legendgroup": "",
         "marker": {
          "color": "#636efa",
          "symbol": "circle"
         },
         "mode": "markers",
         "name": "",
         "orientation": "v",
         "showlegend": false,
         "x": [
          -5.0,
          -4.9,
          -4.800000000000001,
          -4.700000000000001,
          -4.600000000000001,
          -4.500000000000002,
          -4.400000000000002,
          -4.3000000000000025,
          -4.200000000000003,
          -4.100000000000003,
          -4.0000000000000036,
          -3.900000000000004,
          -3.8000000000000043,
          -3.7000000000000046,
          -3.600000000000005,
          -3.5000000000000053,
          -3.4000000000000057,
          -3.300000000000006,
          -3.2000000000000064,
          -3.1000000000000068,
          -3.000000000000007,
          -2.9000000000000075,
          -2.800000000000008,
          -2.700000000000008,
          -2.6000000000000085,
          -2.500000000000009,
          -2.4000000000000092,
          -2.3000000000000096,
          -2.20000000000001,
          -2.1000000000000103,
          -2.0000000000000107,
          -1.900000000000011,
          -1.8000000000000114,
          -1.7000000000000117,
          -1.600000000000012,
          -1.5000000000000124,
          -1.4000000000000128,
          -1.3000000000000131,
          -1.2000000000000135,
          -1.1000000000000139,
          -1.0000000000000142,
          -0.9000000000000146,
          -0.8000000000000149,
          -0.7000000000000153,
          -0.6000000000000156,
          -0.500000000000016,
          -0.40000000000001634,
          -0.3000000000000167,
          -0.20000000000001705,
          -0.10000000000001741,
          -1.7763568394002505E-14,
          0.09999999999998188,
          0.19999999999998153,
          0.29999999999998117,
          0.3999999999999808,
          0.49999999999998046,
          0.5999999999999801,
          0.6999999999999797,
          0.7999999999999794,
          0.899999999999979,
          0.9999999999999787,
          1.0999999999999783,
          1.199999999999978,
          1.2999999999999776,
          1.3999999999999773,
          1.499999999999977,
          1.5999999999999766,
          1.6999999999999762,
          1.7999999999999758,
          1.8999999999999755,
          1.9999999999999751,
          2.0999999999999748,
          2.1999999999999744,
          2.299999999999974,
          2.3999999999999737,
          2.4999999999999734,
          2.599999999999973,
          2.6999999999999726,
          2.7999999999999723,
          2.899999999999972,
          2.9999999999999716,
          3.0999999999999712,
          3.199999999999971,
          3.2999999999999705,
          3.39999999999997,
          3.49999999999997,
          3.5999999999999694,
          3.699999999999969,
          3.7999999999999687,
          3.8999999999999684,
          3.999999999999968,
          4.099999999999968,
          4.199999999999967,
          4.299999999999967,
          4.399999999999967,
          4.499999999999966,
          4.599999999999966,
          4.6999999999999655,
          4.799999999999965,
          4.899999999999965
         ],
         "xaxis": "x",
         "y": [
          25.0,
          24.010000000000005,
          23.040000000000006,
          22.09000000000001,
          21.160000000000014,
          20.250000000000018,
          19.360000000000017,
          18.49000000000002,
          17.640000000000025,
          16.810000000000027,
          16.00000000000003,
          15.210000000000031,
          14.440000000000033,
          13.690000000000035,
          12.960000000000036,
          12.250000000000037,
          11.560000000000038,
          10.89000000000004,
          10.240000000000041,
          9.610000000000042,
          9.000000000000043,
          8.410000000000043,
          7.840000000000043,
          7.2900000000000444,
          6.760000000000044,
          6.250000000000044,
          5.760000000000044,
          5.2900000000000444,
          4.840000000000043,
          4.410000000000044,
          4.000000000000043,
          3.610000000000042,
          3.240000000000041,
          2.8900000000000396,
          2.5600000000000387,
          2.2500000000000373,
          1.9600000000000357,
          1.6900000000000341,
          1.4400000000000324,
          1.2100000000000304,
          1.0000000000000284,
          0.8100000000000263,
          0.6400000000000239,
          0.49000000000002136,
          0.36000000000001875,
          0.250000000000016,
          0.16000000000001308,
          0.09000000000001002,
          0.04000000000000682,
          0.010000000000003482,
          3.155443620884047E-28,
          0.009999999999996376,
          0.03999999999999261,
          0.0899999999999887,
          0.15999999999998465,
          0.24999999999998046,
          0.3599999999999761,
          0.4899999999999716,
          0.639999999999967,
          0.8099999999999623,
          0.9999999999999574,
          1.2099999999999522,
          1.439999999999947,
          1.6899999999999418,
          1.9599999999999362,
          2.2499999999999307,
          2.559999999999925,
          2.889999999999919,
          3.239999999999913,
          3.609999999999907,
          3.9999999999999005,
          4.4099999999998944,
          4.839999999999887,
          5.289999999999881,
          5.759999999999874,
          6.249999999999867,
          6.7599999999998595,
          7.289999999999853,
          7.839999999999844,
          8.409999999999837,
          8.99999999999983,
          9.609999999999822,
          10.239999999999814,
          10.889999999999805,
          11.559999999999796,
          12.249999999999789,
          12.95999999999978,
          13.689999999999772,
          14.439999999999763,
          15.209999999999754,
          15.999999999999744,
          16.809999999999736,
          17.639999999999727,
          18.489999999999714,
          19.359999999999705,
          20.249999999999698,
          21.159999999999688,
          22.089999999999677,
          23.039999999999665,
          24.009999999999657
         ],
         "yaxis": "y",
         "type": "scatter"
        }
       ],
       "layout": {
        "template": {
         "data": {
          "histogram2dcontour": [
           {
            "type": "histogram2dcontour",
            "colorbar": {
             "outlinewidth": 0,
             "ticks": ""
            },
            "colorscale": [
             [
              0.0,
              "#0d0887"
             ],
             [
              0.1111111111111111,
              "#46039f"
             ],
             [
              0.2222222222222222,
              "#7201a8"
             ],
             [
              0.3333333333333333,
              "#9c179e"
             ],
             [
              0.4444444444444444,
              "#bd3786"
             ],
             [
              0.5555555555555556,
              "#d8576b"
             ],
             [
              0.6666666666666666,
              "#ed7953"
             ],
             [
              0.7777777777777778,
              "#fb9f3a"
             ],
             [
              0.8888888888888888,
              "#fdca26"
             ],
             [
              1.0,
              "#f0f921"
             ]
            ]
           }
          ],
          "choropleth": [
           {
            "type": "choropleth",
            "colorbar": {
             "outlinewidth": 0,
             "ticks": ""
            }
           }
          ],
          "histogram2d": [
           {
            "type": "histogram2d",
            "colorbar": {
             "outlinewidth": 0,
             "ticks": ""
            },
            "colorscale": [
             [
              0.0,
              "#0d0887"
             ],
             [
              0.1111111111111111,
              "#46039f"
             ],
             [
              0.2222222222222222,
              "#7201a8"
             ],
             [
              0.3333333333333333,
              "#9c179e"
             ],
             [
              0.4444444444444444,
              "#bd3786"
             ],
             [
              0.5555555555555556,
              "#d8576b"
             ],
             [
              0.6666666666666666,
              "#ed7953"
             ],
             [
              0.7777777777777778,
              "#fb9f3a"
             ],
             [
              0.8888888888888888,
              "#fdca26"
             ],
             [
              1.0,
              "#f0f921"
             ]
            ]
           }
          ],
          "heatmap": [
           {
            "type": "heatmap",
            "colorbar": {
             "outlinewidth": 0,
             "ticks": ""
            },
            "colorscale": [
             [
              0.0,
              "#0d0887"
             ],
             [
              0.1111111111111111,
              "#46039f"
             ],
             [
              0.2222222222222222,
              "#7201a8"
             ],
             [
              0.3333333333333333,
              "#9c179e"
             ],
             [
              0.4444444444444444,
              "#bd3786"
             ],
             [
              0.5555555555555556,
              "#d8576b"
             ],
             [
              0.6666666666666666,
              "#ed7953"
             ],
             [
              0.7777777777777778,
              "#fb9f3a"
             ],
             [
              0.8888888888888888,
              "#fdca26"
             ],
             [
              1.0,
              "#f0f921"
             ]
            ]
           }
          ],
          "heatmapgl": [
           {
            "type": "heatmapgl",
            "colorbar": {
             "outlinewidth": 0,
             "ticks": ""
            },
            "colorscale": [
             [
              0.0,
              "#0d0887"
             ],
             [
              0.1111111111111111,
              "#46039f"
             ],
             [
              0.2222222222222222,
              "#7201a8"
             ],
             [
              0.3333333333333333,
              "#9c179e"
             ],
             [
              0.4444444444444444,
              "#bd3786"
             ],
             [
              0.5555555555555556,
              "#d8576b"
             ],
             [
              0.6666666666666666,
              "#ed7953"
             ],
             [
              0.7777777777777778,
              "#fb9f3a"
             ],
             [
              0.8888888888888888,
              "#fdca26"
             ],
             [
              1.0,
              "#f0f921"
             ]
            ]
           }
          ],
          "contourcarpet": [
           {
            "type": "contourcarpet",
            "colorbar": {
             "outlinewidth": 0,
             "ticks": ""
            }
           }
          ],
          "contour": [
           {
            "type": "contour",
            "colorbar": {
             "outlinewidth": 0,
             "ticks": ""
            },
            "colorscale": [
             [
              0.0,
              "#0d0887"
             ],
             [
              0.1111111111111111,
              "#46039f"
             ],
             [
              0.2222222222222222,
              "#7201a8"
             ],
             [
              0.3333333333333333,
              "#9c179e"
             ],
             [
              0.4444444444444444,
              "#bd3786"
             ],
             [
              0.5555555555555556,
              "#d8576b"
             ],
             [
              0.6666666666666666,
              "#ed7953"
             ],
             [
              0.7777777777777778,
              "#fb9f3a"
             ],
             [
              0.8888888888888888,
              "#fdca26"
             ],
             [
              1.0,
              "#f0f921"
             ]
            ]
           }
          ],
          "surface": [
           {
            "type": "surface",
            "colorbar": {
             "outlinewidth": 0,
             "ticks": ""
            },
            "colorscale": [
             [
              0.0,
              "#0d0887"
             ],
             [
              0.1111111111111111,
              "#46039f"
             ],
             [
              0.2222222222222222,
              "#7201a8"
             ],
             [
              0.3333333333333333,
              "#9c179e"
             ],
             [
              0.4444444444444444,
              "#bd3786"
             ],
             [
              0.5555555555555556,
              "#d8576b"
             ],
             [
              0.6666666666666666,
              "#ed7953"
             ],
             [
              0.7777777777777778,
              "#fb9f3a"
             ],
             [
              0.8888888888888888,
              "#fdca26"
             ],
             [
              1.0,
              "#f0f921"
             ]
            ]
           }
          ],
          "mesh3d": [
           {
            "type": "mesh3d",
            "colorbar": {
             "outlinewidth": 0,
             "ticks": ""
            }
           }
          ],
          "scatter": [
           {
            "fillpattern": {
             "fillmode": "overlay",
             "size": 10,
             "solidity": 0.2
            },
            "type": "scatter"
           }
          ],
          "parcoords": [
           {
            "type": "parcoords",
            "line": {
             "colorbar": {
              "outlinewidth": 0,
              "ticks": ""
             }
            }
           }
          ],
          "scatterpolargl": [
           {
            "type": "scatterpolargl",
            "marker": {
             "colorbar": {
              "outlinewidth": 0,
              "ticks": ""
             }
            }
           }
          ],
          "bar": [
           {
            "error_x": {
             "color": "#2a3f5f"
            },
            "error_y": {
             "color": "#2a3f5f"
            },
            "marker": {
             "line": {
              "color": "#E5ECF6",
              "width": 0.5
             },
             "pattern": {
              "fillmode": "overlay",
              "size": 10,
              "solidity": 0.2
             }
            },
            "type": "bar"
           }
          ],
          "scattergeo": [
           {
            "type": "scattergeo",
            "marker": {
             "colorbar": {
              "outlinewidth": 0,
              "ticks": ""
             }
            }
           }
          ],
          "scatterpolar": [
           {
            "type": "scatterpolar",
            "marker": {
             "colorbar": {
              "outlinewidth": 0,
              "ticks": ""
             }
            }
           }
          ],
          "histogram": [
           {
            "marker": {
             "pattern": {
              "fillmode": "overlay",
              "size": 10,
              "solidity": 0.2
             }
            },
            "type": "histogram"
           }
          ],
          "scattergl": [
           {
            "type": "scattergl",
            "marker": {
             "colorbar": {
              "outlinewidth": 0,
              "ticks": ""
             }
            }
           }
          ],
          "scatter3d": [
           {
            "type": "scatter3d",
            "line": {
             "colorbar": {
              "outlinewidth": 0,
              "ticks": ""
             }
            },
            "marker": {
             "colorbar": {
              "outlinewidth": 0,
              "ticks": ""
             }
            }
           }
          ],
          "scattermapbox": [
           {
            "type": "scattermapbox",
            "marker": {
             "colorbar": {
              "outlinewidth": 0,
              "ticks": ""
             }
            }
           }
          ],
          "scatterternary": [
           {
            "type": "scatterternary",
            "marker": {
             "colorbar": {
              "outlinewidth": 0,
              "ticks": ""
             }
            }
           }
          ],
          "scattercarpet": [
           {
            "type": "scattercarpet",
            "marker": {
             "colorbar": {
              "outlinewidth": 0,
              "ticks": ""
             }
            }
           }
          ],
          "carpet": [
           {
            "aaxis": {
             "endlinecolor": "#2a3f5f",
             "gridcolor": "white",
             "linecolor": "white",
             "minorgridcolor": "white",
             "startlinecolor": "#2a3f5f"
            },
            "baxis": {
             "endlinecolor": "#2a3f5f",
             "gridcolor": "white",
             "linecolor": "white",
             "minorgridcolor": "white",
             "startlinecolor": "#2a3f5f"
            },
            "type": "carpet"
           }
          ],
          "table": [
           {
            "cells": {
             "fill": {
              "color": "#EBF0F8"
             },
             "line": {
              "color": "white"
             }
            },
            "header": {
             "fill": {
              "color": "#C8D4E3"
             },
             "line": {
              "color": "white"
             }
            },
            "type": "table"
           }
          ],
          "barpolar": [
           {
            "marker": {
             "line": {
              "color": "#E5ECF6",
              "width": 0.5
             },
             "pattern": {
              "fillmode": "overlay",
              "size": 10,
              "solidity": 0.2
             }
            },
            "type": "barpolar"
           }
          ],
          "pie": [
           {
            "automargin": true,
            "type": "pie"
           }
          ]
         },
         "layout": {
          "autotypenumbers": "strict",
          "colorway": [
           "#636efa",
           "#EF553B",
           "#00cc96",
           "#ab63fa",
           "#FFA15A",
           "#19d3f3",
           "#FF6692",
           "#B6E880",
           "#FF97FF",
           "#FECB52"
          ],
          "font": {
           "color": "#2a3f5f"
          },
          "hovermode": "closest",
          "hoverlabel": {
           "align": "left"
          },
          "paper_bgcolor": "white",
          "plot_bgcolor": "#E5ECF6",
          "polar": {
           "bgcolor": "#E5ECF6",
           "angularaxis": {
            "gridcolor": "white",
            "linecolor": "white",
            "ticks": ""
           },
           "radialaxis": {
            "gridcolor": "white",
            "linecolor": "white",
            "ticks": ""
           }
          },
          "ternary": {
           "bgcolor": "#E5ECF6",
           "aaxis": {
            "gridcolor": "white",
            "linecolor": "white",
            "ticks": ""
           },
           "baxis": {
            "gridcolor": "white",
            "linecolor": "white",
            "ticks": ""
           },
           "caxis": {
            "gridcolor": "white",
            "linecolor": "white",
            "ticks": ""
           }
          },
          "coloraxis": {
           "colorbar": {
            "outlinewidth": 0,
            "ticks": ""
           }
          },
          "colorscale": {
           "sequential": [
            [
             0.0,
             "#0d0887"
            ],
            [
             0.1111111111111111,
             "#46039f"
            ],
            [
             0.2222222222222222,
             "#7201a8"
            ],
            [
             0.3333333333333333,
             "#9c179e"
            ],
            [
             0.4444444444444444,
             "#bd3786"
            ],
            [
             0.5555555555555556,
             "#d8576b"
            ],
            [
             0.6666666666666666,
             "#ed7953"
            ],
            [
             0.7777777777777778,
             "#fb9f3a"
            ],
            [
             0.8888888888888888,
             "#fdca26"
            ],
            [
             1.0,
             "#f0f921"
            ]
           ],
           "sequentialminus": [
            [
             0.0,
             "#0d0887"
            ],
            [
             0.1111111111111111,
             "#46039f"
            ],
            [
             0.2222222222222222,
             "#7201a8"
            ],
            [
             0.3333333333333333,
             "#9c179e"
            ],
            [
             0.4444444444444444,
             "#bd3786"
            ],
            [
             0.5555555555555556,
             "#d8576b"
            ],
            [
             0.6666666666666666,
             "#ed7953"
            ],
            [
             0.7777777777777778,
             "#fb9f3a"
            ],
            [
             0.8888888888888888,
             "#fdca26"
            ],
            [
             1.0,
             "#f0f921"
            ]
           ],
           "diverging": [
            [
             0,
             "#8e0152"
            ],
            [
             0.1,
             "#c51b7d"
            ],
            [
             0.2,
             "#de77ae"
            ],
            [
             0.3,
             "#f1b6da"
            ],
            [
             0.4,
             "#fde0ef"
            ],
            [
             0.5,
             "#f7f7f7"
            ],
            [
             0.6,
             "#e6f5d0"
            ],
            [
             0.7,
             "#b8e186"
            ],
            [
             0.8,
             "#7fbc41"
            ],
            [
             0.9,
             "#4d9221"
            ],
            [
             1,
             "#276419"
            ]
           ]
          },
          "xaxis": {
           "gridcolor": "white",
           "linecolor": "white",
           "ticks": "",
           "title": {
            "standoff": 15
           },
           "zerolinecolor": "white",
           "automargin": true,
           "zerolinewidth": 2
          },
          "yaxis": {
           "gridcolor": "white",
           "linecolor": "white",
           "ticks": "",
           "title": {
            "standoff": 15
           },
           "zerolinecolor": "white",
           "automargin": true,
           "zerolinewidth": 2
          },
          "scene": {
           "xaxis": {
            "backgroundcolor": "#E5ECF6",
            "gridcolor": "white",
            "linecolor": "white",
            "showbackground": true,
            "ticks": "",
            "zerolinecolor": "white",
            "gridwidth": 2
           },
           "yaxis": {
            "backgroundcolor": "#E5ECF6",
            "gridcolor": "white",
            "linecolor": "white",
            "showbackground": true,
            "ticks": "",
            "zerolinecolor": "white",
            "gridwidth": 2
           },
           "zaxis": {
            "backgroundcolor": "#E5ECF6",
            "gridcolor": "white",
            "linecolor": "white",
            "showbackground": true,
            "ticks": "",
            "zerolinecolor": "white",
            "gridwidth": 2
           }
          },
          "shapedefaults": {
           "line": {
            "color": "#2a3f5f"
           }
          },
          "annotationdefaults": {
           "arrowcolor": "#2a3f5f",
           "arrowhead": 0,
           "arrowwidth": 1
          },
          "geo": {
           "bgcolor": "white",
           "landcolor": "#E5ECF6",
           "subunitcolor": "white",
           "showland": true,
           "showlakes": true,
           "lakecolor": "white"
          },
          "title": {
           "x": 0.05
          },
          "mapbox": {
           "style": "light"
          }
         }
        },
        "xaxis": {
         "anchor": "y",
         "domain": [
          0.0,
          1.0
         ],
         "title": {
          "text": "x"
         }
        },
        "yaxis": {
         "anchor": "x",
         "domain": [
          0.0,
          1.0
         ],
         "title": {
          "text": "y"
         }
        },
        "legend": {
         "tracegroupgap": 0
        },
        "margin": {
         "t": 60
        }
       },
       "config": {
        "plotlyServerURL": "https://plot.ly"
       }
      },
      "text/html": "<div>                            <div id=\"476076e0-b111-49c0-8138-f9f2ad7b5bef\" class=\"plotly-graph-div\" style=\"height:525px; width:100%;\"></div>            <script type=\"text/javascript\">                require([\"plotly\"], function(Plotly) {                    window.PLOTLYENV=window.PLOTLYENV || {};                                    if (document.getElementById(\"476076e0-b111-49c0-8138-f9f2ad7b5bef\")) {                    Plotly.newPlot(                        \"476076e0-b111-49c0-8138-f9f2ad7b5bef\",                        [{\"hovertemplate\":\"x=%{x}<br>y=%{y}<extra></extra>\",\"legendgroup\":\"\",\"marker\":{\"color\":\"#636efa\",\"symbol\":\"circle\"},\"mode\":\"markers\",\"name\":\"\",\"orientation\":\"v\",\"showlegend\":false,\"x\":[-5.0,-4.9,-4.800000000000001,-4.700000000000001,-4.600000000000001,-4.500000000000002,-4.400000000000002,-4.3000000000000025,-4.200000000000003,-4.100000000000003,-4.0000000000000036,-3.900000000000004,-3.8000000000000043,-3.7000000000000046,-3.600000000000005,-3.5000000000000053,-3.4000000000000057,-3.300000000000006,-3.2000000000000064,-3.1000000000000068,-3.000000000000007,-2.9000000000000075,-2.800000000000008,-2.700000000000008,-2.6000000000000085,-2.500000000000009,-2.4000000000000092,-2.3000000000000096,-2.20000000000001,-2.1000000000000103,-2.0000000000000107,-1.900000000000011,-1.8000000000000114,-1.7000000000000117,-1.600000000000012,-1.5000000000000124,-1.4000000000000128,-1.3000000000000131,-1.2000000000000135,-1.1000000000000139,-1.0000000000000142,-0.9000000000000146,-0.8000000000000149,-0.7000000000000153,-0.6000000000000156,-0.500000000000016,-0.40000000000001634,-0.3000000000000167,-0.20000000000001705,-0.10000000000001741,-1.7763568394002505e-14,0.09999999999998188,0.19999999999998153,0.29999999999998117,0.3999999999999808,0.49999999999998046,0.5999999999999801,0.6999999999999797,0.7999999999999794,0.899999999999979,0.9999999999999787,1.0999999999999783,1.199999999999978,1.2999999999999776,1.3999999999999773,1.499999999999977,1.5999999999999766,1.6999999999999762,1.7999999999999758,1.8999999999999755,1.9999999999999751,2.0999999999999748,2.1999999999999744,2.299999999999974,2.3999999999999737,2.4999999999999734,2.599999999999973,2.6999999999999726,2.7999999999999723,2.899999999999972,2.9999999999999716,3.0999999999999712,3.199999999999971,3.2999999999999705,3.39999999999997,3.49999999999997,3.5999999999999694,3.699999999999969,3.7999999999999687,3.8999999999999684,3.999999999999968,4.099999999999968,4.199999999999967,4.299999999999967,4.399999999999967,4.499999999999966,4.599999999999966,4.6999999999999655,4.799999999999965,4.899999999999965],\"xaxis\":\"x\",\"y\":[25.0,24.010000000000005,23.040000000000006,22.09000000000001,21.160000000000014,20.250000000000018,19.360000000000017,18.49000000000002,17.640000000000025,16.810000000000027,16.00000000000003,15.210000000000031,14.440000000000033,13.690000000000035,12.960000000000036,12.250000000000037,11.560000000000038,10.89000000000004,10.240000000000041,9.610000000000042,9.000000000000043,8.410000000000043,7.840000000000043,7.2900000000000444,6.760000000000044,6.250000000000044,5.760000000000044,5.2900000000000444,4.840000000000043,4.410000000000044,4.000000000000043,3.610000000000042,3.240000000000041,2.8900000000000396,2.5600000000000387,2.2500000000000373,1.9600000000000357,1.6900000000000341,1.4400000000000324,1.2100000000000304,1.0000000000000284,0.8100000000000263,0.6400000000000239,0.49000000000002136,0.36000000000001875,0.250000000000016,0.16000000000001308,0.09000000000001002,0.04000000000000682,0.010000000000003482,3.155443620884047e-28,0.009999999999996376,0.03999999999999261,0.0899999999999887,0.15999999999998465,0.24999999999998046,0.3599999999999761,0.4899999999999716,0.639999999999967,0.8099999999999623,0.9999999999999574,1.2099999999999522,1.439999999999947,1.6899999999999418,1.9599999999999362,2.2499999999999307,2.559999999999925,2.889999999999919,3.239999999999913,3.609999999999907,3.9999999999999005,4.4099999999998944,4.839999999999887,5.289999999999881,5.759999999999874,6.249999999999867,6.7599999999998595,7.289999999999853,7.839999999999844,8.409999999999837,8.99999999999983,9.609999999999822,10.239999999999814,10.889999999999805,11.559999999999796,12.249999999999789,12.95999999999978,13.689999999999772,14.439999999999763,15.209999999999754,15.999999999999744,16.809999999999736,17.639999999999727,18.489999999999714,19.359999999999705,20.249999999999698,21.159999999999688,22.089999999999677,23.039999999999665,24.009999999999657],\"yaxis\":\"y\",\"type\":\"scatter\"}],                        {\"template\":{\"data\":{\"histogram2dcontour\":[{\"type\":\"histogram2dcontour\",\"colorbar\":{\"outlinewidth\":0,\"ticks\":\"\"},\"colorscale\":[[0.0,\"#0d0887\"],[0.1111111111111111,\"#46039f\"],[0.2222222222222222,\"#7201a8\"],[0.3333333333333333,\"#9c179e\"],[0.4444444444444444,\"#bd3786\"],[0.5555555555555556,\"#d8576b\"],[0.6666666666666666,\"#ed7953\"],[0.7777777777777778,\"#fb9f3a\"],[0.8888888888888888,\"#fdca26\"],[1.0,\"#f0f921\"]]}],\"choropleth\":[{\"type\":\"choropleth\",\"colorbar\":{\"outlinewidth\":0,\"ticks\":\"\"}}],\"histogram2d\":[{\"type\":\"histogram2d\",\"colorbar\":{\"outlinewidth\":0,\"ticks\":\"\"},\"colorscale\":[[0.0,\"#0d0887\"],[0.1111111111111111,\"#46039f\"],[0.2222222222222222,\"#7201a8\"],[0.3333333333333333,\"#9c179e\"],[0.4444444444444444,\"#bd3786\"],[0.5555555555555556,\"#d8576b\"],[0.6666666666666666,\"#ed7953\"],[0.7777777777777778,\"#fb9f3a\"],[0.8888888888888888,\"#fdca26\"],[1.0,\"#f0f921\"]]}],\"heatmap\":[{\"type\":\"heatmap\",\"colorbar\":{\"outlinewidth\":0,\"ticks\":\"\"},\"colorscale\":[[0.0,\"#0d0887\"],[0.1111111111111111,\"#46039f\"],[0.2222222222222222,\"#7201a8\"],[0.3333333333333333,\"#9c179e\"],[0.4444444444444444,\"#bd3786\"],[0.5555555555555556,\"#d8576b\"],[0.6666666666666666,\"#ed7953\"],[0.7777777777777778,\"#fb9f3a\"],[0.8888888888888888,\"#fdca26\"],[1.0,\"#f0f921\"]]}],\"heatmapgl\":[{\"type\":\"heatmapgl\",\"colorbar\":{\"outlinewidth\":0,\"ticks\":\"\"},\"colorscale\":[[0.0,\"#0d0887\"],[0.1111111111111111,\"#46039f\"],[0.2222222222222222,\"#7201a8\"],[0.3333333333333333,\"#9c179e\"],[0.4444444444444444,\"#bd3786\"],[0.5555555555555556,\"#d8576b\"],[0.6666666666666666,\"#ed7953\"],[0.7777777777777778,\"#fb9f3a\"],[0.8888888888888888,\"#fdca26\"],[1.0,\"#f0f921\"]]}],\"contourcarpet\":[{\"type\":\"contourcarpet\",\"colorbar\":{\"outlinewidth\":0,\"ticks\":\"\"}}],\"contour\":[{\"type\":\"contour\",\"colorbar\":{\"outlinewidth\":0,\"ticks\":\"\"},\"colorscale\":[[0.0,\"#0d0887\"],[0.1111111111111111,\"#46039f\"],[0.2222222222222222,\"#7201a8\"],[0.3333333333333333,\"#9c179e\"],[0.4444444444444444,\"#bd3786\"],[0.5555555555555556,\"#d8576b\"],[0.6666666666666666,\"#ed7953\"],[0.7777777777777778,\"#fb9f3a\"],[0.8888888888888888,\"#fdca26\"],[1.0,\"#f0f921\"]]}],\"surface\":[{\"type\":\"surface\",\"colorbar\":{\"outlinewidth\":0,\"ticks\":\"\"},\"colorscale\":[[0.0,\"#0d0887\"],[0.1111111111111111,\"#46039f\"],[0.2222222222222222,\"#7201a8\"],[0.3333333333333333,\"#9c179e\"],[0.4444444444444444,\"#bd3786\"],[0.5555555555555556,\"#d8576b\"],[0.6666666666666666,\"#ed7953\"],[0.7777777777777778,\"#fb9f3a\"],[0.8888888888888888,\"#fdca26\"],[1.0,\"#f0f921\"]]}],\"mesh3d\":[{\"type\":\"mesh3d\",\"colorbar\":{\"outlinewidth\":0,\"ticks\":\"\"}}],\"scatter\":[{\"fillpattern\":{\"fillmode\":\"overlay\",\"size\":10,\"solidity\":0.2},\"type\":\"scatter\"}],\"parcoords\":[{\"type\":\"parcoords\",\"line\":{\"colorbar\":{\"outlinewidth\":0,\"ticks\":\"\"}}}],\"scatterpolargl\":[{\"type\":\"scatterpolargl\",\"marker\":{\"colorbar\":{\"outlinewidth\":0,\"ticks\":\"\"}}}],\"bar\":[{\"error_x\":{\"color\":\"#2a3f5f\"},\"error_y\":{\"color\":\"#2a3f5f\"},\"marker\":{\"line\":{\"color\":\"#E5ECF6\",\"width\":0.5},\"pattern\":{\"fillmode\":\"overlay\",\"size\":10,\"solidity\":0.2}},\"type\":\"bar\"}],\"scattergeo\":[{\"type\":\"scattergeo\",\"marker\":{\"colorbar\":{\"outlinewidth\":0,\"ticks\":\"\"}}}],\"scatterpolar\":[{\"type\":\"scatterpolar\",\"marker\":{\"colorbar\":{\"outlinewidth\":0,\"ticks\":\"\"}}}],\"histogram\":[{\"marker\":{\"pattern\":{\"fillmode\":\"overlay\",\"size\":10,\"solidity\":0.2}},\"type\":\"histogram\"}],\"scattergl\":[{\"type\":\"scattergl\",\"marker\":{\"colorbar\":{\"outlinewidth\":0,\"ticks\":\"\"}}}],\"scatter3d\":[{\"type\":\"scatter3d\",\"line\":{\"colorbar\":{\"outlinewidth\":0,\"ticks\":\"\"}},\"marker\":{\"colorbar\":{\"outlinewidth\":0,\"ticks\":\"\"}}}],\"scattermapbox\":[{\"type\":\"scattermapbox\",\"marker\":{\"colorbar\":{\"outlinewidth\":0,\"ticks\":\"\"}}}],\"scatterternary\":[{\"type\":\"scatterternary\",\"marker\":{\"colorbar\":{\"outlinewidth\":0,\"ticks\":\"\"}}}],\"scattercarpet\":[{\"type\":\"scattercarpet\",\"marker\":{\"colorbar\":{\"outlinewidth\":0,\"ticks\":\"\"}}}],\"carpet\":[{\"aaxis\":{\"endlinecolor\":\"#2a3f5f\",\"gridcolor\":\"white\",\"linecolor\":\"white\",\"minorgridcolor\":\"white\",\"startlinecolor\":\"#2a3f5f\"},\"baxis\":{\"endlinecolor\":\"#2a3f5f\",\"gridcolor\":\"white\",\"linecolor\":\"white\",\"minorgridcolor\":\"white\",\"startlinecolor\":\"#2a3f5f\"},\"type\":\"carpet\"}],\"table\":[{\"cells\":{\"fill\":{\"color\":\"#EBF0F8\"},\"line\":{\"color\":\"white\"}},\"header\":{\"fill\":{\"color\":\"#C8D4E3\"},\"line\":{\"color\":\"white\"}},\"type\":\"table\"}],\"barpolar\":[{\"marker\":{\"line\":{\"color\":\"#E5ECF6\",\"width\":0.5},\"pattern\":{\"fillmode\":\"overlay\",\"size\":10,\"solidity\":0.2}},\"type\":\"barpolar\"}],\"pie\":[{\"automargin\":true,\"type\":\"pie\"}]},\"layout\":{\"autotypenumbers\":\"strict\",\"colorway\":[\"#636efa\",\"#EF553B\",\"#00cc96\",\"#ab63fa\",\"#FFA15A\",\"#19d3f3\",\"#FF6692\",\"#B6E880\",\"#FF97FF\",\"#FECB52\"],\"font\":{\"color\":\"#2a3f5f\"},\"hovermode\":\"closest\",\"hoverlabel\":{\"align\":\"left\"},\"paper_bgcolor\":\"white\",\"plot_bgcolor\":\"#E5ECF6\",\"polar\":{\"bgcolor\":\"#E5ECF6\",\"angularaxis\":{\"gridcolor\":\"white\",\"linecolor\":\"white\",\"ticks\":\"\"},\"radialaxis\":{\"gridcolor\":\"white\",\"linecolor\":\"white\",\"ticks\":\"\"}},\"ternary\":{\"bgcolor\":\"#E5ECF6\",\"aaxis\":{\"gridcolor\":\"white\",\"linecolor\":\"white\",\"ticks\":\"\"},\"baxis\":{\"gridcolor\":\"white\",\"linecolor\":\"white\",\"ticks\":\"\"},\"caxis\":{\"gridcolor\":\"white\",\"linecolor\":\"white\",\"ticks\":\"\"}},\"coloraxis\":{\"colorbar\":{\"outlinewidth\":0,\"ticks\":\"\"}},\"colorscale\":{\"sequential\":[[0.0,\"#0d0887\"],[0.1111111111111111,\"#46039f\"],[0.2222222222222222,\"#7201a8\"],[0.3333333333333333,\"#9c179e\"],[0.4444444444444444,\"#bd3786\"],[0.5555555555555556,\"#d8576b\"],[0.6666666666666666,\"#ed7953\"],[0.7777777777777778,\"#fb9f3a\"],[0.8888888888888888,\"#fdca26\"],[1.0,\"#f0f921\"]],\"sequentialminus\":[[0.0,\"#0d0887\"],[0.1111111111111111,\"#46039f\"],[0.2222222222222222,\"#7201a8\"],[0.3333333333333333,\"#9c179e\"],[0.4444444444444444,\"#bd3786\"],[0.5555555555555556,\"#d8576b\"],[0.6666666666666666,\"#ed7953\"],[0.7777777777777778,\"#fb9f3a\"],[0.8888888888888888,\"#fdca26\"],[1.0,\"#f0f921\"]],\"diverging\":[[0,\"#8e0152\"],[0.1,\"#c51b7d\"],[0.2,\"#de77ae\"],[0.3,\"#f1b6da\"],[0.4,\"#fde0ef\"],[0.5,\"#f7f7f7\"],[0.6,\"#e6f5d0\"],[0.7,\"#b8e186\"],[0.8,\"#7fbc41\"],[0.9,\"#4d9221\"],[1,\"#276419\"]]},\"xaxis\":{\"gridcolor\":\"white\",\"linecolor\":\"white\",\"ticks\":\"\",\"title\":{\"standoff\":15},\"zerolinecolor\":\"white\",\"automargin\":true,\"zerolinewidth\":2},\"yaxis\":{\"gridcolor\":\"white\",\"linecolor\":\"white\",\"ticks\":\"\",\"title\":{\"standoff\":15},\"zerolinecolor\":\"white\",\"automargin\":true,\"zerolinewidth\":2},\"scene\":{\"xaxis\":{\"backgroundcolor\":\"#E5ECF6\",\"gridcolor\":\"white\",\"linecolor\":\"white\",\"showbackground\":true,\"ticks\":\"\",\"zerolinecolor\":\"white\",\"gridwidth\":2},\"yaxis\":{\"backgroundcolor\":\"#E5ECF6\",\"gridcolor\":\"white\",\"linecolor\":\"white\",\"showbackground\":true,\"ticks\":\"\",\"zerolinecolor\":\"white\",\"gridwidth\":2},\"zaxis\":{\"backgroundcolor\":\"#E5ECF6\",\"gridcolor\":\"white\",\"linecolor\":\"white\",\"showbackground\":true,\"ticks\":\"\",\"zerolinecolor\":\"white\",\"gridwidth\":2}},\"shapedefaults\":{\"line\":{\"color\":\"#2a3f5f\"}},\"annotationdefaults\":{\"arrowcolor\":\"#2a3f5f\",\"arrowhead\":0,\"arrowwidth\":1},\"geo\":{\"bgcolor\":\"white\",\"landcolor\":\"#E5ECF6\",\"subunitcolor\":\"white\",\"showland\":true,\"showlakes\":true,\"lakecolor\":\"white\"},\"title\":{\"x\":0.05},\"mapbox\":{\"style\":\"light\"}}},\"xaxis\":{\"anchor\":\"y\",\"domain\":[0.0,1.0],\"title\":{\"text\":\"x\"}},\"yaxis\":{\"anchor\":\"x\",\"domain\":[0.0,1.0],\"title\":{\"text\":\"y\"}},\"legend\":{\"tracegroupgap\":0},\"margin\":{\"t\":60}},                        {\"responsive\": true}                    ).then(function(){\n                            \nvar gd = document.getElementById('476076e0-b111-49c0-8138-f9f2ad7b5bef');\nvar x = new MutationObserver(function (mutations, observer) {{\n        var display = window.getComputedStyle(gd).display;\n        if (!display || display === 'none') {{\n            console.log([gd, 'removed!']);\n            Plotly.purge(gd);\n            observer.disconnect();\n        }}\n}});\n\n// Listen for the removal of the full notebook cells\nvar notebookContainer = gd.closest('#notebook-container');\nif (notebookContainer) {{\n    x.observe(notebookContainer, {childList: true});\n}}\n\n// Listen for the clearing of the current output cell\nvar outputEl = gd.closest('.output');\nif (outputEl) {{\n    x.observe(outputEl, {childList: true});\n}}\n\n                        })                };                });            </script>        </div>"
     },
     "metadata": {},
     "output_type": "display_data"
    }
   ],
   "source": [
    "x = np.arange(-5, 5, 0.1)\n",
    "def f(x):\n",
    "    return x**2\n",
    "\n",
    "fig = px.scatter(x=x, y=f(x))\n",
    "fig.show()"
   ]
  },
  {
   "cell_type": "markdown",
   "id": "45a188a8",
   "metadata": {},
   "source": [
    "## Простой график"
   ]
  },
  {
   "cell_type": "code",
   "execution_count": 215,
   "id": "bd9501b3",
   "metadata": {},
   "outputs": [
    {
     "data": {
      "application/vnd.plotly.v1+json": {
       "data": [
        {
         "x": [
          -5.0,
          -4.9,
          -4.800000000000001,
          -4.700000000000001,
          -4.600000000000001,
          -4.500000000000002,
          -4.400000000000002,
          -4.3000000000000025,
          -4.200000000000003,
          -4.100000000000003,
          -4.0000000000000036,
          -3.900000000000004,
          -3.8000000000000043,
          -3.7000000000000046,
          -3.600000000000005,
          -3.5000000000000053,
          -3.4000000000000057,
          -3.300000000000006,
          -3.2000000000000064,
          -3.1000000000000068,
          -3.000000000000007,
          -2.9000000000000075,
          -2.800000000000008,
          -2.700000000000008,
          -2.6000000000000085,
          -2.500000000000009,
          -2.4000000000000092,
          -2.3000000000000096,
          -2.20000000000001,
          -2.1000000000000103,
          -2.0000000000000107,
          -1.900000000000011,
          -1.8000000000000114,
          -1.7000000000000117,
          -1.600000000000012,
          -1.5000000000000124,
          -1.4000000000000128,
          -1.3000000000000131,
          -1.2000000000000135,
          -1.1000000000000139,
          -1.0000000000000142,
          -0.9000000000000146,
          -0.8000000000000149,
          -0.7000000000000153,
          -0.6000000000000156,
          -0.500000000000016,
          -0.40000000000001634,
          -0.3000000000000167,
          -0.20000000000001705,
          -0.10000000000001741,
          -1.7763568394002505E-14,
          0.09999999999998188,
          0.19999999999998153,
          0.29999999999998117,
          0.3999999999999808,
          0.49999999999998046,
          0.5999999999999801,
          0.6999999999999797,
          0.7999999999999794,
          0.899999999999979,
          0.9999999999999787,
          1.0999999999999783,
          1.199999999999978,
          1.2999999999999776,
          1.3999999999999773,
          1.499999999999977,
          1.5999999999999766,
          1.6999999999999762,
          1.7999999999999758,
          1.8999999999999755,
          1.9999999999999751,
          2.0999999999999748,
          2.1999999999999744,
          2.299999999999974,
          2.3999999999999737,
          2.4999999999999734,
          2.599999999999973,
          2.6999999999999726,
          2.7999999999999723,
          2.899999999999972,
          2.9999999999999716,
          3.0999999999999712,
          3.199999999999971,
          3.2999999999999705,
          3.39999999999997,
          3.49999999999997,
          3.5999999999999694,
          3.699999999999969,
          3.7999999999999687,
          3.8999999999999684,
          3.999999999999968,
          4.099999999999968,
          4.199999999999967,
          4.299999999999967,
          4.399999999999967,
          4.499999999999966,
          4.599999999999966,
          4.6999999999999655,
          4.799999999999965,
          4.899999999999965
         ],
         "y": [
          25.0,
          24.010000000000005,
          23.040000000000006,
          22.09000000000001,
          21.160000000000014,
          20.250000000000018,
          19.360000000000017,
          18.49000000000002,
          17.640000000000025,
          16.810000000000027,
          16.00000000000003,
          15.210000000000031,
          14.440000000000033,
          13.690000000000035,
          12.960000000000036,
          12.250000000000037,
          11.560000000000038,
          10.89000000000004,
          10.240000000000041,
          9.610000000000042,
          9.000000000000043,
          8.410000000000043,
          7.840000000000043,
          7.2900000000000444,
          6.760000000000044,
          6.250000000000044,
          5.760000000000044,
          5.2900000000000444,
          4.840000000000043,
          4.410000000000044,
          4.000000000000043,
          3.610000000000042,
          3.240000000000041,
          2.8900000000000396,
          2.5600000000000387,
          2.2500000000000373,
          1.9600000000000357,
          1.6900000000000341,
          1.4400000000000324,
          1.2100000000000304,
          1.0000000000000284,
          0.8100000000000263,
          0.6400000000000239,
          0.49000000000002136,
          0.36000000000001875,
          0.250000000000016,
          0.16000000000001308,
          0.09000000000001002,
          0.04000000000000682,
          0.010000000000003482,
          3.155443620884047E-28,
          0.009999999999996376,
          0.03999999999999261,
          0.0899999999999887,
          0.15999999999998465,
          0.24999999999998046,
          0.3599999999999761,
          0.4899999999999716,
          0.639999999999967,
          0.8099999999999623,
          0.9999999999999574,
          1.2099999999999522,
          1.439999999999947,
          1.6899999999999418,
          1.9599999999999362,
          2.2499999999999307,
          2.559999999999925,
          2.889999999999919,
          3.239999999999913,
          3.609999999999907,
          3.9999999999999005,
          4.4099999999998944,
          4.839999999999887,
          5.289999999999881,
          5.759999999999874,
          6.249999999999867,
          6.7599999999998595,
          7.289999999999853,
          7.839999999999844,
          8.409999999999837,
          8.99999999999983,
          9.609999999999822,
          10.239999999999814,
          10.889999999999805,
          11.559999999999796,
          12.249999999999789,
          12.95999999999978,
          13.689999999999772,
          14.439999999999763,
          15.209999999999754,
          15.999999999999744,
          16.809999999999736,
          17.639999999999727,
          18.489999999999714,
          19.359999999999705,
          20.249999999999698,
          21.159999999999688,
          22.089999999999677,
          23.039999999999665,
          24.009999999999657
         ],
         "type": "scatter"
        }
       ],
       "layout": {
        "template": {
         "data": {
          "histogram2dcontour": [
           {
            "type": "histogram2dcontour",
            "colorbar": {
             "outlinewidth": 0,
             "ticks": ""
            },
            "colorscale": [
             [
              0.0,
              "#0d0887"
             ],
             [
              0.1111111111111111,
              "#46039f"
             ],
             [
              0.2222222222222222,
              "#7201a8"
             ],
             [
              0.3333333333333333,
              "#9c179e"
             ],
             [
              0.4444444444444444,
              "#bd3786"
             ],
             [
              0.5555555555555556,
              "#d8576b"
             ],
             [
              0.6666666666666666,
              "#ed7953"
             ],
             [
              0.7777777777777778,
              "#fb9f3a"
             ],
             [
              0.8888888888888888,
              "#fdca26"
             ],
             [
              1.0,
              "#f0f921"
             ]
            ]
           }
          ],
          "choropleth": [
           {
            "type": "choropleth",
            "colorbar": {
             "outlinewidth": 0,
             "ticks": ""
            }
           }
          ],
          "histogram2d": [
           {
            "type": "histogram2d",
            "colorbar": {
             "outlinewidth": 0,
             "ticks": ""
            },
            "colorscale": [
             [
              0.0,
              "#0d0887"
             ],
             [
              0.1111111111111111,
              "#46039f"
             ],
             [
              0.2222222222222222,
              "#7201a8"
             ],
             [
              0.3333333333333333,
              "#9c179e"
             ],
             [
              0.4444444444444444,
              "#bd3786"
             ],
             [
              0.5555555555555556,
              "#d8576b"
             ],
             [
              0.6666666666666666,
              "#ed7953"
             ],
             [
              0.7777777777777778,
              "#fb9f3a"
             ],
             [
              0.8888888888888888,
              "#fdca26"
             ],
             [
              1.0,
              "#f0f921"
             ]
            ]
           }
          ],
          "heatmap": [
           {
            "type": "heatmap",
            "colorbar": {
             "outlinewidth": 0,
             "ticks": ""
            },
            "colorscale": [
             [
              0.0,
              "#0d0887"
             ],
             [
              0.1111111111111111,
              "#46039f"
             ],
             [
              0.2222222222222222,
              "#7201a8"
             ],
             [
              0.3333333333333333,
              "#9c179e"
             ],
             [
              0.4444444444444444,
              "#bd3786"
             ],
             [
              0.5555555555555556,
              "#d8576b"
             ],
             [
              0.6666666666666666,
              "#ed7953"
             ],
             [
              0.7777777777777778,
              "#fb9f3a"
             ],
             [
              0.8888888888888888,
              "#fdca26"
             ],
             [
              1.0,
              "#f0f921"
             ]
            ]
           }
          ],
          "heatmapgl": [
           {
            "type": "heatmapgl",
            "colorbar": {
             "outlinewidth": 0,
             "ticks": ""
            },
            "colorscale": [
             [
              0.0,
              "#0d0887"
             ],
             [
              0.1111111111111111,
              "#46039f"
             ],
             [
              0.2222222222222222,
              "#7201a8"
             ],
             [
              0.3333333333333333,
              "#9c179e"
             ],
             [
              0.4444444444444444,
              "#bd3786"
             ],
             [
              0.5555555555555556,
              "#d8576b"
             ],
             [
              0.6666666666666666,
              "#ed7953"
             ],
             [
              0.7777777777777778,
              "#fb9f3a"
             ],
             [
              0.8888888888888888,
              "#fdca26"
             ],
             [
              1.0,
              "#f0f921"
             ]
            ]
           }
          ],
          "contourcarpet": [
           {
            "type": "contourcarpet",
            "colorbar": {
             "outlinewidth": 0,
             "ticks": ""
            }
           }
          ],
          "contour": [
           {
            "type": "contour",
            "colorbar": {
             "outlinewidth": 0,
             "ticks": ""
            },
            "colorscale": [
             [
              0.0,
              "#0d0887"
             ],
             [
              0.1111111111111111,
              "#46039f"
             ],
             [
              0.2222222222222222,
              "#7201a8"
             ],
             [
              0.3333333333333333,
              "#9c179e"
             ],
             [
              0.4444444444444444,
              "#bd3786"
             ],
             [
              0.5555555555555556,
              "#d8576b"
             ],
             [
              0.6666666666666666,
              "#ed7953"
             ],
             [
              0.7777777777777778,
              "#fb9f3a"
             ],
             [
              0.8888888888888888,
              "#fdca26"
             ],
             [
              1.0,
              "#f0f921"
             ]
            ]
           }
          ],
          "surface": [
           {
            "type": "surface",
            "colorbar": {
             "outlinewidth": 0,
             "ticks": ""
            },
            "colorscale": [
             [
              0.0,
              "#0d0887"
             ],
             [
              0.1111111111111111,
              "#46039f"
             ],
             [
              0.2222222222222222,
              "#7201a8"
             ],
             [
              0.3333333333333333,
              "#9c179e"
             ],
             [
              0.4444444444444444,
              "#bd3786"
             ],
             [
              0.5555555555555556,
              "#d8576b"
             ],
             [
              0.6666666666666666,
              "#ed7953"
             ],
             [
              0.7777777777777778,
              "#fb9f3a"
             ],
             [
              0.8888888888888888,
              "#fdca26"
             ],
             [
              1.0,
              "#f0f921"
             ]
            ]
           }
          ],
          "mesh3d": [
           {
            "type": "mesh3d",
            "colorbar": {
             "outlinewidth": 0,
             "ticks": ""
            }
           }
          ],
          "scatter": [
           {
            "fillpattern": {
             "fillmode": "overlay",
             "size": 10,
             "solidity": 0.2
            },
            "type": "scatter"
           }
          ],
          "parcoords": [
           {
            "type": "parcoords",
            "line": {
             "colorbar": {
              "outlinewidth": 0,
              "ticks": ""
             }
            }
           }
          ],
          "scatterpolargl": [
           {
            "type": "scatterpolargl",
            "marker": {
             "colorbar": {
              "outlinewidth": 0,
              "ticks": ""
             }
            }
           }
          ],
          "bar": [
           {
            "error_x": {
             "color": "#2a3f5f"
            },
            "error_y": {
             "color": "#2a3f5f"
            },
            "marker": {
             "line": {
              "color": "#E5ECF6",
              "width": 0.5
             },
             "pattern": {
              "fillmode": "overlay",
              "size": 10,
              "solidity": 0.2
             }
            },
            "type": "bar"
           }
          ],
          "scattergeo": [
           {
            "type": "scattergeo",
            "marker": {
             "colorbar": {
              "outlinewidth": 0,
              "ticks": ""
             }
            }
           }
          ],
          "scatterpolar": [
           {
            "type": "scatterpolar",
            "marker": {
             "colorbar": {
              "outlinewidth": 0,
              "ticks": ""
             }
            }
           }
          ],
          "histogram": [
           {
            "marker": {
             "pattern": {
              "fillmode": "overlay",
              "size": 10,
              "solidity": 0.2
             }
            },
            "type": "histogram"
           }
          ],
          "scattergl": [
           {
            "type": "scattergl",
            "marker": {
             "colorbar": {
              "outlinewidth": 0,
              "ticks": ""
             }
            }
           }
          ],
          "scatter3d": [
           {
            "type": "scatter3d",
            "line": {
             "colorbar": {
              "outlinewidth": 0,
              "ticks": ""
             }
            },
            "marker": {
             "colorbar": {
              "outlinewidth": 0,
              "ticks": ""
             }
            }
           }
          ],
          "scattermapbox": [
           {
            "type": "scattermapbox",
            "marker": {
             "colorbar": {
              "outlinewidth": 0,
              "ticks": ""
             }
            }
           }
          ],
          "scatterternary": [
           {
            "type": "scatterternary",
            "marker": {
             "colorbar": {
              "outlinewidth": 0,
              "ticks": ""
             }
            }
           }
          ],
          "scattercarpet": [
           {
            "type": "scattercarpet",
            "marker": {
             "colorbar": {
              "outlinewidth": 0,
              "ticks": ""
             }
            }
           }
          ],
          "carpet": [
           {
            "aaxis": {
             "endlinecolor": "#2a3f5f",
             "gridcolor": "white",
             "linecolor": "white",
             "minorgridcolor": "white",
             "startlinecolor": "#2a3f5f"
            },
            "baxis": {
             "endlinecolor": "#2a3f5f",
             "gridcolor": "white",
             "linecolor": "white",
             "minorgridcolor": "white",
             "startlinecolor": "#2a3f5f"
            },
            "type": "carpet"
           }
          ],
          "table": [
           {
            "cells": {
             "fill": {
              "color": "#EBF0F8"
             },
             "line": {
              "color": "white"
             }
            },
            "header": {
             "fill": {
              "color": "#C8D4E3"
             },
             "line": {
              "color": "white"
             }
            },
            "type": "table"
           }
          ],
          "barpolar": [
           {
            "marker": {
             "line": {
              "color": "#E5ECF6",
              "width": 0.5
             },
             "pattern": {
              "fillmode": "overlay",
              "size": 10,
              "solidity": 0.2
             }
            },
            "type": "barpolar"
           }
          ],
          "pie": [
           {
            "automargin": true,
            "type": "pie"
           }
          ]
         },
         "layout": {
          "autotypenumbers": "strict",
          "colorway": [
           "#636efa",
           "#EF553B",
           "#00cc96",
           "#ab63fa",
           "#FFA15A",
           "#19d3f3",
           "#FF6692",
           "#B6E880",
           "#FF97FF",
           "#FECB52"
          ],
          "font": {
           "color": "#2a3f5f"
          },
          "hovermode": "closest",
          "hoverlabel": {
           "align": "left"
          },
          "paper_bgcolor": "white",
          "plot_bgcolor": "#E5ECF6",
          "polar": {
           "bgcolor": "#E5ECF6",
           "angularaxis": {
            "gridcolor": "white",
            "linecolor": "white",
            "ticks": ""
           },
           "radialaxis": {
            "gridcolor": "white",
            "linecolor": "white",
            "ticks": ""
           }
          },
          "ternary": {
           "bgcolor": "#E5ECF6",
           "aaxis": {
            "gridcolor": "white",
            "linecolor": "white",
            "ticks": ""
           },
           "baxis": {
            "gridcolor": "white",
            "linecolor": "white",
            "ticks": ""
           },
           "caxis": {
            "gridcolor": "white",
            "linecolor": "white",
            "ticks": ""
           }
          },
          "coloraxis": {
           "colorbar": {
            "outlinewidth": 0,
            "ticks": ""
           }
          },
          "colorscale": {
           "sequential": [
            [
             0.0,
             "#0d0887"
            ],
            [
             0.1111111111111111,
             "#46039f"
            ],
            [
             0.2222222222222222,
             "#7201a8"
            ],
            [
             0.3333333333333333,
             "#9c179e"
            ],
            [
             0.4444444444444444,
             "#bd3786"
            ],
            [
             0.5555555555555556,
             "#d8576b"
            ],
            [
             0.6666666666666666,
             "#ed7953"
            ],
            [
             0.7777777777777778,
             "#fb9f3a"
            ],
            [
             0.8888888888888888,
             "#fdca26"
            ],
            [
             1.0,
             "#f0f921"
            ]
           ],
           "sequentialminus": [
            [
             0.0,
             "#0d0887"
            ],
            [
             0.1111111111111111,
             "#46039f"
            ],
            [
             0.2222222222222222,
             "#7201a8"
            ],
            [
             0.3333333333333333,
             "#9c179e"
            ],
            [
             0.4444444444444444,
             "#bd3786"
            ],
            [
             0.5555555555555556,
             "#d8576b"
            ],
            [
             0.6666666666666666,
             "#ed7953"
            ],
            [
             0.7777777777777778,
             "#fb9f3a"
            ],
            [
             0.8888888888888888,
             "#fdca26"
            ],
            [
             1.0,
             "#f0f921"
            ]
           ],
           "diverging": [
            [
             0,
             "#8e0152"
            ],
            [
             0.1,
             "#c51b7d"
            ],
            [
             0.2,
             "#de77ae"
            ],
            [
             0.3,
             "#f1b6da"
            ],
            [
             0.4,
             "#fde0ef"
            ],
            [
             0.5,
             "#f7f7f7"
            ],
            [
             0.6,
             "#e6f5d0"
            ],
            [
             0.7,
             "#b8e186"
            ],
            [
             0.8,
             "#7fbc41"
            ],
            [
             0.9,
             "#4d9221"
            ],
            [
             1,
             "#276419"
            ]
           ]
          },
          "xaxis": {
           "gridcolor": "white",
           "linecolor": "white",
           "ticks": "",
           "title": {
            "standoff": 15
           },
           "zerolinecolor": "white",
           "automargin": true,
           "zerolinewidth": 2
          },
          "yaxis": {
           "gridcolor": "white",
           "linecolor": "white",
           "ticks": "",
           "title": {
            "standoff": 15
           },
           "zerolinecolor": "white",
           "automargin": true,
           "zerolinewidth": 2
          },
          "scene": {
           "xaxis": {
            "backgroundcolor": "#E5ECF6",
            "gridcolor": "white",
            "linecolor": "white",
            "showbackground": true,
            "ticks": "",
            "zerolinecolor": "white",
            "gridwidth": 2
           },
           "yaxis": {
            "backgroundcolor": "#E5ECF6",
            "gridcolor": "white",
            "linecolor": "white",
            "showbackground": true,
            "ticks": "",
            "zerolinecolor": "white",
            "gridwidth": 2
           },
           "zaxis": {
            "backgroundcolor": "#E5ECF6",
            "gridcolor": "white",
            "linecolor": "white",
            "showbackground": true,
            "ticks": "",
            "zerolinecolor": "white",
            "gridwidth": 2
           }
          },
          "shapedefaults": {
           "line": {
            "color": "#2a3f5f"
           }
          },
          "annotationdefaults": {
           "arrowcolor": "#2a3f5f",
           "arrowhead": 0,
           "arrowwidth": 1
          },
          "geo": {
           "bgcolor": "white",
           "landcolor": "#E5ECF6",
           "subunitcolor": "white",
           "showland": true,
           "showlakes": true,
           "lakecolor": "white"
          },
          "title": {
           "x": 0.05
          },
          "mapbox": {
           "style": "light"
          }
         }
        }
       },
       "config": {
        "plotlyServerURL": "https://plot.ly"
       }
      },
      "text/html": "<div>                            <div id=\"12ab3c26-8e57-46ec-90d7-a112ecca06a4\" class=\"plotly-graph-div\" style=\"height:525px; width:100%;\"></div>            <script type=\"text/javascript\">                require([\"plotly\"], function(Plotly) {                    window.PLOTLYENV=window.PLOTLYENV || {};                                    if (document.getElementById(\"12ab3c26-8e57-46ec-90d7-a112ecca06a4\")) {                    Plotly.newPlot(                        \"12ab3c26-8e57-46ec-90d7-a112ecca06a4\",                        [{\"x\":[-5.0,-4.9,-4.800000000000001,-4.700000000000001,-4.600000000000001,-4.500000000000002,-4.400000000000002,-4.3000000000000025,-4.200000000000003,-4.100000000000003,-4.0000000000000036,-3.900000000000004,-3.8000000000000043,-3.7000000000000046,-3.600000000000005,-3.5000000000000053,-3.4000000000000057,-3.300000000000006,-3.2000000000000064,-3.1000000000000068,-3.000000000000007,-2.9000000000000075,-2.800000000000008,-2.700000000000008,-2.6000000000000085,-2.500000000000009,-2.4000000000000092,-2.3000000000000096,-2.20000000000001,-2.1000000000000103,-2.0000000000000107,-1.900000000000011,-1.8000000000000114,-1.7000000000000117,-1.600000000000012,-1.5000000000000124,-1.4000000000000128,-1.3000000000000131,-1.2000000000000135,-1.1000000000000139,-1.0000000000000142,-0.9000000000000146,-0.8000000000000149,-0.7000000000000153,-0.6000000000000156,-0.500000000000016,-0.40000000000001634,-0.3000000000000167,-0.20000000000001705,-0.10000000000001741,-1.7763568394002505e-14,0.09999999999998188,0.19999999999998153,0.29999999999998117,0.3999999999999808,0.49999999999998046,0.5999999999999801,0.6999999999999797,0.7999999999999794,0.899999999999979,0.9999999999999787,1.0999999999999783,1.199999999999978,1.2999999999999776,1.3999999999999773,1.499999999999977,1.5999999999999766,1.6999999999999762,1.7999999999999758,1.8999999999999755,1.9999999999999751,2.0999999999999748,2.1999999999999744,2.299999999999974,2.3999999999999737,2.4999999999999734,2.599999999999973,2.6999999999999726,2.7999999999999723,2.899999999999972,2.9999999999999716,3.0999999999999712,3.199999999999971,3.2999999999999705,3.39999999999997,3.49999999999997,3.5999999999999694,3.699999999999969,3.7999999999999687,3.8999999999999684,3.999999999999968,4.099999999999968,4.199999999999967,4.299999999999967,4.399999999999967,4.499999999999966,4.599999999999966,4.6999999999999655,4.799999999999965,4.899999999999965],\"y\":[25.0,24.010000000000005,23.040000000000006,22.09000000000001,21.160000000000014,20.250000000000018,19.360000000000017,18.49000000000002,17.640000000000025,16.810000000000027,16.00000000000003,15.210000000000031,14.440000000000033,13.690000000000035,12.960000000000036,12.250000000000037,11.560000000000038,10.89000000000004,10.240000000000041,9.610000000000042,9.000000000000043,8.410000000000043,7.840000000000043,7.2900000000000444,6.760000000000044,6.250000000000044,5.760000000000044,5.2900000000000444,4.840000000000043,4.410000000000044,4.000000000000043,3.610000000000042,3.240000000000041,2.8900000000000396,2.5600000000000387,2.2500000000000373,1.9600000000000357,1.6900000000000341,1.4400000000000324,1.2100000000000304,1.0000000000000284,0.8100000000000263,0.6400000000000239,0.49000000000002136,0.36000000000001875,0.250000000000016,0.16000000000001308,0.09000000000001002,0.04000000000000682,0.010000000000003482,3.155443620884047e-28,0.009999999999996376,0.03999999999999261,0.0899999999999887,0.15999999999998465,0.24999999999998046,0.3599999999999761,0.4899999999999716,0.639999999999967,0.8099999999999623,0.9999999999999574,1.2099999999999522,1.439999999999947,1.6899999999999418,1.9599999999999362,2.2499999999999307,2.559999999999925,2.889999999999919,3.239999999999913,3.609999999999907,3.9999999999999005,4.4099999999998944,4.839999999999887,5.289999999999881,5.759999999999874,6.249999999999867,6.7599999999998595,7.289999999999853,7.839999999999844,8.409999999999837,8.99999999999983,9.609999999999822,10.239999999999814,10.889999999999805,11.559999999999796,12.249999999999789,12.95999999999978,13.689999999999772,14.439999999999763,15.209999999999754,15.999999999999744,16.809999999999736,17.639999999999727,18.489999999999714,19.359999999999705,20.249999999999698,21.159999999999688,22.089999999999677,23.039999999999665,24.009999999999657],\"type\":\"scatter\"}],                        {\"template\":{\"data\":{\"histogram2dcontour\":[{\"type\":\"histogram2dcontour\",\"colorbar\":{\"outlinewidth\":0,\"ticks\":\"\"},\"colorscale\":[[0.0,\"#0d0887\"],[0.1111111111111111,\"#46039f\"],[0.2222222222222222,\"#7201a8\"],[0.3333333333333333,\"#9c179e\"],[0.4444444444444444,\"#bd3786\"],[0.5555555555555556,\"#d8576b\"],[0.6666666666666666,\"#ed7953\"],[0.7777777777777778,\"#fb9f3a\"],[0.8888888888888888,\"#fdca26\"],[1.0,\"#f0f921\"]]}],\"choropleth\":[{\"type\":\"choropleth\",\"colorbar\":{\"outlinewidth\":0,\"ticks\":\"\"}}],\"histogram2d\":[{\"type\":\"histogram2d\",\"colorbar\":{\"outlinewidth\":0,\"ticks\":\"\"},\"colorscale\":[[0.0,\"#0d0887\"],[0.1111111111111111,\"#46039f\"],[0.2222222222222222,\"#7201a8\"],[0.3333333333333333,\"#9c179e\"],[0.4444444444444444,\"#bd3786\"],[0.5555555555555556,\"#d8576b\"],[0.6666666666666666,\"#ed7953\"],[0.7777777777777778,\"#fb9f3a\"],[0.8888888888888888,\"#fdca26\"],[1.0,\"#f0f921\"]]}],\"heatmap\":[{\"type\":\"heatmap\",\"colorbar\":{\"outlinewidth\":0,\"ticks\":\"\"},\"colorscale\":[[0.0,\"#0d0887\"],[0.1111111111111111,\"#46039f\"],[0.2222222222222222,\"#7201a8\"],[0.3333333333333333,\"#9c179e\"],[0.4444444444444444,\"#bd3786\"],[0.5555555555555556,\"#d8576b\"],[0.6666666666666666,\"#ed7953\"],[0.7777777777777778,\"#fb9f3a\"],[0.8888888888888888,\"#fdca26\"],[1.0,\"#f0f921\"]]}],\"heatmapgl\":[{\"type\":\"heatmapgl\",\"colorbar\":{\"outlinewidth\":0,\"ticks\":\"\"},\"colorscale\":[[0.0,\"#0d0887\"],[0.1111111111111111,\"#46039f\"],[0.2222222222222222,\"#7201a8\"],[0.3333333333333333,\"#9c179e\"],[0.4444444444444444,\"#bd3786\"],[0.5555555555555556,\"#d8576b\"],[0.6666666666666666,\"#ed7953\"],[0.7777777777777778,\"#fb9f3a\"],[0.8888888888888888,\"#fdca26\"],[1.0,\"#f0f921\"]]}],\"contourcarpet\":[{\"type\":\"contourcarpet\",\"colorbar\":{\"outlinewidth\":0,\"ticks\":\"\"}}],\"contour\":[{\"type\":\"contour\",\"colorbar\":{\"outlinewidth\":0,\"ticks\":\"\"},\"colorscale\":[[0.0,\"#0d0887\"],[0.1111111111111111,\"#46039f\"],[0.2222222222222222,\"#7201a8\"],[0.3333333333333333,\"#9c179e\"],[0.4444444444444444,\"#bd3786\"],[0.5555555555555556,\"#d8576b\"],[0.6666666666666666,\"#ed7953\"],[0.7777777777777778,\"#fb9f3a\"],[0.8888888888888888,\"#fdca26\"],[1.0,\"#f0f921\"]]}],\"surface\":[{\"type\":\"surface\",\"colorbar\":{\"outlinewidth\":0,\"ticks\":\"\"},\"colorscale\":[[0.0,\"#0d0887\"],[0.1111111111111111,\"#46039f\"],[0.2222222222222222,\"#7201a8\"],[0.3333333333333333,\"#9c179e\"],[0.4444444444444444,\"#bd3786\"],[0.5555555555555556,\"#d8576b\"],[0.6666666666666666,\"#ed7953\"],[0.7777777777777778,\"#fb9f3a\"],[0.8888888888888888,\"#fdca26\"],[1.0,\"#f0f921\"]]}],\"mesh3d\":[{\"type\":\"mesh3d\",\"colorbar\":{\"outlinewidth\":0,\"ticks\":\"\"}}],\"scatter\":[{\"fillpattern\":{\"fillmode\":\"overlay\",\"size\":10,\"solidity\":0.2},\"type\":\"scatter\"}],\"parcoords\":[{\"type\":\"parcoords\",\"line\":{\"colorbar\":{\"outlinewidth\":0,\"ticks\":\"\"}}}],\"scatterpolargl\":[{\"type\":\"scatterpolargl\",\"marker\":{\"colorbar\":{\"outlinewidth\":0,\"ticks\":\"\"}}}],\"bar\":[{\"error_x\":{\"color\":\"#2a3f5f\"},\"error_y\":{\"color\":\"#2a3f5f\"},\"marker\":{\"line\":{\"color\":\"#E5ECF6\",\"width\":0.5},\"pattern\":{\"fillmode\":\"overlay\",\"size\":10,\"solidity\":0.2}},\"type\":\"bar\"}],\"scattergeo\":[{\"type\":\"scattergeo\",\"marker\":{\"colorbar\":{\"outlinewidth\":0,\"ticks\":\"\"}}}],\"scatterpolar\":[{\"type\":\"scatterpolar\",\"marker\":{\"colorbar\":{\"outlinewidth\":0,\"ticks\":\"\"}}}],\"histogram\":[{\"marker\":{\"pattern\":{\"fillmode\":\"overlay\",\"size\":10,\"solidity\":0.2}},\"type\":\"histogram\"}],\"scattergl\":[{\"type\":\"scattergl\",\"marker\":{\"colorbar\":{\"outlinewidth\":0,\"ticks\":\"\"}}}],\"scatter3d\":[{\"type\":\"scatter3d\",\"line\":{\"colorbar\":{\"outlinewidth\":0,\"ticks\":\"\"}},\"marker\":{\"colorbar\":{\"outlinewidth\":0,\"ticks\":\"\"}}}],\"scattermapbox\":[{\"type\":\"scattermapbox\",\"marker\":{\"colorbar\":{\"outlinewidth\":0,\"ticks\":\"\"}}}],\"scatterternary\":[{\"type\":\"scatterternary\",\"marker\":{\"colorbar\":{\"outlinewidth\":0,\"ticks\":\"\"}}}],\"scattercarpet\":[{\"type\":\"scattercarpet\",\"marker\":{\"colorbar\":{\"outlinewidth\":0,\"ticks\":\"\"}}}],\"carpet\":[{\"aaxis\":{\"endlinecolor\":\"#2a3f5f\",\"gridcolor\":\"white\",\"linecolor\":\"white\",\"minorgridcolor\":\"white\",\"startlinecolor\":\"#2a3f5f\"},\"baxis\":{\"endlinecolor\":\"#2a3f5f\",\"gridcolor\":\"white\",\"linecolor\":\"white\",\"minorgridcolor\":\"white\",\"startlinecolor\":\"#2a3f5f\"},\"type\":\"carpet\"}],\"table\":[{\"cells\":{\"fill\":{\"color\":\"#EBF0F8\"},\"line\":{\"color\":\"white\"}},\"header\":{\"fill\":{\"color\":\"#C8D4E3\"},\"line\":{\"color\":\"white\"}},\"type\":\"table\"}],\"barpolar\":[{\"marker\":{\"line\":{\"color\":\"#E5ECF6\",\"width\":0.5},\"pattern\":{\"fillmode\":\"overlay\",\"size\":10,\"solidity\":0.2}},\"type\":\"barpolar\"}],\"pie\":[{\"automargin\":true,\"type\":\"pie\"}]},\"layout\":{\"autotypenumbers\":\"strict\",\"colorway\":[\"#636efa\",\"#EF553B\",\"#00cc96\",\"#ab63fa\",\"#FFA15A\",\"#19d3f3\",\"#FF6692\",\"#B6E880\",\"#FF97FF\",\"#FECB52\"],\"font\":{\"color\":\"#2a3f5f\"},\"hovermode\":\"closest\",\"hoverlabel\":{\"align\":\"left\"},\"paper_bgcolor\":\"white\",\"plot_bgcolor\":\"#E5ECF6\",\"polar\":{\"bgcolor\":\"#E5ECF6\",\"angularaxis\":{\"gridcolor\":\"white\",\"linecolor\":\"white\",\"ticks\":\"\"},\"radialaxis\":{\"gridcolor\":\"white\",\"linecolor\":\"white\",\"ticks\":\"\"}},\"ternary\":{\"bgcolor\":\"#E5ECF6\",\"aaxis\":{\"gridcolor\":\"white\",\"linecolor\":\"white\",\"ticks\":\"\"},\"baxis\":{\"gridcolor\":\"white\",\"linecolor\":\"white\",\"ticks\":\"\"},\"caxis\":{\"gridcolor\":\"white\",\"linecolor\":\"white\",\"ticks\":\"\"}},\"coloraxis\":{\"colorbar\":{\"outlinewidth\":0,\"ticks\":\"\"}},\"colorscale\":{\"sequential\":[[0.0,\"#0d0887\"],[0.1111111111111111,\"#46039f\"],[0.2222222222222222,\"#7201a8\"],[0.3333333333333333,\"#9c179e\"],[0.4444444444444444,\"#bd3786\"],[0.5555555555555556,\"#d8576b\"],[0.6666666666666666,\"#ed7953\"],[0.7777777777777778,\"#fb9f3a\"],[0.8888888888888888,\"#fdca26\"],[1.0,\"#f0f921\"]],\"sequentialminus\":[[0.0,\"#0d0887\"],[0.1111111111111111,\"#46039f\"],[0.2222222222222222,\"#7201a8\"],[0.3333333333333333,\"#9c179e\"],[0.4444444444444444,\"#bd3786\"],[0.5555555555555556,\"#d8576b\"],[0.6666666666666666,\"#ed7953\"],[0.7777777777777778,\"#fb9f3a\"],[0.8888888888888888,\"#fdca26\"],[1.0,\"#f0f921\"]],\"diverging\":[[0,\"#8e0152\"],[0.1,\"#c51b7d\"],[0.2,\"#de77ae\"],[0.3,\"#f1b6da\"],[0.4,\"#fde0ef\"],[0.5,\"#f7f7f7\"],[0.6,\"#e6f5d0\"],[0.7,\"#b8e186\"],[0.8,\"#7fbc41\"],[0.9,\"#4d9221\"],[1,\"#276419\"]]},\"xaxis\":{\"gridcolor\":\"white\",\"linecolor\":\"white\",\"ticks\":\"\",\"title\":{\"standoff\":15},\"zerolinecolor\":\"white\",\"automargin\":true,\"zerolinewidth\":2},\"yaxis\":{\"gridcolor\":\"white\",\"linecolor\":\"white\",\"ticks\":\"\",\"title\":{\"standoff\":15},\"zerolinecolor\":\"white\",\"automargin\":true,\"zerolinewidth\":2},\"scene\":{\"xaxis\":{\"backgroundcolor\":\"#E5ECF6\",\"gridcolor\":\"white\",\"linecolor\":\"white\",\"showbackground\":true,\"ticks\":\"\",\"zerolinecolor\":\"white\",\"gridwidth\":2},\"yaxis\":{\"backgroundcolor\":\"#E5ECF6\",\"gridcolor\":\"white\",\"linecolor\":\"white\",\"showbackground\":true,\"ticks\":\"\",\"zerolinecolor\":\"white\",\"gridwidth\":2},\"zaxis\":{\"backgroundcolor\":\"#E5ECF6\",\"gridcolor\":\"white\",\"linecolor\":\"white\",\"showbackground\":true,\"ticks\":\"\",\"zerolinecolor\":\"white\",\"gridwidth\":2}},\"shapedefaults\":{\"line\":{\"color\":\"#2a3f5f\"}},\"annotationdefaults\":{\"arrowcolor\":\"#2a3f5f\",\"arrowhead\":0,\"arrowwidth\":1},\"geo\":{\"bgcolor\":\"white\",\"landcolor\":\"#E5ECF6\",\"subunitcolor\":\"white\",\"showland\":true,\"showlakes\":true,\"lakecolor\":\"white\"},\"title\":{\"x\":0.05},\"mapbox\":{\"style\":\"light\"}}}},                        {\"responsive\": true}                    ).then(function(){\n                            \nvar gd = document.getElementById('12ab3c26-8e57-46ec-90d7-a112ecca06a4');\nvar x = new MutationObserver(function (mutations, observer) {{\n        var display = window.getComputedStyle(gd).display;\n        if (!display || display === 'none') {{\n            console.log([gd, 'removed!']);\n            Plotly.purge(gd);\n            observer.disconnect();\n        }}\n}});\n\n// Listen for the removal of the full notebook cells\nvar notebookContainer = gd.closest('#notebook-container');\nif (notebookContainer) {{\n    x.observe(notebookContainer, {childList: true});\n}}\n\n// Listen for the clearing of the current output cell\nvar outputEl = gd.closest('.output');\nif (outputEl) {{\n    x.observe(outputEl, {childList: true});\n}}\n\n                        })                };                });            </script>        </div>"
     },
     "metadata": {},
     "output_type": "display_data"
    }
   ],
   "source": [
    "fig = go.Figure()\n",
    "fig.add_trace(go.Scatter(x=x, y=f(x)))\n",
    "fig.show()"
   ]
  },
  {
   "cell_type": "markdown",
   "id": "e76c5189",
   "metadata": {},
   "source": [
    "## Несколько графиков на одной плоскости"
   ]
  },
  {
   "cell_type": "code",
   "execution_count": 223,
   "id": "b69270be",
   "metadata": {},
   "outputs": [
    {
     "data": {
      "application/vnd.plotly.v1+json": {
       "data": [
        {
         "x": [
          -5.0,
          -4.9,
          -4.800000000000001,
          -4.700000000000001,
          -4.600000000000001,
          -4.500000000000002,
          -4.400000000000002,
          -4.3000000000000025,
          -4.200000000000003,
          -4.100000000000003,
          -4.0000000000000036,
          -3.900000000000004,
          -3.8000000000000043,
          -3.7000000000000046,
          -3.600000000000005,
          -3.5000000000000053,
          -3.4000000000000057,
          -3.300000000000006,
          -3.2000000000000064,
          -3.1000000000000068,
          -3.000000000000007,
          -2.9000000000000075,
          -2.800000000000008,
          -2.700000000000008,
          -2.6000000000000085,
          -2.500000000000009,
          -2.4000000000000092,
          -2.3000000000000096,
          -2.20000000000001,
          -2.1000000000000103,
          -2.0000000000000107,
          -1.900000000000011,
          -1.8000000000000114,
          -1.7000000000000117,
          -1.600000000000012,
          -1.5000000000000124,
          -1.4000000000000128,
          -1.3000000000000131,
          -1.2000000000000135,
          -1.1000000000000139,
          -1.0000000000000142,
          -0.9000000000000146,
          -0.8000000000000149,
          -0.7000000000000153,
          -0.6000000000000156,
          -0.500000000000016,
          -0.40000000000001634,
          -0.3000000000000167,
          -0.20000000000001705,
          -0.10000000000001741,
          -1.7763568394002505E-14,
          0.09999999999998188,
          0.19999999999998153,
          0.29999999999998117,
          0.3999999999999808,
          0.49999999999998046,
          0.5999999999999801,
          0.6999999999999797,
          0.7999999999999794,
          0.899999999999979,
          0.9999999999999787,
          1.0999999999999783,
          1.199999999999978,
          1.2999999999999776,
          1.3999999999999773,
          1.499999999999977,
          1.5999999999999766,
          1.6999999999999762,
          1.7999999999999758,
          1.8999999999999755,
          1.9999999999999751,
          2.0999999999999748,
          2.1999999999999744,
          2.299999999999974,
          2.3999999999999737,
          2.4999999999999734,
          2.599999999999973,
          2.6999999999999726,
          2.7999999999999723,
          2.899999999999972,
          2.9999999999999716,
          3.0999999999999712,
          3.199999999999971,
          3.2999999999999705,
          3.39999999999997,
          3.49999999999997,
          3.5999999999999694,
          3.699999999999969,
          3.7999999999999687,
          3.8999999999999684,
          3.999999999999968,
          4.099999999999968,
          4.199999999999967,
          4.299999999999967,
          4.399999999999967,
          4.499999999999966,
          4.599999999999966,
          4.6999999999999655,
          4.799999999999965,
          4.899999999999965
         ],
         "y": [
          25.0,
          24.010000000000005,
          23.040000000000006,
          22.09000000000001,
          21.160000000000014,
          20.250000000000018,
          19.360000000000017,
          18.49000000000002,
          17.640000000000025,
          16.810000000000027,
          16.00000000000003,
          15.210000000000031,
          14.440000000000033,
          13.690000000000035,
          12.960000000000036,
          12.250000000000037,
          11.560000000000038,
          10.89000000000004,
          10.240000000000041,
          9.610000000000042,
          9.000000000000043,
          8.410000000000043,
          7.840000000000043,
          7.2900000000000444,
          6.760000000000044,
          6.250000000000044,
          5.760000000000044,
          5.2900000000000444,
          4.840000000000043,
          4.410000000000044,
          4.000000000000043,
          3.610000000000042,
          3.240000000000041,
          2.8900000000000396,
          2.5600000000000387,
          2.2500000000000373,
          1.9600000000000357,
          1.6900000000000341,
          1.4400000000000324,
          1.2100000000000304,
          1.0000000000000284,
          0.8100000000000263,
          0.6400000000000239,
          0.49000000000002136,
          0.36000000000001875,
          0.250000000000016,
          0.16000000000001308,
          0.09000000000001002,
          0.04000000000000682,
          0.010000000000003482,
          3.155443620884047E-28,
          0.009999999999996376,
          0.03999999999999261,
          0.0899999999999887,
          0.15999999999998465,
          0.24999999999998046,
          0.3599999999999761,
          0.4899999999999716,
          0.639999999999967,
          0.8099999999999623,
          0.9999999999999574,
          1.2099999999999522,
          1.439999999999947,
          1.6899999999999418,
          1.9599999999999362,
          2.2499999999999307,
          2.559999999999925,
          2.889999999999919,
          3.239999999999913,
          3.609999999999907,
          3.9999999999999005,
          4.4099999999998944,
          4.839999999999887,
          5.289999999999881,
          5.759999999999874,
          6.249999999999867,
          6.7599999999998595,
          7.289999999999853,
          7.839999999999844,
          8.409999999999837,
          8.99999999999983,
          9.609999999999822,
          10.239999999999814,
          10.889999999999805,
          11.559999999999796,
          12.249999999999789,
          12.95999999999978,
          13.689999999999772,
          14.439999999999763,
          15.209999999999754,
          15.999999999999744,
          16.809999999999736,
          17.639999999999727,
          18.489999999999714,
          19.359999999999705,
          20.249999999999698,
          21.159999999999688,
          22.089999999999677,
          23.039999999999665,
          24.009999999999657
         ],
         "type": "scatter"
        },
        {
         "x": [
          -5.0,
          -4.9,
          -4.800000000000001,
          -4.700000000000001,
          -4.600000000000001,
          -4.500000000000002,
          -4.400000000000002,
          -4.3000000000000025,
          -4.200000000000003,
          -4.100000000000003,
          -4.0000000000000036,
          -3.900000000000004,
          -3.8000000000000043,
          -3.7000000000000046,
          -3.600000000000005,
          -3.5000000000000053,
          -3.4000000000000057,
          -3.300000000000006,
          -3.2000000000000064,
          -3.1000000000000068,
          -3.000000000000007,
          -2.9000000000000075,
          -2.800000000000008,
          -2.700000000000008,
          -2.6000000000000085,
          -2.500000000000009,
          -2.4000000000000092,
          -2.3000000000000096,
          -2.20000000000001,
          -2.1000000000000103,
          -2.0000000000000107,
          -1.900000000000011,
          -1.8000000000000114,
          -1.7000000000000117,
          -1.600000000000012,
          -1.5000000000000124,
          -1.4000000000000128,
          -1.3000000000000131,
          -1.2000000000000135,
          -1.1000000000000139,
          -1.0000000000000142,
          -0.9000000000000146,
          -0.8000000000000149,
          -0.7000000000000153,
          -0.6000000000000156,
          -0.500000000000016,
          -0.40000000000001634,
          -0.3000000000000167,
          -0.20000000000001705,
          -0.10000000000001741,
          -1.7763568394002505E-14,
          0.09999999999998188,
          0.19999999999998153,
          0.29999999999998117,
          0.3999999999999808,
          0.49999999999998046,
          0.5999999999999801,
          0.6999999999999797,
          0.7999999999999794,
          0.899999999999979,
          0.9999999999999787,
          1.0999999999999783,
          1.199999999999978,
          1.2999999999999776,
          1.3999999999999773,
          1.499999999999977,
          1.5999999999999766,
          1.6999999999999762,
          1.7999999999999758,
          1.8999999999999755,
          1.9999999999999751,
          2.0999999999999748,
          2.1999999999999744,
          2.299999999999974,
          2.3999999999999737,
          2.4999999999999734,
          2.599999999999973,
          2.6999999999999726,
          2.7999999999999723,
          2.899999999999972,
          2.9999999999999716,
          3.0999999999999712,
          3.199999999999971,
          3.2999999999999705,
          3.39999999999997,
          3.49999999999997,
          3.5999999999999694,
          3.699999999999969,
          3.7999999999999687,
          3.8999999999999684,
          3.999999999999968,
          4.099999999999968,
          4.199999999999967,
          4.299999999999967,
          4.399999999999967,
          4.499999999999966,
          4.599999999999966,
          4.6999999999999655,
          4.799999999999965,
          4.899999999999965
         ],
         "y": [
          -5.0,
          -4.9,
          -4.800000000000001,
          -4.700000000000001,
          -4.600000000000001,
          -4.500000000000002,
          -4.400000000000002,
          -4.3000000000000025,
          -4.200000000000003,
          -4.100000000000003,
          -4.0000000000000036,
          -3.900000000000004,
          -3.8000000000000043,
          -3.7000000000000046,
          -3.600000000000005,
          -3.5000000000000053,
          -3.4000000000000057,
          -3.300000000000006,
          -3.2000000000000064,
          -3.1000000000000068,
          -3.000000000000007,
          -2.9000000000000075,
          -2.800000000000008,
          -2.700000000000008,
          -2.6000000000000085,
          -2.500000000000009,
          -2.4000000000000092,
          -2.3000000000000096,
          -2.20000000000001,
          -2.1000000000000103,
          -2.0000000000000107,
          -1.900000000000011,
          -1.8000000000000114,
          -1.7000000000000117,
          -1.600000000000012,
          -1.5000000000000124,
          -1.4000000000000128,
          -1.3000000000000131,
          -1.2000000000000135,
          -1.1000000000000139,
          -1.0000000000000142,
          -0.9000000000000146,
          -0.8000000000000149,
          -0.7000000000000153,
          -0.6000000000000156,
          -0.500000000000016,
          -0.40000000000001634,
          -0.3000000000000167,
          -0.20000000000001705,
          -0.10000000000001741,
          -1.7763568394002505E-14,
          0.09999999999998188,
          0.19999999999998153,
          0.29999999999998117,
          0.3999999999999808,
          0.49999999999998046,
          0.5999999999999801,
          0.6999999999999797,
          0.7999999999999794,
          0.899999999999979,
          0.9999999999999787,
          1.0999999999999783,
          1.199999999999978,
          1.2999999999999776,
          1.3999999999999773,
          1.499999999999977,
          1.5999999999999766,
          1.6999999999999762,
          1.7999999999999758,
          1.8999999999999755,
          1.9999999999999751,
          2.0999999999999748,
          2.1999999999999744,
          2.299999999999974,
          2.3999999999999737,
          2.4999999999999734,
          2.599999999999973,
          2.6999999999999726,
          2.7999999999999723,
          2.899999999999972,
          2.9999999999999716,
          3.0999999999999712,
          3.199999999999971,
          3.2999999999999705,
          3.39999999999997,
          3.49999999999997,
          3.5999999999999694,
          3.699999999999969,
          3.7999999999999687,
          3.8999999999999684,
          3.999999999999968,
          4.099999999999968,
          4.199999999999967,
          4.299999999999967,
          4.399999999999967,
          4.499999999999966,
          4.599999999999966,
          4.6999999999999655,
          4.799999999999965,
          4.899999999999965
         ],
         "type": "scatter"
        }
       ],
       "layout": {
        "template": {
         "data": {
          "histogram2dcontour": [
           {
            "type": "histogram2dcontour",
            "colorbar": {
             "outlinewidth": 0,
             "ticks": ""
            },
            "colorscale": [
             [
              0.0,
              "#0d0887"
             ],
             [
              0.1111111111111111,
              "#46039f"
             ],
             [
              0.2222222222222222,
              "#7201a8"
             ],
             [
              0.3333333333333333,
              "#9c179e"
             ],
             [
              0.4444444444444444,
              "#bd3786"
             ],
             [
              0.5555555555555556,
              "#d8576b"
             ],
             [
              0.6666666666666666,
              "#ed7953"
             ],
             [
              0.7777777777777778,
              "#fb9f3a"
             ],
             [
              0.8888888888888888,
              "#fdca26"
             ],
             [
              1.0,
              "#f0f921"
             ]
            ]
           }
          ],
          "choropleth": [
           {
            "type": "choropleth",
            "colorbar": {
             "outlinewidth": 0,
             "ticks": ""
            }
           }
          ],
          "histogram2d": [
           {
            "type": "histogram2d",
            "colorbar": {
             "outlinewidth": 0,
             "ticks": ""
            },
            "colorscale": [
             [
              0.0,
              "#0d0887"
             ],
             [
              0.1111111111111111,
              "#46039f"
             ],
             [
              0.2222222222222222,
              "#7201a8"
             ],
             [
              0.3333333333333333,
              "#9c179e"
             ],
             [
              0.4444444444444444,
              "#bd3786"
             ],
             [
              0.5555555555555556,
              "#d8576b"
             ],
             [
              0.6666666666666666,
              "#ed7953"
             ],
             [
              0.7777777777777778,
              "#fb9f3a"
             ],
             [
              0.8888888888888888,
              "#fdca26"
             ],
             [
              1.0,
              "#f0f921"
             ]
            ]
           }
          ],
          "heatmap": [
           {
            "type": "heatmap",
            "colorbar": {
             "outlinewidth": 0,
             "ticks": ""
            },
            "colorscale": [
             [
              0.0,
              "#0d0887"
             ],
             [
              0.1111111111111111,
              "#46039f"
             ],
             [
              0.2222222222222222,
              "#7201a8"
             ],
             [
              0.3333333333333333,
              "#9c179e"
             ],
             [
              0.4444444444444444,
              "#bd3786"
             ],
             [
              0.5555555555555556,
              "#d8576b"
             ],
             [
              0.6666666666666666,
              "#ed7953"
             ],
             [
              0.7777777777777778,
              "#fb9f3a"
             ],
             [
              0.8888888888888888,
              "#fdca26"
             ],
             [
              1.0,
              "#f0f921"
             ]
            ]
           }
          ],
          "heatmapgl": [
           {
            "type": "heatmapgl",
            "colorbar": {
             "outlinewidth": 0,
             "ticks": ""
            },
            "colorscale": [
             [
              0.0,
              "#0d0887"
             ],
             [
              0.1111111111111111,
              "#46039f"
             ],
             [
              0.2222222222222222,
              "#7201a8"
             ],
             [
              0.3333333333333333,
              "#9c179e"
             ],
             [
              0.4444444444444444,
              "#bd3786"
             ],
             [
              0.5555555555555556,
              "#d8576b"
             ],
             [
              0.6666666666666666,
              "#ed7953"
             ],
             [
              0.7777777777777778,
              "#fb9f3a"
             ],
             [
              0.8888888888888888,
              "#fdca26"
             ],
             [
              1.0,
              "#f0f921"
             ]
            ]
           }
          ],
          "contourcarpet": [
           {
            "type": "contourcarpet",
            "colorbar": {
             "outlinewidth": 0,
             "ticks": ""
            }
           }
          ],
          "contour": [
           {
            "type": "contour",
            "colorbar": {
             "outlinewidth": 0,
             "ticks": ""
            },
            "colorscale": [
             [
              0.0,
              "#0d0887"
             ],
             [
              0.1111111111111111,
              "#46039f"
             ],
             [
              0.2222222222222222,
              "#7201a8"
             ],
             [
              0.3333333333333333,
              "#9c179e"
             ],
             [
              0.4444444444444444,
              "#bd3786"
             ],
             [
              0.5555555555555556,
              "#d8576b"
             ],
             [
              0.6666666666666666,
              "#ed7953"
             ],
             [
              0.7777777777777778,
              "#fb9f3a"
             ],
             [
              0.8888888888888888,
              "#fdca26"
             ],
             [
              1.0,
              "#f0f921"
             ]
            ]
           }
          ],
          "surface": [
           {
            "type": "surface",
            "colorbar": {
             "outlinewidth": 0,
             "ticks": ""
            },
            "colorscale": [
             [
              0.0,
              "#0d0887"
             ],
             [
              0.1111111111111111,
              "#46039f"
             ],
             [
              0.2222222222222222,
              "#7201a8"
             ],
             [
              0.3333333333333333,
              "#9c179e"
             ],
             [
              0.4444444444444444,
              "#bd3786"
             ],
             [
              0.5555555555555556,
              "#d8576b"
             ],
             [
              0.6666666666666666,
              "#ed7953"
             ],
             [
              0.7777777777777778,
              "#fb9f3a"
             ],
             [
              0.8888888888888888,
              "#fdca26"
             ],
             [
              1.0,
              "#f0f921"
             ]
            ]
           }
          ],
          "mesh3d": [
           {
            "type": "mesh3d",
            "colorbar": {
             "outlinewidth": 0,
             "ticks": ""
            }
           }
          ],
          "scatter": [
           {
            "fillpattern": {
             "fillmode": "overlay",
             "size": 10,
             "solidity": 0.2
            },
            "type": "scatter"
           }
          ],
          "parcoords": [
           {
            "type": "parcoords",
            "line": {
             "colorbar": {
              "outlinewidth": 0,
              "ticks": ""
             }
            }
           }
          ],
          "scatterpolargl": [
           {
            "type": "scatterpolargl",
            "marker": {
             "colorbar": {
              "outlinewidth": 0,
              "ticks": ""
             }
            }
           }
          ],
          "bar": [
           {
            "error_x": {
             "color": "#2a3f5f"
            },
            "error_y": {
             "color": "#2a3f5f"
            },
            "marker": {
             "line": {
              "color": "#E5ECF6",
              "width": 0.5
             },
             "pattern": {
              "fillmode": "overlay",
              "size": 10,
              "solidity": 0.2
             }
            },
            "type": "bar"
           }
          ],
          "scattergeo": [
           {
            "type": "scattergeo",
            "marker": {
             "colorbar": {
              "outlinewidth": 0,
              "ticks": ""
             }
            }
           }
          ],
          "scatterpolar": [
           {
            "type": "scatterpolar",
            "marker": {
             "colorbar": {
              "outlinewidth": 0,
              "ticks": ""
             }
            }
           }
          ],
          "histogram": [
           {
            "marker": {
             "pattern": {
              "fillmode": "overlay",
              "size": 10,
              "solidity": 0.2
             }
            },
            "type": "histogram"
           }
          ],
          "scattergl": [
           {
            "type": "scattergl",
            "marker": {
             "colorbar": {
              "outlinewidth": 0,
              "ticks": ""
             }
            }
           }
          ],
          "scatter3d": [
           {
            "type": "scatter3d",
            "line": {
             "colorbar": {
              "outlinewidth": 0,
              "ticks": ""
             }
            },
            "marker": {
             "colorbar": {
              "outlinewidth": 0,
              "ticks": ""
             }
            }
           }
          ],
          "scattermapbox": [
           {
            "type": "scattermapbox",
            "marker": {
             "colorbar": {
              "outlinewidth": 0,
              "ticks": ""
             }
            }
           }
          ],
          "scatterternary": [
           {
            "type": "scatterternary",
            "marker": {
             "colorbar": {
              "outlinewidth": 0,
              "ticks": ""
             }
            }
           }
          ],
          "scattercarpet": [
           {
            "type": "scattercarpet",
            "marker": {
             "colorbar": {
              "outlinewidth": 0,
              "ticks": ""
             }
            }
           }
          ],
          "carpet": [
           {
            "aaxis": {
             "endlinecolor": "#2a3f5f",
             "gridcolor": "white",
             "linecolor": "white",
             "minorgridcolor": "white",
             "startlinecolor": "#2a3f5f"
            },
            "baxis": {
             "endlinecolor": "#2a3f5f",
             "gridcolor": "white",
             "linecolor": "white",
             "minorgridcolor": "white",
             "startlinecolor": "#2a3f5f"
            },
            "type": "carpet"
           }
          ],
          "table": [
           {
            "cells": {
             "fill": {
              "color": "#EBF0F8"
             },
             "line": {
              "color": "white"
             }
            },
            "header": {
             "fill": {
              "color": "#C8D4E3"
             },
             "line": {
              "color": "white"
             }
            },
            "type": "table"
           }
          ],
          "barpolar": [
           {
            "marker": {
             "line": {
              "color": "#E5ECF6",
              "width": 0.5
             },
             "pattern": {
              "fillmode": "overlay",
              "size": 10,
              "solidity": 0.2
             }
            },
            "type": "barpolar"
           }
          ],
          "pie": [
           {
            "automargin": true,
            "type": "pie"
           }
          ]
         },
         "layout": {
          "autotypenumbers": "strict",
          "colorway": [
           "#636efa",
           "#EF553B",
           "#00cc96",
           "#ab63fa",
           "#FFA15A",
           "#19d3f3",
           "#FF6692",
           "#B6E880",
           "#FF97FF",
           "#FECB52"
          ],
          "font": {
           "color": "#2a3f5f"
          },
          "hovermode": "closest",
          "hoverlabel": {
           "align": "left"
          },
          "paper_bgcolor": "white",
          "plot_bgcolor": "#E5ECF6",
          "polar": {
           "bgcolor": "#E5ECF6",
           "angularaxis": {
            "gridcolor": "white",
            "linecolor": "white",
            "ticks": ""
           },
           "radialaxis": {
            "gridcolor": "white",
            "linecolor": "white",
            "ticks": ""
           }
          },
          "ternary": {
           "bgcolor": "#E5ECF6",
           "aaxis": {
            "gridcolor": "white",
            "linecolor": "white",
            "ticks": ""
           },
           "baxis": {
            "gridcolor": "white",
            "linecolor": "white",
            "ticks": ""
           },
           "caxis": {
            "gridcolor": "white",
            "linecolor": "white",
            "ticks": ""
           }
          },
          "coloraxis": {
           "colorbar": {
            "outlinewidth": 0,
            "ticks": ""
           }
          },
          "colorscale": {
           "sequential": [
            [
             0.0,
             "#0d0887"
            ],
            [
             0.1111111111111111,
             "#46039f"
            ],
            [
             0.2222222222222222,
             "#7201a8"
            ],
            [
             0.3333333333333333,
             "#9c179e"
            ],
            [
             0.4444444444444444,
             "#bd3786"
            ],
            [
             0.5555555555555556,
             "#d8576b"
            ],
            [
             0.6666666666666666,
             "#ed7953"
            ],
            [
             0.7777777777777778,
             "#fb9f3a"
            ],
            [
             0.8888888888888888,
             "#fdca26"
            ],
            [
             1.0,
             "#f0f921"
            ]
           ],
           "sequentialminus": [
            [
             0.0,
             "#0d0887"
            ],
            [
             0.1111111111111111,
             "#46039f"
            ],
            [
             0.2222222222222222,
             "#7201a8"
            ],
            [
             0.3333333333333333,
             "#9c179e"
            ],
            [
             0.4444444444444444,
             "#bd3786"
            ],
            [
             0.5555555555555556,
             "#d8576b"
            ],
            [
             0.6666666666666666,
             "#ed7953"
            ],
            [
             0.7777777777777778,
             "#fb9f3a"
            ],
            [
             0.8888888888888888,
             "#fdca26"
            ],
            [
             1.0,
             "#f0f921"
            ]
           ],
           "diverging": [
            [
             0,
             "#8e0152"
            ],
            [
             0.1,
             "#c51b7d"
            ],
            [
             0.2,
             "#de77ae"
            ],
            [
             0.3,
             "#f1b6da"
            ],
            [
             0.4,
             "#fde0ef"
            ],
            [
             0.5,
             "#f7f7f7"
            ],
            [
             0.6,
             "#e6f5d0"
            ],
            [
             0.7,
             "#b8e186"
            ],
            [
             0.8,
             "#7fbc41"
            ],
            [
             0.9,
             "#4d9221"
            ],
            [
             1,
             "#276419"
            ]
           ]
          },
          "xaxis": {
           "gridcolor": "white",
           "linecolor": "white",
           "ticks": "",
           "title": {
            "standoff": 15
           },
           "zerolinecolor": "white",
           "automargin": true,
           "zerolinewidth": 2
          },
          "yaxis": {
           "gridcolor": "white",
           "linecolor": "white",
           "ticks": "",
           "title": {
            "standoff": 15
           },
           "zerolinecolor": "white",
           "automargin": true,
           "zerolinewidth": 2
          },
          "scene": {
           "xaxis": {
            "backgroundcolor": "#E5ECF6",
            "gridcolor": "white",
            "linecolor": "white",
            "showbackground": true,
            "ticks": "",
            "zerolinecolor": "white",
            "gridwidth": 2
           },
           "yaxis": {
            "backgroundcolor": "#E5ECF6",
            "gridcolor": "white",
            "linecolor": "white",
            "showbackground": true,
            "ticks": "",
            "zerolinecolor": "white",
            "gridwidth": 2
           },
           "zaxis": {
            "backgroundcolor": "#E5ECF6",
            "gridcolor": "white",
            "linecolor": "white",
            "showbackground": true,
            "ticks": "",
            "zerolinecolor": "white",
            "gridwidth": 2
           }
          },
          "shapedefaults": {
           "line": {
            "color": "#2a3f5f"
           }
          },
          "annotationdefaults": {
           "arrowcolor": "#2a3f5f",
           "arrowhead": 0,
           "arrowwidth": 1
          },
          "geo": {
           "bgcolor": "white",
           "landcolor": "#E5ECF6",
           "subunitcolor": "white",
           "showland": true,
           "showlakes": true,
           "lakecolor": "white"
          },
          "title": {
           "x": 0.05
          },
          "mapbox": {
           "style": "light"
          }
         }
        }
       },
       "config": {
        "plotlyServerURL": "https://plot.ly"
       }
      },
      "text/html": "<div>                            <div id=\"d44a0499-ea1f-4d36-b095-660ea8baeffb\" class=\"plotly-graph-div\" style=\"height:525px; width:100%;\"></div>            <script type=\"text/javascript\">                require([\"plotly\"], function(Plotly) {                    window.PLOTLYENV=window.PLOTLYENV || {};                                    if (document.getElementById(\"d44a0499-ea1f-4d36-b095-660ea8baeffb\")) {                    Plotly.newPlot(                        \"d44a0499-ea1f-4d36-b095-660ea8baeffb\",                        [{\"x\":[-5.0,-4.9,-4.800000000000001,-4.700000000000001,-4.600000000000001,-4.500000000000002,-4.400000000000002,-4.3000000000000025,-4.200000000000003,-4.100000000000003,-4.0000000000000036,-3.900000000000004,-3.8000000000000043,-3.7000000000000046,-3.600000000000005,-3.5000000000000053,-3.4000000000000057,-3.300000000000006,-3.2000000000000064,-3.1000000000000068,-3.000000000000007,-2.9000000000000075,-2.800000000000008,-2.700000000000008,-2.6000000000000085,-2.500000000000009,-2.4000000000000092,-2.3000000000000096,-2.20000000000001,-2.1000000000000103,-2.0000000000000107,-1.900000000000011,-1.8000000000000114,-1.7000000000000117,-1.600000000000012,-1.5000000000000124,-1.4000000000000128,-1.3000000000000131,-1.2000000000000135,-1.1000000000000139,-1.0000000000000142,-0.9000000000000146,-0.8000000000000149,-0.7000000000000153,-0.6000000000000156,-0.500000000000016,-0.40000000000001634,-0.3000000000000167,-0.20000000000001705,-0.10000000000001741,-1.7763568394002505e-14,0.09999999999998188,0.19999999999998153,0.29999999999998117,0.3999999999999808,0.49999999999998046,0.5999999999999801,0.6999999999999797,0.7999999999999794,0.899999999999979,0.9999999999999787,1.0999999999999783,1.199999999999978,1.2999999999999776,1.3999999999999773,1.499999999999977,1.5999999999999766,1.6999999999999762,1.7999999999999758,1.8999999999999755,1.9999999999999751,2.0999999999999748,2.1999999999999744,2.299999999999974,2.3999999999999737,2.4999999999999734,2.599999999999973,2.6999999999999726,2.7999999999999723,2.899999999999972,2.9999999999999716,3.0999999999999712,3.199999999999971,3.2999999999999705,3.39999999999997,3.49999999999997,3.5999999999999694,3.699999999999969,3.7999999999999687,3.8999999999999684,3.999999999999968,4.099999999999968,4.199999999999967,4.299999999999967,4.399999999999967,4.499999999999966,4.599999999999966,4.6999999999999655,4.799999999999965,4.899999999999965],\"y\":[25.0,24.010000000000005,23.040000000000006,22.09000000000001,21.160000000000014,20.250000000000018,19.360000000000017,18.49000000000002,17.640000000000025,16.810000000000027,16.00000000000003,15.210000000000031,14.440000000000033,13.690000000000035,12.960000000000036,12.250000000000037,11.560000000000038,10.89000000000004,10.240000000000041,9.610000000000042,9.000000000000043,8.410000000000043,7.840000000000043,7.2900000000000444,6.760000000000044,6.250000000000044,5.760000000000044,5.2900000000000444,4.840000000000043,4.410000000000044,4.000000000000043,3.610000000000042,3.240000000000041,2.8900000000000396,2.5600000000000387,2.2500000000000373,1.9600000000000357,1.6900000000000341,1.4400000000000324,1.2100000000000304,1.0000000000000284,0.8100000000000263,0.6400000000000239,0.49000000000002136,0.36000000000001875,0.250000000000016,0.16000000000001308,0.09000000000001002,0.04000000000000682,0.010000000000003482,3.155443620884047e-28,0.009999999999996376,0.03999999999999261,0.0899999999999887,0.15999999999998465,0.24999999999998046,0.3599999999999761,0.4899999999999716,0.639999999999967,0.8099999999999623,0.9999999999999574,1.2099999999999522,1.439999999999947,1.6899999999999418,1.9599999999999362,2.2499999999999307,2.559999999999925,2.889999999999919,3.239999999999913,3.609999999999907,3.9999999999999005,4.4099999999998944,4.839999999999887,5.289999999999881,5.759999999999874,6.249999999999867,6.7599999999998595,7.289999999999853,7.839999999999844,8.409999999999837,8.99999999999983,9.609999999999822,10.239999999999814,10.889999999999805,11.559999999999796,12.249999999999789,12.95999999999978,13.689999999999772,14.439999999999763,15.209999999999754,15.999999999999744,16.809999999999736,17.639999999999727,18.489999999999714,19.359999999999705,20.249999999999698,21.159999999999688,22.089999999999677,23.039999999999665,24.009999999999657],\"type\":\"scatter\"},{\"x\":[-5.0,-4.9,-4.800000000000001,-4.700000000000001,-4.600000000000001,-4.500000000000002,-4.400000000000002,-4.3000000000000025,-4.200000000000003,-4.100000000000003,-4.0000000000000036,-3.900000000000004,-3.8000000000000043,-3.7000000000000046,-3.600000000000005,-3.5000000000000053,-3.4000000000000057,-3.300000000000006,-3.2000000000000064,-3.1000000000000068,-3.000000000000007,-2.9000000000000075,-2.800000000000008,-2.700000000000008,-2.6000000000000085,-2.500000000000009,-2.4000000000000092,-2.3000000000000096,-2.20000000000001,-2.1000000000000103,-2.0000000000000107,-1.900000000000011,-1.8000000000000114,-1.7000000000000117,-1.600000000000012,-1.5000000000000124,-1.4000000000000128,-1.3000000000000131,-1.2000000000000135,-1.1000000000000139,-1.0000000000000142,-0.9000000000000146,-0.8000000000000149,-0.7000000000000153,-0.6000000000000156,-0.500000000000016,-0.40000000000001634,-0.3000000000000167,-0.20000000000001705,-0.10000000000001741,-1.7763568394002505e-14,0.09999999999998188,0.19999999999998153,0.29999999999998117,0.3999999999999808,0.49999999999998046,0.5999999999999801,0.6999999999999797,0.7999999999999794,0.899999999999979,0.9999999999999787,1.0999999999999783,1.199999999999978,1.2999999999999776,1.3999999999999773,1.499999999999977,1.5999999999999766,1.6999999999999762,1.7999999999999758,1.8999999999999755,1.9999999999999751,2.0999999999999748,2.1999999999999744,2.299999999999974,2.3999999999999737,2.4999999999999734,2.599999999999973,2.6999999999999726,2.7999999999999723,2.899999999999972,2.9999999999999716,3.0999999999999712,3.199999999999971,3.2999999999999705,3.39999999999997,3.49999999999997,3.5999999999999694,3.699999999999969,3.7999999999999687,3.8999999999999684,3.999999999999968,4.099999999999968,4.199999999999967,4.299999999999967,4.399999999999967,4.499999999999966,4.599999999999966,4.6999999999999655,4.799999999999965,4.899999999999965],\"y\":[-5.0,-4.9,-4.800000000000001,-4.700000000000001,-4.600000000000001,-4.500000000000002,-4.400000000000002,-4.3000000000000025,-4.200000000000003,-4.100000000000003,-4.0000000000000036,-3.900000000000004,-3.8000000000000043,-3.7000000000000046,-3.600000000000005,-3.5000000000000053,-3.4000000000000057,-3.300000000000006,-3.2000000000000064,-3.1000000000000068,-3.000000000000007,-2.9000000000000075,-2.800000000000008,-2.700000000000008,-2.6000000000000085,-2.500000000000009,-2.4000000000000092,-2.3000000000000096,-2.20000000000001,-2.1000000000000103,-2.0000000000000107,-1.900000000000011,-1.8000000000000114,-1.7000000000000117,-1.600000000000012,-1.5000000000000124,-1.4000000000000128,-1.3000000000000131,-1.2000000000000135,-1.1000000000000139,-1.0000000000000142,-0.9000000000000146,-0.8000000000000149,-0.7000000000000153,-0.6000000000000156,-0.500000000000016,-0.40000000000001634,-0.3000000000000167,-0.20000000000001705,-0.10000000000001741,-1.7763568394002505e-14,0.09999999999998188,0.19999999999998153,0.29999999999998117,0.3999999999999808,0.49999999999998046,0.5999999999999801,0.6999999999999797,0.7999999999999794,0.899999999999979,0.9999999999999787,1.0999999999999783,1.199999999999978,1.2999999999999776,1.3999999999999773,1.499999999999977,1.5999999999999766,1.6999999999999762,1.7999999999999758,1.8999999999999755,1.9999999999999751,2.0999999999999748,2.1999999999999744,2.299999999999974,2.3999999999999737,2.4999999999999734,2.599999999999973,2.6999999999999726,2.7999999999999723,2.899999999999972,2.9999999999999716,3.0999999999999712,3.199999999999971,3.2999999999999705,3.39999999999997,3.49999999999997,3.5999999999999694,3.699999999999969,3.7999999999999687,3.8999999999999684,3.999999999999968,4.099999999999968,4.199999999999967,4.299999999999967,4.399999999999967,4.499999999999966,4.599999999999966,4.6999999999999655,4.799999999999965,4.899999999999965],\"type\":\"scatter\"}],                        {\"template\":{\"data\":{\"histogram2dcontour\":[{\"type\":\"histogram2dcontour\",\"colorbar\":{\"outlinewidth\":0,\"ticks\":\"\"},\"colorscale\":[[0.0,\"#0d0887\"],[0.1111111111111111,\"#46039f\"],[0.2222222222222222,\"#7201a8\"],[0.3333333333333333,\"#9c179e\"],[0.4444444444444444,\"#bd3786\"],[0.5555555555555556,\"#d8576b\"],[0.6666666666666666,\"#ed7953\"],[0.7777777777777778,\"#fb9f3a\"],[0.8888888888888888,\"#fdca26\"],[1.0,\"#f0f921\"]]}],\"choropleth\":[{\"type\":\"choropleth\",\"colorbar\":{\"outlinewidth\":0,\"ticks\":\"\"}}],\"histogram2d\":[{\"type\":\"histogram2d\",\"colorbar\":{\"outlinewidth\":0,\"ticks\":\"\"},\"colorscale\":[[0.0,\"#0d0887\"],[0.1111111111111111,\"#46039f\"],[0.2222222222222222,\"#7201a8\"],[0.3333333333333333,\"#9c179e\"],[0.4444444444444444,\"#bd3786\"],[0.5555555555555556,\"#d8576b\"],[0.6666666666666666,\"#ed7953\"],[0.7777777777777778,\"#fb9f3a\"],[0.8888888888888888,\"#fdca26\"],[1.0,\"#f0f921\"]]}],\"heatmap\":[{\"type\":\"heatmap\",\"colorbar\":{\"outlinewidth\":0,\"ticks\":\"\"},\"colorscale\":[[0.0,\"#0d0887\"],[0.1111111111111111,\"#46039f\"],[0.2222222222222222,\"#7201a8\"],[0.3333333333333333,\"#9c179e\"],[0.4444444444444444,\"#bd3786\"],[0.5555555555555556,\"#d8576b\"],[0.6666666666666666,\"#ed7953\"],[0.7777777777777778,\"#fb9f3a\"],[0.8888888888888888,\"#fdca26\"],[1.0,\"#f0f921\"]]}],\"heatmapgl\":[{\"type\":\"heatmapgl\",\"colorbar\":{\"outlinewidth\":0,\"ticks\":\"\"},\"colorscale\":[[0.0,\"#0d0887\"],[0.1111111111111111,\"#46039f\"],[0.2222222222222222,\"#7201a8\"],[0.3333333333333333,\"#9c179e\"],[0.4444444444444444,\"#bd3786\"],[0.5555555555555556,\"#d8576b\"],[0.6666666666666666,\"#ed7953\"],[0.7777777777777778,\"#fb9f3a\"],[0.8888888888888888,\"#fdca26\"],[1.0,\"#f0f921\"]]}],\"contourcarpet\":[{\"type\":\"contourcarpet\",\"colorbar\":{\"outlinewidth\":0,\"ticks\":\"\"}}],\"contour\":[{\"type\":\"contour\",\"colorbar\":{\"outlinewidth\":0,\"ticks\":\"\"},\"colorscale\":[[0.0,\"#0d0887\"],[0.1111111111111111,\"#46039f\"],[0.2222222222222222,\"#7201a8\"],[0.3333333333333333,\"#9c179e\"],[0.4444444444444444,\"#bd3786\"],[0.5555555555555556,\"#d8576b\"],[0.6666666666666666,\"#ed7953\"],[0.7777777777777778,\"#fb9f3a\"],[0.8888888888888888,\"#fdca26\"],[1.0,\"#f0f921\"]]}],\"surface\":[{\"type\":\"surface\",\"colorbar\":{\"outlinewidth\":0,\"ticks\":\"\"},\"colorscale\":[[0.0,\"#0d0887\"],[0.1111111111111111,\"#46039f\"],[0.2222222222222222,\"#7201a8\"],[0.3333333333333333,\"#9c179e\"],[0.4444444444444444,\"#bd3786\"],[0.5555555555555556,\"#d8576b\"],[0.6666666666666666,\"#ed7953\"],[0.7777777777777778,\"#fb9f3a\"],[0.8888888888888888,\"#fdca26\"],[1.0,\"#f0f921\"]]}],\"mesh3d\":[{\"type\":\"mesh3d\",\"colorbar\":{\"outlinewidth\":0,\"ticks\":\"\"}}],\"scatter\":[{\"fillpattern\":{\"fillmode\":\"overlay\",\"size\":10,\"solidity\":0.2},\"type\":\"scatter\"}],\"parcoords\":[{\"type\":\"parcoords\",\"line\":{\"colorbar\":{\"outlinewidth\":0,\"ticks\":\"\"}}}],\"scatterpolargl\":[{\"type\":\"scatterpolargl\",\"marker\":{\"colorbar\":{\"outlinewidth\":0,\"ticks\":\"\"}}}],\"bar\":[{\"error_x\":{\"color\":\"#2a3f5f\"},\"error_y\":{\"color\":\"#2a3f5f\"},\"marker\":{\"line\":{\"color\":\"#E5ECF6\",\"width\":0.5},\"pattern\":{\"fillmode\":\"overlay\",\"size\":10,\"solidity\":0.2}},\"type\":\"bar\"}],\"scattergeo\":[{\"type\":\"scattergeo\",\"marker\":{\"colorbar\":{\"outlinewidth\":0,\"ticks\":\"\"}}}],\"scatterpolar\":[{\"type\":\"scatterpolar\",\"marker\":{\"colorbar\":{\"outlinewidth\":0,\"ticks\":\"\"}}}],\"histogram\":[{\"marker\":{\"pattern\":{\"fillmode\":\"overlay\",\"size\":10,\"solidity\":0.2}},\"type\":\"histogram\"}],\"scattergl\":[{\"type\":\"scattergl\",\"marker\":{\"colorbar\":{\"outlinewidth\":0,\"ticks\":\"\"}}}],\"scatter3d\":[{\"type\":\"scatter3d\",\"line\":{\"colorbar\":{\"outlinewidth\":0,\"ticks\":\"\"}},\"marker\":{\"colorbar\":{\"outlinewidth\":0,\"ticks\":\"\"}}}],\"scattermapbox\":[{\"type\":\"scattermapbox\",\"marker\":{\"colorbar\":{\"outlinewidth\":0,\"ticks\":\"\"}}}],\"scatterternary\":[{\"type\":\"scatterternary\",\"marker\":{\"colorbar\":{\"outlinewidth\":0,\"ticks\":\"\"}}}],\"scattercarpet\":[{\"type\":\"scattercarpet\",\"marker\":{\"colorbar\":{\"outlinewidth\":0,\"ticks\":\"\"}}}],\"carpet\":[{\"aaxis\":{\"endlinecolor\":\"#2a3f5f\",\"gridcolor\":\"white\",\"linecolor\":\"white\",\"minorgridcolor\":\"white\",\"startlinecolor\":\"#2a3f5f\"},\"baxis\":{\"endlinecolor\":\"#2a3f5f\",\"gridcolor\":\"white\",\"linecolor\":\"white\",\"minorgridcolor\":\"white\",\"startlinecolor\":\"#2a3f5f\"},\"type\":\"carpet\"}],\"table\":[{\"cells\":{\"fill\":{\"color\":\"#EBF0F8\"},\"line\":{\"color\":\"white\"}},\"header\":{\"fill\":{\"color\":\"#C8D4E3\"},\"line\":{\"color\":\"white\"}},\"type\":\"table\"}],\"barpolar\":[{\"marker\":{\"line\":{\"color\":\"#E5ECF6\",\"width\":0.5},\"pattern\":{\"fillmode\":\"overlay\",\"size\":10,\"solidity\":0.2}},\"type\":\"barpolar\"}],\"pie\":[{\"automargin\":true,\"type\":\"pie\"}]},\"layout\":{\"autotypenumbers\":\"strict\",\"colorway\":[\"#636efa\",\"#EF553B\",\"#00cc96\",\"#ab63fa\",\"#FFA15A\",\"#19d3f3\",\"#FF6692\",\"#B6E880\",\"#FF97FF\",\"#FECB52\"],\"font\":{\"color\":\"#2a3f5f\"},\"hovermode\":\"closest\",\"hoverlabel\":{\"align\":\"left\"},\"paper_bgcolor\":\"white\",\"plot_bgcolor\":\"#E5ECF6\",\"polar\":{\"bgcolor\":\"#E5ECF6\",\"angularaxis\":{\"gridcolor\":\"white\",\"linecolor\":\"white\",\"ticks\":\"\"},\"radialaxis\":{\"gridcolor\":\"white\",\"linecolor\":\"white\",\"ticks\":\"\"}},\"ternary\":{\"bgcolor\":\"#E5ECF6\",\"aaxis\":{\"gridcolor\":\"white\",\"linecolor\":\"white\",\"ticks\":\"\"},\"baxis\":{\"gridcolor\":\"white\",\"linecolor\":\"white\",\"ticks\":\"\"},\"caxis\":{\"gridcolor\":\"white\",\"linecolor\":\"white\",\"ticks\":\"\"}},\"coloraxis\":{\"colorbar\":{\"outlinewidth\":0,\"ticks\":\"\"}},\"colorscale\":{\"sequential\":[[0.0,\"#0d0887\"],[0.1111111111111111,\"#46039f\"],[0.2222222222222222,\"#7201a8\"],[0.3333333333333333,\"#9c179e\"],[0.4444444444444444,\"#bd3786\"],[0.5555555555555556,\"#d8576b\"],[0.6666666666666666,\"#ed7953\"],[0.7777777777777778,\"#fb9f3a\"],[0.8888888888888888,\"#fdca26\"],[1.0,\"#f0f921\"]],\"sequentialminus\":[[0.0,\"#0d0887\"],[0.1111111111111111,\"#46039f\"],[0.2222222222222222,\"#7201a8\"],[0.3333333333333333,\"#9c179e\"],[0.4444444444444444,\"#bd3786\"],[0.5555555555555556,\"#d8576b\"],[0.6666666666666666,\"#ed7953\"],[0.7777777777777778,\"#fb9f3a\"],[0.8888888888888888,\"#fdca26\"],[1.0,\"#f0f921\"]],\"diverging\":[[0,\"#8e0152\"],[0.1,\"#c51b7d\"],[0.2,\"#de77ae\"],[0.3,\"#f1b6da\"],[0.4,\"#fde0ef\"],[0.5,\"#f7f7f7\"],[0.6,\"#e6f5d0\"],[0.7,\"#b8e186\"],[0.8,\"#7fbc41\"],[0.9,\"#4d9221\"],[1,\"#276419\"]]},\"xaxis\":{\"gridcolor\":\"white\",\"linecolor\":\"white\",\"ticks\":\"\",\"title\":{\"standoff\":15},\"zerolinecolor\":\"white\",\"automargin\":true,\"zerolinewidth\":2},\"yaxis\":{\"gridcolor\":\"white\",\"linecolor\":\"white\",\"ticks\":\"\",\"title\":{\"standoff\":15},\"zerolinecolor\":\"white\",\"automargin\":true,\"zerolinewidth\":2},\"scene\":{\"xaxis\":{\"backgroundcolor\":\"#E5ECF6\",\"gridcolor\":\"white\",\"linecolor\":\"white\",\"showbackground\":true,\"ticks\":\"\",\"zerolinecolor\":\"white\",\"gridwidth\":2},\"yaxis\":{\"backgroundcolor\":\"#E5ECF6\",\"gridcolor\":\"white\",\"linecolor\":\"white\",\"showbackground\":true,\"ticks\":\"\",\"zerolinecolor\":\"white\",\"gridwidth\":2},\"zaxis\":{\"backgroundcolor\":\"#E5ECF6\",\"gridcolor\":\"white\",\"linecolor\":\"white\",\"showbackground\":true,\"ticks\":\"\",\"zerolinecolor\":\"white\",\"gridwidth\":2}},\"shapedefaults\":{\"line\":{\"color\":\"#2a3f5f\"}},\"annotationdefaults\":{\"arrowcolor\":\"#2a3f5f\",\"arrowhead\":0,\"arrowwidth\":1},\"geo\":{\"bgcolor\":\"white\",\"landcolor\":\"#E5ECF6\",\"subunitcolor\":\"white\",\"showland\":true,\"showlakes\":true,\"lakecolor\":\"white\"},\"title\":{\"x\":0.05},\"mapbox\":{\"style\":\"light\"}}}},                        {\"responsive\": true}                    ).then(function(){\n                            \nvar gd = document.getElementById('d44a0499-ea1f-4d36-b095-660ea8baeffb');\nvar x = new MutationObserver(function (mutations, observer) {{\n        var display = window.getComputedStyle(gd).display;\n        if (!display || display === 'none') {{\n            console.log([gd, 'removed!']);\n            Plotly.purge(gd);\n            observer.disconnect();\n        }}\n}});\n\n// Listen for the removal of the full notebook cells\nvar notebookContainer = gd.closest('#notebook-container');\nif (notebookContainer) {{\n    x.observe(notebookContainer, {childList: true});\n}}\n\n// Listen for the clearing of the current output cell\nvar outputEl = gd.closest('.output');\nif (outputEl) {{\n    x.observe(outputEl, {childList: true});\n}}\n\n                        })                };                });            </script>        </div>"
     },
     "metadata": {},
     "output_type": "display_data"
    }
   ],
   "source": [
    "fig = go.Figure()\n",
    "fig.add_trace(go.Scatter(x=x, y=f(x)))\n",
    "fig.add_trace(go.Scatter(x=x, y=x))\n",
    "fig.show()"
   ]
  },
  {
   "cell_type": "markdown",
   "id": "bad45b5a",
   "metadata": {},
   "source": [
    "## Добавим подписи"
   ]
  },
  {
   "cell_type": "code",
   "execution_count": 226,
   "id": "6c052640",
   "metadata": {},
   "outputs": [
    {
     "data": {
      "application/vnd.plotly.v1+json": {
       "data": [
        {
         "name": "f(x)=x^2",
         "x": [
          -5.0,
          -4.9,
          -4.800000000000001,
          -4.700000000000001,
          -4.600000000000001,
          -4.500000000000002,
          -4.400000000000002,
          -4.3000000000000025,
          -4.200000000000003,
          -4.100000000000003,
          -4.0000000000000036,
          -3.900000000000004,
          -3.8000000000000043,
          -3.7000000000000046,
          -3.600000000000005,
          -3.5000000000000053,
          -3.4000000000000057,
          -3.300000000000006,
          -3.2000000000000064,
          -3.1000000000000068,
          -3.000000000000007,
          -2.9000000000000075,
          -2.800000000000008,
          -2.700000000000008,
          -2.6000000000000085,
          -2.500000000000009,
          -2.4000000000000092,
          -2.3000000000000096,
          -2.20000000000001,
          -2.1000000000000103,
          -2.0000000000000107,
          -1.900000000000011,
          -1.8000000000000114,
          -1.7000000000000117,
          -1.600000000000012,
          -1.5000000000000124,
          -1.4000000000000128,
          -1.3000000000000131,
          -1.2000000000000135,
          -1.1000000000000139,
          -1.0000000000000142,
          -0.9000000000000146,
          -0.8000000000000149,
          -0.7000000000000153,
          -0.6000000000000156,
          -0.500000000000016,
          -0.40000000000001634,
          -0.3000000000000167,
          -0.20000000000001705,
          -0.10000000000001741,
          -1.7763568394002505E-14,
          0.09999999999998188,
          0.19999999999998153,
          0.29999999999998117,
          0.3999999999999808,
          0.49999999999998046,
          0.5999999999999801,
          0.6999999999999797,
          0.7999999999999794,
          0.899999999999979,
          0.9999999999999787,
          1.0999999999999783,
          1.199999999999978,
          1.2999999999999776,
          1.3999999999999773,
          1.499999999999977,
          1.5999999999999766,
          1.6999999999999762,
          1.7999999999999758,
          1.8999999999999755,
          1.9999999999999751,
          2.0999999999999748,
          2.1999999999999744,
          2.299999999999974,
          2.3999999999999737,
          2.4999999999999734,
          2.599999999999973,
          2.6999999999999726,
          2.7999999999999723,
          2.899999999999972,
          2.9999999999999716,
          3.0999999999999712,
          3.199999999999971,
          3.2999999999999705,
          3.39999999999997,
          3.49999999999997,
          3.5999999999999694,
          3.699999999999969,
          3.7999999999999687,
          3.8999999999999684,
          3.999999999999968,
          4.099999999999968,
          4.199999999999967,
          4.299999999999967,
          4.399999999999967,
          4.499999999999966,
          4.599999999999966,
          4.6999999999999655,
          4.799999999999965,
          4.899999999999965
         ],
         "y": [
          25.0,
          24.010000000000005,
          23.040000000000006,
          22.09000000000001,
          21.160000000000014,
          20.250000000000018,
          19.360000000000017,
          18.49000000000002,
          17.640000000000025,
          16.810000000000027,
          16.00000000000003,
          15.210000000000031,
          14.440000000000033,
          13.690000000000035,
          12.960000000000036,
          12.250000000000037,
          11.560000000000038,
          10.89000000000004,
          10.240000000000041,
          9.610000000000042,
          9.000000000000043,
          8.410000000000043,
          7.840000000000043,
          7.2900000000000444,
          6.760000000000044,
          6.250000000000044,
          5.760000000000044,
          5.2900000000000444,
          4.840000000000043,
          4.410000000000044,
          4.000000000000043,
          3.610000000000042,
          3.240000000000041,
          2.8900000000000396,
          2.5600000000000387,
          2.2500000000000373,
          1.9600000000000357,
          1.6900000000000341,
          1.4400000000000324,
          1.2100000000000304,
          1.0000000000000284,
          0.8100000000000263,
          0.6400000000000239,
          0.49000000000002136,
          0.36000000000001875,
          0.250000000000016,
          0.16000000000001308,
          0.09000000000001002,
          0.04000000000000682,
          0.010000000000003482,
          3.155443620884047E-28,
          0.009999999999996376,
          0.03999999999999261,
          0.0899999999999887,
          0.15999999999998465,
          0.24999999999998046,
          0.3599999999999761,
          0.4899999999999716,
          0.639999999999967,
          0.8099999999999623,
          0.9999999999999574,
          1.2099999999999522,
          1.439999999999947,
          1.6899999999999418,
          1.9599999999999362,
          2.2499999999999307,
          2.559999999999925,
          2.889999999999919,
          3.239999999999913,
          3.609999999999907,
          3.9999999999999005,
          4.4099999999998944,
          4.839999999999887,
          5.289999999999881,
          5.759999999999874,
          6.249999999999867,
          6.7599999999998595,
          7.289999999999853,
          7.839999999999844,
          8.409999999999837,
          8.99999999999983,
          9.609999999999822,
          10.239999999999814,
          10.889999999999805,
          11.559999999999796,
          12.249999999999789,
          12.95999999999978,
          13.689999999999772,
          14.439999999999763,
          15.209999999999754,
          15.999999999999744,
          16.809999999999736,
          17.639999999999727,
          18.489999999999714,
          19.359999999999705,
          20.249999999999698,
          21.159999999999688,
          22.089999999999677,
          23.039999999999665,
          24.009999999999657
         ],
         "type": "scatter"
        },
        {
         "name": "g(x)=x",
         "x": [
          -5.0,
          -4.9,
          -4.800000000000001,
          -4.700000000000001,
          -4.600000000000001,
          -4.500000000000002,
          -4.400000000000002,
          -4.3000000000000025,
          -4.200000000000003,
          -4.100000000000003,
          -4.0000000000000036,
          -3.900000000000004,
          -3.8000000000000043,
          -3.7000000000000046,
          -3.600000000000005,
          -3.5000000000000053,
          -3.4000000000000057,
          -3.300000000000006,
          -3.2000000000000064,
          -3.1000000000000068,
          -3.000000000000007,
          -2.9000000000000075,
          -2.800000000000008,
          -2.700000000000008,
          -2.6000000000000085,
          -2.500000000000009,
          -2.4000000000000092,
          -2.3000000000000096,
          -2.20000000000001,
          -2.1000000000000103,
          -2.0000000000000107,
          -1.900000000000011,
          -1.8000000000000114,
          -1.7000000000000117,
          -1.600000000000012,
          -1.5000000000000124,
          -1.4000000000000128,
          -1.3000000000000131,
          -1.2000000000000135,
          -1.1000000000000139,
          -1.0000000000000142,
          -0.9000000000000146,
          -0.8000000000000149,
          -0.7000000000000153,
          -0.6000000000000156,
          -0.500000000000016,
          -0.40000000000001634,
          -0.3000000000000167,
          -0.20000000000001705,
          -0.10000000000001741,
          -1.7763568394002505E-14,
          0.09999999999998188,
          0.19999999999998153,
          0.29999999999998117,
          0.3999999999999808,
          0.49999999999998046,
          0.5999999999999801,
          0.6999999999999797,
          0.7999999999999794,
          0.899999999999979,
          0.9999999999999787,
          1.0999999999999783,
          1.199999999999978,
          1.2999999999999776,
          1.3999999999999773,
          1.499999999999977,
          1.5999999999999766,
          1.6999999999999762,
          1.7999999999999758,
          1.8999999999999755,
          1.9999999999999751,
          2.0999999999999748,
          2.1999999999999744,
          2.299999999999974,
          2.3999999999999737,
          2.4999999999999734,
          2.599999999999973,
          2.6999999999999726,
          2.7999999999999723,
          2.899999999999972,
          2.9999999999999716,
          3.0999999999999712,
          3.199999999999971,
          3.2999999999999705,
          3.39999999999997,
          3.49999999999997,
          3.5999999999999694,
          3.699999999999969,
          3.7999999999999687,
          3.8999999999999684,
          3.999999999999968,
          4.099999999999968,
          4.199999999999967,
          4.299999999999967,
          4.399999999999967,
          4.499999999999966,
          4.599999999999966,
          4.6999999999999655,
          4.799999999999965,
          4.899999999999965
         ],
         "y": [
          -5.0,
          -4.9,
          -4.800000000000001,
          -4.700000000000001,
          -4.600000000000001,
          -4.500000000000002,
          -4.400000000000002,
          -4.3000000000000025,
          -4.200000000000003,
          -4.100000000000003,
          -4.0000000000000036,
          -3.900000000000004,
          -3.8000000000000043,
          -3.7000000000000046,
          -3.600000000000005,
          -3.5000000000000053,
          -3.4000000000000057,
          -3.300000000000006,
          -3.2000000000000064,
          -3.1000000000000068,
          -3.000000000000007,
          -2.9000000000000075,
          -2.800000000000008,
          -2.700000000000008,
          -2.6000000000000085,
          -2.500000000000009,
          -2.4000000000000092,
          -2.3000000000000096,
          -2.20000000000001,
          -2.1000000000000103,
          -2.0000000000000107,
          -1.900000000000011,
          -1.8000000000000114,
          -1.7000000000000117,
          -1.600000000000012,
          -1.5000000000000124,
          -1.4000000000000128,
          -1.3000000000000131,
          -1.2000000000000135,
          -1.1000000000000139,
          -1.0000000000000142,
          -0.9000000000000146,
          -0.8000000000000149,
          -0.7000000000000153,
          -0.6000000000000156,
          -0.500000000000016,
          -0.40000000000001634,
          -0.3000000000000167,
          -0.20000000000001705,
          -0.10000000000001741,
          -1.7763568394002505E-14,
          0.09999999999998188,
          0.19999999999998153,
          0.29999999999998117,
          0.3999999999999808,
          0.49999999999998046,
          0.5999999999999801,
          0.6999999999999797,
          0.7999999999999794,
          0.899999999999979,
          0.9999999999999787,
          1.0999999999999783,
          1.199999999999978,
          1.2999999999999776,
          1.3999999999999773,
          1.499999999999977,
          1.5999999999999766,
          1.6999999999999762,
          1.7999999999999758,
          1.8999999999999755,
          1.9999999999999751,
          2.0999999999999748,
          2.1999999999999744,
          2.299999999999974,
          2.3999999999999737,
          2.4999999999999734,
          2.599999999999973,
          2.6999999999999726,
          2.7999999999999723,
          2.899999999999972,
          2.9999999999999716,
          3.0999999999999712,
          3.199999999999971,
          3.2999999999999705,
          3.39999999999997,
          3.49999999999997,
          3.5999999999999694,
          3.699999999999969,
          3.7999999999999687,
          3.8999999999999684,
          3.999999999999968,
          4.099999999999968,
          4.199999999999967,
          4.299999999999967,
          4.399999999999967,
          4.499999999999966,
          4.599999999999966,
          4.6999999999999655,
          4.799999999999965,
          4.899999999999965
         ],
         "type": "scatter"
        }
       ],
       "layout": {
        "template": {
         "data": {
          "histogram2dcontour": [
           {
            "type": "histogram2dcontour",
            "colorbar": {
             "outlinewidth": 0,
             "ticks": ""
            },
            "colorscale": [
             [
              0.0,
              "#0d0887"
             ],
             [
              0.1111111111111111,
              "#46039f"
             ],
             [
              0.2222222222222222,
              "#7201a8"
             ],
             [
              0.3333333333333333,
              "#9c179e"
             ],
             [
              0.4444444444444444,
              "#bd3786"
             ],
             [
              0.5555555555555556,
              "#d8576b"
             ],
             [
              0.6666666666666666,
              "#ed7953"
             ],
             [
              0.7777777777777778,
              "#fb9f3a"
             ],
             [
              0.8888888888888888,
              "#fdca26"
             ],
             [
              1.0,
              "#f0f921"
             ]
            ]
           }
          ],
          "choropleth": [
           {
            "type": "choropleth",
            "colorbar": {
             "outlinewidth": 0,
             "ticks": ""
            }
           }
          ],
          "histogram2d": [
           {
            "type": "histogram2d",
            "colorbar": {
             "outlinewidth": 0,
             "ticks": ""
            },
            "colorscale": [
             [
              0.0,
              "#0d0887"
             ],
             [
              0.1111111111111111,
              "#46039f"
             ],
             [
              0.2222222222222222,
              "#7201a8"
             ],
             [
              0.3333333333333333,
              "#9c179e"
             ],
             [
              0.4444444444444444,
              "#bd3786"
             ],
             [
              0.5555555555555556,
              "#d8576b"
             ],
             [
              0.6666666666666666,
              "#ed7953"
             ],
             [
              0.7777777777777778,
              "#fb9f3a"
             ],
             [
              0.8888888888888888,
              "#fdca26"
             ],
             [
              1.0,
              "#f0f921"
             ]
            ]
           }
          ],
          "heatmap": [
           {
            "type": "heatmap",
            "colorbar": {
             "outlinewidth": 0,
             "ticks": ""
            },
            "colorscale": [
             [
              0.0,
              "#0d0887"
             ],
             [
              0.1111111111111111,
              "#46039f"
             ],
             [
              0.2222222222222222,
              "#7201a8"
             ],
             [
              0.3333333333333333,
              "#9c179e"
             ],
             [
              0.4444444444444444,
              "#bd3786"
             ],
             [
              0.5555555555555556,
              "#d8576b"
             ],
             [
              0.6666666666666666,
              "#ed7953"
             ],
             [
              0.7777777777777778,
              "#fb9f3a"
             ],
             [
              0.8888888888888888,
              "#fdca26"
             ],
             [
              1.0,
              "#f0f921"
             ]
            ]
           }
          ],
          "heatmapgl": [
           {
            "type": "heatmapgl",
            "colorbar": {
             "outlinewidth": 0,
             "ticks": ""
            },
            "colorscale": [
             [
              0.0,
              "#0d0887"
             ],
             [
              0.1111111111111111,
              "#46039f"
             ],
             [
              0.2222222222222222,
              "#7201a8"
             ],
             [
              0.3333333333333333,
              "#9c179e"
             ],
             [
              0.4444444444444444,
              "#bd3786"
             ],
             [
              0.5555555555555556,
              "#d8576b"
             ],
             [
              0.6666666666666666,
              "#ed7953"
             ],
             [
              0.7777777777777778,
              "#fb9f3a"
             ],
             [
              0.8888888888888888,
              "#fdca26"
             ],
             [
              1.0,
              "#f0f921"
             ]
            ]
           }
          ],
          "contourcarpet": [
           {
            "type": "contourcarpet",
            "colorbar": {
             "outlinewidth": 0,
             "ticks": ""
            }
           }
          ],
          "contour": [
           {
            "type": "contour",
            "colorbar": {
             "outlinewidth": 0,
             "ticks": ""
            },
            "colorscale": [
             [
              0.0,
              "#0d0887"
             ],
             [
              0.1111111111111111,
              "#46039f"
             ],
             [
              0.2222222222222222,
              "#7201a8"
             ],
             [
              0.3333333333333333,
              "#9c179e"
             ],
             [
              0.4444444444444444,
              "#bd3786"
             ],
             [
              0.5555555555555556,
              "#d8576b"
             ],
             [
              0.6666666666666666,
              "#ed7953"
             ],
             [
              0.7777777777777778,
              "#fb9f3a"
             ],
             [
              0.8888888888888888,
              "#fdca26"
             ],
             [
              1.0,
              "#f0f921"
             ]
            ]
           }
          ],
          "surface": [
           {
            "type": "surface",
            "colorbar": {
             "outlinewidth": 0,
             "ticks": ""
            },
            "colorscale": [
             [
              0.0,
              "#0d0887"
             ],
             [
              0.1111111111111111,
              "#46039f"
             ],
             [
              0.2222222222222222,
              "#7201a8"
             ],
             [
              0.3333333333333333,
              "#9c179e"
             ],
             [
              0.4444444444444444,
              "#bd3786"
             ],
             [
              0.5555555555555556,
              "#d8576b"
             ],
             [
              0.6666666666666666,
              "#ed7953"
             ],
             [
              0.7777777777777778,
              "#fb9f3a"
             ],
             [
              0.8888888888888888,
              "#fdca26"
             ],
             [
              1.0,
              "#f0f921"
             ]
            ]
           }
          ],
          "mesh3d": [
           {
            "type": "mesh3d",
            "colorbar": {
             "outlinewidth": 0,
             "ticks": ""
            }
           }
          ],
          "scatter": [
           {
            "fillpattern": {
             "fillmode": "overlay",
             "size": 10,
             "solidity": 0.2
            },
            "type": "scatter"
           }
          ],
          "parcoords": [
           {
            "type": "parcoords",
            "line": {
             "colorbar": {
              "outlinewidth": 0,
              "ticks": ""
             }
            }
           }
          ],
          "scatterpolargl": [
           {
            "type": "scatterpolargl",
            "marker": {
             "colorbar": {
              "outlinewidth": 0,
              "ticks": ""
             }
            }
           }
          ],
          "bar": [
           {
            "error_x": {
             "color": "#2a3f5f"
            },
            "error_y": {
             "color": "#2a3f5f"
            },
            "marker": {
             "line": {
              "color": "#E5ECF6",
              "width": 0.5
             },
             "pattern": {
              "fillmode": "overlay",
              "size": 10,
              "solidity": 0.2
             }
            },
            "type": "bar"
           }
          ],
          "scattergeo": [
           {
            "type": "scattergeo",
            "marker": {
             "colorbar": {
              "outlinewidth": 0,
              "ticks": ""
             }
            }
           }
          ],
          "scatterpolar": [
           {
            "type": "scatterpolar",
            "marker": {
             "colorbar": {
              "outlinewidth": 0,
              "ticks": ""
             }
            }
           }
          ],
          "histogram": [
           {
            "marker": {
             "pattern": {
              "fillmode": "overlay",
              "size": 10,
              "solidity": 0.2
             }
            },
            "type": "histogram"
           }
          ],
          "scattergl": [
           {
            "type": "scattergl",
            "marker": {
             "colorbar": {
              "outlinewidth": 0,
              "ticks": ""
             }
            }
           }
          ],
          "scatter3d": [
           {
            "type": "scatter3d",
            "line": {
             "colorbar": {
              "outlinewidth": 0,
              "ticks": ""
             }
            },
            "marker": {
             "colorbar": {
              "outlinewidth": 0,
              "ticks": ""
             }
            }
           }
          ],
          "scattermapbox": [
           {
            "type": "scattermapbox",
            "marker": {
             "colorbar": {
              "outlinewidth": 0,
              "ticks": ""
             }
            }
           }
          ],
          "scatterternary": [
           {
            "type": "scatterternary",
            "marker": {
             "colorbar": {
              "outlinewidth": 0,
              "ticks": ""
             }
            }
           }
          ],
          "scattercarpet": [
           {
            "type": "scattercarpet",
            "marker": {
             "colorbar": {
              "outlinewidth": 0,
              "ticks": ""
             }
            }
           }
          ],
          "carpet": [
           {
            "aaxis": {
             "endlinecolor": "#2a3f5f",
             "gridcolor": "white",
             "linecolor": "white",
             "minorgridcolor": "white",
             "startlinecolor": "#2a3f5f"
            },
            "baxis": {
             "endlinecolor": "#2a3f5f",
             "gridcolor": "white",
             "linecolor": "white",
             "minorgridcolor": "white",
             "startlinecolor": "#2a3f5f"
            },
            "type": "carpet"
           }
          ],
          "table": [
           {
            "cells": {
             "fill": {
              "color": "#EBF0F8"
             },
             "line": {
              "color": "white"
             }
            },
            "header": {
             "fill": {
              "color": "#C8D4E3"
             },
             "line": {
              "color": "white"
             }
            },
            "type": "table"
           }
          ],
          "barpolar": [
           {
            "marker": {
             "line": {
              "color": "#E5ECF6",
              "width": 0.5
             },
             "pattern": {
              "fillmode": "overlay",
              "size": 10,
              "solidity": 0.2
             }
            },
            "type": "barpolar"
           }
          ],
          "pie": [
           {
            "automargin": true,
            "type": "pie"
           }
          ]
         },
         "layout": {
          "autotypenumbers": "strict",
          "colorway": [
           "#636efa",
           "#EF553B",
           "#00cc96",
           "#ab63fa",
           "#FFA15A",
           "#19d3f3",
           "#FF6692",
           "#B6E880",
           "#FF97FF",
           "#FECB52"
          ],
          "font": {
           "color": "#2a3f5f"
          },
          "hovermode": "closest",
          "hoverlabel": {
           "align": "left"
          },
          "paper_bgcolor": "white",
          "plot_bgcolor": "#E5ECF6",
          "polar": {
           "bgcolor": "#E5ECF6",
           "angularaxis": {
            "gridcolor": "white",
            "linecolor": "white",
            "ticks": ""
           },
           "radialaxis": {
            "gridcolor": "white",
            "linecolor": "white",
            "ticks": ""
           }
          },
          "ternary": {
           "bgcolor": "#E5ECF6",
           "aaxis": {
            "gridcolor": "white",
            "linecolor": "white",
            "ticks": ""
           },
           "baxis": {
            "gridcolor": "white",
            "linecolor": "white",
            "ticks": ""
           },
           "caxis": {
            "gridcolor": "white",
            "linecolor": "white",
            "ticks": ""
           }
          },
          "coloraxis": {
           "colorbar": {
            "outlinewidth": 0,
            "ticks": ""
           }
          },
          "colorscale": {
           "sequential": [
            [
             0.0,
             "#0d0887"
            ],
            [
             0.1111111111111111,
             "#46039f"
            ],
            [
             0.2222222222222222,
             "#7201a8"
            ],
            [
             0.3333333333333333,
             "#9c179e"
            ],
            [
             0.4444444444444444,
             "#bd3786"
            ],
            [
             0.5555555555555556,
             "#d8576b"
            ],
            [
             0.6666666666666666,
             "#ed7953"
            ],
            [
             0.7777777777777778,
             "#fb9f3a"
            ],
            [
             0.8888888888888888,
             "#fdca26"
            ],
            [
             1.0,
             "#f0f921"
            ]
           ],
           "sequentialminus": [
            [
             0.0,
             "#0d0887"
            ],
            [
             0.1111111111111111,
             "#46039f"
            ],
            [
             0.2222222222222222,
             "#7201a8"
            ],
            [
             0.3333333333333333,
             "#9c179e"
            ],
            [
             0.4444444444444444,
             "#bd3786"
            ],
            [
             0.5555555555555556,
             "#d8576b"
            ],
            [
             0.6666666666666666,
             "#ed7953"
            ],
            [
             0.7777777777777778,
             "#fb9f3a"
            ],
            [
             0.8888888888888888,
             "#fdca26"
            ],
            [
             1.0,
             "#f0f921"
            ]
           ],
           "diverging": [
            [
             0,
             "#8e0152"
            ],
            [
             0.1,
             "#c51b7d"
            ],
            [
             0.2,
             "#de77ae"
            ],
            [
             0.3,
             "#f1b6da"
            ],
            [
             0.4,
             "#fde0ef"
            ],
            [
             0.5,
             "#f7f7f7"
            ],
            [
             0.6,
             "#e6f5d0"
            ],
            [
             0.7,
             "#b8e186"
            ],
            [
             0.8,
             "#7fbc41"
            ],
            [
             0.9,
             "#4d9221"
            ],
            [
             1,
             "#276419"
            ]
           ]
          },
          "xaxis": {
           "gridcolor": "white",
           "linecolor": "white",
           "ticks": "",
           "title": {
            "standoff": 15
           },
           "zerolinecolor": "white",
           "automargin": true,
           "zerolinewidth": 2
          },
          "yaxis": {
           "gridcolor": "white",
           "linecolor": "white",
           "ticks": "",
           "title": {
            "standoff": 15
           },
           "zerolinecolor": "white",
           "automargin": true,
           "zerolinewidth": 2
          },
          "scene": {
           "xaxis": {
            "backgroundcolor": "#E5ECF6",
            "gridcolor": "white",
            "linecolor": "white",
            "showbackground": true,
            "ticks": "",
            "zerolinecolor": "white",
            "gridwidth": 2
           },
           "yaxis": {
            "backgroundcolor": "#E5ECF6",
            "gridcolor": "white",
            "linecolor": "white",
            "showbackground": true,
            "ticks": "",
            "zerolinecolor": "white",
            "gridwidth": 2
           },
           "zaxis": {
            "backgroundcolor": "#E5ECF6",
            "gridcolor": "white",
            "linecolor": "white",
            "showbackground": true,
            "ticks": "",
            "zerolinecolor": "white",
            "gridwidth": 2
           }
          },
          "shapedefaults": {
           "line": {
            "color": "#2a3f5f"
           }
          },
          "annotationdefaults": {
           "arrowcolor": "#2a3f5f",
           "arrowhead": 0,
           "arrowwidth": 1
          },
          "geo": {
           "bgcolor": "white",
           "landcolor": "#E5ECF6",
           "subunitcolor": "white",
           "showland": true,
           "showlakes": true,
           "lakecolor": "white"
          },
          "title": {
           "x": 0.05
          },
          "mapbox": {
           "style": "light"
          }
         }
        }
       },
       "config": {
        "plotlyServerURL": "https://plot.ly"
       }
      },
      "text/html": "<div>                            <div id=\"21c7f1fa-a812-4930-a18b-b630dd0d488e\" class=\"plotly-graph-div\" style=\"height:525px; width:100%;\"></div>            <script type=\"text/javascript\">                require([\"plotly\"], function(Plotly) {                    window.PLOTLYENV=window.PLOTLYENV || {};                                    if (document.getElementById(\"21c7f1fa-a812-4930-a18b-b630dd0d488e\")) {                    Plotly.newPlot(                        \"21c7f1fa-a812-4930-a18b-b630dd0d488e\",                        [{\"name\":\"f(x)=x^2\",\"x\":[-5.0,-4.9,-4.800000000000001,-4.700000000000001,-4.600000000000001,-4.500000000000002,-4.400000000000002,-4.3000000000000025,-4.200000000000003,-4.100000000000003,-4.0000000000000036,-3.900000000000004,-3.8000000000000043,-3.7000000000000046,-3.600000000000005,-3.5000000000000053,-3.4000000000000057,-3.300000000000006,-3.2000000000000064,-3.1000000000000068,-3.000000000000007,-2.9000000000000075,-2.800000000000008,-2.700000000000008,-2.6000000000000085,-2.500000000000009,-2.4000000000000092,-2.3000000000000096,-2.20000000000001,-2.1000000000000103,-2.0000000000000107,-1.900000000000011,-1.8000000000000114,-1.7000000000000117,-1.600000000000012,-1.5000000000000124,-1.4000000000000128,-1.3000000000000131,-1.2000000000000135,-1.1000000000000139,-1.0000000000000142,-0.9000000000000146,-0.8000000000000149,-0.7000000000000153,-0.6000000000000156,-0.500000000000016,-0.40000000000001634,-0.3000000000000167,-0.20000000000001705,-0.10000000000001741,-1.7763568394002505e-14,0.09999999999998188,0.19999999999998153,0.29999999999998117,0.3999999999999808,0.49999999999998046,0.5999999999999801,0.6999999999999797,0.7999999999999794,0.899999999999979,0.9999999999999787,1.0999999999999783,1.199999999999978,1.2999999999999776,1.3999999999999773,1.499999999999977,1.5999999999999766,1.6999999999999762,1.7999999999999758,1.8999999999999755,1.9999999999999751,2.0999999999999748,2.1999999999999744,2.299999999999974,2.3999999999999737,2.4999999999999734,2.599999999999973,2.6999999999999726,2.7999999999999723,2.899999999999972,2.9999999999999716,3.0999999999999712,3.199999999999971,3.2999999999999705,3.39999999999997,3.49999999999997,3.5999999999999694,3.699999999999969,3.7999999999999687,3.8999999999999684,3.999999999999968,4.099999999999968,4.199999999999967,4.299999999999967,4.399999999999967,4.499999999999966,4.599999999999966,4.6999999999999655,4.799999999999965,4.899999999999965],\"y\":[25.0,24.010000000000005,23.040000000000006,22.09000000000001,21.160000000000014,20.250000000000018,19.360000000000017,18.49000000000002,17.640000000000025,16.810000000000027,16.00000000000003,15.210000000000031,14.440000000000033,13.690000000000035,12.960000000000036,12.250000000000037,11.560000000000038,10.89000000000004,10.240000000000041,9.610000000000042,9.000000000000043,8.410000000000043,7.840000000000043,7.2900000000000444,6.760000000000044,6.250000000000044,5.760000000000044,5.2900000000000444,4.840000000000043,4.410000000000044,4.000000000000043,3.610000000000042,3.240000000000041,2.8900000000000396,2.5600000000000387,2.2500000000000373,1.9600000000000357,1.6900000000000341,1.4400000000000324,1.2100000000000304,1.0000000000000284,0.8100000000000263,0.6400000000000239,0.49000000000002136,0.36000000000001875,0.250000000000016,0.16000000000001308,0.09000000000001002,0.04000000000000682,0.010000000000003482,3.155443620884047e-28,0.009999999999996376,0.03999999999999261,0.0899999999999887,0.15999999999998465,0.24999999999998046,0.3599999999999761,0.4899999999999716,0.639999999999967,0.8099999999999623,0.9999999999999574,1.2099999999999522,1.439999999999947,1.6899999999999418,1.9599999999999362,2.2499999999999307,2.559999999999925,2.889999999999919,3.239999999999913,3.609999999999907,3.9999999999999005,4.4099999999998944,4.839999999999887,5.289999999999881,5.759999999999874,6.249999999999867,6.7599999999998595,7.289999999999853,7.839999999999844,8.409999999999837,8.99999999999983,9.609999999999822,10.239999999999814,10.889999999999805,11.559999999999796,12.249999999999789,12.95999999999978,13.689999999999772,14.439999999999763,15.209999999999754,15.999999999999744,16.809999999999736,17.639999999999727,18.489999999999714,19.359999999999705,20.249999999999698,21.159999999999688,22.089999999999677,23.039999999999665,24.009999999999657],\"type\":\"scatter\"},{\"name\":\"g(x)=x\",\"x\":[-5.0,-4.9,-4.800000000000001,-4.700000000000001,-4.600000000000001,-4.500000000000002,-4.400000000000002,-4.3000000000000025,-4.200000000000003,-4.100000000000003,-4.0000000000000036,-3.900000000000004,-3.8000000000000043,-3.7000000000000046,-3.600000000000005,-3.5000000000000053,-3.4000000000000057,-3.300000000000006,-3.2000000000000064,-3.1000000000000068,-3.000000000000007,-2.9000000000000075,-2.800000000000008,-2.700000000000008,-2.6000000000000085,-2.500000000000009,-2.4000000000000092,-2.3000000000000096,-2.20000000000001,-2.1000000000000103,-2.0000000000000107,-1.900000000000011,-1.8000000000000114,-1.7000000000000117,-1.600000000000012,-1.5000000000000124,-1.4000000000000128,-1.3000000000000131,-1.2000000000000135,-1.1000000000000139,-1.0000000000000142,-0.9000000000000146,-0.8000000000000149,-0.7000000000000153,-0.6000000000000156,-0.500000000000016,-0.40000000000001634,-0.3000000000000167,-0.20000000000001705,-0.10000000000001741,-1.7763568394002505e-14,0.09999999999998188,0.19999999999998153,0.29999999999998117,0.3999999999999808,0.49999999999998046,0.5999999999999801,0.6999999999999797,0.7999999999999794,0.899999999999979,0.9999999999999787,1.0999999999999783,1.199999999999978,1.2999999999999776,1.3999999999999773,1.499999999999977,1.5999999999999766,1.6999999999999762,1.7999999999999758,1.8999999999999755,1.9999999999999751,2.0999999999999748,2.1999999999999744,2.299999999999974,2.3999999999999737,2.4999999999999734,2.599999999999973,2.6999999999999726,2.7999999999999723,2.899999999999972,2.9999999999999716,3.0999999999999712,3.199999999999971,3.2999999999999705,3.39999999999997,3.49999999999997,3.5999999999999694,3.699999999999969,3.7999999999999687,3.8999999999999684,3.999999999999968,4.099999999999968,4.199999999999967,4.299999999999967,4.399999999999967,4.499999999999966,4.599999999999966,4.6999999999999655,4.799999999999965,4.899999999999965],\"y\":[-5.0,-4.9,-4.800000000000001,-4.700000000000001,-4.600000000000001,-4.500000000000002,-4.400000000000002,-4.3000000000000025,-4.200000000000003,-4.100000000000003,-4.0000000000000036,-3.900000000000004,-3.8000000000000043,-3.7000000000000046,-3.600000000000005,-3.5000000000000053,-3.4000000000000057,-3.300000000000006,-3.2000000000000064,-3.1000000000000068,-3.000000000000007,-2.9000000000000075,-2.800000000000008,-2.700000000000008,-2.6000000000000085,-2.500000000000009,-2.4000000000000092,-2.3000000000000096,-2.20000000000001,-2.1000000000000103,-2.0000000000000107,-1.900000000000011,-1.8000000000000114,-1.7000000000000117,-1.600000000000012,-1.5000000000000124,-1.4000000000000128,-1.3000000000000131,-1.2000000000000135,-1.1000000000000139,-1.0000000000000142,-0.9000000000000146,-0.8000000000000149,-0.7000000000000153,-0.6000000000000156,-0.500000000000016,-0.40000000000001634,-0.3000000000000167,-0.20000000000001705,-0.10000000000001741,-1.7763568394002505e-14,0.09999999999998188,0.19999999999998153,0.29999999999998117,0.3999999999999808,0.49999999999998046,0.5999999999999801,0.6999999999999797,0.7999999999999794,0.899999999999979,0.9999999999999787,1.0999999999999783,1.199999999999978,1.2999999999999776,1.3999999999999773,1.499999999999977,1.5999999999999766,1.6999999999999762,1.7999999999999758,1.8999999999999755,1.9999999999999751,2.0999999999999748,2.1999999999999744,2.299999999999974,2.3999999999999737,2.4999999999999734,2.599999999999973,2.6999999999999726,2.7999999999999723,2.899999999999972,2.9999999999999716,3.0999999999999712,3.199999999999971,3.2999999999999705,3.39999999999997,3.49999999999997,3.5999999999999694,3.699999999999969,3.7999999999999687,3.8999999999999684,3.999999999999968,4.099999999999968,4.199999999999967,4.299999999999967,4.399999999999967,4.499999999999966,4.599999999999966,4.6999999999999655,4.799999999999965,4.899999999999965],\"type\":\"scatter\"}],                        {\"template\":{\"data\":{\"histogram2dcontour\":[{\"type\":\"histogram2dcontour\",\"colorbar\":{\"outlinewidth\":0,\"ticks\":\"\"},\"colorscale\":[[0.0,\"#0d0887\"],[0.1111111111111111,\"#46039f\"],[0.2222222222222222,\"#7201a8\"],[0.3333333333333333,\"#9c179e\"],[0.4444444444444444,\"#bd3786\"],[0.5555555555555556,\"#d8576b\"],[0.6666666666666666,\"#ed7953\"],[0.7777777777777778,\"#fb9f3a\"],[0.8888888888888888,\"#fdca26\"],[1.0,\"#f0f921\"]]}],\"choropleth\":[{\"type\":\"choropleth\",\"colorbar\":{\"outlinewidth\":0,\"ticks\":\"\"}}],\"histogram2d\":[{\"type\":\"histogram2d\",\"colorbar\":{\"outlinewidth\":0,\"ticks\":\"\"},\"colorscale\":[[0.0,\"#0d0887\"],[0.1111111111111111,\"#46039f\"],[0.2222222222222222,\"#7201a8\"],[0.3333333333333333,\"#9c179e\"],[0.4444444444444444,\"#bd3786\"],[0.5555555555555556,\"#d8576b\"],[0.6666666666666666,\"#ed7953\"],[0.7777777777777778,\"#fb9f3a\"],[0.8888888888888888,\"#fdca26\"],[1.0,\"#f0f921\"]]}],\"heatmap\":[{\"type\":\"heatmap\",\"colorbar\":{\"outlinewidth\":0,\"ticks\":\"\"},\"colorscale\":[[0.0,\"#0d0887\"],[0.1111111111111111,\"#46039f\"],[0.2222222222222222,\"#7201a8\"],[0.3333333333333333,\"#9c179e\"],[0.4444444444444444,\"#bd3786\"],[0.5555555555555556,\"#d8576b\"],[0.6666666666666666,\"#ed7953\"],[0.7777777777777778,\"#fb9f3a\"],[0.8888888888888888,\"#fdca26\"],[1.0,\"#f0f921\"]]}],\"heatmapgl\":[{\"type\":\"heatmapgl\",\"colorbar\":{\"outlinewidth\":0,\"ticks\":\"\"},\"colorscale\":[[0.0,\"#0d0887\"],[0.1111111111111111,\"#46039f\"],[0.2222222222222222,\"#7201a8\"],[0.3333333333333333,\"#9c179e\"],[0.4444444444444444,\"#bd3786\"],[0.5555555555555556,\"#d8576b\"],[0.6666666666666666,\"#ed7953\"],[0.7777777777777778,\"#fb9f3a\"],[0.8888888888888888,\"#fdca26\"],[1.0,\"#f0f921\"]]}],\"contourcarpet\":[{\"type\":\"contourcarpet\",\"colorbar\":{\"outlinewidth\":0,\"ticks\":\"\"}}],\"contour\":[{\"type\":\"contour\",\"colorbar\":{\"outlinewidth\":0,\"ticks\":\"\"},\"colorscale\":[[0.0,\"#0d0887\"],[0.1111111111111111,\"#46039f\"],[0.2222222222222222,\"#7201a8\"],[0.3333333333333333,\"#9c179e\"],[0.4444444444444444,\"#bd3786\"],[0.5555555555555556,\"#d8576b\"],[0.6666666666666666,\"#ed7953\"],[0.7777777777777778,\"#fb9f3a\"],[0.8888888888888888,\"#fdca26\"],[1.0,\"#f0f921\"]]}],\"surface\":[{\"type\":\"surface\",\"colorbar\":{\"outlinewidth\":0,\"ticks\":\"\"},\"colorscale\":[[0.0,\"#0d0887\"],[0.1111111111111111,\"#46039f\"],[0.2222222222222222,\"#7201a8\"],[0.3333333333333333,\"#9c179e\"],[0.4444444444444444,\"#bd3786\"],[0.5555555555555556,\"#d8576b\"],[0.6666666666666666,\"#ed7953\"],[0.7777777777777778,\"#fb9f3a\"],[0.8888888888888888,\"#fdca26\"],[1.0,\"#f0f921\"]]}],\"mesh3d\":[{\"type\":\"mesh3d\",\"colorbar\":{\"outlinewidth\":0,\"ticks\":\"\"}}],\"scatter\":[{\"fillpattern\":{\"fillmode\":\"overlay\",\"size\":10,\"solidity\":0.2},\"type\":\"scatter\"}],\"parcoords\":[{\"type\":\"parcoords\",\"line\":{\"colorbar\":{\"outlinewidth\":0,\"ticks\":\"\"}}}],\"scatterpolargl\":[{\"type\":\"scatterpolargl\",\"marker\":{\"colorbar\":{\"outlinewidth\":0,\"ticks\":\"\"}}}],\"bar\":[{\"error_x\":{\"color\":\"#2a3f5f\"},\"error_y\":{\"color\":\"#2a3f5f\"},\"marker\":{\"line\":{\"color\":\"#E5ECF6\",\"width\":0.5},\"pattern\":{\"fillmode\":\"overlay\",\"size\":10,\"solidity\":0.2}},\"type\":\"bar\"}],\"scattergeo\":[{\"type\":\"scattergeo\",\"marker\":{\"colorbar\":{\"outlinewidth\":0,\"ticks\":\"\"}}}],\"scatterpolar\":[{\"type\":\"scatterpolar\",\"marker\":{\"colorbar\":{\"outlinewidth\":0,\"ticks\":\"\"}}}],\"histogram\":[{\"marker\":{\"pattern\":{\"fillmode\":\"overlay\",\"size\":10,\"solidity\":0.2}},\"type\":\"histogram\"}],\"scattergl\":[{\"type\":\"scattergl\",\"marker\":{\"colorbar\":{\"outlinewidth\":0,\"ticks\":\"\"}}}],\"scatter3d\":[{\"type\":\"scatter3d\",\"line\":{\"colorbar\":{\"outlinewidth\":0,\"ticks\":\"\"}},\"marker\":{\"colorbar\":{\"outlinewidth\":0,\"ticks\":\"\"}}}],\"scattermapbox\":[{\"type\":\"scattermapbox\",\"marker\":{\"colorbar\":{\"outlinewidth\":0,\"ticks\":\"\"}}}],\"scatterternary\":[{\"type\":\"scatterternary\",\"marker\":{\"colorbar\":{\"outlinewidth\":0,\"ticks\":\"\"}}}],\"scattercarpet\":[{\"type\":\"scattercarpet\",\"marker\":{\"colorbar\":{\"outlinewidth\":0,\"ticks\":\"\"}}}],\"carpet\":[{\"aaxis\":{\"endlinecolor\":\"#2a3f5f\",\"gridcolor\":\"white\",\"linecolor\":\"white\",\"minorgridcolor\":\"white\",\"startlinecolor\":\"#2a3f5f\"},\"baxis\":{\"endlinecolor\":\"#2a3f5f\",\"gridcolor\":\"white\",\"linecolor\":\"white\",\"minorgridcolor\":\"white\",\"startlinecolor\":\"#2a3f5f\"},\"type\":\"carpet\"}],\"table\":[{\"cells\":{\"fill\":{\"color\":\"#EBF0F8\"},\"line\":{\"color\":\"white\"}},\"header\":{\"fill\":{\"color\":\"#C8D4E3\"},\"line\":{\"color\":\"white\"}},\"type\":\"table\"}],\"barpolar\":[{\"marker\":{\"line\":{\"color\":\"#E5ECF6\",\"width\":0.5},\"pattern\":{\"fillmode\":\"overlay\",\"size\":10,\"solidity\":0.2}},\"type\":\"barpolar\"}],\"pie\":[{\"automargin\":true,\"type\":\"pie\"}]},\"layout\":{\"autotypenumbers\":\"strict\",\"colorway\":[\"#636efa\",\"#EF553B\",\"#00cc96\",\"#ab63fa\",\"#FFA15A\",\"#19d3f3\",\"#FF6692\",\"#B6E880\",\"#FF97FF\",\"#FECB52\"],\"font\":{\"color\":\"#2a3f5f\"},\"hovermode\":\"closest\",\"hoverlabel\":{\"align\":\"left\"},\"paper_bgcolor\":\"white\",\"plot_bgcolor\":\"#E5ECF6\",\"polar\":{\"bgcolor\":\"#E5ECF6\",\"angularaxis\":{\"gridcolor\":\"white\",\"linecolor\":\"white\",\"ticks\":\"\"},\"radialaxis\":{\"gridcolor\":\"white\",\"linecolor\":\"white\",\"ticks\":\"\"}},\"ternary\":{\"bgcolor\":\"#E5ECF6\",\"aaxis\":{\"gridcolor\":\"white\",\"linecolor\":\"white\",\"ticks\":\"\"},\"baxis\":{\"gridcolor\":\"white\",\"linecolor\":\"white\",\"ticks\":\"\"},\"caxis\":{\"gridcolor\":\"white\",\"linecolor\":\"white\",\"ticks\":\"\"}},\"coloraxis\":{\"colorbar\":{\"outlinewidth\":0,\"ticks\":\"\"}},\"colorscale\":{\"sequential\":[[0.0,\"#0d0887\"],[0.1111111111111111,\"#46039f\"],[0.2222222222222222,\"#7201a8\"],[0.3333333333333333,\"#9c179e\"],[0.4444444444444444,\"#bd3786\"],[0.5555555555555556,\"#d8576b\"],[0.6666666666666666,\"#ed7953\"],[0.7777777777777778,\"#fb9f3a\"],[0.8888888888888888,\"#fdca26\"],[1.0,\"#f0f921\"]],\"sequentialminus\":[[0.0,\"#0d0887\"],[0.1111111111111111,\"#46039f\"],[0.2222222222222222,\"#7201a8\"],[0.3333333333333333,\"#9c179e\"],[0.4444444444444444,\"#bd3786\"],[0.5555555555555556,\"#d8576b\"],[0.6666666666666666,\"#ed7953\"],[0.7777777777777778,\"#fb9f3a\"],[0.8888888888888888,\"#fdca26\"],[1.0,\"#f0f921\"]],\"diverging\":[[0,\"#8e0152\"],[0.1,\"#c51b7d\"],[0.2,\"#de77ae\"],[0.3,\"#f1b6da\"],[0.4,\"#fde0ef\"],[0.5,\"#f7f7f7\"],[0.6,\"#e6f5d0\"],[0.7,\"#b8e186\"],[0.8,\"#7fbc41\"],[0.9,\"#4d9221\"],[1,\"#276419\"]]},\"xaxis\":{\"gridcolor\":\"white\",\"linecolor\":\"white\",\"ticks\":\"\",\"title\":{\"standoff\":15},\"zerolinecolor\":\"white\",\"automargin\":true,\"zerolinewidth\":2},\"yaxis\":{\"gridcolor\":\"white\",\"linecolor\":\"white\",\"ticks\":\"\",\"title\":{\"standoff\":15},\"zerolinecolor\":\"white\",\"automargin\":true,\"zerolinewidth\":2},\"scene\":{\"xaxis\":{\"backgroundcolor\":\"#E5ECF6\",\"gridcolor\":\"white\",\"linecolor\":\"white\",\"showbackground\":true,\"ticks\":\"\",\"zerolinecolor\":\"white\",\"gridwidth\":2},\"yaxis\":{\"backgroundcolor\":\"#E5ECF6\",\"gridcolor\":\"white\",\"linecolor\":\"white\",\"showbackground\":true,\"ticks\":\"\",\"zerolinecolor\":\"white\",\"gridwidth\":2},\"zaxis\":{\"backgroundcolor\":\"#E5ECF6\",\"gridcolor\":\"white\",\"linecolor\":\"white\",\"showbackground\":true,\"ticks\":\"\",\"zerolinecolor\":\"white\",\"gridwidth\":2}},\"shapedefaults\":{\"line\":{\"color\":\"#2a3f5f\"}},\"annotationdefaults\":{\"arrowcolor\":\"#2a3f5f\",\"arrowhead\":0,\"arrowwidth\":1},\"geo\":{\"bgcolor\":\"white\",\"landcolor\":\"#E5ECF6\",\"subunitcolor\":\"white\",\"showland\":true,\"showlakes\":true,\"lakecolor\":\"white\"},\"title\":{\"x\":0.05},\"mapbox\":{\"style\":\"light\"}}}},                        {\"responsive\": true}                    ).then(function(){\n                            \nvar gd = document.getElementById('21c7f1fa-a812-4930-a18b-b630dd0d488e');\nvar x = new MutationObserver(function (mutations, observer) {{\n        var display = window.getComputedStyle(gd).display;\n        if (!display || display === 'none') {{\n            console.log([gd, 'removed!']);\n            Plotly.purge(gd);\n            observer.disconnect();\n        }}\n}});\n\n// Listen for the removal of the full notebook cells\nvar notebookContainer = gd.closest('#notebook-container');\nif (notebookContainer) {{\n    x.observe(notebookContainer, {childList: true});\n}}\n\n// Listen for the clearing of the current output cell\nvar outputEl = gd.closest('.output');\nif (outputEl) {{\n    x.observe(outputEl, {childList: true});\n}}\n\n                        })                };                });            </script>        </div>"
     },
     "metadata": {},
     "output_type": "display_data"
    }
   ],
   "source": [
    "fig = go.Figure()\n",
    "fig.add_trace(go.Scatter(x=x, y=f(x), name='f(x)=x^2'))\n",
    "fig.add_trace(go.Scatter(x=x, y=x, name='g(x)=x'))\n",
    "fig.show()"
   ]
  },
  {
   "cell_type": "markdown",
   "id": "eb12ebe1",
   "metadata": {},
   "source": [
    "## Несколько графиков"
   ]
  },
  {
   "cell_type": "code",
   "execution_count": 236,
   "id": "2e8d75e0",
   "metadata": {},
   "outputs": [
    {
     "data": {
      "application/vnd.plotly.v1+json": {
       "data": [
        {
         "name": "h(x)=sin(x)",
         "x": [
          -5.0,
          -4.9,
          -4.800000000000001,
          -4.700000000000001,
          -4.600000000000001,
          -4.500000000000002,
          -4.400000000000002,
          -4.3000000000000025,
          -4.200000000000003,
          -4.100000000000003,
          -4.0000000000000036,
          -3.900000000000004,
          -3.8000000000000043,
          -3.7000000000000046,
          -3.600000000000005,
          -3.5000000000000053,
          -3.4000000000000057,
          -3.300000000000006,
          -3.2000000000000064,
          -3.1000000000000068,
          -3.000000000000007,
          -2.9000000000000075,
          -2.800000000000008,
          -2.700000000000008,
          -2.6000000000000085,
          -2.500000000000009,
          -2.4000000000000092,
          -2.3000000000000096,
          -2.20000000000001,
          -2.1000000000000103,
          -2.0000000000000107,
          -1.900000000000011,
          -1.8000000000000114,
          -1.7000000000000117,
          -1.600000000000012,
          -1.5000000000000124,
          -1.4000000000000128,
          -1.3000000000000131,
          -1.2000000000000135,
          -1.1000000000000139,
          -1.0000000000000142,
          -0.9000000000000146,
          -0.8000000000000149,
          -0.7000000000000153,
          -0.6000000000000156,
          -0.500000000000016,
          -0.40000000000001634,
          -0.3000000000000167,
          -0.20000000000001705,
          -0.10000000000001741,
          -1.7763568394002505E-14,
          0.09999999999998188,
          0.19999999999998153,
          0.29999999999998117,
          0.3999999999999808,
          0.49999999999998046,
          0.5999999999999801,
          0.6999999999999797,
          0.7999999999999794,
          0.899999999999979,
          0.9999999999999787,
          1.0999999999999783,
          1.199999999999978,
          1.2999999999999776,
          1.3999999999999773,
          1.499999999999977,
          1.5999999999999766,
          1.6999999999999762,
          1.7999999999999758,
          1.8999999999999755,
          1.9999999999999751,
          2.0999999999999748,
          2.1999999999999744,
          2.299999999999974,
          2.3999999999999737,
          2.4999999999999734,
          2.599999999999973,
          2.6999999999999726,
          2.7999999999999723,
          2.899999999999972,
          2.9999999999999716,
          3.0999999999999712,
          3.199999999999971,
          3.2999999999999705,
          3.39999999999997,
          3.49999999999997,
          3.5999999999999694,
          3.699999999999969,
          3.7999999999999687,
          3.8999999999999684,
          3.999999999999968,
          4.099999999999968,
          4.199999999999967,
          4.299999999999967,
          4.399999999999967,
          4.499999999999966,
          4.599999999999966,
          4.6999999999999655,
          4.799999999999965,
          4.899999999999965
         ],
         "y": [
          0.9589242746631385,
          0.9824526126243325,
          0.9961646088358406,
          0.9999232575641009,
          0.9936910036334646,
          0.9775301176650975,
          0.9516020738895166,
          0.916165936749456,
          0.8715757724135894,
          0.8182771110644124,
          0.7568024953079305,
          0.6877661591839767,
          0.6118578909427225,
          0.5298361409084972,
          0.44252044329485685,
          0.35078322768962483,
          0.25554110202683683,
          0.15774569414325434,
          0.058374143427586296,
          -0.04158066243328384,
          -0.1411200080598602,
          -0.2392493292139751,
          -0.33498815015589756,
          -0.42737988023382256,
          -0.5155013718214569,
          -0.5984721441039493,
          -0.6754631805511441,
          -0.7457052121767138,
          -0.8084964038195843,
          -0.8632093666488686,
          -0.9092974268256773,
          -0.9463000876874109,
          -0.9738476308781926,
          -0.9916648104524671,
          -0.9995736030415048,
          -0.9974949866040553,
          -0.9854497299884624,
          -0.9635581854171965,
          -0.9320390859672313,
          -0.8912073600614416,
          -0.8414709848079042,
          -0.7833269096274924,
          -0.7173560908995331,
          -0.6442176872377028,
          -0.5646424733950482,
          -0.47942553860421705,
          -0.38941834230866557,
          -0.29552020666135553,
          -0.19866933079507793,
          -0.09983341664684547,
          -1.7763568394002505E-14,
          0.09983341664681013,
          0.19866933079504312,
          0.29552020666132156,
          0.3894183423086328,
          0.47942553860418585,
          0.5646424733950189,
          0.6442176872376756,
          0.7173560908995084,
          0.7833269096274704,
          0.841470984807885,
          0.8912073600614255,
          0.9320390859672184,
          0.963558185417187,
          0.9854497299884564,
          0.9974949866040528,
          0.9995736030415059,
          0.9916648104524717,
          0.9738476308782007,
          0.9463000876874225,
          0.909297426825692,
          0.8632093666488865,
          0.8084964038196052,
          0.7457052121767375,
          0.6754631805511704,
          0.5984721441039779,
          0.5155013718214874,
          0.42737988023385465,
          0.33498815015593103,
          0.23924932921400957,
          0.14112000805989536,
          0.04158066243331933,
          -0.058374143427550824,
          -0.15774569414321926,
          -0.25554110202680247,
          -0.3507832276895916,
          -0.442520443294825,
          -0.529836140908467,
          -0.6118578909426944,
          -0.6877661591839509,
          -0.7568024953079073,
          -0.8182771110643919,
          -0.871575772413572,
          -0.9161659367494418,
          -0.9516020738895057,
          -0.9775301176650899,
          -0.9936910036334606,
          -0.9999232575641005,
          -0.9961646088358437,
          -0.982452612624339
         ],
         "type": "scatter",
         "xaxis": "x",
         "yaxis": "y",
         "hoverinfo": "all",
         "hovertemplate": "Аргумент: %{x}<br>Функция: %{y}"
        },
        {
         "name": "k(x)=cos(x)",
         "x": [
          -5.0,
          -4.9,
          -4.800000000000001,
          -4.700000000000001,
          -4.600000000000001,
          -4.500000000000002,
          -4.400000000000002,
          -4.3000000000000025,
          -4.200000000000003,
          -4.100000000000003,
          -4.0000000000000036,
          -3.900000000000004,
          -3.8000000000000043,
          -3.7000000000000046,
          -3.600000000000005,
          -3.5000000000000053,
          -3.4000000000000057,
          -3.300000000000006,
          -3.2000000000000064,
          -3.1000000000000068,
          -3.000000000000007,
          -2.9000000000000075,
          -2.800000000000008,
          -2.700000000000008,
          -2.6000000000000085,
          -2.500000000000009,
          -2.4000000000000092,
          -2.3000000000000096,
          -2.20000000000001,
          -2.1000000000000103,
          -2.0000000000000107,
          -1.900000000000011,
          -1.8000000000000114,
          -1.7000000000000117,
          -1.600000000000012,
          -1.5000000000000124,
          -1.4000000000000128,
          -1.3000000000000131,
          -1.2000000000000135,
          -1.1000000000000139,
          -1.0000000000000142,
          -0.9000000000000146,
          -0.8000000000000149,
          -0.7000000000000153,
          -0.6000000000000156,
          -0.500000000000016,
          -0.40000000000001634,
          -0.3000000000000167,
          -0.20000000000001705,
          -0.10000000000001741,
          -1.7763568394002505E-14,
          0.09999999999998188,
          0.19999999999998153,
          0.29999999999998117,
          0.3999999999999808,
          0.49999999999998046,
          0.5999999999999801,
          0.6999999999999797,
          0.7999999999999794,
          0.899999999999979,
          0.9999999999999787,
          1.0999999999999783,
          1.199999999999978,
          1.2999999999999776,
          1.3999999999999773,
          1.499999999999977,
          1.5999999999999766,
          1.6999999999999762,
          1.7999999999999758,
          1.8999999999999755,
          1.9999999999999751,
          2.0999999999999748,
          2.1999999999999744,
          2.299999999999974,
          2.3999999999999737,
          2.4999999999999734,
          2.599999999999973,
          2.6999999999999726,
          2.7999999999999723,
          2.899999999999972,
          2.9999999999999716,
          3.0999999999999712,
          3.199999999999971,
          3.2999999999999705,
          3.39999999999997,
          3.49999999999997,
          3.5999999999999694,
          3.699999999999969,
          3.7999999999999687,
          3.8999999999999684,
          3.999999999999968,
          4.099999999999968,
          4.199999999999967,
          4.299999999999967,
          4.399999999999967,
          4.499999999999966,
          4.599999999999966,
          4.6999999999999655,
          4.799999999999965,
          4.899999999999965
         ],
         "y": [
          0.28366218546322625,
          0.18651236942257576,
          0.08749898343944727,
          -0.012388663462889672,
          -0.1121525269350531,
          -0.21079579943077797,
          -0.30733286997841763,
          -0.400799172079973,
          -0.4902608213406971,
          -0.5748239465332663,
          -0.6536436208636093,
          -0.7259323042001374,
          -0.7909677119144141,
          -0.8481000317104057,
          -0.8967584163341448,
          -0.9364566872907945,
          -0.9667981925794595,
          -0.9874797699088639,
          -0.9982947757947527,
          -0.9991351502732797,
          -0.9899924966004464,
          -0.9709581651495923,
          -0.9422223406686607,
          -0.9040721420170647,
          -0.8568887533689517,
          -0.801143615546939,
          -0.7373937155412518,
          -0.6662760212798313,
          -0.5885011172553538,
          -0.5048461045998663,
          -0.41614683654715207,
          -0.32328956686351384,
          -0.22720209469309813,
          -0.12884449429553632,
          -0.0291995223013008,
          0.07073720166769051,
          0.16996714290022832,
          0.26749882862457475,
          0.362357754476661,
          0.45359612142556505,
          0.5403023058681278,
          0.6216099682706531,
          0.6967067093471547,
          0.7648421872844786,
          0.8253356149096694,
          0.8775825618903651,
          0.9210609940028787,
          0.9553364891256011,
          0.9800665778412383,
          0.995004165278024,
          1.0,
          0.9950041652780276,
          0.9800665778412453,
          0.9553364891256115,
          0.9210609940028925,
          0.8775825618903821,
          0.8253356149096895,
          0.7648421872845015,
          0.6967067093471802,
          0.6216099682706808,
          0.5403023058681576,
          0.4535961214255967,
          0.3623577544766941,
          0.267498828624609,
          0.16996714290026335,
          0.07073720166772594,
          -0.02919952230126529,
          -0.12884449429550107,
          -0.22720209469306352,
          -0.3232895668634802,
          -0.41614683654711976,
          -0.5048461045998357,
          -0.5885011172553251,
          -0.6662760212798049,
          -0.7373937155412278,
          -0.8011436155469178,
          -0.8568887533689333,
          -0.9040721420170494,
          -0.9422223406686489,
          -0.9709581651495838,
          -0.9899924966004414,
          -0.9991351502732783,
          -0.9982947757947548,
          -0.9874797699088695,
          -0.9667981925794686,
          -0.9364566872908069,
          -0.8967584163341605,
          -0.8481000317104246,
          -0.7909677119144358,
          -0.7259323042001619,
          -0.6536436208636361,
          -0.5748239465332954,
          -0.49026082134072807,
          -0.4007991720800056,
          -0.30733286997845144,
          -0.2107957994308127,
          -0.11215252693508841,
          -0.012388663462925196,
          0.08749898343941188,
          0.18651236942254085
         ],
         "type": "scatter",
         "xaxis": "x",
         "yaxis": "y",
         "hoverinfo": "all",
         "hovertemplate": "Аргумент: %{x}<br>Функция: %{y}"
        },
        {
         "name": "m(x)=tg(x)",
         "visible": "legendonly",
         "x": [
          -5.0,
          -4.9,
          -4.800000000000001,
          -4.700000000000001,
          -4.600000000000001,
          -4.500000000000002,
          -4.400000000000002,
          -4.3000000000000025,
          -4.200000000000003,
          -4.100000000000003,
          -4.0000000000000036,
          -3.900000000000004,
          -3.8000000000000043,
          -3.7000000000000046,
          -3.600000000000005,
          -3.5000000000000053,
          -3.4000000000000057,
          -3.300000000000006,
          -3.2000000000000064,
          -3.1000000000000068,
          -3.000000000000007,
          -2.9000000000000075,
          -2.800000000000008,
          -2.700000000000008,
          -2.6000000000000085,
          -2.500000000000009,
          -2.4000000000000092,
          -2.3000000000000096,
          -2.20000000000001,
          -2.1000000000000103,
          -2.0000000000000107,
          -1.900000000000011,
          -1.8000000000000114,
          -1.7000000000000117,
          -1.600000000000012,
          -1.5000000000000124,
          -1.4000000000000128,
          -1.3000000000000131,
          -1.2000000000000135,
          -1.1000000000000139,
          -1.0000000000000142,
          -0.9000000000000146,
          -0.8000000000000149,
          -0.7000000000000153,
          -0.6000000000000156,
          -0.500000000000016,
          -0.40000000000001634,
          -0.3000000000000167,
          -0.20000000000001705,
          -0.10000000000001741,
          -1.7763568394002505E-14,
          0.09999999999998188,
          0.19999999999998153,
          0.29999999999998117,
          0.3999999999999808,
          0.49999999999998046,
          0.5999999999999801,
          0.6999999999999797,
          0.7999999999999794,
          0.899999999999979,
          0.9999999999999787,
          1.0999999999999783,
          1.199999999999978,
          1.2999999999999776,
          1.3999999999999773,
          1.499999999999977,
          1.5999999999999766,
          1.6999999999999762,
          1.7999999999999758,
          1.8999999999999755,
          1.9999999999999751,
          2.0999999999999748,
          2.1999999999999744,
          2.299999999999974,
          2.3999999999999737,
          2.4999999999999734,
          2.599999999999973,
          2.6999999999999726,
          2.7999999999999723,
          2.899999999999972,
          2.9999999999999716,
          3.0999999999999712,
          3.199999999999971,
          3.2999999999999705,
          3.39999999999997,
          3.49999999999997,
          3.5999999999999694,
          3.699999999999969,
          3.7999999999999687,
          3.8999999999999684,
          3.999999999999968,
          4.099999999999968,
          4.199999999999967,
          4.299999999999967,
          4.399999999999967,
          4.499999999999966,
          4.599999999999966,
          4.6999999999999655,
          4.799999999999965,
          4.899999999999965
         ],
         "y": [
          3.380515006246585,
          5.267493065826737,
          11.384870654242805,
          -80.71276296748056,
          -8.860174895648187,
          -4.637332054551225,
          -3.0963237806497643,
          -2.285847877366997,
          -1.7777797745088526,
          -1.4235264831943757,
          -1.1578212823495857,
          -0.9474246499359003,
          -0.7735560905031329,
          -0.6247330752245701,
          -0.4934667299849099,
          -0.37458564015860074,
          -0.26431690086743137,
          -0.1597457476600386,
          -0.05847385445958488,
          0.04161665458562923,
          0.14254654307427053,
          0.24640539397195832,
          0.3555298316511671,
          0.4727276291030275,
          0.6015966130897471,
          0.7470222972386464,
          0.9160142896733934,
          1.1192136417341108,
          1.3738230567687666,
          1.7098465429044674,
          2.1850398632614576,
          2.9270975146776674,
          4.286261674627843,
          7.696602139458451,
          34.23253273554325,
          -14.101419947174206,
          -5.797883715483333,
          -3.602102447968162,
          -2.5721516221264222,
          -1.9647596572487194,
          -1.557407724654951,
          -1.2601582175503767,
          -1.0296385570503948,
          -0.8422883804631056,
          -0.6841368083417153,
          -0.5463024898438112,
          -0.4227932187381811,
          -0.3093362496096415,
          -0.2027100355086902,
          -0.10033467208546813,
          -1.7763568394002505E-14,
          0.10033467208543224,
          0.20271003550865327,
          0.3093362496096026,
          0.42279321873813913,
          0.5463024898437652,
          0.6841368083416631,
          0.8422883804630449,
          1.0296385570503215,
          1.2601582175502848,
          1.5574077246548288,
          1.9647596572485468,
          2.5721516221261513,
          3.6021024479676655,
          5.797883715482103,
          14.101419947167104,
          -34.232532735584925,
          -7.696602139460593,
          -4.286261674628531,
          -2.927097514678007,
          -2.1850398632616628,
          -1.709846542904607,
          -1.3738230567688694,
          -1.1192136417341907,
          -0.9160142896734588,
          -0.7470222972387017,
          -0.6015966130897955,
          -0.472727629103071,
          -0.3555298316512071,
          -0.246405393971996,
          -0.1425465430743068,
          -0.04161665458566482,
          0.05847385445954923,
          0.15974574766000219,
          0.26431690086739335,
          0.3745856401585603,
          0.4934667299848657,
          0.6247330752245206,
          0.7735560905030762,
          0.9474246499358329,
          1.1578212823495027,
          1.423526483194268,
          1.7777797745087047,
          2.285847877366776,
          3.0963237806493886,
          4.637332054550424,
          8.860174895645363,
          80.71276296724908,
          -11.384870654247447,
          -5.2674930658277574
         ],
         "type": "scatter",
         "xaxis": "x",
         "yaxis": "y",
         "hoverinfo": "all",
         "hovertemplate": "Аргумент: %{x}<br>Функция: %{y}"
        },
        {
         "mode": "markers",
         "name": "f(x)=x<sup>2</sup>",
         "x": [
          -5.0,
          -4.9,
          -4.800000000000001,
          -4.700000000000001,
          -4.600000000000001,
          -4.500000000000002,
          -4.400000000000002,
          -4.3000000000000025,
          -4.200000000000003,
          -4.100000000000003,
          -4.0000000000000036,
          -3.900000000000004,
          -3.8000000000000043,
          -3.7000000000000046,
          -3.600000000000005,
          -3.5000000000000053,
          -3.4000000000000057,
          -3.300000000000006,
          -3.2000000000000064,
          -3.1000000000000068,
          -3.000000000000007,
          -2.9000000000000075,
          -2.800000000000008,
          -2.700000000000008,
          -2.6000000000000085,
          -2.500000000000009,
          -2.4000000000000092,
          -2.3000000000000096,
          -2.20000000000001,
          -2.1000000000000103,
          -2.0000000000000107,
          -1.900000000000011,
          -1.8000000000000114,
          -1.7000000000000117,
          -1.600000000000012,
          -1.5000000000000124,
          -1.4000000000000128,
          -1.3000000000000131,
          -1.2000000000000135,
          -1.1000000000000139,
          -1.0000000000000142,
          -0.9000000000000146,
          -0.8000000000000149,
          -0.7000000000000153,
          -0.6000000000000156,
          -0.500000000000016,
          -0.40000000000001634,
          -0.3000000000000167,
          -0.20000000000001705,
          -0.10000000000001741,
          -1.7763568394002505E-14,
          0.09999999999998188,
          0.19999999999998153,
          0.29999999999998117,
          0.3999999999999808,
          0.49999999999998046,
          0.5999999999999801,
          0.6999999999999797,
          0.7999999999999794,
          0.899999999999979,
          0.9999999999999787,
          1.0999999999999783,
          1.199999999999978,
          1.2999999999999776,
          1.3999999999999773,
          1.499999999999977,
          1.5999999999999766,
          1.6999999999999762,
          1.7999999999999758,
          1.8999999999999755,
          1.9999999999999751,
          2.0999999999999748,
          2.1999999999999744,
          2.299999999999974,
          2.3999999999999737,
          2.4999999999999734,
          2.599999999999973,
          2.6999999999999726,
          2.7999999999999723,
          2.899999999999972,
          2.9999999999999716,
          3.0999999999999712,
          3.199999999999971,
          3.2999999999999705,
          3.39999999999997,
          3.49999999999997,
          3.5999999999999694,
          3.699999999999969,
          3.7999999999999687,
          3.8999999999999684,
          3.999999999999968,
          4.099999999999968,
          4.199999999999967,
          4.299999999999967,
          4.399999999999967,
          4.499999999999966,
          4.599999999999966,
          4.6999999999999655,
          4.799999999999965,
          4.899999999999965
         ],
         "y": [
          25.0,
          24.010000000000005,
          23.040000000000006,
          22.09000000000001,
          21.160000000000014,
          20.250000000000018,
          19.360000000000017,
          18.49000000000002,
          17.640000000000025,
          16.810000000000027,
          16.00000000000003,
          15.210000000000031,
          14.440000000000033,
          13.690000000000035,
          12.960000000000036,
          12.250000000000037,
          11.560000000000038,
          10.89000000000004,
          10.240000000000041,
          9.610000000000042,
          9.000000000000043,
          8.410000000000043,
          7.840000000000043,
          7.2900000000000444,
          6.760000000000044,
          6.250000000000044,
          5.760000000000044,
          5.2900000000000444,
          4.840000000000043,
          4.410000000000044,
          4.000000000000043,
          3.610000000000042,
          3.240000000000041,
          2.8900000000000396,
          2.5600000000000387,
          2.2500000000000373,
          1.9600000000000357,
          1.6900000000000341,
          1.4400000000000324,
          1.2100000000000304,
          1.0000000000000284,
          0.8100000000000263,
          0.6400000000000239,
          0.49000000000002136,
          0.36000000000001875,
          0.250000000000016,
          0.16000000000001308,
          0.09000000000001002,
          0.04000000000000682,
          0.010000000000003482,
          3.155443620884047E-28,
          0.009999999999996376,
          0.03999999999999261,
          0.0899999999999887,
          0.15999999999998465,
          0.24999999999998046,
          0.3599999999999761,
          0.4899999999999716,
          0.639999999999967,
          0.8099999999999623,
          0.9999999999999574,
          1.2099999999999522,
          1.439999999999947,
          1.6899999999999418,
          1.9599999999999362,
          2.2499999999999307,
          2.559999999999925,
          2.889999999999919,
          3.239999999999913,
          3.609999999999907,
          3.9999999999999005,
          4.4099999999998944,
          4.839999999999887,
          5.289999999999881,
          5.759999999999874,
          6.249999999999867,
          6.7599999999998595,
          7.289999999999853,
          7.839999999999844,
          8.409999999999837,
          8.99999999999983,
          9.609999999999822,
          10.239999999999814,
          10.889999999999805,
          11.559999999999796,
          12.249999999999789,
          12.95999999999978,
          13.689999999999772,
          14.439999999999763,
          15.209999999999754,
          15.999999999999744,
          16.809999999999736,
          17.639999999999727,
          18.489999999999714,
          19.359999999999705,
          20.249999999999698,
          21.159999999999688,
          22.089999999999677,
          23.039999999999665,
          24.009999999999657
         ],
         "type": "scatter",
         "xaxis": "x2",
         "yaxis": "y2",
         "hoverinfo": "all",
         "hovertemplate": "Аргумент: %{x}<br>Функция: %{y}"
        },
        {
         "marker": {
          "color": "LightSkyBlue",
          "line": {
           "color": "MediumPurple",
           "width": 5
          },
          "size": 20
         },
         "mode": "markers+lines",
         "name": "g(x)=x",
         "x": [
          -5.0,
          -4.9,
          -4.800000000000001,
          -4.700000000000001,
          -4.600000000000001,
          -4.500000000000002,
          -4.400000000000002,
          -4.3000000000000025,
          -4.200000000000003,
          -4.100000000000003,
          -4.0000000000000036,
          -3.900000000000004,
          -3.8000000000000043,
          -3.7000000000000046,
          -3.600000000000005,
          -3.5000000000000053,
          -3.4000000000000057,
          -3.300000000000006,
          -3.2000000000000064,
          -3.1000000000000068,
          -3.000000000000007,
          -2.9000000000000075,
          -2.800000000000008,
          -2.700000000000008,
          -2.6000000000000085,
          -2.500000000000009,
          -2.4000000000000092,
          -2.3000000000000096,
          -2.20000000000001,
          -2.1000000000000103,
          -2.0000000000000107,
          -1.900000000000011,
          -1.8000000000000114,
          -1.7000000000000117,
          -1.600000000000012,
          -1.5000000000000124,
          -1.4000000000000128,
          -1.3000000000000131,
          -1.2000000000000135,
          -1.1000000000000139,
          -1.0000000000000142,
          -0.9000000000000146,
          -0.8000000000000149,
          -0.7000000000000153,
          -0.6000000000000156,
          -0.500000000000016,
          -0.40000000000001634,
          -0.3000000000000167,
          -0.20000000000001705,
          -0.10000000000001741,
          -1.7763568394002505E-14,
          0.09999999999998188,
          0.19999999999998153,
          0.29999999999998117,
          0.3999999999999808,
          0.49999999999998046,
          0.5999999999999801,
          0.6999999999999797,
          0.7999999999999794,
          0.899999999999979,
          0.9999999999999787,
          1.0999999999999783,
          1.199999999999978,
          1.2999999999999776,
          1.3999999999999773,
          1.499999999999977,
          1.5999999999999766,
          1.6999999999999762,
          1.7999999999999758,
          1.8999999999999755,
          1.9999999999999751,
          2.0999999999999748,
          2.1999999999999744,
          2.299999999999974,
          2.3999999999999737,
          2.4999999999999734,
          2.599999999999973,
          2.6999999999999726,
          2.7999999999999723,
          2.899999999999972,
          2.9999999999999716,
          3.0999999999999712,
          3.199999999999971,
          3.2999999999999705,
          3.39999999999997,
          3.49999999999997,
          3.5999999999999694,
          3.699999999999969,
          3.7999999999999687,
          3.8999999999999684,
          3.999999999999968,
          4.099999999999968,
          4.199999999999967,
          4.299999999999967,
          4.399999999999967,
          4.499999999999966,
          4.599999999999966,
          4.6999999999999655,
          4.799999999999965,
          4.899999999999965
         ],
         "y": [
          -5.0,
          -4.9,
          -4.800000000000001,
          -4.700000000000001,
          -4.600000000000001,
          -4.500000000000002,
          -4.400000000000002,
          -4.3000000000000025,
          -4.200000000000003,
          -4.100000000000003,
          -4.0000000000000036,
          -3.900000000000004,
          -3.8000000000000043,
          -3.7000000000000046,
          -3.600000000000005,
          -3.5000000000000053,
          -3.4000000000000057,
          -3.300000000000006,
          -3.2000000000000064,
          -3.1000000000000068,
          -3.000000000000007,
          -2.9000000000000075,
          -2.800000000000008,
          -2.700000000000008,
          -2.6000000000000085,
          -2.500000000000009,
          -2.4000000000000092,
          -2.3000000000000096,
          -2.20000000000001,
          -2.1000000000000103,
          -2.0000000000000107,
          -1.900000000000011,
          -1.8000000000000114,
          -1.7000000000000117,
          -1.600000000000012,
          -1.5000000000000124,
          -1.4000000000000128,
          -1.3000000000000131,
          -1.2000000000000135,
          -1.1000000000000139,
          -1.0000000000000142,
          -0.9000000000000146,
          -0.8000000000000149,
          -0.7000000000000153,
          -0.6000000000000156,
          -0.500000000000016,
          -0.40000000000001634,
          -0.3000000000000167,
          -0.20000000000001705,
          -0.10000000000001741,
          -1.7763568394002505E-14,
          0.09999999999998188,
          0.19999999999998153,
          0.29999999999998117,
          0.3999999999999808,
          0.49999999999998046,
          0.5999999999999801,
          0.6999999999999797,
          0.7999999999999794,
          0.899999999999979,
          0.9999999999999787,
          1.0999999999999783,
          1.199999999999978,
          1.2999999999999776,
          1.3999999999999773,
          1.499999999999977,
          1.5999999999999766,
          1.6999999999999762,
          1.7999999999999758,
          1.8999999999999755,
          1.9999999999999751,
          2.0999999999999748,
          2.1999999999999744,
          2.299999999999974,
          2.3999999999999737,
          2.4999999999999734,
          2.599999999999973,
          2.6999999999999726,
          2.7999999999999723,
          2.899999999999972,
          2.9999999999999716,
          3.0999999999999712,
          3.199999999999971,
          3.2999999999999705,
          3.39999999999997,
          3.49999999999997,
          3.5999999999999694,
          3.699999999999969,
          3.7999999999999687,
          3.8999999999999684,
          3.999999999999968,
          4.099999999999968,
          4.199999999999967,
          4.299999999999967,
          4.399999999999967,
          4.499999999999966,
          4.599999999999966,
          4.6999999999999655,
          4.799999999999965,
          4.899999999999965
         ],
         "type": "scatter",
         "xaxis": "x2",
         "yaxis": "y2",
         "hoverinfo": "all",
         "hovertemplate": "Аргумент: %{x}<br>Функция: %{y}"
        }
       ],
       "layout": {
        "template": {
         "data": {
          "histogram2dcontour": [
           {
            "type": "histogram2dcontour",
            "colorbar": {
             "outlinewidth": 0,
             "ticks": ""
            },
            "colorscale": [
             [
              0.0,
              "#0d0887"
             ],
             [
              0.1111111111111111,
              "#46039f"
             ],
             [
              0.2222222222222222,
              "#7201a8"
             ],
             [
              0.3333333333333333,
              "#9c179e"
             ],
             [
              0.4444444444444444,
              "#bd3786"
             ],
             [
              0.5555555555555556,
              "#d8576b"
             ],
             [
              0.6666666666666666,
              "#ed7953"
             ],
             [
              0.7777777777777778,
              "#fb9f3a"
             ],
             [
              0.8888888888888888,
              "#fdca26"
             ],
             [
              1.0,
              "#f0f921"
             ]
            ]
           }
          ],
          "choropleth": [
           {
            "type": "choropleth",
            "colorbar": {
             "outlinewidth": 0,
             "ticks": ""
            }
           }
          ],
          "histogram2d": [
           {
            "type": "histogram2d",
            "colorbar": {
             "outlinewidth": 0,
             "ticks": ""
            },
            "colorscale": [
             [
              0.0,
              "#0d0887"
             ],
             [
              0.1111111111111111,
              "#46039f"
             ],
             [
              0.2222222222222222,
              "#7201a8"
             ],
             [
              0.3333333333333333,
              "#9c179e"
             ],
             [
              0.4444444444444444,
              "#bd3786"
             ],
             [
              0.5555555555555556,
              "#d8576b"
             ],
             [
              0.6666666666666666,
              "#ed7953"
             ],
             [
              0.7777777777777778,
              "#fb9f3a"
             ],
             [
              0.8888888888888888,
              "#fdca26"
             ],
             [
              1.0,
              "#f0f921"
             ]
            ]
           }
          ],
          "heatmap": [
           {
            "type": "heatmap",
            "colorbar": {
             "outlinewidth": 0,
             "ticks": ""
            },
            "colorscale": [
             [
              0.0,
              "#0d0887"
             ],
             [
              0.1111111111111111,
              "#46039f"
             ],
             [
              0.2222222222222222,
              "#7201a8"
             ],
             [
              0.3333333333333333,
              "#9c179e"
             ],
             [
              0.4444444444444444,
              "#bd3786"
             ],
             [
              0.5555555555555556,
              "#d8576b"
             ],
             [
              0.6666666666666666,
              "#ed7953"
             ],
             [
              0.7777777777777778,
              "#fb9f3a"
             ],
             [
              0.8888888888888888,
              "#fdca26"
             ],
             [
              1.0,
              "#f0f921"
             ]
            ]
           }
          ],
          "heatmapgl": [
           {
            "type": "heatmapgl",
            "colorbar": {
             "outlinewidth": 0,
             "ticks": ""
            },
            "colorscale": [
             [
              0.0,
              "#0d0887"
             ],
             [
              0.1111111111111111,
              "#46039f"
             ],
             [
              0.2222222222222222,
              "#7201a8"
             ],
             [
              0.3333333333333333,
              "#9c179e"
             ],
             [
              0.4444444444444444,
              "#bd3786"
             ],
             [
              0.5555555555555556,
              "#d8576b"
             ],
             [
              0.6666666666666666,
              "#ed7953"
             ],
             [
              0.7777777777777778,
              "#fb9f3a"
             ],
             [
              0.8888888888888888,
              "#fdca26"
             ],
             [
              1.0,
              "#f0f921"
             ]
            ]
           }
          ],
          "contourcarpet": [
           {
            "type": "contourcarpet",
            "colorbar": {
             "outlinewidth": 0,
             "ticks": ""
            }
           }
          ],
          "contour": [
           {
            "type": "contour",
            "colorbar": {
             "outlinewidth": 0,
             "ticks": ""
            },
            "colorscale": [
             [
              0.0,
              "#0d0887"
             ],
             [
              0.1111111111111111,
              "#46039f"
             ],
             [
              0.2222222222222222,
              "#7201a8"
             ],
             [
              0.3333333333333333,
              "#9c179e"
             ],
             [
              0.4444444444444444,
              "#bd3786"
             ],
             [
              0.5555555555555556,
              "#d8576b"
             ],
             [
              0.6666666666666666,
              "#ed7953"
             ],
             [
              0.7777777777777778,
              "#fb9f3a"
             ],
             [
              0.8888888888888888,
              "#fdca26"
             ],
             [
              1.0,
              "#f0f921"
             ]
            ]
           }
          ],
          "surface": [
           {
            "type": "surface",
            "colorbar": {
             "outlinewidth": 0,
             "ticks": ""
            },
            "colorscale": [
             [
              0.0,
              "#0d0887"
             ],
             [
              0.1111111111111111,
              "#46039f"
             ],
             [
              0.2222222222222222,
              "#7201a8"
             ],
             [
              0.3333333333333333,
              "#9c179e"
             ],
             [
              0.4444444444444444,
              "#bd3786"
             ],
             [
              0.5555555555555556,
              "#d8576b"
             ],
             [
              0.6666666666666666,
              "#ed7953"
             ],
             [
              0.7777777777777778,
              "#fb9f3a"
             ],
             [
              0.8888888888888888,
              "#fdca26"
             ],
             [
              1.0,
              "#f0f921"
             ]
            ]
           }
          ],
          "mesh3d": [
           {
            "type": "mesh3d",
            "colorbar": {
             "outlinewidth": 0,
             "ticks": ""
            }
           }
          ],
          "scatter": [
           {
            "fillpattern": {
             "fillmode": "overlay",
             "size": 10,
             "solidity": 0.2
            },
            "type": "scatter"
           }
          ],
          "parcoords": [
           {
            "type": "parcoords",
            "line": {
             "colorbar": {
              "outlinewidth": 0,
              "ticks": ""
             }
            }
           }
          ],
          "scatterpolargl": [
           {
            "type": "scatterpolargl",
            "marker": {
             "colorbar": {
              "outlinewidth": 0,
              "ticks": ""
             }
            }
           }
          ],
          "bar": [
           {
            "error_x": {
             "color": "#2a3f5f"
            },
            "error_y": {
             "color": "#2a3f5f"
            },
            "marker": {
             "line": {
              "color": "#E5ECF6",
              "width": 0.5
             },
             "pattern": {
              "fillmode": "overlay",
              "size": 10,
              "solidity": 0.2
             }
            },
            "type": "bar"
           }
          ],
          "scattergeo": [
           {
            "type": "scattergeo",
            "marker": {
             "colorbar": {
              "outlinewidth": 0,
              "ticks": ""
             }
            }
           }
          ],
          "scatterpolar": [
           {
            "type": "scatterpolar",
            "marker": {
             "colorbar": {
              "outlinewidth": 0,
              "ticks": ""
             }
            }
           }
          ],
          "histogram": [
           {
            "marker": {
             "pattern": {
              "fillmode": "overlay",
              "size": 10,
              "solidity": 0.2
             }
            },
            "type": "histogram"
           }
          ],
          "scattergl": [
           {
            "type": "scattergl",
            "marker": {
             "colorbar": {
              "outlinewidth": 0,
              "ticks": ""
             }
            }
           }
          ],
          "scatter3d": [
           {
            "type": "scatter3d",
            "line": {
             "colorbar": {
              "outlinewidth": 0,
              "ticks": ""
             }
            },
            "marker": {
             "colorbar": {
              "outlinewidth": 0,
              "ticks": ""
             }
            }
           }
          ],
          "scattermapbox": [
           {
            "type": "scattermapbox",
            "marker": {
             "colorbar": {
              "outlinewidth": 0,
              "ticks": ""
             }
            }
           }
          ],
          "scatterternary": [
           {
            "type": "scatterternary",
            "marker": {
             "colorbar": {
              "outlinewidth": 0,
              "ticks": ""
             }
            }
           }
          ],
          "scattercarpet": [
           {
            "type": "scattercarpet",
            "marker": {
             "colorbar": {
              "outlinewidth": 0,
              "ticks": ""
             }
            }
           }
          ],
          "carpet": [
           {
            "aaxis": {
             "endlinecolor": "#2a3f5f",
             "gridcolor": "white",
             "linecolor": "white",
             "minorgridcolor": "white",
             "startlinecolor": "#2a3f5f"
            },
            "baxis": {
             "endlinecolor": "#2a3f5f",
             "gridcolor": "white",
             "linecolor": "white",
             "minorgridcolor": "white",
             "startlinecolor": "#2a3f5f"
            },
            "type": "carpet"
           }
          ],
          "table": [
           {
            "cells": {
             "fill": {
              "color": "#EBF0F8"
             },
             "line": {
              "color": "white"
             }
            },
            "header": {
             "fill": {
              "color": "#C8D4E3"
             },
             "line": {
              "color": "white"
             }
            },
            "type": "table"
           }
          ],
          "barpolar": [
           {
            "marker": {
             "line": {
              "color": "#E5ECF6",
              "width": 0.5
             },
             "pattern": {
              "fillmode": "overlay",
              "size": 10,
              "solidity": 0.2
             }
            },
            "type": "barpolar"
           }
          ],
          "pie": [
           {
            "automargin": true,
            "type": "pie"
           }
          ]
         },
         "layout": {
          "autotypenumbers": "strict",
          "colorway": [
           "#636efa",
           "#EF553B",
           "#00cc96",
           "#ab63fa",
           "#FFA15A",
           "#19d3f3",
           "#FF6692",
           "#B6E880",
           "#FF97FF",
           "#FECB52"
          ],
          "font": {
           "color": "#2a3f5f"
          },
          "hovermode": "closest",
          "hoverlabel": {
           "align": "left"
          },
          "paper_bgcolor": "white",
          "plot_bgcolor": "#E5ECF6",
          "polar": {
           "bgcolor": "#E5ECF6",
           "angularaxis": {
            "gridcolor": "white",
            "linecolor": "white",
            "ticks": ""
           },
           "radialaxis": {
            "gridcolor": "white",
            "linecolor": "white",
            "ticks": ""
           }
          },
          "ternary": {
           "bgcolor": "#E5ECF6",
           "aaxis": {
            "gridcolor": "white",
            "linecolor": "white",
            "ticks": ""
           },
           "baxis": {
            "gridcolor": "white",
            "linecolor": "white",
            "ticks": ""
           },
           "caxis": {
            "gridcolor": "white",
            "linecolor": "white",
            "ticks": ""
           }
          },
          "coloraxis": {
           "colorbar": {
            "outlinewidth": 0,
            "ticks": ""
           }
          },
          "colorscale": {
           "sequential": [
            [
             0.0,
             "#0d0887"
            ],
            [
             0.1111111111111111,
             "#46039f"
            ],
            [
             0.2222222222222222,
             "#7201a8"
            ],
            [
             0.3333333333333333,
             "#9c179e"
            ],
            [
             0.4444444444444444,
             "#bd3786"
            ],
            [
             0.5555555555555556,
             "#d8576b"
            ],
            [
             0.6666666666666666,
             "#ed7953"
            ],
            [
             0.7777777777777778,
             "#fb9f3a"
            ],
            [
             0.8888888888888888,
             "#fdca26"
            ],
            [
             1.0,
             "#f0f921"
            ]
           ],
           "sequentialminus": [
            [
             0.0,
             "#0d0887"
            ],
            [
             0.1111111111111111,
             "#46039f"
            ],
            [
             0.2222222222222222,
             "#7201a8"
            ],
            [
             0.3333333333333333,
             "#9c179e"
            ],
            [
             0.4444444444444444,
             "#bd3786"
            ],
            [
             0.5555555555555556,
             "#d8576b"
            ],
            [
             0.6666666666666666,
             "#ed7953"
            ],
            [
             0.7777777777777778,
             "#fb9f3a"
            ],
            [
             0.8888888888888888,
             "#fdca26"
            ],
            [
             1.0,
             "#f0f921"
            ]
           ],
           "diverging": [
            [
             0,
             "#8e0152"
            ],
            [
             0.1,
             "#c51b7d"
            ],
            [
             0.2,
             "#de77ae"
            ],
            [
             0.3,
             "#f1b6da"
            ],
            [
             0.4,
             "#fde0ef"
            ],
            [
             0.5,
             "#f7f7f7"
            ],
            [
             0.6,
             "#e6f5d0"
            ],
            [
             0.7,
             "#b8e186"
            ],
            [
             0.8,
             "#7fbc41"
            ],
            [
             0.9,
             "#4d9221"
            ],
            [
             1,
             "#276419"
            ]
           ]
          },
          "xaxis": {
           "gridcolor": "white",
           "linecolor": "white",
           "ticks": "",
           "title": {
            "standoff": 15
           },
           "zerolinecolor": "white",
           "automargin": true,
           "zerolinewidth": 2
          },
          "yaxis": {
           "gridcolor": "white",
           "linecolor": "white",
           "ticks": "",
           "title": {
            "standoff": 15
           },
           "zerolinecolor": "white",
           "automargin": true,
           "zerolinewidth": 2
          },
          "scene": {
           "xaxis": {
            "backgroundcolor": "#E5ECF6",
            "gridcolor": "white",
            "linecolor": "white",
            "showbackground": true,
            "ticks": "",
            "zerolinecolor": "white",
            "gridwidth": 2
           },
           "yaxis": {
            "backgroundcolor": "#E5ECF6",
            "gridcolor": "white",
            "linecolor": "white",
            "showbackground": true,
            "ticks": "",
            "zerolinecolor": "white",
            "gridwidth": 2
           },
           "zaxis": {
            "backgroundcolor": "#E5ECF6",
            "gridcolor": "white",
            "linecolor": "white",
            "showbackground": true,
            "ticks": "",
            "zerolinecolor": "white",
            "gridwidth": 2
           }
          },
          "shapedefaults": {
           "line": {
            "color": "#2a3f5f"
           }
          },
          "annotationdefaults": {
           "arrowcolor": "#2a3f5f",
           "arrowhead": 0,
           "arrowwidth": 1
          },
          "geo": {
           "bgcolor": "white",
           "landcolor": "#E5ECF6",
           "subunitcolor": "white",
           "showland": true,
           "showlakes": true,
           "lakecolor": "white"
          },
          "title": {
           "x": 0.05
          },
          "mapbox": {
           "style": "light"
          }
         }
        },
        "xaxis": {
         "anchor": "y",
         "domain": [
          0.0,
          0.45
         ],
         "range": [
          -0.5,
          1.5
         ],
         "zeroline": true,
         "zerolinewidth": 2,
         "zerolinecolor": "#008000"
        },
        "yaxis": {
         "anchor": "x",
         "domain": [
          0.0,
          1.0
         ],
         "range": [
          -0.5,
          1.5
         ],
         "zeroline": true,
         "zerolinewidth": 1,
         "zerolinecolor": "LightPink"
        },
        "xaxis2": {
         "anchor": "y2",
         "domain": [
          0.55,
          1.0
         ],
         "range": [
          -0.5,
          1.5
         ],
         "zeroline": true,
         "zerolinewidth": 2,
         "zerolinecolor": "#008000"
        },
        "yaxis2": {
         "anchor": "x2",
         "domain": [
          0.0,
          1.0
         ],
         "range": [
          -0.5,
          1.5
         ],
         "zeroline": true,
         "zerolinewidth": 1,
         "zerolinecolor": "LightPink"
        },
        "legend": {
         "orientation": "h",
         "x": 0.5,
         "xanchor": "center"
        },
        "margin": {
         "l": 10,
         "r": 0,
         "t": 10,
         "b": 100
        }
       },
       "config": {
        "plotlyServerURL": "https://plot.ly"
       }
      },
      "text/html": "<div>                            <div id=\"8a9b583e-362c-4d14-b129-8d9cbbdadbdc\" class=\"plotly-graph-div\" style=\"height:525px; width:100%;\"></div>            <script type=\"text/javascript\">                require([\"plotly\"], function(Plotly) {                    window.PLOTLYENV=window.PLOTLYENV || {};                                    if (document.getElementById(\"8a9b583e-362c-4d14-b129-8d9cbbdadbdc\")) {                    Plotly.newPlot(                        \"8a9b583e-362c-4d14-b129-8d9cbbdadbdc\",                        [{\"name\":\"h(x)=sin(x)\",\"x\":[-5.0,-4.9,-4.800000000000001,-4.700000000000001,-4.600000000000001,-4.500000000000002,-4.400000000000002,-4.3000000000000025,-4.200000000000003,-4.100000000000003,-4.0000000000000036,-3.900000000000004,-3.8000000000000043,-3.7000000000000046,-3.600000000000005,-3.5000000000000053,-3.4000000000000057,-3.300000000000006,-3.2000000000000064,-3.1000000000000068,-3.000000000000007,-2.9000000000000075,-2.800000000000008,-2.700000000000008,-2.6000000000000085,-2.500000000000009,-2.4000000000000092,-2.3000000000000096,-2.20000000000001,-2.1000000000000103,-2.0000000000000107,-1.900000000000011,-1.8000000000000114,-1.7000000000000117,-1.600000000000012,-1.5000000000000124,-1.4000000000000128,-1.3000000000000131,-1.2000000000000135,-1.1000000000000139,-1.0000000000000142,-0.9000000000000146,-0.8000000000000149,-0.7000000000000153,-0.6000000000000156,-0.500000000000016,-0.40000000000001634,-0.3000000000000167,-0.20000000000001705,-0.10000000000001741,-1.7763568394002505e-14,0.09999999999998188,0.19999999999998153,0.29999999999998117,0.3999999999999808,0.49999999999998046,0.5999999999999801,0.6999999999999797,0.7999999999999794,0.899999999999979,0.9999999999999787,1.0999999999999783,1.199999999999978,1.2999999999999776,1.3999999999999773,1.499999999999977,1.5999999999999766,1.6999999999999762,1.7999999999999758,1.8999999999999755,1.9999999999999751,2.0999999999999748,2.1999999999999744,2.299999999999974,2.3999999999999737,2.4999999999999734,2.599999999999973,2.6999999999999726,2.7999999999999723,2.899999999999972,2.9999999999999716,3.0999999999999712,3.199999999999971,3.2999999999999705,3.39999999999997,3.49999999999997,3.5999999999999694,3.699999999999969,3.7999999999999687,3.8999999999999684,3.999999999999968,4.099999999999968,4.199999999999967,4.299999999999967,4.399999999999967,4.499999999999966,4.599999999999966,4.6999999999999655,4.799999999999965,4.899999999999965],\"y\":[0.9589242746631385,0.9824526126243325,0.9961646088358406,0.9999232575641009,0.9936910036334646,0.9775301176650975,0.9516020738895166,0.916165936749456,0.8715757724135894,0.8182771110644124,0.7568024953079305,0.6877661591839767,0.6118578909427225,0.5298361409084972,0.44252044329485685,0.35078322768962483,0.25554110202683683,0.15774569414325434,0.058374143427586296,-0.04158066243328384,-0.1411200080598602,-0.2392493292139751,-0.33498815015589756,-0.42737988023382256,-0.5155013718214569,-0.5984721441039493,-0.6754631805511441,-0.7457052121767138,-0.8084964038195843,-0.8632093666488686,-0.9092974268256773,-0.9463000876874109,-0.9738476308781926,-0.9916648104524671,-0.9995736030415048,-0.9974949866040553,-0.9854497299884624,-0.9635581854171965,-0.9320390859672313,-0.8912073600614416,-0.8414709848079042,-0.7833269096274924,-0.7173560908995331,-0.6442176872377028,-0.5646424733950482,-0.47942553860421705,-0.38941834230866557,-0.29552020666135553,-0.19866933079507793,-0.09983341664684547,-1.7763568394002505e-14,0.09983341664681013,0.19866933079504312,0.29552020666132156,0.3894183423086328,0.47942553860418585,0.5646424733950189,0.6442176872376756,0.7173560908995084,0.7833269096274704,0.841470984807885,0.8912073600614255,0.9320390859672184,0.963558185417187,0.9854497299884564,0.9974949866040528,0.9995736030415059,0.9916648104524717,0.9738476308782007,0.9463000876874225,0.909297426825692,0.8632093666488865,0.8084964038196052,0.7457052121767375,0.6754631805511704,0.5984721441039779,0.5155013718214874,0.42737988023385465,0.33498815015593103,0.23924932921400957,0.14112000805989536,0.04158066243331933,-0.058374143427550824,-0.15774569414321926,-0.25554110202680247,-0.3507832276895916,-0.442520443294825,-0.529836140908467,-0.6118578909426944,-0.6877661591839509,-0.7568024953079073,-0.8182771110643919,-0.871575772413572,-0.9161659367494418,-0.9516020738895057,-0.9775301176650899,-0.9936910036334606,-0.9999232575641005,-0.9961646088358437,-0.982452612624339],\"type\":\"scatter\",\"xaxis\":\"x\",\"yaxis\":\"y\",\"hoverinfo\":\"all\",\"hovertemplate\":\"\\u0410\\u0440\\u0433\\u0443\\u043c\\u0435\\u043d\\u0442: %{x}<br>\\u0424\\u0443\\u043d\\u043a\\u0446\\u0438\\u044f: %{y}\"},{\"name\":\"k(x)=cos(x)\",\"x\":[-5.0,-4.9,-4.800000000000001,-4.700000000000001,-4.600000000000001,-4.500000000000002,-4.400000000000002,-4.3000000000000025,-4.200000000000003,-4.100000000000003,-4.0000000000000036,-3.900000000000004,-3.8000000000000043,-3.7000000000000046,-3.600000000000005,-3.5000000000000053,-3.4000000000000057,-3.300000000000006,-3.2000000000000064,-3.1000000000000068,-3.000000000000007,-2.9000000000000075,-2.800000000000008,-2.700000000000008,-2.6000000000000085,-2.500000000000009,-2.4000000000000092,-2.3000000000000096,-2.20000000000001,-2.1000000000000103,-2.0000000000000107,-1.900000000000011,-1.8000000000000114,-1.7000000000000117,-1.600000000000012,-1.5000000000000124,-1.4000000000000128,-1.3000000000000131,-1.2000000000000135,-1.1000000000000139,-1.0000000000000142,-0.9000000000000146,-0.8000000000000149,-0.7000000000000153,-0.6000000000000156,-0.500000000000016,-0.40000000000001634,-0.3000000000000167,-0.20000000000001705,-0.10000000000001741,-1.7763568394002505e-14,0.09999999999998188,0.19999999999998153,0.29999999999998117,0.3999999999999808,0.49999999999998046,0.5999999999999801,0.6999999999999797,0.7999999999999794,0.899999999999979,0.9999999999999787,1.0999999999999783,1.199999999999978,1.2999999999999776,1.3999999999999773,1.499999999999977,1.5999999999999766,1.6999999999999762,1.7999999999999758,1.8999999999999755,1.9999999999999751,2.0999999999999748,2.1999999999999744,2.299999999999974,2.3999999999999737,2.4999999999999734,2.599999999999973,2.6999999999999726,2.7999999999999723,2.899999999999972,2.9999999999999716,3.0999999999999712,3.199999999999971,3.2999999999999705,3.39999999999997,3.49999999999997,3.5999999999999694,3.699999999999969,3.7999999999999687,3.8999999999999684,3.999999999999968,4.099999999999968,4.199999999999967,4.299999999999967,4.399999999999967,4.499999999999966,4.599999999999966,4.6999999999999655,4.799999999999965,4.899999999999965],\"y\":[0.28366218546322625,0.18651236942257576,0.08749898343944727,-0.012388663462889672,-0.1121525269350531,-0.21079579943077797,-0.30733286997841763,-0.400799172079973,-0.4902608213406971,-0.5748239465332663,-0.6536436208636093,-0.7259323042001374,-0.7909677119144141,-0.8481000317104057,-0.8967584163341448,-0.9364566872907945,-0.9667981925794595,-0.9874797699088639,-0.9982947757947527,-0.9991351502732797,-0.9899924966004464,-0.9709581651495923,-0.9422223406686607,-0.9040721420170647,-0.8568887533689517,-0.801143615546939,-0.7373937155412518,-0.6662760212798313,-0.5885011172553538,-0.5048461045998663,-0.41614683654715207,-0.32328956686351384,-0.22720209469309813,-0.12884449429553632,-0.0291995223013008,0.07073720166769051,0.16996714290022832,0.26749882862457475,0.362357754476661,0.45359612142556505,0.5403023058681278,0.6216099682706531,0.6967067093471547,0.7648421872844786,0.8253356149096694,0.8775825618903651,0.9210609940028787,0.9553364891256011,0.9800665778412383,0.995004165278024,1.0,0.9950041652780276,0.9800665778412453,0.9553364891256115,0.9210609940028925,0.8775825618903821,0.8253356149096895,0.7648421872845015,0.6967067093471802,0.6216099682706808,0.5403023058681576,0.4535961214255967,0.3623577544766941,0.267498828624609,0.16996714290026335,0.07073720166772594,-0.02919952230126529,-0.12884449429550107,-0.22720209469306352,-0.3232895668634802,-0.41614683654711976,-0.5048461045998357,-0.5885011172553251,-0.6662760212798049,-0.7373937155412278,-0.8011436155469178,-0.8568887533689333,-0.9040721420170494,-0.9422223406686489,-0.9709581651495838,-0.9899924966004414,-0.9991351502732783,-0.9982947757947548,-0.9874797699088695,-0.9667981925794686,-0.9364566872908069,-0.8967584163341605,-0.8481000317104246,-0.7909677119144358,-0.7259323042001619,-0.6536436208636361,-0.5748239465332954,-0.49026082134072807,-0.4007991720800056,-0.30733286997845144,-0.2107957994308127,-0.11215252693508841,-0.012388663462925196,0.08749898343941188,0.18651236942254085],\"type\":\"scatter\",\"xaxis\":\"x\",\"yaxis\":\"y\",\"hoverinfo\":\"all\",\"hovertemplate\":\"\\u0410\\u0440\\u0433\\u0443\\u043c\\u0435\\u043d\\u0442: %{x}<br>\\u0424\\u0443\\u043d\\u043a\\u0446\\u0438\\u044f: %{y}\"},{\"name\":\"m(x)=tg(x)\",\"visible\":\"legendonly\",\"x\":[-5.0,-4.9,-4.800000000000001,-4.700000000000001,-4.600000000000001,-4.500000000000002,-4.400000000000002,-4.3000000000000025,-4.200000000000003,-4.100000000000003,-4.0000000000000036,-3.900000000000004,-3.8000000000000043,-3.7000000000000046,-3.600000000000005,-3.5000000000000053,-3.4000000000000057,-3.300000000000006,-3.2000000000000064,-3.1000000000000068,-3.000000000000007,-2.9000000000000075,-2.800000000000008,-2.700000000000008,-2.6000000000000085,-2.500000000000009,-2.4000000000000092,-2.3000000000000096,-2.20000000000001,-2.1000000000000103,-2.0000000000000107,-1.900000000000011,-1.8000000000000114,-1.7000000000000117,-1.600000000000012,-1.5000000000000124,-1.4000000000000128,-1.3000000000000131,-1.2000000000000135,-1.1000000000000139,-1.0000000000000142,-0.9000000000000146,-0.8000000000000149,-0.7000000000000153,-0.6000000000000156,-0.500000000000016,-0.40000000000001634,-0.3000000000000167,-0.20000000000001705,-0.10000000000001741,-1.7763568394002505e-14,0.09999999999998188,0.19999999999998153,0.29999999999998117,0.3999999999999808,0.49999999999998046,0.5999999999999801,0.6999999999999797,0.7999999999999794,0.899999999999979,0.9999999999999787,1.0999999999999783,1.199999999999978,1.2999999999999776,1.3999999999999773,1.499999999999977,1.5999999999999766,1.6999999999999762,1.7999999999999758,1.8999999999999755,1.9999999999999751,2.0999999999999748,2.1999999999999744,2.299999999999974,2.3999999999999737,2.4999999999999734,2.599999999999973,2.6999999999999726,2.7999999999999723,2.899999999999972,2.9999999999999716,3.0999999999999712,3.199999999999971,3.2999999999999705,3.39999999999997,3.49999999999997,3.5999999999999694,3.699999999999969,3.7999999999999687,3.8999999999999684,3.999999999999968,4.099999999999968,4.199999999999967,4.299999999999967,4.399999999999967,4.499999999999966,4.599999999999966,4.6999999999999655,4.799999999999965,4.899999999999965],\"y\":[3.380515006246585,5.267493065826737,11.384870654242805,-80.71276296748056,-8.860174895648187,-4.637332054551225,-3.0963237806497643,-2.285847877366997,-1.7777797745088526,-1.4235264831943757,-1.1578212823495857,-0.9474246499359003,-0.7735560905031329,-0.6247330752245701,-0.4934667299849099,-0.37458564015860074,-0.26431690086743137,-0.1597457476600386,-0.05847385445958488,0.04161665458562923,0.14254654307427053,0.24640539397195832,0.3555298316511671,0.4727276291030275,0.6015966130897471,0.7470222972386464,0.9160142896733934,1.1192136417341108,1.3738230567687666,1.7098465429044674,2.1850398632614576,2.9270975146776674,4.286261674627843,7.696602139458451,34.23253273554325,-14.101419947174206,-5.797883715483333,-3.602102447968162,-2.5721516221264222,-1.9647596572487194,-1.557407724654951,-1.2601582175503767,-1.0296385570503948,-0.8422883804631056,-0.6841368083417153,-0.5463024898438112,-0.4227932187381811,-0.3093362496096415,-0.2027100355086902,-0.10033467208546813,-1.7763568394002505e-14,0.10033467208543224,0.20271003550865327,0.3093362496096026,0.42279321873813913,0.5463024898437652,0.6841368083416631,0.8422883804630449,1.0296385570503215,1.2601582175502848,1.5574077246548288,1.9647596572485468,2.5721516221261513,3.6021024479676655,5.797883715482103,14.101419947167104,-34.232532735584925,-7.696602139460593,-4.286261674628531,-2.927097514678007,-2.1850398632616628,-1.709846542904607,-1.3738230567688694,-1.1192136417341907,-0.9160142896734588,-0.7470222972387017,-0.6015966130897955,-0.472727629103071,-0.3555298316512071,-0.246405393971996,-0.1425465430743068,-0.04161665458566482,0.05847385445954923,0.15974574766000219,0.26431690086739335,0.3745856401585603,0.4934667299848657,0.6247330752245206,0.7735560905030762,0.9474246499358329,1.1578212823495027,1.423526483194268,1.7777797745087047,2.285847877366776,3.0963237806493886,4.637332054550424,8.860174895645363,80.71276296724908,-11.384870654247447,-5.2674930658277574],\"type\":\"scatter\",\"xaxis\":\"x\",\"yaxis\":\"y\",\"hoverinfo\":\"all\",\"hovertemplate\":\"\\u0410\\u0440\\u0433\\u0443\\u043c\\u0435\\u043d\\u0442: %{x}<br>\\u0424\\u0443\\u043d\\u043a\\u0446\\u0438\\u044f: %{y}\"},{\"mode\":\"markers\",\"name\":\"f(x)=x<sup>2</sup>\",\"x\":[-5.0,-4.9,-4.800000000000001,-4.700000000000001,-4.600000000000001,-4.500000000000002,-4.400000000000002,-4.3000000000000025,-4.200000000000003,-4.100000000000003,-4.0000000000000036,-3.900000000000004,-3.8000000000000043,-3.7000000000000046,-3.600000000000005,-3.5000000000000053,-3.4000000000000057,-3.300000000000006,-3.2000000000000064,-3.1000000000000068,-3.000000000000007,-2.9000000000000075,-2.800000000000008,-2.700000000000008,-2.6000000000000085,-2.500000000000009,-2.4000000000000092,-2.3000000000000096,-2.20000000000001,-2.1000000000000103,-2.0000000000000107,-1.900000000000011,-1.8000000000000114,-1.7000000000000117,-1.600000000000012,-1.5000000000000124,-1.4000000000000128,-1.3000000000000131,-1.2000000000000135,-1.1000000000000139,-1.0000000000000142,-0.9000000000000146,-0.8000000000000149,-0.7000000000000153,-0.6000000000000156,-0.500000000000016,-0.40000000000001634,-0.3000000000000167,-0.20000000000001705,-0.10000000000001741,-1.7763568394002505e-14,0.09999999999998188,0.19999999999998153,0.29999999999998117,0.3999999999999808,0.49999999999998046,0.5999999999999801,0.6999999999999797,0.7999999999999794,0.899999999999979,0.9999999999999787,1.0999999999999783,1.199999999999978,1.2999999999999776,1.3999999999999773,1.499999999999977,1.5999999999999766,1.6999999999999762,1.7999999999999758,1.8999999999999755,1.9999999999999751,2.0999999999999748,2.1999999999999744,2.299999999999974,2.3999999999999737,2.4999999999999734,2.599999999999973,2.6999999999999726,2.7999999999999723,2.899999999999972,2.9999999999999716,3.0999999999999712,3.199999999999971,3.2999999999999705,3.39999999999997,3.49999999999997,3.5999999999999694,3.699999999999969,3.7999999999999687,3.8999999999999684,3.999999999999968,4.099999999999968,4.199999999999967,4.299999999999967,4.399999999999967,4.499999999999966,4.599999999999966,4.6999999999999655,4.799999999999965,4.899999999999965],\"y\":[25.0,24.010000000000005,23.040000000000006,22.09000000000001,21.160000000000014,20.250000000000018,19.360000000000017,18.49000000000002,17.640000000000025,16.810000000000027,16.00000000000003,15.210000000000031,14.440000000000033,13.690000000000035,12.960000000000036,12.250000000000037,11.560000000000038,10.89000000000004,10.240000000000041,9.610000000000042,9.000000000000043,8.410000000000043,7.840000000000043,7.2900000000000444,6.760000000000044,6.250000000000044,5.760000000000044,5.2900000000000444,4.840000000000043,4.410000000000044,4.000000000000043,3.610000000000042,3.240000000000041,2.8900000000000396,2.5600000000000387,2.2500000000000373,1.9600000000000357,1.6900000000000341,1.4400000000000324,1.2100000000000304,1.0000000000000284,0.8100000000000263,0.6400000000000239,0.49000000000002136,0.36000000000001875,0.250000000000016,0.16000000000001308,0.09000000000001002,0.04000000000000682,0.010000000000003482,3.155443620884047e-28,0.009999999999996376,0.03999999999999261,0.0899999999999887,0.15999999999998465,0.24999999999998046,0.3599999999999761,0.4899999999999716,0.639999999999967,0.8099999999999623,0.9999999999999574,1.2099999999999522,1.439999999999947,1.6899999999999418,1.9599999999999362,2.2499999999999307,2.559999999999925,2.889999999999919,3.239999999999913,3.609999999999907,3.9999999999999005,4.4099999999998944,4.839999999999887,5.289999999999881,5.759999999999874,6.249999999999867,6.7599999999998595,7.289999999999853,7.839999999999844,8.409999999999837,8.99999999999983,9.609999999999822,10.239999999999814,10.889999999999805,11.559999999999796,12.249999999999789,12.95999999999978,13.689999999999772,14.439999999999763,15.209999999999754,15.999999999999744,16.809999999999736,17.639999999999727,18.489999999999714,19.359999999999705,20.249999999999698,21.159999999999688,22.089999999999677,23.039999999999665,24.009999999999657],\"type\":\"scatter\",\"xaxis\":\"x2\",\"yaxis\":\"y2\",\"hoverinfo\":\"all\",\"hovertemplate\":\"\\u0410\\u0440\\u0433\\u0443\\u043c\\u0435\\u043d\\u0442: %{x}<br>\\u0424\\u0443\\u043d\\u043a\\u0446\\u0438\\u044f: %{y}\"},{\"marker\":{\"color\":\"LightSkyBlue\",\"line\":{\"color\":\"MediumPurple\",\"width\":5},\"size\":20},\"mode\":\"markers+lines\",\"name\":\"g(x)=x\",\"x\":[-5.0,-4.9,-4.800000000000001,-4.700000000000001,-4.600000000000001,-4.500000000000002,-4.400000000000002,-4.3000000000000025,-4.200000000000003,-4.100000000000003,-4.0000000000000036,-3.900000000000004,-3.8000000000000043,-3.7000000000000046,-3.600000000000005,-3.5000000000000053,-3.4000000000000057,-3.300000000000006,-3.2000000000000064,-3.1000000000000068,-3.000000000000007,-2.9000000000000075,-2.800000000000008,-2.700000000000008,-2.6000000000000085,-2.500000000000009,-2.4000000000000092,-2.3000000000000096,-2.20000000000001,-2.1000000000000103,-2.0000000000000107,-1.900000000000011,-1.8000000000000114,-1.7000000000000117,-1.600000000000012,-1.5000000000000124,-1.4000000000000128,-1.3000000000000131,-1.2000000000000135,-1.1000000000000139,-1.0000000000000142,-0.9000000000000146,-0.8000000000000149,-0.7000000000000153,-0.6000000000000156,-0.500000000000016,-0.40000000000001634,-0.3000000000000167,-0.20000000000001705,-0.10000000000001741,-1.7763568394002505e-14,0.09999999999998188,0.19999999999998153,0.29999999999998117,0.3999999999999808,0.49999999999998046,0.5999999999999801,0.6999999999999797,0.7999999999999794,0.899999999999979,0.9999999999999787,1.0999999999999783,1.199999999999978,1.2999999999999776,1.3999999999999773,1.499999999999977,1.5999999999999766,1.6999999999999762,1.7999999999999758,1.8999999999999755,1.9999999999999751,2.0999999999999748,2.1999999999999744,2.299999999999974,2.3999999999999737,2.4999999999999734,2.599999999999973,2.6999999999999726,2.7999999999999723,2.899999999999972,2.9999999999999716,3.0999999999999712,3.199999999999971,3.2999999999999705,3.39999999999997,3.49999999999997,3.5999999999999694,3.699999999999969,3.7999999999999687,3.8999999999999684,3.999999999999968,4.099999999999968,4.199999999999967,4.299999999999967,4.399999999999967,4.499999999999966,4.599999999999966,4.6999999999999655,4.799999999999965,4.899999999999965],\"y\":[-5.0,-4.9,-4.800000000000001,-4.700000000000001,-4.600000000000001,-4.500000000000002,-4.400000000000002,-4.3000000000000025,-4.200000000000003,-4.100000000000003,-4.0000000000000036,-3.900000000000004,-3.8000000000000043,-3.7000000000000046,-3.600000000000005,-3.5000000000000053,-3.4000000000000057,-3.300000000000006,-3.2000000000000064,-3.1000000000000068,-3.000000000000007,-2.9000000000000075,-2.800000000000008,-2.700000000000008,-2.6000000000000085,-2.500000000000009,-2.4000000000000092,-2.3000000000000096,-2.20000000000001,-2.1000000000000103,-2.0000000000000107,-1.900000000000011,-1.8000000000000114,-1.7000000000000117,-1.600000000000012,-1.5000000000000124,-1.4000000000000128,-1.3000000000000131,-1.2000000000000135,-1.1000000000000139,-1.0000000000000142,-0.9000000000000146,-0.8000000000000149,-0.7000000000000153,-0.6000000000000156,-0.500000000000016,-0.40000000000001634,-0.3000000000000167,-0.20000000000001705,-0.10000000000001741,-1.7763568394002505e-14,0.09999999999998188,0.19999999999998153,0.29999999999998117,0.3999999999999808,0.49999999999998046,0.5999999999999801,0.6999999999999797,0.7999999999999794,0.899999999999979,0.9999999999999787,1.0999999999999783,1.199999999999978,1.2999999999999776,1.3999999999999773,1.499999999999977,1.5999999999999766,1.6999999999999762,1.7999999999999758,1.8999999999999755,1.9999999999999751,2.0999999999999748,2.1999999999999744,2.299999999999974,2.3999999999999737,2.4999999999999734,2.599999999999973,2.6999999999999726,2.7999999999999723,2.899999999999972,2.9999999999999716,3.0999999999999712,3.199999999999971,3.2999999999999705,3.39999999999997,3.49999999999997,3.5999999999999694,3.699999999999969,3.7999999999999687,3.8999999999999684,3.999999999999968,4.099999999999968,4.199999999999967,4.299999999999967,4.399999999999967,4.499999999999966,4.599999999999966,4.6999999999999655,4.799999999999965,4.899999999999965],\"type\":\"scatter\",\"xaxis\":\"x2\",\"yaxis\":\"y2\",\"hoverinfo\":\"all\",\"hovertemplate\":\"\\u0410\\u0440\\u0433\\u0443\\u043c\\u0435\\u043d\\u0442: %{x}<br>\\u0424\\u0443\\u043d\\u043a\\u0446\\u0438\\u044f: %{y}\"}],                        {\"template\":{\"data\":{\"histogram2dcontour\":[{\"type\":\"histogram2dcontour\",\"colorbar\":{\"outlinewidth\":0,\"ticks\":\"\"},\"colorscale\":[[0.0,\"#0d0887\"],[0.1111111111111111,\"#46039f\"],[0.2222222222222222,\"#7201a8\"],[0.3333333333333333,\"#9c179e\"],[0.4444444444444444,\"#bd3786\"],[0.5555555555555556,\"#d8576b\"],[0.6666666666666666,\"#ed7953\"],[0.7777777777777778,\"#fb9f3a\"],[0.8888888888888888,\"#fdca26\"],[1.0,\"#f0f921\"]]}],\"choropleth\":[{\"type\":\"choropleth\",\"colorbar\":{\"outlinewidth\":0,\"ticks\":\"\"}}],\"histogram2d\":[{\"type\":\"histogram2d\",\"colorbar\":{\"outlinewidth\":0,\"ticks\":\"\"},\"colorscale\":[[0.0,\"#0d0887\"],[0.1111111111111111,\"#46039f\"],[0.2222222222222222,\"#7201a8\"],[0.3333333333333333,\"#9c179e\"],[0.4444444444444444,\"#bd3786\"],[0.5555555555555556,\"#d8576b\"],[0.6666666666666666,\"#ed7953\"],[0.7777777777777778,\"#fb9f3a\"],[0.8888888888888888,\"#fdca26\"],[1.0,\"#f0f921\"]]}],\"heatmap\":[{\"type\":\"heatmap\",\"colorbar\":{\"outlinewidth\":0,\"ticks\":\"\"},\"colorscale\":[[0.0,\"#0d0887\"],[0.1111111111111111,\"#46039f\"],[0.2222222222222222,\"#7201a8\"],[0.3333333333333333,\"#9c179e\"],[0.4444444444444444,\"#bd3786\"],[0.5555555555555556,\"#d8576b\"],[0.6666666666666666,\"#ed7953\"],[0.7777777777777778,\"#fb9f3a\"],[0.8888888888888888,\"#fdca26\"],[1.0,\"#f0f921\"]]}],\"heatmapgl\":[{\"type\":\"heatmapgl\",\"colorbar\":{\"outlinewidth\":0,\"ticks\":\"\"},\"colorscale\":[[0.0,\"#0d0887\"],[0.1111111111111111,\"#46039f\"],[0.2222222222222222,\"#7201a8\"],[0.3333333333333333,\"#9c179e\"],[0.4444444444444444,\"#bd3786\"],[0.5555555555555556,\"#d8576b\"],[0.6666666666666666,\"#ed7953\"],[0.7777777777777778,\"#fb9f3a\"],[0.8888888888888888,\"#fdca26\"],[1.0,\"#f0f921\"]]}],\"contourcarpet\":[{\"type\":\"contourcarpet\",\"colorbar\":{\"outlinewidth\":0,\"ticks\":\"\"}}],\"contour\":[{\"type\":\"contour\",\"colorbar\":{\"outlinewidth\":0,\"ticks\":\"\"},\"colorscale\":[[0.0,\"#0d0887\"],[0.1111111111111111,\"#46039f\"],[0.2222222222222222,\"#7201a8\"],[0.3333333333333333,\"#9c179e\"],[0.4444444444444444,\"#bd3786\"],[0.5555555555555556,\"#d8576b\"],[0.6666666666666666,\"#ed7953\"],[0.7777777777777778,\"#fb9f3a\"],[0.8888888888888888,\"#fdca26\"],[1.0,\"#f0f921\"]]}],\"surface\":[{\"type\":\"surface\",\"colorbar\":{\"outlinewidth\":0,\"ticks\":\"\"},\"colorscale\":[[0.0,\"#0d0887\"],[0.1111111111111111,\"#46039f\"],[0.2222222222222222,\"#7201a8\"],[0.3333333333333333,\"#9c179e\"],[0.4444444444444444,\"#bd3786\"],[0.5555555555555556,\"#d8576b\"],[0.6666666666666666,\"#ed7953\"],[0.7777777777777778,\"#fb9f3a\"],[0.8888888888888888,\"#fdca26\"],[1.0,\"#f0f921\"]]}],\"mesh3d\":[{\"type\":\"mesh3d\",\"colorbar\":{\"outlinewidth\":0,\"ticks\":\"\"}}],\"scatter\":[{\"fillpattern\":{\"fillmode\":\"overlay\",\"size\":10,\"solidity\":0.2},\"type\":\"scatter\"}],\"parcoords\":[{\"type\":\"parcoords\",\"line\":{\"colorbar\":{\"outlinewidth\":0,\"ticks\":\"\"}}}],\"scatterpolargl\":[{\"type\":\"scatterpolargl\",\"marker\":{\"colorbar\":{\"outlinewidth\":0,\"ticks\":\"\"}}}],\"bar\":[{\"error_x\":{\"color\":\"#2a3f5f\"},\"error_y\":{\"color\":\"#2a3f5f\"},\"marker\":{\"line\":{\"color\":\"#E5ECF6\",\"width\":0.5},\"pattern\":{\"fillmode\":\"overlay\",\"size\":10,\"solidity\":0.2}},\"type\":\"bar\"}],\"scattergeo\":[{\"type\":\"scattergeo\",\"marker\":{\"colorbar\":{\"outlinewidth\":0,\"ticks\":\"\"}}}],\"scatterpolar\":[{\"type\":\"scatterpolar\",\"marker\":{\"colorbar\":{\"outlinewidth\":0,\"ticks\":\"\"}}}],\"histogram\":[{\"marker\":{\"pattern\":{\"fillmode\":\"overlay\",\"size\":10,\"solidity\":0.2}},\"type\":\"histogram\"}],\"scattergl\":[{\"type\":\"scattergl\",\"marker\":{\"colorbar\":{\"outlinewidth\":0,\"ticks\":\"\"}}}],\"scatter3d\":[{\"type\":\"scatter3d\",\"line\":{\"colorbar\":{\"outlinewidth\":0,\"ticks\":\"\"}},\"marker\":{\"colorbar\":{\"outlinewidth\":0,\"ticks\":\"\"}}}],\"scattermapbox\":[{\"type\":\"scattermapbox\",\"marker\":{\"colorbar\":{\"outlinewidth\":0,\"ticks\":\"\"}}}],\"scatterternary\":[{\"type\":\"scatterternary\",\"marker\":{\"colorbar\":{\"outlinewidth\":0,\"ticks\":\"\"}}}],\"scattercarpet\":[{\"type\":\"scattercarpet\",\"marker\":{\"colorbar\":{\"outlinewidth\":0,\"ticks\":\"\"}}}],\"carpet\":[{\"aaxis\":{\"endlinecolor\":\"#2a3f5f\",\"gridcolor\":\"white\",\"linecolor\":\"white\",\"minorgridcolor\":\"white\",\"startlinecolor\":\"#2a3f5f\"},\"baxis\":{\"endlinecolor\":\"#2a3f5f\",\"gridcolor\":\"white\",\"linecolor\":\"white\",\"minorgridcolor\":\"white\",\"startlinecolor\":\"#2a3f5f\"},\"type\":\"carpet\"}],\"table\":[{\"cells\":{\"fill\":{\"color\":\"#EBF0F8\"},\"line\":{\"color\":\"white\"}},\"header\":{\"fill\":{\"color\":\"#C8D4E3\"},\"line\":{\"color\":\"white\"}},\"type\":\"table\"}],\"barpolar\":[{\"marker\":{\"line\":{\"color\":\"#E5ECF6\",\"width\":0.5},\"pattern\":{\"fillmode\":\"overlay\",\"size\":10,\"solidity\":0.2}},\"type\":\"barpolar\"}],\"pie\":[{\"automargin\":true,\"type\":\"pie\"}]},\"layout\":{\"autotypenumbers\":\"strict\",\"colorway\":[\"#636efa\",\"#EF553B\",\"#00cc96\",\"#ab63fa\",\"#FFA15A\",\"#19d3f3\",\"#FF6692\",\"#B6E880\",\"#FF97FF\",\"#FECB52\"],\"font\":{\"color\":\"#2a3f5f\"},\"hovermode\":\"closest\",\"hoverlabel\":{\"align\":\"left\"},\"paper_bgcolor\":\"white\",\"plot_bgcolor\":\"#E5ECF6\",\"polar\":{\"bgcolor\":\"#E5ECF6\",\"angularaxis\":{\"gridcolor\":\"white\",\"linecolor\":\"white\",\"ticks\":\"\"},\"radialaxis\":{\"gridcolor\":\"white\",\"linecolor\":\"white\",\"ticks\":\"\"}},\"ternary\":{\"bgcolor\":\"#E5ECF6\",\"aaxis\":{\"gridcolor\":\"white\",\"linecolor\":\"white\",\"ticks\":\"\"},\"baxis\":{\"gridcolor\":\"white\",\"linecolor\":\"white\",\"ticks\":\"\"},\"caxis\":{\"gridcolor\":\"white\",\"linecolor\":\"white\",\"ticks\":\"\"}},\"coloraxis\":{\"colorbar\":{\"outlinewidth\":0,\"ticks\":\"\"}},\"colorscale\":{\"sequential\":[[0.0,\"#0d0887\"],[0.1111111111111111,\"#46039f\"],[0.2222222222222222,\"#7201a8\"],[0.3333333333333333,\"#9c179e\"],[0.4444444444444444,\"#bd3786\"],[0.5555555555555556,\"#d8576b\"],[0.6666666666666666,\"#ed7953\"],[0.7777777777777778,\"#fb9f3a\"],[0.8888888888888888,\"#fdca26\"],[1.0,\"#f0f921\"]],\"sequentialminus\":[[0.0,\"#0d0887\"],[0.1111111111111111,\"#46039f\"],[0.2222222222222222,\"#7201a8\"],[0.3333333333333333,\"#9c179e\"],[0.4444444444444444,\"#bd3786\"],[0.5555555555555556,\"#d8576b\"],[0.6666666666666666,\"#ed7953\"],[0.7777777777777778,\"#fb9f3a\"],[0.8888888888888888,\"#fdca26\"],[1.0,\"#f0f921\"]],\"diverging\":[[0,\"#8e0152\"],[0.1,\"#c51b7d\"],[0.2,\"#de77ae\"],[0.3,\"#f1b6da\"],[0.4,\"#fde0ef\"],[0.5,\"#f7f7f7\"],[0.6,\"#e6f5d0\"],[0.7,\"#b8e186\"],[0.8,\"#7fbc41\"],[0.9,\"#4d9221\"],[1,\"#276419\"]]},\"xaxis\":{\"gridcolor\":\"white\",\"linecolor\":\"white\",\"ticks\":\"\",\"title\":{\"standoff\":15},\"zerolinecolor\":\"white\",\"automargin\":true,\"zerolinewidth\":2},\"yaxis\":{\"gridcolor\":\"white\",\"linecolor\":\"white\",\"ticks\":\"\",\"title\":{\"standoff\":15},\"zerolinecolor\":\"white\",\"automargin\":true,\"zerolinewidth\":2},\"scene\":{\"xaxis\":{\"backgroundcolor\":\"#E5ECF6\",\"gridcolor\":\"white\",\"linecolor\":\"white\",\"showbackground\":true,\"ticks\":\"\",\"zerolinecolor\":\"white\",\"gridwidth\":2},\"yaxis\":{\"backgroundcolor\":\"#E5ECF6\",\"gridcolor\":\"white\",\"linecolor\":\"white\",\"showbackground\":true,\"ticks\":\"\",\"zerolinecolor\":\"white\",\"gridwidth\":2},\"zaxis\":{\"backgroundcolor\":\"#E5ECF6\",\"gridcolor\":\"white\",\"linecolor\":\"white\",\"showbackground\":true,\"ticks\":\"\",\"zerolinecolor\":\"white\",\"gridwidth\":2}},\"shapedefaults\":{\"line\":{\"color\":\"#2a3f5f\"}},\"annotationdefaults\":{\"arrowcolor\":\"#2a3f5f\",\"arrowhead\":0,\"arrowwidth\":1},\"geo\":{\"bgcolor\":\"white\",\"landcolor\":\"#E5ECF6\",\"subunitcolor\":\"white\",\"showland\":true,\"showlakes\":true,\"lakecolor\":\"white\"},\"title\":{\"x\":0.05},\"mapbox\":{\"style\":\"light\"}}},\"xaxis\":{\"anchor\":\"y\",\"domain\":[0.0,0.45],\"range\":[-0.5,1.5],\"zeroline\":true,\"zerolinewidth\":2,\"zerolinecolor\":\"#008000\"},\"yaxis\":{\"anchor\":\"x\",\"domain\":[0.0,1.0],\"range\":[-0.5,1.5],\"zeroline\":true,\"zerolinewidth\":1,\"zerolinecolor\":\"LightPink\"},\"xaxis2\":{\"anchor\":\"y2\",\"domain\":[0.55,1.0],\"range\":[-0.5,1.5],\"zeroline\":true,\"zerolinewidth\":2,\"zerolinecolor\":\"#008000\"},\"yaxis2\":{\"anchor\":\"x2\",\"domain\":[0.0,1.0],\"range\":[-0.5,1.5],\"zeroline\":true,\"zerolinewidth\":1,\"zerolinecolor\":\"LightPink\"},\"legend\":{\"orientation\":\"h\",\"x\":0.5,\"xanchor\":\"center\"},\"margin\":{\"l\":10,\"r\":0,\"t\":10,\"b\":100}},                        {\"responsive\": true}                    ).then(function(){\n                            \nvar gd = document.getElementById('8a9b583e-362c-4d14-b129-8d9cbbdadbdc');\nvar x = new MutationObserver(function (mutations, observer) {{\n        var display = window.getComputedStyle(gd).display;\n        if (!display || display === 'none') {{\n            console.log([gd, 'removed!']);\n            Plotly.purge(gd);\n            observer.disconnect();\n        }}\n}});\n\n// Listen for the removal of the full notebook cells\nvar notebookContainer = gd.closest('#notebook-container');\nif (notebookContainer) {{\n    x.observe(notebookContainer, {childList: true});\n}}\n\n// Listen for the clearing of the current output cell\nvar outputEl = gd.closest('.output');\nif (outputEl) {{\n    x.observe(outputEl, {childList: true});\n}}\n\n                        })                };                });            </script>        </div>"
     },
     "metadata": {},
     "output_type": "display_data"
    }
   ],
   "source": [
    "def h(x):\n",
    "    return np.sin(x)\n",
    "\n",
    "def k(x):\n",
    "    return np.cos(x)\n",
    "\n",
    "def m(x):\n",
    "    return np.tan(x)\n",
    "    \n",
    "fig = make_subplots(rows=1, cols=2)\n",
    "\n",
    "fig.update_yaxes(range=[-0.5, 1.5], zeroline=True, zerolinewidth=1, zerolinecolor='LightPink')\n",
    "fig.update_xaxes(range=[-0.5, 1.5], zeroline=True, zerolinewidth=2, zerolinecolor='#008000')\n",
    "\n",
    "fig.add_trace(go.Scatter(x=x, y=h(x),  name='h(x)=sin(x)'), 1, 1)\n",
    "fig.add_trace(go.Scatter(x=x, y=k(x),  name='k(x)=cos(x)'), 1, 1)\n",
    "fig.add_trace(go.Scatter(visible='legendonly', x=x, y=m(x),  name='m(x)=tg(x)'), 1, 1)\n",
    "\n",
    "fig.add_trace(go.Scatter(x=x, y=f(x), mode='markers',  name='f(x)=x<sup>2</sup>'), 1, 2)\n",
    "fig.add_trace(go.Scatter(x=x, y=x, mode='markers+lines',name='g(x)=x',\n",
    "                         marker=dict(color='LightSkyBlue', size=20, line=dict(color='MediumPurple', width=5))), 1, 2)\n",
    "fig.update_layout(legend_orientation=\"h\",\n",
    "                  legend=dict(x=.5, xanchor=\"center\"),\n",
    "                  hovermode=\"x\",\n",
    "                  margin=dict(l=10, r=0, t=10, b=100))\n",
    "fig.update_traces(hoverinfo=\"all\", hovertemplate=\"Аргумент: %{x}<br>Функция: %{y}\")\n",
    "fig.show()"
   ]
  },
  {
   "cell_type": "markdown",
   "id": "b0615685",
   "metadata": {},
   "source": [
    "# Гистограммы"
   ]
  },
  {
   "cell_type": "code",
   "execution_count": 237,
   "id": "5dd9b654",
   "metadata": {},
   "outputs": [
    {
     "data": {
      "application/vnd.plotly.v1+json": {
       "data": [
        {
         "alignmentgroup": "True",
         "bingroup": "x",
         "hovertemplate": "total_bill=%{x}<br>count=%{y}<extra></extra>",
         "legendgroup": "",
         "marker": {
          "color": "#636efa",
          "pattern": {
           "shape": ""
          }
         },
         "name": "",
         "offsetgroup": "",
         "orientation": "v",
         "showlegend": false,
         "x": [
          16.99,
          10.34,
          21.01,
          23.68,
          24.59,
          25.29,
          8.77,
          26.88,
          15.04,
          14.78,
          10.27,
          35.26,
          15.42,
          18.43,
          14.83,
          21.58,
          10.33,
          16.29,
          16.97,
          20.65,
          17.92,
          20.29,
          15.77,
          39.42,
          19.82,
          17.81,
          13.37,
          12.69,
          21.7,
          19.65,
          9.55,
          18.35,
          15.06,
          20.69,
          17.78,
          24.06,
          16.31,
          16.93,
          18.69,
          31.27,
          16.04,
          17.46,
          13.94,
          9.68,
          30.4,
          18.29,
          22.23,
          32.4,
          28.55,
          18.04,
          12.54,
          10.29,
          34.81,
          9.94,
          25.56,
          19.49,
          38.01,
          26.41,
          11.24,
          48.27,
          20.29,
          13.81,
          11.02,
          18.29,
          17.59,
          20.08,
          16.45,
          3.07,
          20.23,
          15.01,
          12.02,
          17.07,
          26.86,
          25.28,
          14.73,
          10.51,
          17.92,
          27.2,
          22.76,
          17.29,
          19.44,
          16.66,
          10.07,
          32.68,
          15.98,
          34.83,
          13.03,
          18.28,
          24.71,
          21.16,
          28.97,
          22.49,
          5.75,
          16.32,
          22.75,
          40.17,
          27.28,
          12.03,
          21.01,
          12.46,
          11.35,
          15.38,
          44.3,
          22.42,
          20.92,
          15.36,
          20.49,
          25.21,
          18.24,
          14.31,
          14.0,
          7.25,
          38.07,
          23.95,
          25.71,
          17.31,
          29.93,
          10.65,
          12.43,
          24.08,
          11.69,
          13.42,
          14.26,
          15.95,
          12.48,
          29.8,
          8.52,
          14.52,
          11.38,
          22.82,
          19.08,
          20.27,
          11.17,
          12.26,
          18.26,
          8.51,
          10.33,
          14.15,
          16.0,
          13.16,
          17.47,
          34.3,
          41.19,
          27.05,
          16.43,
          8.35,
          18.64,
          11.87,
          9.78,
          7.51,
          14.07,
          13.13,
          17.26,
          24.55,
          19.77,
          29.85,
          48.17,
          25.0,
          13.39,
          16.49,
          21.5,
          12.66,
          16.21,
          13.81,
          17.51,
          24.52,
          20.76,
          31.71,
          10.59,
          10.63,
          50.81,
          15.81,
          7.25,
          31.85,
          16.82,
          32.9,
          17.89,
          14.48,
          9.6,
          34.63,
          34.65,
          23.33,
          45.35,
          23.17,
          40.55,
          20.69,
          20.9,
          30.46,
          18.15,
          23.1,
          15.69,
          19.81,
          28.44,
          15.48,
          16.58,
          7.56,
          10.34,
          43.11,
          13.0,
          13.51,
          18.71,
          12.74,
          13.0,
          16.4,
          20.53,
          16.47,
          26.59,
          38.73,
          24.27,
          12.76,
          30.06,
          25.89,
          48.33,
          13.27,
          28.17,
          12.9,
          28.15,
          11.59,
          7.74,
          30.14,
          12.16,
          13.42,
          8.58,
          15.98,
          13.42,
          16.27,
          10.09,
          20.45,
          13.28,
          22.12,
          24.01,
          15.69,
          11.61,
          10.77,
          15.53,
          10.07,
          12.6,
          32.83,
          35.83,
          29.03,
          27.18,
          22.67,
          17.82,
          18.78
         ],
         "xaxis": "x",
         "yaxis": "y",
         "type": "histogram"
        }
       ],
       "layout": {
        "template": {
         "data": {
          "histogram2dcontour": [
           {
            "type": "histogram2dcontour",
            "colorbar": {
             "outlinewidth": 0,
             "ticks": ""
            },
            "colorscale": [
             [
              0.0,
              "#0d0887"
             ],
             [
              0.1111111111111111,
              "#46039f"
             ],
             [
              0.2222222222222222,
              "#7201a8"
             ],
             [
              0.3333333333333333,
              "#9c179e"
             ],
             [
              0.4444444444444444,
              "#bd3786"
             ],
             [
              0.5555555555555556,
              "#d8576b"
             ],
             [
              0.6666666666666666,
              "#ed7953"
             ],
             [
              0.7777777777777778,
              "#fb9f3a"
             ],
             [
              0.8888888888888888,
              "#fdca26"
             ],
             [
              1.0,
              "#f0f921"
             ]
            ]
           }
          ],
          "choropleth": [
           {
            "type": "choropleth",
            "colorbar": {
             "outlinewidth": 0,
             "ticks": ""
            }
           }
          ],
          "histogram2d": [
           {
            "type": "histogram2d",
            "colorbar": {
             "outlinewidth": 0,
             "ticks": ""
            },
            "colorscale": [
             [
              0.0,
              "#0d0887"
             ],
             [
              0.1111111111111111,
              "#46039f"
             ],
             [
              0.2222222222222222,
              "#7201a8"
             ],
             [
              0.3333333333333333,
              "#9c179e"
             ],
             [
              0.4444444444444444,
              "#bd3786"
             ],
             [
              0.5555555555555556,
              "#d8576b"
             ],
             [
              0.6666666666666666,
              "#ed7953"
             ],
             [
              0.7777777777777778,
              "#fb9f3a"
             ],
             [
              0.8888888888888888,
              "#fdca26"
             ],
             [
              1.0,
              "#f0f921"
             ]
            ]
           }
          ],
          "heatmap": [
           {
            "type": "heatmap",
            "colorbar": {
             "outlinewidth": 0,
             "ticks": ""
            },
            "colorscale": [
             [
              0.0,
              "#0d0887"
             ],
             [
              0.1111111111111111,
              "#46039f"
             ],
             [
              0.2222222222222222,
              "#7201a8"
             ],
             [
              0.3333333333333333,
              "#9c179e"
             ],
             [
              0.4444444444444444,
              "#bd3786"
             ],
             [
              0.5555555555555556,
              "#d8576b"
             ],
             [
              0.6666666666666666,
              "#ed7953"
             ],
             [
              0.7777777777777778,
              "#fb9f3a"
             ],
             [
              0.8888888888888888,
              "#fdca26"
             ],
             [
              1.0,
              "#f0f921"
             ]
            ]
           }
          ],
          "heatmapgl": [
           {
            "type": "heatmapgl",
            "colorbar": {
             "outlinewidth": 0,
             "ticks": ""
            },
            "colorscale": [
             [
              0.0,
              "#0d0887"
             ],
             [
              0.1111111111111111,
              "#46039f"
             ],
             [
              0.2222222222222222,
              "#7201a8"
             ],
             [
              0.3333333333333333,
              "#9c179e"
             ],
             [
              0.4444444444444444,
              "#bd3786"
             ],
             [
              0.5555555555555556,
              "#d8576b"
             ],
             [
              0.6666666666666666,
              "#ed7953"
             ],
             [
              0.7777777777777778,
              "#fb9f3a"
             ],
             [
              0.8888888888888888,
              "#fdca26"
             ],
             [
              1.0,
              "#f0f921"
             ]
            ]
           }
          ],
          "contourcarpet": [
           {
            "type": "contourcarpet",
            "colorbar": {
             "outlinewidth": 0,
             "ticks": ""
            }
           }
          ],
          "contour": [
           {
            "type": "contour",
            "colorbar": {
             "outlinewidth": 0,
             "ticks": ""
            },
            "colorscale": [
             [
              0.0,
              "#0d0887"
             ],
             [
              0.1111111111111111,
              "#46039f"
             ],
             [
              0.2222222222222222,
              "#7201a8"
             ],
             [
              0.3333333333333333,
              "#9c179e"
             ],
             [
              0.4444444444444444,
              "#bd3786"
             ],
             [
              0.5555555555555556,
              "#d8576b"
             ],
             [
              0.6666666666666666,
              "#ed7953"
             ],
             [
              0.7777777777777778,
              "#fb9f3a"
             ],
             [
              0.8888888888888888,
              "#fdca26"
             ],
             [
              1.0,
              "#f0f921"
             ]
            ]
           }
          ],
          "surface": [
           {
            "type": "surface",
            "colorbar": {
             "outlinewidth": 0,
             "ticks": ""
            },
            "colorscale": [
             [
              0.0,
              "#0d0887"
             ],
             [
              0.1111111111111111,
              "#46039f"
             ],
             [
              0.2222222222222222,
              "#7201a8"
             ],
             [
              0.3333333333333333,
              "#9c179e"
             ],
             [
              0.4444444444444444,
              "#bd3786"
             ],
             [
              0.5555555555555556,
              "#d8576b"
             ],
             [
              0.6666666666666666,
              "#ed7953"
             ],
             [
              0.7777777777777778,
              "#fb9f3a"
             ],
             [
              0.8888888888888888,
              "#fdca26"
             ],
             [
              1.0,
              "#f0f921"
             ]
            ]
           }
          ],
          "mesh3d": [
           {
            "type": "mesh3d",
            "colorbar": {
             "outlinewidth": 0,
             "ticks": ""
            }
           }
          ],
          "scatter": [
           {
            "fillpattern": {
             "fillmode": "overlay",
             "size": 10,
             "solidity": 0.2
            },
            "type": "scatter"
           }
          ],
          "parcoords": [
           {
            "type": "parcoords",
            "line": {
             "colorbar": {
              "outlinewidth": 0,
              "ticks": ""
             }
            }
           }
          ],
          "scatterpolargl": [
           {
            "type": "scatterpolargl",
            "marker": {
             "colorbar": {
              "outlinewidth": 0,
              "ticks": ""
             }
            }
           }
          ],
          "bar": [
           {
            "error_x": {
             "color": "#2a3f5f"
            },
            "error_y": {
             "color": "#2a3f5f"
            },
            "marker": {
             "line": {
              "color": "#E5ECF6",
              "width": 0.5
             },
             "pattern": {
              "fillmode": "overlay",
              "size": 10,
              "solidity": 0.2
             }
            },
            "type": "bar"
           }
          ],
          "scattergeo": [
           {
            "type": "scattergeo",
            "marker": {
             "colorbar": {
              "outlinewidth": 0,
              "ticks": ""
             }
            }
           }
          ],
          "scatterpolar": [
           {
            "type": "scatterpolar",
            "marker": {
             "colorbar": {
              "outlinewidth": 0,
              "ticks": ""
             }
            }
           }
          ],
          "histogram": [
           {
            "marker": {
             "pattern": {
              "fillmode": "overlay",
              "size": 10,
              "solidity": 0.2
             }
            },
            "type": "histogram"
           }
          ],
          "scattergl": [
           {
            "type": "scattergl",
            "marker": {
             "colorbar": {
              "outlinewidth": 0,
              "ticks": ""
             }
            }
           }
          ],
          "scatter3d": [
           {
            "type": "scatter3d",
            "line": {
             "colorbar": {
              "outlinewidth": 0,
              "ticks": ""
             }
            },
            "marker": {
             "colorbar": {
              "outlinewidth": 0,
              "ticks": ""
             }
            }
           }
          ],
          "scattermapbox": [
           {
            "type": "scattermapbox",
            "marker": {
             "colorbar": {
              "outlinewidth": 0,
              "ticks": ""
             }
            }
           }
          ],
          "scatterternary": [
           {
            "type": "scatterternary",
            "marker": {
             "colorbar": {
              "outlinewidth": 0,
              "ticks": ""
             }
            }
           }
          ],
          "scattercarpet": [
           {
            "type": "scattercarpet",
            "marker": {
             "colorbar": {
              "outlinewidth": 0,
              "ticks": ""
             }
            }
           }
          ],
          "carpet": [
           {
            "aaxis": {
             "endlinecolor": "#2a3f5f",
             "gridcolor": "white",
             "linecolor": "white",
             "minorgridcolor": "white",
             "startlinecolor": "#2a3f5f"
            },
            "baxis": {
             "endlinecolor": "#2a3f5f",
             "gridcolor": "white",
             "linecolor": "white",
             "minorgridcolor": "white",
             "startlinecolor": "#2a3f5f"
            },
            "type": "carpet"
           }
          ],
          "table": [
           {
            "cells": {
             "fill": {
              "color": "#EBF0F8"
             },
             "line": {
              "color": "white"
             }
            },
            "header": {
             "fill": {
              "color": "#C8D4E3"
             },
             "line": {
              "color": "white"
             }
            },
            "type": "table"
           }
          ],
          "barpolar": [
           {
            "marker": {
             "line": {
              "color": "#E5ECF6",
              "width": 0.5
             },
             "pattern": {
              "fillmode": "overlay",
              "size": 10,
              "solidity": 0.2
             }
            },
            "type": "barpolar"
           }
          ],
          "pie": [
           {
            "automargin": true,
            "type": "pie"
           }
          ]
         },
         "layout": {
          "autotypenumbers": "strict",
          "colorway": [
           "#636efa",
           "#EF553B",
           "#00cc96",
           "#ab63fa",
           "#FFA15A",
           "#19d3f3",
           "#FF6692",
           "#B6E880",
           "#FF97FF",
           "#FECB52"
          ],
          "font": {
           "color": "#2a3f5f"
          },
          "hovermode": "closest",
          "hoverlabel": {
           "align": "left"
          },
          "paper_bgcolor": "white",
          "plot_bgcolor": "#E5ECF6",
          "polar": {
           "bgcolor": "#E5ECF6",
           "angularaxis": {
            "gridcolor": "white",
            "linecolor": "white",
            "ticks": ""
           },
           "radialaxis": {
            "gridcolor": "white",
            "linecolor": "white",
            "ticks": ""
           }
          },
          "ternary": {
           "bgcolor": "#E5ECF6",
           "aaxis": {
            "gridcolor": "white",
            "linecolor": "white",
            "ticks": ""
           },
           "baxis": {
            "gridcolor": "white",
            "linecolor": "white",
            "ticks": ""
           },
           "caxis": {
            "gridcolor": "white",
            "linecolor": "white",
            "ticks": ""
           }
          },
          "coloraxis": {
           "colorbar": {
            "outlinewidth": 0,
            "ticks": ""
           }
          },
          "colorscale": {
           "sequential": [
            [
             0.0,
             "#0d0887"
            ],
            [
             0.1111111111111111,
             "#46039f"
            ],
            [
             0.2222222222222222,
             "#7201a8"
            ],
            [
             0.3333333333333333,
             "#9c179e"
            ],
            [
             0.4444444444444444,
             "#bd3786"
            ],
            [
             0.5555555555555556,
             "#d8576b"
            ],
            [
             0.6666666666666666,
             "#ed7953"
            ],
            [
             0.7777777777777778,
             "#fb9f3a"
            ],
            [
             0.8888888888888888,
             "#fdca26"
            ],
            [
             1.0,
             "#f0f921"
            ]
           ],
           "sequentialminus": [
            [
             0.0,
             "#0d0887"
            ],
            [
             0.1111111111111111,
             "#46039f"
            ],
            [
             0.2222222222222222,
             "#7201a8"
            ],
            [
             0.3333333333333333,
             "#9c179e"
            ],
            [
             0.4444444444444444,
             "#bd3786"
            ],
            [
             0.5555555555555556,
             "#d8576b"
            ],
            [
             0.6666666666666666,
             "#ed7953"
            ],
            [
             0.7777777777777778,
             "#fb9f3a"
            ],
            [
             0.8888888888888888,
             "#fdca26"
            ],
            [
             1.0,
             "#f0f921"
            ]
           ],
           "diverging": [
            [
             0,
             "#8e0152"
            ],
            [
             0.1,
             "#c51b7d"
            ],
            [
             0.2,
             "#de77ae"
            ],
            [
             0.3,
             "#f1b6da"
            ],
            [
             0.4,
             "#fde0ef"
            ],
            [
             0.5,
             "#f7f7f7"
            ],
            [
             0.6,
             "#e6f5d0"
            ],
            [
             0.7,
             "#b8e186"
            ],
            [
             0.8,
             "#7fbc41"
            ],
            [
             0.9,
             "#4d9221"
            ],
            [
             1,
             "#276419"
            ]
           ]
          },
          "xaxis": {
           "gridcolor": "white",
           "linecolor": "white",
           "ticks": "",
           "title": {
            "standoff": 15
           },
           "zerolinecolor": "white",
           "automargin": true,
           "zerolinewidth": 2
          },
          "yaxis": {
           "gridcolor": "white",
           "linecolor": "white",
           "ticks": "",
           "title": {
            "standoff": 15
           },
           "zerolinecolor": "white",
           "automargin": true,
           "zerolinewidth": 2
          },
          "scene": {
           "xaxis": {
            "backgroundcolor": "#E5ECF6",
            "gridcolor": "white",
            "linecolor": "white",
            "showbackground": true,
            "ticks": "",
            "zerolinecolor": "white",
            "gridwidth": 2
           },
           "yaxis": {
            "backgroundcolor": "#E5ECF6",
            "gridcolor": "white",
            "linecolor": "white",
            "showbackground": true,
            "ticks": "",
            "zerolinecolor": "white",
            "gridwidth": 2
           },
           "zaxis": {
            "backgroundcolor": "#E5ECF6",
            "gridcolor": "white",
            "linecolor": "white",
            "showbackground": true,
            "ticks": "",
            "zerolinecolor": "white",
            "gridwidth": 2
           }
          },
          "shapedefaults": {
           "line": {
            "color": "#2a3f5f"
           }
          },
          "annotationdefaults": {
           "arrowcolor": "#2a3f5f",
           "arrowhead": 0,
           "arrowwidth": 1
          },
          "geo": {
           "bgcolor": "white",
           "landcolor": "#E5ECF6",
           "subunitcolor": "white",
           "showland": true,
           "showlakes": true,
           "lakecolor": "white"
          },
          "title": {
           "x": 0.05
          },
          "mapbox": {
           "style": "light"
          }
         }
        },
        "xaxis": {
         "anchor": "y",
         "domain": [
          0.0,
          1.0
         ],
         "title": {
          "text": "total_bill"
         }
        },
        "yaxis": {
         "anchor": "x",
         "domain": [
          0.0,
          1.0
         ],
         "title": {
          "text": "count"
         }
        },
        "legend": {
         "tracegroupgap": 0
        },
        "margin": {
         "t": 60
        },
        "barmode": "relative"
       },
       "config": {
        "plotlyServerURL": "https://plot.ly"
       }
      },
      "text/html": "<div>                            <div id=\"a5556163-1613-47cc-9539-c2921c41d884\" class=\"plotly-graph-div\" style=\"height:525px; width:100%;\"></div>            <script type=\"text/javascript\">                require([\"plotly\"], function(Plotly) {                    window.PLOTLYENV=window.PLOTLYENV || {};                                    if (document.getElementById(\"a5556163-1613-47cc-9539-c2921c41d884\")) {                    Plotly.newPlot(                        \"a5556163-1613-47cc-9539-c2921c41d884\",                        [{\"alignmentgroup\":\"True\",\"bingroup\":\"x\",\"hovertemplate\":\"total_bill=%{x}<br>count=%{y}<extra></extra>\",\"legendgroup\":\"\",\"marker\":{\"color\":\"#636efa\",\"pattern\":{\"shape\":\"\"}},\"name\":\"\",\"offsetgroup\":\"\",\"orientation\":\"v\",\"showlegend\":false,\"x\":[16.99,10.34,21.01,23.68,24.59,25.29,8.77,26.88,15.04,14.78,10.27,35.26,15.42,18.43,14.83,21.58,10.33,16.29,16.97,20.65,17.92,20.29,15.77,39.42,19.82,17.81,13.37,12.69,21.7,19.65,9.55,18.35,15.06,20.69,17.78,24.06,16.31,16.93,18.69,31.27,16.04,17.46,13.94,9.68,30.4,18.29,22.23,32.4,28.55,18.04,12.54,10.29,34.81,9.94,25.56,19.49,38.01,26.41,11.24,48.27,20.29,13.81,11.02,18.29,17.59,20.08,16.45,3.07,20.23,15.01,12.02,17.07,26.86,25.28,14.73,10.51,17.92,27.2,22.76,17.29,19.44,16.66,10.07,32.68,15.98,34.83,13.03,18.28,24.71,21.16,28.97,22.49,5.75,16.32,22.75,40.17,27.28,12.03,21.01,12.46,11.35,15.38,44.3,22.42,20.92,15.36,20.49,25.21,18.24,14.31,14.0,7.25,38.07,23.95,25.71,17.31,29.93,10.65,12.43,24.08,11.69,13.42,14.26,15.95,12.48,29.8,8.52,14.52,11.38,22.82,19.08,20.27,11.17,12.26,18.26,8.51,10.33,14.15,16.0,13.16,17.47,34.3,41.19,27.05,16.43,8.35,18.64,11.87,9.78,7.51,14.07,13.13,17.26,24.55,19.77,29.85,48.17,25.0,13.39,16.49,21.5,12.66,16.21,13.81,17.51,24.52,20.76,31.71,10.59,10.63,50.81,15.81,7.25,31.85,16.82,32.9,17.89,14.48,9.6,34.63,34.65,23.33,45.35,23.17,40.55,20.69,20.9,30.46,18.15,23.1,15.69,19.81,28.44,15.48,16.58,7.56,10.34,43.11,13.0,13.51,18.71,12.74,13.0,16.4,20.53,16.47,26.59,38.73,24.27,12.76,30.06,25.89,48.33,13.27,28.17,12.9,28.15,11.59,7.74,30.14,12.16,13.42,8.58,15.98,13.42,16.27,10.09,20.45,13.28,22.12,24.01,15.69,11.61,10.77,15.53,10.07,12.6,32.83,35.83,29.03,27.18,22.67,17.82,18.78],\"xaxis\":\"x\",\"yaxis\":\"y\",\"type\":\"histogram\"}],                        {\"template\":{\"data\":{\"histogram2dcontour\":[{\"type\":\"histogram2dcontour\",\"colorbar\":{\"outlinewidth\":0,\"ticks\":\"\"},\"colorscale\":[[0.0,\"#0d0887\"],[0.1111111111111111,\"#46039f\"],[0.2222222222222222,\"#7201a8\"],[0.3333333333333333,\"#9c179e\"],[0.4444444444444444,\"#bd3786\"],[0.5555555555555556,\"#d8576b\"],[0.6666666666666666,\"#ed7953\"],[0.7777777777777778,\"#fb9f3a\"],[0.8888888888888888,\"#fdca26\"],[1.0,\"#f0f921\"]]}],\"choropleth\":[{\"type\":\"choropleth\",\"colorbar\":{\"outlinewidth\":0,\"ticks\":\"\"}}],\"histogram2d\":[{\"type\":\"histogram2d\",\"colorbar\":{\"outlinewidth\":0,\"ticks\":\"\"},\"colorscale\":[[0.0,\"#0d0887\"],[0.1111111111111111,\"#46039f\"],[0.2222222222222222,\"#7201a8\"],[0.3333333333333333,\"#9c179e\"],[0.4444444444444444,\"#bd3786\"],[0.5555555555555556,\"#d8576b\"],[0.6666666666666666,\"#ed7953\"],[0.7777777777777778,\"#fb9f3a\"],[0.8888888888888888,\"#fdca26\"],[1.0,\"#f0f921\"]]}],\"heatmap\":[{\"type\":\"heatmap\",\"colorbar\":{\"outlinewidth\":0,\"ticks\":\"\"},\"colorscale\":[[0.0,\"#0d0887\"],[0.1111111111111111,\"#46039f\"],[0.2222222222222222,\"#7201a8\"],[0.3333333333333333,\"#9c179e\"],[0.4444444444444444,\"#bd3786\"],[0.5555555555555556,\"#d8576b\"],[0.6666666666666666,\"#ed7953\"],[0.7777777777777778,\"#fb9f3a\"],[0.8888888888888888,\"#fdca26\"],[1.0,\"#f0f921\"]]}],\"heatmapgl\":[{\"type\":\"heatmapgl\",\"colorbar\":{\"outlinewidth\":0,\"ticks\":\"\"},\"colorscale\":[[0.0,\"#0d0887\"],[0.1111111111111111,\"#46039f\"],[0.2222222222222222,\"#7201a8\"],[0.3333333333333333,\"#9c179e\"],[0.4444444444444444,\"#bd3786\"],[0.5555555555555556,\"#d8576b\"],[0.6666666666666666,\"#ed7953\"],[0.7777777777777778,\"#fb9f3a\"],[0.8888888888888888,\"#fdca26\"],[1.0,\"#f0f921\"]]}],\"contourcarpet\":[{\"type\":\"contourcarpet\",\"colorbar\":{\"outlinewidth\":0,\"ticks\":\"\"}}],\"contour\":[{\"type\":\"contour\",\"colorbar\":{\"outlinewidth\":0,\"ticks\":\"\"},\"colorscale\":[[0.0,\"#0d0887\"],[0.1111111111111111,\"#46039f\"],[0.2222222222222222,\"#7201a8\"],[0.3333333333333333,\"#9c179e\"],[0.4444444444444444,\"#bd3786\"],[0.5555555555555556,\"#d8576b\"],[0.6666666666666666,\"#ed7953\"],[0.7777777777777778,\"#fb9f3a\"],[0.8888888888888888,\"#fdca26\"],[1.0,\"#f0f921\"]]}],\"surface\":[{\"type\":\"surface\",\"colorbar\":{\"outlinewidth\":0,\"ticks\":\"\"},\"colorscale\":[[0.0,\"#0d0887\"],[0.1111111111111111,\"#46039f\"],[0.2222222222222222,\"#7201a8\"],[0.3333333333333333,\"#9c179e\"],[0.4444444444444444,\"#bd3786\"],[0.5555555555555556,\"#d8576b\"],[0.6666666666666666,\"#ed7953\"],[0.7777777777777778,\"#fb9f3a\"],[0.8888888888888888,\"#fdca26\"],[1.0,\"#f0f921\"]]}],\"mesh3d\":[{\"type\":\"mesh3d\",\"colorbar\":{\"outlinewidth\":0,\"ticks\":\"\"}}],\"scatter\":[{\"fillpattern\":{\"fillmode\":\"overlay\",\"size\":10,\"solidity\":0.2},\"type\":\"scatter\"}],\"parcoords\":[{\"type\":\"parcoords\",\"line\":{\"colorbar\":{\"outlinewidth\":0,\"ticks\":\"\"}}}],\"scatterpolargl\":[{\"type\":\"scatterpolargl\",\"marker\":{\"colorbar\":{\"outlinewidth\":0,\"ticks\":\"\"}}}],\"bar\":[{\"error_x\":{\"color\":\"#2a3f5f\"},\"error_y\":{\"color\":\"#2a3f5f\"},\"marker\":{\"line\":{\"color\":\"#E5ECF6\",\"width\":0.5},\"pattern\":{\"fillmode\":\"overlay\",\"size\":10,\"solidity\":0.2}},\"type\":\"bar\"}],\"scattergeo\":[{\"type\":\"scattergeo\",\"marker\":{\"colorbar\":{\"outlinewidth\":0,\"ticks\":\"\"}}}],\"scatterpolar\":[{\"type\":\"scatterpolar\",\"marker\":{\"colorbar\":{\"outlinewidth\":0,\"ticks\":\"\"}}}],\"histogram\":[{\"marker\":{\"pattern\":{\"fillmode\":\"overlay\",\"size\":10,\"solidity\":0.2}},\"type\":\"histogram\"}],\"scattergl\":[{\"type\":\"scattergl\",\"marker\":{\"colorbar\":{\"outlinewidth\":0,\"ticks\":\"\"}}}],\"scatter3d\":[{\"type\":\"scatter3d\",\"line\":{\"colorbar\":{\"outlinewidth\":0,\"ticks\":\"\"}},\"marker\":{\"colorbar\":{\"outlinewidth\":0,\"ticks\":\"\"}}}],\"scattermapbox\":[{\"type\":\"scattermapbox\",\"marker\":{\"colorbar\":{\"outlinewidth\":0,\"ticks\":\"\"}}}],\"scatterternary\":[{\"type\":\"scatterternary\",\"marker\":{\"colorbar\":{\"outlinewidth\":0,\"ticks\":\"\"}}}],\"scattercarpet\":[{\"type\":\"scattercarpet\",\"marker\":{\"colorbar\":{\"outlinewidth\":0,\"ticks\":\"\"}}}],\"carpet\":[{\"aaxis\":{\"endlinecolor\":\"#2a3f5f\",\"gridcolor\":\"white\",\"linecolor\":\"white\",\"minorgridcolor\":\"white\",\"startlinecolor\":\"#2a3f5f\"},\"baxis\":{\"endlinecolor\":\"#2a3f5f\",\"gridcolor\":\"white\",\"linecolor\":\"white\",\"minorgridcolor\":\"white\",\"startlinecolor\":\"#2a3f5f\"},\"type\":\"carpet\"}],\"table\":[{\"cells\":{\"fill\":{\"color\":\"#EBF0F8\"},\"line\":{\"color\":\"white\"}},\"header\":{\"fill\":{\"color\":\"#C8D4E3\"},\"line\":{\"color\":\"white\"}},\"type\":\"table\"}],\"barpolar\":[{\"marker\":{\"line\":{\"color\":\"#E5ECF6\",\"width\":0.5},\"pattern\":{\"fillmode\":\"overlay\",\"size\":10,\"solidity\":0.2}},\"type\":\"barpolar\"}],\"pie\":[{\"automargin\":true,\"type\":\"pie\"}]},\"layout\":{\"autotypenumbers\":\"strict\",\"colorway\":[\"#636efa\",\"#EF553B\",\"#00cc96\",\"#ab63fa\",\"#FFA15A\",\"#19d3f3\",\"#FF6692\",\"#B6E880\",\"#FF97FF\",\"#FECB52\"],\"font\":{\"color\":\"#2a3f5f\"},\"hovermode\":\"closest\",\"hoverlabel\":{\"align\":\"left\"},\"paper_bgcolor\":\"white\",\"plot_bgcolor\":\"#E5ECF6\",\"polar\":{\"bgcolor\":\"#E5ECF6\",\"angularaxis\":{\"gridcolor\":\"white\",\"linecolor\":\"white\",\"ticks\":\"\"},\"radialaxis\":{\"gridcolor\":\"white\",\"linecolor\":\"white\",\"ticks\":\"\"}},\"ternary\":{\"bgcolor\":\"#E5ECF6\",\"aaxis\":{\"gridcolor\":\"white\",\"linecolor\":\"white\",\"ticks\":\"\"},\"baxis\":{\"gridcolor\":\"white\",\"linecolor\":\"white\",\"ticks\":\"\"},\"caxis\":{\"gridcolor\":\"white\",\"linecolor\":\"white\",\"ticks\":\"\"}},\"coloraxis\":{\"colorbar\":{\"outlinewidth\":0,\"ticks\":\"\"}},\"colorscale\":{\"sequential\":[[0.0,\"#0d0887\"],[0.1111111111111111,\"#46039f\"],[0.2222222222222222,\"#7201a8\"],[0.3333333333333333,\"#9c179e\"],[0.4444444444444444,\"#bd3786\"],[0.5555555555555556,\"#d8576b\"],[0.6666666666666666,\"#ed7953\"],[0.7777777777777778,\"#fb9f3a\"],[0.8888888888888888,\"#fdca26\"],[1.0,\"#f0f921\"]],\"sequentialminus\":[[0.0,\"#0d0887\"],[0.1111111111111111,\"#46039f\"],[0.2222222222222222,\"#7201a8\"],[0.3333333333333333,\"#9c179e\"],[0.4444444444444444,\"#bd3786\"],[0.5555555555555556,\"#d8576b\"],[0.6666666666666666,\"#ed7953\"],[0.7777777777777778,\"#fb9f3a\"],[0.8888888888888888,\"#fdca26\"],[1.0,\"#f0f921\"]],\"diverging\":[[0,\"#8e0152\"],[0.1,\"#c51b7d\"],[0.2,\"#de77ae\"],[0.3,\"#f1b6da\"],[0.4,\"#fde0ef\"],[0.5,\"#f7f7f7\"],[0.6,\"#e6f5d0\"],[0.7,\"#b8e186\"],[0.8,\"#7fbc41\"],[0.9,\"#4d9221\"],[1,\"#276419\"]]},\"xaxis\":{\"gridcolor\":\"white\",\"linecolor\":\"white\",\"ticks\":\"\",\"title\":{\"standoff\":15},\"zerolinecolor\":\"white\",\"automargin\":true,\"zerolinewidth\":2},\"yaxis\":{\"gridcolor\":\"white\",\"linecolor\":\"white\",\"ticks\":\"\",\"title\":{\"standoff\":15},\"zerolinecolor\":\"white\",\"automargin\":true,\"zerolinewidth\":2},\"scene\":{\"xaxis\":{\"backgroundcolor\":\"#E5ECF6\",\"gridcolor\":\"white\",\"linecolor\":\"white\",\"showbackground\":true,\"ticks\":\"\",\"zerolinecolor\":\"white\",\"gridwidth\":2},\"yaxis\":{\"backgroundcolor\":\"#E5ECF6\",\"gridcolor\":\"white\",\"linecolor\":\"white\",\"showbackground\":true,\"ticks\":\"\",\"zerolinecolor\":\"white\",\"gridwidth\":2},\"zaxis\":{\"backgroundcolor\":\"#E5ECF6\",\"gridcolor\":\"white\",\"linecolor\":\"white\",\"showbackground\":true,\"ticks\":\"\",\"zerolinecolor\":\"white\",\"gridwidth\":2}},\"shapedefaults\":{\"line\":{\"color\":\"#2a3f5f\"}},\"annotationdefaults\":{\"arrowcolor\":\"#2a3f5f\",\"arrowhead\":0,\"arrowwidth\":1},\"geo\":{\"bgcolor\":\"white\",\"landcolor\":\"#E5ECF6\",\"subunitcolor\":\"white\",\"showland\":true,\"showlakes\":true,\"lakecolor\":\"white\"},\"title\":{\"x\":0.05},\"mapbox\":{\"style\":\"light\"}}},\"xaxis\":{\"anchor\":\"y\",\"domain\":[0.0,1.0],\"title\":{\"text\":\"total_bill\"}},\"yaxis\":{\"anchor\":\"x\",\"domain\":[0.0,1.0],\"title\":{\"text\":\"count\"}},\"legend\":{\"tracegroupgap\":0},\"margin\":{\"t\":60},\"barmode\":\"relative\"},                        {\"responsive\": true}                    ).then(function(){\n                            \nvar gd = document.getElementById('a5556163-1613-47cc-9539-c2921c41d884');\nvar x = new MutationObserver(function (mutations, observer) {{\n        var display = window.getComputedStyle(gd).display;\n        if (!display || display === 'none') {{\n            console.log([gd, 'removed!']);\n            Plotly.purge(gd);\n            observer.disconnect();\n        }}\n}});\n\n// Listen for the removal of the full notebook cells\nvar notebookContainer = gd.closest('#notebook-container');\nif (notebookContainer) {{\n    x.observe(notebookContainer, {childList: true});\n}}\n\n// Listen for the clearing of the current output cell\nvar outputEl = gd.closest('.output');\nif (outputEl) {{\n    x.observe(outputEl, {childList: true});\n}}\n\n                        })                };                });            </script>        </div>"
     },
     "metadata": {},
     "output_type": "display_data"
    }
   ],
   "source": [
    "import plotly.express as px\n",
    "df = px.data.tips()\n",
    "fig = px.histogram(df, x=\"total_bill\")\n",
    "fig.show()"
   ]
  },
  {
   "cell_type": "code",
   "execution_count": 238,
   "outputs": [
    {
     "data": {
      "text/plain": "     total_bill   tip     sex smoker   day    time  size\n0         16.99  1.01  Female     No   Sun  Dinner     2\n1         10.34  1.66    Male     No   Sun  Dinner     3\n2         21.01  3.50    Male     No   Sun  Dinner     3\n3         23.68  3.31    Male     No   Sun  Dinner     2\n4         24.59  3.61  Female     No   Sun  Dinner     4\n..          ...   ...     ...    ...   ...     ...   ...\n239       29.03  5.92    Male     No   Sat  Dinner     3\n240       27.18  2.00  Female    Yes   Sat  Dinner     2\n241       22.67  2.00    Male    Yes   Sat  Dinner     2\n242       17.82  1.75    Male     No   Sat  Dinner     2\n243       18.78  3.00  Female     No  Thur  Dinner     2\n\n[244 rows x 7 columns]",
      "text/html": "<div>\n<style scoped>\n    .dataframe tbody tr th:only-of-type {\n        vertical-align: middle;\n    }\n\n    .dataframe tbody tr th {\n        vertical-align: top;\n    }\n\n    .dataframe thead th {\n        text-align: right;\n    }\n</style>\n<table border=\"1\" class=\"dataframe\">\n  <thead>\n    <tr style=\"text-align: right;\">\n      <th></th>\n      <th>total_bill</th>\n      <th>tip</th>\n      <th>sex</th>\n      <th>smoker</th>\n      <th>day</th>\n      <th>time</th>\n      <th>size</th>\n    </tr>\n  </thead>\n  <tbody>\n    <tr>\n      <th>0</th>\n      <td>16.99</td>\n      <td>1.01</td>\n      <td>Female</td>\n      <td>No</td>\n      <td>Sun</td>\n      <td>Dinner</td>\n      <td>2</td>\n    </tr>\n    <tr>\n      <th>1</th>\n      <td>10.34</td>\n      <td>1.66</td>\n      <td>Male</td>\n      <td>No</td>\n      <td>Sun</td>\n      <td>Dinner</td>\n      <td>3</td>\n    </tr>\n    <tr>\n      <th>2</th>\n      <td>21.01</td>\n      <td>3.50</td>\n      <td>Male</td>\n      <td>No</td>\n      <td>Sun</td>\n      <td>Dinner</td>\n      <td>3</td>\n    </tr>\n    <tr>\n      <th>3</th>\n      <td>23.68</td>\n      <td>3.31</td>\n      <td>Male</td>\n      <td>No</td>\n      <td>Sun</td>\n      <td>Dinner</td>\n      <td>2</td>\n    </tr>\n    <tr>\n      <th>4</th>\n      <td>24.59</td>\n      <td>3.61</td>\n      <td>Female</td>\n      <td>No</td>\n      <td>Sun</td>\n      <td>Dinner</td>\n      <td>4</td>\n    </tr>\n    <tr>\n      <th>...</th>\n      <td>...</td>\n      <td>...</td>\n      <td>...</td>\n      <td>...</td>\n      <td>...</td>\n      <td>...</td>\n      <td>...</td>\n    </tr>\n    <tr>\n      <th>239</th>\n      <td>29.03</td>\n      <td>5.92</td>\n      <td>Male</td>\n      <td>No</td>\n      <td>Sat</td>\n      <td>Dinner</td>\n      <td>3</td>\n    </tr>\n    <tr>\n      <th>240</th>\n      <td>27.18</td>\n      <td>2.00</td>\n      <td>Female</td>\n      <td>Yes</td>\n      <td>Sat</td>\n      <td>Dinner</td>\n      <td>2</td>\n    </tr>\n    <tr>\n      <th>241</th>\n      <td>22.67</td>\n      <td>2.00</td>\n      <td>Male</td>\n      <td>Yes</td>\n      <td>Sat</td>\n      <td>Dinner</td>\n      <td>2</td>\n    </tr>\n    <tr>\n      <th>242</th>\n      <td>17.82</td>\n      <td>1.75</td>\n      <td>Male</td>\n      <td>No</td>\n      <td>Sat</td>\n      <td>Dinner</td>\n      <td>2</td>\n    </tr>\n    <tr>\n      <th>243</th>\n      <td>18.78</td>\n      <td>3.00</td>\n      <td>Female</td>\n      <td>No</td>\n      <td>Thur</td>\n      <td>Dinner</td>\n      <td>2</td>\n    </tr>\n  </tbody>\n</table>\n<p>244 rows × 7 columns</p>\n</div>"
     },
     "execution_count": 238,
     "metadata": {},
     "output_type": "execute_result"
    }
   ],
   "source": [
    "df"
   ],
   "metadata": {
    "collapsed": false,
    "pycharm": {
     "name": "#%%\n"
    }
   }
  },
  {
   "cell_type": "markdown",
   "id": "e6ccc7cb",
   "metadata": {},
   "source": [
    "## Box plot"
   ]
  },
  {
   "cell_type": "code",
   "execution_count": 239,
   "id": "f79774ae",
   "metadata": {},
   "outputs": [
    {
     "data": {
      "application/vnd.plotly.v1+json": {
       "data": [
        {
         "alignmentgroup": "True",
         "hovertemplate": "total_bill=%{y}<extra></extra>",
         "legendgroup": "",
         "marker": {
          "color": "#636efa"
         },
         "name": "",
         "notched": false,
         "offsetgroup": "",
         "orientation": "v",
         "showlegend": false,
         "x0": " ",
         "xaxis": "x",
         "y": [
          16.99,
          10.34,
          21.01,
          23.68,
          24.59,
          25.29,
          8.77,
          26.88,
          15.04,
          14.78,
          10.27,
          35.26,
          15.42,
          18.43,
          14.83,
          21.58,
          10.33,
          16.29,
          16.97,
          20.65,
          17.92,
          20.29,
          15.77,
          39.42,
          19.82,
          17.81,
          13.37,
          12.69,
          21.7,
          19.65,
          9.55,
          18.35,
          15.06,
          20.69,
          17.78,
          24.06,
          16.31,
          16.93,
          18.69,
          31.27,
          16.04,
          17.46,
          13.94,
          9.68,
          30.4,
          18.29,
          22.23,
          32.4,
          28.55,
          18.04,
          12.54,
          10.29,
          34.81,
          9.94,
          25.56,
          19.49,
          38.01,
          26.41,
          11.24,
          48.27,
          20.29,
          13.81,
          11.02,
          18.29,
          17.59,
          20.08,
          16.45,
          3.07,
          20.23,
          15.01,
          12.02,
          17.07,
          26.86,
          25.28,
          14.73,
          10.51,
          17.92,
          27.2,
          22.76,
          17.29,
          19.44,
          16.66,
          10.07,
          32.68,
          15.98,
          34.83,
          13.03,
          18.28,
          24.71,
          21.16,
          28.97,
          22.49,
          5.75,
          16.32,
          22.75,
          40.17,
          27.28,
          12.03,
          21.01,
          12.46,
          11.35,
          15.38,
          44.3,
          22.42,
          20.92,
          15.36,
          20.49,
          25.21,
          18.24,
          14.31,
          14.0,
          7.25,
          38.07,
          23.95,
          25.71,
          17.31,
          29.93,
          10.65,
          12.43,
          24.08,
          11.69,
          13.42,
          14.26,
          15.95,
          12.48,
          29.8,
          8.52,
          14.52,
          11.38,
          22.82,
          19.08,
          20.27,
          11.17,
          12.26,
          18.26,
          8.51,
          10.33,
          14.15,
          16.0,
          13.16,
          17.47,
          34.3,
          41.19,
          27.05,
          16.43,
          8.35,
          18.64,
          11.87,
          9.78,
          7.51,
          14.07,
          13.13,
          17.26,
          24.55,
          19.77,
          29.85,
          48.17,
          25.0,
          13.39,
          16.49,
          21.5,
          12.66,
          16.21,
          13.81,
          17.51,
          24.52,
          20.76,
          31.71,
          10.59,
          10.63,
          50.81,
          15.81,
          7.25,
          31.85,
          16.82,
          32.9,
          17.89,
          14.48,
          9.6,
          34.63,
          34.65,
          23.33,
          45.35,
          23.17,
          40.55,
          20.69,
          20.9,
          30.46,
          18.15,
          23.1,
          15.69,
          19.81,
          28.44,
          15.48,
          16.58,
          7.56,
          10.34,
          43.11,
          13.0,
          13.51,
          18.71,
          12.74,
          13.0,
          16.4,
          20.53,
          16.47,
          26.59,
          38.73,
          24.27,
          12.76,
          30.06,
          25.89,
          48.33,
          13.27,
          28.17,
          12.9,
          28.15,
          11.59,
          7.74,
          30.14,
          12.16,
          13.42,
          8.58,
          15.98,
          13.42,
          16.27,
          10.09,
          20.45,
          13.28,
          22.12,
          24.01,
          15.69,
          11.61,
          10.77,
          15.53,
          10.07,
          12.6,
          32.83,
          35.83,
          29.03,
          27.18,
          22.67,
          17.82,
          18.78
         ],
         "y0": " ",
         "yaxis": "y",
         "type": "box"
        }
       ],
       "layout": {
        "template": {
         "data": {
          "histogram2dcontour": [
           {
            "type": "histogram2dcontour",
            "colorbar": {
             "outlinewidth": 0,
             "ticks": ""
            },
            "colorscale": [
             [
              0.0,
              "#0d0887"
             ],
             [
              0.1111111111111111,
              "#46039f"
             ],
             [
              0.2222222222222222,
              "#7201a8"
             ],
             [
              0.3333333333333333,
              "#9c179e"
             ],
             [
              0.4444444444444444,
              "#bd3786"
             ],
             [
              0.5555555555555556,
              "#d8576b"
             ],
             [
              0.6666666666666666,
              "#ed7953"
             ],
             [
              0.7777777777777778,
              "#fb9f3a"
             ],
             [
              0.8888888888888888,
              "#fdca26"
             ],
             [
              1.0,
              "#f0f921"
             ]
            ]
           }
          ],
          "choropleth": [
           {
            "type": "choropleth",
            "colorbar": {
             "outlinewidth": 0,
             "ticks": ""
            }
           }
          ],
          "histogram2d": [
           {
            "type": "histogram2d",
            "colorbar": {
             "outlinewidth": 0,
             "ticks": ""
            },
            "colorscale": [
             [
              0.0,
              "#0d0887"
             ],
             [
              0.1111111111111111,
              "#46039f"
             ],
             [
              0.2222222222222222,
              "#7201a8"
             ],
             [
              0.3333333333333333,
              "#9c179e"
             ],
             [
              0.4444444444444444,
              "#bd3786"
             ],
             [
              0.5555555555555556,
              "#d8576b"
             ],
             [
              0.6666666666666666,
              "#ed7953"
             ],
             [
              0.7777777777777778,
              "#fb9f3a"
             ],
             [
              0.8888888888888888,
              "#fdca26"
             ],
             [
              1.0,
              "#f0f921"
             ]
            ]
           }
          ],
          "heatmap": [
           {
            "type": "heatmap",
            "colorbar": {
             "outlinewidth": 0,
             "ticks": ""
            },
            "colorscale": [
             [
              0.0,
              "#0d0887"
             ],
             [
              0.1111111111111111,
              "#46039f"
             ],
             [
              0.2222222222222222,
              "#7201a8"
             ],
             [
              0.3333333333333333,
              "#9c179e"
             ],
             [
              0.4444444444444444,
              "#bd3786"
             ],
             [
              0.5555555555555556,
              "#d8576b"
             ],
             [
              0.6666666666666666,
              "#ed7953"
             ],
             [
              0.7777777777777778,
              "#fb9f3a"
             ],
             [
              0.8888888888888888,
              "#fdca26"
             ],
             [
              1.0,
              "#f0f921"
             ]
            ]
           }
          ],
          "heatmapgl": [
           {
            "type": "heatmapgl",
            "colorbar": {
             "outlinewidth": 0,
             "ticks": ""
            },
            "colorscale": [
             [
              0.0,
              "#0d0887"
             ],
             [
              0.1111111111111111,
              "#46039f"
             ],
             [
              0.2222222222222222,
              "#7201a8"
             ],
             [
              0.3333333333333333,
              "#9c179e"
             ],
             [
              0.4444444444444444,
              "#bd3786"
             ],
             [
              0.5555555555555556,
              "#d8576b"
             ],
             [
              0.6666666666666666,
              "#ed7953"
             ],
             [
              0.7777777777777778,
              "#fb9f3a"
             ],
             [
              0.8888888888888888,
              "#fdca26"
             ],
             [
              1.0,
              "#f0f921"
             ]
            ]
           }
          ],
          "contourcarpet": [
           {
            "type": "contourcarpet",
            "colorbar": {
             "outlinewidth": 0,
             "ticks": ""
            }
           }
          ],
          "contour": [
           {
            "type": "contour",
            "colorbar": {
             "outlinewidth": 0,
             "ticks": ""
            },
            "colorscale": [
             [
              0.0,
              "#0d0887"
             ],
             [
              0.1111111111111111,
              "#46039f"
             ],
             [
              0.2222222222222222,
              "#7201a8"
             ],
             [
              0.3333333333333333,
              "#9c179e"
             ],
             [
              0.4444444444444444,
              "#bd3786"
             ],
             [
              0.5555555555555556,
              "#d8576b"
             ],
             [
              0.6666666666666666,
              "#ed7953"
             ],
             [
              0.7777777777777778,
              "#fb9f3a"
             ],
             [
              0.8888888888888888,
              "#fdca26"
             ],
             [
              1.0,
              "#f0f921"
             ]
            ]
           }
          ],
          "surface": [
           {
            "type": "surface",
            "colorbar": {
             "outlinewidth": 0,
             "ticks": ""
            },
            "colorscale": [
             [
              0.0,
              "#0d0887"
             ],
             [
              0.1111111111111111,
              "#46039f"
             ],
             [
              0.2222222222222222,
              "#7201a8"
             ],
             [
              0.3333333333333333,
              "#9c179e"
             ],
             [
              0.4444444444444444,
              "#bd3786"
             ],
             [
              0.5555555555555556,
              "#d8576b"
             ],
             [
              0.6666666666666666,
              "#ed7953"
             ],
             [
              0.7777777777777778,
              "#fb9f3a"
             ],
             [
              0.8888888888888888,
              "#fdca26"
             ],
             [
              1.0,
              "#f0f921"
             ]
            ]
           }
          ],
          "mesh3d": [
           {
            "type": "mesh3d",
            "colorbar": {
             "outlinewidth": 0,
             "ticks": ""
            }
           }
          ],
          "scatter": [
           {
            "fillpattern": {
             "fillmode": "overlay",
             "size": 10,
             "solidity": 0.2
            },
            "type": "scatter"
           }
          ],
          "parcoords": [
           {
            "type": "parcoords",
            "line": {
             "colorbar": {
              "outlinewidth": 0,
              "ticks": ""
             }
            }
           }
          ],
          "scatterpolargl": [
           {
            "type": "scatterpolargl",
            "marker": {
             "colorbar": {
              "outlinewidth": 0,
              "ticks": ""
             }
            }
           }
          ],
          "bar": [
           {
            "error_x": {
             "color": "#2a3f5f"
            },
            "error_y": {
             "color": "#2a3f5f"
            },
            "marker": {
             "line": {
              "color": "#E5ECF6",
              "width": 0.5
             },
             "pattern": {
              "fillmode": "overlay",
              "size": 10,
              "solidity": 0.2
             }
            },
            "type": "bar"
           }
          ],
          "scattergeo": [
           {
            "type": "scattergeo",
            "marker": {
             "colorbar": {
              "outlinewidth": 0,
              "ticks": ""
             }
            }
           }
          ],
          "scatterpolar": [
           {
            "type": "scatterpolar",
            "marker": {
             "colorbar": {
              "outlinewidth": 0,
              "ticks": ""
             }
            }
           }
          ],
          "histogram": [
           {
            "marker": {
             "pattern": {
              "fillmode": "overlay",
              "size": 10,
              "solidity": 0.2
             }
            },
            "type": "histogram"
           }
          ],
          "scattergl": [
           {
            "type": "scattergl",
            "marker": {
             "colorbar": {
              "outlinewidth": 0,
              "ticks": ""
             }
            }
           }
          ],
          "scatter3d": [
           {
            "type": "scatter3d",
            "line": {
             "colorbar": {
              "outlinewidth": 0,
              "ticks": ""
             }
            },
            "marker": {
             "colorbar": {
              "outlinewidth": 0,
              "ticks": ""
             }
            }
           }
          ],
          "scattermapbox": [
           {
            "type": "scattermapbox",
            "marker": {
             "colorbar": {
              "outlinewidth": 0,
              "ticks": ""
             }
            }
           }
          ],
          "scatterternary": [
           {
            "type": "scatterternary",
            "marker": {
             "colorbar": {
              "outlinewidth": 0,
              "ticks": ""
             }
            }
           }
          ],
          "scattercarpet": [
           {
            "type": "scattercarpet",
            "marker": {
             "colorbar": {
              "outlinewidth": 0,
              "ticks": ""
             }
            }
           }
          ],
          "carpet": [
           {
            "aaxis": {
             "endlinecolor": "#2a3f5f",
             "gridcolor": "white",
             "linecolor": "white",
             "minorgridcolor": "white",
             "startlinecolor": "#2a3f5f"
            },
            "baxis": {
             "endlinecolor": "#2a3f5f",
             "gridcolor": "white",
             "linecolor": "white",
             "minorgridcolor": "white",
             "startlinecolor": "#2a3f5f"
            },
            "type": "carpet"
           }
          ],
          "table": [
           {
            "cells": {
             "fill": {
              "color": "#EBF0F8"
             },
             "line": {
              "color": "white"
             }
            },
            "header": {
             "fill": {
              "color": "#C8D4E3"
             },
             "line": {
              "color": "white"
             }
            },
            "type": "table"
           }
          ],
          "barpolar": [
           {
            "marker": {
             "line": {
              "color": "#E5ECF6",
              "width": 0.5
             },
             "pattern": {
              "fillmode": "overlay",
              "size": 10,
              "solidity": 0.2
             }
            },
            "type": "barpolar"
           }
          ],
          "pie": [
           {
            "automargin": true,
            "type": "pie"
           }
          ]
         },
         "layout": {
          "autotypenumbers": "strict",
          "colorway": [
           "#636efa",
           "#EF553B",
           "#00cc96",
           "#ab63fa",
           "#FFA15A",
           "#19d3f3",
           "#FF6692",
           "#B6E880",
           "#FF97FF",
           "#FECB52"
          ],
          "font": {
           "color": "#2a3f5f"
          },
          "hovermode": "closest",
          "hoverlabel": {
           "align": "left"
          },
          "paper_bgcolor": "white",
          "plot_bgcolor": "#E5ECF6",
          "polar": {
           "bgcolor": "#E5ECF6",
           "angularaxis": {
            "gridcolor": "white",
            "linecolor": "white",
            "ticks": ""
           },
           "radialaxis": {
            "gridcolor": "white",
            "linecolor": "white",
            "ticks": ""
           }
          },
          "ternary": {
           "bgcolor": "#E5ECF6",
           "aaxis": {
            "gridcolor": "white",
            "linecolor": "white",
            "ticks": ""
           },
           "baxis": {
            "gridcolor": "white",
            "linecolor": "white",
            "ticks": ""
           },
           "caxis": {
            "gridcolor": "white",
            "linecolor": "white",
            "ticks": ""
           }
          },
          "coloraxis": {
           "colorbar": {
            "outlinewidth": 0,
            "ticks": ""
           }
          },
          "colorscale": {
           "sequential": [
            [
             0.0,
             "#0d0887"
            ],
            [
             0.1111111111111111,
             "#46039f"
            ],
            [
             0.2222222222222222,
             "#7201a8"
            ],
            [
             0.3333333333333333,
             "#9c179e"
            ],
            [
             0.4444444444444444,
             "#bd3786"
            ],
            [
             0.5555555555555556,
             "#d8576b"
            ],
            [
             0.6666666666666666,
             "#ed7953"
            ],
            [
             0.7777777777777778,
             "#fb9f3a"
            ],
            [
             0.8888888888888888,
             "#fdca26"
            ],
            [
             1.0,
             "#f0f921"
            ]
           ],
           "sequentialminus": [
            [
             0.0,
             "#0d0887"
            ],
            [
             0.1111111111111111,
             "#46039f"
            ],
            [
             0.2222222222222222,
             "#7201a8"
            ],
            [
             0.3333333333333333,
             "#9c179e"
            ],
            [
             0.4444444444444444,
             "#bd3786"
            ],
            [
             0.5555555555555556,
             "#d8576b"
            ],
            [
             0.6666666666666666,
             "#ed7953"
            ],
            [
             0.7777777777777778,
             "#fb9f3a"
            ],
            [
             0.8888888888888888,
             "#fdca26"
            ],
            [
             1.0,
             "#f0f921"
            ]
           ],
           "diverging": [
            [
             0,
             "#8e0152"
            ],
            [
             0.1,
             "#c51b7d"
            ],
            [
             0.2,
             "#de77ae"
            ],
            [
             0.3,
             "#f1b6da"
            ],
            [
             0.4,
             "#fde0ef"
            ],
            [
             0.5,
             "#f7f7f7"
            ],
            [
             0.6,
             "#e6f5d0"
            ],
            [
             0.7,
             "#b8e186"
            ],
            [
             0.8,
             "#7fbc41"
            ],
            [
             0.9,
             "#4d9221"
            ],
            [
             1,
             "#276419"
            ]
           ]
          },
          "xaxis": {
           "gridcolor": "white",
           "linecolor": "white",
           "ticks": "",
           "title": {
            "standoff": 15
           },
           "zerolinecolor": "white",
           "automargin": true,
           "zerolinewidth": 2
          },
          "yaxis": {
           "gridcolor": "white",
           "linecolor": "white",
           "ticks": "",
           "title": {
            "standoff": 15
           },
           "zerolinecolor": "white",
           "automargin": true,
           "zerolinewidth": 2
          },
          "scene": {
           "xaxis": {
            "backgroundcolor": "#E5ECF6",
            "gridcolor": "white",
            "linecolor": "white",
            "showbackground": true,
            "ticks": "",
            "zerolinecolor": "white",
            "gridwidth": 2
           },
           "yaxis": {
            "backgroundcolor": "#E5ECF6",
            "gridcolor": "white",
            "linecolor": "white",
            "showbackground": true,
            "ticks": "",
            "zerolinecolor": "white",
            "gridwidth": 2
           },
           "zaxis": {
            "backgroundcolor": "#E5ECF6",
            "gridcolor": "white",
            "linecolor": "white",
            "showbackground": true,
            "ticks": "",
            "zerolinecolor": "white",
            "gridwidth": 2
           }
          },
          "shapedefaults": {
           "line": {
            "color": "#2a3f5f"
           }
          },
          "annotationdefaults": {
           "arrowcolor": "#2a3f5f",
           "arrowhead": 0,
           "arrowwidth": 1
          },
          "geo": {
           "bgcolor": "white",
           "landcolor": "#E5ECF6",
           "subunitcolor": "white",
           "showland": true,
           "showlakes": true,
           "lakecolor": "white"
          },
          "title": {
           "x": 0.05
          },
          "mapbox": {
           "style": "light"
          }
         }
        },
        "xaxis": {
         "anchor": "y",
         "domain": [
          0.0,
          1.0
         ]
        },
        "yaxis": {
         "anchor": "x",
         "domain": [
          0.0,
          1.0
         ],
         "title": {
          "text": "total_bill"
         }
        },
        "legend": {
         "tracegroupgap": 0
        },
        "margin": {
         "t": 60
        },
        "boxmode": "group"
       },
       "config": {
        "plotlyServerURL": "https://plot.ly"
       }
      },
      "text/html": "<div>                            <div id=\"cb8499cd-4999-43b1-8416-114c3c615e60\" class=\"plotly-graph-div\" style=\"height:525px; width:100%;\"></div>            <script type=\"text/javascript\">                require([\"plotly\"], function(Plotly) {                    window.PLOTLYENV=window.PLOTLYENV || {};                                    if (document.getElementById(\"cb8499cd-4999-43b1-8416-114c3c615e60\")) {                    Plotly.newPlot(                        \"cb8499cd-4999-43b1-8416-114c3c615e60\",                        [{\"alignmentgroup\":\"True\",\"hovertemplate\":\"total_bill=%{y}<extra></extra>\",\"legendgroup\":\"\",\"marker\":{\"color\":\"#636efa\"},\"name\":\"\",\"notched\":false,\"offsetgroup\":\"\",\"orientation\":\"v\",\"showlegend\":false,\"x0\":\" \",\"xaxis\":\"x\",\"y\":[16.99,10.34,21.01,23.68,24.59,25.29,8.77,26.88,15.04,14.78,10.27,35.26,15.42,18.43,14.83,21.58,10.33,16.29,16.97,20.65,17.92,20.29,15.77,39.42,19.82,17.81,13.37,12.69,21.7,19.65,9.55,18.35,15.06,20.69,17.78,24.06,16.31,16.93,18.69,31.27,16.04,17.46,13.94,9.68,30.4,18.29,22.23,32.4,28.55,18.04,12.54,10.29,34.81,9.94,25.56,19.49,38.01,26.41,11.24,48.27,20.29,13.81,11.02,18.29,17.59,20.08,16.45,3.07,20.23,15.01,12.02,17.07,26.86,25.28,14.73,10.51,17.92,27.2,22.76,17.29,19.44,16.66,10.07,32.68,15.98,34.83,13.03,18.28,24.71,21.16,28.97,22.49,5.75,16.32,22.75,40.17,27.28,12.03,21.01,12.46,11.35,15.38,44.3,22.42,20.92,15.36,20.49,25.21,18.24,14.31,14.0,7.25,38.07,23.95,25.71,17.31,29.93,10.65,12.43,24.08,11.69,13.42,14.26,15.95,12.48,29.8,8.52,14.52,11.38,22.82,19.08,20.27,11.17,12.26,18.26,8.51,10.33,14.15,16.0,13.16,17.47,34.3,41.19,27.05,16.43,8.35,18.64,11.87,9.78,7.51,14.07,13.13,17.26,24.55,19.77,29.85,48.17,25.0,13.39,16.49,21.5,12.66,16.21,13.81,17.51,24.52,20.76,31.71,10.59,10.63,50.81,15.81,7.25,31.85,16.82,32.9,17.89,14.48,9.6,34.63,34.65,23.33,45.35,23.17,40.55,20.69,20.9,30.46,18.15,23.1,15.69,19.81,28.44,15.48,16.58,7.56,10.34,43.11,13.0,13.51,18.71,12.74,13.0,16.4,20.53,16.47,26.59,38.73,24.27,12.76,30.06,25.89,48.33,13.27,28.17,12.9,28.15,11.59,7.74,30.14,12.16,13.42,8.58,15.98,13.42,16.27,10.09,20.45,13.28,22.12,24.01,15.69,11.61,10.77,15.53,10.07,12.6,32.83,35.83,29.03,27.18,22.67,17.82,18.78],\"y0\":\" \",\"yaxis\":\"y\",\"type\":\"box\"}],                        {\"template\":{\"data\":{\"histogram2dcontour\":[{\"type\":\"histogram2dcontour\",\"colorbar\":{\"outlinewidth\":0,\"ticks\":\"\"},\"colorscale\":[[0.0,\"#0d0887\"],[0.1111111111111111,\"#46039f\"],[0.2222222222222222,\"#7201a8\"],[0.3333333333333333,\"#9c179e\"],[0.4444444444444444,\"#bd3786\"],[0.5555555555555556,\"#d8576b\"],[0.6666666666666666,\"#ed7953\"],[0.7777777777777778,\"#fb9f3a\"],[0.8888888888888888,\"#fdca26\"],[1.0,\"#f0f921\"]]}],\"choropleth\":[{\"type\":\"choropleth\",\"colorbar\":{\"outlinewidth\":0,\"ticks\":\"\"}}],\"histogram2d\":[{\"type\":\"histogram2d\",\"colorbar\":{\"outlinewidth\":0,\"ticks\":\"\"},\"colorscale\":[[0.0,\"#0d0887\"],[0.1111111111111111,\"#46039f\"],[0.2222222222222222,\"#7201a8\"],[0.3333333333333333,\"#9c179e\"],[0.4444444444444444,\"#bd3786\"],[0.5555555555555556,\"#d8576b\"],[0.6666666666666666,\"#ed7953\"],[0.7777777777777778,\"#fb9f3a\"],[0.8888888888888888,\"#fdca26\"],[1.0,\"#f0f921\"]]}],\"heatmap\":[{\"type\":\"heatmap\",\"colorbar\":{\"outlinewidth\":0,\"ticks\":\"\"},\"colorscale\":[[0.0,\"#0d0887\"],[0.1111111111111111,\"#46039f\"],[0.2222222222222222,\"#7201a8\"],[0.3333333333333333,\"#9c179e\"],[0.4444444444444444,\"#bd3786\"],[0.5555555555555556,\"#d8576b\"],[0.6666666666666666,\"#ed7953\"],[0.7777777777777778,\"#fb9f3a\"],[0.8888888888888888,\"#fdca26\"],[1.0,\"#f0f921\"]]}],\"heatmapgl\":[{\"type\":\"heatmapgl\",\"colorbar\":{\"outlinewidth\":0,\"ticks\":\"\"},\"colorscale\":[[0.0,\"#0d0887\"],[0.1111111111111111,\"#46039f\"],[0.2222222222222222,\"#7201a8\"],[0.3333333333333333,\"#9c179e\"],[0.4444444444444444,\"#bd3786\"],[0.5555555555555556,\"#d8576b\"],[0.6666666666666666,\"#ed7953\"],[0.7777777777777778,\"#fb9f3a\"],[0.8888888888888888,\"#fdca26\"],[1.0,\"#f0f921\"]]}],\"contourcarpet\":[{\"type\":\"contourcarpet\",\"colorbar\":{\"outlinewidth\":0,\"ticks\":\"\"}}],\"contour\":[{\"type\":\"contour\",\"colorbar\":{\"outlinewidth\":0,\"ticks\":\"\"},\"colorscale\":[[0.0,\"#0d0887\"],[0.1111111111111111,\"#46039f\"],[0.2222222222222222,\"#7201a8\"],[0.3333333333333333,\"#9c179e\"],[0.4444444444444444,\"#bd3786\"],[0.5555555555555556,\"#d8576b\"],[0.6666666666666666,\"#ed7953\"],[0.7777777777777778,\"#fb9f3a\"],[0.8888888888888888,\"#fdca26\"],[1.0,\"#f0f921\"]]}],\"surface\":[{\"type\":\"surface\",\"colorbar\":{\"outlinewidth\":0,\"ticks\":\"\"},\"colorscale\":[[0.0,\"#0d0887\"],[0.1111111111111111,\"#46039f\"],[0.2222222222222222,\"#7201a8\"],[0.3333333333333333,\"#9c179e\"],[0.4444444444444444,\"#bd3786\"],[0.5555555555555556,\"#d8576b\"],[0.6666666666666666,\"#ed7953\"],[0.7777777777777778,\"#fb9f3a\"],[0.8888888888888888,\"#fdca26\"],[1.0,\"#f0f921\"]]}],\"mesh3d\":[{\"type\":\"mesh3d\",\"colorbar\":{\"outlinewidth\":0,\"ticks\":\"\"}}],\"scatter\":[{\"fillpattern\":{\"fillmode\":\"overlay\",\"size\":10,\"solidity\":0.2},\"type\":\"scatter\"}],\"parcoords\":[{\"type\":\"parcoords\",\"line\":{\"colorbar\":{\"outlinewidth\":0,\"ticks\":\"\"}}}],\"scatterpolargl\":[{\"type\":\"scatterpolargl\",\"marker\":{\"colorbar\":{\"outlinewidth\":0,\"ticks\":\"\"}}}],\"bar\":[{\"error_x\":{\"color\":\"#2a3f5f\"},\"error_y\":{\"color\":\"#2a3f5f\"},\"marker\":{\"line\":{\"color\":\"#E5ECF6\",\"width\":0.5},\"pattern\":{\"fillmode\":\"overlay\",\"size\":10,\"solidity\":0.2}},\"type\":\"bar\"}],\"scattergeo\":[{\"type\":\"scattergeo\",\"marker\":{\"colorbar\":{\"outlinewidth\":0,\"ticks\":\"\"}}}],\"scatterpolar\":[{\"type\":\"scatterpolar\",\"marker\":{\"colorbar\":{\"outlinewidth\":0,\"ticks\":\"\"}}}],\"histogram\":[{\"marker\":{\"pattern\":{\"fillmode\":\"overlay\",\"size\":10,\"solidity\":0.2}},\"type\":\"histogram\"}],\"scattergl\":[{\"type\":\"scattergl\",\"marker\":{\"colorbar\":{\"outlinewidth\":0,\"ticks\":\"\"}}}],\"scatter3d\":[{\"type\":\"scatter3d\",\"line\":{\"colorbar\":{\"outlinewidth\":0,\"ticks\":\"\"}},\"marker\":{\"colorbar\":{\"outlinewidth\":0,\"ticks\":\"\"}}}],\"scattermapbox\":[{\"type\":\"scattermapbox\",\"marker\":{\"colorbar\":{\"outlinewidth\":0,\"ticks\":\"\"}}}],\"scatterternary\":[{\"type\":\"scatterternary\",\"marker\":{\"colorbar\":{\"outlinewidth\":0,\"ticks\":\"\"}}}],\"scattercarpet\":[{\"type\":\"scattercarpet\",\"marker\":{\"colorbar\":{\"outlinewidth\":0,\"ticks\":\"\"}}}],\"carpet\":[{\"aaxis\":{\"endlinecolor\":\"#2a3f5f\",\"gridcolor\":\"white\",\"linecolor\":\"white\",\"minorgridcolor\":\"white\",\"startlinecolor\":\"#2a3f5f\"},\"baxis\":{\"endlinecolor\":\"#2a3f5f\",\"gridcolor\":\"white\",\"linecolor\":\"white\",\"minorgridcolor\":\"white\",\"startlinecolor\":\"#2a3f5f\"},\"type\":\"carpet\"}],\"table\":[{\"cells\":{\"fill\":{\"color\":\"#EBF0F8\"},\"line\":{\"color\":\"white\"}},\"header\":{\"fill\":{\"color\":\"#C8D4E3\"},\"line\":{\"color\":\"white\"}},\"type\":\"table\"}],\"barpolar\":[{\"marker\":{\"line\":{\"color\":\"#E5ECF6\",\"width\":0.5},\"pattern\":{\"fillmode\":\"overlay\",\"size\":10,\"solidity\":0.2}},\"type\":\"barpolar\"}],\"pie\":[{\"automargin\":true,\"type\":\"pie\"}]},\"layout\":{\"autotypenumbers\":\"strict\",\"colorway\":[\"#636efa\",\"#EF553B\",\"#00cc96\",\"#ab63fa\",\"#FFA15A\",\"#19d3f3\",\"#FF6692\",\"#B6E880\",\"#FF97FF\",\"#FECB52\"],\"font\":{\"color\":\"#2a3f5f\"},\"hovermode\":\"closest\",\"hoverlabel\":{\"align\":\"left\"},\"paper_bgcolor\":\"white\",\"plot_bgcolor\":\"#E5ECF6\",\"polar\":{\"bgcolor\":\"#E5ECF6\",\"angularaxis\":{\"gridcolor\":\"white\",\"linecolor\":\"white\",\"ticks\":\"\"},\"radialaxis\":{\"gridcolor\":\"white\",\"linecolor\":\"white\",\"ticks\":\"\"}},\"ternary\":{\"bgcolor\":\"#E5ECF6\",\"aaxis\":{\"gridcolor\":\"white\",\"linecolor\":\"white\",\"ticks\":\"\"},\"baxis\":{\"gridcolor\":\"white\",\"linecolor\":\"white\",\"ticks\":\"\"},\"caxis\":{\"gridcolor\":\"white\",\"linecolor\":\"white\",\"ticks\":\"\"}},\"coloraxis\":{\"colorbar\":{\"outlinewidth\":0,\"ticks\":\"\"}},\"colorscale\":{\"sequential\":[[0.0,\"#0d0887\"],[0.1111111111111111,\"#46039f\"],[0.2222222222222222,\"#7201a8\"],[0.3333333333333333,\"#9c179e\"],[0.4444444444444444,\"#bd3786\"],[0.5555555555555556,\"#d8576b\"],[0.6666666666666666,\"#ed7953\"],[0.7777777777777778,\"#fb9f3a\"],[0.8888888888888888,\"#fdca26\"],[1.0,\"#f0f921\"]],\"sequentialminus\":[[0.0,\"#0d0887\"],[0.1111111111111111,\"#46039f\"],[0.2222222222222222,\"#7201a8\"],[0.3333333333333333,\"#9c179e\"],[0.4444444444444444,\"#bd3786\"],[0.5555555555555556,\"#d8576b\"],[0.6666666666666666,\"#ed7953\"],[0.7777777777777778,\"#fb9f3a\"],[0.8888888888888888,\"#fdca26\"],[1.0,\"#f0f921\"]],\"diverging\":[[0,\"#8e0152\"],[0.1,\"#c51b7d\"],[0.2,\"#de77ae\"],[0.3,\"#f1b6da\"],[0.4,\"#fde0ef\"],[0.5,\"#f7f7f7\"],[0.6,\"#e6f5d0\"],[0.7,\"#b8e186\"],[0.8,\"#7fbc41\"],[0.9,\"#4d9221\"],[1,\"#276419\"]]},\"xaxis\":{\"gridcolor\":\"white\",\"linecolor\":\"white\",\"ticks\":\"\",\"title\":{\"standoff\":15},\"zerolinecolor\":\"white\",\"automargin\":true,\"zerolinewidth\":2},\"yaxis\":{\"gridcolor\":\"white\",\"linecolor\":\"white\",\"ticks\":\"\",\"title\":{\"standoff\":15},\"zerolinecolor\":\"white\",\"automargin\":true,\"zerolinewidth\":2},\"scene\":{\"xaxis\":{\"backgroundcolor\":\"#E5ECF6\",\"gridcolor\":\"white\",\"linecolor\":\"white\",\"showbackground\":true,\"ticks\":\"\",\"zerolinecolor\":\"white\",\"gridwidth\":2},\"yaxis\":{\"backgroundcolor\":\"#E5ECF6\",\"gridcolor\":\"white\",\"linecolor\":\"white\",\"showbackground\":true,\"ticks\":\"\",\"zerolinecolor\":\"white\",\"gridwidth\":2},\"zaxis\":{\"backgroundcolor\":\"#E5ECF6\",\"gridcolor\":\"white\",\"linecolor\":\"white\",\"showbackground\":true,\"ticks\":\"\",\"zerolinecolor\":\"white\",\"gridwidth\":2}},\"shapedefaults\":{\"line\":{\"color\":\"#2a3f5f\"}},\"annotationdefaults\":{\"arrowcolor\":\"#2a3f5f\",\"arrowhead\":0,\"arrowwidth\":1},\"geo\":{\"bgcolor\":\"white\",\"landcolor\":\"#E5ECF6\",\"subunitcolor\":\"white\",\"showland\":true,\"showlakes\":true,\"lakecolor\":\"white\"},\"title\":{\"x\":0.05},\"mapbox\":{\"style\":\"light\"}}},\"xaxis\":{\"anchor\":\"y\",\"domain\":[0.0,1.0]},\"yaxis\":{\"anchor\":\"x\",\"domain\":[0.0,1.0],\"title\":{\"text\":\"total_bill\"}},\"legend\":{\"tracegroupgap\":0},\"margin\":{\"t\":60},\"boxmode\":\"group\"},                        {\"responsive\": true}                    ).then(function(){\n                            \nvar gd = document.getElementById('cb8499cd-4999-43b1-8416-114c3c615e60');\nvar x = new MutationObserver(function (mutations, observer) {{\n        var display = window.getComputedStyle(gd).display;\n        if (!display || display === 'none') {{\n            console.log([gd, 'removed!']);\n            Plotly.purge(gd);\n            observer.disconnect();\n        }}\n}});\n\n// Listen for the removal of the full notebook cells\nvar notebookContainer = gd.closest('#notebook-container');\nif (notebookContainer) {{\n    x.observe(notebookContainer, {childList: true});\n}}\n\n// Listen for the clearing of the current output cell\nvar outputEl = gd.closest('.output');\nif (outputEl) {{\n    x.observe(outputEl, {childList: true});\n}}\n\n                        })                };                });            </script>        </div>"
     },
     "metadata": {},
     "output_type": "display_data"
    }
   ],
   "source": [
    "import plotly.express as px\n",
    "df = px.data.tips()\n",
    "fig = px.box(df, y=\"total_bill\")\n",
    "fig.show()"
   ]
  },
  {
   "cell_type": "code",
   "execution_count": 240,
   "id": "74a10e07",
   "metadata": {},
   "outputs": [
    {
     "data": {
      "application/vnd.plotly.v1+json": {
       "data": [
        {
         "y": [
          0.6243453636632417,
          -1.6117564136500753,
          -1.5281717522634557,
          -2.0729686221561705,
          -0.13459237067532148,
          -3.3015386968802827,
          0.74481176421648,
          -1.7612069008951028,
          -0.6809609039429014,
          -1.2493703754774101,
          0.4621079370449741,
          -3.060140709497654,
          -1.3224172040135076,
          -1.3840543546684156,
          0.13376944233543742,
          -2.099891267314031,
          -1.1724282075504358,
          -1.8778584179213718,
          -0.9577862532844071,
          -0.41718478628417777,
          -2.1006191772129212,
          0.14472370983961413,
          -0.09840927940720445,
          -0.49750566109813177,
          -0.09914405073558819,
          -1.6837278591743332,
          -1.1228902255186481,
          -1.9357694342590688,
          -1.267888079626016,
          -0.469644533261814,
          -1.691660751725309,
          -1.3967535268559774,
          -1.6871727001195995,
          -1.8452056414987195,
          -1.6712461308368192,
          -1.0126645989189014,
          -2.117310348635278,
          -0.7655843021829078,
          0.6598021771098705,
          -0.2579558394226644,
          -1.1918355523616149,
          -1.8876289640848363,
          -1.7471582937508376,
          0.6924546010277466,
          -0.949192245223971,
          -1.6369956465693534,
          -0.809084515332534,
          1.1002551364788422,
          -0.8798410475183709,
          -0.3827968902925808
         ],
         "type": "box"
        },
        {
         "y": [
          1.3001703199558274,
          0.6477501535064814,
          -0.14251819802214016,
          0.6506572775871224,
          0.7911057666252219,
          1.5866231911821975,
          1.838983413874505,
          1.9311020813035573,
          1.2855873252542587,
          1.885141164270728,
          0.2456020590033472,
          2.252868155233288,
          1.5129298204180088,
          0.7019071648972843,
          1.488518146537497,
          0.9244282869789443,
          2.1316293874514267,
          2.519816816422199,
          3.1855754065331614,
          -0.3964963354881377,
          -0.44411380542958945,
          0.49553413705354876,
          1.1600370694478306,
          1.876168921116225,
          1.3156349472416053,
          -1.022201215824003,
          0.6937959873716282,
          1.8279746426072463,
          1.2300947353643834,
          1.7620111803120246,
          0.7776718573896407,
          0.7992419310700025,
          1.1865613909882844,
          1.4100516472082563,
          1.1982997201267698,
          1.1190086458074588,
          0.3293377137109694,
          1.3775637863209194,
          1.121821270991437,
          2.1294839079119194,
          2.198917879901507,
          1.185156417483944,
          0.6247150499098858,
          0.3612695925457776,
          1.423494354064113,
          1.0773400683485594,
          0.6561463244289244,
          1.0435968568342469,
          0.37999915605187073,
          1.6980320340722188
         ],
         "type": "box"
        }
       ],
       "layout": {
        "template": {
         "data": {
          "histogram2dcontour": [
           {
            "type": "histogram2dcontour",
            "colorbar": {
             "outlinewidth": 0,
             "ticks": ""
            },
            "colorscale": [
             [
              0.0,
              "#0d0887"
             ],
             [
              0.1111111111111111,
              "#46039f"
             ],
             [
              0.2222222222222222,
              "#7201a8"
             ],
             [
              0.3333333333333333,
              "#9c179e"
             ],
             [
              0.4444444444444444,
              "#bd3786"
             ],
             [
              0.5555555555555556,
              "#d8576b"
             ],
             [
              0.6666666666666666,
              "#ed7953"
             ],
             [
              0.7777777777777778,
              "#fb9f3a"
             ],
             [
              0.8888888888888888,
              "#fdca26"
             ],
             [
              1.0,
              "#f0f921"
             ]
            ]
           }
          ],
          "choropleth": [
           {
            "type": "choropleth",
            "colorbar": {
             "outlinewidth": 0,
             "ticks": ""
            }
           }
          ],
          "histogram2d": [
           {
            "type": "histogram2d",
            "colorbar": {
             "outlinewidth": 0,
             "ticks": ""
            },
            "colorscale": [
             [
              0.0,
              "#0d0887"
             ],
             [
              0.1111111111111111,
              "#46039f"
             ],
             [
              0.2222222222222222,
              "#7201a8"
             ],
             [
              0.3333333333333333,
              "#9c179e"
             ],
             [
              0.4444444444444444,
              "#bd3786"
             ],
             [
              0.5555555555555556,
              "#d8576b"
             ],
             [
              0.6666666666666666,
              "#ed7953"
             ],
             [
              0.7777777777777778,
              "#fb9f3a"
             ],
             [
              0.8888888888888888,
              "#fdca26"
             ],
             [
              1.0,
              "#f0f921"
             ]
            ]
           }
          ],
          "heatmap": [
           {
            "type": "heatmap",
            "colorbar": {
             "outlinewidth": 0,
             "ticks": ""
            },
            "colorscale": [
             [
              0.0,
              "#0d0887"
             ],
             [
              0.1111111111111111,
              "#46039f"
             ],
             [
              0.2222222222222222,
              "#7201a8"
             ],
             [
              0.3333333333333333,
              "#9c179e"
             ],
             [
              0.4444444444444444,
              "#bd3786"
             ],
             [
              0.5555555555555556,
              "#d8576b"
             ],
             [
              0.6666666666666666,
              "#ed7953"
             ],
             [
              0.7777777777777778,
              "#fb9f3a"
             ],
             [
              0.8888888888888888,
              "#fdca26"
             ],
             [
              1.0,
              "#f0f921"
             ]
            ]
           }
          ],
          "heatmapgl": [
           {
            "type": "heatmapgl",
            "colorbar": {
             "outlinewidth": 0,
             "ticks": ""
            },
            "colorscale": [
             [
              0.0,
              "#0d0887"
             ],
             [
              0.1111111111111111,
              "#46039f"
             ],
             [
              0.2222222222222222,
              "#7201a8"
             ],
             [
              0.3333333333333333,
              "#9c179e"
             ],
             [
              0.4444444444444444,
              "#bd3786"
             ],
             [
              0.5555555555555556,
              "#d8576b"
             ],
             [
              0.6666666666666666,
              "#ed7953"
             ],
             [
              0.7777777777777778,
              "#fb9f3a"
             ],
             [
              0.8888888888888888,
              "#fdca26"
             ],
             [
              1.0,
              "#f0f921"
             ]
            ]
           }
          ],
          "contourcarpet": [
           {
            "type": "contourcarpet",
            "colorbar": {
             "outlinewidth": 0,
             "ticks": ""
            }
           }
          ],
          "contour": [
           {
            "type": "contour",
            "colorbar": {
             "outlinewidth": 0,
             "ticks": ""
            },
            "colorscale": [
             [
              0.0,
              "#0d0887"
             ],
             [
              0.1111111111111111,
              "#46039f"
             ],
             [
              0.2222222222222222,
              "#7201a8"
             ],
             [
              0.3333333333333333,
              "#9c179e"
             ],
             [
              0.4444444444444444,
              "#bd3786"
             ],
             [
              0.5555555555555556,
              "#d8576b"
             ],
             [
              0.6666666666666666,
              "#ed7953"
             ],
             [
              0.7777777777777778,
              "#fb9f3a"
             ],
             [
              0.8888888888888888,
              "#fdca26"
             ],
             [
              1.0,
              "#f0f921"
             ]
            ]
           }
          ],
          "surface": [
           {
            "type": "surface",
            "colorbar": {
             "outlinewidth": 0,
             "ticks": ""
            },
            "colorscale": [
             [
              0.0,
              "#0d0887"
             ],
             [
              0.1111111111111111,
              "#46039f"
             ],
             [
              0.2222222222222222,
              "#7201a8"
             ],
             [
              0.3333333333333333,
              "#9c179e"
             ],
             [
              0.4444444444444444,
              "#bd3786"
             ],
             [
              0.5555555555555556,
              "#d8576b"
             ],
             [
              0.6666666666666666,
              "#ed7953"
             ],
             [
              0.7777777777777778,
              "#fb9f3a"
             ],
             [
              0.8888888888888888,
              "#fdca26"
             ],
             [
              1.0,
              "#f0f921"
             ]
            ]
           }
          ],
          "mesh3d": [
           {
            "type": "mesh3d",
            "colorbar": {
             "outlinewidth": 0,
             "ticks": ""
            }
           }
          ],
          "scatter": [
           {
            "fillpattern": {
             "fillmode": "overlay",
             "size": 10,
             "solidity": 0.2
            },
            "type": "scatter"
           }
          ],
          "parcoords": [
           {
            "type": "parcoords",
            "line": {
             "colorbar": {
              "outlinewidth": 0,
              "ticks": ""
             }
            }
           }
          ],
          "scatterpolargl": [
           {
            "type": "scatterpolargl",
            "marker": {
             "colorbar": {
              "outlinewidth": 0,
              "ticks": ""
             }
            }
           }
          ],
          "bar": [
           {
            "error_x": {
             "color": "#2a3f5f"
            },
            "error_y": {
             "color": "#2a3f5f"
            },
            "marker": {
             "line": {
              "color": "#E5ECF6",
              "width": 0.5
             },
             "pattern": {
              "fillmode": "overlay",
              "size": 10,
              "solidity": 0.2
             }
            },
            "type": "bar"
           }
          ],
          "scattergeo": [
           {
            "type": "scattergeo",
            "marker": {
             "colorbar": {
              "outlinewidth": 0,
              "ticks": ""
             }
            }
           }
          ],
          "scatterpolar": [
           {
            "type": "scatterpolar",
            "marker": {
             "colorbar": {
              "outlinewidth": 0,
              "ticks": ""
             }
            }
           }
          ],
          "histogram": [
           {
            "marker": {
             "pattern": {
              "fillmode": "overlay",
              "size": 10,
              "solidity": 0.2
             }
            },
            "type": "histogram"
           }
          ],
          "scattergl": [
           {
            "type": "scattergl",
            "marker": {
             "colorbar": {
              "outlinewidth": 0,
              "ticks": ""
             }
            }
           }
          ],
          "scatter3d": [
           {
            "type": "scatter3d",
            "line": {
             "colorbar": {
              "outlinewidth": 0,
              "ticks": ""
             }
            },
            "marker": {
             "colorbar": {
              "outlinewidth": 0,
              "ticks": ""
             }
            }
           }
          ],
          "scattermapbox": [
           {
            "type": "scattermapbox",
            "marker": {
             "colorbar": {
              "outlinewidth": 0,
              "ticks": ""
             }
            }
           }
          ],
          "scatterternary": [
           {
            "type": "scatterternary",
            "marker": {
             "colorbar": {
              "outlinewidth": 0,
              "ticks": ""
             }
            }
           }
          ],
          "scattercarpet": [
           {
            "type": "scattercarpet",
            "marker": {
             "colorbar": {
              "outlinewidth": 0,
              "ticks": ""
             }
            }
           }
          ],
          "carpet": [
           {
            "aaxis": {
             "endlinecolor": "#2a3f5f",
             "gridcolor": "white",
             "linecolor": "white",
             "minorgridcolor": "white",
             "startlinecolor": "#2a3f5f"
            },
            "baxis": {
             "endlinecolor": "#2a3f5f",
             "gridcolor": "white",
             "linecolor": "white",
             "minorgridcolor": "white",
             "startlinecolor": "#2a3f5f"
            },
            "type": "carpet"
           }
          ],
          "table": [
           {
            "cells": {
             "fill": {
              "color": "#EBF0F8"
             },
             "line": {
              "color": "white"
             }
            },
            "header": {
             "fill": {
              "color": "#C8D4E3"
             },
             "line": {
              "color": "white"
             }
            },
            "type": "table"
           }
          ],
          "barpolar": [
           {
            "marker": {
             "line": {
              "color": "#E5ECF6",
              "width": 0.5
             },
             "pattern": {
              "fillmode": "overlay",
              "size": 10,
              "solidity": 0.2
             }
            },
            "type": "barpolar"
           }
          ],
          "pie": [
           {
            "automargin": true,
            "type": "pie"
           }
          ]
         },
         "layout": {
          "autotypenumbers": "strict",
          "colorway": [
           "#636efa",
           "#EF553B",
           "#00cc96",
           "#ab63fa",
           "#FFA15A",
           "#19d3f3",
           "#FF6692",
           "#B6E880",
           "#FF97FF",
           "#FECB52"
          ],
          "font": {
           "color": "#2a3f5f"
          },
          "hovermode": "closest",
          "hoverlabel": {
           "align": "left"
          },
          "paper_bgcolor": "white",
          "plot_bgcolor": "#E5ECF6",
          "polar": {
           "bgcolor": "#E5ECF6",
           "angularaxis": {
            "gridcolor": "white",
            "linecolor": "white",
            "ticks": ""
           },
           "radialaxis": {
            "gridcolor": "white",
            "linecolor": "white",
            "ticks": ""
           }
          },
          "ternary": {
           "bgcolor": "#E5ECF6",
           "aaxis": {
            "gridcolor": "white",
            "linecolor": "white",
            "ticks": ""
           },
           "baxis": {
            "gridcolor": "white",
            "linecolor": "white",
            "ticks": ""
           },
           "caxis": {
            "gridcolor": "white",
            "linecolor": "white",
            "ticks": ""
           }
          },
          "coloraxis": {
           "colorbar": {
            "outlinewidth": 0,
            "ticks": ""
           }
          },
          "colorscale": {
           "sequential": [
            [
             0.0,
             "#0d0887"
            ],
            [
             0.1111111111111111,
             "#46039f"
            ],
            [
             0.2222222222222222,
             "#7201a8"
            ],
            [
             0.3333333333333333,
             "#9c179e"
            ],
            [
             0.4444444444444444,
             "#bd3786"
            ],
            [
             0.5555555555555556,
             "#d8576b"
            ],
            [
             0.6666666666666666,
             "#ed7953"
            ],
            [
             0.7777777777777778,
             "#fb9f3a"
            ],
            [
             0.8888888888888888,
             "#fdca26"
            ],
            [
             1.0,
             "#f0f921"
            ]
           ],
           "sequentialminus": [
            [
             0.0,
             "#0d0887"
            ],
            [
             0.1111111111111111,
             "#46039f"
            ],
            [
             0.2222222222222222,
             "#7201a8"
            ],
            [
             0.3333333333333333,
             "#9c179e"
            ],
            [
             0.4444444444444444,
             "#bd3786"
            ],
            [
             0.5555555555555556,
             "#d8576b"
            ],
            [
             0.6666666666666666,
             "#ed7953"
            ],
            [
             0.7777777777777778,
             "#fb9f3a"
            ],
            [
             0.8888888888888888,
             "#fdca26"
            ],
            [
             1.0,
             "#f0f921"
            ]
           ],
           "diverging": [
            [
             0,
             "#8e0152"
            ],
            [
             0.1,
             "#c51b7d"
            ],
            [
             0.2,
             "#de77ae"
            ],
            [
             0.3,
             "#f1b6da"
            ],
            [
             0.4,
             "#fde0ef"
            ],
            [
             0.5,
             "#f7f7f7"
            ],
            [
             0.6,
             "#e6f5d0"
            ],
            [
             0.7,
             "#b8e186"
            ],
            [
             0.8,
             "#7fbc41"
            ],
            [
             0.9,
             "#4d9221"
            ],
            [
             1,
             "#276419"
            ]
           ]
          },
          "xaxis": {
           "gridcolor": "white",
           "linecolor": "white",
           "ticks": "",
           "title": {
            "standoff": 15
           },
           "zerolinecolor": "white",
           "automargin": true,
           "zerolinewidth": 2
          },
          "yaxis": {
           "gridcolor": "white",
           "linecolor": "white",
           "ticks": "",
           "title": {
            "standoff": 15
           },
           "zerolinecolor": "white",
           "automargin": true,
           "zerolinewidth": 2
          },
          "scene": {
           "xaxis": {
            "backgroundcolor": "#E5ECF6",
            "gridcolor": "white",
            "linecolor": "white",
            "showbackground": true,
            "ticks": "",
            "zerolinecolor": "white",
            "gridwidth": 2
           },
           "yaxis": {
            "backgroundcolor": "#E5ECF6",
            "gridcolor": "white",
            "linecolor": "white",
            "showbackground": true,
            "ticks": "",
            "zerolinecolor": "white",
            "gridwidth": 2
           },
           "zaxis": {
            "backgroundcolor": "#E5ECF6",
            "gridcolor": "white",
            "linecolor": "white",
            "showbackground": true,
            "ticks": "",
            "zerolinecolor": "white",
            "gridwidth": 2
           }
          },
          "shapedefaults": {
           "line": {
            "color": "#2a3f5f"
           }
          },
          "annotationdefaults": {
           "arrowcolor": "#2a3f5f",
           "arrowhead": 0,
           "arrowwidth": 1
          },
          "geo": {
           "bgcolor": "white",
           "landcolor": "#E5ECF6",
           "subunitcolor": "white",
           "showland": true,
           "showlakes": true,
           "lakecolor": "white"
          },
          "title": {
           "x": 0.05
          },
          "mapbox": {
           "style": "light"
          }
         }
        }
       },
       "config": {
        "plotlyServerURL": "https://plot.ly"
       }
      },
      "text/html": "<div>                            <div id=\"da4b5415-a7c4-4a1c-91fa-8e46d70113fe\" class=\"plotly-graph-div\" style=\"height:525px; width:100%;\"></div>            <script type=\"text/javascript\">                require([\"plotly\"], function(Plotly) {                    window.PLOTLYENV=window.PLOTLYENV || {};                                    if (document.getElementById(\"da4b5415-a7c4-4a1c-91fa-8e46d70113fe\")) {                    Plotly.newPlot(                        \"da4b5415-a7c4-4a1c-91fa-8e46d70113fe\",                        [{\"y\":[0.6243453636632417,-1.6117564136500753,-1.5281717522634557,-2.0729686221561705,-0.13459237067532148,-3.3015386968802827,0.74481176421648,-1.7612069008951028,-0.6809609039429014,-1.2493703754774101,0.4621079370449741,-3.060140709497654,-1.3224172040135076,-1.3840543546684156,0.13376944233543742,-2.099891267314031,-1.1724282075504358,-1.8778584179213718,-0.9577862532844071,-0.41718478628417777,-2.1006191772129212,0.14472370983961413,-0.09840927940720445,-0.49750566109813177,-0.09914405073558819,-1.6837278591743332,-1.1228902255186481,-1.9357694342590688,-1.267888079626016,-0.469644533261814,-1.691660751725309,-1.3967535268559774,-1.6871727001195995,-1.8452056414987195,-1.6712461308368192,-1.0126645989189014,-2.117310348635278,-0.7655843021829078,0.6598021771098705,-0.2579558394226644,-1.1918355523616149,-1.8876289640848363,-1.7471582937508376,0.6924546010277466,-0.949192245223971,-1.6369956465693534,-0.809084515332534,1.1002551364788422,-0.8798410475183709,-0.3827968902925808],\"type\":\"box\"},{\"y\":[1.3001703199558274,0.6477501535064814,-0.14251819802214016,0.6506572775871224,0.7911057666252219,1.5866231911821975,1.838983413874505,1.9311020813035573,1.2855873252542587,1.885141164270728,0.2456020590033472,2.252868155233288,1.5129298204180088,0.7019071648972843,1.488518146537497,0.9244282869789443,2.1316293874514267,2.519816816422199,3.1855754065331614,-0.3964963354881377,-0.44411380542958945,0.49553413705354876,1.1600370694478306,1.876168921116225,1.3156349472416053,-1.022201215824003,0.6937959873716282,1.8279746426072463,1.2300947353643834,1.7620111803120246,0.7776718573896407,0.7992419310700025,1.1865613909882844,1.4100516472082563,1.1982997201267698,1.1190086458074588,0.3293377137109694,1.3775637863209194,1.121821270991437,2.1294839079119194,2.198917879901507,1.185156417483944,0.6247150499098858,0.3612695925457776,1.423494354064113,1.0773400683485594,0.6561463244289244,1.0435968568342469,0.37999915605187073,1.6980320340722188],\"type\":\"box\"}],                        {\"template\":{\"data\":{\"histogram2dcontour\":[{\"type\":\"histogram2dcontour\",\"colorbar\":{\"outlinewidth\":0,\"ticks\":\"\"},\"colorscale\":[[0.0,\"#0d0887\"],[0.1111111111111111,\"#46039f\"],[0.2222222222222222,\"#7201a8\"],[0.3333333333333333,\"#9c179e\"],[0.4444444444444444,\"#bd3786\"],[0.5555555555555556,\"#d8576b\"],[0.6666666666666666,\"#ed7953\"],[0.7777777777777778,\"#fb9f3a\"],[0.8888888888888888,\"#fdca26\"],[1.0,\"#f0f921\"]]}],\"choropleth\":[{\"type\":\"choropleth\",\"colorbar\":{\"outlinewidth\":0,\"ticks\":\"\"}}],\"histogram2d\":[{\"type\":\"histogram2d\",\"colorbar\":{\"outlinewidth\":0,\"ticks\":\"\"},\"colorscale\":[[0.0,\"#0d0887\"],[0.1111111111111111,\"#46039f\"],[0.2222222222222222,\"#7201a8\"],[0.3333333333333333,\"#9c179e\"],[0.4444444444444444,\"#bd3786\"],[0.5555555555555556,\"#d8576b\"],[0.6666666666666666,\"#ed7953\"],[0.7777777777777778,\"#fb9f3a\"],[0.8888888888888888,\"#fdca26\"],[1.0,\"#f0f921\"]]}],\"heatmap\":[{\"type\":\"heatmap\",\"colorbar\":{\"outlinewidth\":0,\"ticks\":\"\"},\"colorscale\":[[0.0,\"#0d0887\"],[0.1111111111111111,\"#46039f\"],[0.2222222222222222,\"#7201a8\"],[0.3333333333333333,\"#9c179e\"],[0.4444444444444444,\"#bd3786\"],[0.5555555555555556,\"#d8576b\"],[0.6666666666666666,\"#ed7953\"],[0.7777777777777778,\"#fb9f3a\"],[0.8888888888888888,\"#fdca26\"],[1.0,\"#f0f921\"]]}],\"heatmapgl\":[{\"type\":\"heatmapgl\",\"colorbar\":{\"outlinewidth\":0,\"ticks\":\"\"},\"colorscale\":[[0.0,\"#0d0887\"],[0.1111111111111111,\"#46039f\"],[0.2222222222222222,\"#7201a8\"],[0.3333333333333333,\"#9c179e\"],[0.4444444444444444,\"#bd3786\"],[0.5555555555555556,\"#d8576b\"],[0.6666666666666666,\"#ed7953\"],[0.7777777777777778,\"#fb9f3a\"],[0.8888888888888888,\"#fdca26\"],[1.0,\"#f0f921\"]]}],\"contourcarpet\":[{\"type\":\"contourcarpet\",\"colorbar\":{\"outlinewidth\":0,\"ticks\":\"\"}}],\"contour\":[{\"type\":\"contour\",\"colorbar\":{\"outlinewidth\":0,\"ticks\":\"\"},\"colorscale\":[[0.0,\"#0d0887\"],[0.1111111111111111,\"#46039f\"],[0.2222222222222222,\"#7201a8\"],[0.3333333333333333,\"#9c179e\"],[0.4444444444444444,\"#bd3786\"],[0.5555555555555556,\"#d8576b\"],[0.6666666666666666,\"#ed7953\"],[0.7777777777777778,\"#fb9f3a\"],[0.8888888888888888,\"#fdca26\"],[1.0,\"#f0f921\"]]}],\"surface\":[{\"type\":\"surface\",\"colorbar\":{\"outlinewidth\":0,\"ticks\":\"\"},\"colorscale\":[[0.0,\"#0d0887\"],[0.1111111111111111,\"#46039f\"],[0.2222222222222222,\"#7201a8\"],[0.3333333333333333,\"#9c179e\"],[0.4444444444444444,\"#bd3786\"],[0.5555555555555556,\"#d8576b\"],[0.6666666666666666,\"#ed7953\"],[0.7777777777777778,\"#fb9f3a\"],[0.8888888888888888,\"#fdca26\"],[1.0,\"#f0f921\"]]}],\"mesh3d\":[{\"type\":\"mesh3d\",\"colorbar\":{\"outlinewidth\":0,\"ticks\":\"\"}}],\"scatter\":[{\"fillpattern\":{\"fillmode\":\"overlay\",\"size\":10,\"solidity\":0.2},\"type\":\"scatter\"}],\"parcoords\":[{\"type\":\"parcoords\",\"line\":{\"colorbar\":{\"outlinewidth\":0,\"ticks\":\"\"}}}],\"scatterpolargl\":[{\"type\":\"scatterpolargl\",\"marker\":{\"colorbar\":{\"outlinewidth\":0,\"ticks\":\"\"}}}],\"bar\":[{\"error_x\":{\"color\":\"#2a3f5f\"},\"error_y\":{\"color\":\"#2a3f5f\"},\"marker\":{\"line\":{\"color\":\"#E5ECF6\",\"width\":0.5},\"pattern\":{\"fillmode\":\"overlay\",\"size\":10,\"solidity\":0.2}},\"type\":\"bar\"}],\"scattergeo\":[{\"type\":\"scattergeo\",\"marker\":{\"colorbar\":{\"outlinewidth\":0,\"ticks\":\"\"}}}],\"scatterpolar\":[{\"type\":\"scatterpolar\",\"marker\":{\"colorbar\":{\"outlinewidth\":0,\"ticks\":\"\"}}}],\"histogram\":[{\"marker\":{\"pattern\":{\"fillmode\":\"overlay\",\"size\":10,\"solidity\":0.2}},\"type\":\"histogram\"}],\"scattergl\":[{\"type\":\"scattergl\",\"marker\":{\"colorbar\":{\"outlinewidth\":0,\"ticks\":\"\"}}}],\"scatter3d\":[{\"type\":\"scatter3d\",\"line\":{\"colorbar\":{\"outlinewidth\":0,\"ticks\":\"\"}},\"marker\":{\"colorbar\":{\"outlinewidth\":0,\"ticks\":\"\"}}}],\"scattermapbox\":[{\"type\":\"scattermapbox\",\"marker\":{\"colorbar\":{\"outlinewidth\":0,\"ticks\":\"\"}}}],\"scatterternary\":[{\"type\":\"scatterternary\",\"marker\":{\"colorbar\":{\"outlinewidth\":0,\"ticks\":\"\"}}}],\"scattercarpet\":[{\"type\":\"scattercarpet\",\"marker\":{\"colorbar\":{\"outlinewidth\":0,\"ticks\":\"\"}}}],\"carpet\":[{\"aaxis\":{\"endlinecolor\":\"#2a3f5f\",\"gridcolor\":\"white\",\"linecolor\":\"white\",\"minorgridcolor\":\"white\",\"startlinecolor\":\"#2a3f5f\"},\"baxis\":{\"endlinecolor\":\"#2a3f5f\",\"gridcolor\":\"white\",\"linecolor\":\"white\",\"minorgridcolor\":\"white\",\"startlinecolor\":\"#2a3f5f\"},\"type\":\"carpet\"}],\"table\":[{\"cells\":{\"fill\":{\"color\":\"#EBF0F8\"},\"line\":{\"color\":\"white\"}},\"header\":{\"fill\":{\"color\":\"#C8D4E3\"},\"line\":{\"color\":\"white\"}},\"type\":\"table\"}],\"barpolar\":[{\"marker\":{\"line\":{\"color\":\"#E5ECF6\",\"width\":0.5},\"pattern\":{\"fillmode\":\"overlay\",\"size\":10,\"solidity\":0.2}},\"type\":\"barpolar\"}],\"pie\":[{\"automargin\":true,\"type\":\"pie\"}]},\"layout\":{\"autotypenumbers\":\"strict\",\"colorway\":[\"#636efa\",\"#EF553B\",\"#00cc96\",\"#ab63fa\",\"#FFA15A\",\"#19d3f3\",\"#FF6692\",\"#B6E880\",\"#FF97FF\",\"#FECB52\"],\"font\":{\"color\":\"#2a3f5f\"},\"hovermode\":\"closest\",\"hoverlabel\":{\"align\":\"left\"},\"paper_bgcolor\":\"white\",\"plot_bgcolor\":\"#E5ECF6\",\"polar\":{\"bgcolor\":\"#E5ECF6\",\"angularaxis\":{\"gridcolor\":\"white\",\"linecolor\":\"white\",\"ticks\":\"\"},\"radialaxis\":{\"gridcolor\":\"white\",\"linecolor\":\"white\",\"ticks\":\"\"}},\"ternary\":{\"bgcolor\":\"#E5ECF6\",\"aaxis\":{\"gridcolor\":\"white\",\"linecolor\":\"white\",\"ticks\":\"\"},\"baxis\":{\"gridcolor\":\"white\",\"linecolor\":\"white\",\"ticks\":\"\"},\"caxis\":{\"gridcolor\":\"white\",\"linecolor\":\"white\",\"ticks\":\"\"}},\"coloraxis\":{\"colorbar\":{\"outlinewidth\":0,\"ticks\":\"\"}},\"colorscale\":{\"sequential\":[[0.0,\"#0d0887\"],[0.1111111111111111,\"#46039f\"],[0.2222222222222222,\"#7201a8\"],[0.3333333333333333,\"#9c179e\"],[0.4444444444444444,\"#bd3786\"],[0.5555555555555556,\"#d8576b\"],[0.6666666666666666,\"#ed7953\"],[0.7777777777777778,\"#fb9f3a\"],[0.8888888888888888,\"#fdca26\"],[1.0,\"#f0f921\"]],\"sequentialminus\":[[0.0,\"#0d0887\"],[0.1111111111111111,\"#46039f\"],[0.2222222222222222,\"#7201a8\"],[0.3333333333333333,\"#9c179e\"],[0.4444444444444444,\"#bd3786\"],[0.5555555555555556,\"#d8576b\"],[0.6666666666666666,\"#ed7953\"],[0.7777777777777778,\"#fb9f3a\"],[0.8888888888888888,\"#fdca26\"],[1.0,\"#f0f921\"]],\"diverging\":[[0,\"#8e0152\"],[0.1,\"#c51b7d\"],[0.2,\"#de77ae\"],[0.3,\"#f1b6da\"],[0.4,\"#fde0ef\"],[0.5,\"#f7f7f7\"],[0.6,\"#e6f5d0\"],[0.7,\"#b8e186\"],[0.8,\"#7fbc41\"],[0.9,\"#4d9221\"],[1,\"#276419\"]]},\"xaxis\":{\"gridcolor\":\"white\",\"linecolor\":\"white\",\"ticks\":\"\",\"title\":{\"standoff\":15},\"zerolinecolor\":\"white\",\"automargin\":true,\"zerolinewidth\":2},\"yaxis\":{\"gridcolor\":\"white\",\"linecolor\":\"white\",\"ticks\":\"\",\"title\":{\"standoff\":15},\"zerolinecolor\":\"white\",\"automargin\":true,\"zerolinewidth\":2},\"scene\":{\"xaxis\":{\"backgroundcolor\":\"#E5ECF6\",\"gridcolor\":\"white\",\"linecolor\":\"white\",\"showbackground\":true,\"ticks\":\"\",\"zerolinecolor\":\"white\",\"gridwidth\":2},\"yaxis\":{\"backgroundcolor\":\"#E5ECF6\",\"gridcolor\":\"white\",\"linecolor\":\"white\",\"showbackground\":true,\"ticks\":\"\",\"zerolinecolor\":\"white\",\"gridwidth\":2},\"zaxis\":{\"backgroundcolor\":\"#E5ECF6\",\"gridcolor\":\"white\",\"linecolor\":\"white\",\"showbackground\":true,\"ticks\":\"\",\"zerolinecolor\":\"white\",\"gridwidth\":2}},\"shapedefaults\":{\"line\":{\"color\":\"#2a3f5f\"}},\"annotationdefaults\":{\"arrowcolor\":\"#2a3f5f\",\"arrowhead\":0,\"arrowwidth\":1},\"geo\":{\"bgcolor\":\"white\",\"landcolor\":\"#E5ECF6\",\"subunitcolor\":\"white\",\"showland\":true,\"showlakes\":true,\"lakecolor\":\"white\"},\"title\":{\"x\":0.05},\"mapbox\":{\"style\":\"light\"}}}},                        {\"responsive\": true}                    ).then(function(){\n                            \nvar gd = document.getElementById('da4b5415-a7c4-4a1c-91fa-8e46d70113fe');\nvar x = new MutationObserver(function (mutations, observer) {{\n        var display = window.getComputedStyle(gd).display;\n        if (!display || display === 'none') {{\n            console.log([gd, 'removed!']);\n            Plotly.purge(gd);\n            observer.disconnect();\n        }}\n}});\n\n// Listen for the removal of the full notebook cells\nvar notebookContainer = gd.closest('#notebook-container');\nif (notebookContainer) {{\n    x.observe(notebookContainer, {childList: true});\n}}\n\n// Listen for the clearing of the current output cell\nvar outputEl = gd.closest('.output');\nif (outputEl) {{\n    x.observe(outputEl, {childList: true});\n}}\n\n                        })                };                });            </script>        </div>"
     },
     "metadata": {},
     "output_type": "display_data"
    }
   ],
   "source": [
    "import plotly.graph_objects as go\n",
    "import numpy as np\n",
    "np.random.seed(1)\n",
    "\n",
    "y0 = np.random.randn(50) - 1\n",
    "y1 = np.random.randn(50) + 1\n",
    "\n",
    "fig = go.Figure()\n",
    "fig.add_trace(go.Box(y=y0))\n",
    "fig.add_trace(go.Box(y=y1))\n",
    "\n",
    "fig.show()"
   ]
  },
  {
   "cell_type": "code",
   "execution_count": 241,
   "id": "07b08944",
   "metadata": {},
   "outputs": [
    {
     "data": {
      "application/vnd.plotly.v1+json": {
       "data": [
        {
         "x": [
          -0.4471285647859982,
          1.2245077048054989,
          0.4034916417908,
          0.593578523237067,
          -1.0949118457410418,
          0.1693824330586681,
          0.7405564510962748,
          -0.9537006018079346,
          -0.26621850600362207,
          0.03261454669335856,
          -1.3731173202467557,
          0.31515939204229176,
          0.8461606475850334,
          -0.8595159408319863,
          0.35054597866410736,
          -1.3122834112374318,
          -0.038695509266051115,
          -1.6157723547032947,
          1.121417708235664,
          0.4089005379368278,
          -0.024616955875778355,
          -0.7751616191691596,
          1.2737559301587766,
          1.9671017492547347,
          -1.857981864446752,
          1.2361640304528203,
          1.6276507531489064,
          0.3380116965744758,
          -1.199268032335186,
          0.8633453175440216,
          -0.18092030207815046,
          -0.6039206277932573,
          -1.2300581356669618,
          0.5505374959762154,
          0.7928068659193477,
          -0.6235307296797916,
          0.5205763370733708,
          -1.1443413896231427,
          0.8018610318713447,
          0.04656729842414554,
          -0.18656977190734877,
          -0.10174587252914521,
          0.8688861570058679,
          0.7504116398650081,
          0.5294653243527092,
          0.13770120999738608,
          0.07782112791270591,
          0.6183802619985245,
          0.23249455917873788,
          0.6825514068644851
         ],
         "type": "box"
        },
        {
         "x": [
          1.68988322648194,
          -0.4348377641071388,
          3.038824601859414,
          4.186979646974258,
          2.441364443568582,
          1.8998447667165002,
          1.863555256103967,
          1.88094581222519,
          2.0174094083000047,
          0.8779812712531117,
          1.482905542079772,
          1.002973172349737,
          2.2487991613877707,
          1.7033588476291373,
          2.4952113239779603,
          1.825296840257499,
          2.986335187821242,
          2.213533901335442,
          4.190699728969733,
          0.10363907710890752,
          1.353083311745092,
          2.901486891648711,
          4.528325706806398,
          1.75136522228454,
          2.043668993178389,
          1.773685757486395,
          3.331457112587592,
          1.7126921365239811,
          2.6800698398781044,
          1.680198401101329,
          0.7274412447540057,
          2.3135477204634323,
          2.5031848134353263,
          3.293225882532262,
          1.8895529735826837,
          1.382637936287639,
          2.562761096619026,
          2.2407370922377323,
          2.280665077122639,
          1.9268872962527221,
          3.16033856999377,
          2.369492716375724,
          3.904658708340981,
          3.1110566985605046,
          2.65904979610021,
          0.37256165938374264,
          2.602319280295629,
          2.4202822036470595,
          2.8109516728035557,
          3.044442094707259
         ],
         "type": "box"
        }
       ],
       "layout": {
        "template": {
         "data": {
          "histogram2dcontour": [
           {
            "type": "histogram2dcontour",
            "colorbar": {
             "outlinewidth": 0,
             "ticks": ""
            },
            "colorscale": [
             [
              0.0,
              "#0d0887"
             ],
             [
              0.1111111111111111,
              "#46039f"
             ],
             [
              0.2222222222222222,
              "#7201a8"
             ],
             [
              0.3333333333333333,
              "#9c179e"
             ],
             [
              0.4444444444444444,
              "#bd3786"
             ],
             [
              0.5555555555555556,
              "#d8576b"
             ],
             [
              0.6666666666666666,
              "#ed7953"
             ],
             [
              0.7777777777777778,
              "#fb9f3a"
             ],
             [
              0.8888888888888888,
              "#fdca26"
             ],
             [
              1.0,
              "#f0f921"
             ]
            ]
           }
          ],
          "choropleth": [
           {
            "type": "choropleth",
            "colorbar": {
             "outlinewidth": 0,
             "ticks": ""
            }
           }
          ],
          "histogram2d": [
           {
            "type": "histogram2d",
            "colorbar": {
             "outlinewidth": 0,
             "ticks": ""
            },
            "colorscale": [
             [
              0.0,
              "#0d0887"
             ],
             [
              0.1111111111111111,
              "#46039f"
             ],
             [
              0.2222222222222222,
              "#7201a8"
             ],
             [
              0.3333333333333333,
              "#9c179e"
             ],
             [
              0.4444444444444444,
              "#bd3786"
             ],
             [
              0.5555555555555556,
              "#d8576b"
             ],
             [
              0.6666666666666666,
              "#ed7953"
             ],
             [
              0.7777777777777778,
              "#fb9f3a"
             ],
             [
              0.8888888888888888,
              "#fdca26"
             ],
             [
              1.0,
              "#f0f921"
             ]
            ]
           }
          ],
          "heatmap": [
           {
            "type": "heatmap",
            "colorbar": {
             "outlinewidth": 0,
             "ticks": ""
            },
            "colorscale": [
             [
              0.0,
              "#0d0887"
             ],
             [
              0.1111111111111111,
              "#46039f"
             ],
             [
              0.2222222222222222,
              "#7201a8"
             ],
             [
              0.3333333333333333,
              "#9c179e"
             ],
             [
              0.4444444444444444,
              "#bd3786"
             ],
             [
              0.5555555555555556,
              "#d8576b"
             ],
             [
              0.6666666666666666,
              "#ed7953"
             ],
             [
              0.7777777777777778,
              "#fb9f3a"
             ],
             [
              0.8888888888888888,
              "#fdca26"
             ],
             [
              1.0,
              "#f0f921"
             ]
            ]
           }
          ],
          "heatmapgl": [
           {
            "type": "heatmapgl",
            "colorbar": {
             "outlinewidth": 0,
             "ticks": ""
            },
            "colorscale": [
             [
              0.0,
              "#0d0887"
             ],
             [
              0.1111111111111111,
              "#46039f"
             ],
             [
              0.2222222222222222,
              "#7201a8"
             ],
             [
              0.3333333333333333,
              "#9c179e"
             ],
             [
              0.4444444444444444,
              "#bd3786"
             ],
             [
              0.5555555555555556,
              "#d8576b"
             ],
             [
              0.6666666666666666,
              "#ed7953"
             ],
             [
              0.7777777777777778,
              "#fb9f3a"
             ],
             [
              0.8888888888888888,
              "#fdca26"
             ],
             [
              1.0,
              "#f0f921"
             ]
            ]
           }
          ],
          "contourcarpet": [
           {
            "type": "contourcarpet",
            "colorbar": {
             "outlinewidth": 0,
             "ticks": ""
            }
           }
          ],
          "contour": [
           {
            "type": "contour",
            "colorbar": {
             "outlinewidth": 0,
             "ticks": ""
            },
            "colorscale": [
             [
              0.0,
              "#0d0887"
             ],
             [
              0.1111111111111111,
              "#46039f"
             ],
             [
              0.2222222222222222,
              "#7201a8"
             ],
             [
              0.3333333333333333,
              "#9c179e"
             ],
             [
              0.4444444444444444,
              "#bd3786"
             ],
             [
              0.5555555555555556,
              "#d8576b"
             ],
             [
              0.6666666666666666,
              "#ed7953"
             ],
             [
              0.7777777777777778,
              "#fb9f3a"
             ],
             [
              0.8888888888888888,
              "#fdca26"
             ],
             [
              1.0,
              "#f0f921"
             ]
            ]
           }
          ],
          "surface": [
           {
            "type": "surface",
            "colorbar": {
             "outlinewidth": 0,
             "ticks": ""
            },
            "colorscale": [
             [
              0.0,
              "#0d0887"
             ],
             [
              0.1111111111111111,
              "#46039f"
             ],
             [
              0.2222222222222222,
              "#7201a8"
             ],
             [
              0.3333333333333333,
              "#9c179e"
             ],
             [
              0.4444444444444444,
              "#bd3786"
             ],
             [
              0.5555555555555556,
              "#d8576b"
             ],
             [
              0.6666666666666666,
              "#ed7953"
             ],
             [
              0.7777777777777778,
              "#fb9f3a"
             ],
             [
              0.8888888888888888,
              "#fdca26"
             ],
             [
              1.0,
              "#f0f921"
             ]
            ]
           }
          ],
          "mesh3d": [
           {
            "type": "mesh3d",
            "colorbar": {
             "outlinewidth": 0,
             "ticks": ""
            }
           }
          ],
          "scatter": [
           {
            "fillpattern": {
             "fillmode": "overlay",
             "size": 10,
             "solidity": 0.2
            },
            "type": "scatter"
           }
          ],
          "parcoords": [
           {
            "type": "parcoords",
            "line": {
             "colorbar": {
              "outlinewidth": 0,
              "ticks": ""
             }
            }
           }
          ],
          "scatterpolargl": [
           {
            "type": "scatterpolargl",
            "marker": {
             "colorbar": {
              "outlinewidth": 0,
              "ticks": ""
             }
            }
           }
          ],
          "bar": [
           {
            "error_x": {
             "color": "#2a3f5f"
            },
            "error_y": {
             "color": "#2a3f5f"
            },
            "marker": {
             "line": {
              "color": "#E5ECF6",
              "width": 0.5
             },
             "pattern": {
              "fillmode": "overlay",
              "size": 10,
              "solidity": 0.2
             }
            },
            "type": "bar"
           }
          ],
          "scattergeo": [
           {
            "type": "scattergeo",
            "marker": {
             "colorbar": {
              "outlinewidth": 0,
              "ticks": ""
             }
            }
           }
          ],
          "scatterpolar": [
           {
            "type": "scatterpolar",
            "marker": {
             "colorbar": {
              "outlinewidth": 0,
              "ticks": ""
             }
            }
           }
          ],
          "histogram": [
           {
            "marker": {
             "pattern": {
              "fillmode": "overlay",
              "size": 10,
              "solidity": 0.2
             }
            },
            "type": "histogram"
           }
          ],
          "scattergl": [
           {
            "type": "scattergl",
            "marker": {
             "colorbar": {
              "outlinewidth": 0,
              "ticks": ""
             }
            }
           }
          ],
          "scatter3d": [
           {
            "type": "scatter3d",
            "line": {
             "colorbar": {
              "outlinewidth": 0,
              "ticks": ""
             }
            },
            "marker": {
             "colorbar": {
              "outlinewidth": 0,
              "ticks": ""
             }
            }
           }
          ],
          "scattermapbox": [
           {
            "type": "scattermapbox",
            "marker": {
             "colorbar": {
              "outlinewidth": 0,
              "ticks": ""
             }
            }
           }
          ],
          "scatterternary": [
           {
            "type": "scatterternary",
            "marker": {
             "colorbar": {
              "outlinewidth": 0,
              "ticks": ""
             }
            }
           }
          ],
          "scattercarpet": [
           {
            "type": "scattercarpet",
            "marker": {
             "colorbar": {
              "outlinewidth": 0,
              "ticks": ""
             }
            }
           }
          ],
          "carpet": [
           {
            "aaxis": {
             "endlinecolor": "#2a3f5f",
             "gridcolor": "white",
             "linecolor": "white",
             "minorgridcolor": "white",
             "startlinecolor": "#2a3f5f"
            },
            "baxis": {
             "endlinecolor": "#2a3f5f",
             "gridcolor": "white",
             "linecolor": "white",
             "minorgridcolor": "white",
             "startlinecolor": "#2a3f5f"
            },
            "type": "carpet"
           }
          ],
          "table": [
           {
            "cells": {
             "fill": {
              "color": "#EBF0F8"
             },
             "line": {
              "color": "white"
             }
            },
            "header": {
             "fill": {
              "color": "#C8D4E3"
             },
             "line": {
              "color": "white"
             }
            },
            "type": "table"
           }
          ],
          "barpolar": [
           {
            "marker": {
             "line": {
              "color": "#E5ECF6",
              "width": 0.5
             },
             "pattern": {
              "fillmode": "overlay",
              "size": 10,
              "solidity": 0.2
             }
            },
            "type": "barpolar"
           }
          ],
          "pie": [
           {
            "automargin": true,
            "type": "pie"
           }
          ]
         },
         "layout": {
          "autotypenumbers": "strict",
          "colorway": [
           "#636efa",
           "#EF553B",
           "#00cc96",
           "#ab63fa",
           "#FFA15A",
           "#19d3f3",
           "#FF6692",
           "#B6E880",
           "#FF97FF",
           "#FECB52"
          ],
          "font": {
           "color": "#2a3f5f"
          },
          "hovermode": "closest",
          "hoverlabel": {
           "align": "left"
          },
          "paper_bgcolor": "white",
          "plot_bgcolor": "#E5ECF6",
          "polar": {
           "bgcolor": "#E5ECF6",
           "angularaxis": {
            "gridcolor": "white",
            "linecolor": "white",
            "ticks": ""
           },
           "radialaxis": {
            "gridcolor": "white",
            "linecolor": "white",
            "ticks": ""
           }
          },
          "ternary": {
           "bgcolor": "#E5ECF6",
           "aaxis": {
            "gridcolor": "white",
            "linecolor": "white",
            "ticks": ""
           },
           "baxis": {
            "gridcolor": "white",
            "linecolor": "white",
            "ticks": ""
           },
           "caxis": {
            "gridcolor": "white",
            "linecolor": "white",
            "ticks": ""
           }
          },
          "coloraxis": {
           "colorbar": {
            "outlinewidth": 0,
            "ticks": ""
           }
          },
          "colorscale": {
           "sequential": [
            [
             0.0,
             "#0d0887"
            ],
            [
             0.1111111111111111,
             "#46039f"
            ],
            [
             0.2222222222222222,
             "#7201a8"
            ],
            [
             0.3333333333333333,
             "#9c179e"
            ],
            [
             0.4444444444444444,
             "#bd3786"
            ],
            [
             0.5555555555555556,
             "#d8576b"
            ],
            [
             0.6666666666666666,
             "#ed7953"
            ],
            [
             0.7777777777777778,
             "#fb9f3a"
            ],
            [
             0.8888888888888888,
             "#fdca26"
            ],
            [
             1.0,
             "#f0f921"
            ]
           ],
           "sequentialminus": [
            [
             0.0,
             "#0d0887"
            ],
            [
             0.1111111111111111,
             "#46039f"
            ],
            [
             0.2222222222222222,
             "#7201a8"
            ],
            [
             0.3333333333333333,
             "#9c179e"
            ],
            [
             0.4444444444444444,
             "#bd3786"
            ],
            [
             0.5555555555555556,
             "#d8576b"
            ],
            [
             0.6666666666666666,
             "#ed7953"
            ],
            [
             0.7777777777777778,
             "#fb9f3a"
            ],
            [
             0.8888888888888888,
             "#fdca26"
            ],
            [
             1.0,
             "#f0f921"
            ]
           ],
           "diverging": [
            [
             0,
             "#8e0152"
            ],
            [
             0.1,
             "#c51b7d"
            ],
            [
             0.2,
             "#de77ae"
            ],
            [
             0.3,
             "#f1b6da"
            ],
            [
             0.4,
             "#fde0ef"
            ],
            [
             0.5,
             "#f7f7f7"
            ],
            [
             0.6,
             "#e6f5d0"
            ],
            [
             0.7,
             "#b8e186"
            ],
            [
             0.8,
             "#7fbc41"
            ],
            [
             0.9,
             "#4d9221"
            ],
            [
             1,
             "#276419"
            ]
           ]
          },
          "xaxis": {
           "gridcolor": "white",
           "linecolor": "white",
           "ticks": "",
           "title": {
            "standoff": 15
           },
           "zerolinecolor": "white",
           "automargin": true,
           "zerolinewidth": 2
          },
          "yaxis": {
           "gridcolor": "white",
           "linecolor": "white",
           "ticks": "",
           "title": {
            "standoff": 15
           },
           "zerolinecolor": "white",
           "automargin": true,
           "zerolinewidth": 2
          },
          "scene": {
           "xaxis": {
            "backgroundcolor": "#E5ECF6",
            "gridcolor": "white",
            "linecolor": "white",
            "showbackground": true,
            "ticks": "",
            "zerolinecolor": "white",
            "gridwidth": 2
           },
           "yaxis": {
            "backgroundcolor": "#E5ECF6",
            "gridcolor": "white",
            "linecolor": "white",
            "showbackground": true,
            "ticks": "",
            "zerolinecolor": "white",
            "gridwidth": 2
           },
           "zaxis": {
            "backgroundcolor": "#E5ECF6",
            "gridcolor": "white",
            "linecolor": "white",
            "showbackground": true,
            "ticks": "",
            "zerolinecolor": "white",
            "gridwidth": 2
           }
          },
          "shapedefaults": {
           "line": {
            "color": "#2a3f5f"
           }
          },
          "annotationdefaults": {
           "arrowcolor": "#2a3f5f",
           "arrowhead": 0,
           "arrowwidth": 1
          },
          "geo": {
           "bgcolor": "white",
           "landcolor": "#E5ECF6",
           "subunitcolor": "white",
           "showland": true,
           "showlakes": true,
           "lakecolor": "white"
          },
          "title": {
           "x": 0.05
          },
          "mapbox": {
           "style": "light"
          }
         }
        }
       },
       "config": {
        "plotlyServerURL": "https://plot.ly"
       }
      },
      "text/html": "<div>                            <div id=\"f84b1679-0b95-4d15-9942-f443ef90297e\" class=\"plotly-graph-div\" style=\"height:525px; width:100%;\"></div>            <script type=\"text/javascript\">                require([\"plotly\"], function(Plotly) {                    window.PLOTLYENV=window.PLOTLYENV || {};                                    if (document.getElementById(\"f84b1679-0b95-4d15-9942-f443ef90297e\")) {                    Plotly.newPlot(                        \"f84b1679-0b95-4d15-9942-f443ef90297e\",                        [{\"x\":[-0.4471285647859982,1.2245077048054989,0.4034916417908,0.593578523237067,-1.0949118457410418,0.1693824330586681,0.7405564510962748,-0.9537006018079346,-0.26621850600362207,0.03261454669335856,-1.3731173202467557,0.31515939204229176,0.8461606475850334,-0.8595159408319863,0.35054597866410736,-1.3122834112374318,-0.038695509266051115,-1.6157723547032947,1.121417708235664,0.4089005379368278,-0.024616955875778355,-0.7751616191691596,1.2737559301587766,1.9671017492547347,-1.857981864446752,1.2361640304528203,1.6276507531489064,0.3380116965744758,-1.199268032335186,0.8633453175440216,-0.18092030207815046,-0.6039206277932573,-1.2300581356669618,0.5505374959762154,0.7928068659193477,-0.6235307296797916,0.5205763370733708,-1.1443413896231427,0.8018610318713447,0.04656729842414554,-0.18656977190734877,-0.10174587252914521,0.8688861570058679,0.7504116398650081,0.5294653243527092,0.13770120999738608,0.07782112791270591,0.6183802619985245,0.23249455917873788,0.6825514068644851],\"type\":\"box\"},{\"x\":[1.68988322648194,-0.4348377641071388,3.038824601859414,4.186979646974258,2.441364443568582,1.8998447667165002,1.863555256103967,1.88094581222519,2.0174094083000047,0.8779812712531117,1.482905542079772,1.002973172349737,2.2487991613877707,1.7033588476291373,2.4952113239779603,1.825296840257499,2.986335187821242,2.213533901335442,4.190699728969733,0.10363907710890752,1.353083311745092,2.901486891648711,4.528325706806398,1.75136522228454,2.043668993178389,1.773685757486395,3.331457112587592,1.7126921365239811,2.6800698398781044,1.680198401101329,0.7274412447540057,2.3135477204634323,2.5031848134353263,3.293225882532262,1.8895529735826837,1.382637936287639,2.562761096619026,2.2407370922377323,2.280665077122639,1.9268872962527221,3.16033856999377,2.369492716375724,3.904658708340981,3.1110566985605046,2.65904979610021,0.37256165938374264,2.602319280295629,2.4202822036470595,2.8109516728035557,3.044442094707259],\"type\":\"box\"}],                        {\"template\":{\"data\":{\"histogram2dcontour\":[{\"type\":\"histogram2dcontour\",\"colorbar\":{\"outlinewidth\":0,\"ticks\":\"\"},\"colorscale\":[[0.0,\"#0d0887\"],[0.1111111111111111,\"#46039f\"],[0.2222222222222222,\"#7201a8\"],[0.3333333333333333,\"#9c179e\"],[0.4444444444444444,\"#bd3786\"],[0.5555555555555556,\"#d8576b\"],[0.6666666666666666,\"#ed7953\"],[0.7777777777777778,\"#fb9f3a\"],[0.8888888888888888,\"#fdca26\"],[1.0,\"#f0f921\"]]}],\"choropleth\":[{\"type\":\"choropleth\",\"colorbar\":{\"outlinewidth\":0,\"ticks\":\"\"}}],\"histogram2d\":[{\"type\":\"histogram2d\",\"colorbar\":{\"outlinewidth\":0,\"ticks\":\"\"},\"colorscale\":[[0.0,\"#0d0887\"],[0.1111111111111111,\"#46039f\"],[0.2222222222222222,\"#7201a8\"],[0.3333333333333333,\"#9c179e\"],[0.4444444444444444,\"#bd3786\"],[0.5555555555555556,\"#d8576b\"],[0.6666666666666666,\"#ed7953\"],[0.7777777777777778,\"#fb9f3a\"],[0.8888888888888888,\"#fdca26\"],[1.0,\"#f0f921\"]]}],\"heatmap\":[{\"type\":\"heatmap\",\"colorbar\":{\"outlinewidth\":0,\"ticks\":\"\"},\"colorscale\":[[0.0,\"#0d0887\"],[0.1111111111111111,\"#46039f\"],[0.2222222222222222,\"#7201a8\"],[0.3333333333333333,\"#9c179e\"],[0.4444444444444444,\"#bd3786\"],[0.5555555555555556,\"#d8576b\"],[0.6666666666666666,\"#ed7953\"],[0.7777777777777778,\"#fb9f3a\"],[0.8888888888888888,\"#fdca26\"],[1.0,\"#f0f921\"]]}],\"heatmapgl\":[{\"type\":\"heatmapgl\",\"colorbar\":{\"outlinewidth\":0,\"ticks\":\"\"},\"colorscale\":[[0.0,\"#0d0887\"],[0.1111111111111111,\"#46039f\"],[0.2222222222222222,\"#7201a8\"],[0.3333333333333333,\"#9c179e\"],[0.4444444444444444,\"#bd3786\"],[0.5555555555555556,\"#d8576b\"],[0.6666666666666666,\"#ed7953\"],[0.7777777777777778,\"#fb9f3a\"],[0.8888888888888888,\"#fdca26\"],[1.0,\"#f0f921\"]]}],\"contourcarpet\":[{\"type\":\"contourcarpet\",\"colorbar\":{\"outlinewidth\":0,\"ticks\":\"\"}}],\"contour\":[{\"type\":\"contour\",\"colorbar\":{\"outlinewidth\":0,\"ticks\":\"\"},\"colorscale\":[[0.0,\"#0d0887\"],[0.1111111111111111,\"#46039f\"],[0.2222222222222222,\"#7201a8\"],[0.3333333333333333,\"#9c179e\"],[0.4444444444444444,\"#bd3786\"],[0.5555555555555556,\"#d8576b\"],[0.6666666666666666,\"#ed7953\"],[0.7777777777777778,\"#fb9f3a\"],[0.8888888888888888,\"#fdca26\"],[1.0,\"#f0f921\"]]}],\"surface\":[{\"type\":\"surface\",\"colorbar\":{\"outlinewidth\":0,\"ticks\":\"\"},\"colorscale\":[[0.0,\"#0d0887\"],[0.1111111111111111,\"#46039f\"],[0.2222222222222222,\"#7201a8\"],[0.3333333333333333,\"#9c179e\"],[0.4444444444444444,\"#bd3786\"],[0.5555555555555556,\"#d8576b\"],[0.6666666666666666,\"#ed7953\"],[0.7777777777777778,\"#fb9f3a\"],[0.8888888888888888,\"#fdca26\"],[1.0,\"#f0f921\"]]}],\"mesh3d\":[{\"type\":\"mesh3d\",\"colorbar\":{\"outlinewidth\":0,\"ticks\":\"\"}}],\"scatter\":[{\"fillpattern\":{\"fillmode\":\"overlay\",\"size\":10,\"solidity\":0.2},\"type\":\"scatter\"}],\"parcoords\":[{\"type\":\"parcoords\",\"line\":{\"colorbar\":{\"outlinewidth\":0,\"ticks\":\"\"}}}],\"scatterpolargl\":[{\"type\":\"scatterpolargl\",\"marker\":{\"colorbar\":{\"outlinewidth\":0,\"ticks\":\"\"}}}],\"bar\":[{\"error_x\":{\"color\":\"#2a3f5f\"},\"error_y\":{\"color\":\"#2a3f5f\"},\"marker\":{\"line\":{\"color\":\"#E5ECF6\",\"width\":0.5},\"pattern\":{\"fillmode\":\"overlay\",\"size\":10,\"solidity\":0.2}},\"type\":\"bar\"}],\"scattergeo\":[{\"type\":\"scattergeo\",\"marker\":{\"colorbar\":{\"outlinewidth\":0,\"ticks\":\"\"}}}],\"scatterpolar\":[{\"type\":\"scatterpolar\",\"marker\":{\"colorbar\":{\"outlinewidth\":0,\"ticks\":\"\"}}}],\"histogram\":[{\"marker\":{\"pattern\":{\"fillmode\":\"overlay\",\"size\":10,\"solidity\":0.2}},\"type\":\"histogram\"}],\"scattergl\":[{\"type\":\"scattergl\",\"marker\":{\"colorbar\":{\"outlinewidth\":0,\"ticks\":\"\"}}}],\"scatter3d\":[{\"type\":\"scatter3d\",\"line\":{\"colorbar\":{\"outlinewidth\":0,\"ticks\":\"\"}},\"marker\":{\"colorbar\":{\"outlinewidth\":0,\"ticks\":\"\"}}}],\"scattermapbox\":[{\"type\":\"scattermapbox\",\"marker\":{\"colorbar\":{\"outlinewidth\":0,\"ticks\":\"\"}}}],\"scatterternary\":[{\"type\":\"scatterternary\",\"marker\":{\"colorbar\":{\"outlinewidth\":0,\"ticks\":\"\"}}}],\"scattercarpet\":[{\"type\":\"scattercarpet\",\"marker\":{\"colorbar\":{\"outlinewidth\":0,\"ticks\":\"\"}}}],\"carpet\":[{\"aaxis\":{\"endlinecolor\":\"#2a3f5f\",\"gridcolor\":\"white\",\"linecolor\":\"white\",\"minorgridcolor\":\"white\",\"startlinecolor\":\"#2a3f5f\"},\"baxis\":{\"endlinecolor\":\"#2a3f5f\",\"gridcolor\":\"white\",\"linecolor\":\"white\",\"minorgridcolor\":\"white\",\"startlinecolor\":\"#2a3f5f\"},\"type\":\"carpet\"}],\"table\":[{\"cells\":{\"fill\":{\"color\":\"#EBF0F8\"},\"line\":{\"color\":\"white\"}},\"header\":{\"fill\":{\"color\":\"#C8D4E3\"},\"line\":{\"color\":\"white\"}},\"type\":\"table\"}],\"barpolar\":[{\"marker\":{\"line\":{\"color\":\"#E5ECF6\",\"width\":0.5},\"pattern\":{\"fillmode\":\"overlay\",\"size\":10,\"solidity\":0.2}},\"type\":\"barpolar\"}],\"pie\":[{\"automargin\":true,\"type\":\"pie\"}]},\"layout\":{\"autotypenumbers\":\"strict\",\"colorway\":[\"#636efa\",\"#EF553B\",\"#00cc96\",\"#ab63fa\",\"#FFA15A\",\"#19d3f3\",\"#FF6692\",\"#B6E880\",\"#FF97FF\",\"#FECB52\"],\"font\":{\"color\":\"#2a3f5f\"},\"hovermode\":\"closest\",\"hoverlabel\":{\"align\":\"left\"},\"paper_bgcolor\":\"white\",\"plot_bgcolor\":\"#E5ECF6\",\"polar\":{\"bgcolor\":\"#E5ECF6\",\"angularaxis\":{\"gridcolor\":\"white\",\"linecolor\":\"white\",\"ticks\":\"\"},\"radialaxis\":{\"gridcolor\":\"white\",\"linecolor\":\"white\",\"ticks\":\"\"}},\"ternary\":{\"bgcolor\":\"#E5ECF6\",\"aaxis\":{\"gridcolor\":\"white\",\"linecolor\":\"white\",\"ticks\":\"\"},\"baxis\":{\"gridcolor\":\"white\",\"linecolor\":\"white\",\"ticks\":\"\"},\"caxis\":{\"gridcolor\":\"white\",\"linecolor\":\"white\",\"ticks\":\"\"}},\"coloraxis\":{\"colorbar\":{\"outlinewidth\":0,\"ticks\":\"\"}},\"colorscale\":{\"sequential\":[[0.0,\"#0d0887\"],[0.1111111111111111,\"#46039f\"],[0.2222222222222222,\"#7201a8\"],[0.3333333333333333,\"#9c179e\"],[0.4444444444444444,\"#bd3786\"],[0.5555555555555556,\"#d8576b\"],[0.6666666666666666,\"#ed7953\"],[0.7777777777777778,\"#fb9f3a\"],[0.8888888888888888,\"#fdca26\"],[1.0,\"#f0f921\"]],\"sequentialminus\":[[0.0,\"#0d0887\"],[0.1111111111111111,\"#46039f\"],[0.2222222222222222,\"#7201a8\"],[0.3333333333333333,\"#9c179e\"],[0.4444444444444444,\"#bd3786\"],[0.5555555555555556,\"#d8576b\"],[0.6666666666666666,\"#ed7953\"],[0.7777777777777778,\"#fb9f3a\"],[0.8888888888888888,\"#fdca26\"],[1.0,\"#f0f921\"]],\"diverging\":[[0,\"#8e0152\"],[0.1,\"#c51b7d\"],[0.2,\"#de77ae\"],[0.3,\"#f1b6da\"],[0.4,\"#fde0ef\"],[0.5,\"#f7f7f7\"],[0.6,\"#e6f5d0\"],[0.7,\"#b8e186\"],[0.8,\"#7fbc41\"],[0.9,\"#4d9221\"],[1,\"#276419\"]]},\"xaxis\":{\"gridcolor\":\"white\",\"linecolor\":\"white\",\"ticks\":\"\",\"title\":{\"standoff\":15},\"zerolinecolor\":\"white\",\"automargin\":true,\"zerolinewidth\":2},\"yaxis\":{\"gridcolor\":\"white\",\"linecolor\":\"white\",\"ticks\":\"\",\"title\":{\"standoff\":15},\"zerolinecolor\":\"white\",\"automargin\":true,\"zerolinewidth\":2},\"scene\":{\"xaxis\":{\"backgroundcolor\":\"#E5ECF6\",\"gridcolor\":\"white\",\"linecolor\":\"white\",\"showbackground\":true,\"ticks\":\"\",\"zerolinecolor\":\"white\",\"gridwidth\":2},\"yaxis\":{\"backgroundcolor\":\"#E5ECF6\",\"gridcolor\":\"white\",\"linecolor\":\"white\",\"showbackground\":true,\"ticks\":\"\",\"zerolinecolor\":\"white\",\"gridwidth\":2},\"zaxis\":{\"backgroundcolor\":\"#E5ECF6\",\"gridcolor\":\"white\",\"linecolor\":\"white\",\"showbackground\":true,\"ticks\":\"\",\"zerolinecolor\":\"white\",\"gridwidth\":2}},\"shapedefaults\":{\"line\":{\"color\":\"#2a3f5f\"}},\"annotationdefaults\":{\"arrowcolor\":\"#2a3f5f\",\"arrowhead\":0,\"arrowwidth\":1},\"geo\":{\"bgcolor\":\"white\",\"landcolor\":\"#E5ECF6\",\"subunitcolor\":\"white\",\"showland\":true,\"showlakes\":true,\"lakecolor\":\"white\"},\"title\":{\"x\":0.05},\"mapbox\":{\"style\":\"light\"}}}},                        {\"responsive\": true}                    ).then(function(){\n                            \nvar gd = document.getElementById('f84b1679-0b95-4d15-9942-f443ef90297e');\nvar x = new MutationObserver(function (mutations, observer) {{\n        var display = window.getComputedStyle(gd).display;\n        if (!display || display === 'none') {{\n            console.log([gd, 'removed!']);\n            Plotly.purge(gd);\n            observer.disconnect();\n        }}\n}});\n\n// Listen for the removal of the full notebook cells\nvar notebookContainer = gd.closest('#notebook-container');\nif (notebookContainer) {{\n    x.observe(notebookContainer, {childList: true});\n}}\n\n// Listen for the clearing of the current output cell\nvar outputEl = gd.closest('.output');\nif (outputEl) {{\n    x.observe(outputEl, {childList: true});\n}}\n\n                        })                };                });            </script>        </div>"
     },
     "metadata": {},
     "output_type": "display_data"
    }
   ],
   "source": [
    "import plotly.graph_objects as go\n",
    "import numpy as np\n",
    "\n",
    "x0 = np.random.randn(50)\n",
    "x1 = np.random.randn(50) + 2 # shift mean\n",
    "\n",
    "fig = go.Figure()\n",
    "fig.add_trace(go.Box(x=x0))\n",
    "fig.add_trace(go.Box(x=x1))\n",
    "\n",
    "fig.show()"
   ]
  },
  {
   "cell_type": "code",
   "execution_count": 246,
   "id": "85e5f577",
   "metadata": {},
   "outputs": [
    {
     "data": {
      "application/vnd.plotly.v1+json": {
       "data": [
        {
         "lat": [
          44.878414,
          44.6098268,
          51.9581028,
          52.4922513,
          53.3479968,
          51.996152,
          52.5393864,
          50.9979622,
          53.7063476,
          51.1581094,
          53.7913974,
          53.4119759,
          51.5012067,
          52.999463,
          52.9252146,
          50.9213415,
          50.290659,
          50.1064111,
          53.7340088,
          49.7941615,
          51.3614103,
          53.9871095,
          55.1546441,
          51.762481,
          52.0051886,
          64.5394289,
          61.066,
          61.5009724,
          61.2885948,
          61.2528972,
          65.8398078,
          62.7645265,
          64.4136851,
          61.6654674,
          63.9162928,
          64.5625385,
          61.3319616,
          62.1057272,
          46.3655652,
          48.2752034,
          48.5866291,
          46.110579,
          46.6916565,
          47.408999,
          55.8999056,
          52.5912896,
          54.1034582,
          53.9676488,
          55.4155753,
          55.0499867,
          54.2226707,
          55.4848318,
          53.4545764,
          52.7564939,
          54.2397689,
          52.9589532,
          56.088377,
          54.4815311,
          53.3616974,
          52.7204651,
          53.6300864,
          54.5999224,
          54.734944,
          54.3067375,
          56.2650146,
          50.6299647,
          50.5976472,
          50.6484585,
          50.2111207,
          50.4862958,
          51.2837123,
          50.8129041,
          50.7633747,
          51.2967101,
          50.7845099,
          50.4004883,
          53.2419535,
          53.5958178,
          53.5340397,
          52.4267015,
          53.1296524,
          52.7529119,
          53.0599771,
          52.537173,
          52.9154851,
          52.1483358,
          53.3739884,
          52.5852257,
          53.0170888,
          52.5791734,
          52.8461199,
          53.4554145,
          51.7112755,
          51.2865048,
          50.372713,
          50.346543,
          55.635614,
          51.8335853,
          56.391819,
          56.1280804,
          56.29773,
          56.2021036,
          55.6198751,
          56.3490152,
          56.3131822,
          56.1486863,
          56.3554349,
          56.3327254,
          55.9337222,
          55.452698,
          56.0180587,
          55.3387515,
          55.5630311,
          55.9298134,
          55.9166398,
          55.9960277,
          55.9939169,
          56.3749967,
          55.9498056,
          56.4274441,
          56.4937757,
          48.7070042,
          48.7978209,
          49.0554742,
          50.9768814,
          48.6889024,
          50.0651529,
          47.6310259,
          50.3205766,
          48.7068721,
          48.6936061,
          50.0708719,
          50.0165306,
          50.5296067,
          50.0500944,
          50.1380557,
          49.5663183,
          48.618917,
          50.7903789,
          49.7649148,
          59.3892583,
          60.0308381,
          60.7603913,
          59.2483905,
          61.0063465,
          58.8757553,
          59.5037764,
          59.8591523,
          60.9612823,
          59.5351837,
          59.4758605,
          59.9734998,
          58.8383117,
          59.9479423,
          59.1269212,
          51.0901649,
          49.9352454,
          51.3655754,
          50.8311818,
          51.6593332,
          50.4242134,
          50.9945626,
          51.3091524,
          51.0952211,
          50.8677905,
          50.453455,
          51.1954419,
          50.1701949,
          51.6951644,
          51.830932,
          42.8214424,
          42.1152296,
          42.058966,
          42.5650962,
          42.8916007,
          43.203825,
          43.8484083,
          42.9849159,
          43.2504665,
          44.6602467,
          48.7946446,
          49.0189345,
          51.5823759,
          50.3876058,
          50.0929703,
          53.7361398,
          51.9594977,
          51.2748592,
          52.2461454,
          51.3634856,
          52.0340142,
          51.8497035,
          57.2044698,
          56.5586946,
          57.4918141,
          56.9993792,
          57.4425463,
          57.0273052,
          56.9324606,
          57.4679066,
          57.4606031,
          57.3805743,
          56.9820688,
          57.1025975,
          56.8542719,
          57.2539276,
          56.8560234,
          56.5926877,
          57.3177781,
          43.3055248,
          43.1688611,
          43.5096646,
          43.2257841,
          43.3204196,
          55.5551233,
          52.544879,
          51.5230393,
          55.9609167,
          57.8468636,
          56.1513108,
          56.1208145,
          56.5847888,
          53.920693,
          52.2864036,
          57.7756595,
          54.8968931,
          54.1107238,
          53.0842668,
          51.6563983,
          55.9405334,
          54.557162,
          52.7565808,
          57.9430504,
          56.7928178,
          53.1369095,
          52.2102538,
          43.6819137,
          43.6281516,
          43.4845464,
          43.5578075,
          43.7589602,
          43.4839358,
          43.3981585,
          43.5671525,
          54.3866518,
          54.6513372,
          54.6588378,
          54.770638,
          54.5915455,
          54.9600185,
          54.7074702,
          54.9453423,
          54.5692156,
          54.4646036,
          55.0316524,
          54.6313814,
          54.4084705,
          54.9516574,
          54.8625126,
          54.4430986,
          54.7311437,
          54.9439286,
          54.6772897,
          55.0449714,
          55.0809336,
          54.6244751,
          46.0875083,
          45.3930912,
          46.3083344,
          55.1773714,
          55.0956803,
          55.2130096,
          55.1971758,
          53.7521926,
          55.0301833,
          54.5059848,
          54.0790111,
          54.0347201,
          54.7959473,
          54.8862447,
          53.8700828,
          55.0177123,
          54.9689785,
          54.3191471,
          54.4824939,
          55.0943144,
          54.0566016,
          54.409922,
          54.097296,
          54.7236477,
          54.7446445,
          52.9302415,
          53.1830375,
          53.036908,
          43.7732525,
          43.4437731,
          44.0838442,
          44.2269425,
          64.5378417,
          64.9543539,
          62.2059817,
          64.5889398,
          61.518881,
          62.9127626,
          60.9794025,
          61.7891264,
          61.5757191,
          61.8058821,
          63.7437572,
          61.703367,
          62.0787293,
          56.0786281,
          54.4220968,
          55.6693513,
          54.2859263,
          53.5210919,
          55.3910651,
          54.0059999,
          54.6674492,
          56.2127383,
          53.6865289,
          53.7125695,
          53.794315,
          53.5988055,
          54.6055,
          53.8604265,
          54.2351735,
          56.0622131,
          52.759313,
          55.2764707,
          55.7202694,
          58.8415239,
          56.2284817,
          58.4032152,
          58.6035264,
          58.5559424,
          59.340056,
          58.3034832,
          60.6290609,
          56.5243844,
          59.3955383,
          57.5597284,
          58.6698913,
          58.5389776,
          58.7311574,
          57.584196,
          56.2532741,
          57.1097477,
          57.3040326,
          67.4974082,
          63.8615274,
          62.5965137,
          66.0367316,
          62.3579068,
          65.148584,
          63.5989841,
          61.6686617,
          65.994147,
          63.5565514,
          58.4733277,
          57.4424559,
          58.3828191,
          58.8269323,
          57.768,
          57.8807152,
          58.3265441,
          57.4543369,
          58.2943349,
          59.0784867,
          58.753421,
          58.3760542,
          44.8679655,
          44.8950433,
          44.4584006,
          45.0012149,
          44.7651876,
          44.5630007,
          44.6344864,
          45.3605121,
          46.71157,
          45.4641703,
          45.0401604,
          45.4333007,
          44.9344404,
          44.8877025,
          44.6354363,
          45.1038699,
          44.7235026,
          46.0515432,
          45.2603626,
          43.5854551,
          45.2610949,
          45.615923,
          45.8546345,
          44.1105335,
          45.2227359,
          44.4122963,
          54.3473075,
          56.253907,
          56.2098468,
          55.9054121,
          55.9576784,
          69.4031364,
          58.4485261,
          56.2529035,
          55.9617752,
          56.1131564,
          67.4666901,
          56.2374037,
          56.2051282,
          58.6032644,
          56.0093879,
          58.221681,
          53.7104586,
          56.0113799,
          69.3489978,
          56.1202647,
          55.3141969,
          55.8131263,
          55.5389739,
          44.4164605,
          44.6764304,
          46.1059307,
          44.7514769,
          45.057202,
          45.7092306,
          45.190629,
          45.3562627,
          45.9537576,
          45.1341997,
          44.9482948,
          45.029058,
          44.8504679,
          45.0318393,
          45.4288991,
          44.4953612,
          56.262114,
          56.290809,
          55.4443883,
          54.9368539,
          55.2153947,
          55.0650077,
          56.0870344,
          55.2280246,
          55.2087637,
          52.1268464,
          52.3380202,
          51.7303637,
          51.6604083,
          51.6597148,
          51.2119324,
          51.5681314,
          51.1918927,
          52.0917728,
          51.8786014,
          59.4734797,
          59.4445408,
          59.9005958,
          60.0191278,
          60.7130801,
          60.6296236,
          59.565237,
          59.3766119,
          60.950855,
          59.3740435,
          59.4742862,
          59.8754216,
          59.6215133,
          59.9075226,
          60.7320936,
          58.7374031,
          59.3493847,
          60.044862,
          59.7043309,
          60.1100135,
          59.7726848,
          59.5132022,
          60.9127549,
          60.3660209,
          61.0330896,
          61.1111282,
          60.1446932,
          59.1178185,
          59.8772884,
          60.1401739,
          59.6272904,
          59.5407098,
          59.9443714,
          52.4874097,
          53.2577411,
          52.6152411,
          52.4004179,
          53.0156117,
          52.610249,
          52.0442648,
          53.24048,
          59.5681332,
          62.7805882,
          55.8623156,
          55.9738571,
          56.6343662,
          56.3334036,
          54.8465544,
          53.8770022,
          54.0391072,
          54.4248207,
          54.0581967,
          54.1809332,
          54.6310583,
          55.7540471,
          55.5276918,
          55.796389,
          55.4595766,
          55.4255379,
          55.343369,
          55.551725,
          56.0356499,
          55.3071519,
          56.3359513,
          55.6190582,
          55.8703276,
          55.6240869,
          56.3477457,
          55.9385999,
          55.4363283,
          55.7443143,
          56.741786,
          55.3830113,
          55.599803,
          54.762456,
          55.7297089,
          55.9741665,
          55.9062267,
          54.853337,
          56.3425605,
          55.102814,
          55.9161773,
          55.6597925,
          56.105426,
          55.8317203,
          56.4409979,
          55.5978959,
          55.5754955,
          55.5792277,
          55.7078257,
          56.0328881,
          55.8713214,
          54.9652077,
          55.5778163,
          55.676499,
          55.5069259,
          55.9105782,
          55.386185,
          55.8686133,
          55.6789455,
          54.8541006,
          55.8151421,
          55.7807244,
          56.4158326,
          55.4389322,
          54.8705984,
          56.0103638,
          54.8324412,
          55.5495132,
          55.7582621,
          55.6632776,
          55.7014744,
          56.3062548,
          54.9226466,
          56.185102,
          55.810648,
          54.886274,
          56.7308564,
          55.9590588,
          55.888657,
          56.2516982,
          56.010005,
          55.1508011,
          55.5777427,
          55.9233801,
          55.8780241,
          55.7847291,
          55.7170877,
          56.2890516,
          67.5677761,
          69.2491311,
          69.4003584,
          69.4132852,
          67.1567974,
          67.6150424,
          67.5661417,
          68.8786028,
          67.9386153,
          69.007721,
          68.1422058,
          68.0510344,
          67.373084,
          69.1989583,
          69.0766801,
          69.1921409,
          67.6379672,
          55.3945814,
          56.495036,
          56.1020828,
          56.3565458,
          57.8559204,
          56.2169751,
          55.989943,
          55.3207727,
          56.1307769,
          56.6449218,
          56.2376047,
          56.6404286,
          55.8205915,
          56.1432084,
          55.4296181,
          55.0326225,
          56.0262359,
          55.543811,
          56.3240627,
          55.9797564,
          54.8675792,
          55.5967718,
          54.9228268,
          56.7889794,
          55.5201515,
          57.4612572,
          56.7651262,
          57.6764293,
          58.3840197,
          57.9823766,
          58.5213846,
          58.8458379,
          58.3910296,
          58.5973723,
          58.1201281,
          57.990737,
          57.145108,
          59.1248394,
          55.35146,
          54.7582156,
          55.6692421,
          54.6267603,
          53.7343189,
          55.1945666,
          55.4685094,
          54.366055,
          55.028191,
          54.9945576,
          55.2146167,
          55.2251631,
          54.2206476,
          55.0906867,
          54.9096002,
          55.0598155,
          55.5689323,
          54.9848566,
          56.9160511,
          55.8703415,
          53.6778906,
          53.6523728,
          52.7881277,
          51.4649189,
          51.4783857,
          51.4037617,
          51.1964202,
          51.7875092,
          51.2294282,
          51.1633736,
          52.426685,
          51.036838,
          53.4438496,
          52.5054851,
          52.4284558,
          52.4002192,
          53.2788438,
          52.97454,
          52.9671298,
          52.9640996,
          53.2726916,
          53.1960836,
          53.1855463,
          53.1130888,
          53.5300905,
          53.7137496,
          53.1753314,
          52.4697595,
          53.9271974,
          53.0761357,
          59.1613221,
          59.4079923,
          58.0797571,
          58.3742532,
          58.5626082,
          58.8371721,
          58.469685,
          59.0512783,
          60.3901321,
          58.0822065,
          59.0167925,
          57.4283296,
          58.0995875,
          57.9336725,
          57.2889515,
          57.7180034,
          57.8852686,
          58.0102583,
          59.6482998,
          59.4277573,
          56.7781501,
          60.4011933,
          58.7842834,
          56.5160768,
          58.2974596,
          44.1622031,
          43.3501675,
          43.1111742,
          43.1164904,
          44.5539457,
          45.9308483,
          45.4780092,
          42.8239372,
          43.1280578,
          44.5901175,
          43.7971818,
          42.9706317,
          56.332208,
          58.7432429,
          57.826974,
          56.0201973,
          57.029807,
          56.3408431,
          56.710725,
          57.3451528,
          57.8145817,
          57.7765219,
          57.8194415,
          56.3374813,
          57.0637952,
          56.2908554,
          47.1121589,
          47.2676314,
          47.1383299,
          48.1769737,
          47.5165338,
          48.0448904,
          48.3350706,
          48.0435487,
          46.8495958,
          48.3205326,
          47.5773717,
          47.8831311,
          48.9260077,
          48.3511807,
          47.411919,
          47.757773,
          46.7038963,
          47.2224566,
          46.4752095,
          47.5177337,
          47.2094917,
          47.6477448,
          47.7085287,
          54.9373475,
          53.9246659,
          54.2297402,
          54.0376572,
          54.7256164,
          53.7067584,
          54.6254445,
          54.3508885,
          53.823543,
          55.1291721,
          54.4070719,
          54.0287312,
          53.4011981,
          53.2210298,
          52.7972914,
          53.0994565,
          53.1640488,
          53.3800848,
          53.6498299,
          53.1950306,
          53.1558674,
          53.5205348,
          52.928961,
          59.9391313,
          51.938831,
          51.8736062,
          52.0224231,
          51.5388697,
          52.0459865,
          51.3508505,
          51.4993591,
          51.023541,
          50.9598317,
          51.7133337,
          50.455199,
          52.3094237,
          52.0159921,
          52.2616271,
          51.533557,
          52.4951572,
          52.1147391,
          51.4854003,
          50.8974378,
          46.713152,
          47.3255783,
          46.6324545,
          45.2270954,
          48.6236334,
          46.6526899,
          53.5867839,
          49.238866,
          50.6730577,
          47.7620108,
          49.0815774,
          47.0408423,
          46.9591631,
          57.8475571,
          56.694632,
          57.3384177,
          57.0052277,
          56.9095924,
          56.7764795,
          57.3763758,
          56.9758903,
          58.0465803,
          58.3643685,
          58.8622073,
          59.9351707,
          56.7048206,
          56.8385216,
          56.8102931,
          60.6944496,
          57.6838362,
          56.414962,
          56.8465034,
          59.7665925,
          58.7051762,
          57.4299433,
          59.7636635,
          58.348651,
          56.612387,
          58.2826013,
          58.6348516,
          56.4370039,
          57.49131,
          56.6544959,
          57.910126,
          58.0748272,
          58.6309267,
          59.0538977,
          57.2472567,
          56.9080085,
          56.4956952,
          56.7986319,
          57.3717477,
          60.1533109,
          59.6047724,
          56.9918901,
          56.9076193,
          56.5005715,
          58.0434672,
          57.0122687,
          58.0393524,
          44.6167013,
          43.0417684,
          43.1755152,
          43.1937529,
          43.020588,
          43.1567628,
          43.7471342,
          55.6057916,
          55.2116983,
          55.5525228,
          55.2682105,
          54.146457,
          54.9136959,
          55.1950257,
          54.5837795,
          54.406244,
          53.9449558,
          54.9441093,
          55.1199661,
          54.782635,
          55.8308821,
          55.0564732,
          45.0989782,
          44.7816067,
          44.1485694,
          44.0446186,
          44.1320568,
          44.4032668,
          45.3684296,
          45.7181751,
          43.9052044,
          44.1054107,
          44.2087273,
          45.1297323,
          44.6226031,
          44.7544552,
          45.4932733,
          43.9617097,
          44.041091,
          45.328659,
          45.044516,
          51.8422192,
          52.6506335,
          52.5924489,
          52.8912389,
          53.4436216,
          52.6538833,
          52.7213154,
          51.9767841,
          56.5232864,
          54.8598642,
          54.9014619,
          56.0912567,
          54.4062891,
          54.974891,
          54.5363495,
          54.9641538,
          55.7567107,
          55.299053,
          55.8466651,
          55.7521699,
          55.7943584,
          56.1861392,
          55.4042867,
          54.5967034,
          55.7150413,
          55.895169,
          55.7270698,
          55.7434619,
          55.6313609,
          54.4281461,
          54.936516,
          55.3699139,
          56.6506724,
          57.7860089,
          55.8339056,
          57.8855767,
          58.6582598,
          57.568302,
          56.2566492,
          56.1760868,
          57.2579478,
          57.360194,
          56.8733213,
          56.7275204,
          58.0571446,
          57.0265168,
          57.1221304,
          56.2232566,
          57.1456744,
          56.262881,
          56.514876,
          56.8586059,
          57.04133,
          56.5012188,
          57.8787314,
          56.9907085,
          57.561869,
          58.3114253,
          56.6031285,
          60.732895,
          56.4845804,
          54.5083349,
          53.8114179,
          53.7701014,
          54.0820349,
          54.3542315,
          53.9678944,
          53.1464766,
          53.9698378,
          53.9319555,
          53.9417551,
          54.0109075,
          53.7096415,
          53.9338874,
          54.1343585,
          54.1920559,
          53.9730452,
          54.0984438,
          54.0020652,
          54.4795484,
          51.178452,
          51.7191047,
          52.1449619,
          51.2844502,
          51.5346393,
          56.5027463,
          56.1104858,
          58.2017299,
          57.1529744,
          56.6547289,
          57.0518149,
          58.1359233,
          56.852738,
          56.2659916,
          56.4427774,
          56.4615767,
          53.6533992,
          54.2167926,
          53.8549647,
          54.1447956,
          53.958964,
          54.3079415,
          50.2344147,
          46.8185743,
          47.5353379,
          50.5498936,
          53.1460657,
          48.9664966,
          48.4647258,
          52.6516647,
          53.7223325,
          53.1008083,
          54.0002888,
          53.8259342,
          63.7121099,
          62.2639527,
          61.2536939,
          61.6392863,
          61.0318712,
          61.0882676,
          60.9396698,
          62.1454701,
          61.7422169,
          60.7585833,
          62.1342888,
          61.3706913,
          61.2541083,
          60.1296954,
          61.0023984,
          61.3123568,
          54.9906527,
          54.9406399,
          53.8760961,
          56.0487158,
          54.7554548,
          55.1714905,
          55.4852323,
          53.0536197,
          55.8868784,
          54.7521438,
          55.116665,
          54.8903147,
          55.3386053,
          55.7061276,
          53.4072153,
          55.0456457,
          55.0709557,
          56.0536895,
          55.763154,
          54.3692764,
          55.0405288,
          54.9907827,
          56.0851495,
          54.8178249,
          54.0843745,
          54.9260812,
          54.9818567,
          55.1602624,
          54.448927,
          54.854662,
          43.2916774,
          43.3180145,
          43.3519142,
          43.2046547,
          43.120175,
          43.1488691,
          54.8397989,
          55.507,
          55.8406025,
          56.111923,
          56.1094977,
          55.8650213,
          56.1438298,
          55.4962415,
          55.9406974,
          64.7313924,
          68.0584191,
          69.7016661,
          58.6094283,
          67.5502451,
          63.7517616,
          60.7276196,
          62.536232,
          56.6599953,
          63.2828955,
          60.3758006,
          61.4843503,
          67.4582218,
          58.9586859,
          66.4071765,
          62.0281405,
          64.4457594,
          66.6592841,
          63.7940552,
          65.5377966,
          66.0839433,
          63.2018039,
          66.5492077,
          64.9118803,
          57.3091058,
          58.1860098,
          58.3620228,
          57.7881684,
          56.7360544,
          58.5062879,
          57.2051315,
          58.0485495,
          57.8674993,
          57.5224249,
          57.6215477
         ],
         "lon": [
          39.190289,
          40.1006606,
          85.9603235,
          82.7793606,
          83.7798064,
          84.9839604,
          85.2138453,
          81.4643358,
          84.9315081,
          82.1872547,
          81.3545053,
          83.9311069,
          81.2078695,
          78.6459232,
          78.5729775,
          128.4739471,
          127.527198,
          129.4391813,
          127.265787,
          129.4112492,
          128.1219729,
          123.9437205,
          124.7468904,
          128.1219846,
          127.7005458,
          40.5169606,
          42.1032789,
          38.9636966,
          47.1003015,
          46.633242,
          44.2532273,
          40.3360076,
          40.8208143,
          40.2062947,
          38.0805031,
          39.8180934,
          46.920441,
          42.8996973,
          48.0559236,
          46.1906462,
          45.7368019,
          48.07333,
          47.8502476,
          47.2525345,
          53.9220144,
          58.3110998,
          54.1113129,
          58.4100419,
          55.5582214,
          55.9553186,
          55.0312373,
          54.8524765,
          56.0438751,
          55.7970197,
          57.9614547,
          55.9282838,
          54.2483061,
          53.4655972,
          55.9245224,
          58.6663783,
          55.9317089,
          53.6950623,
          55.9578468,
          59.4125461,
          54.929907,
          38.6880342,
          36.5856652,
          38.4005083,
          38.0998772,
          35.6663877,
          37.5347759,
          37.1896436,
          37.8775484,
          37.8350182,
          36.4887648,
          36.8877889,
          34.3652146,
          34.3551812,
          33.7302579,
          31.7360399,
          34.9888727,
          32.233911,
          32.8468129,
          31.9357991,
          33.4744058,
          34.4918415,
          34.1059172,
          32.760403,
          32.3938878,
          33.7660547,
          32.6757629,
          34.4159238,
          105.8673219,
          106.5230319,
          103.286699,
          106.4533516,
          109.3361505,
          107.5842223,
          38.7111123,
          40.4084376,
          42.2687398,
          42.6926111,
          40.6579929,
          40.9955183,
          38.7034257,
          38.8635701,
          41.3170576,
          39.391336,
          39.6247398,
          40.6124108,
          39.956551,
          41.6340046,
          42.0231362,
          39.4508075,
          39.1734526,
          40.3321855,
          40.0179653,
          38.5839667,
          40.8562939,
          40.4525692,
          39.6680539,
          44.5170339,
          44.7462538,
          44.8270085,
          44.7858202,
          43.5306303,
          45.3844202,
          43.1330872,
          44.8030699,
          44.5630857,
          45.1992692,
          43.2401512,
          45.4731658,
          42.6666439,
          46.8804277,
          45.20914,
          42.7360402,
          42.8541163,
          42.0288513,
          43.6648641,
          35.9377058,
          37.7890586,
          46.3054414,
          39.8355662,
          36.4495137,
          40.2485362,
          40.3441148,
          38.3748782,
          46.4814116,
          45.4576137,
          40.1114187,
          42.7589506,
          36.4425478,
          40.2000298,
          37.9090497,
          40.0318256,
          40.5590801,
          42.1008334,
          40.5976923,
          39.1969229,
          41.0162014,
          39.5184909,
          39.2162843,
          41.6173404,
          39.0407746,
          40.136874,
          42.2472726,
          39.6226965,
          39.0190454,
          40.8074182,
          47.1165263,
          48.1939354,
          48.2907452,
          47.8710051,
          47.6367066,
          46.8729636,
          46.7233699,
          47.5047181,
          46.5851292,
          45.6499523,
          132.9217207,
          131.0540102,
          116.6379549,
          116.5234779,
          118.0323936,
          119.7660867,
          116.5852383,
          108.846681,
          117.7117842,
          110.4590898,
          113.4994,
          116.0334461,
          41.9132201,
          40.1228906,
          42.1375625,
          40.9728272,
          42.168914,
          40.3776851,
          41.0931657,
          41.9608002,
          41.5122672,
          41.2808565,
          43.1683321,
          41.7298834,
          40.5353874,
          41.1054432,
          41.3800939,
          42.0458099,
          43.1110401,
          44.9094582,
          44.8131207,
          44.5901963,
          44.7645779,
          45.0476331,
          98.6643699,
          103.888543,
          104.1487532,
          97.8205348,
          114.1866287,
          101.6340035,
          101.1702926,
          104.114275,
          102.0491772,
          104.2807466,
          108.1109412,
          99.0314056,
          102.18015,
          103.3364093,
          103.7187545,
          98.0030145,
          100.5780603,
          103.6388109,
          102.7415734,
          105.7757343,
          103.0901268,
          104.0973294,
          43.5345036,
          44.0517314,
          43.60713,
          43.8575925,
          44.0102409,
          44.1402161,
          42.9213582,
          43.5865792,
          20.6418091,
          19.9140572,
          21.0501388,
          20.6039767,
          22.1942445,
          20.4753652,
          20.5073241,
          22.4928745,
          20.1690153,
          19.9453482,
          22.0324064,
          22.5713736,
          22.0134438,
          20.2277424,
          21.0998067,
          21.0085269,
          19.9981926,
          20.1514295,
          20.1357595,
          21.6742367,
          21.8886106,
          21.7969062,
          41.935537,
          47.3432602,
          44.2702088,
          36.6566951,
          36.677629,
          36.4926251,
          36.5952722,
          34.7386592,
          36.7394903,
          36.2516245,
          34.3076201,
          35.780768,
          35.9274842,
          37.1168701,
          34.4385915,
          36.4633603,
          35.8872168,
          35.2816918,
          34.9872239,
          36.6121639,
          35.9621646,
          34.0189631,
          35.3443568,
          37.1671,
          35.2424346,
          158.4057632,
          158.3883548,
          158.6559254,
          41.9143472,
          41.7415142,
          41.9711046,
          42.0466704,
          34.7799462,
          34.5949263,
          34.2682122,
          30.6016832,
          30.1996116,
          34.4568489,
          32.9725519,
          34.3596434,
          31.4640557,
          36.5329941,
          34.3126982,
          30.6916998,
          32.3499386,
          86.0201278,
          86.3037373,
          86.2744459,
          85.9475985,
          87.2771636,
          86.0467781,
          86.6366116,
          86.1797324,
          87.7454924,
          88.0702754,
          87.8055646,
          87.2142745,
          87.3371272,
          86.2809208,
          86.7183577,
          85.8030733,
          85.6207182,
          87.8476546,
          85.6152619,
          84.8886399,
          50.8460699,
          51.0614855,
          51.1331606,
          49.6679304,
          50.0316848,
          52.2414437,
          48.3475597,
          47.2612445,
          50.6782739,
          48.9638417,
          49.93575,
          52.1894564,
          48.8927723,
          50.1669249,
          48.9590272,
          51.2833642,
          50.0058097,
          47.8478737,
          64.061034,
          57.3165402,
          50.8732125,
          60.1152961,
          50.0719503,
          57.2239777,
          53.876293,
          50.8358151,
          57.5569423,
          53.7014239,
          41.5306822,
          41.1594201,
          42.3654013,
          44.3184927,
          40.927,
          43.8014197,
          44.757494,
          40.5723598,
          43.8780948,
          42.2878423,
          42.6884958,
          45.4062414,
          38.1618157,
          37.3163282,
          39.7299824,
          41.1324168,
          39.8781494,
          38.0790852,
          39.1354738,
          40.6918389,
          38.2763895,
          39.458949,
          38.9759647,
          40.5727951,
          37.9855795,
          40.5913245,
          40.7245341,
          41.0475175,
          37.7686135,
          38.1704875,
          38.1259774,
          39.7231548,
          37.4454412,
          38.9351837,
          40.1260267,
          39.0824904,
          39.6929577,
          39.5320258,
          93.4358377,
          90.4794397,
          89.5299336,
          94.9020967,
          92.3800687,
          86.1907218,
          92.1651083,
          93.532273,
          94.7091491,
          94.5888103,
          86.5812794,
          96.067267,
          95.7051096,
          99.1797962,
          92.8524806,
          92.5037872,
          91.6872907,
          90.4168775,
          88.2009846,
          93.3354121,
          89.8333918,
          94.3282601,
          89.1801044,
          34.0444797,
          34.4100624,
          33.6910012,
          33.8752176,
          34.5999029,
          34.3883372,
          33.367634,
          36.4674513,
          33.7921939,
          33.6033383,
          34.1001151,
          35.0901474,
          34.9762034,
          35.3824259,
          35.825165,
          34.166308,
          62.9387011,
          62.5800359,
          65.3161963,
          64.4203722,
          67.2451705,
          67.8873408,
          63.6297182,
          63.2901272,
          62.7478548,
          35.0739038,
          35.3516867,
          36.1925603,
          35.6572224,
          35.2612491,
          36.2755133,
          34.6802597,
          35.2720915,
          35.8538706,
          36.8910945,
          33.845688,
          29.4923355,
          32.3520756,
          30.6456718,
          28.7328336,
          28.5709314,
          30.1282473,
          28.2231659,
          29.1308372,
          28.6112444,
          32.0624947,
          30.981364,
          30.3934125,
          30.5121008,
          33.5521022,
          29.8465776,
          31.2484801,
          30.4571456,
          30.7874571,
          32.3141203,
          30.7988557,
          34.1772776,
          34.1567664,
          28.6135772,
          30.1587851,
          28.8725865,
          30.2095918,
          28.0881475,
          29.1291619,
          32.5601559,
          33.5072731,
          30.877812,
          31.0333365,
          39.9331142,
          39.1456184,
          38.5289342,
          38.9205032,
          39.143536,
          39.5947883,
          39.726401,
          39.9670973,
          150.8084956,
          148.1540281,
          48.3715083,
          48.0170245,
          47.8999706,
          46.546675,
          46.2411232,
          44.3696566,
          43.9191539,
          43.7845011,
          44.9490466,
          45.1862632,
          43.2161099,
          37.620405,
          37.065143,
          37.938283,
          38.4389742,
          38.264145,
          36.185694,
          37.7061984,
          35.9585112,
          38.7027953,
          36.5251837,
          36.9856793,
          37.1245043,
          37.8440276,
          37.526672,
          37.5101021,
          37.7664984,
          38.8498479,
          37.1757223,
          39.0358317,
          38.1224298,
          38.8850978,
          36.8554029,
          37.9207539,
          36.8601454,
          38.1904392,
          36.7240032,
          38.7531002,
          37.8545415,
          37.8631156,
          38.140838,
          37.3295266,
          38.2320307,
          37.0393709,
          36.6951995,
          38.9207723,
          38.9578093,
          37.4614035,
          38.200599,
          39.0260266,
          37.9033507,
          37.898125,
          36.024043,
          37.7363579,
          36.734484,
          38.4622104,
          37.263686,
          38.5599196,
          38.9869822,
          38.6596983,
          38.1733534,
          37.5703482,
          37.2182749,
          37.8471403,
          37.6210346,
          38.2728914,
          37.8618553,
          39.8656147,
          36.1959206,
          38.1502661,
          37.4033859,
          36.977631,
          38.175624,
          38.078228,
          37.5276003,
          38.0410235,
          37.4303702,
          37.9396017,
          38.379245,
          37.4533252,
          39.5445712,
          37.9783707,
          38.7806752,
          38.4447045,
          38.2192563,
          37.4831799,
          33.4067929,
          33.315341,
          32.4501496,
          30.7984312,
          32.4143218,
          33.663735,
          30.4741941,
          33.0262299,
          32.9359719,
          33.0685865,
          33.2669407,
          39.5077846,
          32.4975636,
          33.4508591,
          33.4177759,
          33.2383502,
          53.0069565,
          43.8408141,
          43.5758423,
          43.5135442,
          44.0646481,
          45.7761957,
          43.1596417,
          43.2718859,
          42.1678834,
          43.0626185,
          43.4723104,
          43.4599416,
          43.3872492,
          45.032337,
          44.1664198,
          42.5125538,
          44.4933807,
          45.035771,
          42.1887089,
          44.0053913,
          43.0995042,
          43.8013992,
          44.5448369,
          43.3448089,
          44.4902885,
          45.4813231,
          45.7833293,
          43.242077,
          46.6129009,
          33.9175929,
          33.2369436,
          31.2755394,
          32.2247401,
          33.2901557,
          35.8143898,
          30.309351,
          31.3554897,
          31.1787499,
          31.6866241,
          78.3464506,
          83.1070605,
          84.3906889,
          83.2951244,
          78.0422967,
          80.2829495,
          78.3242048,
          77.2973368,
          82.9211489,
          82.6937181,
          75.9739914,
          84.4104118,
          83.3724521,
          80.9592508,
          71.2816284,
          74.5653644,
          71.3503426,
          73.3674517,
          74.3649194,
          72.1954747,
          53.6472483,
          52.4326853,
          52.2624877,
          58.4436875,
          57.3612636,
          57.583163,
          58.3018192,
          55.1018828,
          58.4752777,
          54.9896726,
          53.1542745,
          59.874344,
          36.0076833,
          35.1415009,
          37.6039506,
          36.5038579,
          36.5749105,
          37.0437146,
          36.0696427,
          43.4183212,
          45.7026142,
          45.1689907,
          44.0469717,
          46.605092,
          43.6730217,
          46.0799857,
          45.0348625,
          44.2122414,
          43.1859073,
          45.6910796,
          57.5763459,
          56.8039427,
          54.6581309,
          58.3231716,
          57.8520572,
          57.554533,
          56.4130737,
          57.6471028,
          57.0535682,
          55.7479936,
          54.6572508,
          56.9438656,
          57.8086825,
          55.3356084,
          55.4688668,
          55.3872469,
          54.7161091,
          56.2342034,
          56.771009,
          56.6837872,
          54.1477965,
          56.4799933,
          56.1507138,
          56.0763049,
          57.8193615,
          133.2696209,
          132.1596175,
          132.3480082,
          131.8823937,
          135.5662716,
          133.7316907,
          133.4186199,
          132.8927361,
          133.1264567,
          132.8157288,
          131.9518229,
          132.4110196,
          30.5508641,
          27.8264809,
          29.9629389,
          29.9239983,
          29.3433083,
          30.1527573,
          28.6717519,
          28.3437593,
          27.622259,
          29.5436626,
          28.3317198,
          29.3668055,
          27.9236214,
          28.4724326,
          39.4232555,
          39.8756872,
          39.7507179,
          40.8033529,
          42.1984951,
          39.9484672,
          39.945891,
          40.1265822,
          40.312837,
          40.2689583,
          41.0967445,
          40.0781298,
          40.3984087,
          41.8309225,
          40.1042098,
          39.9363697,
          41.727594,
          39.718803,
          41.5410415,
          40.8114167,
          38.9350989,
          42.0931505,
          40.2159846,
          41.3913211,
          40.0227745,
          39.0091481,
          39.74654,
          39.5134398,
          40.0522274,
          39.7358609,
          41.9117422,
          39.5492421,
          40.1745338,
          40.3763426,
          41.7181803,
          49.4945176,
          50.6343776,
          51.1637392,
          49.9477382,
          48.670762,
          51.3438605,
          52.1235156,
          50.1069518,
          48.4744629,
          49.3894028,
          49.8673269,
          30.3159004,
          43.4999221,
          45.0003247,
          47.7827765,
          43.1839757,
          47.3873595,
          48.2762226,
          44.4710435,
          45.695044,
          46.9712016,
          46.7400339,
          48.1413153,
          45.3851877,
          48.7972223,
          43.7842248,
          46.034257,
          48.1045771,
          47.2023118,
          46.126722,
          142.1578559,
          142.5265804,
          142.7945071,
          142.799445,
          147.8796323,
          142.7803205,
          141.8630725,
          142.9412411,
          143.1008333,
          156.1282211,
          142.0615837,
          142.0692639,
          142.041688,
          142.737976,
          61.6693817,
          60.8343125,
          61.8947443,
          61.4581156,
          60.8180907,
          62.0463679,
          59.9517653,
          60.5650383,
          60.5560164,
          59.8265235,
          60.8103945,
          60.0798618,
          60.079138,
          60.6054911,
          61.3380029,
          60.4245069,
          63.057675,
          61.9188674,
          62.7119766,
          60.0011703,
          59.4839155,
          60.0624051,
          60.1934525,
          60.0408764,
          57.7636637,
          59.7645766,
          59.7981565,
          59.1137316,
          60.2183429,
          59.2953035,
          59.9812853,
          60.7025418,
          59.8520344,
          60.5944825,
          60.0956714,
          59.942926,
          60.2365298,
          59.9071591,
          61.3833842,
          59.9525245,
          60.5753882,
          60.4771018,
          62.0358093,
          60.8190003,
          65.274217,
          63.7320757,
          63.6981973,
          33.525355,
          44.2199715,
          44.2955775,
          44.5338707,
          44.6819182,
          44.1549483,
          44.6569607,
          31.1856206,
          34.2951663,
          34.9950502,
          31.5062809,
          33.2833222,
          33.3023162,
          32.401252,
          33.1749867,
          32.4398039,
          32.8480258,
          31.0794806,
          33.2336988,
          32.045251,
          34.2778793,
          32.6902302,
          43.4306455,
          44.1650339,
          43.4739851,
          42.8588653,
          43.0306461,
          43.8841877,
          41.708702,
          42.8970206,
          42.7168721,
          42.973135,
          43.138408,
          42.0288443,
          41.9476723,
          44.9865347,
          41.2153996,
          43.6342865,
          43.0661553,
          42.8565714,
          41.9689655,
          41.4617687,
          42.7286445,
          41.5101237,
          40.5104443,
          41.8115478,
          41.874285,
          41.452264,
          42.2529799,
          52.9943775,
          53.0745527,
          52.2970467,
          49.877067,
          53.2458065,
          49.0303882,
          52.7895849,
          48.2901209,
          52.0543794,
          52.0062972,
          48.5010954,
          48.7446846,
          49.1114975,
          50.8970238,
          49.5499838,
          52.4431906,
          51.4129016,
          52.3143347,
          53.1003968,
          52.3959165,
          51.8144669,
          50.8049337,
          48.8314533,
          50.6285784,
          32.2620163,
          36.6904983,
          32.9389741,
          34.0537771,
          37.2567558,
          34.5404016,
          32.0805315,
          34.5825515,
          37.7819693,
          37.6119436,
          37.3556605,
          36.8012716,
          37.1126156,
          34.1676009,
          35.4667605,
          32.7767459,
          33.1115372,
          34.3291002,
          34.9336396,
          35.9116761,
          34.9602344,
          31.6355466,
          35.0167348,
          86.1765257,
          79.5677821,
          82.9025829,
          84.8809926,
          77.604122,
          84.9481582,
          37.0478067,
          36.1382247,
          38.1225152,
          37.826724,
          38.2642236,
          38.3371824,
          38.0921657,
          38.5380808,
          37.9220351,
          37.7020148,
          38.2914024,
          37.2862352,
          37.6316141,
          36.4807419,
          37.6153842,
          38.1763201,
          36.2474142,
          37.5176288,
          37.6896048,
          90.5985129,
          94.4376882,
          93.9173396,
          91.5788609,
          92.9199675,
          66.5513613,
          69.4795776,
          68.2538558,
          65.5344099,
          66.3122992,
          53.9873096,
          52.6635038,
          53.2114896,
          54.193374,
          52.2137886,
          53.8037657,
          47.1181134,
          49.6262585,
          46.3533459,
          48.3910789,
          48.7768269,
          48.3748487,
          136.8792444,
          134.2550718,
          134.7553856,
          137.0079408,
          140.7111367,
          140.285174,
          135.0598942,
          90.0885686,
          91.4436721,
          91.4122454,
          90.2594446,
          91.3260229,
          66.6772226,
          74.4829794,
          75.1807763,
          72.179409,
          76.1025878,
          72.6164079,
          76.5696184,
          65.3946047,
          75.5941517,
          72.8365617,
          77.4584094,
          63.5667222,
          73.3961587,
          64.8038508,
          69.0184798,
          63.3365484,
          57.2783953,
          58.8051698,
          59.2169852,
          60.2318886,
          61.3243477,
          59.6725549,
          60.2358881,
          60.6478408,
          60.7421663,
          58.1983648,
          61.6179185,
          61.4034576,
          59.4385778,
          60.5563781,
          58.9791437,
          60.1077572,
          57.548478,
          59.6097202,
          60.7076198,
          60.8151894,
          59.0288975,
          57.6900155,
          60.7324914,
          58.4464194,
          61.5586831,
          58.152805,
          60.3773121,
          61.4008078,
          61.2581158,
          58.4226698,
          45.8723105,
          45.698291,
          46.1035645,
          46.0889364,
          45.539276,
          45.9009629,
          46.5721997,
          47.4918273,
          48.2577735,
          47.7142942,
          47.4791113,
          47.4729349,
          47.2489782,
          46.4182681,
          46.2020896,
          177.5015421,
          166.4388172,
          170.2999022,
          125.3817188,
          133.390735,
          121.627284,
          114.9548255,
          113.9667728,
          124.7202403,
          118.3242437,
          120.4060878,
          129.1482392,
          153.7069425,
          126.2875462,
          112.3061555,
          129.7325887,
          76.4713274,
          66.3883009,
          74.4948635,
          72.5182736,
          76.6809681,
          75.4510581,
          66.6085318,
          77.7610236,
          39.8546444,
          40.1795067,
          40.686841,
          38.4544224,
          38.8543617,
          39.1208434,
          39.4378622,
          38.8584119,
          39.5369627,
          38.3020044,
          39.8977411
         ],
         "type": "scattermapbox"
        }
       ],
       "layout": {
        "template": {
         "data": {
          "histogram2dcontour": [
           {
            "type": "histogram2dcontour",
            "colorbar": {
             "outlinewidth": 0,
             "ticks": ""
            },
            "colorscale": [
             [
              0.0,
              "#0d0887"
             ],
             [
              0.1111111111111111,
              "#46039f"
             ],
             [
              0.2222222222222222,
              "#7201a8"
             ],
             [
              0.3333333333333333,
              "#9c179e"
             ],
             [
              0.4444444444444444,
              "#bd3786"
             ],
             [
              0.5555555555555556,
              "#d8576b"
             ],
             [
              0.6666666666666666,
              "#ed7953"
             ],
             [
              0.7777777777777778,
              "#fb9f3a"
             ],
             [
              0.8888888888888888,
              "#fdca26"
             ],
             [
              1.0,
              "#f0f921"
             ]
            ]
           }
          ],
          "choropleth": [
           {
            "type": "choropleth",
            "colorbar": {
             "outlinewidth": 0,
             "ticks": ""
            }
           }
          ],
          "histogram2d": [
           {
            "type": "histogram2d",
            "colorbar": {
             "outlinewidth": 0,
             "ticks": ""
            },
            "colorscale": [
             [
              0.0,
              "#0d0887"
             ],
             [
              0.1111111111111111,
              "#46039f"
             ],
             [
              0.2222222222222222,
              "#7201a8"
             ],
             [
              0.3333333333333333,
              "#9c179e"
             ],
             [
              0.4444444444444444,
              "#bd3786"
             ],
             [
              0.5555555555555556,
              "#d8576b"
             ],
             [
              0.6666666666666666,
              "#ed7953"
             ],
             [
              0.7777777777777778,
              "#fb9f3a"
             ],
             [
              0.8888888888888888,
              "#fdca26"
             ],
             [
              1.0,
              "#f0f921"
             ]
            ]
           }
          ],
          "heatmap": [
           {
            "type": "heatmap",
            "colorbar": {
             "outlinewidth": 0,
             "ticks": ""
            },
            "colorscale": [
             [
              0.0,
              "#0d0887"
             ],
             [
              0.1111111111111111,
              "#46039f"
             ],
             [
              0.2222222222222222,
              "#7201a8"
             ],
             [
              0.3333333333333333,
              "#9c179e"
             ],
             [
              0.4444444444444444,
              "#bd3786"
             ],
             [
              0.5555555555555556,
              "#d8576b"
             ],
             [
              0.6666666666666666,
              "#ed7953"
             ],
             [
              0.7777777777777778,
              "#fb9f3a"
             ],
             [
              0.8888888888888888,
              "#fdca26"
             ],
             [
              1.0,
              "#f0f921"
             ]
            ]
           }
          ],
          "heatmapgl": [
           {
            "type": "heatmapgl",
            "colorbar": {
             "outlinewidth": 0,
             "ticks": ""
            },
            "colorscale": [
             [
              0.0,
              "#0d0887"
             ],
             [
              0.1111111111111111,
              "#46039f"
             ],
             [
              0.2222222222222222,
              "#7201a8"
             ],
             [
              0.3333333333333333,
              "#9c179e"
             ],
             [
              0.4444444444444444,
              "#bd3786"
             ],
             [
              0.5555555555555556,
              "#d8576b"
             ],
             [
              0.6666666666666666,
              "#ed7953"
             ],
             [
              0.7777777777777778,
              "#fb9f3a"
             ],
             [
              0.8888888888888888,
              "#fdca26"
             ],
             [
              1.0,
              "#f0f921"
             ]
            ]
           }
          ],
          "contourcarpet": [
           {
            "type": "contourcarpet",
            "colorbar": {
             "outlinewidth": 0,
             "ticks": ""
            }
           }
          ],
          "contour": [
           {
            "type": "contour",
            "colorbar": {
             "outlinewidth": 0,
             "ticks": ""
            },
            "colorscale": [
             [
              0.0,
              "#0d0887"
             ],
             [
              0.1111111111111111,
              "#46039f"
             ],
             [
              0.2222222222222222,
              "#7201a8"
             ],
             [
              0.3333333333333333,
              "#9c179e"
             ],
             [
              0.4444444444444444,
              "#bd3786"
             ],
             [
              0.5555555555555556,
              "#d8576b"
             ],
             [
              0.6666666666666666,
              "#ed7953"
             ],
             [
              0.7777777777777778,
              "#fb9f3a"
             ],
             [
              0.8888888888888888,
              "#fdca26"
             ],
             [
              1.0,
              "#f0f921"
             ]
            ]
           }
          ],
          "surface": [
           {
            "type": "surface",
            "colorbar": {
             "outlinewidth": 0,
             "ticks": ""
            },
            "colorscale": [
             [
              0.0,
              "#0d0887"
             ],
             [
              0.1111111111111111,
              "#46039f"
             ],
             [
              0.2222222222222222,
              "#7201a8"
             ],
             [
              0.3333333333333333,
              "#9c179e"
             ],
             [
              0.4444444444444444,
              "#bd3786"
             ],
             [
              0.5555555555555556,
              "#d8576b"
             ],
             [
              0.6666666666666666,
              "#ed7953"
             ],
             [
              0.7777777777777778,
              "#fb9f3a"
             ],
             [
              0.8888888888888888,
              "#fdca26"
             ],
             [
              1.0,
              "#f0f921"
             ]
            ]
           }
          ],
          "mesh3d": [
           {
            "type": "mesh3d",
            "colorbar": {
             "outlinewidth": 0,
             "ticks": ""
            }
           }
          ],
          "scatter": [
           {
            "fillpattern": {
             "fillmode": "overlay",
             "size": 10,
             "solidity": 0.2
            },
            "type": "scatter"
           }
          ],
          "parcoords": [
           {
            "type": "parcoords",
            "line": {
             "colorbar": {
              "outlinewidth": 0,
              "ticks": ""
             }
            }
           }
          ],
          "scatterpolargl": [
           {
            "type": "scatterpolargl",
            "marker": {
             "colorbar": {
              "outlinewidth": 0,
              "ticks": ""
             }
            }
           }
          ],
          "bar": [
           {
            "error_x": {
             "color": "#2a3f5f"
            },
            "error_y": {
             "color": "#2a3f5f"
            },
            "marker": {
             "line": {
              "color": "#E5ECF6",
              "width": 0.5
             },
             "pattern": {
              "fillmode": "overlay",
              "size": 10,
              "solidity": 0.2
             }
            },
            "type": "bar"
           }
          ],
          "scattergeo": [
           {
            "type": "scattergeo",
            "marker": {
             "colorbar": {
              "outlinewidth": 0,
              "ticks": ""
             }
            }
           }
          ],
          "scatterpolar": [
           {
            "type": "scatterpolar",
            "marker": {
             "colorbar": {
              "outlinewidth": 0,
              "ticks": ""
             }
            }
           }
          ],
          "histogram": [
           {
            "marker": {
             "pattern": {
              "fillmode": "overlay",
              "size": 10,
              "solidity": 0.2
             }
            },
            "type": "histogram"
           }
          ],
          "scattergl": [
           {
            "type": "scattergl",
            "marker": {
             "colorbar": {
              "outlinewidth": 0,
              "ticks": ""
             }
            }
           }
          ],
          "scatter3d": [
           {
            "type": "scatter3d",
            "line": {
             "colorbar": {
              "outlinewidth": 0,
              "ticks": ""
             }
            },
            "marker": {
             "colorbar": {
              "outlinewidth": 0,
              "ticks": ""
             }
            }
           }
          ],
          "scattermapbox": [
           {
            "type": "scattermapbox",
            "marker": {
             "colorbar": {
              "outlinewidth": 0,
              "ticks": ""
             }
            }
           }
          ],
          "scatterternary": [
           {
            "type": "scatterternary",
            "marker": {
             "colorbar": {
              "outlinewidth": 0,
              "ticks": ""
             }
            }
           }
          ],
          "scattercarpet": [
           {
            "type": "scattercarpet",
            "marker": {
             "colorbar": {
              "outlinewidth": 0,
              "ticks": ""
             }
            }
           }
          ],
          "carpet": [
           {
            "aaxis": {
             "endlinecolor": "#2a3f5f",
             "gridcolor": "white",
             "linecolor": "white",
             "minorgridcolor": "white",
             "startlinecolor": "#2a3f5f"
            },
            "baxis": {
             "endlinecolor": "#2a3f5f",
             "gridcolor": "white",
             "linecolor": "white",
             "minorgridcolor": "white",
             "startlinecolor": "#2a3f5f"
            },
            "type": "carpet"
           }
          ],
          "table": [
           {
            "cells": {
             "fill": {
              "color": "#EBF0F8"
             },
             "line": {
              "color": "white"
             }
            },
            "header": {
             "fill": {
              "color": "#C8D4E3"
             },
             "line": {
              "color": "white"
             }
            },
            "type": "table"
           }
          ],
          "barpolar": [
           {
            "marker": {
             "line": {
              "color": "#E5ECF6",
              "width": 0.5
             },
             "pattern": {
              "fillmode": "overlay",
              "size": 10,
              "solidity": 0.2
             }
            },
            "type": "barpolar"
           }
          ],
          "pie": [
           {
            "automargin": true,
            "type": "pie"
           }
          ]
         },
         "layout": {
          "autotypenumbers": "strict",
          "colorway": [
           "#636efa",
           "#EF553B",
           "#00cc96",
           "#ab63fa",
           "#FFA15A",
           "#19d3f3",
           "#FF6692",
           "#B6E880",
           "#FF97FF",
           "#FECB52"
          ],
          "font": {
           "color": "#2a3f5f"
          },
          "hovermode": "closest",
          "hoverlabel": {
           "align": "left"
          },
          "paper_bgcolor": "white",
          "plot_bgcolor": "#E5ECF6",
          "polar": {
           "bgcolor": "#E5ECF6",
           "angularaxis": {
            "gridcolor": "white",
            "linecolor": "white",
            "ticks": ""
           },
           "radialaxis": {
            "gridcolor": "white",
            "linecolor": "white",
            "ticks": ""
           }
          },
          "ternary": {
           "bgcolor": "#E5ECF6",
           "aaxis": {
            "gridcolor": "white",
            "linecolor": "white",
            "ticks": ""
           },
           "baxis": {
            "gridcolor": "white",
            "linecolor": "white",
            "ticks": ""
           },
           "caxis": {
            "gridcolor": "white",
            "linecolor": "white",
            "ticks": ""
           }
          },
          "coloraxis": {
           "colorbar": {
            "outlinewidth": 0,
            "ticks": ""
           }
          },
          "colorscale": {
           "sequential": [
            [
             0.0,
             "#0d0887"
            ],
            [
             0.1111111111111111,
             "#46039f"
            ],
            [
             0.2222222222222222,
             "#7201a8"
            ],
            [
             0.3333333333333333,
             "#9c179e"
            ],
            [
             0.4444444444444444,
             "#bd3786"
            ],
            [
             0.5555555555555556,
             "#d8576b"
            ],
            [
             0.6666666666666666,
             "#ed7953"
            ],
            [
             0.7777777777777778,
             "#fb9f3a"
            ],
            [
             0.8888888888888888,
             "#fdca26"
            ],
            [
             1.0,
             "#f0f921"
            ]
           ],
           "sequentialminus": [
            [
             0.0,
             "#0d0887"
            ],
            [
             0.1111111111111111,
             "#46039f"
            ],
            [
             0.2222222222222222,
             "#7201a8"
            ],
            [
             0.3333333333333333,
             "#9c179e"
            ],
            [
             0.4444444444444444,
             "#bd3786"
            ],
            [
             0.5555555555555556,
             "#d8576b"
            ],
            [
             0.6666666666666666,
             "#ed7953"
            ],
            [
             0.7777777777777778,
             "#fb9f3a"
            ],
            [
             0.8888888888888888,
             "#fdca26"
            ],
            [
             1.0,
             "#f0f921"
            ]
           ],
           "diverging": [
            [
             0,
             "#8e0152"
            ],
            [
             0.1,
             "#c51b7d"
            ],
            [
             0.2,
             "#de77ae"
            ],
            [
             0.3,
             "#f1b6da"
            ],
            [
             0.4,
             "#fde0ef"
            ],
            [
             0.5,
             "#f7f7f7"
            ],
            [
             0.6,
             "#e6f5d0"
            ],
            [
             0.7,
             "#b8e186"
            ],
            [
             0.8,
             "#7fbc41"
            ],
            [
             0.9,
             "#4d9221"
            ],
            [
             1,
             "#276419"
            ]
           ]
          },
          "xaxis": {
           "gridcolor": "white",
           "linecolor": "white",
           "ticks": "",
           "title": {
            "standoff": 15
           },
           "zerolinecolor": "white",
           "automargin": true,
           "zerolinewidth": 2
          },
          "yaxis": {
           "gridcolor": "white",
           "linecolor": "white",
           "ticks": "",
           "title": {
            "standoff": 15
           },
           "zerolinecolor": "white",
           "automargin": true,
           "zerolinewidth": 2
          },
          "scene": {
           "xaxis": {
            "backgroundcolor": "#E5ECF6",
            "gridcolor": "white",
            "linecolor": "white",
            "showbackground": true,
            "ticks": "",
            "zerolinecolor": "white",
            "gridwidth": 2
           },
           "yaxis": {
            "backgroundcolor": "#E5ECF6",
            "gridcolor": "white",
            "linecolor": "white",
            "showbackground": true,
            "ticks": "",
            "zerolinecolor": "white",
            "gridwidth": 2
           },
           "zaxis": {
            "backgroundcolor": "#E5ECF6",
            "gridcolor": "white",
            "linecolor": "white",
            "showbackground": true,
            "ticks": "",
            "zerolinecolor": "white",
            "gridwidth": 2
           }
          },
          "shapedefaults": {
           "line": {
            "color": "#2a3f5f"
           }
          },
          "annotationdefaults": {
           "arrowcolor": "#2a3f5f",
           "arrowhead": 0,
           "arrowwidth": 1
          },
          "geo": {
           "bgcolor": "white",
           "landcolor": "#E5ECF6",
           "subunitcolor": "white",
           "showland": true,
           "showlakes": true,
           "lakecolor": "white"
          },
          "title": {
           "x": 0.05
          },
          "mapbox": {
           "style": "light"
          }
         }
        },
        "mapbox": {
         "style": "open-street-map",
         "center": {
          "lat": 55.7540471,
          "lon": 37.620405
         }
        }
       },
       "config": {
        "plotlyServerURL": "https://plot.ly"
       }
      },
      "text/html": "<div>                            <div id=\"57f9c573-4e3a-42f5-bc01-9f33fd5493df\" class=\"plotly-graph-div\" style=\"height:525px; width:100%;\"></div>            <script type=\"text/javascript\">                require([\"plotly\"], function(Plotly) {                    window.PLOTLYENV=window.PLOTLYENV || {};                                    if (document.getElementById(\"57f9c573-4e3a-42f5-bc01-9f33fd5493df\")) {                    Plotly.newPlot(                        \"57f9c573-4e3a-42f5-bc01-9f33fd5493df\",                        [{\"lat\":[44.878414,44.6098268,51.9581028,52.4922513,53.3479968,51.996152,52.5393864,50.9979622,53.7063476,51.1581094,53.7913974,53.4119759,51.5012067,52.999463,52.9252146,50.9213415,50.290659,50.1064111,53.7340088,49.7941615,51.3614103,53.9871095,55.1546441,51.762481,52.0051886,64.5394289,61.066,61.5009724,61.2885948,61.2528972,65.8398078,62.7645265,64.4136851,61.6654674,63.9162928,64.5625385,61.3319616,62.1057272,46.3655652,48.2752034,48.5866291,46.110579,46.6916565,47.408999,55.8999056,52.5912896,54.1034582,53.9676488,55.4155753,55.0499867,54.2226707,55.4848318,53.4545764,52.7564939,54.2397689,52.9589532,56.088377,54.4815311,53.3616974,52.7204651,53.6300864,54.5999224,54.734944,54.3067375,56.2650146,50.6299647,50.5976472,50.6484585,50.2111207,50.4862958,51.2837123,50.8129041,50.7633747,51.2967101,50.7845099,50.4004883,53.2419535,53.5958178,53.5340397,52.4267015,53.1296524,52.7529119,53.0599771,52.537173,52.9154851,52.1483358,53.3739884,52.5852257,53.0170888,52.5791734,52.8461199,53.4554145,51.7112755,51.2865048,50.372713,50.346543,55.635614,51.8335853,56.391819,56.1280804,56.29773,56.2021036,55.6198751,56.3490152,56.3131822,56.1486863,56.3554349,56.3327254,55.9337222,55.452698,56.0180587,55.3387515,55.5630311,55.9298134,55.9166398,55.9960277,55.9939169,56.3749967,55.9498056,56.4274441,56.4937757,48.7070042,48.7978209,49.0554742,50.9768814,48.6889024,50.0651529,47.6310259,50.3205766,48.7068721,48.6936061,50.0708719,50.0165306,50.5296067,50.0500944,50.1380557,49.5663183,48.618917,50.7903789,49.7649148,59.3892583,60.0308381,60.7603913,59.2483905,61.0063465,58.8757553,59.5037764,59.8591523,60.9612823,59.5351837,59.4758605,59.9734998,58.8383117,59.9479423,59.1269212,51.0901649,49.9352454,51.3655754,50.8311818,51.6593332,50.4242134,50.9945626,51.3091524,51.0952211,50.8677905,50.453455,51.1954419,50.1701949,51.6951644,51.830932,42.8214424,42.1152296,42.058966,42.5650962,42.8916007,43.203825,43.8484083,42.9849159,43.2504665,44.6602467,48.7946446,49.0189345,51.5823759,50.3876058,50.0929703,53.7361398,51.9594977,51.2748592,52.2461454,51.3634856,52.0340142,51.8497035,57.2044698,56.5586946,57.4918141,56.9993792,57.4425463,57.0273052,56.9324606,57.4679066,57.4606031,57.3805743,56.9820688,57.1025975,56.8542719,57.2539276,56.8560234,56.5926877,57.3177781,43.3055248,43.1688611,43.5096646,43.2257841,43.3204196,55.5551233,52.544879,51.5230393,55.9609167,57.8468636,56.1513108,56.1208145,56.5847888,53.920693,52.2864036,57.7756595,54.8968931,54.1107238,53.0842668,51.6563983,55.9405334,54.557162,52.7565808,57.9430504,56.7928178,53.1369095,52.2102538,43.6819137,43.6281516,43.4845464,43.5578075,43.7589602,43.4839358,43.3981585,43.5671525,54.3866518,54.6513372,54.6588378,54.770638,54.5915455,54.9600185,54.7074702,54.9453423,54.5692156,54.4646036,55.0316524,54.6313814,54.4084705,54.9516574,54.8625126,54.4430986,54.7311437,54.9439286,54.6772897,55.0449714,55.0809336,54.6244751,46.0875083,45.3930912,46.3083344,55.1773714,55.0956803,55.2130096,55.1971758,53.7521926,55.0301833,54.5059848,54.0790111,54.0347201,54.7959473,54.8862447,53.8700828,55.0177123,54.9689785,54.3191471,54.4824939,55.0943144,54.0566016,54.409922,54.097296,54.7236477,54.7446445,52.9302415,53.1830375,53.036908,43.7732525,43.4437731,44.0838442,44.2269425,64.5378417,64.9543539,62.2059817,64.5889398,61.518881,62.9127626,60.9794025,61.7891264,61.5757191,61.8058821,63.7437572,61.703367,62.0787293,56.0786281,54.4220968,55.6693513,54.2859263,53.5210919,55.3910651,54.0059999,54.6674492,56.2127383,53.6865289,53.7125695,53.794315,53.5988055,54.6055,53.8604265,54.2351735,56.0622131,52.759313,55.2764707,55.7202694,58.8415239,56.2284817,58.4032152,58.6035264,58.5559424,59.340056,58.3034832,60.6290609,56.5243844,59.3955383,57.5597284,58.6698913,58.5389776,58.7311574,57.584196,56.2532741,57.1097477,57.3040326,67.4974082,63.8615274,62.5965137,66.0367316,62.3579068,65.148584,63.5989841,61.6686617,65.994147,63.5565514,58.4733277,57.4424559,58.3828191,58.8269323,57.768,57.8807152,58.3265441,57.4543369,58.2943349,59.0784867,58.753421,58.3760542,44.8679655,44.8950433,44.4584006,45.0012149,44.7651876,44.5630007,44.6344864,45.3605121,46.71157,45.4641703,45.0401604,45.4333007,44.9344404,44.8877025,44.6354363,45.1038699,44.7235026,46.0515432,45.2603626,43.5854551,45.2610949,45.615923,45.8546345,44.1105335,45.2227359,44.4122963,54.3473075,56.253907,56.2098468,55.9054121,55.9576784,69.4031364,58.4485261,56.2529035,55.9617752,56.1131564,67.4666901,56.2374037,56.2051282,58.6032644,56.0093879,58.221681,53.7104586,56.0113799,69.3489978,56.1202647,55.3141969,55.8131263,55.5389739,44.4164605,44.6764304,46.1059307,44.7514769,45.057202,45.7092306,45.190629,45.3562627,45.9537576,45.1341997,44.9482948,45.029058,44.8504679,45.0318393,45.4288991,44.4953612,56.262114,56.290809,55.4443883,54.9368539,55.2153947,55.0650077,56.0870344,55.2280246,55.2087637,52.1268464,52.3380202,51.7303637,51.6604083,51.6597148,51.2119324,51.5681314,51.1918927,52.0917728,51.8786014,59.4734797,59.4445408,59.9005958,60.0191278,60.7130801,60.6296236,59.565237,59.3766119,60.950855,59.3740435,59.4742862,59.8754216,59.6215133,59.9075226,60.7320936,58.7374031,59.3493847,60.044862,59.7043309,60.1100135,59.7726848,59.5132022,60.9127549,60.3660209,61.0330896,61.1111282,60.1446932,59.1178185,59.8772884,60.1401739,59.6272904,59.5407098,59.9443714,52.4874097,53.2577411,52.6152411,52.4004179,53.0156117,52.610249,52.0442648,53.24048,59.5681332,62.7805882,55.8623156,55.9738571,56.6343662,56.3334036,54.8465544,53.8770022,54.0391072,54.4248207,54.0581967,54.1809332,54.6310583,55.7540471,55.5276918,55.796389,55.4595766,55.4255379,55.343369,55.551725,56.0356499,55.3071519,56.3359513,55.6190582,55.8703276,55.6240869,56.3477457,55.9385999,55.4363283,55.7443143,56.741786,55.3830113,55.599803,54.762456,55.7297089,55.9741665,55.9062267,54.853337,56.3425605,55.102814,55.9161773,55.6597925,56.105426,55.8317203,56.4409979,55.5978959,55.5754955,55.5792277,55.7078257,56.0328881,55.8713214,54.9652077,55.5778163,55.676499,55.5069259,55.9105782,55.386185,55.8686133,55.6789455,54.8541006,55.8151421,55.7807244,56.4158326,55.4389322,54.8705984,56.0103638,54.8324412,55.5495132,55.7582621,55.6632776,55.7014744,56.3062548,54.9226466,56.185102,55.810648,54.886274,56.7308564,55.9590588,55.888657,56.2516982,56.010005,55.1508011,55.5777427,55.9233801,55.8780241,55.7847291,55.7170877,56.2890516,67.5677761,69.2491311,69.4003584,69.4132852,67.1567974,67.6150424,67.5661417,68.8786028,67.9386153,69.007721,68.1422058,68.0510344,67.373084,69.1989583,69.0766801,69.1921409,67.6379672,55.3945814,56.495036,56.1020828,56.3565458,57.8559204,56.2169751,55.989943,55.3207727,56.1307769,56.6449218,56.2376047,56.6404286,55.8205915,56.1432084,55.4296181,55.0326225,56.0262359,55.543811,56.3240627,55.9797564,54.8675792,55.5967718,54.9228268,56.7889794,55.5201515,57.4612572,56.7651262,57.6764293,58.3840197,57.9823766,58.5213846,58.8458379,58.3910296,58.5973723,58.1201281,57.990737,57.145108,59.1248394,55.35146,54.7582156,55.6692421,54.6267603,53.7343189,55.1945666,55.4685094,54.366055,55.028191,54.9945576,55.2146167,55.2251631,54.2206476,55.0906867,54.9096002,55.0598155,55.5689323,54.9848566,56.9160511,55.8703415,53.6778906,53.6523728,52.7881277,51.4649189,51.4783857,51.4037617,51.1964202,51.7875092,51.2294282,51.1633736,52.426685,51.036838,53.4438496,52.5054851,52.4284558,52.4002192,53.2788438,52.97454,52.9671298,52.9640996,53.2726916,53.1960836,53.1855463,53.1130888,53.5300905,53.7137496,53.1753314,52.4697595,53.9271974,53.0761357,59.1613221,59.4079923,58.0797571,58.3742532,58.5626082,58.8371721,58.469685,59.0512783,60.3901321,58.0822065,59.0167925,57.4283296,58.0995875,57.9336725,57.2889515,57.7180034,57.8852686,58.0102583,59.6482998,59.4277573,56.7781501,60.4011933,58.7842834,56.5160768,58.2974596,44.1622031,43.3501675,43.1111742,43.1164904,44.5539457,45.9308483,45.4780092,42.8239372,43.1280578,44.5901175,43.7971818,42.9706317,56.332208,58.7432429,57.826974,56.0201973,57.029807,56.3408431,56.710725,57.3451528,57.8145817,57.7765219,57.8194415,56.3374813,57.0637952,56.2908554,47.1121589,47.2676314,47.1383299,48.1769737,47.5165338,48.0448904,48.3350706,48.0435487,46.8495958,48.3205326,47.5773717,47.8831311,48.9260077,48.3511807,47.411919,47.757773,46.7038963,47.2224566,46.4752095,47.5177337,47.2094917,47.6477448,47.7085287,54.9373475,53.9246659,54.2297402,54.0376572,54.7256164,53.7067584,54.6254445,54.3508885,53.823543,55.1291721,54.4070719,54.0287312,53.4011981,53.2210298,52.7972914,53.0994565,53.1640488,53.3800848,53.6498299,53.1950306,53.1558674,53.5205348,52.928961,59.9391313,51.938831,51.8736062,52.0224231,51.5388697,52.0459865,51.3508505,51.4993591,51.023541,50.9598317,51.7133337,50.455199,52.3094237,52.0159921,52.2616271,51.533557,52.4951572,52.1147391,51.4854003,50.8974378,46.713152,47.3255783,46.6324545,45.2270954,48.6236334,46.6526899,53.5867839,49.238866,50.6730577,47.7620108,49.0815774,47.0408423,46.9591631,57.8475571,56.694632,57.3384177,57.0052277,56.9095924,56.7764795,57.3763758,56.9758903,58.0465803,58.3643685,58.8622073,59.9351707,56.7048206,56.8385216,56.8102931,60.6944496,57.6838362,56.414962,56.8465034,59.7665925,58.7051762,57.4299433,59.7636635,58.348651,56.612387,58.2826013,58.6348516,56.4370039,57.49131,56.6544959,57.910126,58.0748272,58.6309267,59.0538977,57.2472567,56.9080085,56.4956952,56.7986319,57.3717477,60.1533109,59.6047724,56.9918901,56.9076193,56.5005715,58.0434672,57.0122687,58.0393524,44.6167013,43.0417684,43.1755152,43.1937529,43.020588,43.1567628,43.7471342,55.6057916,55.2116983,55.5525228,55.2682105,54.146457,54.9136959,55.1950257,54.5837795,54.406244,53.9449558,54.9441093,55.1199661,54.782635,55.8308821,55.0564732,45.0989782,44.7816067,44.1485694,44.0446186,44.1320568,44.4032668,45.3684296,45.7181751,43.9052044,44.1054107,44.2087273,45.1297323,44.6226031,44.7544552,45.4932733,43.9617097,44.041091,45.328659,45.044516,51.8422192,52.6506335,52.5924489,52.8912389,53.4436216,52.6538833,52.7213154,51.9767841,56.5232864,54.8598642,54.9014619,56.0912567,54.4062891,54.974891,54.5363495,54.9641538,55.7567107,55.299053,55.8466651,55.7521699,55.7943584,56.1861392,55.4042867,54.5967034,55.7150413,55.895169,55.7270698,55.7434619,55.6313609,54.4281461,54.936516,55.3699139,56.6506724,57.7860089,55.8339056,57.8855767,58.6582598,57.568302,56.2566492,56.1760868,57.2579478,57.360194,56.8733213,56.7275204,58.0571446,57.0265168,57.1221304,56.2232566,57.1456744,56.262881,56.514876,56.8586059,57.04133,56.5012188,57.8787314,56.9907085,57.561869,58.3114253,56.6031285,60.732895,56.4845804,54.5083349,53.8114179,53.7701014,54.0820349,54.3542315,53.9678944,53.1464766,53.9698378,53.9319555,53.9417551,54.0109075,53.7096415,53.9338874,54.1343585,54.1920559,53.9730452,54.0984438,54.0020652,54.4795484,51.178452,51.7191047,52.1449619,51.2844502,51.5346393,56.5027463,56.1104858,58.2017299,57.1529744,56.6547289,57.0518149,58.1359233,56.852738,56.2659916,56.4427774,56.4615767,53.6533992,54.2167926,53.8549647,54.1447956,53.958964,54.3079415,50.2344147,46.8185743,47.5353379,50.5498936,53.1460657,48.9664966,48.4647258,52.6516647,53.7223325,53.1008083,54.0002888,53.8259342,63.7121099,62.2639527,61.2536939,61.6392863,61.0318712,61.0882676,60.9396698,62.1454701,61.7422169,60.7585833,62.1342888,61.3706913,61.2541083,60.1296954,61.0023984,61.3123568,54.9906527,54.9406399,53.8760961,56.0487158,54.7554548,55.1714905,55.4852323,53.0536197,55.8868784,54.7521438,55.116665,54.8903147,55.3386053,55.7061276,53.4072153,55.0456457,55.0709557,56.0536895,55.763154,54.3692764,55.0405288,54.9907827,56.0851495,54.8178249,54.0843745,54.9260812,54.9818567,55.1602624,54.448927,54.854662,43.2916774,43.3180145,43.3519142,43.2046547,43.120175,43.1488691,54.8397989,55.507,55.8406025,56.111923,56.1094977,55.8650213,56.1438298,55.4962415,55.9406974,64.7313924,68.0584191,69.7016661,58.6094283,67.5502451,63.7517616,60.7276196,62.536232,56.6599953,63.2828955,60.3758006,61.4843503,67.4582218,58.9586859,66.4071765,62.0281405,64.4457594,66.6592841,63.7940552,65.5377966,66.0839433,63.2018039,66.5492077,64.9118803,57.3091058,58.1860098,58.3620228,57.7881684,56.7360544,58.5062879,57.2051315,58.0485495,57.8674993,57.5224249,57.6215477],\"lon\":[39.190289,40.1006606,85.9603235,82.7793606,83.7798064,84.9839604,85.2138453,81.4643358,84.9315081,82.1872547,81.3545053,83.9311069,81.2078695,78.6459232,78.5729775,128.4739471,127.527198,129.4391813,127.265787,129.4112492,128.1219729,123.9437205,124.7468904,128.1219846,127.7005458,40.5169606,42.1032789,38.9636966,47.1003015,46.633242,44.2532273,40.3360076,40.8208143,40.2062947,38.0805031,39.8180934,46.920441,42.8996973,48.0559236,46.1906462,45.7368019,48.07333,47.8502476,47.2525345,53.9220144,58.3110998,54.1113129,58.4100419,55.5582214,55.9553186,55.0312373,54.8524765,56.0438751,55.7970197,57.9614547,55.9282838,54.2483061,53.4655972,55.9245224,58.6663783,55.9317089,53.6950623,55.9578468,59.4125461,54.929907,38.6880342,36.5856652,38.4005083,38.0998772,35.6663877,37.5347759,37.1896436,37.8775484,37.8350182,36.4887648,36.8877889,34.3652146,34.3551812,33.7302579,31.7360399,34.9888727,32.233911,32.8468129,31.9357991,33.4744058,34.4918415,34.1059172,32.760403,32.3938878,33.7660547,32.6757629,34.4159238,105.8673219,106.5230319,103.286699,106.4533516,109.3361505,107.5842223,38.7111123,40.4084376,42.2687398,42.6926111,40.6579929,40.9955183,38.7034257,38.8635701,41.3170576,39.391336,39.6247398,40.6124108,39.956551,41.6340046,42.0231362,39.4508075,39.1734526,40.3321855,40.0179653,38.5839667,40.8562939,40.4525692,39.6680539,44.5170339,44.7462538,44.8270085,44.7858202,43.5306303,45.3844202,43.1330872,44.8030699,44.5630857,45.1992692,43.2401512,45.4731658,42.6666439,46.8804277,45.20914,42.7360402,42.8541163,42.0288513,43.6648641,35.9377058,37.7890586,46.3054414,39.8355662,36.4495137,40.2485362,40.3441148,38.3748782,46.4814116,45.4576137,40.1114187,42.7589506,36.4425478,40.2000298,37.9090497,40.0318256,40.5590801,42.1008334,40.5976923,39.1969229,41.0162014,39.5184909,39.2162843,41.6173404,39.0407746,40.136874,42.2472726,39.6226965,39.0190454,40.8074182,47.1165263,48.1939354,48.2907452,47.8710051,47.6367066,46.8729636,46.7233699,47.5047181,46.5851292,45.6499523,132.9217207,131.0540102,116.6379549,116.5234779,118.0323936,119.7660867,116.5852383,108.846681,117.7117842,110.4590898,113.4994,116.0334461,41.9132201,40.1228906,42.1375625,40.9728272,42.168914,40.3776851,41.0931657,41.9608002,41.5122672,41.2808565,43.1683321,41.7298834,40.5353874,41.1054432,41.3800939,42.0458099,43.1110401,44.9094582,44.8131207,44.5901963,44.7645779,45.0476331,98.6643699,103.888543,104.1487532,97.8205348,114.1866287,101.6340035,101.1702926,104.114275,102.0491772,104.2807466,108.1109412,99.0314056,102.18015,103.3364093,103.7187545,98.0030145,100.5780603,103.6388109,102.7415734,105.7757343,103.0901268,104.0973294,43.5345036,44.0517314,43.60713,43.8575925,44.0102409,44.1402161,42.9213582,43.5865792,20.6418091,19.9140572,21.0501388,20.6039767,22.1942445,20.4753652,20.5073241,22.4928745,20.1690153,19.9453482,22.0324064,22.5713736,22.0134438,20.2277424,21.0998067,21.0085269,19.9981926,20.1514295,20.1357595,21.6742367,21.8886106,21.7969062,41.935537,47.3432602,44.2702088,36.6566951,36.677629,36.4926251,36.5952722,34.7386592,36.7394903,36.2516245,34.3076201,35.780768,35.9274842,37.1168701,34.4385915,36.4633603,35.8872168,35.2816918,34.9872239,36.6121639,35.9621646,34.0189631,35.3443568,37.1671,35.2424346,158.4057632,158.3883548,158.6559254,41.9143472,41.7415142,41.9711046,42.0466704,34.7799462,34.5949263,34.2682122,30.6016832,30.1996116,34.4568489,32.9725519,34.3596434,31.4640557,36.5329941,34.3126982,30.6916998,32.3499386,86.0201278,86.3037373,86.2744459,85.9475985,87.2771636,86.0467781,86.6366116,86.1797324,87.7454924,88.0702754,87.8055646,87.2142745,87.3371272,86.2809208,86.7183577,85.8030733,85.6207182,87.8476546,85.6152619,84.8886399,50.8460699,51.0614855,51.1331606,49.6679304,50.0316848,52.2414437,48.3475597,47.2612445,50.6782739,48.9638417,49.93575,52.1894564,48.8927723,50.1669249,48.9590272,51.2833642,50.0058097,47.8478737,64.061034,57.3165402,50.8732125,60.1152961,50.0719503,57.2239777,53.876293,50.8358151,57.5569423,53.7014239,41.5306822,41.1594201,42.3654013,44.3184927,40.927,43.8014197,44.757494,40.5723598,43.8780948,42.2878423,42.6884958,45.4062414,38.1618157,37.3163282,39.7299824,41.1324168,39.8781494,38.0790852,39.1354738,40.6918389,38.2763895,39.458949,38.9759647,40.5727951,37.9855795,40.5913245,40.7245341,41.0475175,37.7686135,38.1704875,38.1259774,39.7231548,37.4454412,38.9351837,40.1260267,39.0824904,39.6929577,39.5320258,93.4358377,90.4794397,89.5299336,94.9020967,92.3800687,86.1907218,92.1651083,93.532273,94.7091491,94.5888103,86.5812794,96.067267,95.7051096,99.1797962,92.8524806,92.5037872,91.6872907,90.4168775,88.2009846,93.3354121,89.8333918,94.3282601,89.1801044,34.0444797,34.4100624,33.6910012,33.8752176,34.5999029,34.3883372,33.367634,36.4674513,33.7921939,33.6033383,34.1001151,35.0901474,34.9762034,35.3824259,35.825165,34.166308,62.9387011,62.5800359,65.3161963,64.4203722,67.2451705,67.8873408,63.6297182,63.2901272,62.7478548,35.0739038,35.3516867,36.1925603,35.6572224,35.2612491,36.2755133,34.6802597,35.2720915,35.8538706,36.8910945,33.845688,29.4923355,32.3520756,30.6456718,28.7328336,28.5709314,30.1282473,28.2231659,29.1308372,28.6112444,32.0624947,30.981364,30.3934125,30.5121008,33.5521022,29.8465776,31.2484801,30.4571456,30.7874571,32.3141203,30.7988557,34.1772776,34.1567664,28.6135772,30.1587851,28.8725865,30.2095918,28.0881475,29.1291619,32.5601559,33.5072731,30.877812,31.0333365,39.9331142,39.1456184,38.5289342,38.9205032,39.143536,39.5947883,39.726401,39.9670973,150.8084956,148.1540281,48.3715083,48.0170245,47.8999706,46.546675,46.2411232,44.3696566,43.9191539,43.7845011,44.9490466,45.1862632,43.2161099,37.620405,37.065143,37.938283,38.4389742,38.264145,36.185694,37.7061984,35.9585112,38.7027953,36.5251837,36.9856793,37.1245043,37.8440276,37.526672,37.5101021,37.7664984,38.8498479,37.1757223,39.0358317,38.1224298,38.8850978,36.8554029,37.9207539,36.8601454,38.1904392,36.7240032,38.7531002,37.8545415,37.8631156,38.140838,37.3295266,38.2320307,37.0393709,36.6951995,38.9207723,38.9578093,37.4614035,38.200599,39.0260266,37.9033507,37.898125,36.024043,37.7363579,36.734484,38.4622104,37.263686,38.5599196,38.9869822,38.6596983,38.1733534,37.5703482,37.2182749,37.8471403,37.6210346,38.2728914,37.8618553,39.8656147,36.1959206,38.1502661,37.4033859,36.977631,38.175624,38.078228,37.5276003,38.0410235,37.4303702,37.9396017,38.379245,37.4533252,39.5445712,37.9783707,38.7806752,38.4447045,38.2192563,37.4831799,33.4067929,33.315341,32.4501496,30.7984312,32.4143218,33.663735,30.4741941,33.0262299,32.9359719,33.0685865,33.2669407,39.5077846,32.4975636,33.4508591,33.4177759,33.2383502,53.0069565,43.8408141,43.5758423,43.5135442,44.0646481,45.7761957,43.1596417,43.2718859,42.1678834,43.0626185,43.4723104,43.4599416,43.3872492,45.032337,44.1664198,42.5125538,44.4933807,45.035771,42.1887089,44.0053913,43.0995042,43.8013992,44.5448369,43.3448089,44.4902885,45.4813231,45.7833293,43.242077,46.6129009,33.9175929,33.2369436,31.2755394,32.2247401,33.2901557,35.8143898,30.309351,31.3554897,31.1787499,31.6866241,78.3464506,83.1070605,84.3906889,83.2951244,78.0422967,80.2829495,78.3242048,77.2973368,82.9211489,82.6937181,75.9739914,84.4104118,83.3724521,80.9592508,71.2816284,74.5653644,71.3503426,73.3674517,74.3649194,72.1954747,53.6472483,52.4326853,52.2624877,58.4436875,57.3612636,57.583163,58.3018192,55.1018828,58.4752777,54.9896726,53.1542745,59.874344,36.0076833,35.1415009,37.6039506,36.5038579,36.5749105,37.0437146,36.0696427,43.4183212,45.7026142,45.1689907,44.0469717,46.605092,43.6730217,46.0799857,45.0348625,44.2122414,43.1859073,45.6910796,57.5763459,56.8039427,54.6581309,58.3231716,57.8520572,57.554533,56.4130737,57.6471028,57.0535682,55.7479936,54.6572508,56.9438656,57.8086825,55.3356084,55.4688668,55.3872469,54.7161091,56.2342034,56.771009,56.6837872,54.1477965,56.4799933,56.1507138,56.0763049,57.8193615,133.2696209,132.1596175,132.3480082,131.8823937,135.5662716,133.7316907,133.4186199,132.8927361,133.1264567,132.8157288,131.9518229,132.4110196,30.5508641,27.8264809,29.9629389,29.9239983,29.3433083,30.1527573,28.6717519,28.3437593,27.622259,29.5436626,28.3317198,29.3668055,27.9236214,28.4724326,39.4232555,39.8756872,39.7507179,40.8033529,42.1984951,39.9484672,39.945891,40.1265822,40.312837,40.2689583,41.0967445,40.0781298,40.3984087,41.8309225,40.1042098,39.9363697,41.727594,39.718803,41.5410415,40.8114167,38.9350989,42.0931505,40.2159846,41.3913211,40.0227745,39.0091481,39.74654,39.5134398,40.0522274,39.7358609,41.9117422,39.5492421,40.1745338,40.3763426,41.7181803,49.4945176,50.6343776,51.1637392,49.9477382,48.670762,51.3438605,52.1235156,50.1069518,48.4744629,49.3894028,49.8673269,30.3159004,43.4999221,45.0003247,47.7827765,43.1839757,47.3873595,48.2762226,44.4710435,45.695044,46.9712016,46.7400339,48.1413153,45.3851877,48.7972223,43.7842248,46.034257,48.1045771,47.2023118,46.126722,142.1578559,142.5265804,142.7945071,142.799445,147.8796323,142.7803205,141.8630725,142.9412411,143.1008333,156.1282211,142.0615837,142.0692639,142.041688,142.737976,61.6693817,60.8343125,61.8947443,61.4581156,60.8180907,62.0463679,59.9517653,60.5650383,60.5560164,59.8265235,60.8103945,60.0798618,60.079138,60.6054911,61.3380029,60.4245069,63.057675,61.9188674,62.7119766,60.0011703,59.4839155,60.0624051,60.1934525,60.0408764,57.7636637,59.7645766,59.7981565,59.1137316,60.2183429,59.2953035,59.9812853,60.7025418,59.8520344,60.5944825,60.0956714,59.942926,60.2365298,59.9071591,61.3833842,59.9525245,60.5753882,60.4771018,62.0358093,60.8190003,65.274217,63.7320757,63.6981973,33.525355,44.2199715,44.2955775,44.5338707,44.6819182,44.1549483,44.6569607,31.1856206,34.2951663,34.9950502,31.5062809,33.2833222,33.3023162,32.401252,33.1749867,32.4398039,32.8480258,31.0794806,33.2336988,32.045251,34.2778793,32.6902302,43.4306455,44.1650339,43.4739851,42.8588653,43.0306461,43.8841877,41.708702,42.8970206,42.7168721,42.973135,43.138408,42.0288443,41.9476723,44.9865347,41.2153996,43.6342865,43.0661553,42.8565714,41.9689655,41.4617687,42.7286445,41.5101237,40.5104443,41.8115478,41.874285,41.452264,42.2529799,52.9943775,53.0745527,52.2970467,49.877067,53.2458065,49.0303882,52.7895849,48.2901209,52.0543794,52.0062972,48.5010954,48.7446846,49.1114975,50.8970238,49.5499838,52.4431906,51.4129016,52.3143347,53.1003968,52.3959165,51.8144669,50.8049337,48.8314533,50.6285784,32.2620163,36.6904983,32.9389741,34.0537771,37.2567558,34.5404016,32.0805315,34.5825515,37.7819693,37.6119436,37.3556605,36.8012716,37.1126156,34.1676009,35.4667605,32.7767459,33.1115372,34.3291002,34.9336396,35.9116761,34.9602344,31.6355466,35.0167348,86.1765257,79.5677821,82.9025829,84.8809926,77.604122,84.9481582,37.0478067,36.1382247,38.1225152,37.826724,38.2642236,38.3371824,38.0921657,38.5380808,37.9220351,37.7020148,38.2914024,37.2862352,37.6316141,36.4807419,37.6153842,38.1763201,36.2474142,37.5176288,37.6896048,90.5985129,94.4376882,93.9173396,91.5788609,92.9199675,66.5513613,69.4795776,68.2538558,65.5344099,66.3122992,53.9873096,52.6635038,53.2114896,54.193374,52.2137886,53.8037657,47.1181134,49.6262585,46.3533459,48.3910789,48.7768269,48.3748487,136.8792444,134.2550718,134.7553856,137.0079408,140.7111367,140.285174,135.0598942,90.0885686,91.4436721,91.4122454,90.2594446,91.3260229,66.6772226,74.4829794,75.1807763,72.179409,76.1025878,72.6164079,76.5696184,65.3946047,75.5941517,72.8365617,77.4584094,63.5667222,73.3961587,64.8038508,69.0184798,63.3365484,57.2783953,58.8051698,59.2169852,60.2318886,61.3243477,59.6725549,60.2358881,60.6478408,60.7421663,58.1983648,61.6179185,61.4034576,59.4385778,60.5563781,58.9791437,60.1077572,57.548478,59.6097202,60.7076198,60.8151894,59.0288975,57.6900155,60.7324914,58.4464194,61.5586831,58.152805,60.3773121,61.4008078,61.2581158,58.4226698,45.8723105,45.698291,46.1035645,46.0889364,45.539276,45.9009629,46.5721997,47.4918273,48.2577735,47.7142942,47.4791113,47.4729349,47.2489782,46.4182681,46.2020896,177.5015421,166.4388172,170.2999022,125.3817188,133.390735,121.627284,114.9548255,113.9667728,124.7202403,118.3242437,120.4060878,129.1482392,153.7069425,126.2875462,112.3061555,129.7325887,76.4713274,66.3883009,74.4948635,72.5182736,76.6809681,75.4510581,66.6085318,77.7610236,39.8546444,40.1795067,40.686841,38.4544224,38.8543617,39.1208434,39.4378622,38.8584119,39.5369627,38.3020044,39.8977411],\"type\":\"scattermapbox\"}],                        {\"template\":{\"data\":{\"histogram2dcontour\":[{\"type\":\"histogram2dcontour\",\"colorbar\":{\"outlinewidth\":0,\"ticks\":\"\"},\"colorscale\":[[0.0,\"#0d0887\"],[0.1111111111111111,\"#46039f\"],[0.2222222222222222,\"#7201a8\"],[0.3333333333333333,\"#9c179e\"],[0.4444444444444444,\"#bd3786\"],[0.5555555555555556,\"#d8576b\"],[0.6666666666666666,\"#ed7953\"],[0.7777777777777778,\"#fb9f3a\"],[0.8888888888888888,\"#fdca26\"],[1.0,\"#f0f921\"]]}],\"choropleth\":[{\"type\":\"choropleth\",\"colorbar\":{\"outlinewidth\":0,\"ticks\":\"\"}}],\"histogram2d\":[{\"type\":\"histogram2d\",\"colorbar\":{\"outlinewidth\":0,\"ticks\":\"\"},\"colorscale\":[[0.0,\"#0d0887\"],[0.1111111111111111,\"#46039f\"],[0.2222222222222222,\"#7201a8\"],[0.3333333333333333,\"#9c179e\"],[0.4444444444444444,\"#bd3786\"],[0.5555555555555556,\"#d8576b\"],[0.6666666666666666,\"#ed7953\"],[0.7777777777777778,\"#fb9f3a\"],[0.8888888888888888,\"#fdca26\"],[1.0,\"#f0f921\"]]}],\"heatmap\":[{\"type\":\"heatmap\",\"colorbar\":{\"outlinewidth\":0,\"ticks\":\"\"},\"colorscale\":[[0.0,\"#0d0887\"],[0.1111111111111111,\"#46039f\"],[0.2222222222222222,\"#7201a8\"],[0.3333333333333333,\"#9c179e\"],[0.4444444444444444,\"#bd3786\"],[0.5555555555555556,\"#d8576b\"],[0.6666666666666666,\"#ed7953\"],[0.7777777777777778,\"#fb9f3a\"],[0.8888888888888888,\"#fdca26\"],[1.0,\"#f0f921\"]]}],\"heatmapgl\":[{\"type\":\"heatmapgl\",\"colorbar\":{\"outlinewidth\":0,\"ticks\":\"\"},\"colorscale\":[[0.0,\"#0d0887\"],[0.1111111111111111,\"#46039f\"],[0.2222222222222222,\"#7201a8\"],[0.3333333333333333,\"#9c179e\"],[0.4444444444444444,\"#bd3786\"],[0.5555555555555556,\"#d8576b\"],[0.6666666666666666,\"#ed7953\"],[0.7777777777777778,\"#fb9f3a\"],[0.8888888888888888,\"#fdca26\"],[1.0,\"#f0f921\"]]}],\"contourcarpet\":[{\"type\":\"contourcarpet\",\"colorbar\":{\"outlinewidth\":0,\"ticks\":\"\"}}],\"contour\":[{\"type\":\"contour\",\"colorbar\":{\"outlinewidth\":0,\"ticks\":\"\"},\"colorscale\":[[0.0,\"#0d0887\"],[0.1111111111111111,\"#46039f\"],[0.2222222222222222,\"#7201a8\"],[0.3333333333333333,\"#9c179e\"],[0.4444444444444444,\"#bd3786\"],[0.5555555555555556,\"#d8576b\"],[0.6666666666666666,\"#ed7953\"],[0.7777777777777778,\"#fb9f3a\"],[0.8888888888888888,\"#fdca26\"],[1.0,\"#f0f921\"]]}],\"surface\":[{\"type\":\"surface\",\"colorbar\":{\"outlinewidth\":0,\"ticks\":\"\"},\"colorscale\":[[0.0,\"#0d0887\"],[0.1111111111111111,\"#46039f\"],[0.2222222222222222,\"#7201a8\"],[0.3333333333333333,\"#9c179e\"],[0.4444444444444444,\"#bd3786\"],[0.5555555555555556,\"#d8576b\"],[0.6666666666666666,\"#ed7953\"],[0.7777777777777778,\"#fb9f3a\"],[0.8888888888888888,\"#fdca26\"],[1.0,\"#f0f921\"]]}],\"mesh3d\":[{\"type\":\"mesh3d\",\"colorbar\":{\"outlinewidth\":0,\"ticks\":\"\"}}],\"scatter\":[{\"fillpattern\":{\"fillmode\":\"overlay\",\"size\":10,\"solidity\":0.2},\"type\":\"scatter\"}],\"parcoords\":[{\"type\":\"parcoords\",\"line\":{\"colorbar\":{\"outlinewidth\":0,\"ticks\":\"\"}}}],\"scatterpolargl\":[{\"type\":\"scatterpolargl\",\"marker\":{\"colorbar\":{\"outlinewidth\":0,\"ticks\":\"\"}}}],\"bar\":[{\"error_x\":{\"color\":\"#2a3f5f\"},\"error_y\":{\"color\":\"#2a3f5f\"},\"marker\":{\"line\":{\"color\":\"#E5ECF6\",\"width\":0.5},\"pattern\":{\"fillmode\":\"overlay\",\"size\":10,\"solidity\":0.2}},\"type\":\"bar\"}],\"scattergeo\":[{\"type\":\"scattergeo\",\"marker\":{\"colorbar\":{\"outlinewidth\":0,\"ticks\":\"\"}}}],\"scatterpolar\":[{\"type\":\"scatterpolar\",\"marker\":{\"colorbar\":{\"outlinewidth\":0,\"ticks\":\"\"}}}],\"histogram\":[{\"marker\":{\"pattern\":{\"fillmode\":\"overlay\",\"size\":10,\"solidity\":0.2}},\"type\":\"histogram\"}],\"scattergl\":[{\"type\":\"scattergl\",\"marker\":{\"colorbar\":{\"outlinewidth\":0,\"ticks\":\"\"}}}],\"scatter3d\":[{\"type\":\"scatter3d\",\"line\":{\"colorbar\":{\"outlinewidth\":0,\"ticks\":\"\"}},\"marker\":{\"colorbar\":{\"outlinewidth\":0,\"ticks\":\"\"}}}],\"scattermapbox\":[{\"type\":\"scattermapbox\",\"marker\":{\"colorbar\":{\"outlinewidth\":0,\"ticks\":\"\"}}}],\"scatterternary\":[{\"type\":\"scatterternary\",\"marker\":{\"colorbar\":{\"outlinewidth\":0,\"ticks\":\"\"}}}],\"scattercarpet\":[{\"type\":\"scattercarpet\",\"marker\":{\"colorbar\":{\"outlinewidth\":0,\"ticks\":\"\"}}}],\"carpet\":[{\"aaxis\":{\"endlinecolor\":\"#2a3f5f\",\"gridcolor\":\"white\",\"linecolor\":\"white\",\"minorgridcolor\":\"white\",\"startlinecolor\":\"#2a3f5f\"},\"baxis\":{\"endlinecolor\":\"#2a3f5f\",\"gridcolor\":\"white\",\"linecolor\":\"white\",\"minorgridcolor\":\"white\",\"startlinecolor\":\"#2a3f5f\"},\"type\":\"carpet\"}],\"table\":[{\"cells\":{\"fill\":{\"color\":\"#EBF0F8\"},\"line\":{\"color\":\"white\"}},\"header\":{\"fill\":{\"color\":\"#C8D4E3\"},\"line\":{\"color\":\"white\"}},\"type\":\"table\"}],\"barpolar\":[{\"marker\":{\"line\":{\"color\":\"#E5ECF6\",\"width\":0.5},\"pattern\":{\"fillmode\":\"overlay\",\"size\":10,\"solidity\":0.2}},\"type\":\"barpolar\"}],\"pie\":[{\"automargin\":true,\"type\":\"pie\"}]},\"layout\":{\"autotypenumbers\":\"strict\",\"colorway\":[\"#636efa\",\"#EF553B\",\"#00cc96\",\"#ab63fa\",\"#FFA15A\",\"#19d3f3\",\"#FF6692\",\"#B6E880\",\"#FF97FF\",\"#FECB52\"],\"font\":{\"color\":\"#2a3f5f\"},\"hovermode\":\"closest\",\"hoverlabel\":{\"align\":\"left\"},\"paper_bgcolor\":\"white\",\"plot_bgcolor\":\"#E5ECF6\",\"polar\":{\"bgcolor\":\"#E5ECF6\",\"angularaxis\":{\"gridcolor\":\"white\",\"linecolor\":\"white\",\"ticks\":\"\"},\"radialaxis\":{\"gridcolor\":\"white\",\"linecolor\":\"white\",\"ticks\":\"\"}},\"ternary\":{\"bgcolor\":\"#E5ECF6\",\"aaxis\":{\"gridcolor\":\"white\",\"linecolor\":\"white\",\"ticks\":\"\"},\"baxis\":{\"gridcolor\":\"white\",\"linecolor\":\"white\",\"ticks\":\"\"},\"caxis\":{\"gridcolor\":\"white\",\"linecolor\":\"white\",\"ticks\":\"\"}},\"coloraxis\":{\"colorbar\":{\"outlinewidth\":0,\"ticks\":\"\"}},\"colorscale\":{\"sequential\":[[0.0,\"#0d0887\"],[0.1111111111111111,\"#46039f\"],[0.2222222222222222,\"#7201a8\"],[0.3333333333333333,\"#9c179e\"],[0.4444444444444444,\"#bd3786\"],[0.5555555555555556,\"#d8576b\"],[0.6666666666666666,\"#ed7953\"],[0.7777777777777778,\"#fb9f3a\"],[0.8888888888888888,\"#fdca26\"],[1.0,\"#f0f921\"]],\"sequentialminus\":[[0.0,\"#0d0887\"],[0.1111111111111111,\"#46039f\"],[0.2222222222222222,\"#7201a8\"],[0.3333333333333333,\"#9c179e\"],[0.4444444444444444,\"#bd3786\"],[0.5555555555555556,\"#d8576b\"],[0.6666666666666666,\"#ed7953\"],[0.7777777777777778,\"#fb9f3a\"],[0.8888888888888888,\"#fdca26\"],[1.0,\"#f0f921\"]],\"diverging\":[[0,\"#8e0152\"],[0.1,\"#c51b7d\"],[0.2,\"#de77ae\"],[0.3,\"#f1b6da\"],[0.4,\"#fde0ef\"],[0.5,\"#f7f7f7\"],[0.6,\"#e6f5d0\"],[0.7,\"#b8e186\"],[0.8,\"#7fbc41\"],[0.9,\"#4d9221\"],[1,\"#276419\"]]},\"xaxis\":{\"gridcolor\":\"white\",\"linecolor\":\"white\",\"ticks\":\"\",\"title\":{\"standoff\":15},\"zerolinecolor\":\"white\",\"automargin\":true,\"zerolinewidth\":2},\"yaxis\":{\"gridcolor\":\"white\",\"linecolor\":\"white\",\"ticks\":\"\",\"title\":{\"standoff\":15},\"zerolinecolor\":\"white\",\"automargin\":true,\"zerolinewidth\":2},\"scene\":{\"xaxis\":{\"backgroundcolor\":\"#E5ECF6\",\"gridcolor\":\"white\",\"linecolor\":\"white\",\"showbackground\":true,\"ticks\":\"\",\"zerolinecolor\":\"white\",\"gridwidth\":2},\"yaxis\":{\"backgroundcolor\":\"#E5ECF6\",\"gridcolor\":\"white\",\"linecolor\":\"white\",\"showbackground\":true,\"ticks\":\"\",\"zerolinecolor\":\"white\",\"gridwidth\":2},\"zaxis\":{\"backgroundcolor\":\"#E5ECF6\",\"gridcolor\":\"white\",\"linecolor\":\"white\",\"showbackground\":true,\"ticks\":\"\",\"zerolinecolor\":\"white\",\"gridwidth\":2}},\"shapedefaults\":{\"line\":{\"color\":\"#2a3f5f\"}},\"annotationdefaults\":{\"arrowcolor\":\"#2a3f5f\",\"arrowhead\":0,\"arrowwidth\":1},\"geo\":{\"bgcolor\":\"white\",\"landcolor\":\"#E5ECF6\",\"subunitcolor\":\"white\",\"showland\":true,\"showlakes\":true,\"lakecolor\":\"white\"},\"title\":{\"x\":0.05},\"mapbox\":{\"style\":\"light\"}}},\"mapbox\":{\"style\":\"open-street-map\",\"center\":{\"lat\":55.7540471,\"lon\":37.620405}}},                        {\"responsive\": true}                    ).then(function(){\n                            \nvar gd = document.getElementById('57f9c573-4e3a-42f5-bc01-9f33fd5493df');\nvar x = new MutationObserver(function (mutations, observer) {{\n        var display = window.getComputedStyle(gd).display;\n        if (!display || display === 'none') {{\n            console.log([gd, 'removed!']);\n            Plotly.purge(gd);\n            observer.disconnect();\n        }}\n}});\n\n// Listen for the removal of the full notebook cells\nvar notebookContainer = gd.closest('#notebook-container');\nif (notebookContainer) {{\n    x.observe(notebookContainer, {childList: true});\n}}\n\n// Listen for the clearing of the current output cell\nvar outputEl = gd.closest('.output');\nif (outputEl) {{\n    x.observe(outputEl, {childList: true});\n}}\n\n                        })                };                });            </script>        </div>"
     },
     "metadata": {},
     "output_type": "display_data"
    }
   ],
   "source": [
    "cities = pd.read_csv('https://raw.githubusercontent.com/hflabs/city/master/city.csv')\n",
    "fig = go.Figure(go.Scattermapbox(lat=cities['geo_lat'], lon=cities['geo_lon']))\n",
    "capital = cities[cities['region']=='Москва']\n",
    "map_center = go.layout.mapbox.Center(lat=capital['geo_lat'].values[0], lon=capital['geo_lon'].values[0])\n",
    "fig.update_layout(mapbox_style=\"open-street-map\", mapbox=dict(center=map_center))\n",
    "fig.show()"
   ]
  },
  {
   "cell_type": "markdown",
   "id": "0e12330d",
   "metadata": {},
   "source": [
    "## Pie"
   ]
  },
  {
   "cell_type": "code",
   "execution_count": 247,
   "id": "cff09fca",
   "metadata": {},
   "outputs": [
    {
     "data": {
      "application/vnd.plotly.v1+json": {
       "data": [
        {
         "labels": [
          "Asia",
          "Europe",
          "Africa",
          "Americas",
          "Oceania"
         ],
         "name": "World GDP 1980",
         "scalegroup": "one",
         "values": [
          4,
          7,
          1,
          7,
          0.5
         ],
         "type": "pie"
        }
       ],
       "layout": {
        "template": {
         "data": {
          "histogram2dcontour": [
           {
            "type": "histogram2dcontour",
            "colorbar": {
             "outlinewidth": 0,
             "ticks": ""
            },
            "colorscale": [
             [
              0.0,
              "#0d0887"
             ],
             [
              0.1111111111111111,
              "#46039f"
             ],
             [
              0.2222222222222222,
              "#7201a8"
             ],
             [
              0.3333333333333333,
              "#9c179e"
             ],
             [
              0.4444444444444444,
              "#bd3786"
             ],
             [
              0.5555555555555556,
              "#d8576b"
             ],
             [
              0.6666666666666666,
              "#ed7953"
             ],
             [
              0.7777777777777778,
              "#fb9f3a"
             ],
             [
              0.8888888888888888,
              "#fdca26"
             ],
             [
              1.0,
              "#f0f921"
             ]
            ]
           }
          ],
          "choropleth": [
           {
            "type": "choropleth",
            "colorbar": {
             "outlinewidth": 0,
             "ticks": ""
            }
           }
          ],
          "histogram2d": [
           {
            "type": "histogram2d",
            "colorbar": {
             "outlinewidth": 0,
             "ticks": ""
            },
            "colorscale": [
             [
              0.0,
              "#0d0887"
             ],
             [
              0.1111111111111111,
              "#46039f"
             ],
             [
              0.2222222222222222,
              "#7201a8"
             ],
             [
              0.3333333333333333,
              "#9c179e"
             ],
             [
              0.4444444444444444,
              "#bd3786"
             ],
             [
              0.5555555555555556,
              "#d8576b"
             ],
             [
              0.6666666666666666,
              "#ed7953"
             ],
             [
              0.7777777777777778,
              "#fb9f3a"
             ],
             [
              0.8888888888888888,
              "#fdca26"
             ],
             [
              1.0,
              "#f0f921"
             ]
            ]
           }
          ],
          "heatmap": [
           {
            "type": "heatmap",
            "colorbar": {
             "outlinewidth": 0,
             "ticks": ""
            },
            "colorscale": [
             [
              0.0,
              "#0d0887"
             ],
             [
              0.1111111111111111,
              "#46039f"
             ],
             [
              0.2222222222222222,
              "#7201a8"
             ],
             [
              0.3333333333333333,
              "#9c179e"
             ],
             [
              0.4444444444444444,
              "#bd3786"
             ],
             [
              0.5555555555555556,
              "#d8576b"
             ],
             [
              0.6666666666666666,
              "#ed7953"
             ],
             [
              0.7777777777777778,
              "#fb9f3a"
             ],
             [
              0.8888888888888888,
              "#fdca26"
             ],
             [
              1.0,
              "#f0f921"
             ]
            ]
           }
          ],
          "heatmapgl": [
           {
            "type": "heatmapgl",
            "colorbar": {
             "outlinewidth": 0,
             "ticks": ""
            },
            "colorscale": [
             [
              0.0,
              "#0d0887"
             ],
             [
              0.1111111111111111,
              "#46039f"
             ],
             [
              0.2222222222222222,
              "#7201a8"
             ],
             [
              0.3333333333333333,
              "#9c179e"
             ],
             [
              0.4444444444444444,
              "#bd3786"
             ],
             [
              0.5555555555555556,
              "#d8576b"
             ],
             [
              0.6666666666666666,
              "#ed7953"
             ],
             [
              0.7777777777777778,
              "#fb9f3a"
             ],
             [
              0.8888888888888888,
              "#fdca26"
             ],
             [
              1.0,
              "#f0f921"
             ]
            ]
           }
          ],
          "contourcarpet": [
           {
            "type": "contourcarpet",
            "colorbar": {
             "outlinewidth": 0,
             "ticks": ""
            }
           }
          ],
          "contour": [
           {
            "type": "contour",
            "colorbar": {
             "outlinewidth": 0,
             "ticks": ""
            },
            "colorscale": [
             [
              0.0,
              "#0d0887"
             ],
             [
              0.1111111111111111,
              "#46039f"
             ],
             [
              0.2222222222222222,
              "#7201a8"
             ],
             [
              0.3333333333333333,
              "#9c179e"
             ],
             [
              0.4444444444444444,
              "#bd3786"
             ],
             [
              0.5555555555555556,
              "#d8576b"
             ],
             [
              0.6666666666666666,
              "#ed7953"
             ],
             [
              0.7777777777777778,
              "#fb9f3a"
             ],
             [
              0.8888888888888888,
              "#fdca26"
             ],
             [
              1.0,
              "#f0f921"
             ]
            ]
           }
          ],
          "surface": [
           {
            "type": "surface",
            "colorbar": {
             "outlinewidth": 0,
             "ticks": ""
            },
            "colorscale": [
             [
              0.0,
              "#0d0887"
             ],
             [
              0.1111111111111111,
              "#46039f"
             ],
             [
              0.2222222222222222,
              "#7201a8"
             ],
             [
              0.3333333333333333,
              "#9c179e"
             ],
             [
              0.4444444444444444,
              "#bd3786"
             ],
             [
              0.5555555555555556,
              "#d8576b"
             ],
             [
              0.6666666666666666,
              "#ed7953"
             ],
             [
              0.7777777777777778,
              "#fb9f3a"
             ],
             [
              0.8888888888888888,
              "#fdca26"
             ],
             [
              1.0,
              "#f0f921"
             ]
            ]
           }
          ],
          "mesh3d": [
           {
            "type": "mesh3d",
            "colorbar": {
             "outlinewidth": 0,
             "ticks": ""
            }
           }
          ],
          "scatter": [
           {
            "fillpattern": {
             "fillmode": "overlay",
             "size": 10,
             "solidity": 0.2
            },
            "type": "scatter"
           }
          ],
          "parcoords": [
           {
            "type": "parcoords",
            "line": {
             "colorbar": {
              "outlinewidth": 0,
              "ticks": ""
             }
            }
           }
          ],
          "scatterpolargl": [
           {
            "type": "scatterpolargl",
            "marker": {
             "colorbar": {
              "outlinewidth": 0,
              "ticks": ""
             }
            }
           }
          ],
          "bar": [
           {
            "error_x": {
             "color": "#2a3f5f"
            },
            "error_y": {
             "color": "#2a3f5f"
            },
            "marker": {
             "line": {
              "color": "#E5ECF6",
              "width": 0.5
             },
             "pattern": {
              "fillmode": "overlay",
              "size": 10,
              "solidity": 0.2
             }
            },
            "type": "bar"
           }
          ],
          "scattergeo": [
           {
            "type": "scattergeo",
            "marker": {
             "colorbar": {
              "outlinewidth": 0,
              "ticks": ""
             }
            }
           }
          ],
          "scatterpolar": [
           {
            "type": "scatterpolar",
            "marker": {
             "colorbar": {
              "outlinewidth": 0,
              "ticks": ""
             }
            }
           }
          ],
          "histogram": [
           {
            "marker": {
             "pattern": {
              "fillmode": "overlay",
              "size": 10,
              "solidity": 0.2
             }
            },
            "type": "histogram"
           }
          ],
          "scattergl": [
           {
            "type": "scattergl",
            "marker": {
             "colorbar": {
              "outlinewidth": 0,
              "ticks": ""
             }
            }
           }
          ],
          "scatter3d": [
           {
            "type": "scatter3d",
            "line": {
             "colorbar": {
              "outlinewidth": 0,
              "ticks": ""
             }
            },
            "marker": {
             "colorbar": {
              "outlinewidth": 0,
              "ticks": ""
             }
            }
           }
          ],
          "scattermapbox": [
           {
            "type": "scattermapbox",
            "marker": {
             "colorbar": {
              "outlinewidth": 0,
              "ticks": ""
             }
            }
           }
          ],
          "scatterternary": [
           {
            "type": "scatterternary",
            "marker": {
             "colorbar": {
              "outlinewidth": 0,
              "ticks": ""
             }
            }
           }
          ],
          "scattercarpet": [
           {
            "type": "scattercarpet",
            "marker": {
             "colorbar": {
              "outlinewidth": 0,
              "ticks": ""
             }
            }
           }
          ],
          "carpet": [
           {
            "aaxis": {
             "endlinecolor": "#2a3f5f",
             "gridcolor": "white",
             "linecolor": "white",
             "minorgridcolor": "white",
             "startlinecolor": "#2a3f5f"
            },
            "baxis": {
             "endlinecolor": "#2a3f5f",
             "gridcolor": "white",
             "linecolor": "white",
             "minorgridcolor": "white",
             "startlinecolor": "#2a3f5f"
            },
            "type": "carpet"
           }
          ],
          "table": [
           {
            "cells": {
             "fill": {
              "color": "#EBF0F8"
             },
             "line": {
              "color": "white"
             }
            },
            "header": {
             "fill": {
              "color": "#C8D4E3"
             },
             "line": {
              "color": "white"
             }
            },
            "type": "table"
           }
          ],
          "barpolar": [
           {
            "marker": {
             "line": {
              "color": "#E5ECF6",
              "width": 0.5
             },
             "pattern": {
              "fillmode": "overlay",
              "size": 10,
              "solidity": 0.2
             }
            },
            "type": "barpolar"
           }
          ],
          "pie": [
           {
            "automargin": true,
            "type": "pie"
           }
          ]
         },
         "layout": {
          "autotypenumbers": "strict",
          "colorway": [
           "#636efa",
           "#EF553B",
           "#00cc96",
           "#ab63fa",
           "#FFA15A",
           "#19d3f3",
           "#FF6692",
           "#B6E880",
           "#FF97FF",
           "#FECB52"
          ],
          "font": {
           "color": "#2a3f5f"
          },
          "hovermode": "closest",
          "hoverlabel": {
           "align": "left"
          },
          "paper_bgcolor": "white",
          "plot_bgcolor": "#E5ECF6",
          "polar": {
           "bgcolor": "#E5ECF6",
           "angularaxis": {
            "gridcolor": "white",
            "linecolor": "white",
            "ticks": ""
           },
           "radialaxis": {
            "gridcolor": "white",
            "linecolor": "white",
            "ticks": ""
           }
          },
          "ternary": {
           "bgcolor": "#E5ECF6",
           "aaxis": {
            "gridcolor": "white",
            "linecolor": "white",
            "ticks": ""
           },
           "baxis": {
            "gridcolor": "white",
            "linecolor": "white",
            "ticks": ""
           },
           "caxis": {
            "gridcolor": "white",
            "linecolor": "white",
            "ticks": ""
           }
          },
          "coloraxis": {
           "colorbar": {
            "outlinewidth": 0,
            "ticks": ""
           }
          },
          "colorscale": {
           "sequential": [
            [
             0.0,
             "#0d0887"
            ],
            [
             0.1111111111111111,
             "#46039f"
            ],
            [
             0.2222222222222222,
             "#7201a8"
            ],
            [
             0.3333333333333333,
             "#9c179e"
            ],
            [
             0.4444444444444444,
             "#bd3786"
            ],
            [
             0.5555555555555556,
             "#d8576b"
            ],
            [
             0.6666666666666666,
             "#ed7953"
            ],
            [
             0.7777777777777778,
             "#fb9f3a"
            ],
            [
             0.8888888888888888,
             "#fdca26"
            ],
            [
             1.0,
             "#f0f921"
            ]
           ],
           "sequentialminus": [
            [
             0.0,
             "#0d0887"
            ],
            [
             0.1111111111111111,
             "#46039f"
            ],
            [
             0.2222222222222222,
             "#7201a8"
            ],
            [
             0.3333333333333333,
             "#9c179e"
            ],
            [
             0.4444444444444444,
             "#bd3786"
            ],
            [
             0.5555555555555556,
             "#d8576b"
            ],
            [
             0.6666666666666666,
             "#ed7953"
            ],
            [
             0.7777777777777778,
             "#fb9f3a"
            ],
            [
             0.8888888888888888,
             "#fdca26"
            ],
            [
             1.0,
             "#f0f921"
            ]
           ],
           "diverging": [
            [
             0,
             "#8e0152"
            ],
            [
             0.1,
             "#c51b7d"
            ],
            [
             0.2,
             "#de77ae"
            ],
            [
             0.3,
             "#f1b6da"
            ],
            [
             0.4,
             "#fde0ef"
            ],
            [
             0.5,
             "#f7f7f7"
            ],
            [
             0.6,
             "#e6f5d0"
            ],
            [
             0.7,
             "#b8e186"
            ],
            [
             0.8,
             "#7fbc41"
            ],
            [
             0.9,
             "#4d9221"
            ],
            [
             1,
             "#276419"
            ]
           ]
          },
          "xaxis": {
           "gridcolor": "white",
           "linecolor": "white",
           "ticks": "",
           "title": {
            "standoff": 15
           },
           "zerolinecolor": "white",
           "automargin": true,
           "zerolinewidth": 2
          },
          "yaxis": {
           "gridcolor": "white",
           "linecolor": "white",
           "ticks": "",
           "title": {
            "standoff": 15
           },
           "zerolinecolor": "white",
           "automargin": true,
           "zerolinewidth": 2
          },
          "scene": {
           "xaxis": {
            "backgroundcolor": "#E5ECF6",
            "gridcolor": "white",
            "linecolor": "white",
            "showbackground": true,
            "ticks": "",
            "zerolinecolor": "white",
            "gridwidth": 2
           },
           "yaxis": {
            "backgroundcolor": "#E5ECF6",
            "gridcolor": "white",
            "linecolor": "white",
            "showbackground": true,
            "ticks": "",
            "zerolinecolor": "white",
            "gridwidth": 2
           },
           "zaxis": {
            "backgroundcolor": "#E5ECF6",
            "gridcolor": "white",
            "linecolor": "white",
            "showbackground": true,
            "ticks": "",
            "zerolinecolor": "white",
            "gridwidth": 2
           }
          },
          "shapedefaults": {
           "line": {
            "color": "#2a3f5f"
           }
          },
          "annotationdefaults": {
           "arrowcolor": "#2a3f5f",
           "arrowhead": 0,
           "arrowwidth": 1
          },
          "geo": {
           "bgcolor": "white",
           "landcolor": "#E5ECF6",
           "subunitcolor": "white",
           "showland": true,
           "showlakes": true,
           "lakecolor": "white"
          },
          "title": {
           "x": 0.05
          },
          "mapbox": {
           "style": "light"
          }
         }
        },
        "title": {
         "text": "World GDP"
        }
       },
       "config": {
        "plotlyServerURL": "https://plot.ly"
       }
      },
      "text/html": "<div>                            <div id=\"4fd80d73-f552-448d-8163-a732518b68fe\" class=\"plotly-graph-div\" style=\"height:525px; width:100%;\"></div>            <script type=\"text/javascript\">                require([\"plotly\"], function(Plotly) {                    window.PLOTLYENV=window.PLOTLYENV || {};                                    if (document.getElementById(\"4fd80d73-f552-448d-8163-a732518b68fe\")) {                    Plotly.newPlot(                        \"4fd80d73-f552-448d-8163-a732518b68fe\",                        [{\"labels\":[\"Asia\",\"Europe\",\"Africa\",\"Americas\",\"Oceania\"],\"name\":\"World GDP 1980\",\"scalegroup\":\"one\",\"values\":[4,7,1,7,0.5],\"type\":\"pie\"}],                        {\"template\":{\"data\":{\"histogram2dcontour\":[{\"type\":\"histogram2dcontour\",\"colorbar\":{\"outlinewidth\":0,\"ticks\":\"\"},\"colorscale\":[[0.0,\"#0d0887\"],[0.1111111111111111,\"#46039f\"],[0.2222222222222222,\"#7201a8\"],[0.3333333333333333,\"#9c179e\"],[0.4444444444444444,\"#bd3786\"],[0.5555555555555556,\"#d8576b\"],[0.6666666666666666,\"#ed7953\"],[0.7777777777777778,\"#fb9f3a\"],[0.8888888888888888,\"#fdca26\"],[1.0,\"#f0f921\"]]}],\"choropleth\":[{\"type\":\"choropleth\",\"colorbar\":{\"outlinewidth\":0,\"ticks\":\"\"}}],\"histogram2d\":[{\"type\":\"histogram2d\",\"colorbar\":{\"outlinewidth\":0,\"ticks\":\"\"},\"colorscale\":[[0.0,\"#0d0887\"],[0.1111111111111111,\"#46039f\"],[0.2222222222222222,\"#7201a8\"],[0.3333333333333333,\"#9c179e\"],[0.4444444444444444,\"#bd3786\"],[0.5555555555555556,\"#d8576b\"],[0.6666666666666666,\"#ed7953\"],[0.7777777777777778,\"#fb9f3a\"],[0.8888888888888888,\"#fdca26\"],[1.0,\"#f0f921\"]]}],\"heatmap\":[{\"type\":\"heatmap\",\"colorbar\":{\"outlinewidth\":0,\"ticks\":\"\"},\"colorscale\":[[0.0,\"#0d0887\"],[0.1111111111111111,\"#46039f\"],[0.2222222222222222,\"#7201a8\"],[0.3333333333333333,\"#9c179e\"],[0.4444444444444444,\"#bd3786\"],[0.5555555555555556,\"#d8576b\"],[0.6666666666666666,\"#ed7953\"],[0.7777777777777778,\"#fb9f3a\"],[0.8888888888888888,\"#fdca26\"],[1.0,\"#f0f921\"]]}],\"heatmapgl\":[{\"type\":\"heatmapgl\",\"colorbar\":{\"outlinewidth\":0,\"ticks\":\"\"},\"colorscale\":[[0.0,\"#0d0887\"],[0.1111111111111111,\"#46039f\"],[0.2222222222222222,\"#7201a8\"],[0.3333333333333333,\"#9c179e\"],[0.4444444444444444,\"#bd3786\"],[0.5555555555555556,\"#d8576b\"],[0.6666666666666666,\"#ed7953\"],[0.7777777777777778,\"#fb9f3a\"],[0.8888888888888888,\"#fdca26\"],[1.0,\"#f0f921\"]]}],\"contourcarpet\":[{\"type\":\"contourcarpet\",\"colorbar\":{\"outlinewidth\":0,\"ticks\":\"\"}}],\"contour\":[{\"type\":\"contour\",\"colorbar\":{\"outlinewidth\":0,\"ticks\":\"\"},\"colorscale\":[[0.0,\"#0d0887\"],[0.1111111111111111,\"#46039f\"],[0.2222222222222222,\"#7201a8\"],[0.3333333333333333,\"#9c179e\"],[0.4444444444444444,\"#bd3786\"],[0.5555555555555556,\"#d8576b\"],[0.6666666666666666,\"#ed7953\"],[0.7777777777777778,\"#fb9f3a\"],[0.8888888888888888,\"#fdca26\"],[1.0,\"#f0f921\"]]}],\"surface\":[{\"type\":\"surface\",\"colorbar\":{\"outlinewidth\":0,\"ticks\":\"\"},\"colorscale\":[[0.0,\"#0d0887\"],[0.1111111111111111,\"#46039f\"],[0.2222222222222222,\"#7201a8\"],[0.3333333333333333,\"#9c179e\"],[0.4444444444444444,\"#bd3786\"],[0.5555555555555556,\"#d8576b\"],[0.6666666666666666,\"#ed7953\"],[0.7777777777777778,\"#fb9f3a\"],[0.8888888888888888,\"#fdca26\"],[1.0,\"#f0f921\"]]}],\"mesh3d\":[{\"type\":\"mesh3d\",\"colorbar\":{\"outlinewidth\":0,\"ticks\":\"\"}}],\"scatter\":[{\"fillpattern\":{\"fillmode\":\"overlay\",\"size\":10,\"solidity\":0.2},\"type\":\"scatter\"}],\"parcoords\":[{\"type\":\"parcoords\",\"line\":{\"colorbar\":{\"outlinewidth\":0,\"ticks\":\"\"}}}],\"scatterpolargl\":[{\"type\":\"scatterpolargl\",\"marker\":{\"colorbar\":{\"outlinewidth\":0,\"ticks\":\"\"}}}],\"bar\":[{\"error_x\":{\"color\":\"#2a3f5f\"},\"error_y\":{\"color\":\"#2a3f5f\"},\"marker\":{\"line\":{\"color\":\"#E5ECF6\",\"width\":0.5},\"pattern\":{\"fillmode\":\"overlay\",\"size\":10,\"solidity\":0.2}},\"type\":\"bar\"}],\"scattergeo\":[{\"type\":\"scattergeo\",\"marker\":{\"colorbar\":{\"outlinewidth\":0,\"ticks\":\"\"}}}],\"scatterpolar\":[{\"type\":\"scatterpolar\",\"marker\":{\"colorbar\":{\"outlinewidth\":0,\"ticks\":\"\"}}}],\"histogram\":[{\"marker\":{\"pattern\":{\"fillmode\":\"overlay\",\"size\":10,\"solidity\":0.2}},\"type\":\"histogram\"}],\"scattergl\":[{\"type\":\"scattergl\",\"marker\":{\"colorbar\":{\"outlinewidth\":0,\"ticks\":\"\"}}}],\"scatter3d\":[{\"type\":\"scatter3d\",\"line\":{\"colorbar\":{\"outlinewidth\":0,\"ticks\":\"\"}},\"marker\":{\"colorbar\":{\"outlinewidth\":0,\"ticks\":\"\"}}}],\"scattermapbox\":[{\"type\":\"scattermapbox\",\"marker\":{\"colorbar\":{\"outlinewidth\":0,\"ticks\":\"\"}}}],\"scatterternary\":[{\"type\":\"scatterternary\",\"marker\":{\"colorbar\":{\"outlinewidth\":0,\"ticks\":\"\"}}}],\"scattercarpet\":[{\"type\":\"scattercarpet\",\"marker\":{\"colorbar\":{\"outlinewidth\":0,\"ticks\":\"\"}}}],\"carpet\":[{\"aaxis\":{\"endlinecolor\":\"#2a3f5f\",\"gridcolor\":\"white\",\"linecolor\":\"white\",\"minorgridcolor\":\"white\",\"startlinecolor\":\"#2a3f5f\"},\"baxis\":{\"endlinecolor\":\"#2a3f5f\",\"gridcolor\":\"white\",\"linecolor\":\"white\",\"minorgridcolor\":\"white\",\"startlinecolor\":\"#2a3f5f\"},\"type\":\"carpet\"}],\"table\":[{\"cells\":{\"fill\":{\"color\":\"#EBF0F8\"},\"line\":{\"color\":\"white\"}},\"header\":{\"fill\":{\"color\":\"#C8D4E3\"},\"line\":{\"color\":\"white\"}},\"type\":\"table\"}],\"barpolar\":[{\"marker\":{\"line\":{\"color\":\"#E5ECF6\",\"width\":0.5},\"pattern\":{\"fillmode\":\"overlay\",\"size\":10,\"solidity\":0.2}},\"type\":\"barpolar\"}],\"pie\":[{\"automargin\":true,\"type\":\"pie\"}]},\"layout\":{\"autotypenumbers\":\"strict\",\"colorway\":[\"#636efa\",\"#EF553B\",\"#00cc96\",\"#ab63fa\",\"#FFA15A\",\"#19d3f3\",\"#FF6692\",\"#B6E880\",\"#FF97FF\",\"#FECB52\"],\"font\":{\"color\":\"#2a3f5f\"},\"hovermode\":\"closest\",\"hoverlabel\":{\"align\":\"left\"},\"paper_bgcolor\":\"white\",\"plot_bgcolor\":\"#E5ECF6\",\"polar\":{\"bgcolor\":\"#E5ECF6\",\"angularaxis\":{\"gridcolor\":\"white\",\"linecolor\":\"white\",\"ticks\":\"\"},\"radialaxis\":{\"gridcolor\":\"white\",\"linecolor\":\"white\",\"ticks\":\"\"}},\"ternary\":{\"bgcolor\":\"#E5ECF6\",\"aaxis\":{\"gridcolor\":\"white\",\"linecolor\":\"white\",\"ticks\":\"\"},\"baxis\":{\"gridcolor\":\"white\",\"linecolor\":\"white\",\"ticks\":\"\"},\"caxis\":{\"gridcolor\":\"white\",\"linecolor\":\"white\",\"ticks\":\"\"}},\"coloraxis\":{\"colorbar\":{\"outlinewidth\":0,\"ticks\":\"\"}},\"colorscale\":{\"sequential\":[[0.0,\"#0d0887\"],[0.1111111111111111,\"#46039f\"],[0.2222222222222222,\"#7201a8\"],[0.3333333333333333,\"#9c179e\"],[0.4444444444444444,\"#bd3786\"],[0.5555555555555556,\"#d8576b\"],[0.6666666666666666,\"#ed7953\"],[0.7777777777777778,\"#fb9f3a\"],[0.8888888888888888,\"#fdca26\"],[1.0,\"#f0f921\"]],\"sequentialminus\":[[0.0,\"#0d0887\"],[0.1111111111111111,\"#46039f\"],[0.2222222222222222,\"#7201a8\"],[0.3333333333333333,\"#9c179e\"],[0.4444444444444444,\"#bd3786\"],[0.5555555555555556,\"#d8576b\"],[0.6666666666666666,\"#ed7953\"],[0.7777777777777778,\"#fb9f3a\"],[0.8888888888888888,\"#fdca26\"],[1.0,\"#f0f921\"]],\"diverging\":[[0,\"#8e0152\"],[0.1,\"#c51b7d\"],[0.2,\"#de77ae\"],[0.3,\"#f1b6da\"],[0.4,\"#fde0ef\"],[0.5,\"#f7f7f7\"],[0.6,\"#e6f5d0\"],[0.7,\"#b8e186\"],[0.8,\"#7fbc41\"],[0.9,\"#4d9221\"],[1,\"#276419\"]]},\"xaxis\":{\"gridcolor\":\"white\",\"linecolor\":\"white\",\"ticks\":\"\",\"title\":{\"standoff\":15},\"zerolinecolor\":\"white\",\"automargin\":true,\"zerolinewidth\":2},\"yaxis\":{\"gridcolor\":\"white\",\"linecolor\":\"white\",\"ticks\":\"\",\"title\":{\"standoff\":15},\"zerolinecolor\":\"white\",\"automargin\":true,\"zerolinewidth\":2},\"scene\":{\"xaxis\":{\"backgroundcolor\":\"#E5ECF6\",\"gridcolor\":\"white\",\"linecolor\":\"white\",\"showbackground\":true,\"ticks\":\"\",\"zerolinecolor\":\"white\",\"gridwidth\":2},\"yaxis\":{\"backgroundcolor\":\"#E5ECF6\",\"gridcolor\":\"white\",\"linecolor\":\"white\",\"showbackground\":true,\"ticks\":\"\",\"zerolinecolor\":\"white\",\"gridwidth\":2},\"zaxis\":{\"backgroundcolor\":\"#E5ECF6\",\"gridcolor\":\"white\",\"linecolor\":\"white\",\"showbackground\":true,\"ticks\":\"\",\"zerolinecolor\":\"white\",\"gridwidth\":2}},\"shapedefaults\":{\"line\":{\"color\":\"#2a3f5f\"}},\"annotationdefaults\":{\"arrowcolor\":\"#2a3f5f\",\"arrowhead\":0,\"arrowwidth\":1},\"geo\":{\"bgcolor\":\"white\",\"landcolor\":\"#E5ECF6\",\"subunitcolor\":\"white\",\"showland\":true,\"showlakes\":true,\"lakecolor\":\"white\"},\"title\":{\"x\":0.05},\"mapbox\":{\"style\":\"light\"}}},\"title\":{\"text\":\"World GDP\"}},                        {\"responsive\": true}                    ).then(function(){\n                            \nvar gd = document.getElementById('4fd80d73-f552-448d-8163-a732518b68fe');\nvar x = new MutationObserver(function (mutations, observer) {{\n        var display = window.getComputedStyle(gd).display;\n        if (!display || display === 'none') {{\n            console.log([gd, 'removed!']);\n            Plotly.purge(gd);\n            observer.disconnect();\n        }}\n}});\n\n// Listen for the removal of the full notebook cells\nvar notebookContainer = gd.closest('#notebook-container');\nif (notebookContainer) {{\n    x.observe(notebookContainer, {childList: true});\n}}\n\n// Listen for the clearing of the current output cell\nvar outputEl = gd.closest('.output');\nif (outputEl) {{\n    x.observe(outputEl, {childList: true});\n}}\n\n                        })                };                });            </script>        </div>"
     },
     "metadata": {},
     "output_type": "display_data"
    }
   ],
   "source": [
    "import plotly.graph_objects as go\n",
    "from plotly.subplots import make_subplots\n",
    "\n",
    "labels = [\"Asia\", \"Europe\", \"Africa\", \"Americas\", \"Oceania\"]\n",
    "\n",
    "fig = go.Figure()\n",
    "\n",
    "fig.add_trace(go.Pie(labels=labels, values=[4, 7, 1, 7, 0.5], scalegroup='one',\n",
    "                     name=\"World GDP 1980\"))\n",
    "\n",
    "fig.update_layout(title_text='World GDP')\n",
    "fig.show()"
   ]
  },
  {
   "cell_type": "markdown",
   "metadata": {
    "collapsed": false
   },
   "source": [
    "# Вопросы для самостоятельного изучения:\n",
    "- SciPy\n",
    "- SeaBorn"
   ]
  },
  {
   "cell_type": "markdown",
   "metadata": {
    "collapsed": false
   },
   "source": [
    "# Рекомендуемая литература:\n",
    "- Pandas:\n",
    "    - https://khashtamov.com/ru/pandas-introduction/\n",
    "    - https://pandas.pydata.org/docs/reference/io.html\n",
    "- matplotlib\n",
    "    - https://pyprog.pro/mpl/mpl_install.html\n",
    "    - https://matplotlib.org/stable/tutorials/introductory/usage.html\n",
    "- Plotly\n",
    "    - https://plotly.com/python/\n",
    "    - https://habr.com/ru/post/502958/"
   ]
  },
  {
   "cell_type": "markdown",
   "metadata": {
    "collapsed": false
   },
   "source": [
    "# Вопросы к зачету\n",
    "- Зачем нужны библиотеки numpy, pandas, matplotlib? Когда лучше использовать какую-то из них?\n",
    "- Из чего состоит график matplotlib?\n",
    "- Какие способы воздействовать на этот график?\n",
    "- Зачем нужен plotly?"
   ]
  },
  {
   "cell_type": "markdown",
   "metadata": {
    "collapsed": false
   },
   "source": []
  }
 ],
 "metadata": {
  "kernelspec": {
   "display_name": "Python 3.9.12 64-bit",
   "language": "python",
   "name": "python3"
  },
  "language_info": {
   "codemirror_mode": {
    "name": "ipython",
    "version": 3
   },
   "file_extension": ".py",
   "mimetype": "text/x-python",
   "name": "python",
   "nbconvert_exporter": "python",
   "pygments_lexer": "ipython3",
   "version": "3.9.13"
  },
  "toc": {
   "base_numbering": 1,
   "nav_menu": {},
   "number_sections": true,
   "sideBar": true,
   "skip_h1_title": false,
   "title_cell": "Table of Contents",
   "title_sidebar": "Contents",
   "toc_cell": false,
   "toc_position": {},
   "toc_section_display": true,
   "toc_window_display": false
  },
  "vscode": {
   "interpreter": {
    "hash": "b0fa6594d8f4cbf19f97940f81e996739fb7646882a419484c72d19e05852a7e"
   }
  }
 },
 "nbformat": 4,
 "nbformat_minor": 5
}
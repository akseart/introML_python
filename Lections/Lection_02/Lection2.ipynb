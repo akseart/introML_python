{
 "cells": [
  {
   "cell_type": "markdown",
   "id": "e1c02ece",
   "metadata": {},
   "source": [
    "# Введение в методы анализа данных. Язык Python."
   ]
  },
  {
   "cell_type": "markdown",
   "id": "fe4f0986",
   "metadata": {},
   "source": [
    "## Лекция 2:  Процедурный подход к написанию программ."
   ]
  },
  {
   "cell_type": "markdown",
   "id": "749e4b11",
   "metadata": {},
   "source": [
    "Аксентьев Артем (akseart@ya.ru)\n",
    "\n",
    "Ксемидов Борис (bworkboris@yandex.ru)"
   ]
  },
  {
   "cell_type": "markdown",
   "metadata": {},
   "source": [
    "# План\n",
    "1. Лекция\n",
    "2. Практические задания\n",
    "3. Выдача 1 ДЗ"
   ]
  },
  {
   "cell_type": "markdown",
   "metadata": {},
   "source": [
    "# Функции"
   ]
  },
  {
   "cell_type": "markdown",
   "metadata": {
    "collapsed": false
   },
   "source": [
    "DRY - don't repeat yourself «не повторяйся») — это принцип разработки программного обеспечения, нацеленный на снижение повторения информации различного рода, особенно в системах со множеством слоёв абстрагирования. Принцип DRY формулируется как: «Каждая часть знания должна иметь единственное, непротиворечивое и авторитетное представление в рамках системы».\n",
    "\n",
    "Когда принцип DRY применяется успешно, изменение единственного элемента системы не требует внесения изменений в другие, логически не связанные элементы."
   ]
  },
  {
   "cell_type": "code",
   "execution_count": null,
   "metadata": {},
   "outputs": [],
   "source": [
    "def foo():\n",
    "    print('Hello, world')\n",
    "\n",
    "foo()"
   ]
  },
  {
   "cell_type": "code",
   "execution_count": null,
   "metadata": {},
   "outputs": [],
   "source": [
    "def foo(a, b):\n",
    "    return a + b\n",
    "\n",
    "result = foo([1], [3])\n",
    "print(result)"
   ]
  },
  {
   "cell_type": "code",
   "execution_count": null,
   "metadata": {},
   "outputs": [],
   "source": [
    "foo(\"aaa\", \"bbb\")"
   ]
  },
  {
   "cell_type": "code",
   "execution_count": null,
   "metadata": {},
   "outputs": [],
   "source": [
    "def foo(a, b, c=10):\n",
    "    return a + b / c\n",
    "\n",
    "foo(2, 5)"
   ]
  },
  {
   "cell_type": "code",
   "execution_count": null,
   "metadata": {},
   "outputs": [],
   "source": [
    "foo(2, 5, 2)"
   ]
  },
  {
   "cell_type": "code",
   "execution_count": null,
   "metadata": {},
   "outputs": [],
   "source": [
    "def spam(a, b, c=10, d):\n",
    "        return a + b / c ** d\n",
    "\n",
    "spam(1, 2, 3)"
   ]
  },
  {
   "cell_type": "code",
   "execution_count": null,
   "metadata": {},
   "outputs": [],
   "source": [
    "def spam(a, b, c=10, *args, **kwargs):\n",
    "        d = sum(args)\n",
    "        print(args, kwargs)\n",
    "        if 'q' in kwargs:\n",
    "            d -= kwargs['q']\n",
    "        return a + b / c ** d\n",
    "\n",
    "spam(1, 2, 3, 10)"
   ]
  },
  {
   "cell_type": "code",
   "execution_count": null,
   "metadata": {},
   "outputs": [],
   "source": [
    "spam(1, 2, 3, 10, 20)"
   ]
  },
  {
   "cell_type": "code",
   "execution_count": null,
   "metadata": {},
   "outputs": [],
   "source": [
    "spam(1, 2, 3, 10, 20, q=5, another=10)"
   ]
  },
  {
   "cell_type": "code",
   "execution_count": null,
   "metadata": {},
   "outputs": [],
   "source": [
    "def spam(a, b, *_):\n",
    "    return a + b"
   ]
  },
  {
   "cell_type": "code",
   "execution_count": null,
   "metadata": {},
   "outputs": [],
   "source": [
    "spam(2, 3, 5, 7, 8, 3, 4, 5, 5, 6)"
   ]
  },
  {
   "cell_type": "markdown",
   "metadata": {
    "collapsed": false
   },
   "source": [
    "## lambda функции\n",
    "\n",
    "Анонимные функции в пару действий"
   ]
  },
  {
   "cell_type": "code",
   "execution_count": null,
   "metadata": {},
   "outputs": [],
   "source": [
    "foo = lambda x: len(x) % 5"
   ]
  },
  {
   "cell_type": "code",
   "execution_count": null,
   "metadata": {},
   "outputs": [],
   "source": [
    "foo(\"HelloHello123\")"
   ]
  },
  {
   "cell_type": "code",
   "execution_count": null,
   "metadata": {
    "collapsed": false,
    "pycharm": {
     "name": "#%%\n"
    }
   },
   "outputs": [],
   "source": [
    "sorted([\"Hello\", \"Hell\", \"M\"], key=lambda x: len(x) % 5, reverse=False)"
   ]
  },
  {
   "cell_type": "markdown",
   "metadata": {
    "collapsed": false
   },
   "source": [
    "## Области видимости функций"
   ]
  },
  {
   "cell_type": "code",
   "execution_count": null,
   "metadata": {
    "collapsed": false,
    "pycharm": {
     "name": "#%%\n"
    }
   },
   "outputs": [],
   "source": [
    "c = 10\n",
    "\n",
    "def foo(a, b):\n",
    "    c = 1\n",
    "    return a + b + c\n",
    "print(c)"
   ]
  },
  {
   "cell_type": "code",
   "execution_count": null,
   "metadata": {
    "collapsed": false,
    "pycharm": {
     "name": "#%%\n"
    }
   },
   "outputs": [],
   "source": [
    "foo(1, 100)"
   ]
  },
  {
   "cell_type": "code",
   "execution_count": null,
   "metadata": {
    "collapsed": false,
    "pycharm": {
     "name": "#%%\n"
    }
   },
   "outputs": [],
   "source": [
    "c = 10\n",
    "\n",
    "def foo(a, b):\n",
    "    p = 10\n",
    "    result = a + b + c\n",
    "    print(result)\n",
    "    # c = c + 1\n",
    "    return result / c\n",
    "\n",
    "foo(1, 100)\n",
    "\n",
    "print(p)"
   ]
  },
  {
   "cell_type": "markdown",
   "metadata": {
    "collapsed": false
   },
   "source": [
    "Области видимости в Python:\n",
    "- Локальная\n",
    "- Не локальная\n",
    "- Глобальная"
   ]
  },
  {
   "cell_type": "code",
   "execution_count": null,
   "metadata": {
    "collapsed": false,
    "pycharm": {
     "name": "#%%\n"
    }
   },
   "outputs": [],
   "source": [
    "def foo(seq):\n",
    "    for element in seq:\n",
    "        print(element)\n",
    "    print(element)\n",
    "\n",
    "element = 20\n",
    "foo([1, 2, 3])\n",
    "print(element)"
   ]
  },
  {
   "cell_type": "code",
   "execution_count": null,
   "metadata": {
    "collapsed": false,
    "pycharm": {
     "name": "#%%\n"
    }
   },
   "outputs": [],
   "source": [
    "c = 10\n",
    "def foo(a, b):\n",
    "    global c\n",
    "    result = a + b + c\n",
    "    c += 1\n",
    "    c = c + 1\n",
    "    return result / c\n",
    "\n",
    "print(foo(1, 100))\n",
    "print(c)"
   ]
  },
  {
   "cell_type": "code",
   "execution_count": null,
   "metadata": {},
   "outputs": [],
   "source": [
    "foo(1, 100)"
   ]
  },
  {
   "cell_type": "code",
   "execution_count": null,
   "metadata": {},
   "outputs": [],
   "source": [
    "print(c)"
   ]
  },
  {
   "cell_type": "code",
   "execution_count": null,
   "metadata": {
    "collapsed": false,
    "pycharm": {
     "name": "#%%\n"
    }
   },
   "outputs": [],
   "source": [
    "c = 20\n",
    "def foo1(a, b):\n",
    "    c = 10\n",
    "    def foo2(a, b):\n",
    "        nonlocal c\n",
    "        result = a + b + c\n",
    "        c += 1\n",
    "        print(c)\n",
    "        return result / c\n",
    "    print(c)\n",
    "    return foo2(a, b)\n",
    "\n",
    "print(foo1(1, 100))\n",
    "print(c)"
   ]
  },
  {
   "cell_type": "code",
   "execution_count": null,
   "metadata": {},
   "outputs": [],
   "source": [
    "a = [1, 2, 3]\n",
    "b = (1, 2, 3)\n",
    "\n",
    "def foo(a):\n",
    "    # a = a.copy()\n",
    "    # a[1] = 0\n",
    "    return sum(a)\n",
    "\n",
    "foo(b)"
   ]
  },
  {
   "cell_type": "code",
   "execution_count": null,
   "metadata": {},
   "outputs": [],
   "source": [
    "a"
   ]
  },
  {
   "cell_type": "markdown",
   "metadata": {},
   "source": [
    "# Операторы ввода вывода"
   ]
  },
  {
   "cell_type": "code",
   "execution_count": null,
   "metadata": {},
   "outputs": [],
   "source": [
    "input()"
   ]
  },
  {
   "cell_type": "code",
   "execution_count": null,
   "metadata": {},
   "outputs": [],
   "source": [
    "name = input(\"Как Вас зовут?  \")"
   ]
  },
  {
   "cell_type": "code",
   "execution_count": null,
   "metadata": {
    "collapsed": false,
    "pycharm": {
     "name": "#%%\n"
    }
   },
   "outputs": [],
   "source": [
    "name"
   ]
  },
  {
   "cell_type": "code",
   "execution_count": null,
   "metadata": {},
   "outputs": [],
   "source": [
    "a = input(\"Введите число a:\")\n",
    "b = input(\"Введите число b:\")\n",
    "\n",
    "a + b"
   ]
  },
  {
   "cell_type": "code",
   "execution_count": null,
   "metadata": {},
   "outputs": [],
   "source": [
    "a = int(input(\"Введите число a:\"))\n",
    "b = int(input(\"Введите число b:\"))\n",
    "\n",
    "a + b"
   ]
  },
  {
   "cell_type": "code",
   "execution_count": null,
   "metadata": {},
   "outputs": [],
   "source": [
    "a = map(int, input(\"Введите числа для суммирования: \").split())\n",
    "\n",
    "sum(a)"
   ]
  },
  {
   "cell_type": "code",
   "execution_count": null,
   "metadata": {},
   "outputs": [],
   "source": [
    "print(\"Hello world\")"
   ]
  },
  {
   "cell_type": "code",
   "execution_count": null,
   "metadata": {},
   "outputs": [],
   "source": [
    "print(\"Hello\", \"world\", \"!\")\n",
    "print(\"Hello\", \"world\", \"!\")\n",
    "\n",
    "print()\n",
    "\n",
    "print(\"Hello\", \"world\", \"!\", end='\\t')\n",
    "print(\"Hello\", \"world\", \"!\")"
   ]
  },
  {
   "cell_type": "code",
   "execution_count": null,
   "metadata": {},
   "outputs": [],
   "source": [
    "print(\"Hello\", \"world\", \"!\", sep='=')"
   ]
  },
  {
   "cell_type": "code",
   "execution_count": null,
   "metadata": {},
   "outputs": [],
   "source": [
    "print(\"Hello\", \"world\", \"!\", sep='+', end='\\t')\n",
    "print(\"Hello\", \"world\", \"!\", sep='+', end='12313314214312')\n"
   ]
  },
  {
   "cell_type": "code",
   "execution_count": null,
   "metadata": {
    "collapsed": false,
    "pycharm": {
     "name": "#%%\n"
    }
   },
   "outputs": [],
   "source": [
    "def my_print(*args, **kwargs):\n",
    "    sep = ' '\n",
    "    end = '\\n'\n",
    "    \n",
    "    if 'sep' in kwargs:\n",
    "        sep = kwargs['sep']\n",
    "    if 'end' in kwargs:\n",
    "        end = kwargs['end']\n",
    "\n",
    "    result = ''\n",
    "    for i in args:\n",
    "        result += i + sep\n",
    "    result += end\n",
    "    return result\n",
    "\n",
    "print(my_print(\"Hello\", \"world\", \"!\"))"
   ]
  },
  {
   "cell_type": "markdown",
   "metadata": {},
   "source": [
    "# Устройство памяти в Python  Идентификатор объекта"
   ]
  },
  {
   "cell_type": "code",
   "execution_count": null,
   "metadata": {},
   "outputs": [],
   "source": [
    "a = 100_000\n",
    "b = a\n",
    "c = 100_000\n",
    "\n",
    "id(a), id(b), id(c)"
   ]
  },
  {
   "cell_type": "code",
   "execution_count": null,
   "metadata": {
    "collapsed": false,
    "pycharm": {
     "name": "#%%\n"
    }
   },
   "outputs": [],
   "source": [
    "a is c, a == c, a is b"
   ]
  },
  {
   "cell_type": "code",
   "execution_count": null,
   "metadata": {},
   "outputs": [],
   "source": [
    "a = 256\n",
    "b = a\n",
    "c = 256\n",
    "id(a), id(b), id(c)"
   ]
  },
  {
   "cell_type": "code",
   "execution_count": null,
   "metadata": {
    "collapsed": false,
    "pycharm": {
     "name": "#%%\n"
    }
   },
   "outputs": [],
   "source": [
    "a is c"
   ]
  },
  {
   "cell_type": "code",
   "execution_count": null,
   "metadata": {},
   "outputs": [],
   "source": [
    "a = [1, 2, 3, 4, 5]\n",
    "b = a\n",
    "c = [1, 2, 3, 4, 5]\n",
    "id(a), id(b), id(c)"
   ]
  },
  {
   "cell_type": "code",
   "execution_count": null,
   "metadata": {},
   "outputs": [],
   "source": [
    "a[1] = 100\n",
    "print(a)\n",
    "print(b)\n",
    "print(c)"
   ]
  },
  {
   "cell_type": "code",
   "execution_count": null,
   "metadata": {},
   "outputs": [],
   "source": [
    "a = [1, 2, 3, 4, 5]\n",
    "b = a.copy()\n",
    "c = [1, 2, 3, 4, 5]\n",
    "id(a), id(b), id(c)"
   ]
  },
  {
   "cell_type": "code",
   "execution_count": null,
   "metadata": {},
   "outputs": [],
   "source": [
    "def foo(x, y):\n",
    "    return x + y ** 2\n",
    "    \n",
    "foo(1, 2)"
   ]
  },
  {
   "cell_type": "code",
   "execution_count": null,
   "metadata": {},
   "outputs": [],
   "source": [
    "f = foo\n",
    "id(f), id(foo)"
   ]
  },
  {
   "cell_type": "code",
   "execution_count": null,
   "metadata": {
    "collapsed": false,
    "pycharm": {
     "name": "#%%\n"
    }
   },
   "outputs": [],
   "source": [
    "f(1, 2)"
   ]
  },
  {
   "cell_type": "markdown",
   "metadata": {},
   "source": [
    "# Исключения"
   ]
  },
  {
   "cell_type": "markdown",
   "metadata": {},
   "source": [
    "- Обработка ошибок\n",
    "- Уведомление о событиях\n",
    "- Обработка особых ситуаций\n",
    "- Заключительные операции"
   ]
  },
  {
   "cell_type": "code",
   "execution_count": null,
   "metadata": {},
   "outputs": [],
   "source": [
    "1/0"
   ]
  },
  {
   "cell_type": "code",
   "execution_count": null,
   "metadata": {},
   "outputs": [],
   "source": [
    "try:\n",
    "    k = 1 / 0\n",
    "    ...\n",
    "except ArithmeticError as e:\n",
    "    k = 0\n",
    "    print(e)\n",
    "\n",
    "k"
   ]
  },
  {
   "cell_type": "code",
   "execution_count": null,
   "metadata": {},
   "outputs": [],
   "source": [
    "try:\n",
    "    k = 3 / 1\n",
    "except ArithmeticError as e:\n",
    "    k = 0\n",
    "    print(e)\n",
    "except NameError as e:\n",
    "    k = 1\n",
    "    print(e)\n",
    "else:\n",
    "    print(\"Всё хорошо\")\n",
    "finally:\n",
    "    print(\"Исполнится в любом случае\")\n",
    "k"
   ]
  },
  {
   "cell_type": "code",
   "execution_count": null,
   "metadata": {
    "collapsed": false,
    "pycharm": {
     "name": "#%%\n"
    }
   },
   "outputs": [],
   "source": [
    "raise KeyError(\"Key is not be str\")"
   ]
  },
  {
   "cell_type": "code",
   "execution_count": null,
   "metadata": {
    "collapsed": false,
    "pycharm": {
     "name": "#%%\n"
    }
   },
   "outputs": [],
   "source": [
    "try:\n",
    "    i = 0\n",
    "    while i < 10000000:\n",
    "        a = str(i)\n",
    "except BaseException:\n",
    "    print(\"Ошибка\")\n",
    "\n",
    "print(\"Этот код не должен выполняться после завершения программы\")"
   ]
  },
  {
   "cell_type": "markdown",
   "metadata": {
    "collapsed": false
   },
   "source": [
    "https://docs.python.org/3/library/exceptions.html"
   ]
  },
  {
   "cell_type": "markdown",
   "metadata": {},
   "source": [
    "# Файловый ввод-вывод"
   ]
  },
  {
   "cell_type": "markdown",
   "metadata": {},
   "source": [
    "## Чтение из файла"
   ]
  },
  {
   "cell_type": "code",
   "execution_count": null,
   "metadata": {},
   "outputs": [],
   "source": [
    "f = open('test_file_lesson2___.txt', 'r')\n",
    "f.read(1)"
   ]
  },
  {
   "cell_type": "code",
   "execution_count": null,
   "metadata": {},
   "outputs": [],
   "source": [
    "f.read()"
   ]
  },
  {
   "cell_type": "code",
   "execution_count": null,
   "metadata": {},
   "outputs": [],
   "source": [
    "f.close()"
   ]
  },
  {
   "cell_type": "markdown",
   "metadata": {},
   "source": [
    "## Запись в файл"
   ]
  },
  {
   "cell_type": "code",
   "execution_count": null,
   "metadata": {},
   "outputs": [],
   "source": [
    "!ls"
   ]
  },
  {
   "cell_type": "code",
   "execution_count": null,
   "metadata": {},
   "outputs": [],
   "source": [
    "l = [2, 3, 5, 7, 11, 13, 17, 19, 23, 29, 31, 37, 41]\n",
    "f = open('test_file_lesson2_1.txt', 'w')\n",
    "\n",
    "# f.write(l)\n",
    "\n",
    "f.write(str(l))"
   ]
  },
  {
   "cell_type": "code",
   "execution_count": null,
   "metadata": {
    "collapsed": false,
    "pycharm": {
     "name": "#%%\n"
    }
   },
   "outputs": [],
   "source": [
    "f.close()"
   ]
  },
  {
   "cell_type": "code",
   "execution_count": null,
   "metadata": {},
   "outputs": [],
   "source": [
    "f = open('test_file_lesson2_1.txt', 'w')\n",
    "for i in l:\n",
    "    f.write(str(i) + '\\n')\n",
    "f.close()"
   ]
  },
  {
   "cell_type": "markdown",
   "metadata": {},
   "source": [
    "## (Не)правильная работа с файлом"
   ]
  },
  {
   "cell_type": "code",
   "execution_count": null,
   "metadata": {},
   "outputs": [],
   "source": [
    "lst = []\n",
    "\n",
    "try:\n",
    "    f = open('test_file_lesson2_1.txt', 'r')\n",
    "except OSError as e:\n",
    "    print('Файл не может быть открыт', e)\n",
    "    ...\n",
    "else:\n",
    "    try:\n",
    "        for line in f:\n",
    "            lst.append(int(line))\n",
    "    except ValueError:\n",
    "        print(\"Неправильный формат файла\")\n",
    "    finally:\n",
    "        f.close()"
   ]
  },
  {
   "cell_type": "code",
   "execution_count": null,
   "metadata": {
    "collapsed": false,
    "pycharm": {
     "name": "#%%\n"
    }
   },
   "outputs": [],
   "source": [
    "lst"
   ]
  },
  {
   "cell_type": "markdown",
   "metadata": {},
   "source": [
    "## Менеджер контекста"
   ]
  },
  {
   "cell_type": "code",
   "execution_count": null,
   "metadata": {},
   "outputs": [],
   "source": [
    "f = open('11', 'r')\n",
    "...\n",
    "f.close()"
   ]
  },
  {
   "cell_type": "code",
   "execution_count": null,
   "metadata": {},
   "outputs": [],
   "source": [
    "with open('test_file_lesson.txt', 'r') as f:\n",
    "    print(f.read())\n",
    "\n",
    "print(...)"
   ]
  },
  {
   "cell_type": "code",
   "execution_count": null,
   "metadata": {},
   "outputs": [],
   "source": [
    "with open('test_file_lesson2.txt', 'r') as i, open('test_file_lesson2_1.txt', 'w') as w:\n",
    "    w.write(i.read())"
   ]
  },
  {
   "cell_type": "code",
   "execution_count": null,
   "metadata": {
    "collapsed": false,
    "pycharm": {
     "name": "#%%\n"
    }
   },
   "outputs": [],
   "source": [
    "with open('test_file_lesson2_1.txt', 'r') as f:\n",
    "    for line in f:\n",
    "        print(line, end='')"
   ]
  },
  {
   "cell_type": "code",
   "execution_count": null,
   "metadata": {},
   "outputs": [],
   "source": [
    "2+2*2"
   ]
  },
  {
   "cell_type": "code",
   "execution_count": null,
   "metadata": {},
   "outputs": [],
   "source": [
    "-5"
   ]
  },
  {
   "cell_type": "markdown",
   "metadata": {
    "collapsed": false
   },
   "source": [
    "# Приоритет операций"
   ]
  },
  {
   "cell_type": "markdown",
   "metadata": {
    "collapsed": false
   },
   "source": [
    "| Операция                                                                  | Описание                                                                                        |\n",
    "|---------------------------------------------------------------------------|-------------------------------------------------------------------------------------------------|\n",
    "| (expressions...), [expressions...], {key: value<br/>..}, {expressions...} | Связывание или выражение в скобках, отображение списка, отображение словаря, отображение набора |\n",
    "| x[index], x[index:index], x(arguments...), x.attribute                    | Индексирование, взятие среза, вызов или использование метода/атрибута                           |\n",
    "| **                                                                        | Возведение в степень(Единственный оператор приоритет которого справа налево)                    |\n",
    "| +x, -x, ~x                                                                | Унарные плюс, минус и битовое отрицание                                                         |\n",
    "| *, /, //, %                                                               | Умножение и все виды деления                                                                    |\n",
    "| +, -                                                                      | Сложение и отрицание                                                                            |\n",
    "| &                                                                         | Битовое И                                                                                       |\n",
    "| ^                                                                         | Битовый XOR                                                                                     |\n",
    "| `                                                                         | `                                                                                               |Битовое ИЛИ|\n",
    "| in, not in, is, is not, <, <=, >, >=, !=, ==                              | Сравнения, включая тесты на наличие элемента и идентичность                                     |\n",
    "| not x                                                                     | Логическое отрицание                                                                            |\n",
    "| and                                                                       | Логическое И                                                                                    |\n",
    "| or                                                                        | Логическое ИЛИ                                                                                  |\n",
    "| if – else                                                                 | Условное выражение                                                                              |\n",
    "| lambda                                                                    | Лямбда выражения                                                                                |"
   ]
  },
  {
   "cell_type": "markdown",
   "metadata": {},
   "source": [
    "# PEP-8"
   ]
  },
  {
   "cell_type": "markdown",
   "metadata": {},
   "source": [
    "## Внешний вид кода"
   ]
  },
  {
   "cell_type": "markdown",
   "metadata": {},
   "source": [
    "### Отступы"
   ]
  },
  {
   "cell_type": "markdown",
   "metadata": {},
   "source": [
    "Необходимо использовать 4 пробела для каждого уровня отступа(Современные IDE умеют менять tab на пробел). \n",
    "\n",
    "Использовать табуляцию следует, только для поддержания кода, который был написан с использованием табуляции. "
   ]
  },
  {
   "cell_type": "markdown",
   "metadata": {},
   "source": [
    "Python 3 запрещает смешивать табуляцию и пробелы в отступах!"
   ]
  },
  {
   "cell_type": "code",
   "execution_count": null,
   "metadata": {},
   "outputs": [],
   "source": [
    "def spam(a, b):\n",
    "    return 1\n",
    "\n",
    "def spam(a, b):\n",
    "    ...\n",
    "    return 1"
   ]
  },
  {
   "cell_type": "markdown",
   "metadata": {},
   "source": [
    "Длинные строки должны выравнивать обернутые элементы либо вертикально, либо с одним большим отступом:"
   ]
  },
  {
   "cell_type": "code",
   "execution_count": null,
   "metadata": {},
   "outputs": [],
   "source": [
    "# Выравниваем по скобке\n",
    "foo = long_function_name(var_one,\n",
    "                         var_two,\n",
    "                         var_three, \n",
    "                         var_four\n",
    "                        )\n",
    "\n",
    "# Выравниваем одним отступом, но большим\n",
    "def long_function_name(\n",
    "        var_one, var_two, var_three,\n",
    "        var_four):\n",
    "    print(var_one)"
   ]
  },
  {
   "cell_type": "code",
   "execution_count": null,
   "metadata": {},
   "outputs": [],
   "source": [
    "# В первой строке в таком случае не должно быть аргументов 12Q3213 123213123213 \n",
    "foo = long_function_name(\n",
    "    var_one, var_two,\n",
    "    var_three, var_four)\n",
    "\n",
    "# Аргументы сливаются с кодом\n",
    "def long_function_name(\n",
    "        var_one, var_two, var_three,\n",
    "        var_four):\n",
    "    print(var_one)"
   ]
  },
  {
   "cell_type": "markdown",
   "metadata": {},
   "source": [
    "### Максимальная длина строки"
   ]
  },
  {
   "cell_type": "markdown",
   "metadata": {},
   "source": [
    "Стандартная библиотека Python консервативна и требует ограничения длины строки в 79 символов (а строк документации/комментариев в 72)\n"
   ]
  },
  {
   "cell_type": "markdown",
   "metadata": {},
   "source": [
    "### Пробелы в выражениях "
   ]
  },
  {
   "cell_type": "markdown",
   "metadata": {},
   "source": [
    "Следует избегать лишних пробелов в следующих случаях:"
   ]
  },
  {
   "cell_type": "markdown",
   "metadata": {},
   "source": [
    "- Сразу внутри скобок, скобок или фигурных скобок:"
   ]
  },
  {
   "cell_type": "code",
   "execution_count": null,
   "metadata": {},
   "outputs": [],
   "source": [
    "# Correct\n",
    "spam(ham[1], {eggs: 2})\n",
    "\n",
    "# Wrong:\n",
    "spam( ham[ 1 ], { eggs: 2 } )"
   ]
  },
  {
   "cell_type": "markdown",
   "metadata": {},
   "source": [
    "- Между запятой и следующей закрывающей скобкой:"
   ]
  },
  {
   "cell_type": "code",
   "execution_count": null,
   "metadata": {},
   "outputs": [],
   "source": [
    "# Correct:\n",
    "foo = (0,)\n",
    "\n",
    "# Wrong:\n",
    "bar = (0, )"
   ]
  },
  {
   "cell_type": "markdown",
   "metadata": {},
   "source": [
    "- Непосредственно перед запятой, точкой с запятой или двоеточием:"
   ]
  },
  {
   "cell_type": "code",
   "execution_count": null,
   "metadata": {},
   "outputs": [],
   "source": [
    "x, y = 4, 5\n",
    "# Correct:\n",
    "if x == 4: print(x, y); x, y = y, x\n",
    "\n",
    "# Wrong:\n",
    "if x == 4 : print(x , y) ; x , y = y , x"
   ]
  },
  {
   "cell_type": "markdown",
   "metadata": {},
   "source": [
    "- Однако в срезе двоеточие действует как бинарный оператор и должно иметь равные значения с обеих сторон (рассматривая его как оператор с самым низким приоритетом). В расширенном срезе оба двоеточия должны иметь одинаковый интервал. Исключение: когда параметр среза опущен, пробел опускается:"
   ]
  },
  {
   "cell_type": "code",
   "execution_count": null,
   "metadata": {},
   "outputs": [],
   "source": [
    "# Correct:\n",
    "ham[1:9], ham[1:9:3], ham[:9:3], ham[1::3], ham[1:9:]\n",
    "ham[lower:upper], ham[lower:upper:], ham[lower::step]\n",
    "ham[lower+offset : upper+offset]\n",
    "ham[: upper_fn(x) : step_fn(x)], ham[:: step_fn(x)]\n",
    "ham[lower + offset : upper + offset]\n",
    "\n",
    "# Wrong:\n",
    "ham[lower + offset:upper + offset]\n",
    "ham[1: 9], ham[1 :9], ham[1:9 :3]\n",
    "ham[lower : : upper]\n",
    "ham[ : upper]"
   ]
  },
  {
   "cell_type": "markdown",
   "metadata": {},
   "source": [
    "- Непосредственно перед открывающей круглой скобкой, с которой начинается список аргументов вызова функции:"
   ]
  },
  {
   "cell_type": "code",
   "execution_count": null,
   "metadata": {},
   "outputs": [],
   "source": [
    "# Correct:\n",
    "spam(1)\n",
    "\n",
    "# Wrong:\n",
    "spam (1)"
   ]
  },
  {
   "cell_type": "markdown",
   "metadata": {},
   "source": [
    "- Непосредственно перед открывающей квадратной скобкой, запускающей индексацию или нарезку:"
   ]
  },
  {
   "cell_type": "code",
   "execution_count": null,
   "metadata": {},
   "outputs": [],
   "source": [
    "# Correct:\n",
    "dct['key'] = lst[index]\n",
    "\n",
    "# Wrong:\n",
    "dct ['key'] = lst [index]"
   ]
  },
  {
   "cell_type": "markdown",
   "metadata": {},
   "source": [
    "- Более одного пробела вокруг оператора присваивания (или другого), чтобы выровнять его с другим:"
   ]
  },
  {
   "cell_type": "code",
   "execution_count": null,
   "metadata": {},
   "outputs": [],
   "source": [
    "# Correct:\n",
    "x = 1\n",
    "y = 2\n",
    "long_variable = 3                                                               \n",
    "\n",
    "\n",
    "# Wrong:\n",
    "x             = 1\n",
    "y             = 2\n",
    "long_variable = 3"
   ]
  },
  {
   "cell_type": "code",
   "execution_count": null,
   "metadata": {},
   "outputs": [],
   "source": [
    "1+2+3+4+5+6+7\\ \n",
    "+8+9"
   ]
  },
  {
   "cell_type": "markdown",
   "metadata": {},
   "source": [
    "#### Ещё несколько советов"
   ]
  },
  {
   "cell_type": "markdown",
   "metadata": {},
   "source": [
    "- Избегайте конечных пробелов в любом месте. Поскольку обычно это невидимо, это может сбивать с толку: например, обратная косая черта, за которой следует пробел, и новая строка не считаются маркером продолжения строки. \n",
    "\n",
    "- Всегда следует окружать бинарные операторы одним пробелом с обеих сторон: присваивание (=), расширенное присваивание (=, - = и т. Д.), Сравнения (==, <,>,! =, <>, <=,> =, in, not in, is, is, не), Booleans (and, or, not).\n",
    "\n",
    "- Если используются операторы с разными приоритетами, рассмотрите возможность добавления пробелов вокруг операторов с самым низким приоритетом (-ами)."
   ]
  },
  {
   "cell_type": "code",
   "execution_count": null,
   "metadata": {},
   "outputs": [],
   "source": [
    "# Correct:\n",
    "i = i + 1\n",
    "submitted += 1                              \n",
    "x = x*2 - 1\n",
    "hypot2 = x*x + y*y\n",
    "c = (a+b) * (a-b)\n",
    "\n",
    "# Wrong:\n",
    "i=i+1\n",
    "submitted +=1\n",
    "x = x * 2 - 1\n",
    "hypot2 = x * x + y * y\n",
    "c = (a + b) * (a - b)"
   ]
  },
  {
   "cell_type": "markdown",
   "metadata": {},
   "source": [
    "- Не следует использовать пробелы вокруг знака =, когда он используется для указания аргумента ключевого слова или когда используется для указания значения по умолчанию для неаннотированного параметра функции:"
   ]
  },
  {
   "cell_type": "code",
   "execution_count": null,
   "metadata": {},
   "outputs": [],
   "source": [
    "# Correct:\n",
    "def complex(real, imag=0.0):\n",
    "    return magic(r=real, i=imag)\n",
    "\n",
    "    \n",
    "# Wrong:\n",
    "def complex(real, imag = 0.0):\n",
    "    return magic(r = real, i = imag)"
   ]
  },
  {
   "cell_type": "markdown",
   "metadata": {},
   "source": [
    "- Составные операторы (несколько операторов в одной строке) обычно не приветствуются:"
   ]
  },
  {
   "cell_type": "code",
   "execution_count": null,
   "metadata": {},
   "outputs": [],
   "source": [
    "# Correct:\n",
    "if foo == 'blah':\n",
    "    do_blah_thing()\n",
    "do_one()\n",
    "do_two()\n",
    "do_three()\n",
    "\n",
    "\n",
    "# Wrong:\n",
    "if foo == 'blah': do_blah_thing()\n",
    "do_one(); do_two(); do_three()"
   ]
  },
  {
   "cell_type": "markdown",
   "metadata": {},
   "source": [
    "## Комментарии"
   ]
  },
  {
   "cell_type": "markdown",
   "metadata": {},
   "source": [
    "- Комментарии, противоречащие коду, хуже, чем отсутствие комментариев. Всегда уделяйте первоочередное внимание обновлению комментариев при изменении кода!\n",
    "- Комментарии должны быть полными предложениями. Первое слово должно быть написано с заглавной буквы, если только это не идентификатор, начинающийся со строчной буквы (никогда не меняйте регистр идентификаторов!).\n",
    "- Блочные комментарии обычно состоят из одного или нескольких абзацев, составленных из полных предложений, причем каждое предложение заканчивается точкой.\n",
    "- Вы должны использовать два пробела после точки в конце предложения в комментариях, состоящих из нескольких предложений, за исключением последнего предложения.\n",
    "- Убедитесь, что ваши комментарии ясны и легко понятны другим носителям языка, на котором вы пишете.\n",
    "- Программисты Python из неанглоязычных стран: пишите свои комментарии на английском языке, если вы не уверены на 120%, что код никогда не будет прочитан людьми, которые не говорят на вашем языке."
   ]
  },
  {
   "cell_type": "markdown",
   "metadata": {},
   "source": [
    "### Блоки комментариев\n",
    "\n",
    "Комментарии блоков обычно применяются к некоторому (или ко всему) коду, который следует за ними, и имеют отступ на том же уровне, что и этот код. Каждая строка блочного комментария начинается с символа # и одного пробела (если это не текст с отступом внутри комментария).\n",
    "\n",
    "Абзацы внутри комментария блока разделяются строкой, содержащей один символ #."
   ]
  },
  {
   "cell_type": "code",
   "execution_count": null,
   "metadata": {},
   "outputs": [],
   "source": [
    "# Максимально длинный комментарий, которые описывает некоторое\n",
    "# непонятное место в коде.  Второе предложение.\n",
    "#\n",
    "# Этот код сделан учебным примером\n",
    "# и именно поэтому комментарий к нему пишется на русском языке.\n",
    "\n",
    "def hello():\n",
    "    return \"Hello\""
   ]
  },
  {
   "cell_type": "markdown",
   "metadata": {},
   "source": [
    "### Встроенные (inline) комментарии\n",
    "\n",
    "Экономно используйте встроенные комментарии.\n",
    "\n",
    "Встроенный комментарий - это комментарий в той же строке, что и оператор. Встроенные комментарии должны отделяться от оператора как минимум двумя пробелами. Они должны начинаться с символа # и одного пробела.\n",
    "\n",
    "Встроенные комментарии не нужны и фактически отвлекают, если в них говорится об очевидном. Не делайте этого:"
   ]
  },
  {
   "cell_type": "code",
   "execution_count": null,
   "metadata": {},
   "outputs": [],
   "source": [
    "x = x + 1  # Increment x"
   ]
  },
  {
   "cell_type": "code",
   "execution_count": null,
   "metadata": {},
   "outputs": [],
   "source": [
    "x = x + 1  # Compensate for border"
   ]
  },
  {
   "cell_type": "markdown",
   "metadata": {},
   "source": [
    "## Соглашение об именовании\n",
    "\n",
    "Обычно различают следующие стили именования:\n",
    "\n",
    "- b (single lowercase letter)\n",
    "- B (single uppercase letter)\n",
    "- lowercase\n",
    "- lower_case_with_underscores\n",
    "- UPPERCASE\n",
    "- UPPER_CASE_WITH_UNDERSCORES\n",
    "- CapitalizedWords (or CapWords, or CamelCase).\n",
    "Примечание. При использовании аббревиатур в CapWords делайте все буквы аббревиатуры заглавными. Таким образом, HTTPServerError лучше, чем HttpServerError.\n",
    "- mixedCase\n",
    "- Capitalized_Words_With_Underscores\n",
    "\n",
    "\n",
    "### Имена, которых следует избегать\n",
    "Никогда не используйте символы 'l' (строчная буква el), 'O' (прописная буква oh) или 'I' (заглавная буква eye) в качестве односимвольных имен переменных.\n",
    "\n",
    "В некоторых шрифтах эти символы неотличимы от цифр «единица» и «ноль». Когда возникает соблазн использовать «l», используйте вместо этого «L».\n",
    "\n",
    "### Константы\n",
    "\n",
    "Константы обычно определяются на уровне модуля и пишутся заглавными буквами с подчеркиванием, разделяющим слова. Пример: MAX_OVERFLOW и TOTAL.\n",
    "\n",
    "### Имена функций и переменных\n",
    "Имена функций должны быть в нижнем регистре, а слова должны быть разделены подчеркиванием по мере необходимости для повышения удобочитаемости.\n",
    "\n",
    "Имена переменных следуют тому же соглашению, что и имена функций.\n",
    "\n",
    "mixedCase разрешен только в тех контекстах, где это уже преобладающий стиль (например, threading.py), чтобы сохранить обратную совместимость."
   ]
  },
  {
   "cell_type": "code",
   "execution_count": null,
   "metadata": {
    "collapsed": false,
    "pycharm": {
     "name": "#%%\n"
    }
   },
   "outputs": [],
   "source": [
    "help(list)"
   ]
  },
  {
   "cell_type": "code",
   "execution_count": null,
   "metadata": {
    "collapsed": false,
    "pycharm": {
     "name": "#%%\n"
    }
   },
   "outputs": [],
   "source": [
    "help([1, 2].pop)"
   ]
  },
  {
   "attachments": {},
   "cell_type": "markdown",
   "id": "1147f2bc",
   "metadata": {},
   "source": [
    "<!-- # Вопросы для самостоятельного изучения: -->\n",
    "\n",
    "\n",
    "# Вопросы к зачету\n",
    "\n",
    "- Где и зачем используются исключения?\n",
    "- Что будет если не обработать исключение?\n",
    "\n",
    "- Как работать с файлами в стиле Python?\n",
    "- Что такое комментарий в Python?\n",
    "- Что такое идентификатор объекта, зачем он нужен? Почему на некоторых значениях стандартного типа идентификаторы объекта одинаковы, а на некоторых разные?"
   ]
  },
  {
   "cell_type": "markdown",
   "metadata": {},
   "source": []
  }
 ],
 "metadata": {
  "kernelspec": {
   "display_name": "Python 3.9.12 64-bit",
   "language": "python",
   "name": "python3"
  },
  "language_info": {
   "codemirror_mode": {
    "name": "ipython",
    "version": 3
   },
   "file_extension": ".py",
   "mimetype": "text/x-python",
   "name": "python",
   "nbconvert_exporter": "python",
   "pygments_lexer": "ipython3",
   "version": "3.8.11"
  },
  "orig_nbformat": 4,
  "vscode": {
   "interpreter": {
    "hash": "b0fa6594d8f4cbf19f97940f81e996739fb7646882a419484c72d19e05852a7e"
   }
  }
 },
 "nbformat": 4,
 "nbformat_minor": 2
}
